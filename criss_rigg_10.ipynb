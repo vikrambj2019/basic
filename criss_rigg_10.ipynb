{
  "nbformat": 4,
  "nbformat_minor": 0,
  "metadata": {
    "colab": {
      "provenance": [],
      "authorship_tag": "ABX9TyNBP7RGdq56O2RyP97w2D6s",
      "include_colab_link": true
    },
    "kernelspec": {
      "name": "python3",
      "display_name": "Python 3"
    },
    "language_info": {
      "name": "python"
    }
  },
  "cells": [
    {
      "cell_type": "markdown",
      "metadata": {
        "id": "view-in-github",
        "colab_type": "text"
      },
      "source": [
        "<a href=\"https://colab.research.google.com/github/vikrambj2019/basic/blob/master/criss_rigg_10.ipynb\" target=\"_parent\"><img src=\"https://colab.research.google.com/assets/colab-badge.svg\" alt=\"Open In Colab\"/></a>"
      ]
    },
    {
      "cell_type": "code",
      "source": [
        "import pandas as pd\n",
        "import numpy as np\n",
        "import matplotlib.pyplot as plt\n",
        "import seaborn as sns\n",
        "from statsmodels.tsa.seasonal import seasonal_decompose\n",
        "from statsmodels.tsa.statespace.sarimax import SARIMAX\n",
        "from prophet import Prophet\n",
        "from sklearn.ensemble import RandomForestRegressor\n",
        "import xgboost as XGBRegressor\n",
        "from sklearn.metrics import mean_absolute_error, mean_squared_error, mean_absolute_percentage_error\n",
        "import logging\n",
        "import os\n",
        "from datetime import datetime\n",
        "\n",
        "\n",
        "\n",
        "\n",
        "def load_and_prepare_data(file_path):\n",
        "    \"\"\"Load and prepare the data for forecasting\"\"\"\n",
        "\n",
        "\n",
        "    # Load the data\n",
        "    data = pd.read_csv(file_path)\n",
        "\n",
        "    # Convert string columns to numeric\n",
        "    for col in ['mmos', 'Med-Total', 'Rx']:\n",
        "        if data[col].dtype == 'object':\n",
        "            data[col] = data[col].str.replace(',', '').astype(float)\n",
        "\n",
        "    # Create date features\n",
        "    data['date'] = pd.to_datetime(data['YYYYMM'].astype(str), format='%Y%m')\n",
        "    data['year'] = data['date'].dt.year\n",
        "    data['month'] = data['date'].dt.month\n",
        "    data['quarter'] = data['date'].dt.quarter\n",
        "\n",
        "    # Split into training and validation\n",
        "    train_data = data[data['YYYYMM'] < 202501]\n",
        "    valid_data = data[data['YYYYMM'] >= 202501]\n",
        "\n",
        "\n",
        "\n",
        "\n",
        "\n",
        "    # Calculate and log PMPM (Per Member Per Month) metrics\n",
        "    data['med_pmpm'] = data['Med-Total'] / data['mmos']\n",
        "    data['rx_pmpm'] = data['Rx'] / data['mmos']\n",
        "\n",
        "\n",
        "    return data, train_data, valid_data\n"
      ],
      "metadata": {
        "id": "Tb8lGOVEW7kN"
      },
      "execution_count": 40,
      "outputs": []
    },
    {
      "cell_type": "code",
      "source": [
        "def explore_time_series(data):\n",
        "    \"\"\"Perform time series analysis and log insights\"\"\"\n",
        "    print(\"Performing time series analysis\")\n",
        "\n",
        "    # Aggregate data by month\n",
        "    monthly_data = data.groupby('YYYYMM').agg(\n",
        "        total_mmos=('mmos', 'sum'),\n",
        "        total_med=('Med-Total', 'sum'),\n",
        "        total_rx=('Rx', 'sum')\n",
        "    ).reset_index()\n",
        "\n",
        "    # Create date index for time series\n",
        "    monthly_data['date'] = pd.to_datetime(monthly_data['YYYYMM'].astype(str), format='%Y%m')\n",
        "    monthly_data.set_index('date', inplace=True)\n",
        "\n",
        "    # Calculate growth rates\n",
        "    monthly_data['mmos_growth'] = monthly_data['total_mmos'].pct_change() * 100\n",
        "    monthly_data['med_growth'] = monthly_data['total_med'].pct_change() * 100\n",
        "    monthly_data['rx_growth'] = monthly_data['total_rx'].pct_change() * 100\n",
        "\n",
        "    # Calculate PMPM at aggregate level\n",
        "    monthly_data['med_pmpm'] = monthly_data['total_med'] / monthly_data['total_mmos']\n",
        "    monthly_data['rx_pmpm'] = monthly_data['total_rx'] / monthly_data['total_mmos']\n",
        "\n",
        "    # Extract seasonality\n",
        "    try:\n",
        "        # Try additive decomposition\n",
        "        mmos_decomp = seasonal_decompose(monthly_data['total_mmos'].dropna(), model='additive', period=12)\n",
        "\n",
        "        # Get highest/lowest seasonal months\n",
        "        seasonal = pd.DataFrame(mmos_decomp.seasonal)\n",
        "        monthly_avg = seasonal.groupby(seasonal.index.month).mean()\n",
        "        highest_month = monthly_avg.idxmax()[0]\n",
        "        lowest_month = monthly_avg.idxmin()[0]\n",
        "\n",
        "        month_names = ['Jan', 'Feb', 'Mar', 'Apr', 'May', 'Jun', 'Jul', 'Aug', 'Sep', 'Oct', 'Nov', 'Dec']\n",
        "        print(f\"Membership typically peaks in {month_names[highest_month-1]} and is lowest in {month_names[lowest_month-1]} based on historical patterns\", \"SEASONALITY\")\n",
        "\n",
        "        # Check for trend\n",
        "        trend_start = mmos_decomp.trend.dropna().iloc[0]\n",
        "        trend_end = mmos_decomp.trend.dropna().iloc[-1]\n",
        "        trend_pct_change = ((trend_end / trend_start) - 1) * 100\n",
        "\n",
        "        if trend_pct_change > 5:\n",
        "            print(f\"Strong upward trend detected in membership with {trend_pct_change:.1f}% increase over the observed period\", \"TREND\")\n",
        "        elif trend_pct_change < -5:\n",
        "            print(f\"Downward trend detected in membership with {trend_pct_change:.1f}% decrease over the observed period\", \"TREND\")\n",
        "        else:\n",
        "            print(f\"Membership shows a relatively stable trend with only {trend_pct_change:.1f}% change over the observed period\", \"TREND\")\n",
        "\n",
        "    except Exception as e:\n",
        "        print(f\"Could not perform seasonal decomposition: {e}\")\n",
        "\n",
        "    # Analyze PMPM trends\n",
        "    med_pmpm_start = monthly_data['med_pmpm'].dropna().iloc[:3].mean()\n",
        "    med_pmpm_end = monthly_data['med_pmpm'].dropna().iloc[-3:].mean()\n",
        "    med_pmpm_change = ((med_pmpm_end / med_pmpm_start) - 1) * 100\n",
        "\n",
        "    rx_pmpm_start = monthly_data['rx_pmpm'].dropna().iloc[:3].mean()\n",
        "    rx_pmpm_end = monthly_data['rx_pmpm'].dropna().iloc[-3:].mean()\n",
        "    rx_pmpm_change = ((rx_pmpm_end / rx_pmpm_start) - 1) * 100\n",
        "\n",
        "    print(f\"Medical PMPM has changed by {med_pmpm_change:.1f}% from ${med_pmpm_start:.2f} to ${med_pmpm_end:.2f}\", \"PMPM\")\n",
        "    print(f\"Rx PMPM has changed by {rx_pmpm_change:.1f}% from ${rx_pmpm_start:.2f} to ${rx_pmpm_end:.2f}\", \"PMPM\")\n",
        "\n",
        "    # Analyze monthly volatility\n",
        "    mmos_volatility = monthly_data['mmos_growth'].std()\n",
        "    med_volatility = monthly_data['med_growth'].std()\n",
        "    rx_volatility = monthly_data['rx_growth'].std()\n",
        "\n",
        "    print(f\"Monthly volatility: Membership {mmos_volatility:.1f}%, Medical claims {med_volatility:.1f}%, Rx claims {rx_volatility:.1f}%\", \"VOLATILITY\")\n",
        "\n",
        "    # Calculate correlation between the metrics\n",
        "    corr_med_mmos = monthly_data['total_med'].corr(monthly_data['total_mmos'])\n",
        "    corr_rx_mmos = monthly_data['total_rx'].corr(monthly_data['total_mmos'])\n",
        "\n",
        "    print(f\"Correlation between Medical claims and Membership: {corr_med_mmos:.2f}\", \"CORRELATION\")\n",
        "    print(f\"Correlation between Rx claims and Membership: {corr_rx_mmos:.2f}\", \"CORRELATION\")\n",
        "\n",
        "    return monthly_data\n"
      ],
      "metadata": {
        "id": "7pcZpgwNB4QI"
      },
      "execution_count": 41,
      "outputs": []
    },
    {
      "cell_type": "code",
      "source": [
        "def analyze_segments_and_states(data):\n",
        "    \"\"\"Analyze segments and states to find patterns and log insights\"\"\"\n",
        "    print(\"Analyzing segments and states\")\n",
        "\n",
        "    # Segment analysis\n",
        "    segment_analysis = data.groupby('Segment').agg(\n",
        "        avg_mmos=('mmos', 'mean'),\n",
        "        total_mmos=('mmos', 'sum'),\n",
        "        med_pmpm=('Med-Total', lambda x: x.sum() / data.loc[x.index, 'mmos'].sum()),\n",
        "        rx_pmpm=('Rx', lambda x: x.sum() / data.loc[x.index, 'mmos'].sum())\n",
        "    ).sort_values('total_mmos', ascending=False)\n",
        "\n",
        "    print(\"Segment analysis:\")\n",
        "    print(segment_analysis)\n",
        "\n",
        "    for segment in segment_analysis.index:\n",
        "        print(f\"Segment {segment}: Avg membership {segment_analysis.loc[segment, 'avg_mmos']:.0f}, \" +\n",
        "                   f\"Med PMPM ${segment_analysis.loc[segment, 'med_pmpm']:.2f}, \" +\n",
        "                   f\"Rx PMPM ${segment_analysis.loc[segment, 'rx_pmpm']:.2f}\", \"SEGMENT\")\n",
        "\n",
        "    # Compare segments by PMPM\n",
        "    highest_med_pmpm = segment_analysis['med_pmpm'].idxmax()\n",
        "    lowest_med_pmpm = segment_analysis['med_pmpm'].idxmin()\n",
        "    highest_rx_pmpm = segment_analysis['rx_pmpm'].idxmax()\n",
        "    lowest_rx_pmpm = segment_analysis['rx_pmpm'].idxmin()\n",
        "\n",
        "    print(f\"Highest Medical PMPM in {highest_med_pmpm} (${segment_analysis.loc[highest_med_pmpm, 'med_pmpm']:.2f}), \" +\n",
        "               f\"lowest in {lowest_med_pmpm} (${segment_analysis.loc[lowest_med_pmpm, 'med_pmpm']:.2f})\", \"PMPM_VARIATION\")\n",
        "\n",
        "    print(f\"Highest Rx PMPM in {highest_rx_pmpm} (${segment_analysis.loc[highest_rx_pmpm, 'rx_pmpm']:.2f}), \" +\n",
        "               f\"lowest in {lowest_rx_pmpm} (${segment_analysis.loc[lowest_rx_pmpm, 'rx_pmpm']:.2f})\", \"PMPM_VARIATION\")\n",
        "\n",
        "    # State analysis\n",
        "    state_analysis = data.groupby('State').agg(\n",
        "        avg_mmos=('mmos', 'mean'),\n",
        "        total_mmos=('mmos', 'sum'),\n",
        "        med_pmpm=('Med-Total', lambda x: x.sum() / data.loc[x.index, 'mmos'].sum()),\n",
        "        rx_pmpm=('Rx', lambda x: x.sum() / data.loc[x.index, 'mmos'].sum())\n",
        "    ).sort_values('total_mmos', ascending=False)\n",
        "\n",
        "    print(\"State analysis:\")\n",
        "    print(state_analysis)\n",
        "\n",
        "    top_5_states = state_analysis.head(5)\n",
        "    for state in top_5_states.index:\n",
        "        print(f\"State {state}: Avg membership {top_5_states.loc[state, 'avg_mmos']:.0f}, \" +\n",
        "                   f\"Med PMPM ${top_5_states.loc[state, 'med_pmpm']:.2f}, \" +\n",
        "                   f\"Rx PMPM ${top_5_states.loc[state, 'rx_pmpm']:.2f}\", \"STATE\")\n",
        "\n",
        "    # Identify states with highest/lowest PMPMs\n",
        "    highest_med_pmpm_state = state_analysis['med_pmpm'].idxmax()\n",
        "    lowest_med_pmpm_state = state_analysis['med_pmpm'].idxmin()\n",
        "\n",
        "    print(f\"Highest Medical PMPM in state {highest_med_pmpm_state} (${state_analysis.loc[highest_med_pmpm_state, 'med_pmpm']:.2f}), \" +\n",
        "               f\"lowest in {lowest_med_pmpm_state} (${state_analysis.loc[lowest_med_pmpm_state, 'med_pmpm']:.2f})\", \"STATE_PMPM\")\n",
        "\n",
        "    return segment_analysis, state_analysis\n"
      ],
      "metadata": {
        "id": "KeHsMyUxZOfn"
      },
      "execution_count": 42,
      "outputs": []
    },
    {
      "cell_type": "code",
      "source": [
        "def train_and_forecast_sarima(data, target_col, group_cols=None):\n",
        "    \"\"\"\n",
        "    Train SARIMA model and generate forecasts\n",
        "\n",
        "    Parameters:\n",
        "    -----------\n",
        "    data : DataFrame\n",
        "        Input data\n",
        "    target_col : str\n",
        "        Target column to forecast\n",
        "    group_cols : list, optional\n",
        "        Columns to group by. If None, forecast is done at the aggregate level.\n",
        "\n",
        "    Returns:\n",
        "    --------\n",
        "    DataFrame\n",
        "        Forecasts for 2025\n",
        "    \"\"\"\n",
        "    print(f\"Training SARIMA model for {target_col}\")\n",
        "\n",
        "    if group_cols is None:\n",
        "        # Aggregate level forecast\n",
        "        monthly_data = data.groupby('YYYYMM').agg({target_col: 'sum'}).reset_index()\n",
        "        monthly_data['date'] = pd.to_datetime(monthly_data['YYYYMM'].astype(str), format='%Y%m')\n",
        "        monthly_data.set_index('date', inplace=True)\n",
        "\n",
        "        # Train data (pre-2025)\n",
        "        train_data = monthly_data[monthly_data.index < pd.Timestamp('2025-01-01')]\n",
        "\n",
        "        try:\n",
        "            # Fit SARIMA model\n",
        "            model = SARIMAX(train_data[target_col],\n",
        "                           order=(1, 1, 1),\n",
        "                           seasonal_order=(1, 1, 1, 12),\n",
        "                           enforce_stationarity=False)\n",
        "            results = model.fit(disp=False)\n",
        "\n",
        "            # Forecast for 2025\n",
        "            forecast_steps = 12\n",
        "            forecast = results.get_forecast(steps=forecast_steps)\n",
        "            forecast_mean = forecast.predicted_mean\n",
        "\n",
        "            # Create forecast dataframe\n",
        "            forecast_dates = pd.date_range(start=pd.Timestamp('2025-01-01'), periods=forecast_steps, freq='MS')\n",
        "            forecast_df = pd.DataFrame({\n",
        "                'date': forecast_dates,\n",
        "                'YYYYMM': forecast_dates.strftime('%Y%m').astype(int),\n",
        "                f'{target_col}_forecast': forecast_mean.values\n",
        "            })\n",
        "\n",
        "            print(f\"SARIMA aggregate forecast for {target_col} completed successfully\")\n",
        "            print(f\"SARIMA aggregate forecast for {target_col}: Mean for 2025 = {forecast_mean.mean():.2f}\", \"FORECAST\")\n",
        "\n",
        "            return forecast_df\n",
        "\n",
        "        except Exception as e:\n",
        "            #print(f\"Error in SARIMA forecasting for {target_col}: {e}\")\n",
        "            return pd.DataFrame(columns=['date', 'YYYYMM', f'{target_col}_forecast'])\n",
        "\n",
        "    else:\n",
        "        # Group level forecasts\n",
        "        forecasts = []\n",
        "\n",
        "        # Get unique combinations of group columns\n",
        "        groups = data[group_cols].drop_duplicates()\n",
        "\n",
        "        print(f\"Starting SARIMA forecasts for {len(groups)} groups\")\n",
        "\n",
        "        for _, group in groups.iterrows():\n",
        "            group_filter = True\n",
        "            for col in group_cols:\n",
        "                group_filter = group_filter & (data[col] == group[col])\n",
        "\n",
        "            group_data = data[group_filter].copy()\n",
        "\n",
        "            # Skip if not enough data\n",
        "            if len(group_data) < 12:\n",
        "                #print(f\"Skipping {group.to_dict()} due to insufficient data\")\n",
        "                continue\n",
        "\n",
        "            # Aggregate by month\n",
        "            monthly = group_data.groupby('YYYYMM').agg({target_col: 'sum'}).reset_index()\n",
        "            monthly['date'] = pd.to_datetime(monthly['YYYYMM'].astype(str), format='%Y%m')\n",
        "            monthly.set_index('date', inplace=True)\n",
        "\n",
        "            # Train data (pre-2025)\n",
        "            train_monthly = monthly[monthly.index < pd.Timestamp('2025-01-01')]\n",
        "\n",
        "            try:\n",
        "                # Fit SARIMA model with simplified parameters for stability\n",
        "                model = SARIMAX(train_monthly[target_col],\n",
        "                               order=(1, 1, 0),\n",
        "                               seasonal_order=(0, 1, 1, 12),\n",
        "                               enforce_stationarity=False)\n",
        "                results = model.fit(disp=False)\n",
        "\n",
        "                # Forecast for 2025\n",
        "                forecast_steps = 12\n",
        "                forecast = results.get_forecast(steps=forecast_steps)\n",
        "                forecast_mean = forecast.predicted_mean\n",
        "\n",
        "                # Create forecast dataframe\n",
        "                forecast_dates = pd.date_range(start=pd.Timestamp('2025-01-01'), periods=forecast_steps, freq='MS')\n",
        "                forecast_df = pd.DataFrame({\n",
        "                    'date': forecast_dates,\n",
        "                    'YYYYMM': forecast_dates.strftime('%Y%m').astype(int),\n",
        "                    f'{target_col}_forecast': forecast_mean.values\n",
        "                })\n",
        "\n",
        "                # Add group columns\n",
        "                for col in group_cols:\n",
        "                    forecast_df[col] = group[col]\n",
        "\n",
        "                forecasts.append(forecast_df)\n",
        "                print(f\"SARIMA forecast for {group.to_dict()} completed\")\n",
        "\n",
        "            except Exception as e:\n",
        "                #print(f\"Error in SARIMA forecasting for {group.to_dict()}: {e}\")\n",
        "\n",
        "              if not forecasts:\n",
        "                return pd.DataFrame(columns=['date', 'YYYYMM', f'{target_col}_forecast'] + group_cols)\n",
        "\n",
        "        # Combine all forecasts\n",
        "        all_forecasts = pd.concat(forecasts, ignore_index=True)\n",
        "        print(f\"SARIMA forecasting completed for {len(forecasts)} out of {len(groups)} groups\")\n",
        "\n",
        "        return all_forecasts\n",
        "\n"
      ],
      "metadata": {
        "id": "dWtBSanDb3jB"
      },
      "execution_count": 53,
      "outputs": []
    },
    {
      "cell_type": "code",
      "source": [
        "#-----Prophet model------------------------------------------------------------------------------------\n",
        "def train_and_forecast_prophet(data, target_col, group_cols=None):\n",
        "    \"\"\"\n",
        "    Train Prophet model and generate forecasts\n",
        "\n",
        "    Parameters:\n",
        "    -----------\n",
        "    data : DataFrame\n",
        "        Input data\n",
        "    target_col : str\n",
        "        Target column to forecast\n",
        "    group_cols : list, optional\n",
        "        Columns to group by. If None, forecast is done at the aggregate level.\n",
        "\n",
        "    Returns:\n",
        "    --------\n",
        "    DataFrame\n",
        "        Forecasts for 2025\n",
        "    \"\"\"\n",
        "    print(f\"Training Prophet model for {target_col}\")\n",
        "\n",
        "    if group_cols is None:\n",
        "        # Aggregate level forecast\n",
        "        monthly_data = data.groupby('YYYYMM').agg({target_col: 'sum'}).reset_index()\n",
        "        monthly_data['ds'] = pd.to_datetime(monthly_data['YYYYMM'].astype(str), format='%Y%m')\n",
        "        monthly_data['y'] = monthly_data[target_col]\n",
        "\n",
        "        # Train data (pre-2025)\n",
        "        train_data = monthly_data[monthly_data['ds'] < pd.Timestamp('2025-01-01')]\n",
        "\n",
        "        try:\n",
        "            # Train Prophet model\n",
        "            model = Prophet(yearly_seasonality=True, weekly_seasonality=False, daily_seasonality=False)\n",
        "            model.fit(train_data[['ds', 'y']])\n",
        "\n",
        "            # Create future dataframe for forecasting\n",
        "            future = pd.DataFrame({'ds': pd.date_range(start='2025-01-01', periods=12, freq='MS')})\n",
        "\n",
        "            # Make forecast\n",
        "            forecast = model.predict(future)\n",
        "\n",
        "            # Create forecast dataframe\n",
        "            forecast_df = pd.DataFrame({\n",
        "                'date': forecast['ds'],\n",
        "                'YYYYMM': forecast['ds'].dt.strftime('%Y%m').astype(int),\n",
        "                f'{target_col}_forecast': forecast['yhat']\n",
        "            })\n",
        "\n",
        "            print(f\"Prophet aggregate forecast for {target_col} completed successfully\")\n",
        "            print(f\"Prophet aggregate forecast for {target_col}: Mean for 2025 = {forecast['yhat'].mean():.2f}\", \"FORECAST\")\n",
        "\n",
        "            return forecast_df\n",
        "\n",
        "        except Exception as e:\n",
        "            #print(f\"Error in Prophet forecasting for {target_col}: {e}\")\n",
        "            return pd.DataFrame(columns=['date', 'YYYYMM', f'{target_col}_forecast'])\n",
        "\n",
        "    else:\n",
        "        # Group level forecasts\n",
        "        forecasts = []\n",
        "\n",
        "        # Get unique combinations of group columns\n",
        "        groups = data[group_cols].drop_duplicates()\n",
        "\n",
        "        print(f\"Starting Prophet forecasts for {len(groups)} groups\")\n",
        "\n",
        "        for _, group in groups.iterrows():\n",
        "            group_filter = True\n",
        "            for col in group_cols:\n",
        "                group_filter = group_filter & (data[col] == group[col])\n",
        "\n",
        "            group_data = data[group_filter].copy()\n",
        "\n",
        "            # Skip if not enough data\n",
        "            if len(group_data) < 12:\n",
        "                #print(f\"Skipping {group.to_dict()} due to insufficient data\")\n",
        "                continue\n",
        "\n",
        "            # Aggregate by month\n",
        "            monthly = group_data.groupby('YYYYMM').agg({target_col: 'sum'}).reset_index()\n",
        "            monthly['ds'] = pd.to_datetime(monthly['YYYYMM'].astype(str), format='%Y%m')\n",
        "            monthly['y'] = monthly[target_col]\n",
        "\n",
        "            # Train data (pre-2025)\n",
        "            train_monthly = monthly[monthly['ds'] < pd.Timestamp('2025-01-01')]\n",
        "\n",
        "            try:\n",
        "                # Train Prophet model\n",
        "                model = Prophet(yearly_seasonality=True, weekly_seasonality=False, daily_seasonality=False)\n",
        "                model.fit(train_monthly[['ds', 'y']])\n",
        "\n",
        "                # Create future dataframe for forecasting\n",
        "                future = pd.DataFrame({'ds': pd.date_range(start='2025-01-01', periods=12, freq='MS')})\n",
        "\n",
        "                # Make forecast\n",
        "                forecast = model.predict(future)\n",
        "\n",
        "                # Create forecast dataframe\n",
        "                forecast_df = pd.DataFrame({\n",
        "                    'date': forecast['ds'],\n",
        "                    'YYYYMM': forecast['ds'].dt.strftime('%Y%m').astype(int),\n",
        "                    f'{target_col}_forecast': forecast['yhat']\n",
        "                })\n",
        "\n",
        "                # Add group columns\n",
        "                for col in group_cols:\n",
        "                    forecast_df[col] = group[col]\n",
        "\n",
        "                forecasts.append(forecast_df)\n",
        "                print(f\"Prophet forecast for {group.to_dict()} completed\")\n",
        "\n",
        "            except Exception as e:\n",
        "                #print(f\"Error in Prophet forecasting for {group.to_dict()}: {e}\")\n",
        "\n",
        "              if not forecasts:\n",
        "                return pd.DataFrame(columns=['date', 'YYYYMM', f'{target_col}_forecast'] + group_cols)\n",
        "\n",
        "        # Combine all forecasts\n",
        "        all_forecasts = pd.concat(forecasts, ignore_index=True)\n",
        "        print(f\"Prophet forecasting completed for {len(forecasts)} out of {len(groups)} groups\")\n",
        "\n",
        "        return all_forecasts\n",
        "\n"
      ],
      "metadata": {
        "id": "MCgTdNhPH1y5"
      },
      "execution_count": 57,
      "outputs": []
    },
    {
      "cell_type": "code",
      "source": [
        "#-----ML model------------------------------------------------------------------------------------\n",
        "def train_and_forecast_ml(data, target_col, group_cols=None):\n",
        "    \"\"\"\n",
        "    Train ML models (Random Forest and XGBoost) and generate forecasts\n",
        "\n",
        "    Parameters:\n",
        "    -----------\n",
        "    data : DataFrame\n",
        "        Input data\n",
        "    target_col : str\n",
        "        Target column to forecast\n",
        "    group_cols : list, optional\n",
        "        Columns to group by. If None, forecast is done at the aggregate level.\n",
        "\n",
        "    Returns:\n",
        "    --------\n",
        "    DataFrame\n",
        "        Forecasts for 2025\n",
        "    \"\"\"\n",
        "    print(f\"Training ML models for {target_col}\")\n",
        "\n",
        "    # Create time features for 2025\n",
        "    future_months = pd.DataFrame({\n",
        "        'YYYYMM': pd.date_range(start='2025-01-01', periods=12, freq='MS').strftime('%Y%m').astype(int),\n",
        "        'date': pd.date_range(start='2025-01-01', periods=12, freq='MS'),\n",
        "        'year': 2025,\n",
        "        'month': range(1, 13),\n",
        "        'quarter': [1, 1, 1, 2, 2, 2, 3, 3, 3, 4, 4, 4]\n",
        "    })\n",
        "\n",
        "    if group_cols is None:\n",
        "        # Prepare data for ML at aggregate level\n",
        "        monthly_data = data.groupby('YYYYMM').agg({\n",
        "            target_col: 'sum',\n",
        "            'year': 'first',\n",
        "            'month': 'first',\n",
        "            'quarter': 'first'\n",
        "        }).reset_index()\n",
        "\n",
        "        # Create lag features\n",
        "        for lag in [1, 2, 3, 6, 12]:\n",
        "            monthly_data[f'{target_col}_lag_{lag}'] = monthly_data[target_col].shift(lag)\n",
        "\n",
        "        # Create rolling window statistics\n",
        "        for window in [3, 6, 12]:\n",
        "            monthly_data[f'{target_col}_roll_mean_{window}'] = monthly_data[target_col].rolling(window=window).mean()\n",
        "\n",
        "        # Train data (pre-2025)\n",
        "        train_data = monthly_data[monthly_data['year'] < 2025].copy()\n",
        "        train_data = train_data.dropna(subset=[col for col in train_data.columns if col.startswith(f'{target_col}_')])\n",
        "\n",
        "        # Feature columns\n",
        "        feature_cols = [col for col in train_data.columns if col.startswith(f'{target_col}_') or col in ['month', 'quarter']]\n",
        "\n",
        "        # Check if we have enough data\n",
        "        if len(train_data) < 24 or len(feature_cols) < 3:\n",
        "            #print(f\"Insufficient data for ML model training at aggregate level\")\n",
        "            return pd.DataFrame(columns=['date', 'YYYYMM', f'{target_col}_forecast_rf', f'{target_col}_forecast_xgb'])\n",
        "\n",
        "        try:\n",
        "            # Train Random Forest\n",
        "            rf_model = RandomForestRegressor(n_estimators=100, random_state=42)\n",
        "            rf_model.fit(train_data[feature_cols], train_data[target_col])\n",
        "\n",
        "            # Train XGBoost\n",
        "            xgb_model = XGBRegressor(n_estimators=100, learning_rate=0.1, random_state=42)\n",
        "            xgb_model.fit(train_data[feature_cols], train_data[target_col])\n",
        "\n",
        "            # Prepare future data for prediction\n",
        "            future_data = future_months.copy()\n",
        "\n",
        "            # Add lag features based on the last available values\n",
        "            last_values = monthly_data.sort_values('YYYYMM', ascending=False).iloc[0:12]\n",
        "\n",
        "            for lag in [1, 2, 3, 6, 12]:\n",
        "                if lag <= len(last_values):\n",
        "                    future_data[f'{target_col}_lag_{lag}'] = last_values[target_col].iloc[lag-1]\n",
        "                else:\n",
        "                    future_data[f'{target_col}_lag_{lag}'] = last_values[target_col].iloc[0]\n",
        "\n",
        "            # Add rolling mean features\n",
        "            for window in [3, 6, 12]:\n",
        "                future_data[f'{target_col}_roll_mean_{window}'] = last_values[target_col].iloc[0:min(window, len(last_values))].mean()\n",
        "\n",
        "            # Make predictions\n",
        "            future_data[f'{target_col}_forecast_rf'] = rf_model.predict(future_data[feature_cols])\n",
        "            future_data[f'{target_col}_forecast_xgb'] = xgb_model.predict(future_data[feature_cols])\n",
        "\n",
        "            # Create forecast dataframe\n",
        "            forecast_df = future_data[['date', 'YYYYMM', f'{target_col}_forecast_rf', f'{target_col}_forecast_xgb']].copy()\n",
        "\n",
        "            # Log ML model insights\n",
        "            feature_importance_rf = pd.DataFrame({\n",
        "                'feature': feature_cols,\n",
        "                'importance': rf_model.feature_importances_\n",
        "            }).sort_values('importance', ascending=False)\n",
        "\n",
        "            top_features = feature_importance_rf.head(3)['feature'].tolist()\n",
        "            print(f\"Top 3 features for {target_col} Random Forest model: {', '.join(top_features)}\", \"ML_FEATURES\")\n",
        "\n",
        "            print(f\"ML aggregate forecast for {target_col} completed successfully\")\n",
        "            print(f\"ML aggregate forecast for {target_col}: RF Mean for 2025 = {forecast_df[f'{target_col}_forecast_rf'].mean():.2f}\", \"FORECAST\")\n",
        "            print(f\"ML aggregate forecast for {target_col}: XGB Mean for 2025 = {forecast_df[f'{target_col}_forecast_xgb'].mean():.2f}\", \"FORECAST\")\n",
        "\n",
        "            return forecast_df\n",
        "\n",
        "        except Exception as e:\n",
        "            #print(f\"Error in ML forecasting for {target_col}: {e}\")\n",
        "            return pd.DataFrame(columns=['date', 'YYYYMM', f'{target_col}_forecast_rf', f'{target_col}_forecast_xgb'])\n",
        "\n",
        "    else:\n",
        "        # Group level forecasts\n",
        "        forecasts = []\n",
        "\n",
        "        # Get unique combinations of group columns\n",
        "        groups = data[group_cols].drop_duplicates()\n",
        "\n",
        "        print(f\"Starting ML forecasts for {len(groups)} groups\")\n",
        "\n",
        "        for _, group in groups.iterrows():\n",
        "            group_filter = True\n",
        "            for col in group_cols:\n",
        "                group_filter = group_filter & (data[col] == group[col])\n",
        "\n",
        "            group_data = data[group_filter].copy()\n",
        "\n",
        "            # Skip if not enough data\n",
        "            if len(group_data) < 24:\n",
        "                #print(f\"Skipping {group.to_dict()} due to insufficient data\")\n",
        "                continue\n",
        "\n",
        "            # Aggregate by month\n",
        "            monthly = group_data.groupby('YYYYMM').agg({\n",
        "                target_col: 'sum',\n",
        "                'year': 'first',\n",
        "                'month': 'first',\n",
        "                'quarter': 'first'\n",
        "            }).reset_index()\n",
        "\n",
        "            # Create lag features\n",
        "            for lag in [1, 2, 3, 6, 12]:\n",
        "                monthly[f'{target_col}_lag_{lag}'] = monthly[target_col].shift(lag)\n",
        "\n",
        "            # Create rolling window statistics\n",
        "            for window in [3, 6, 12]:\n",
        "                monthly[f'{target_col}_roll_mean_{window}'] = monthly[target_col].rolling(window=window).mean()\n",
        "\n",
        "            # Train data (pre-2025)\n",
        "            train_monthly = monthly[monthly['year'] < 2025].copy()\n",
        "            train_monthly = train_monthly.dropna(subset=[col for col in train_monthly.columns if col.startswith(f'{target_col}_')])\n",
        "\n",
        "            # Feature columns\n",
        "            feature_cols = [col for col in train_monthly.columns if col.startswith(f'{target_col}_') or col in ['month', 'quarter']]\n",
        "\n",
        "            # Check if we have enough data\n",
        "            if len(train_monthly) < 12 or len(feature_cols) < 3:\n",
        "                #print(f\"Insufficient data for ML model training for {group.to_dict()}\")\n",
        "                continue\n",
        "\n",
        "            try:\n",
        "                # Train Random Forest\n",
        "                rf_model = RandomForestRegressor(n_estimators=100, random_state=42)\n",
        "                rf_model.fit(train_monthly[feature_cols], train_monthly[target_col])\n",
        "\n",
        "                # Train XGBoost\n",
        "                xgb_model = XGBRegressor(n_estimators=100, learning_rate=0.1, random_state=42)\n",
        "                xgb_model.fit(train_monthly[feature_cols], train_monthly[target_col])\n",
        "\n",
        "                # Prepare future data for prediction\n",
        "                future_data = future_months.copy()\n",
        "\n",
        "                # Add lag features based on the last available values\n",
        "                last_values = monthly.sort_values('YYYYMM', ascending=False).iloc[0:12]\n",
        "\n",
        "                for lag in [1, 2, 3, 6, 12]:\n",
        "                    if lag <= len(last_values):\n",
        "                        future_data[f'{target_col}_lag_{lag}'] = last_values[target_col].iloc[lag-1]\n",
        "                    else:\n",
        "                        future_data[f'{target_col}_lag_{lag}'] = last_values[target_col].iloc[0]\n",
        "\n",
        "                # Add rolling mean features\n",
        "                for window in [3, 6, 12]:\n",
        "                    future_data[f'{target_col}_roll_mean_{window}'] = last_values[target_col].iloc[0:min(window, len(last_values))].mean()\n",
        "\n",
        "                # Make predictions\n",
        "                future_data[f'{target_col}_forecast_rf'] = rf_model.predict(future_data[feature_cols])\n",
        "                future_data[f'{target_col}_forecast_xgb'] = xgb_model.predict(future_data[feature_cols])\n",
        "\n",
        "                # Create forecast dataframe\n",
        "                forecast_df = future_data[['date', 'YYYYMM', f'{target_col}_forecast_rf', f'{target_col}_forecast_xgb']].copy()\n",
        "\n",
        "                # Add group columns\n",
        "                for col in group_cols:\n",
        "                    forecast_df[col] = group[col]\n",
        "\n",
        "                forecasts.append(forecast_df)\n",
        "                print(f\"ML forecast for {group.to_dict()} completed\")\n",
        "\n",
        "            except Exception as e:\n",
        "                #print(f\"Error in ML forecasting for {group.to_dict()}: {e}\")\n",
        "\n",
        "              if not forecasts:\n",
        "            #print(f\"No successful ML forecasts for any group\")\n",
        "                return pd.DataFrame(columns=['date', 'YYYYMM', f'{target_col}_forecast_rf', f'{target_col}_forecast_xgb'] + group_cols)\n",
        "\n",
        "        # Combine all forecasts\n",
        "        all_forecasts = pd.concat(forecasts, ignore_index=True)\n",
        "        print(f\"ML forecasting completed for {len(forecasts)} out of {len(groups)} groups\")\n",
        "\n",
        "        return all_forecasts"
      ],
      "metadata": {
        "id": "C-TInts-IhbW"
      },
      "execution_count": 58,
      "outputs": []
    },
    {
      "cell_type": "code",
      "source": [
        "def create_derived_forecasts(mmos_forecasts, data, group_cols=None):\n",
        "    \"\"\"\n",
        "    Create derived forecasts for Med-Total and Rx based on MMOS forecasts\n",
        "\n",
        "    Parameters:\n",
        "    -----------\n",
        "    mmos_forecasts : DataFrame\n",
        "        DataFrame with MMOS forecasts\n",
        "    data : DataFrame\n",
        "        Original data\n",
        "    group_cols : list, optional\n",
        "        Columns to group by. If None, ratios are calculated at the aggregate level.\n",
        "\n",
        "    Returns:\n",
        "    --------\n",
        "    DataFrame\n",
        "        Forecasts with derived Med-Total and Rx\n",
        "    \"\"\"\n",
        "    print(\"Creating derived forecasts from MMOS\")\n",
        "\n",
        "    if group_cols is None:\n",
        "        # Calculate ratios at aggregate level\n",
        "        monthly_data = data.groupby('YYYYMM').agg({\n",
        "            'mmos': 'sum',\n",
        "            'Med-Total': 'sum',\n",
        "            'Rx': 'sum'\n",
        "        }).reset_index()\n",
        "\n",
        "        # Calculate ratios\n",
        "        monthly_data['med_ratio'] = monthly_data['Med-Total'] / monthly_data['mmos']\n",
        "        monthly_data['rx_ratio'] = monthly_data['Rx'] / monthly_data['mmos']\n",
        "\n",
        "        # Use most recent ratios (last 6 months)\n",
        "        recent_data = monthly_data.sort_values('YYYYMM', ascending=False).head(6)\n",
        "        med_ratio = recent_data['med_ratio'].mean()\n",
        "        rx_ratio = recent_data['rx_ratio'].mean()\n",
        "\n",
        "        print(f\"Using aggregate ratios for derived forecasts: Med={med_ratio:.2f}, Rx={rx_ratio:.2f}\", \"DERIVED_RATIOS\")\n",
        "\n",
        "        # Apply ratios to forecasts\n",
        "        forecasts = mmos_forecasts.copy()\n",
        "\n",
        "        # Apply to all MMOS forecast columns\n",
        "        for col in mmos_forecasts.columns:\n",
        "            if 'mmos_forecast' in col:\n",
        "                base_name = col.replace('mmos_forecast', '')\n",
        "                forecasts[f'Med-Total_forecast{base_name}'] = forecasts[col] * med_ratio\n",
        "                forecasts[f'Rx_forecast{base_name}'] = forecasts[col] * rx_ratio\n",
        "\n",
        "        return forecasts\n",
        "\n",
        "    else:\n",
        "        # Calculate ratios at group level\n",
        "        ratio_data = data.groupby(group_cols).apply(\n",
        "            lambda x: pd.Series({\n",
        "                'med_ratio': x['Med-Total'].sum() / x['mmos'].sum() if x['mmos'].sum() > 0 else 0,\n",
        "                'rx_ratio': x['Rx'].sum() / x['mmos'].sum() if x['mmos'].sum() > 0 else 0\n",
        "            })\n",
        "        ).reset_index()\n",
        "\n",
        "        # Merge ratios with forecasts\n",
        "        forecasts = mmos_forecasts.merge(ratio_data, on=group_cols, how='left')\n",
        "\n",
        "        # Apply ratios to forecasts\n",
        "        for col in mmos_forecasts.columns:\n",
        "            if 'mmos_forecast' in col:\n",
        "                base_name = col.replace('mmos_forecast', '')\n",
        "                forecasts[f'Med-Total_forecast{base_name}'] = forecasts[col] * forecasts['med_ratio']\n",
        "                forecasts[f'Rx_forecast{base_name}'] = forecasts[col] * forecasts['rx_ratio']\n",
        "\n",
        "        # Log insights\n",
        "        avg_med_ratio = ratio_data['med_ratio'].mean()\n",
        "        avg_rx_ratio = ratio_data['rx_ratio'].mean()\n",
        "        print(f\"Average group-level ratios: Med={avg_med_ratio:.2f}, Rx={avg_rx_ratio:.2f}\", \"DERIVED_RATIOS\")\n",
        "\n",
        "        return forecasts\n"
      ],
      "metadata": {
        "id": "XJpdSzabKYbY"
      },
      "execution_count": 59,
      "outputs": []
    },
    {
      "cell_type": "code",
      "source": [
        "def create_ensemble_forecast(forecasts_dict, target_col, group_cols=None):\n",
        "    \"\"\"\n",
        "    Create ensemble forecast from multiple forecast methods\n",
        "\n",
        "    Parameters:\n",
        "    -----------\n",
        "    forecasts_dict : dict\n",
        "        Dictionary of forecast DataFrames {method_name: forecast_df}\n",
        "    target_col : str\n",
        "        Target column to forecast\n",
        "    group_cols : list, optional\n",
        "        Columns to group by for merging forecasts\n",
        "\n",
        "    Returns:\n",
        "    --------\n",
        "    DataFrame\n",
        "        Ensemble forecast\n",
        "    \"\"\"\n",
        "    print(f\"Creating ensemble forecast for {target_col}\")\n",
        "\n",
        "    # Extract forecast methods\n",
        "    methods = list(forecasts_dict.keys())\n",
        "    print(f\"Creating ensemble from methods: {methods}\")\n",
        "\n",
        "    if not methods:\n",
        "        #print(\"No forecast methods provided for ensemble\")\n",
        "        return None\n",
        "\n",
        "    merge_cols = ['YYYYMM']\n",
        "    if group_cols is not None:\n",
        "        merge_cols += group_cols\n",
        "\n",
        "    # Start with first forecast\n",
        "    ensemble = forecasts_dict[methods[0]].copy()\n",
        "\n",
        "    # Merge other forecasts\n",
        "    for method in methods[1:]:\n",
        "        forecast_col = f\"{target_col}_forecast_{method}\"\n",
        "        cols_to_use = merge_cols + [forecast_col]\n",
        "\n",
        "        # Ensure column exists\n",
        "        if forecast_col not in forecasts_dict[method].columns:\n",
        "            forecast_cols = [col for col in forecasts_dict[method].columns if f'{target_col}_forecast' in col]\n",
        "            if forecast_cols:\n",
        "                # If multiple forecast columns exist (e.g., rf and xgb), use the first one\n",
        "                forecasts_dict[method][forecast_col] = forecasts_dict[method][forecast_cols[0]]\n",
        "            else:\n",
        "                print(f\"No forecast column for {target_col} in {method}\")\n",
        "                continue\n",
        "\n",
        "        ensemble = ensemble.merge(\n",
        "            forecasts_dict[method][cols_to_use],\n",
        "            on=merge_cols,\n",
        "            how='outer'\n",
        "        )\n",
        "\n",
        "    # Create ensemble forecast (mean of individual forecasts)\n",
        "    forecast_cols = [col for col in ensemble.columns if f'{target_col}_forecast' in col]\n",
        "    ensemble[f'{target_col}_forecast_ensemble'] = ensemble[forecast_cols].mean(axis=1)\n",
        "\n",
        "    # Log ensemble insights\n",
        "    print(f\"Ensemble forecast for {target_col}: Mean for 2025 = {ensemble[f'{target_col}_forecast_ensemble'].mean():.2f}\", \"ENSEMBLE\")\n",
        "\n",
        "    return ensemble\n"
      ],
      "metadata": {
        "id": "4GsuovaaLF5t"
      },
      "execution_count": 60,
      "outputs": []
    },
    {
      "cell_type": "code",
      "source": [
        "def old_aggregate_forecasts(forecasts, target_col, grain='total', group_cols=None):\n",
        "    \"\"\"\n",
        "    Aggregate forecasts to a specific grain\n",
        "\n",
        "    Parameters:\n",
        "    -----------\n",
        "    forecasts : DataFrame\n",
        "        Forecast DataFrame\n",
        "    target_col : str\n",
        "        Target column being forecasted\n",
        "    grain : str\n",
        "        Grain to aggregate to: 'total', 'state', 'segment'\n",
        "    group_cols : list\n",
        "        Group columns used for lowest grain forecasts\n",
        "\n",
        "    Returns:\n",
        "    --------\n",
        "    DataFrame\n",
        "        Aggregated forecasts\n",
        "    \"\"\"\n",
        "    print(f\"Aggregating {target_col} forecasts to {grain} level\")\n",
        "\n",
        "    if grain == 'total':\n",
        "        agg_cols = ['YYYYMM']\n",
        "    elif grain == 'state' and 'State' in forecasts.columns:\n",
        "        agg_cols = ['State', 'YYYYMM']\n",
        "    elif grain == 'segment' and 'Segment' in forecasts.columns:\n",
        "        agg_cols = ['Segment', 'YYYYMM']\n",
        "    else:\n",
        "        print(f\"Cannot aggregate to {grain} grain with available columns\")\n",
        "        return None\n",
        "\n",
        "    # Get forecast columns\n",
        "    forecast_cols = [col for col in forecasts.columns if f'{target_col}_forecast' in col]\n",
        "\n",
        "    # Create aggregated dataframe\n",
        "    agg_df = forecasts.groupby(agg_cols)[forecast_cols].sum().reset_index()\n",
        "\n",
        "    return agg_df\n"
      ],
      "metadata": {
        "id": "8OABPhXGLbDe"
      },
      "execution_count": 61,
      "outputs": []
    },
    {
      "cell_type": "code",
      "source": [
        "def old_evaluate_forecasts(forecasts, actuals, target_col, group_cols=None):\n",
        "    \"\"\"\n",
        "    Evaluate forecast accuracy against actual values\n",
        "\n",
        "    Parameters:\n",
        "    -----------\n",
        "    forecasts : DataFrame\n",
        "        Forecast DataFrame\n",
        "    actuals : DataFrame\n",
        "        Actual values DataFrame\n",
        "    target_col : str\n",
        "        Target column being forecasted\n",
        "    group_cols : list, optional\n",
        "        Columns to group by for merging\n",
        "\n",
        "    Returns:\n",
        "    --------\n",
        "    dict\n",
        "        Dictionary of evaluation metrics by forecast method\n",
        "    \"\"\"\n",
        "    print(f\"Evaluating {target_col} forecasts\")\n",
        "\n",
        "    merge_cols = ['YYYYMM']\n",
        "    if group_cols is not None:\n",
        "        merge_cols += group_cols\n",
        "\n",
        "    # Get forecast columns\n",
        "    forecast_cols = [col for col in forecasts.columns if f'{target_col}_forecast' in col]\n",
        "\n",
        "    if not forecast_cols:\n",
        "        print(f\"No forecast columns found for {target_col}\")\n",
        "        return {}\n",
        "\n",
        "    # Merge forecasts with actuals\n",
        "    comparison = forecasts.merge(\n",
        "        actuals[merge_cols + [target_col]],\n",
        "        on=merge_cols,\n",
        "        how='inner'\n",
        "    )\n",
        "\n",
        "    if len(comparison) == 0:\n",
        "        print(\"No matching data for evaluation\")\n",
        "        return {}\n",
        "\n",
        "    # Calculate metrics for each forecast method\n",
        "    metrics = {}\n",
        "    for col in forecast_cols:\n",
        "        method = col.replace(f'{target_col}_forecast_', '')\n",
        "\n",
        "        # Drop rows where either actual or forecast values are NaN\n",
        "        valid_mask = ~(np.isnan(comparison[target_col]) | np.isnan(comparison[col]))\n",
        "        valid_comparison = comparison[valid_mask]\n",
        "\n",
        "        if len(valid_comparison) == 0:\n",
        "            print(f\"No valid data for method {method}\")\n",
        "            metrics[method] = {\n",
        "                'MAE': np.nan,\n",
        "                'RMSE': np.nan,\n",
        "                'MAPE': np.nan\n",
        "            }\n",
        "            continue\n",
        "\n",
        "        mae = mean_absolute_error(valid_comparison[target_col], valid_comparison[col])\n",
        "        rmse = np.sqrt(mean_squared_error(valid_comparison[target_col], valid_comparison[col]))\n",
        "\n",
        "        # Calculate MAPE (handle zero values)\n",
        "        non_zero_mask = valid_comparison[target_col] != 0\n",
        "        if non_zero_mask.sum() > 0:\n",
        "            mape = np.mean(np.abs((valid_comparison.loc[non_zero_mask, target_col] - valid_comparison.loc[non_zero_mask, col]) / valid_comparison.loc[non_zero_mask, target_col])) * 100\n",
        "        else:\n",
        "            mape = np.nan\n",
        "\n",
        "        metrics[method] = {\n",
        "            'MAE': mae,\n",
        "            'RMSE': rmse,\n",
        "            'MAPE': mape\n",
        "        }\n",
        "\n",
        "        # Format the output to handle NaN values\n",
        "        mae_str = f\"{mae:.2f}\" if not np.isnan(mae) else \"NaN\"\n",
        "        rmse_str = f\"{rmse:.2f}\" if not np.isnan(rmse) else \"NaN\"\n",
        "        mape_str = f\"{mape:.2f}%\" if not np.isnan(mape) else \"NaN\"\n",
        "\n",
        "        print(f\"Metrics for {method}: MAE={mae_str}, RMSE={rmse_str}, MAPE={mape_str}\")\n",
        "\n",
        "    # Determine best method, ignoring NaN values\n",
        "    if metrics:\n",
        "        valid_methods = {k: v for k, v in metrics.items() if not np.isnan(v['MAPE'])}\n",
        "        if valid_methods:\n",
        "            best_method = min(valid_methods.items(), key=lambda x: x[1]['MAPE'])[0]\n",
        "            print(f\"Best forecasting method for {target_col}: {best_method} with MAPE={metrics[best_method]['MAPE']:.2f}%\", \"EVALUATION\")\n",
        "        else:\n",
        "            print(f\"No valid methods for {target_col} evaluation\")\n",
        "\n",
        "    return metrics"
      ],
      "metadata": {
        "id": "hdaE_vpiLloq"
      },
      "execution_count": 62,
      "outputs": []
    },
    {
      "cell_type": "code",
      "source": [
        "def log_forecasts_insights(forecasts, target_col):\n",
        "    \"\"\"\n",
        "    Log insights about the forecasts\n",
        "\n",
        "    Parameters:\n",
        "    -----------\n",
        "    forecasts : DataFrame\n",
        "        Forecast DataFrame with ensemble column\n",
        "    target_col : str\n",
        "        Target column being forecasted\n",
        "    \"\"\"\n",
        "    print(f\"Generating forecast insights for {target_col}\")\n",
        "\n",
        "    forecast_col = f'{target_col}_forecast_ensemble'\n",
        "\n",
        "    if forecast_col not in forecasts.columns:\n",
        "        print(f\"No ensemble forecast column found for {target_col}\")\n",
        "        return\n",
        "\n",
        "    # Monthly pattern\n",
        "    monthly_pattern = forecasts.groupby('YYYYMM')[forecast_col].sum().reset_index()\n",
        "    monthly_pattern['month'] = pd.to_datetime(monthly_pattern['YYYYMM'].astype(str), format='%Y%m').dt.month\n",
        "\n",
        "    if len(monthly_pattern) >= 12:\n",
        "        peak_month = monthly_pattern.iloc[monthly_pattern[forecast_col].argmax()]['month']\n",
        "        low_month = monthly_pattern.iloc[monthly_pattern[forecast_col].argmin()]['month']\n",
        "\n",
        "        month_names = ['January', 'February', 'March', 'April', 'May', 'June',\n",
        "                      'July', 'August', 'September', 'October', 'November', 'December']\n",
        "\n",
        "        print(f\"2025 {target_col} forecast peaks in {month_names[peak_month-1]} and is lowest in {month_names[low_month-1]}\", \"FORECAST_PATTERN\")\n",
        "\n",
        "    # Year-over-year growth (if historical data is given)\n",
        "    if 'year' in forecasts.columns:\n",
        "        yearly_data = forecasts.groupby('year')[forecast_col].sum()\n",
        "        if 2024 in yearly_data.index and 2025 in yearly_data.index:\n",
        "            yoy_growth = (yearly_data[2025] / yearly_data[2024] - 1) * 100\n",
        "            print(f\"Year-over-year growth for {target_col} (2024-2025): {yoy_growth:.2f}%\", \"YOY_GROWTH\")\n",
        "\n",
        "    # Segment insights\n",
        "    if 'Segment' in forecasts.columns:\n",
        "        segment_forecasts = forecasts.groupby('Segment')[forecast_col].sum().sort_values(ascending=False)\n",
        "        top_segment = segment_forecasts.index[0]\n",
        "        bottom_segment = segment_forecasts.index[-1]\n",
        "\n",
        "        print(f\"Top segment for {target_col} in 2025: {top_segment} with {segment_forecasts[top_segment]:.2f}\", \"SEGMENT_INSIGHTS\")\n",
        "        print(f\"Bottom segment for {target_col} in 2025: {bottom_segment} with {segment_forecasts[bottom_segment]:.2f}\", \"SEGMENT_INSIGHTS\")\n",
        "\n",
        "    # State insights\n",
        "    if 'State' in forecasts.columns:\n",
        "        state_forecasts = forecasts.groupby('State')[forecast_col].sum().sort_values(ascending=False)\n",
        "        top_states = state_forecasts.head(3)\n",
        "\n",
        "        print(f\"Top 3 states for {target_col} in 2025: \" +\n",
        "                   \", \".join([f\"{state} ({value:.2f})\" for state, value in top_states.items()]), \"STATE_INSIGHTS\")\n",
        "\n"
      ],
      "metadata": {
        "id": "1TzOT30pL2ig"
      },
      "execution_count": 63,
      "outputs": []
    },
    {
      "cell_type": "code",
      "source": [
        "# Forecast MMOS\n",
        "# Step 1: Load and prepare data\n",
        "data, train_data, valid_data = load_and_prepare_data('/content/cr_v1.csv')\n",
        "\n",
        "# Step 2: Explore time series patterns\n",
        "monthly_data = explore_time_series(data)\n",
        "\n",
        "# Step 3: Analyze segments and states\n",
        "segment_analysis, state_analysis = analyze_segments_and_states(data)\n",
        "# Step 4: Forecast at lowest grain (State × Segment × Month)\n",
        "lowest_grain = ['State', 'Segment']\n",
        "print(\"Forecasting MMOS at lowest grain\")\n",
        "sarima_mmos = train_and_forecast_sarima(train_data, 'mmos', lowest_grain)\n",
        "prophet_mmos = train_and_forecast_prophet(train_data, 'mmos', lowest_grain)\n",
        "ml_mmos = train_and_forecast_ml(train_data, 'mmos', lowest_grain)\n",
        "\n",
        "# Rename forecast columns\n",
        "sarima_mmos = sarima_mmos.rename(columns={'mmos_forecast': 'mmos_forecast_sarima'})\n",
        "prophet_mmos = prophet_mmos.rename(columns={'mmos_forecast': 'mmos_forecast_prophet'})\n",
        "\n",
        "# Combine forecasts for ensemble\n",
        "mmos_forecasts = {\n",
        "        'sarima': sarima_mmos,\n",
        "        'prophet': prophet_mmos,\n",
        "        'rf': ml_mmos[['YYYYMM', 'State', 'Segment', 'mmos_forecast_rf']],\n",
        "        'xgb': ml_mmos[['YYYYMM', 'State', 'Segment', 'mmos_forecast_xgb']]\n",
        "    }\n",
        "\n",
        "# Create ensemble\n",
        "ensemble_mmos = create_ensemble_forecast(mmos_forecasts, 'mmos', lowest_grain)\n",
        "\n",
        "# Forecast Med-Total directly\n",
        "print(\"Forecasting Med-Total at lowest grain\")\n",
        "sarima_med = train_and_forecast_sarima(train_data, 'Med-Total', lowest_grain)\n",
        "prophet_med = train_and_forecast_prophet(train_data, 'Med-Total', lowest_grain)\n",
        "ml_med = train_and_forecast_ml(train_data, 'Med-Total', lowest_grain)\n",
        "\n",
        "# Rename forecast columns\n",
        "sarima_med = sarima_med.rename(columns={'Med-Total_forecast': 'Med-Total_forecast_sarima'})\n",
        "prophet_med = prophet_med.rename(columns={'Med-Total_forecast': 'Med-Total_forecast_prophet'})\n",
        "\n",
        "# Combine forecasts for ensemble\n",
        "med_forecasts = {\n",
        "        'sarima': sarima_med,\n",
        "        'prophet': prophet_med,\n",
        "        'rf': ml_med[['YYYYMM', 'State', 'Segment', 'Med-Total_forecast_rf']],\n",
        "        'xgb': ml_med[['YYYYMM', 'State', 'Segment', 'Med-Total_forecast_xgb']]\n",
        "    }\n",
        "\n",
        "# Create ensemble\n",
        "ensemble_med = create_ensemble_forecast(med_forecasts, 'Med-Total', lowest_grain)\n",
        "\n",
        "# Forecast Rx directly\n",
        "print(\"Forecasting Rx at lowest grain\")\n",
        "sarima_rx = train_and_forecast_sarima(train_data, 'Rx', lowest_grain)\n",
        "prophet_rx = train_and_forecast_prophet(train_data, 'Rx', lowest_grain)\n",
        "ml_rx = train_and_forecast_ml(train_data, 'Rx', lowest_grain)\n",
        "\n",
        "# Rename forecast columns\n",
        "sarima_rx = sarima_rx.rename(columns={'Rx_forecast': 'Rx_forecast_sarima'})\n",
        "prophet_rx = prophet_rx.rename(columns={'Rx_forecast': 'Rx_forecast_prophet'})\n",
        "\n",
        "# Combine forecasts for ensemble\n",
        "rx_forecasts = {\n",
        "        'sarima': sarima_rx,\n",
        "        'prophet': prophet_rx,\n",
        "        'rf': ml_rx[['YYYYMM', 'State', 'Segment', 'Rx_forecast_rf']],\n",
        "        'xgb': ml_rx[['YYYYMM', 'State', 'Segment', 'Rx_forecast_xgb']]\n",
        "    }\n",
        "\n",
        "# Create ensemble\n",
        "ensemble_rx = create_ensemble_forecast(rx_forecasts, 'Rx', lowest_grain)\n",
        "\n",
        "# Create derived forecasts from MMOS\n",
        "derived_forecasts = create_derived_forecasts(ensemble_mmos, train_data, lowest_grain)\n",
        "\n",
        "# Combine direct and derived forecasts\n",
        "print(\"Combining direct and derived forecasts\")\n",
        "\n",
        "# Merge the ensemble forecasts\n",
        "final_forecasts = ensemble_mmos.merge(\n",
        "        ensemble_med[['YYYYMM', 'State', 'Segment', 'Med-Total_forecast_ensemble']],\n",
        "        on=['YYYYMM', 'State', 'Segment'],\n",
        "        how='outer'\n",
        "    )\n",
        "final_forecasts = final_forecasts.merge(\n",
        "        ensemble_rx[['YYYYMM', 'State', 'Segment', 'Rx_forecast_ensemble']],\n",
        "        on=['YYYYMM', 'State', 'Segment'],\n",
        "        how='outer'\n",
        "    )\n",
        "\n",
        "# Add derived forecasts\n",
        "\n",
        "\n",
        "# You need to specify the full column names from derived_forecasts\n",
        "final_forecasts = final_forecasts.merge(\n",
        "    derived_forecasts[['YYYYMM', 'State', 'Segment', 'Med-Total_forecast_ensemble', 'Rx_forecast_ensemble']],\n",
        "    on=['YYYYMM', 'State', 'Segment'],\n",
        "    how='outer'\n",
        ")\n",
        "\n",
        "\n",
        "# Final ensemble: combine direct and derived forecasts with weights\n",
        "final_forecasts['Med-Total_final'] = 0.7 * final_forecasts['Med-Total_forecast_ensemble_x'] + 0.3 * final_forecasts['Med-Total_forecast_ensemble_y']\n",
        "final_forecasts['Rx_final'] = 0.7 * final_forecasts['Rx_forecast_ensemble_x'] + 0.3 * final_forecasts['Rx_forecast_ensemble_y']\n",
        "\n",
        "# Create and log PMPM metrics for final forecasts\n",
        "\n",
        "\n",
        "\n",
        "# Create and log PMPM metrics for final forecasts\n",
        "final_forecasts['Med-Total_PMPM'] = final_forecasts.apply(\n",
        "    lambda row: float('nan') if row['mmos_forecast_ensemble'] == 0\n",
        "    else row['Med-Total_final'] / row['mmos_forecast_ensemble'],\n",
        "    axis=1\n",
        ")\n",
        "\n",
        "final_forecasts['Rx_PMPM'] = final_forecasts.apply(\n",
        "    lambda row: float('nan') if row['mmos_forecast_ensemble'] == 0\n",
        "    else row['Rx_final'] / row['mmos_forecast_ensemble'],\n",
        "    axis=1\n",
        ")\n",
        "\n",
        "\n",
        "avg_med_pmpm = final_forecasts['Med-Total_PMPM'].mean()\n",
        "avg_rx_pmpm = final_forecasts['Rx_PMPM'].mean()\n",
        "\n",
        "print(f\"Forecasted 2025 Medical PMPM: ${avg_med_pmpm:.2f}\", \"FORECAST_PMPM\")\n",
        "print(f\"Forecasted 2025 Rx PMPM: ${avg_rx_pmpm:.2f}\", \"FORECAST_PMPM\")\n",
        "\n",
        "# Evaluate forecasts if validation data is available\n",
        "#if len(valid_data) > 0:\n",
        "#    mmos_metrics = evaluate_forecasts(ensemble_mmos, valid_data, 'mmos', lowest_grain)\n",
        "#    med_metrics = evaluate_forecasts(ensemble_med, valid_data, 'Med-Total', lowest_grain)\n",
        "#    rx_metrics = evaluate_forecasts(ensemble_rx, valid_data, 'Rx', lowest_grain)\n",
        "\n",
        "# Aggregate forecasts to State level\n",
        "#state_forecasts = aggregate_forecasts(final_forecasts, 'mmos', 'state', lowest_grain)\n",
        "#print(state_forecasts, 'mmos')\n",
        "\n",
        "# Aggregate forecasts to Segment level\n",
        "#segment_forecasts = aggregate_forecasts(final_forecasts, 'mmos', 'segment', lowest_grain)\n",
        "#print(segment_forecasts, 'mmos')\n",
        "\n",
        "# Aggregate forecasts to total level\n",
        "#total_forecasts = aggregate_forecasts(final_forecasts, 'mmos', 'total', lowest_grain)\n",
        "#print(total_forecasts, 'mmos')\n",
        "\n",
        "# Save results to CSV\n",
        "output_dir = \"/content/forecast_results\"\n",
        "os.makedirs(output_dir, exist_ok=True)\n",
        "\n",
        "final_forecasts.to_csv(os.path.join(output_dir, 'lowest_grain_forecasts.csv'), index=False)\n",
        "#state_forecasts.to_csv(os.path.join(output_dir, 'state_forecasts.csv'), index=False)\n",
        "#segment_forecasts.to_csv(os.path.join(output_dir, 'segment_forecasts.csv'), index=False)\n",
        "#total_forecasts.to_csv(os.path.join(output_dir, 'total_forecasts.csv'), index=False)\n",
        "\n"
      ],
      "metadata": {
        "colab": {
          "base_uri": "https://localhost:8080/",
          "height": 1000
        },
        "id": "z8qt9ik9MSJd",
        "outputId": "69cb6e74-7f2b-4f23-a895-5fe046018652"
      },
      "execution_count": 64,
      "outputs": [
        {
          "output_type": "stream",
          "name": "stdout",
          "text": [
            "Performing time series analysis\n",
            "Membership typically peaks in Feb and is lowest in Dec based on historical patterns SEASONALITY\n",
            "Membership shows a relatively stable trend with only 3.4% change over the observed period TREND\n",
            "Medical PMPM has changed by 19.8% from $359.93 to $431.23 PMPM\n",
            "Rx PMPM has changed by 32.9% from $121.91 to $162.03 PMPM\n",
            "Monthly volatility: Membership 0.5%, Medical claims 8.2%, Rx claims 8.5% VOLATILITY\n",
            "Correlation between Medical claims and Membership: 0.79 CORRELATION\n",
            "Correlation between Rx claims and Membership: 0.74 CORRELATION\n",
            "Analyzing segments and states\n",
            "Segment analysis:\n",
            "              avg_mmos  total_mmos    med_pmpm     rx_pmpm\n",
            "Segment                                                   \n",
            "LGP_NRF  126675.992308  49403637.0  384.581246  138.729586\n",
            "IND_ACA   54669.634615  25585389.0  367.477895  134.198647\n",
            "SBG_ACA   65341.643590  25483241.0  430.096578  155.971863\n",
            "SBG_MEW   15787.553846   6157146.0  283.408839  101.807787\n",
            "SBG_LEG    8279.441026   3228982.0  366.285766  147.701126\n",
            "IND_LEG    5546.953846   2163312.0  383.678722  125.237988\n",
            "LGP_SHP    3298.915385   1286577.0  132.588399   48.877282\n",
            "Segment LGP_NRF: Avg membership 126676, Med PMPM $384.58, Rx PMPM $138.73 SEGMENT\n",
            "Segment IND_ACA: Avg membership 54670, Med PMPM $367.48, Rx PMPM $134.20 SEGMENT\n",
            "Segment SBG_ACA: Avg membership 65342, Med PMPM $430.10, Rx PMPM $155.97 SEGMENT\n",
            "Segment SBG_MEW: Avg membership 15788, Med PMPM $283.41, Rx PMPM $101.81 SEGMENT\n",
            "Segment SBG_LEG: Avg membership 8279, Med PMPM $366.29, Rx PMPM $147.70 SEGMENT\n",
            "Segment IND_LEG: Avg membership 5547, Med PMPM $383.68, Rx PMPM $125.24 SEGMENT\n",
            "Segment LGP_SHP: Avg membership 3299, Med PMPM $132.59, Rx PMPM $48.88 SEGMENT\n",
            "Highest Medical PMPM in SBG_ACA ($430.10), lowest in LGP_SHP ($132.59) PMPM_VARIATION\n",
            "Highest Rx PMPM in SBG_ACA ($155.97), lowest in LGP_SHP ($48.88) PMPM_VARIATION\n",
            "State analysis:\n",
            "             avg_mmos  total_mmos    med_pmpm     rx_pmpm\n",
            "State                                                    \n",
            "CA_PPO  150069.681319  27312682.0  460.230589  144.057283\n",
            "CA_HMO   77529.406593  14110352.0  172.686414   94.936558\n",
            "OH       61545.274725  11201240.0  358.277569  114.941391\n",
            "VA       57142.549451  10399944.0  371.268483  159.857233\n",
            "KY       37222.912088   6774570.0  341.062841  175.603097\n",
            "GA       36337.868132   6613492.0  410.459384  155.536141\n",
            "NY       35247.549451   6415054.0  561.143537  185.258548\n",
            "MO       33729.763736   6138817.0  311.790037  120.265802\n",
            "IN       30428.543956   5537995.0  366.599290  121.984078\n",
            "CO       29396.357143   5350137.0  393.363712  144.805775\n",
            "CT       18385.675824   3346193.0  511.393464  190.550088\n",
            "WI       18309.835165   3332390.0  463.908833  116.165781\n",
            "NH       18237.483516   3319222.0  350.711097  129.440819\n",
            "NV       10585.571429   1926574.0  329.300794  110.707627\n",
            "ME        8404.516484   1529622.0  444.480906  138.864836\n",
            "FL           0.000000         0.0         NaN         NaN\n",
            "MD           0.000000         0.0         NaN         NaN\n",
            "TX           0.000000         0.0         NaN         NaN\n",
            "State CA_PPO: Avg membership 150070, Med PMPM $460.23, Rx PMPM $144.06 STATE\n",
            "State CA_HMO: Avg membership 77529, Med PMPM $172.69, Rx PMPM $94.94 STATE\n",
            "State OH: Avg membership 61545, Med PMPM $358.28, Rx PMPM $114.94 STATE\n",
            "State VA: Avg membership 57143, Med PMPM $371.27, Rx PMPM $159.86 STATE\n",
            "State KY: Avg membership 37223, Med PMPM $341.06, Rx PMPM $175.60 STATE\n",
            "Highest Medical PMPM in state NY ($561.14), lowest in CA_HMO ($172.69) STATE_PMPM\n",
            "Forecasting MMOS at lowest grain\n",
            "Training SARIMA model for mmos\n",
            "Starting SARIMA forecasts for 108 groups\n",
            "SARIMA forecast for {'State': 'CA_HMO', 'Segment': 'IND_ACA'} completed\n",
            "SARIMA forecast for {'State': 'CA_PPO', 'Segment': 'IND_ACA'} completed\n"
          ]
        },
        {
          "output_type": "stream",
          "name": "stderr",
          "text": [
            "<ipython-input-41-daf401b27765>:33: FutureWarning: Series.__getitem__ treating keys as positions is deprecated. In a future version, integer keys will always be treated as labels (consistent with DataFrame behavior). To access a value by position, use `ser.iloc[pos]`\n",
            "  highest_month = monthly_avg.idxmax()[0]\n",
            "<ipython-input-41-daf401b27765>:34: FutureWarning: Series.__getitem__ treating keys as positions is deprecated. In a future version, integer keys will always be treated as labels (consistent with DataFrame behavior). To access a value by position, use `ser.iloc[pos]`\n",
            "  lowest_month = monthly_avg.idxmin()[0]\n",
            "<ipython-input-42-815e1f60dc38>:37: RuntimeWarning: invalid value encountered in scalar divide\n",
            "  med_pmpm=('Med-Total', lambda x: x.sum() / data.loc[x.index, 'mmos'].sum()),\n",
            "<ipython-input-42-815e1f60dc38>:38: RuntimeWarning: invalid value encountered in scalar divide\n",
            "  rx_pmpm=('Rx', lambda x: x.sum() / data.loc[x.index, 'mmos'].sum())\n",
            "/usr/local/lib/python3.11/dist-packages/statsmodels/tsa/base/tsa_model.py:473: ValueWarning: No frequency information was provided, so inferred frequency MS will be used.\n",
            "  self._init_dates(dates, freq)\n",
            "/usr/local/lib/python3.11/dist-packages/statsmodels/tsa/base/tsa_model.py:473: ValueWarning: No frequency information was provided, so inferred frequency MS will be used.\n",
            "  self._init_dates(dates, freq)\n",
            "/usr/local/lib/python3.11/dist-packages/statsmodels/tsa/statespace/sarimax.py:866: UserWarning: Too few observations to estimate starting parameters for seasonal ARMA. All parameters except for variances will be set to zeros.\n",
            "  warn('Too few observations to estimate starting parameters%s.'\n",
            "/usr/local/lib/python3.11/dist-packages/statsmodels/tsa/statespace/mlemodel.py:1235: RuntimeWarning: invalid value encountered in divide\n",
            "  np.inner(score_obs, score_obs) /\n",
            "/usr/local/lib/python3.11/dist-packages/statsmodels/tsa/base/tsa_model.py:473: ValueWarning: No frequency information was provided, so inferred frequency MS will be used.\n",
            "  self._init_dates(dates, freq)\n",
            "/usr/local/lib/python3.11/dist-packages/statsmodels/tsa/base/tsa_model.py:473: ValueWarning: No frequency information was provided, so inferred frequency MS will be used.\n",
            "  self._init_dates(dates, freq)\n",
            "/usr/local/lib/python3.11/dist-packages/statsmodels/tsa/statespace/sarimax.py:866: UserWarning: Too few observations to estimate starting parameters for seasonal ARMA. All parameters except for variances will be set to zeros.\n",
            "  warn('Too few observations to estimate starting parameters%s.'\n",
            "/usr/local/lib/python3.11/dist-packages/statsmodels/tsa/statespace/mlemodel.py:1235: RuntimeWarning: invalid value encountered in divide\n",
            "  np.inner(score_obs, score_obs) /\n",
            "/usr/local/lib/python3.11/dist-packages/statsmodels/tsa/base/tsa_model.py:473: ValueWarning: No frequency information was provided, so inferred frequency MS will be used.\n",
            "  self._init_dates(dates, freq)\n",
            "/usr/local/lib/python3.11/dist-packages/statsmodels/tsa/base/tsa_model.py:473: ValueWarning: No frequency information was provided, so inferred frequency MS will be used.\n",
            "  self._init_dates(dates, freq)\n",
            "/usr/local/lib/python3.11/dist-packages/statsmodels/tsa/statespace/sarimax.py:866: UserWarning: Too few observations to estimate starting parameters for seasonal ARMA. All parameters except for variances will be set to zeros.\n",
            "  warn('Too few observations to estimate starting parameters%s.'\n",
            "/usr/local/lib/python3.11/dist-packages/statsmodels/tsa/statespace/mlemodel.py:1235: RuntimeWarning: invalid value encountered in divide\n",
            "  np.inner(score_obs, score_obs) /\n"
          ]
        },
        {
          "output_type": "stream",
          "name": "stdout",
          "text": [
            "SARIMA forecast for {'State': 'CO', 'Segment': 'IND_ACA'} completed\n",
            "SARIMA forecast for {'State': 'CT', 'Segment': 'IND_ACA'} completed\n",
            "SARIMA forecast for {'State': 'GA', 'Segment': 'IND_ACA'} completed\n",
            "SARIMA forecast for {'State': 'IN', 'Segment': 'IND_ACA'} completed\n",
            "SARIMA forecast for {'State': 'KY', 'Segment': 'IND_ACA'} completed\n",
            "SARIMA forecast for {'State': 'ME', 'Segment': 'IND_ACA'} completed\n"
          ]
        },
        {
          "output_type": "stream",
          "name": "stderr",
          "text": [
            "/usr/local/lib/python3.11/dist-packages/statsmodels/tsa/base/tsa_model.py:473: ValueWarning: No frequency information was provided, so inferred frequency MS will be used.\n",
            "  self._init_dates(dates, freq)\n",
            "/usr/local/lib/python3.11/dist-packages/statsmodels/tsa/base/tsa_model.py:473: ValueWarning: No frequency information was provided, so inferred frequency MS will be used.\n",
            "  self._init_dates(dates, freq)\n",
            "/usr/local/lib/python3.11/dist-packages/statsmodels/tsa/statespace/sarimax.py:866: UserWarning: Too few observations to estimate starting parameters for seasonal ARMA. All parameters except for variances will be set to zeros.\n",
            "  warn('Too few observations to estimate starting parameters%s.'\n",
            "/usr/local/lib/python3.11/dist-packages/statsmodels/tsa/statespace/mlemodel.py:1235: RuntimeWarning: invalid value encountered in divide\n",
            "  np.inner(score_obs, score_obs) /\n",
            "/usr/local/lib/python3.11/dist-packages/statsmodels/tsa/base/tsa_model.py:473: ValueWarning: No frequency information was provided, so inferred frequency MS will be used.\n",
            "  self._init_dates(dates, freq)\n",
            "/usr/local/lib/python3.11/dist-packages/statsmodels/tsa/base/tsa_model.py:473: ValueWarning: No frequency information was provided, so inferred frequency MS will be used.\n",
            "  self._init_dates(dates, freq)\n",
            "/usr/local/lib/python3.11/dist-packages/statsmodels/tsa/statespace/sarimax.py:866: UserWarning: Too few observations to estimate starting parameters for seasonal ARMA. All parameters except for variances will be set to zeros.\n",
            "  warn('Too few observations to estimate starting parameters%s.'\n",
            "/usr/local/lib/python3.11/dist-packages/statsmodels/tsa/statespace/mlemodel.py:1235: RuntimeWarning: invalid value encountered in divide\n",
            "  np.inner(score_obs, score_obs) /\n",
            "/usr/local/lib/python3.11/dist-packages/statsmodels/tsa/base/tsa_model.py:473: ValueWarning: No frequency information was provided, so inferred frequency MS will be used.\n",
            "  self._init_dates(dates, freq)\n",
            "/usr/local/lib/python3.11/dist-packages/statsmodels/tsa/base/tsa_model.py:473: ValueWarning: No frequency information was provided, so inferred frequency MS will be used.\n",
            "  self._init_dates(dates, freq)\n",
            "/usr/local/lib/python3.11/dist-packages/statsmodels/tsa/statespace/sarimax.py:866: UserWarning: Too few observations to estimate starting parameters for seasonal ARMA. All parameters except for variances will be set to zeros.\n",
            "  warn('Too few observations to estimate starting parameters%s.'\n",
            "/usr/local/lib/python3.11/dist-packages/statsmodels/tsa/statespace/mlemodel.py:1235: RuntimeWarning: invalid value encountered in divide\n",
            "  np.inner(score_obs, score_obs) /\n",
            "/usr/local/lib/python3.11/dist-packages/statsmodels/tsa/base/tsa_model.py:473: ValueWarning: No frequency information was provided, so inferred frequency MS will be used.\n",
            "  self._init_dates(dates, freq)\n",
            "/usr/local/lib/python3.11/dist-packages/statsmodels/tsa/base/tsa_model.py:473: ValueWarning: No frequency information was provided, so inferred frequency MS will be used.\n",
            "  self._init_dates(dates, freq)\n",
            "/usr/local/lib/python3.11/dist-packages/statsmodels/tsa/statespace/sarimax.py:866: UserWarning: Too few observations to estimate starting parameters for seasonal ARMA. All parameters except for variances will be set to zeros.\n",
            "  warn('Too few observations to estimate starting parameters%s.'\n",
            "/usr/local/lib/python3.11/dist-packages/statsmodels/tsa/statespace/mlemodel.py:1235: RuntimeWarning: invalid value encountered in divide\n",
            "  np.inner(score_obs, score_obs) /\n",
            "/usr/local/lib/python3.11/dist-packages/statsmodels/tsa/base/tsa_model.py:473: ValueWarning: No frequency information was provided, so inferred frequency MS will be used.\n",
            "  self._init_dates(dates, freq)\n",
            "/usr/local/lib/python3.11/dist-packages/statsmodels/tsa/base/tsa_model.py:473: ValueWarning: No frequency information was provided, so inferred frequency MS will be used.\n",
            "  self._init_dates(dates, freq)\n",
            "/usr/local/lib/python3.11/dist-packages/statsmodels/tsa/statespace/sarimax.py:866: UserWarning: Too few observations to estimate starting parameters for seasonal ARMA. All parameters except for variances will be set to zeros.\n",
            "  warn('Too few observations to estimate starting parameters%s.'\n",
            "/usr/local/lib/python3.11/dist-packages/statsmodels/tsa/statespace/mlemodel.py:1235: RuntimeWarning: invalid value encountered in divide\n",
            "  np.inner(score_obs, score_obs) /\n",
            "/usr/local/lib/python3.11/dist-packages/statsmodels/tsa/base/tsa_model.py:473: ValueWarning: No frequency information was provided, so inferred frequency MS will be used.\n",
            "  self._init_dates(dates, freq)\n",
            "/usr/local/lib/python3.11/dist-packages/statsmodels/tsa/base/tsa_model.py:473: ValueWarning: No frequency information was provided, so inferred frequency MS will be used.\n",
            "  self._init_dates(dates, freq)\n",
            "/usr/local/lib/python3.11/dist-packages/statsmodels/tsa/statespace/sarimax.py:866: UserWarning: Too few observations to estimate starting parameters for seasonal ARMA. All parameters except for variances will be set to zeros.\n",
            "  warn('Too few observations to estimate starting parameters%s.'\n",
            "/usr/local/lib/python3.11/dist-packages/statsmodels/tsa/statespace/mlemodel.py:1235: RuntimeWarning: invalid value encountered in divide\n",
            "  np.inner(score_obs, score_obs) /\n"
          ]
        },
        {
          "output_type": "stream",
          "name": "stdout",
          "text": [
            "SARIMA forecast for {'State': 'MO', 'Segment': 'IND_ACA'} completed\n",
            "SARIMA forecast for {'State': 'NH', 'Segment': 'IND_ACA'} completed\n",
            "SARIMA forecast for {'State': 'NV', 'Segment': 'IND_ACA'} completed\n",
            "SARIMA forecast for {'State': 'NY', 'Segment': 'IND_ACA'} completed\n",
            "SARIMA forecast for {'State': 'OH', 'Segment': 'IND_ACA'} completed\n",
            "SARIMA forecast for {'State': 'VA', 'Segment': 'IND_ACA'} completed\n"
          ]
        },
        {
          "output_type": "stream",
          "name": "stderr",
          "text": [
            "/usr/local/lib/python3.11/dist-packages/statsmodels/tsa/base/tsa_model.py:473: ValueWarning: No frequency information was provided, so inferred frequency MS will be used.\n",
            "  self._init_dates(dates, freq)\n",
            "/usr/local/lib/python3.11/dist-packages/statsmodels/tsa/base/tsa_model.py:473: ValueWarning: No frequency information was provided, so inferred frequency MS will be used.\n",
            "  self._init_dates(dates, freq)\n",
            "/usr/local/lib/python3.11/dist-packages/statsmodels/tsa/statespace/sarimax.py:866: UserWarning: Too few observations to estimate starting parameters for seasonal ARMA. All parameters except for variances will be set to zeros.\n",
            "  warn('Too few observations to estimate starting parameters%s.'\n",
            "/usr/local/lib/python3.11/dist-packages/statsmodels/tsa/statespace/mlemodel.py:1235: RuntimeWarning: invalid value encountered in divide\n",
            "  np.inner(score_obs, score_obs) /\n",
            "/usr/local/lib/python3.11/dist-packages/statsmodels/tsa/base/tsa_model.py:473: ValueWarning: No frequency information was provided, so inferred frequency MS will be used.\n",
            "  self._init_dates(dates, freq)\n",
            "/usr/local/lib/python3.11/dist-packages/statsmodels/tsa/base/tsa_model.py:473: ValueWarning: No frequency information was provided, so inferred frequency MS will be used.\n",
            "  self._init_dates(dates, freq)\n",
            "/usr/local/lib/python3.11/dist-packages/statsmodels/tsa/statespace/sarimax.py:866: UserWarning: Too few observations to estimate starting parameters for seasonal ARMA. All parameters except for variances will be set to zeros.\n",
            "  warn('Too few observations to estimate starting parameters%s.'\n",
            "/usr/local/lib/python3.11/dist-packages/statsmodels/tsa/statespace/mlemodel.py:1235: RuntimeWarning: invalid value encountered in divide\n",
            "  np.inner(score_obs, score_obs) /\n",
            "/usr/local/lib/python3.11/dist-packages/statsmodels/tsa/base/tsa_model.py:473: ValueWarning: No frequency information was provided, so inferred frequency MS will be used.\n",
            "  self._init_dates(dates, freq)\n",
            "/usr/local/lib/python3.11/dist-packages/statsmodels/tsa/base/tsa_model.py:473: ValueWarning: No frequency information was provided, so inferred frequency MS will be used.\n",
            "  self._init_dates(dates, freq)\n",
            "/usr/local/lib/python3.11/dist-packages/statsmodels/tsa/statespace/sarimax.py:866: UserWarning: Too few observations to estimate starting parameters for seasonal ARMA. All parameters except for variances will be set to zeros.\n",
            "  warn('Too few observations to estimate starting parameters%s.'\n",
            "/usr/local/lib/python3.11/dist-packages/statsmodels/tsa/statespace/mlemodel.py:1235: RuntimeWarning: invalid value encountered in divide\n",
            "  np.inner(score_obs, score_obs) /\n",
            "/usr/local/lib/python3.11/dist-packages/statsmodels/tsa/base/tsa_model.py:473: ValueWarning: No frequency information was provided, so inferred frequency MS will be used.\n",
            "  self._init_dates(dates, freq)\n",
            "/usr/local/lib/python3.11/dist-packages/statsmodels/tsa/base/tsa_model.py:473: ValueWarning: No frequency information was provided, so inferred frequency MS will be used.\n",
            "  self._init_dates(dates, freq)\n",
            "/usr/local/lib/python3.11/dist-packages/statsmodels/tsa/statespace/sarimax.py:866: UserWarning: Too few observations to estimate starting parameters for seasonal ARMA. All parameters except for variances will be set to zeros.\n",
            "  warn('Too few observations to estimate starting parameters%s.'\n",
            "/usr/local/lib/python3.11/dist-packages/statsmodels/tsa/statespace/mlemodel.py:1235: RuntimeWarning: invalid value encountered in divide\n",
            "  np.inner(score_obs, score_obs) /\n",
            "/usr/local/lib/python3.11/dist-packages/statsmodels/tsa/base/tsa_model.py:473: ValueWarning: No frequency information was provided, so inferred frequency MS will be used.\n",
            "  self._init_dates(dates, freq)\n",
            "/usr/local/lib/python3.11/dist-packages/statsmodels/tsa/base/tsa_model.py:473: ValueWarning: No frequency information was provided, so inferred frequency MS will be used.\n",
            "  self._init_dates(dates, freq)\n",
            "/usr/local/lib/python3.11/dist-packages/statsmodels/tsa/statespace/sarimax.py:866: UserWarning: Too few observations to estimate starting parameters for seasonal ARMA. All parameters except for variances will be set to zeros.\n",
            "  warn('Too few observations to estimate starting parameters%s.'\n",
            "/usr/local/lib/python3.11/dist-packages/statsmodels/tsa/statespace/mlemodel.py:1235: RuntimeWarning: invalid value encountered in divide\n",
            "  np.inner(score_obs, score_obs) /\n",
            "/usr/local/lib/python3.11/dist-packages/statsmodels/tsa/base/tsa_model.py:473: ValueWarning: No frequency information was provided, so inferred frequency MS will be used.\n",
            "  self._init_dates(dates, freq)\n",
            "/usr/local/lib/python3.11/dist-packages/statsmodels/tsa/base/tsa_model.py:473: ValueWarning: No frequency information was provided, so inferred frequency MS will be used.\n",
            "  self._init_dates(dates, freq)\n",
            "/usr/local/lib/python3.11/dist-packages/statsmodels/tsa/statespace/sarimax.py:866: UserWarning: Too few observations to estimate starting parameters for seasonal ARMA. All parameters except for variances will be set to zeros.\n",
            "  warn('Too few observations to estimate starting parameters%s.'\n",
            "/usr/local/lib/python3.11/dist-packages/statsmodels/tsa/statespace/mlemodel.py:1235: RuntimeWarning: invalid value encountered in divide\n",
            "  np.inner(score_obs, score_obs) /\n"
          ]
        },
        {
          "output_type": "stream",
          "name": "stdout",
          "text": [
            "SARIMA forecast for {'State': 'WI', 'Segment': 'IND_ACA'} completed\n",
            "SARIMA forecast for {'State': 'FL', 'Segment': 'IND_ACA'} completed\n",
            "SARIMA forecast for {'State': 'MD', 'Segment': 'IND_ACA'} completed\n",
            "SARIMA forecast for {'State': 'TX', 'Segment': 'IND_ACA'} completed\n"
          ]
        },
        {
          "output_type": "stream",
          "name": "stderr",
          "text": [
            "/usr/local/lib/python3.11/dist-packages/statsmodels/tsa/base/tsa_model.py:473: ValueWarning: No frequency information was provided, so inferred frequency MS will be used.\n",
            "  self._init_dates(dates, freq)\n",
            "/usr/local/lib/python3.11/dist-packages/statsmodels/tsa/base/tsa_model.py:473: ValueWarning: No frequency information was provided, so inferred frequency MS will be used.\n",
            "  self._init_dates(dates, freq)\n",
            "/usr/local/lib/python3.11/dist-packages/statsmodels/tsa/statespace/sarimax.py:866: UserWarning: Too few observations to estimate starting parameters for seasonal ARMA. All parameters except for variances will be set to zeros.\n",
            "  warn('Too few observations to estimate starting parameters%s.'\n",
            "/usr/local/lib/python3.11/dist-packages/statsmodels/tsa/statespace/mlemodel.py:1235: RuntimeWarning: invalid value encountered in divide\n",
            "  np.inner(score_obs, score_obs) /\n",
            "/usr/local/lib/python3.11/dist-packages/statsmodels/tsa/base/tsa_model.py:473: ValueWarning: No frequency information was provided, so inferred frequency MS will be used.\n",
            "  self._init_dates(dates, freq)\n",
            "/usr/local/lib/python3.11/dist-packages/statsmodels/tsa/base/tsa_model.py:473: ValueWarning: No frequency information was provided, so inferred frequency MS will be used.\n",
            "  self._init_dates(dates, freq)\n",
            "/usr/local/lib/python3.11/dist-packages/statsmodels/tsa/statespace/sarimax.py:866: UserWarning: Too few observations to estimate starting parameters for seasonal ARMA. All parameters except for variances will be set to zeros.\n",
            "  warn('Too few observations to estimate starting parameters%s.'\n",
            "/usr/local/lib/python3.11/dist-packages/statsmodels/tsa/statespace/mlemodel.py:1235: RuntimeWarning: invalid value encountered in divide\n",
            "  np.inner(score_obs, score_obs) /\n",
            "/usr/local/lib/python3.11/dist-packages/statsmodels/tsa/base/tsa_model.py:473: ValueWarning: No frequency information was provided, so inferred frequency MS will be used.\n",
            "  self._init_dates(dates, freq)\n",
            "/usr/local/lib/python3.11/dist-packages/statsmodels/tsa/base/tsa_model.py:473: ValueWarning: No frequency information was provided, so inferred frequency MS will be used.\n",
            "  self._init_dates(dates, freq)\n",
            "/usr/local/lib/python3.11/dist-packages/statsmodels/tsa/statespace/sarimax.py:866: UserWarning: Too few observations to estimate starting parameters for seasonal ARMA. All parameters except for variances will be set to zeros.\n",
            "  warn('Too few observations to estimate starting parameters%s.'\n",
            "/usr/local/lib/python3.11/dist-packages/statsmodels/tsa/statespace/mlemodel.py:1235: RuntimeWarning: invalid value encountered in divide\n",
            "  np.inner(score_obs, score_obs) /\n",
            "/usr/local/lib/python3.11/dist-packages/statsmodels/tsa/base/tsa_model.py:473: ValueWarning: No frequency information was provided, so inferred frequency MS will be used.\n",
            "  self._init_dates(dates, freq)\n",
            "/usr/local/lib/python3.11/dist-packages/statsmodels/tsa/base/tsa_model.py:473: ValueWarning: No frequency information was provided, so inferred frequency MS will be used.\n",
            "  self._init_dates(dates, freq)\n",
            "/usr/local/lib/python3.11/dist-packages/statsmodels/tsa/statespace/sarimax.py:866: UserWarning: Too few observations to estimate starting parameters for seasonal ARMA. All parameters except for variances will be set to zeros.\n",
            "  warn('Too few observations to estimate starting parameters%s.'\n",
            "/usr/local/lib/python3.11/dist-packages/statsmodels/tsa/statespace/mlemodel.py:1235: RuntimeWarning: invalid value encountered in divide\n",
            "  np.inner(score_obs, score_obs) /\n"
          ]
        },
        {
          "output_type": "stream",
          "name": "stdout",
          "text": [
            "SARIMA forecast for {'State': 'CA_HMO', 'Segment': 'IND_LEG'} completed\n",
            "SARIMA forecast for {'State': 'CA_PPO', 'Segment': 'IND_LEG'} completed\n",
            "SARIMA forecast for {'State': 'CO', 'Segment': 'IND_LEG'} completed\n",
            "SARIMA forecast for {'State': 'CT', 'Segment': 'IND_LEG'} completed\n",
            "SARIMA forecast for {'State': 'GA', 'Segment': 'IND_LEG'} completed\n",
            "SARIMA forecast for {'State': 'IN', 'Segment': 'IND_LEG'} completed\n"
          ]
        },
        {
          "output_type": "stream",
          "name": "stderr",
          "text": [
            "/usr/local/lib/python3.11/dist-packages/statsmodels/tsa/base/tsa_model.py:473: ValueWarning: No frequency information was provided, so inferred frequency MS will be used.\n",
            "  self._init_dates(dates, freq)\n",
            "/usr/local/lib/python3.11/dist-packages/statsmodels/tsa/base/tsa_model.py:473: ValueWarning: No frequency information was provided, so inferred frequency MS will be used.\n",
            "  self._init_dates(dates, freq)\n",
            "/usr/local/lib/python3.11/dist-packages/statsmodels/tsa/statespace/sarimax.py:866: UserWarning: Too few observations to estimate starting parameters for seasonal ARMA. All parameters except for variances will be set to zeros.\n",
            "  warn('Too few observations to estimate starting parameters%s.'\n",
            "/usr/local/lib/python3.11/dist-packages/statsmodels/tsa/statespace/mlemodel.py:1235: RuntimeWarning: invalid value encountered in divide\n",
            "  np.inner(score_obs, score_obs) /\n",
            "/usr/local/lib/python3.11/dist-packages/statsmodels/tsa/base/tsa_model.py:473: ValueWarning: No frequency information was provided, so inferred frequency MS will be used.\n",
            "  self._init_dates(dates, freq)\n",
            "/usr/local/lib/python3.11/dist-packages/statsmodels/tsa/base/tsa_model.py:473: ValueWarning: No frequency information was provided, so inferred frequency MS will be used.\n",
            "  self._init_dates(dates, freq)\n",
            "/usr/local/lib/python3.11/dist-packages/statsmodels/tsa/statespace/sarimax.py:866: UserWarning: Too few observations to estimate starting parameters for seasonal ARMA. All parameters except for variances will be set to zeros.\n",
            "  warn('Too few observations to estimate starting parameters%s.'\n",
            "/usr/local/lib/python3.11/dist-packages/statsmodels/tsa/statespace/mlemodel.py:1235: RuntimeWarning: invalid value encountered in divide\n",
            "  np.inner(score_obs, score_obs) /\n",
            "/usr/local/lib/python3.11/dist-packages/statsmodels/tsa/base/tsa_model.py:473: ValueWarning: No frequency information was provided, so inferred frequency MS will be used.\n",
            "  self._init_dates(dates, freq)\n",
            "/usr/local/lib/python3.11/dist-packages/statsmodels/tsa/base/tsa_model.py:473: ValueWarning: No frequency information was provided, so inferred frequency MS will be used.\n",
            "  self._init_dates(dates, freq)\n",
            "/usr/local/lib/python3.11/dist-packages/statsmodels/tsa/statespace/sarimax.py:866: UserWarning: Too few observations to estimate starting parameters for seasonal ARMA. All parameters except for variances will be set to zeros.\n",
            "  warn('Too few observations to estimate starting parameters%s.'\n",
            "/usr/local/lib/python3.11/dist-packages/statsmodels/tsa/statespace/mlemodel.py:1235: RuntimeWarning: invalid value encountered in divide\n",
            "  np.inner(score_obs, score_obs) /\n",
            "/usr/local/lib/python3.11/dist-packages/statsmodels/tsa/base/tsa_model.py:473: ValueWarning: No frequency information was provided, so inferred frequency MS will be used.\n",
            "  self._init_dates(dates, freq)\n",
            "/usr/local/lib/python3.11/dist-packages/statsmodels/tsa/base/tsa_model.py:473: ValueWarning: No frequency information was provided, so inferred frequency MS will be used.\n",
            "  self._init_dates(dates, freq)\n",
            "/usr/local/lib/python3.11/dist-packages/statsmodels/tsa/statespace/sarimax.py:866: UserWarning: Too few observations to estimate starting parameters for seasonal ARMA. All parameters except for variances will be set to zeros.\n",
            "  warn('Too few observations to estimate starting parameters%s.'\n",
            "/usr/local/lib/python3.11/dist-packages/statsmodels/tsa/statespace/mlemodel.py:1235: RuntimeWarning: invalid value encountered in divide\n",
            "  np.inner(score_obs, score_obs) /\n",
            "/usr/local/lib/python3.11/dist-packages/statsmodels/tsa/base/tsa_model.py:473: ValueWarning: No frequency information was provided, so inferred frequency MS will be used.\n",
            "  self._init_dates(dates, freq)\n",
            "/usr/local/lib/python3.11/dist-packages/statsmodels/tsa/base/tsa_model.py:473: ValueWarning: No frequency information was provided, so inferred frequency MS will be used.\n",
            "  self._init_dates(dates, freq)\n",
            "/usr/local/lib/python3.11/dist-packages/statsmodels/tsa/statespace/sarimax.py:866: UserWarning: Too few observations to estimate starting parameters for seasonal ARMA. All parameters except for variances will be set to zeros.\n",
            "  warn('Too few observations to estimate starting parameters%s.'\n",
            "/usr/local/lib/python3.11/dist-packages/statsmodels/tsa/statespace/mlemodel.py:1235: RuntimeWarning: invalid value encountered in divide\n",
            "  np.inner(score_obs, score_obs) /\n",
            "/usr/local/lib/python3.11/dist-packages/statsmodels/tsa/base/tsa_model.py:473: ValueWarning: No frequency information was provided, so inferred frequency MS will be used.\n",
            "  self._init_dates(dates, freq)\n",
            "/usr/local/lib/python3.11/dist-packages/statsmodels/tsa/base/tsa_model.py:473: ValueWarning: No frequency information was provided, so inferred frequency MS will be used.\n",
            "  self._init_dates(dates, freq)\n",
            "/usr/local/lib/python3.11/dist-packages/statsmodels/tsa/statespace/sarimax.py:866: UserWarning: Too few observations to estimate starting parameters for seasonal ARMA. All parameters except for variances will be set to zeros.\n",
            "  warn('Too few observations to estimate starting parameters%s.'\n",
            "/usr/local/lib/python3.11/dist-packages/statsmodels/tsa/statespace/mlemodel.py:1235: RuntimeWarning: invalid value encountered in divide\n",
            "  np.inner(score_obs, score_obs) /\n",
            "/usr/local/lib/python3.11/dist-packages/statsmodels/tsa/base/tsa_model.py:473: ValueWarning: No frequency information was provided, so inferred frequency MS will be used.\n",
            "  self._init_dates(dates, freq)\n",
            "/usr/local/lib/python3.11/dist-packages/statsmodels/tsa/base/tsa_model.py:473: ValueWarning: No frequency information was provided, so inferred frequency MS will be used.\n",
            "  self._init_dates(dates, freq)\n",
            "/usr/local/lib/python3.11/dist-packages/statsmodels/tsa/statespace/sarimax.py:866: UserWarning: Too few observations to estimate starting parameters for seasonal ARMA. All parameters except for variances will be set to zeros.\n",
            "  warn('Too few observations to estimate starting parameters%s.'\n",
            "/usr/local/lib/python3.11/dist-packages/statsmodels/tsa/statespace/mlemodel.py:1235: RuntimeWarning: invalid value encountered in divide\n",
            "  np.inner(score_obs, score_obs) /\n",
            "/usr/local/lib/python3.11/dist-packages/statsmodels/tsa/base/tsa_model.py:473: ValueWarning: No frequency information was provided, so inferred frequency MS will be used.\n",
            "  self._init_dates(dates, freq)\n",
            "/usr/local/lib/python3.11/dist-packages/statsmodels/tsa/base/tsa_model.py:473: ValueWarning: No frequency information was provided, so inferred frequency MS will be used.\n",
            "  self._init_dates(dates, freq)\n",
            "/usr/local/lib/python3.11/dist-packages/statsmodels/tsa/statespace/sarimax.py:866: UserWarning: Too few observations to estimate starting parameters for seasonal ARMA. All parameters except for variances will be set to zeros.\n",
            "  warn('Too few observations to estimate starting parameters%s.'\n",
            "/usr/local/lib/python3.11/dist-packages/statsmodels/tsa/statespace/mlemodel.py:1235: RuntimeWarning: invalid value encountered in divide\n",
            "  np.inner(score_obs, score_obs) /\n",
            "/usr/local/lib/python3.11/dist-packages/statsmodels/tsa/base/tsa_model.py:473: ValueWarning: No frequency information was provided, so inferred frequency MS will be used.\n",
            "  self._init_dates(dates, freq)\n",
            "/usr/local/lib/python3.11/dist-packages/statsmodels/tsa/base/tsa_model.py:473: ValueWarning: No frequency information was provided, so inferred frequency MS will be used.\n",
            "  self._init_dates(dates, freq)\n",
            "/usr/local/lib/python3.11/dist-packages/statsmodels/tsa/statespace/sarimax.py:866: UserWarning: Too few observations to estimate starting parameters for seasonal ARMA. All parameters except for variances will be set to zeros.\n",
            "  warn('Too few observations to estimate starting parameters%s.'\n",
            "/usr/local/lib/python3.11/dist-packages/statsmodels/tsa/statespace/mlemodel.py:1235: RuntimeWarning: invalid value encountered in divide\n",
            "  np.inner(score_obs, score_obs) /\n",
            "/usr/local/lib/python3.11/dist-packages/statsmodels/tsa/base/tsa_model.py:473: ValueWarning: No frequency information was provided, so inferred frequency MS will be used.\n",
            "  self._init_dates(dates, freq)\n",
            "/usr/local/lib/python3.11/dist-packages/statsmodels/tsa/base/tsa_model.py:473: ValueWarning: No frequency information was provided, so inferred frequency MS will be used.\n",
            "  self._init_dates(dates, freq)\n",
            "/usr/local/lib/python3.11/dist-packages/statsmodels/tsa/statespace/sarimax.py:866: UserWarning: Too few observations to estimate starting parameters for seasonal ARMA. All parameters except for variances will be set to zeros.\n",
            "  warn('Too few observations to estimate starting parameters%s.'\n",
            "/usr/local/lib/python3.11/dist-packages/statsmodels/tsa/statespace/mlemodel.py:1235: RuntimeWarning: invalid value encountered in divide\n",
            "  np.inner(score_obs, score_obs) /\n",
            "/usr/local/lib/python3.11/dist-packages/statsmodels/tsa/base/tsa_model.py:473: ValueWarning: No frequency information was provided, so inferred frequency MS will be used.\n",
            "  self._init_dates(dates, freq)\n",
            "/usr/local/lib/python3.11/dist-packages/statsmodels/tsa/base/tsa_model.py:473: ValueWarning: No frequency information was provided, so inferred frequency MS will be used.\n",
            "  self._init_dates(dates, freq)\n"
          ]
        },
        {
          "output_type": "stream",
          "name": "stdout",
          "text": [
            "SARIMA forecast for {'State': 'KY', 'Segment': 'IND_LEG'} completed\n",
            "SARIMA forecast for {'State': 'ME', 'Segment': 'IND_LEG'} completed\n",
            "SARIMA forecast for {'State': 'MO', 'Segment': 'IND_LEG'} completed\n",
            "SARIMA forecast for {'State': 'NH', 'Segment': 'IND_LEG'} completed\n",
            "SARIMA forecast for {'State': 'NV', 'Segment': 'IND_LEG'} completed\n",
            "SARIMA forecast for {'State': 'NY', 'Segment': 'IND_LEG'} completed\n"
          ]
        },
        {
          "output_type": "stream",
          "name": "stderr",
          "text": [
            "/usr/local/lib/python3.11/dist-packages/statsmodels/tsa/statespace/sarimax.py:866: UserWarning: Too few observations to estimate starting parameters for seasonal ARMA. All parameters except for variances will be set to zeros.\n",
            "  warn('Too few observations to estimate starting parameters%s.'\n",
            "/usr/local/lib/python3.11/dist-packages/statsmodels/tsa/statespace/mlemodel.py:1235: RuntimeWarning: invalid value encountered in divide\n",
            "  np.inner(score_obs, score_obs) /\n",
            "/usr/local/lib/python3.11/dist-packages/statsmodels/tsa/base/tsa_model.py:473: ValueWarning: No frequency information was provided, so inferred frequency MS will be used.\n",
            "  self._init_dates(dates, freq)\n",
            "/usr/local/lib/python3.11/dist-packages/statsmodels/tsa/base/tsa_model.py:473: ValueWarning: No frequency information was provided, so inferred frequency MS will be used.\n",
            "  self._init_dates(dates, freq)\n",
            "/usr/local/lib/python3.11/dist-packages/statsmodels/tsa/statespace/sarimax.py:866: UserWarning: Too few observations to estimate starting parameters for seasonal ARMA. All parameters except for variances will be set to zeros.\n",
            "  warn('Too few observations to estimate starting parameters%s.'\n",
            "/usr/local/lib/python3.11/dist-packages/statsmodels/tsa/statespace/mlemodel.py:1235: RuntimeWarning: invalid value encountered in divide\n",
            "  np.inner(score_obs, score_obs) /\n",
            "/usr/local/lib/python3.11/dist-packages/statsmodels/tsa/base/tsa_model.py:473: ValueWarning: No frequency information was provided, so inferred frequency MS will be used.\n",
            "  self._init_dates(dates, freq)\n",
            "/usr/local/lib/python3.11/dist-packages/statsmodels/tsa/base/tsa_model.py:473: ValueWarning: No frequency information was provided, so inferred frequency MS will be used.\n",
            "  self._init_dates(dates, freq)\n",
            "/usr/local/lib/python3.11/dist-packages/statsmodels/tsa/statespace/sarimax.py:866: UserWarning: Too few observations to estimate starting parameters for seasonal ARMA. All parameters except for variances will be set to zeros.\n",
            "  warn('Too few observations to estimate starting parameters%s.'\n",
            "/usr/local/lib/python3.11/dist-packages/statsmodels/tsa/statespace/mlemodel.py:1235: RuntimeWarning: invalid value encountered in divide\n",
            "  np.inner(score_obs, score_obs) /\n",
            "/usr/local/lib/python3.11/dist-packages/statsmodels/tsa/base/tsa_model.py:473: ValueWarning: No frequency information was provided, so inferred frequency MS will be used.\n",
            "  self._init_dates(dates, freq)\n",
            "/usr/local/lib/python3.11/dist-packages/statsmodels/tsa/base/tsa_model.py:473: ValueWarning: No frequency information was provided, so inferred frequency MS will be used.\n",
            "  self._init_dates(dates, freq)\n",
            "/usr/local/lib/python3.11/dist-packages/statsmodels/tsa/statespace/sarimax.py:866: UserWarning: Too few observations to estimate starting parameters for seasonal ARMA. All parameters except for variances will be set to zeros.\n",
            "  warn('Too few observations to estimate starting parameters%s.'\n",
            "/usr/local/lib/python3.11/dist-packages/statsmodels/tsa/statespace/mlemodel.py:1235: RuntimeWarning: invalid value encountered in divide\n",
            "  np.inner(score_obs, score_obs) /\n",
            "/usr/local/lib/python3.11/dist-packages/statsmodels/tsa/base/tsa_model.py:473: ValueWarning: No frequency information was provided, so inferred frequency MS will be used.\n",
            "  self._init_dates(dates, freq)\n",
            "/usr/local/lib/python3.11/dist-packages/statsmodels/tsa/base/tsa_model.py:473: ValueWarning: No frequency information was provided, so inferred frequency MS will be used.\n",
            "  self._init_dates(dates, freq)\n",
            "/usr/local/lib/python3.11/dist-packages/statsmodels/tsa/statespace/sarimax.py:866: UserWarning: Too few observations to estimate starting parameters for seasonal ARMA. All parameters except for variances will be set to zeros.\n",
            "  warn('Too few observations to estimate starting parameters%s.'\n",
            "/usr/local/lib/python3.11/dist-packages/statsmodels/tsa/statespace/mlemodel.py:1235: RuntimeWarning: invalid value encountered in divide\n",
            "  np.inner(score_obs, score_obs) /\n",
            "/usr/local/lib/python3.11/dist-packages/statsmodels/tsa/base/tsa_model.py:473: ValueWarning: No frequency information was provided, so inferred frequency MS will be used.\n",
            "  self._init_dates(dates, freq)\n",
            "/usr/local/lib/python3.11/dist-packages/statsmodels/tsa/base/tsa_model.py:473: ValueWarning: No frequency information was provided, so inferred frequency MS will be used.\n",
            "  self._init_dates(dates, freq)\n",
            "/usr/local/lib/python3.11/dist-packages/statsmodels/tsa/statespace/sarimax.py:866: UserWarning: Too few observations to estimate starting parameters for seasonal ARMA. All parameters except for variances will be set to zeros.\n",
            "  warn('Too few observations to estimate starting parameters%s.'\n",
            "/usr/local/lib/python3.11/dist-packages/statsmodels/tsa/statespace/mlemodel.py:1235: RuntimeWarning: invalid value encountered in divide\n",
            "  np.inner(score_obs, score_obs) /\n",
            "/usr/local/lib/python3.11/dist-packages/statsmodels/tsa/base/tsa_model.py:473: ValueWarning: No frequency information was provided, so inferred frequency MS will be used.\n",
            "  self._init_dates(dates, freq)\n",
            "/usr/local/lib/python3.11/dist-packages/statsmodels/tsa/base/tsa_model.py:473: ValueWarning: No frequency information was provided, so inferred frequency MS will be used.\n",
            "  self._init_dates(dates, freq)\n",
            "/usr/local/lib/python3.11/dist-packages/statsmodels/tsa/statespace/sarimax.py:866: UserWarning: Too few observations to estimate starting parameters for seasonal ARMA. All parameters except for variances will be set to zeros.\n",
            "  warn('Too few observations to estimate starting parameters%s.'\n"
          ]
        },
        {
          "output_type": "stream",
          "name": "stdout",
          "text": [
            "SARIMA forecast for {'State': 'OH', 'Segment': 'IND_LEG'} completed\n",
            "SARIMA forecast for {'State': 'VA', 'Segment': 'IND_LEG'} completed\n",
            "SARIMA forecast for {'State': 'WI', 'Segment': 'IND_LEG'} completed\n",
            "SARIMA forecast for {'State': 'CA_HMO', 'Segment': 'SBG_ACA'} completed\n",
            "SARIMA forecast for {'State': 'CA_PPO', 'Segment': 'SBG_ACA'} completed\n",
            "SARIMA forecast for {'State': 'CO', 'Segment': 'SBG_ACA'} completed\n",
            "SARIMA forecast for {'State': 'CT', 'Segment': 'SBG_ACA'} completed\n"
          ]
        },
        {
          "output_type": "stream",
          "name": "stderr",
          "text": [
            "/usr/local/lib/python3.11/dist-packages/statsmodels/tsa/statespace/mlemodel.py:1235: RuntimeWarning: invalid value encountered in divide\n",
            "  np.inner(score_obs, score_obs) /\n",
            "/usr/local/lib/python3.11/dist-packages/statsmodels/tsa/base/tsa_model.py:473: ValueWarning: No frequency information was provided, so inferred frequency MS will be used.\n",
            "  self._init_dates(dates, freq)\n",
            "/usr/local/lib/python3.11/dist-packages/statsmodels/tsa/base/tsa_model.py:473: ValueWarning: No frequency information was provided, so inferred frequency MS will be used.\n",
            "  self._init_dates(dates, freq)\n",
            "/usr/local/lib/python3.11/dist-packages/statsmodels/tsa/statespace/sarimax.py:866: UserWarning: Too few observations to estimate starting parameters for seasonal ARMA. All parameters except for variances will be set to zeros.\n",
            "  warn('Too few observations to estimate starting parameters%s.'\n",
            "/usr/local/lib/python3.11/dist-packages/statsmodels/tsa/statespace/mlemodel.py:1235: RuntimeWarning: invalid value encountered in divide\n",
            "  np.inner(score_obs, score_obs) /\n",
            "/usr/local/lib/python3.11/dist-packages/statsmodels/tsa/base/tsa_model.py:473: ValueWarning: No frequency information was provided, so inferred frequency MS will be used.\n",
            "  self._init_dates(dates, freq)\n",
            "/usr/local/lib/python3.11/dist-packages/statsmodels/tsa/base/tsa_model.py:473: ValueWarning: No frequency information was provided, so inferred frequency MS will be used.\n",
            "  self._init_dates(dates, freq)\n",
            "/usr/local/lib/python3.11/dist-packages/statsmodels/tsa/statespace/sarimax.py:866: UserWarning: Too few observations to estimate starting parameters for seasonal ARMA. All parameters except for variances will be set to zeros.\n",
            "  warn('Too few observations to estimate starting parameters%s.'\n",
            "/usr/local/lib/python3.11/dist-packages/statsmodels/tsa/statespace/mlemodel.py:1235: RuntimeWarning: invalid value encountered in divide\n",
            "  np.inner(score_obs, score_obs) /\n",
            "/usr/local/lib/python3.11/dist-packages/statsmodels/tsa/base/tsa_model.py:473: ValueWarning: No frequency information was provided, so inferred frequency MS will be used.\n",
            "  self._init_dates(dates, freq)\n",
            "/usr/local/lib/python3.11/dist-packages/statsmodels/tsa/base/tsa_model.py:473: ValueWarning: No frequency information was provided, so inferred frequency MS will be used.\n",
            "  self._init_dates(dates, freq)\n",
            "/usr/local/lib/python3.11/dist-packages/statsmodels/tsa/statespace/sarimax.py:866: UserWarning: Too few observations to estimate starting parameters for seasonal ARMA. All parameters except for variances will be set to zeros.\n",
            "  warn('Too few observations to estimate starting parameters%s.'\n",
            "/usr/local/lib/python3.11/dist-packages/statsmodels/tsa/statespace/mlemodel.py:1235: RuntimeWarning: invalid value encountered in divide\n",
            "  np.inner(score_obs, score_obs) /\n",
            "/usr/local/lib/python3.11/dist-packages/statsmodels/tsa/base/tsa_model.py:473: ValueWarning: No frequency information was provided, so inferred frequency MS will be used.\n",
            "  self._init_dates(dates, freq)\n",
            "/usr/local/lib/python3.11/dist-packages/statsmodels/tsa/base/tsa_model.py:473: ValueWarning: No frequency information was provided, so inferred frequency MS will be used.\n",
            "  self._init_dates(dates, freq)\n",
            "/usr/local/lib/python3.11/dist-packages/statsmodels/tsa/statespace/sarimax.py:866: UserWarning: Too few observations to estimate starting parameters for seasonal ARMA. All parameters except for variances will be set to zeros.\n",
            "  warn('Too few observations to estimate starting parameters%s.'\n",
            "/usr/local/lib/python3.11/dist-packages/statsmodels/tsa/statespace/mlemodel.py:1235: RuntimeWarning: invalid value encountered in divide\n",
            "  np.inner(score_obs, score_obs) /\n",
            "/usr/local/lib/python3.11/dist-packages/statsmodels/tsa/base/tsa_model.py:473: ValueWarning: No frequency information was provided, so inferred frequency MS will be used.\n",
            "  self._init_dates(dates, freq)\n",
            "/usr/local/lib/python3.11/dist-packages/statsmodels/tsa/base/tsa_model.py:473: ValueWarning: No frequency information was provided, so inferred frequency MS will be used.\n",
            "  self._init_dates(dates, freq)\n",
            "/usr/local/lib/python3.11/dist-packages/statsmodels/tsa/statespace/sarimax.py:866: UserWarning: Too few observations to estimate starting parameters for seasonal ARMA. All parameters except for variances will be set to zeros.\n",
            "  warn('Too few observations to estimate starting parameters%s.'\n",
            "/usr/local/lib/python3.11/dist-packages/statsmodels/tsa/statespace/mlemodel.py:1235: RuntimeWarning: invalid value encountered in divide\n",
            "  np.inner(score_obs, score_obs) /\n",
            "/usr/local/lib/python3.11/dist-packages/statsmodels/tsa/base/tsa_model.py:473: ValueWarning: No frequency information was provided, so inferred frequency MS will be used.\n",
            "  self._init_dates(dates, freq)\n",
            "/usr/local/lib/python3.11/dist-packages/statsmodels/tsa/base/tsa_model.py:473: ValueWarning: No frequency information was provided, so inferred frequency MS will be used.\n",
            "  self._init_dates(dates, freq)\n",
            "/usr/local/lib/python3.11/dist-packages/statsmodels/tsa/statespace/sarimax.py:866: UserWarning: Too few observations to estimate starting parameters for seasonal ARMA. All parameters except for variances will be set to zeros.\n",
            "  warn('Too few observations to estimate starting parameters%s.'\n"
          ]
        },
        {
          "output_type": "stream",
          "name": "stdout",
          "text": [
            "SARIMA forecast for {'State': 'GA', 'Segment': 'SBG_ACA'} completed\n",
            "SARIMA forecast for {'State': 'IN', 'Segment': 'SBG_ACA'} completed\n",
            "SARIMA forecast for {'State': 'KY', 'Segment': 'SBG_ACA'} completed\n",
            "SARIMA forecast for {'State': 'ME', 'Segment': 'SBG_ACA'} completed\n",
            "SARIMA forecast for {'State': 'MO', 'Segment': 'SBG_ACA'} completed\n",
            "SARIMA forecast for {'State': 'NH', 'Segment': 'SBG_ACA'} completed\n"
          ]
        },
        {
          "output_type": "stream",
          "name": "stderr",
          "text": [
            "/usr/local/lib/python3.11/dist-packages/statsmodels/tsa/statespace/mlemodel.py:1235: RuntimeWarning: invalid value encountered in divide\n",
            "  np.inner(score_obs, score_obs) /\n",
            "/usr/local/lib/python3.11/dist-packages/statsmodels/tsa/base/tsa_model.py:473: ValueWarning: No frequency information was provided, so inferred frequency MS will be used.\n",
            "  self._init_dates(dates, freq)\n",
            "/usr/local/lib/python3.11/dist-packages/statsmodels/tsa/base/tsa_model.py:473: ValueWarning: No frequency information was provided, so inferred frequency MS will be used.\n",
            "  self._init_dates(dates, freq)\n",
            "/usr/local/lib/python3.11/dist-packages/statsmodels/tsa/statespace/sarimax.py:866: UserWarning: Too few observations to estimate starting parameters for seasonal ARMA. All parameters except for variances will be set to zeros.\n",
            "  warn('Too few observations to estimate starting parameters%s.'\n",
            "/usr/local/lib/python3.11/dist-packages/statsmodels/tsa/statespace/mlemodel.py:1235: RuntimeWarning: invalid value encountered in divide\n",
            "  np.inner(score_obs, score_obs) /\n",
            "/usr/local/lib/python3.11/dist-packages/statsmodels/tsa/base/tsa_model.py:473: ValueWarning: No frequency information was provided, so inferred frequency MS will be used.\n",
            "  self._init_dates(dates, freq)\n",
            "/usr/local/lib/python3.11/dist-packages/statsmodels/tsa/base/tsa_model.py:473: ValueWarning: No frequency information was provided, so inferred frequency MS will be used.\n",
            "  self._init_dates(dates, freq)\n",
            "/usr/local/lib/python3.11/dist-packages/statsmodels/tsa/statespace/sarimax.py:866: UserWarning: Too few observations to estimate starting parameters for seasonal ARMA. All parameters except for variances will be set to zeros.\n",
            "  warn('Too few observations to estimate starting parameters%s.'\n",
            "/usr/local/lib/python3.11/dist-packages/statsmodels/tsa/statespace/mlemodel.py:1235: RuntimeWarning: invalid value encountered in divide\n",
            "  np.inner(score_obs, score_obs) /\n",
            "/usr/local/lib/python3.11/dist-packages/statsmodels/tsa/base/tsa_model.py:473: ValueWarning: No frequency information was provided, so inferred frequency MS will be used.\n",
            "  self._init_dates(dates, freq)\n",
            "/usr/local/lib/python3.11/dist-packages/statsmodels/tsa/base/tsa_model.py:473: ValueWarning: No frequency information was provided, so inferred frequency MS will be used.\n",
            "  self._init_dates(dates, freq)\n",
            "/usr/local/lib/python3.11/dist-packages/statsmodels/tsa/statespace/sarimax.py:866: UserWarning: Too few observations to estimate starting parameters for seasonal ARMA. All parameters except for variances will be set to zeros.\n",
            "  warn('Too few observations to estimate starting parameters%s.'\n",
            "/usr/local/lib/python3.11/dist-packages/statsmodels/tsa/statespace/mlemodel.py:1235: RuntimeWarning: invalid value encountered in divide\n",
            "  np.inner(score_obs, score_obs) /\n",
            "/usr/local/lib/python3.11/dist-packages/statsmodels/tsa/base/tsa_model.py:473: ValueWarning: No frequency information was provided, so inferred frequency MS will be used.\n",
            "  self._init_dates(dates, freq)\n",
            "/usr/local/lib/python3.11/dist-packages/statsmodels/tsa/base/tsa_model.py:473: ValueWarning: No frequency information was provided, so inferred frequency MS will be used.\n",
            "  self._init_dates(dates, freq)\n",
            "/usr/local/lib/python3.11/dist-packages/statsmodels/tsa/statespace/sarimax.py:866: UserWarning: Too few observations to estimate starting parameters for seasonal ARMA. All parameters except for variances will be set to zeros.\n",
            "  warn('Too few observations to estimate starting parameters%s.'\n",
            "/usr/local/lib/python3.11/dist-packages/statsmodels/tsa/statespace/mlemodel.py:1235: RuntimeWarning: invalid value encountered in divide\n",
            "  np.inner(score_obs, score_obs) /\n"
          ]
        },
        {
          "output_type": "stream",
          "name": "stdout",
          "text": [
            "SARIMA forecast for {'State': 'NV', 'Segment': 'SBG_ACA'} completed\n",
            "SARIMA forecast for {'State': 'NY', 'Segment': 'SBG_ACA'} completed\n",
            "SARIMA forecast for {'State': 'OH', 'Segment': 'SBG_ACA'} completed\n",
            "SARIMA forecast for {'State': 'VA', 'Segment': 'SBG_ACA'} completed\n",
            "SARIMA forecast for {'State': 'WI', 'Segment': 'SBG_ACA'} completed\n"
          ]
        },
        {
          "output_type": "stream",
          "name": "stderr",
          "text": [
            "/usr/local/lib/python3.11/dist-packages/statsmodels/tsa/base/tsa_model.py:473: ValueWarning: No frequency information was provided, so inferred frequency MS will be used.\n",
            "  self._init_dates(dates, freq)\n",
            "/usr/local/lib/python3.11/dist-packages/statsmodels/tsa/base/tsa_model.py:473: ValueWarning: No frequency information was provided, so inferred frequency MS will be used.\n",
            "  self._init_dates(dates, freq)\n",
            "/usr/local/lib/python3.11/dist-packages/statsmodels/tsa/statespace/sarimax.py:866: UserWarning: Too few observations to estimate starting parameters for seasonal ARMA. All parameters except for variances will be set to zeros.\n",
            "  warn('Too few observations to estimate starting parameters%s.'\n",
            "/usr/local/lib/python3.11/dist-packages/statsmodels/tsa/statespace/mlemodel.py:1235: RuntimeWarning: invalid value encountered in divide\n",
            "  np.inner(score_obs, score_obs) /\n",
            "/usr/local/lib/python3.11/dist-packages/statsmodels/tsa/base/tsa_model.py:473: ValueWarning: No frequency information was provided, so inferred frequency MS will be used.\n",
            "  self._init_dates(dates, freq)\n",
            "/usr/local/lib/python3.11/dist-packages/statsmodels/tsa/base/tsa_model.py:473: ValueWarning: No frequency information was provided, so inferred frequency MS will be used.\n",
            "  self._init_dates(dates, freq)\n",
            "/usr/local/lib/python3.11/dist-packages/statsmodels/tsa/statespace/sarimax.py:866: UserWarning: Too few observations to estimate starting parameters for seasonal ARMA. All parameters except for variances will be set to zeros.\n",
            "  warn('Too few observations to estimate starting parameters%s.'\n",
            "/usr/local/lib/python3.11/dist-packages/statsmodels/tsa/statespace/mlemodel.py:1235: RuntimeWarning: invalid value encountered in divide\n",
            "  np.inner(score_obs, score_obs) /\n",
            "/usr/local/lib/python3.11/dist-packages/statsmodels/tsa/base/tsa_model.py:473: ValueWarning: No frequency information was provided, so inferred frequency MS will be used.\n",
            "  self._init_dates(dates, freq)\n",
            "/usr/local/lib/python3.11/dist-packages/statsmodels/tsa/base/tsa_model.py:473: ValueWarning: No frequency information was provided, so inferred frequency MS will be used.\n",
            "  self._init_dates(dates, freq)\n",
            "/usr/local/lib/python3.11/dist-packages/statsmodels/tsa/statespace/sarimax.py:866: UserWarning: Too few observations to estimate starting parameters for seasonal ARMA. All parameters except for variances will be set to zeros.\n",
            "  warn('Too few observations to estimate starting parameters%s.'\n",
            "/usr/local/lib/python3.11/dist-packages/statsmodels/tsa/statespace/mlemodel.py:1235: RuntimeWarning: invalid value encountered in divide\n",
            "  np.inner(score_obs, score_obs) /\n",
            "/usr/local/lib/python3.11/dist-packages/statsmodels/tsa/base/tsa_model.py:473: ValueWarning: No frequency information was provided, so inferred frequency MS will be used.\n",
            "  self._init_dates(dates, freq)\n",
            "/usr/local/lib/python3.11/dist-packages/statsmodels/tsa/base/tsa_model.py:473: ValueWarning: No frequency information was provided, so inferred frequency MS will be used.\n",
            "  self._init_dates(dates, freq)\n",
            "/usr/local/lib/python3.11/dist-packages/statsmodels/tsa/statespace/sarimax.py:866: UserWarning: Too few observations to estimate starting parameters for seasonal ARMA. All parameters except for variances will be set to zeros.\n",
            "  warn('Too few observations to estimate starting parameters%s.'\n",
            "/usr/local/lib/python3.11/dist-packages/statsmodels/tsa/statespace/mlemodel.py:1235: RuntimeWarning: invalid value encountered in divide\n",
            "  np.inner(score_obs, score_obs) /\n",
            "/usr/local/lib/python3.11/dist-packages/statsmodels/tsa/base/tsa_model.py:473: ValueWarning: No frequency information was provided, so inferred frequency MS will be used.\n",
            "  self._init_dates(dates, freq)\n",
            "/usr/local/lib/python3.11/dist-packages/statsmodels/tsa/base/tsa_model.py:473: ValueWarning: No frequency information was provided, so inferred frequency MS will be used.\n",
            "  self._init_dates(dates, freq)\n",
            "/usr/local/lib/python3.11/dist-packages/statsmodels/tsa/statespace/sarimax.py:866: UserWarning: Too few observations to estimate starting parameters for seasonal ARMA. All parameters except for variances will be set to zeros.\n",
            "  warn('Too few observations to estimate starting parameters%s.'\n",
            "/usr/local/lib/python3.11/dist-packages/statsmodels/tsa/statespace/mlemodel.py:1235: RuntimeWarning: invalid value encountered in divide\n",
            "  np.inner(score_obs, score_obs) /\n"
          ]
        },
        {
          "output_type": "stream",
          "name": "stdout",
          "text": [
            "SARIMA forecast for {'State': 'CA_HMO', 'Segment': 'SBG_LEG'} completed\n",
            "SARIMA forecast for {'State': 'CA_PPO', 'Segment': 'SBG_LEG'} completed\n",
            "SARIMA forecast for {'State': 'CO', 'Segment': 'SBG_LEG'} completed\n",
            "SARIMA forecast for {'State': 'CT', 'Segment': 'SBG_LEG'} completed\n"
          ]
        },
        {
          "output_type": "stream",
          "name": "stderr",
          "text": [
            "/usr/local/lib/python3.11/dist-packages/statsmodels/tsa/base/tsa_model.py:473: ValueWarning: No frequency information was provided, so inferred frequency MS will be used.\n",
            "  self._init_dates(dates, freq)\n",
            "/usr/local/lib/python3.11/dist-packages/statsmodels/tsa/base/tsa_model.py:473: ValueWarning: No frequency information was provided, so inferred frequency MS will be used.\n",
            "  self._init_dates(dates, freq)\n",
            "/usr/local/lib/python3.11/dist-packages/statsmodels/tsa/statespace/sarimax.py:866: UserWarning: Too few observations to estimate starting parameters for seasonal ARMA. All parameters except for variances will be set to zeros.\n",
            "  warn('Too few observations to estimate starting parameters%s.'\n",
            "/usr/local/lib/python3.11/dist-packages/statsmodels/tsa/statespace/mlemodel.py:1235: RuntimeWarning: invalid value encountered in divide\n",
            "  np.inner(score_obs, score_obs) /\n",
            "/usr/local/lib/python3.11/dist-packages/statsmodels/tsa/base/tsa_model.py:473: ValueWarning: No frequency information was provided, so inferred frequency MS will be used.\n",
            "  self._init_dates(dates, freq)\n",
            "/usr/local/lib/python3.11/dist-packages/statsmodels/tsa/base/tsa_model.py:473: ValueWarning: No frequency information was provided, so inferred frequency MS will be used.\n",
            "  self._init_dates(dates, freq)\n",
            "/usr/local/lib/python3.11/dist-packages/statsmodels/tsa/statespace/sarimax.py:866: UserWarning: Too few observations to estimate starting parameters for seasonal ARMA. All parameters except for variances will be set to zeros.\n",
            "  warn('Too few observations to estimate starting parameters%s.'\n",
            "/usr/local/lib/python3.11/dist-packages/statsmodels/tsa/statespace/mlemodel.py:1235: RuntimeWarning: invalid value encountered in divide\n",
            "  np.inner(score_obs, score_obs) /\n",
            "/usr/local/lib/python3.11/dist-packages/statsmodels/tsa/base/tsa_model.py:473: ValueWarning: No frequency information was provided, so inferred frequency MS will be used.\n",
            "  self._init_dates(dates, freq)\n",
            "/usr/local/lib/python3.11/dist-packages/statsmodels/tsa/base/tsa_model.py:473: ValueWarning: No frequency information was provided, so inferred frequency MS will be used.\n",
            "  self._init_dates(dates, freq)\n",
            "/usr/local/lib/python3.11/dist-packages/statsmodels/tsa/statespace/sarimax.py:866: UserWarning: Too few observations to estimate starting parameters for seasonal ARMA. All parameters except for variances will be set to zeros.\n",
            "  warn('Too few observations to estimate starting parameters%s.'\n",
            "/usr/local/lib/python3.11/dist-packages/statsmodels/tsa/statespace/mlemodel.py:1235: RuntimeWarning: invalid value encountered in divide\n",
            "  np.inner(score_obs, score_obs) /\n",
            "/usr/local/lib/python3.11/dist-packages/statsmodels/tsa/base/tsa_model.py:473: ValueWarning: No frequency information was provided, so inferred frequency MS will be used.\n",
            "  self._init_dates(dates, freq)\n",
            "/usr/local/lib/python3.11/dist-packages/statsmodels/tsa/base/tsa_model.py:473: ValueWarning: No frequency information was provided, so inferred frequency MS will be used.\n",
            "  self._init_dates(dates, freq)\n",
            "/usr/local/lib/python3.11/dist-packages/statsmodels/tsa/statespace/sarimax.py:866: UserWarning: Too few observations to estimate starting parameters for seasonal ARMA. All parameters except for variances will be set to zeros.\n",
            "  warn('Too few observations to estimate starting parameters%s.'\n",
            "/usr/local/lib/python3.11/dist-packages/statsmodels/tsa/statespace/mlemodel.py:1235: RuntimeWarning: invalid value encountered in divide\n",
            "  np.inner(score_obs, score_obs) /\n"
          ]
        },
        {
          "output_type": "stream",
          "name": "stdout",
          "text": [
            "SARIMA forecast for {'State': 'GA', 'Segment': 'SBG_LEG'} completed\n",
            "SARIMA forecast for {'State': 'IN', 'Segment': 'SBG_LEG'} completed\n",
            "SARIMA forecast for {'State': 'KY', 'Segment': 'SBG_LEG'} completed\n"
          ]
        },
        {
          "output_type": "stream",
          "name": "stderr",
          "text": [
            "/usr/local/lib/python3.11/dist-packages/statsmodels/tsa/base/tsa_model.py:473: ValueWarning: No frequency information was provided, so inferred frequency MS will be used.\n",
            "  self._init_dates(dates, freq)\n",
            "/usr/local/lib/python3.11/dist-packages/statsmodels/tsa/base/tsa_model.py:473: ValueWarning: No frequency information was provided, so inferred frequency MS will be used.\n",
            "  self._init_dates(dates, freq)\n",
            "/usr/local/lib/python3.11/dist-packages/statsmodels/tsa/statespace/sarimax.py:866: UserWarning: Too few observations to estimate starting parameters for seasonal ARMA. All parameters except for variances will be set to zeros.\n",
            "  warn('Too few observations to estimate starting parameters%s.'\n",
            "/usr/local/lib/python3.11/dist-packages/statsmodels/tsa/statespace/mlemodel.py:1235: RuntimeWarning: invalid value encountered in divide\n",
            "  np.inner(score_obs, score_obs) /\n",
            "/usr/local/lib/python3.11/dist-packages/statsmodels/tsa/base/tsa_model.py:473: ValueWarning: No frequency information was provided, so inferred frequency MS will be used.\n",
            "  self._init_dates(dates, freq)\n",
            "/usr/local/lib/python3.11/dist-packages/statsmodels/tsa/base/tsa_model.py:473: ValueWarning: No frequency information was provided, so inferred frequency MS will be used.\n",
            "  self._init_dates(dates, freq)\n",
            "/usr/local/lib/python3.11/dist-packages/statsmodels/tsa/statespace/sarimax.py:866: UserWarning: Too few observations to estimate starting parameters for seasonal ARMA. All parameters except for variances will be set to zeros.\n",
            "  warn('Too few observations to estimate starting parameters%s.'\n",
            "/usr/local/lib/python3.11/dist-packages/statsmodels/tsa/statespace/mlemodel.py:1235: RuntimeWarning: invalid value encountered in divide\n",
            "  np.inner(score_obs, score_obs) /\n",
            "/usr/local/lib/python3.11/dist-packages/statsmodels/tsa/base/tsa_model.py:473: ValueWarning: No frequency information was provided, so inferred frequency MS will be used.\n",
            "  self._init_dates(dates, freq)\n",
            "/usr/local/lib/python3.11/dist-packages/statsmodels/tsa/base/tsa_model.py:473: ValueWarning: No frequency information was provided, so inferred frequency MS will be used.\n",
            "  self._init_dates(dates, freq)\n",
            "/usr/local/lib/python3.11/dist-packages/statsmodels/tsa/statespace/sarimax.py:866: UserWarning: Too few observations to estimate starting parameters for seasonal ARMA. All parameters except for variances will be set to zeros.\n",
            "  warn('Too few observations to estimate starting parameters%s.'\n",
            "/usr/local/lib/python3.11/dist-packages/statsmodels/tsa/statespace/mlemodel.py:1235: RuntimeWarning: invalid value encountered in divide\n",
            "  np.inner(score_obs, score_obs) /\n",
            "/usr/local/lib/python3.11/dist-packages/statsmodels/tsa/base/tsa_model.py:473: ValueWarning: No frequency information was provided, so inferred frequency MS will be used.\n",
            "  self._init_dates(dates, freq)\n",
            "/usr/local/lib/python3.11/dist-packages/statsmodels/tsa/base/tsa_model.py:473: ValueWarning: No frequency information was provided, so inferred frequency MS will be used.\n",
            "  self._init_dates(dates, freq)\n"
          ]
        },
        {
          "output_type": "stream",
          "name": "stdout",
          "text": [
            "SARIMA forecast for {'State': 'ME', 'Segment': 'SBG_LEG'} completed\n",
            "SARIMA forecast for {'State': 'MO', 'Segment': 'SBG_LEG'} completed\n",
            "SARIMA forecast for {'State': 'NH', 'Segment': 'SBG_LEG'} completed\n",
            "SARIMA forecast for {'State': 'NV', 'Segment': 'SBG_LEG'} completed\n"
          ]
        },
        {
          "output_type": "stream",
          "name": "stderr",
          "text": [
            "/usr/local/lib/python3.11/dist-packages/statsmodels/tsa/statespace/sarimax.py:866: UserWarning: Too few observations to estimate starting parameters for seasonal ARMA. All parameters except for variances will be set to zeros.\n",
            "  warn('Too few observations to estimate starting parameters%s.'\n",
            "/usr/local/lib/python3.11/dist-packages/statsmodels/tsa/statespace/mlemodel.py:1235: RuntimeWarning: invalid value encountered in divide\n",
            "  np.inner(score_obs, score_obs) /\n",
            "/usr/local/lib/python3.11/dist-packages/statsmodels/tsa/base/tsa_model.py:473: ValueWarning: No frequency information was provided, so inferred frequency MS will be used.\n",
            "  self._init_dates(dates, freq)\n",
            "/usr/local/lib/python3.11/dist-packages/statsmodels/tsa/base/tsa_model.py:473: ValueWarning: No frequency information was provided, so inferred frequency MS will be used.\n",
            "  self._init_dates(dates, freq)\n",
            "/usr/local/lib/python3.11/dist-packages/statsmodels/tsa/statespace/sarimax.py:866: UserWarning: Too few observations to estimate starting parameters for seasonal ARMA. All parameters except for variances will be set to zeros.\n",
            "  warn('Too few observations to estimate starting parameters%s.'\n",
            "/usr/local/lib/python3.11/dist-packages/statsmodels/tsa/statespace/mlemodel.py:1235: RuntimeWarning: invalid value encountered in divide\n",
            "  np.inner(score_obs, score_obs) /\n",
            "/usr/local/lib/python3.11/dist-packages/statsmodels/tsa/base/tsa_model.py:473: ValueWarning: No frequency information was provided, so inferred frequency MS will be used.\n",
            "  self._init_dates(dates, freq)\n",
            "/usr/local/lib/python3.11/dist-packages/statsmodels/tsa/base/tsa_model.py:473: ValueWarning: No frequency information was provided, so inferred frequency MS will be used.\n",
            "  self._init_dates(dates, freq)\n",
            "/usr/local/lib/python3.11/dist-packages/statsmodels/tsa/statespace/sarimax.py:866: UserWarning: Too few observations to estimate starting parameters for seasonal ARMA. All parameters except for variances will be set to zeros.\n",
            "  warn('Too few observations to estimate starting parameters%s.'\n",
            "/usr/local/lib/python3.11/dist-packages/statsmodels/tsa/statespace/mlemodel.py:1235: RuntimeWarning: invalid value encountered in divide\n",
            "  np.inner(score_obs, score_obs) /\n",
            "/usr/local/lib/python3.11/dist-packages/statsmodels/tsa/base/tsa_model.py:473: ValueWarning: No frequency information was provided, so inferred frequency MS will be used.\n",
            "  self._init_dates(dates, freq)\n",
            "/usr/local/lib/python3.11/dist-packages/statsmodels/tsa/base/tsa_model.py:473: ValueWarning: No frequency information was provided, so inferred frequency MS will be used.\n",
            "  self._init_dates(dates, freq)\n",
            "/usr/local/lib/python3.11/dist-packages/statsmodels/tsa/statespace/sarimax.py:866: UserWarning: Too few observations to estimate starting parameters for seasonal ARMA. All parameters except for variances will be set to zeros.\n",
            "  warn('Too few observations to estimate starting parameters%s.'\n",
            "/usr/local/lib/python3.11/dist-packages/statsmodels/tsa/statespace/mlemodel.py:1235: RuntimeWarning: invalid value encountered in divide\n",
            "  np.inner(score_obs, score_obs) /\n",
            "/usr/local/lib/python3.11/dist-packages/statsmodels/tsa/base/tsa_model.py:473: ValueWarning: No frequency information was provided, so inferred frequency MS will be used.\n",
            "  self._init_dates(dates, freq)\n",
            "/usr/local/lib/python3.11/dist-packages/statsmodels/tsa/base/tsa_model.py:473: ValueWarning: No frequency information was provided, so inferred frequency MS will be used.\n",
            "  self._init_dates(dates, freq)\n",
            "/usr/local/lib/python3.11/dist-packages/statsmodels/tsa/statespace/sarimax.py:866: UserWarning: Too few observations to estimate starting parameters for seasonal ARMA. All parameters except for variances will be set to zeros.\n",
            "  warn('Too few observations to estimate starting parameters%s.'\n",
            "/usr/local/lib/python3.11/dist-packages/statsmodels/tsa/statespace/mlemodel.py:1235: RuntimeWarning: invalid value encountered in divide\n",
            "  np.inner(score_obs, score_obs) /\n"
          ]
        },
        {
          "output_type": "stream",
          "name": "stdout",
          "text": [
            "SARIMA forecast for {'State': 'NY', 'Segment': 'SBG_LEG'} completed\n",
            "SARIMA forecast for {'State': 'OH', 'Segment': 'SBG_LEG'} completed\n",
            "SARIMA forecast for {'State': 'VA', 'Segment': 'SBG_LEG'} completed\n",
            "SARIMA forecast for {'State': 'WI', 'Segment': 'SBG_LEG'} completed\n",
            "SARIMA forecast for {'State': 'CA_HMO', 'Segment': 'SBG_MEW'} completed\n",
            "SARIMA forecast for {'State': 'CA_PPO', 'Segment': 'SBG_MEW'} completed\n"
          ]
        },
        {
          "output_type": "stream",
          "name": "stderr",
          "text": [
            "/usr/local/lib/python3.11/dist-packages/statsmodels/tsa/base/tsa_model.py:473: ValueWarning: No frequency information was provided, so inferred frequency MS will be used.\n",
            "  self._init_dates(dates, freq)\n",
            "/usr/local/lib/python3.11/dist-packages/statsmodels/tsa/base/tsa_model.py:473: ValueWarning: No frequency information was provided, so inferred frequency MS will be used.\n",
            "  self._init_dates(dates, freq)\n",
            "/usr/local/lib/python3.11/dist-packages/statsmodels/tsa/statespace/sarimax.py:866: UserWarning: Too few observations to estimate starting parameters for seasonal ARMA. All parameters except for variances will be set to zeros.\n",
            "  warn('Too few observations to estimate starting parameters%s.'\n",
            "/usr/local/lib/python3.11/dist-packages/statsmodels/tsa/statespace/mlemodel.py:1235: RuntimeWarning: invalid value encountered in divide\n",
            "  np.inner(score_obs, score_obs) /\n",
            "/usr/local/lib/python3.11/dist-packages/statsmodels/tsa/base/tsa_model.py:473: ValueWarning: No frequency information was provided, so inferred frequency MS will be used.\n",
            "  self._init_dates(dates, freq)\n",
            "/usr/local/lib/python3.11/dist-packages/statsmodels/tsa/base/tsa_model.py:473: ValueWarning: No frequency information was provided, so inferred frequency MS will be used.\n",
            "  self._init_dates(dates, freq)\n",
            "/usr/local/lib/python3.11/dist-packages/statsmodels/tsa/statespace/sarimax.py:866: UserWarning: Too few observations to estimate starting parameters for seasonal ARMA. All parameters except for variances will be set to zeros.\n",
            "  warn('Too few observations to estimate starting parameters%s.'\n",
            "/usr/local/lib/python3.11/dist-packages/statsmodels/tsa/statespace/mlemodel.py:1235: RuntimeWarning: invalid value encountered in divide\n",
            "  np.inner(score_obs, score_obs) /\n",
            "/usr/local/lib/python3.11/dist-packages/statsmodels/tsa/base/tsa_model.py:473: ValueWarning: No frequency information was provided, so inferred frequency MS will be used.\n",
            "  self._init_dates(dates, freq)\n",
            "/usr/local/lib/python3.11/dist-packages/statsmodels/tsa/base/tsa_model.py:473: ValueWarning: No frequency information was provided, so inferred frequency MS will be used.\n",
            "  self._init_dates(dates, freq)\n",
            "/usr/local/lib/python3.11/dist-packages/statsmodels/tsa/statespace/sarimax.py:866: UserWarning: Too few observations to estimate starting parameters for seasonal ARMA. All parameters except for variances will be set to zeros.\n",
            "  warn('Too few observations to estimate starting parameters%s.'\n",
            "/usr/local/lib/python3.11/dist-packages/statsmodels/tsa/statespace/mlemodel.py:1235: RuntimeWarning: invalid value encountered in divide\n",
            "  np.inner(score_obs, score_obs) /\n",
            "/usr/local/lib/python3.11/dist-packages/statsmodels/tsa/base/tsa_model.py:473: ValueWarning: No frequency information was provided, so inferred frequency MS will be used.\n",
            "  self._init_dates(dates, freq)\n",
            "/usr/local/lib/python3.11/dist-packages/statsmodels/tsa/base/tsa_model.py:473: ValueWarning: No frequency information was provided, so inferred frequency MS will be used.\n",
            "  self._init_dates(dates, freq)\n",
            "/usr/local/lib/python3.11/dist-packages/statsmodels/tsa/statespace/sarimax.py:866: UserWarning: Too few observations to estimate starting parameters for seasonal ARMA. All parameters except for variances will be set to zeros.\n",
            "  warn('Too few observations to estimate starting parameters%s.'\n",
            "/usr/local/lib/python3.11/dist-packages/statsmodels/tsa/statespace/mlemodel.py:1235: RuntimeWarning: invalid value encountered in divide\n",
            "  np.inner(score_obs, score_obs) /\n",
            "/usr/local/lib/python3.11/dist-packages/statsmodels/tsa/base/tsa_model.py:473: ValueWarning: No frequency information was provided, so inferred frequency MS will be used.\n",
            "  self._init_dates(dates, freq)\n",
            "/usr/local/lib/python3.11/dist-packages/statsmodels/tsa/base/tsa_model.py:473: ValueWarning: No frequency information was provided, so inferred frequency MS will be used.\n",
            "  self._init_dates(dates, freq)\n",
            "/usr/local/lib/python3.11/dist-packages/statsmodels/tsa/statespace/sarimax.py:866: UserWarning: Too few observations to estimate starting parameters for seasonal ARMA. All parameters except for variances will be set to zeros.\n",
            "  warn('Too few observations to estimate starting parameters%s.'\n",
            "/usr/local/lib/python3.11/dist-packages/statsmodels/tsa/statespace/mlemodel.py:1235: RuntimeWarning: invalid value encountered in divide\n",
            "  np.inner(score_obs, score_obs) /\n",
            "/usr/local/lib/python3.11/dist-packages/statsmodels/tsa/base/tsa_model.py:473: ValueWarning: No frequency information was provided, so inferred frequency MS will be used.\n",
            "  self._init_dates(dates, freq)\n",
            "/usr/local/lib/python3.11/dist-packages/statsmodels/tsa/base/tsa_model.py:473: ValueWarning: No frequency information was provided, so inferred frequency MS will be used.\n",
            "  self._init_dates(dates, freq)\n",
            "/usr/local/lib/python3.11/dist-packages/statsmodels/tsa/statespace/sarimax.py:866: UserWarning: Too few observations to estimate starting parameters for seasonal ARMA. All parameters except for variances will be set to zeros.\n",
            "  warn('Too few observations to estimate starting parameters%s.'\n"
          ]
        },
        {
          "output_type": "stream",
          "name": "stdout",
          "text": [
            "SARIMA forecast for {'State': 'CO', 'Segment': 'SBG_MEW'} completed\n",
            "SARIMA forecast for {'State': 'CT', 'Segment': 'SBG_MEW'} completed\n",
            "SARIMA forecast for {'State': 'GA', 'Segment': 'SBG_MEW'} completed\n"
          ]
        },
        {
          "output_type": "stream",
          "name": "stderr",
          "text": [
            "/usr/local/lib/python3.11/dist-packages/statsmodels/tsa/statespace/mlemodel.py:1235: RuntimeWarning: invalid value encountered in divide\n",
            "  np.inner(score_obs, score_obs) /\n",
            "/usr/local/lib/python3.11/dist-packages/statsmodels/tsa/base/tsa_model.py:473: ValueWarning: No frequency information was provided, so inferred frequency MS will be used.\n",
            "  self._init_dates(dates, freq)\n",
            "/usr/local/lib/python3.11/dist-packages/statsmodels/tsa/base/tsa_model.py:473: ValueWarning: No frequency information was provided, so inferred frequency MS will be used.\n",
            "  self._init_dates(dates, freq)\n",
            "/usr/local/lib/python3.11/dist-packages/statsmodels/tsa/statespace/sarimax.py:866: UserWarning: Too few observations to estimate starting parameters for seasonal ARMA. All parameters except for variances will be set to zeros.\n",
            "  warn('Too few observations to estimate starting parameters%s.'\n",
            "/usr/local/lib/python3.11/dist-packages/statsmodels/tsa/statespace/mlemodel.py:1235: RuntimeWarning: invalid value encountered in divide\n",
            "  np.inner(score_obs, score_obs) /\n",
            "/usr/local/lib/python3.11/dist-packages/statsmodels/tsa/base/tsa_model.py:473: ValueWarning: No frequency information was provided, so inferred frequency MS will be used.\n",
            "  self._init_dates(dates, freq)\n",
            "/usr/local/lib/python3.11/dist-packages/statsmodels/tsa/base/tsa_model.py:473: ValueWarning: No frequency information was provided, so inferred frequency MS will be used.\n",
            "  self._init_dates(dates, freq)\n",
            "/usr/local/lib/python3.11/dist-packages/statsmodels/tsa/statespace/sarimax.py:866: UserWarning: Too few observations to estimate starting parameters for seasonal ARMA. All parameters except for variances will be set to zeros.\n",
            "  warn('Too few observations to estimate starting parameters%s.'\n",
            "/usr/local/lib/python3.11/dist-packages/statsmodels/tsa/statespace/mlemodel.py:1235: RuntimeWarning: invalid value encountered in divide\n",
            "  np.inner(score_obs, score_obs) /\n",
            "/usr/local/lib/python3.11/dist-packages/statsmodels/tsa/base/tsa_model.py:473: ValueWarning: No frequency information was provided, so inferred frequency MS will be used.\n",
            "  self._init_dates(dates, freq)\n",
            "/usr/local/lib/python3.11/dist-packages/statsmodels/tsa/base/tsa_model.py:473: ValueWarning: No frequency information was provided, so inferred frequency MS will be used.\n",
            "  self._init_dates(dates, freq)\n",
            "/usr/local/lib/python3.11/dist-packages/statsmodels/tsa/statespace/sarimax.py:866: UserWarning: Too few observations to estimate starting parameters for seasonal ARMA. All parameters except for variances will be set to zeros.\n",
            "  warn('Too few observations to estimate starting parameters%s.'\n",
            "/usr/local/lib/python3.11/dist-packages/statsmodels/tsa/statespace/mlemodel.py:1235: RuntimeWarning: invalid value encountered in divide\n",
            "  np.inner(score_obs, score_obs) /\n"
          ]
        },
        {
          "output_type": "stream",
          "name": "stdout",
          "text": [
            "SARIMA forecast for {'State': 'IN', 'Segment': 'SBG_MEW'} completed\n",
            "SARIMA forecast for {'State': 'KY', 'Segment': 'SBG_MEW'} completed\n",
            "SARIMA forecast for {'State': 'ME', 'Segment': 'SBG_MEW'} completed\n",
            "SARIMA forecast for {'State': 'MO', 'Segment': 'SBG_MEW'} completed\n"
          ]
        },
        {
          "output_type": "stream",
          "name": "stderr",
          "text": [
            "/usr/local/lib/python3.11/dist-packages/statsmodels/tsa/base/tsa_model.py:473: ValueWarning: No frequency information was provided, so inferred frequency MS will be used.\n",
            "  self._init_dates(dates, freq)\n",
            "/usr/local/lib/python3.11/dist-packages/statsmodels/tsa/base/tsa_model.py:473: ValueWarning: No frequency information was provided, so inferred frequency MS will be used.\n",
            "  self._init_dates(dates, freq)\n",
            "/usr/local/lib/python3.11/dist-packages/statsmodels/tsa/statespace/sarimax.py:866: UserWarning: Too few observations to estimate starting parameters for seasonal ARMA. All parameters except for variances will be set to zeros.\n",
            "  warn('Too few observations to estimate starting parameters%s.'\n",
            "/usr/local/lib/python3.11/dist-packages/statsmodels/tsa/statespace/mlemodel.py:1235: RuntimeWarning: invalid value encountered in divide\n",
            "  np.inner(score_obs, score_obs) /\n",
            "/usr/local/lib/python3.11/dist-packages/statsmodels/tsa/base/tsa_model.py:473: ValueWarning: No frequency information was provided, so inferred frequency MS will be used.\n",
            "  self._init_dates(dates, freq)\n",
            "/usr/local/lib/python3.11/dist-packages/statsmodels/tsa/base/tsa_model.py:473: ValueWarning: No frequency information was provided, so inferred frequency MS will be used.\n",
            "  self._init_dates(dates, freq)\n",
            "/usr/local/lib/python3.11/dist-packages/statsmodels/tsa/statespace/sarimax.py:866: UserWarning: Too few observations to estimate starting parameters for seasonal ARMA. All parameters except for variances will be set to zeros.\n",
            "  warn('Too few observations to estimate starting parameters%s.'\n",
            "/usr/local/lib/python3.11/dist-packages/statsmodels/tsa/statespace/mlemodel.py:1235: RuntimeWarning: invalid value encountered in divide\n",
            "  np.inner(score_obs, score_obs) /\n",
            "/usr/local/lib/python3.11/dist-packages/statsmodels/tsa/base/tsa_model.py:473: ValueWarning: No frequency information was provided, so inferred frequency MS will be used.\n",
            "  self._init_dates(dates, freq)\n",
            "/usr/local/lib/python3.11/dist-packages/statsmodels/tsa/base/tsa_model.py:473: ValueWarning: No frequency information was provided, so inferred frequency MS will be used.\n",
            "  self._init_dates(dates, freq)\n",
            "/usr/local/lib/python3.11/dist-packages/statsmodels/tsa/statespace/sarimax.py:866: UserWarning: Too few observations to estimate starting parameters for seasonal ARMA. All parameters except for variances will be set to zeros.\n",
            "  warn('Too few observations to estimate starting parameters%s.'\n",
            "/usr/local/lib/python3.11/dist-packages/statsmodels/tsa/statespace/mlemodel.py:1235: RuntimeWarning: invalid value encountered in divide\n",
            "  np.inner(score_obs, score_obs) /\n"
          ]
        },
        {
          "output_type": "stream",
          "name": "stdout",
          "text": [
            "SARIMA forecast for {'State': 'NH', 'Segment': 'SBG_MEW'} completed\n",
            "SARIMA forecast for {'State': 'NV', 'Segment': 'SBG_MEW'} completed\n",
            "SARIMA forecast for {'State': 'NY', 'Segment': 'SBG_MEW'} completed\n"
          ]
        },
        {
          "output_type": "stream",
          "name": "stderr",
          "text": [
            "/usr/local/lib/python3.11/dist-packages/statsmodels/tsa/base/tsa_model.py:473: ValueWarning: No frequency information was provided, so inferred frequency MS will be used.\n",
            "  self._init_dates(dates, freq)\n",
            "/usr/local/lib/python3.11/dist-packages/statsmodels/tsa/base/tsa_model.py:473: ValueWarning: No frequency information was provided, so inferred frequency MS will be used.\n",
            "  self._init_dates(dates, freq)\n",
            "/usr/local/lib/python3.11/dist-packages/statsmodels/tsa/statespace/sarimax.py:866: UserWarning: Too few observations to estimate starting parameters for seasonal ARMA. All parameters except for variances will be set to zeros.\n",
            "  warn('Too few observations to estimate starting parameters%s.'\n",
            "/usr/local/lib/python3.11/dist-packages/statsmodels/tsa/statespace/mlemodel.py:1235: RuntimeWarning: invalid value encountered in divide\n",
            "  np.inner(score_obs, score_obs) /\n",
            "/usr/local/lib/python3.11/dist-packages/statsmodels/tsa/base/tsa_model.py:473: ValueWarning: No frequency information was provided, so inferred frequency MS will be used.\n",
            "  self._init_dates(dates, freq)\n",
            "/usr/local/lib/python3.11/dist-packages/statsmodels/tsa/base/tsa_model.py:473: ValueWarning: No frequency information was provided, so inferred frequency MS will be used.\n",
            "  self._init_dates(dates, freq)\n",
            "/usr/local/lib/python3.11/dist-packages/statsmodels/tsa/statespace/sarimax.py:866: UserWarning: Too few observations to estimate starting parameters for seasonal ARMA. All parameters except for variances will be set to zeros.\n",
            "  warn('Too few observations to estimate starting parameters%s.'\n",
            "/usr/local/lib/python3.11/dist-packages/statsmodels/tsa/statespace/mlemodel.py:1235: RuntimeWarning: invalid value encountered in divide\n",
            "  np.inner(score_obs, score_obs) /\n",
            "/usr/local/lib/python3.11/dist-packages/statsmodels/tsa/base/tsa_model.py:473: ValueWarning: No frequency information was provided, so inferred frequency MS will be used.\n",
            "  self._init_dates(dates, freq)\n",
            "/usr/local/lib/python3.11/dist-packages/statsmodels/tsa/base/tsa_model.py:473: ValueWarning: No frequency information was provided, so inferred frequency MS will be used.\n",
            "  self._init_dates(dates, freq)\n",
            "/usr/local/lib/python3.11/dist-packages/statsmodels/tsa/statespace/sarimax.py:866: UserWarning: Too few observations to estimate starting parameters for seasonal ARMA. All parameters except for variances will be set to zeros.\n",
            "  warn('Too few observations to estimate starting parameters%s.'\n",
            "/usr/local/lib/python3.11/dist-packages/statsmodels/tsa/statespace/mlemodel.py:1235: RuntimeWarning: invalid value encountered in divide\n",
            "  np.inner(score_obs, score_obs) /\n"
          ]
        },
        {
          "output_type": "stream",
          "name": "stdout",
          "text": [
            "SARIMA forecast for {'State': 'OH', 'Segment': 'SBG_MEW'} completed\n",
            "SARIMA forecast for {'State': 'VA', 'Segment': 'SBG_MEW'} completed\n",
            "SARIMA forecast for {'State': 'WI', 'Segment': 'SBG_MEW'} completed\n",
            "SARIMA forecast for {'State': 'CA_HMO', 'Segment': 'LGP_SHP'} completed\n"
          ]
        },
        {
          "output_type": "stream",
          "name": "stderr",
          "text": [
            "/usr/local/lib/python3.11/dist-packages/statsmodels/tsa/base/tsa_model.py:473: ValueWarning: No frequency information was provided, so inferred frequency MS will be used.\n",
            "  self._init_dates(dates, freq)\n",
            "/usr/local/lib/python3.11/dist-packages/statsmodels/tsa/base/tsa_model.py:473: ValueWarning: No frequency information was provided, so inferred frequency MS will be used.\n",
            "  self._init_dates(dates, freq)\n",
            "/usr/local/lib/python3.11/dist-packages/statsmodels/tsa/statespace/sarimax.py:866: UserWarning: Too few observations to estimate starting parameters for seasonal ARMA. All parameters except for variances will be set to zeros.\n",
            "  warn('Too few observations to estimate starting parameters%s.'\n",
            "/usr/local/lib/python3.11/dist-packages/statsmodels/tsa/statespace/mlemodel.py:1235: RuntimeWarning: invalid value encountered in divide\n",
            "  np.inner(score_obs, score_obs) /\n",
            "/usr/local/lib/python3.11/dist-packages/statsmodels/tsa/base/tsa_model.py:473: ValueWarning: No frequency information was provided, so inferred frequency MS will be used.\n",
            "  self._init_dates(dates, freq)\n",
            "/usr/local/lib/python3.11/dist-packages/statsmodels/tsa/base/tsa_model.py:473: ValueWarning: No frequency information was provided, so inferred frequency MS will be used.\n",
            "  self._init_dates(dates, freq)\n",
            "/usr/local/lib/python3.11/dist-packages/statsmodels/tsa/statespace/sarimax.py:866: UserWarning: Too few observations to estimate starting parameters for seasonal ARMA. All parameters except for variances will be set to zeros.\n",
            "  warn('Too few observations to estimate starting parameters%s.'\n",
            "/usr/local/lib/python3.11/dist-packages/statsmodels/tsa/statespace/mlemodel.py:1235: RuntimeWarning: invalid value encountered in divide\n",
            "  np.inner(score_obs, score_obs) /\n",
            "/usr/local/lib/python3.11/dist-packages/statsmodels/tsa/base/tsa_model.py:473: ValueWarning: No frequency information was provided, so inferred frequency MS will be used.\n",
            "  self._init_dates(dates, freq)\n",
            "/usr/local/lib/python3.11/dist-packages/statsmodels/tsa/base/tsa_model.py:473: ValueWarning: No frequency information was provided, so inferred frequency MS will be used.\n",
            "  self._init_dates(dates, freq)\n",
            "/usr/local/lib/python3.11/dist-packages/statsmodels/tsa/statespace/sarimax.py:866: UserWarning: Too few observations to estimate starting parameters for seasonal ARMA. All parameters except for variances will be set to zeros.\n",
            "  warn('Too few observations to estimate starting parameters%s.'\n",
            "/usr/local/lib/python3.11/dist-packages/statsmodels/tsa/statespace/mlemodel.py:1235: RuntimeWarning: invalid value encountered in divide\n",
            "  np.inner(score_obs, score_obs) /\n"
          ]
        },
        {
          "output_type": "stream",
          "name": "stdout",
          "text": [
            "SARIMA forecast for {'State': 'CA_PPO', 'Segment': 'LGP_SHP'} completed\n",
            "SARIMA forecast for {'State': 'CO', 'Segment': 'LGP_SHP'} completed\n",
            "SARIMA forecast for {'State': 'CT', 'Segment': 'LGP_SHP'} completed\n",
            "SARIMA forecast for {'State': 'GA', 'Segment': 'LGP_SHP'} completed\n",
            "SARIMA forecast for {'State': 'IN', 'Segment': 'LGP_SHP'} completed\n",
            "SARIMA forecast for {'State': 'KY', 'Segment': 'LGP_SHP'} completed\n"
          ]
        },
        {
          "output_type": "stream",
          "name": "stderr",
          "text": [
            "/usr/local/lib/python3.11/dist-packages/statsmodels/tsa/base/tsa_model.py:473: ValueWarning: No frequency information was provided, so inferred frequency MS will be used.\n",
            "  self._init_dates(dates, freq)\n",
            "/usr/local/lib/python3.11/dist-packages/statsmodels/tsa/base/tsa_model.py:473: ValueWarning: No frequency information was provided, so inferred frequency MS will be used.\n",
            "  self._init_dates(dates, freq)\n",
            "/usr/local/lib/python3.11/dist-packages/statsmodels/tsa/statespace/sarimax.py:866: UserWarning: Too few observations to estimate starting parameters for seasonal ARMA. All parameters except for variances will be set to zeros.\n",
            "  warn('Too few observations to estimate starting parameters%s.'\n",
            "/usr/local/lib/python3.11/dist-packages/statsmodels/tsa/statespace/mlemodel.py:1235: RuntimeWarning: invalid value encountered in divide\n",
            "  np.inner(score_obs, score_obs) /\n",
            "/usr/local/lib/python3.11/dist-packages/statsmodels/tsa/base/tsa_model.py:473: ValueWarning: No frequency information was provided, so inferred frequency MS will be used.\n",
            "  self._init_dates(dates, freq)\n",
            "/usr/local/lib/python3.11/dist-packages/statsmodels/tsa/base/tsa_model.py:473: ValueWarning: No frequency information was provided, so inferred frequency MS will be used.\n",
            "  self._init_dates(dates, freq)\n",
            "/usr/local/lib/python3.11/dist-packages/statsmodels/tsa/statespace/sarimax.py:866: UserWarning: Too few observations to estimate starting parameters for seasonal ARMA. All parameters except for variances will be set to zeros.\n",
            "  warn('Too few observations to estimate starting parameters%s.'\n",
            "/usr/local/lib/python3.11/dist-packages/statsmodels/tsa/statespace/mlemodel.py:1235: RuntimeWarning: invalid value encountered in divide\n",
            "  np.inner(score_obs, score_obs) /\n",
            "/usr/local/lib/python3.11/dist-packages/statsmodels/tsa/base/tsa_model.py:473: ValueWarning: No frequency information was provided, so inferred frequency MS will be used.\n",
            "  self._init_dates(dates, freq)\n",
            "/usr/local/lib/python3.11/dist-packages/statsmodels/tsa/base/tsa_model.py:473: ValueWarning: No frequency information was provided, so inferred frequency MS will be used.\n",
            "  self._init_dates(dates, freq)\n",
            "/usr/local/lib/python3.11/dist-packages/statsmodels/tsa/statespace/sarimax.py:866: UserWarning: Too few observations to estimate starting parameters for seasonal ARMA. All parameters except for variances will be set to zeros.\n",
            "  warn('Too few observations to estimate starting parameters%s.'\n",
            "/usr/local/lib/python3.11/dist-packages/statsmodels/tsa/statespace/mlemodel.py:1235: RuntimeWarning: invalid value encountered in divide\n",
            "  np.inner(score_obs, score_obs) /\n",
            "/usr/local/lib/python3.11/dist-packages/statsmodels/tsa/base/tsa_model.py:473: ValueWarning: No frequency information was provided, so inferred frequency MS will be used.\n",
            "  self._init_dates(dates, freq)\n",
            "/usr/local/lib/python3.11/dist-packages/statsmodels/tsa/base/tsa_model.py:473: ValueWarning: No frequency information was provided, so inferred frequency MS will be used.\n",
            "  self._init_dates(dates, freq)\n",
            "/usr/local/lib/python3.11/dist-packages/statsmodels/tsa/statespace/sarimax.py:866: UserWarning: Too few observations to estimate starting parameters for seasonal ARMA. All parameters except for variances will be set to zeros.\n",
            "  warn('Too few observations to estimate starting parameters%s.'\n",
            "/usr/local/lib/python3.11/dist-packages/statsmodels/tsa/statespace/mlemodel.py:1235: RuntimeWarning: invalid value encountered in divide\n",
            "  np.inner(score_obs, score_obs) /\n",
            "/usr/local/lib/python3.11/dist-packages/statsmodels/tsa/base/tsa_model.py:473: ValueWarning: No frequency information was provided, so inferred frequency MS will be used.\n",
            "  self._init_dates(dates, freq)\n",
            "/usr/local/lib/python3.11/dist-packages/statsmodels/tsa/base/tsa_model.py:473: ValueWarning: No frequency information was provided, so inferred frequency MS will be used.\n",
            "  self._init_dates(dates, freq)\n",
            "/usr/local/lib/python3.11/dist-packages/statsmodels/tsa/statespace/sarimax.py:866: UserWarning: Too few observations to estimate starting parameters for seasonal ARMA. All parameters except for variances will be set to zeros.\n",
            "  warn('Too few observations to estimate starting parameters%s.'\n",
            "/usr/local/lib/python3.11/dist-packages/statsmodels/tsa/statespace/mlemodel.py:1235: RuntimeWarning: invalid value encountered in divide\n",
            "  np.inner(score_obs, score_obs) /\n",
            "/usr/local/lib/python3.11/dist-packages/statsmodels/tsa/base/tsa_model.py:473: ValueWarning: No frequency information was provided, so inferred frequency MS will be used.\n",
            "  self._init_dates(dates, freq)\n",
            "/usr/local/lib/python3.11/dist-packages/statsmodels/tsa/base/tsa_model.py:473: ValueWarning: No frequency information was provided, so inferred frequency MS will be used.\n",
            "  self._init_dates(dates, freq)\n",
            "/usr/local/lib/python3.11/dist-packages/statsmodels/tsa/statespace/sarimax.py:866: UserWarning: Too few observations to estimate starting parameters for seasonal ARMA. All parameters except for variances will be set to zeros.\n",
            "  warn('Too few observations to estimate starting parameters%s.'\n",
            "/usr/local/lib/python3.11/dist-packages/statsmodels/tsa/statespace/mlemodel.py:1235: RuntimeWarning: invalid value encountered in divide\n",
            "  np.inner(score_obs, score_obs) /\n"
          ]
        },
        {
          "output_type": "stream",
          "name": "stdout",
          "text": [
            "SARIMA forecast for {'State': 'ME', 'Segment': 'LGP_SHP'} completed\n",
            "SARIMA forecast for {'State': 'MO', 'Segment': 'LGP_SHP'} completed\n",
            "SARIMA forecast for {'State': 'NH', 'Segment': 'LGP_SHP'} completed\n",
            "SARIMA forecast for {'State': 'NV', 'Segment': 'LGP_SHP'} completed\n",
            "SARIMA forecast for {'State': 'NY', 'Segment': 'LGP_SHP'} completed\n",
            "SARIMA forecast for {'State': 'OH', 'Segment': 'LGP_SHP'} completed\n"
          ]
        },
        {
          "output_type": "stream",
          "name": "stderr",
          "text": [
            "/usr/local/lib/python3.11/dist-packages/statsmodels/tsa/base/tsa_model.py:473: ValueWarning: No frequency information was provided, so inferred frequency MS will be used.\n",
            "  self._init_dates(dates, freq)\n",
            "/usr/local/lib/python3.11/dist-packages/statsmodels/tsa/base/tsa_model.py:473: ValueWarning: No frequency information was provided, so inferred frequency MS will be used.\n",
            "  self._init_dates(dates, freq)\n",
            "/usr/local/lib/python3.11/dist-packages/statsmodels/tsa/statespace/sarimax.py:866: UserWarning: Too few observations to estimate starting parameters for seasonal ARMA. All parameters except for variances will be set to zeros.\n",
            "  warn('Too few observations to estimate starting parameters%s.'\n",
            "/usr/local/lib/python3.11/dist-packages/statsmodels/tsa/statespace/mlemodel.py:1235: RuntimeWarning: invalid value encountered in divide\n",
            "  np.inner(score_obs, score_obs) /\n",
            "/usr/local/lib/python3.11/dist-packages/statsmodels/tsa/base/tsa_model.py:473: ValueWarning: No frequency information was provided, so inferred frequency MS will be used.\n",
            "  self._init_dates(dates, freq)\n",
            "/usr/local/lib/python3.11/dist-packages/statsmodels/tsa/base/tsa_model.py:473: ValueWarning: No frequency information was provided, so inferred frequency MS will be used.\n",
            "  self._init_dates(dates, freq)\n",
            "/usr/local/lib/python3.11/dist-packages/statsmodels/tsa/statespace/sarimax.py:866: UserWarning: Too few observations to estimate starting parameters for seasonal ARMA. All parameters except for variances will be set to zeros.\n",
            "  warn('Too few observations to estimate starting parameters%s.'\n",
            "/usr/local/lib/python3.11/dist-packages/statsmodels/tsa/statespace/mlemodel.py:1235: RuntimeWarning: invalid value encountered in divide\n",
            "  np.inner(score_obs, score_obs) /\n",
            "/usr/local/lib/python3.11/dist-packages/statsmodels/tsa/base/tsa_model.py:473: ValueWarning: No frequency information was provided, so inferred frequency MS will be used.\n",
            "  self._init_dates(dates, freq)\n",
            "/usr/local/lib/python3.11/dist-packages/statsmodels/tsa/base/tsa_model.py:473: ValueWarning: No frequency information was provided, so inferred frequency MS will be used.\n",
            "  self._init_dates(dates, freq)\n",
            "/usr/local/lib/python3.11/dist-packages/statsmodels/tsa/statespace/sarimax.py:866: UserWarning: Too few observations to estimate starting parameters for seasonal ARMA. All parameters except for variances will be set to zeros.\n",
            "  warn('Too few observations to estimate starting parameters%s.'\n",
            "/usr/local/lib/python3.11/dist-packages/statsmodels/tsa/statespace/mlemodel.py:1235: RuntimeWarning: invalid value encountered in divide\n",
            "  np.inner(score_obs, score_obs) /\n",
            "/usr/local/lib/python3.11/dist-packages/statsmodels/tsa/base/tsa_model.py:473: ValueWarning: No frequency information was provided, so inferred frequency MS will be used.\n",
            "  self._init_dates(dates, freq)\n",
            "/usr/local/lib/python3.11/dist-packages/statsmodels/tsa/base/tsa_model.py:473: ValueWarning: No frequency information was provided, so inferred frequency MS will be used.\n",
            "  self._init_dates(dates, freq)\n",
            "/usr/local/lib/python3.11/dist-packages/statsmodels/tsa/statespace/sarimax.py:866: UserWarning: Too few observations to estimate starting parameters for seasonal ARMA. All parameters except for variances will be set to zeros.\n",
            "  warn('Too few observations to estimate starting parameters%s.'\n",
            "/usr/local/lib/python3.11/dist-packages/statsmodels/tsa/statespace/mlemodel.py:1235: RuntimeWarning: invalid value encountered in divide\n",
            "  np.inner(score_obs, score_obs) /\n",
            "/usr/local/lib/python3.11/dist-packages/statsmodels/tsa/base/tsa_model.py:473: ValueWarning: No frequency information was provided, so inferred frequency MS will be used.\n",
            "  self._init_dates(dates, freq)\n",
            "/usr/local/lib/python3.11/dist-packages/statsmodels/tsa/base/tsa_model.py:473: ValueWarning: No frequency information was provided, so inferred frequency MS will be used.\n",
            "  self._init_dates(dates, freq)\n",
            "/usr/local/lib/python3.11/dist-packages/statsmodels/tsa/statespace/sarimax.py:866: UserWarning: Too few observations to estimate starting parameters for seasonal ARMA. All parameters except for variances will be set to zeros.\n",
            "  warn('Too few observations to estimate starting parameters%s.'\n",
            "/usr/local/lib/python3.11/dist-packages/statsmodels/tsa/statespace/mlemodel.py:1235: RuntimeWarning: invalid value encountered in divide\n",
            "  np.inner(score_obs, score_obs) /\n",
            "/usr/local/lib/python3.11/dist-packages/statsmodels/tsa/base/tsa_model.py:473: ValueWarning: No frequency information was provided, so inferred frequency MS will be used.\n",
            "  self._init_dates(dates, freq)\n",
            "/usr/local/lib/python3.11/dist-packages/statsmodels/tsa/base/tsa_model.py:473: ValueWarning: No frequency information was provided, so inferred frequency MS will be used.\n",
            "  self._init_dates(dates, freq)\n",
            "/usr/local/lib/python3.11/dist-packages/statsmodels/tsa/statespace/sarimax.py:866: UserWarning: Too few observations to estimate starting parameters for seasonal ARMA. All parameters except for variances will be set to zeros.\n",
            "  warn('Too few observations to estimate starting parameters%s.'\n",
            "/usr/local/lib/python3.11/dist-packages/statsmodels/tsa/statespace/mlemodel.py:1235: RuntimeWarning: invalid value encountered in divide\n",
            "  np.inner(score_obs, score_obs) /\n"
          ]
        },
        {
          "output_type": "stream",
          "name": "stdout",
          "text": [
            "SARIMA forecast for {'State': 'VA', 'Segment': 'LGP_SHP'} completed\n",
            "SARIMA forecast for {'State': 'WI', 'Segment': 'LGP_SHP'} completed\n",
            "SARIMA forecast for {'State': 'CA_HMO', 'Segment': 'LGP_NRF'} completed\n",
            "SARIMA forecast for {'State': 'CA_PPO', 'Segment': 'LGP_NRF'} completed\n",
            "SARIMA forecast for {'State': 'CO', 'Segment': 'LGP_NRF'} completed\n",
            "SARIMA forecast for {'State': 'CT', 'Segment': 'LGP_NRF'} completed\n",
            "SARIMA forecast for {'State': 'GA', 'Segment': 'LGP_NRF'} completed\n"
          ]
        },
        {
          "output_type": "stream",
          "name": "stderr",
          "text": [
            "/usr/local/lib/python3.11/dist-packages/statsmodels/tsa/base/tsa_model.py:473: ValueWarning: No frequency information was provided, so inferred frequency MS will be used.\n",
            "  self._init_dates(dates, freq)\n",
            "/usr/local/lib/python3.11/dist-packages/statsmodels/tsa/base/tsa_model.py:473: ValueWarning: No frequency information was provided, so inferred frequency MS will be used.\n",
            "  self._init_dates(dates, freq)\n",
            "/usr/local/lib/python3.11/dist-packages/statsmodels/tsa/statespace/sarimax.py:866: UserWarning: Too few observations to estimate starting parameters for seasonal ARMA. All parameters except for variances will be set to zeros.\n",
            "  warn('Too few observations to estimate starting parameters%s.'\n",
            "/usr/local/lib/python3.11/dist-packages/statsmodels/tsa/statespace/mlemodel.py:1235: RuntimeWarning: invalid value encountered in divide\n",
            "  np.inner(score_obs, score_obs) /\n",
            "/usr/local/lib/python3.11/dist-packages/statsmodels/tsa/base/tsa_model.py:473: ValueWarning: No frequency information was provided, so inferred frequency MS will be used.\n",
            "  self._init_dates(dates, freq)\n",
            "/usr/local/lib/python3.11/dist-packages/statsmodels/tsa/base/tsa_model.py:473: ValueWarning: No frequency information was provided, so inferred frequency MS will be used.\n",
            "  self._init_dates(dates, freq)\n",
            "/usr/local/lib/python3.11/dist-packages/statsmodels/tsa/statespace/sarimax.py:866: UserWarning: Too few observations to estimate starting parameters for seasonal ARMA. All parameters except for variances will be set to zeros.\n",
            "  warn('Too few observations to estimate starting parameters%s.'\n",
            "/usr/local/lib/python3.11/dist-packages/statsmodels/tsa/statespace/mlemodel.py:1235: RuntimeWarning: invalid value encountered in divide\n",
            "  np.inner(score_obs, score_obs) /\n",
            "/usr/local/lib/python3.11/dist-packages/statsmodels/tsa/base/tsa_model.py:473: ValueWarning: No frequency information was provided, so inferred frequency MS will be used.\n",
            "  self._init_dates(dates, freq)\n",
            "/usr/local/lib/python3.11/dist-packages/statsmodels/tsa/base/tsa_model.py:473: ValueWarning: No frequency information was provided, so inferred frequency MS will be used.\n",
            "  self._init_dates(dates, freq)\n",
            "/usr/local/lib/python3.11/dist-packages/statsmodels/tsa/statespace/sarimax.py:866: UserWarning: Too few observations to estimate starting parameters for seasonal ARMA. All parameters except for variances will be set to zeros.\n",
            "  warn('Too few observations to estimate starting parameters%s.'\n",
            "/usr/local/lib/python3.11/dist-packages/statsmodels/tsa/statespace/mlemodel.py:1235: RuntimeWarning: invalid value encountered in divide\n",
            "  np.inner(score_obs, score_obs) /\n",
            "/usr/local/lib/python3.11/dist-packages/statsmodels/tsa/base/tsa_model.py:473: ValueWarning: No frequency information was provided, so inferred frequency MS will be used.\n",
            "  self._init_dates(dates, freq)\n",
            "/usr/local/lib/python3.11/dist-packages/statsmodels/tsa/base/tsa_model.py:473: ValueWarning: No frequency information was provided, so inferred frequency MS will be used.\n",
            "  self._init_dates(dates, freq)\n",
            "/usr/local/lib/python3.11/dist-packages/statsmodels/tsa/statespace/sarimax.py:866: UserWarning: Too few observations to estimate starting parameters for seasonal ARMA. All parameters except for variances will be set to zeros.\n",
            "  warn('Too few observations to estimate starting parameters%s.'\n",
            "/usr/local/lib/python3.11/dist-packages/statsmodels/tsa/statespace/mlemodel.py:1235: RuntimeWarning: invalid value encountered in divide\n",
            "  np.inner(score_obs, score_obs) /\n",
            "/usr/local/lib/python3.11/dist-packages/statsmodels/tsa/base/tsa_model.py:473: ValueWarning: No frequency information was provided, so inferred frequency MS will be used.\n",
            "  self._init_dates(dates, freq)\n",
            "/usr/local/lib/python3.11/dist-packages/statsmodels/tsa/base/tsa_model.py:473: ValueWarning: No frequency information was provided, so inferred frequency MS will be used.\n",
            "  self._init_dates(dates, freq)\n",
            "/usr/local/lib/python3.11/dist-packages/statsmodels/tsa/statespace/sarimax.py:866: UserWarning: Too few observations to estimate starting parameters for seasonal ARMA. All parameters except for variances will be set to zeros.\n",
            "  warn('Too few observations to estimate starting parameters%s.'\n",
            "/usr/local/lib/python3.11/dist-packages/statsmodels/tsa/statespace/mlemodel.py:1235: RuntimeWarning: invalid value encountered in divide\n",
            "  np.inner(score_obs, score_obs) /\n",
            "/usr/local/lib/python3.11/dist-packages/statsmodels/tsa/base/tsa_model.py:473: ValueWarning: No frequency information was provided, so inferred frequency MS will be used.\n",
            "  self._init_dates(dates, freq)\n",
            "/usr/local/lib/python3.11/dist-packages/statsmodels/tsa/base/tsa_model.py:473: ValueWarning: No frequency information was provided, so inferred frequency MS will be used.\n",
            "  self._init_dates(dates, freq)\n",
            "/usr/local/lib/python3.11/dist-packages/statsmodels/tsa/statespace/sarimax.py:866: UserWarning: Too few observations to estimate starting parameters for seasonal ARMA. All parameters except for variances will be set to zeros.\n",
            "  warn('Too few observations to estimate starting parameters%s.'\n",
            "/usr/local/lib/python3.11/dist-packages/statsmodels/tsa/statespace/mlemodel.py:1235: RuntimeWarning: invalid value encountered in divide\n",
            "  np.inner(score_obs, score_obs) /\n",
            "/usr/local/lib/python3.11/dist-packages/statsmodels/tsa/base/tsa_model.py:473: ValueWarning: No frequency information was provided, so inferred frequency MS will be used.\n",
            "  self._init_dates(dates, freq)\n",
            "/usr/local/lib/python3.11/dist-packages/statsmodels/tsa/base/tsa_model.py:473: ValueWarning: No frequency information was provided, so inferred frequency MS will be used.\n",
            "  self._init_dates(dates, freq)\n",
            "/usr/local/lib/python3.11/dist-packages/statsmodels/tsa/statespace/sarimax.py:866: UserWarning: Too few observations to estimate starting parameters for seasonal ARMA. All parameters except for variances will be set to zeros.\n",
            "  warn('Too few observations to estimate starting parameters%s.'\n",
            "/usr/local/lib/python3.11/dist-packages/statsmodels/tsa/statespace/mlemodel.py:1235: RuntimeWarning: invalid value encountered in divide\n",
            "  np.inner(score_obs, score_obs) /\n",
            "/usr/local/lib/python3.11/dist-packages/statsmodels/tsa/base/tsa_model.py:473: ValueWarning: No frequency information was provided, so inferred frequency MS will be used.\n",
            "  self._init_dates(dates, freq)\n",
            "/usr/local/lib/python3.11/dist-packages/statsmodels/tsa/base/tsa_model.py:473: ValueWarning: No frequency information was provided, so inferred frequency MS will be used.\n",
            "  self._init_dates(dates, freq)\n",
            "/usr/local/lib/python3.11/dist-packages/statsmodels/tsa/statespace/sarimax.py:866: UserWarning: Too few observations to estimate starting parameters for seasonal ARMA. All parameters except for variances will be set to zeros.\n",
            "  warn('Too few observations to estimate starting parameters%s.'\n"
          ]
        },
        {
          "output_type": "stream",
          "name": "stdout",
          "text": [
            "SARIMA forecast for {'State': 'IN', 'Segment': 'LGP_NRF'} completed\n",
            "SARIMA forecast for {'State': 'KY', 'Segment': 'LGP_NRF'} completed\n",
            "SARIMA forecast for {'State': 'ME', 'Segment': 'LGP_NRF'} completed\n",
            "SARIMA forecast for {'State': 'MO', 'Segment': 'LGP_NRF'} completed\n",
            "SARIMA forecast for {'State': 'NH', 'Segment': 'LGP_NRF'} completed\n",
            "SARIMA forecast for {'State': 'NV', 'Segment': 'LGP_NRF'} completed\n",
            "SARIMA forecast for {'State': 'NY', 'Segment': 'LGP_NRF'} completed\n"
          ]
        },
        {
          "output_type": "stream",
          "name": "stderr",
          "text": [
            "/usr/local/lib/python3.11/dist-packages/statsmodels/tsa/statespace/mlemodel.py:1235: RuntimeWarning: invalid value encountered in divide\n",
            "  np.inner(score_obs, score_obs) /\n",
            "/usr/local/lib/python3.11/dist-packages/statsmodels/tsa/base/tsa_model.py:473: ValueWarning: No frequency information was provided, so inferred frequency MS will be used.\n",
            "  self._init_dates(dates, freq)\n",
            "/usr/local/lib/python3.11/dist-packages/statsmodels/tsa/base/tsa_model.py:473: ValueWarning: No frequency information was provided, so inferred frequency MS will be used.\n",
            "  self._init_dates(dates, freq)\n",
            "/usr/local/lib/python3.11/dist-packages/statsmodels/tsa/statespace/sarimax.py:866: UserWarning: Too few observations to estimate starting parameters for seasonal ARMA. All parameters except for variances will be set to zeros.\n",
            "  warn('Too few observations to estimate starting parameters%s.'\n",
            "/usr/local/lib/python3.11/dist-packages/statsmodels/tsa/statespace/mlemodel.py:1235: RuntimeWarning: invalid value encountered in divide\n",
            "  np.inner(score_obs, score_obs) /\n",
            "/usr/local/lib/python3.11/dist-packages/statsmodels/tsa/base/tsa_model.py:473: ValueWarning: No frequency information was provided, so inferred frequency MS will be used.\n",
            "  self._init_dates(dates, freq)\n",
            "/usr/local/lib/python3.11/dist-packages/statsmodels/tsa/base/tsa_model.py:473: ValueWarning: No frequency information was provided, so inferred frequency MS will be used.\n",
            "  self._init_dates(dates, freq)\n",
            "/usr/local/lib/python3.11/dist-packages/statsmodels/tsa/statespace/sarimax.py:866: UserWarning: Too few observations to estimate starting parameters for seasonal ARMA. All parameters except for variances will be set to zeros.\n",
            "  warn('Too few observations to estimate starting parameters%s.'\n",
            "/usr/local/lib/python3.11/dist-packages/statsmodels/tsa/statespace/mlemodel.py:1235: RuntimeWarning: invalid value encountered in divide\n",
            "  np.inner(score_obs, score_obs) /\n",
            "/usr/local/lib/python3.11/dist-packages/statsmodels/tsa/base/tsa_model.py:473: ValueWarning: No frequency information was provided, so inferred frequency MS will be used.\n",
            "  self._init_dates(dates, freq)\n",
            "/usr/local/lib/python3.11/dist-packages/statsmodels/tsa/base/tsa_model.py:473: ValueWarning: No frequency information was provided, so inferred frequency MS will be used.\n",
            "  self._init_dates(dates, freq)\n",
            "/usr/local/lib/python3.11/dist-packages/statsmodels/tsa/statespace/sarimax.py:866: UserWarning: Too few observations to estimate starting parameters for seasonal ARMA. All parameters except for variances will be set to zeros.\n",
            "  warn('Too few observations to estimate starting parameters%s.'\n",
            "/usr/local/lib/python3.11/dist-packages/statsmodels/tsa/statespace/mlemodel.py:1235: RuntimeWarning: invalid value encountered in divide\n",
            "  np.inner(score_obs, score_obs) /\n",
            "/usr/local/lib/python3.11/dist-packages/statsmodels/tsa/base/tsa_model.py:473: ValueWarning: No frequency information was provided, so inferred frequency MS will be used.\n",
            "  self._init_dates(dates, freq)\n",
            "/usr/local/lib/python3.11/dist-packages/statsmodels/tsa/base/tsa_model.py:473: ValueWarning: No frequency information was provided, so inferred frequency MS will be used.\n",
            "  self._init_dates(dates, freq)\n",
            "/usr/local/lib/python3.11/dist-packages/statsmodels/tsa/statespace/sarimax.py:866: UserWarning: Too few observations to estimate starting parameters for seasonal ARMA. All parameters except for variances will be set to zeros.\n",
            "  warn('Too few observations to estimate starting parameters%s.'\n",
            "/usr/local/lib/python3.11/dist-packages/statsmodels/tsa/statespace/mlemodel.py:1235: RuntimeWarning: invalid value encountered in divide\n",
            "  np.inner(score_obs, score_obs) /\n",
            "/usr/local/lib/python3.11/dist-packages/statsmodels/tsa/base/tsa_model.py:473: ValueWarning: No frequency information was provided, so inferred frequency MS will be used.\n",
            "  self._init_dates(dates, freq)\n",
            "/usr/local/lib/python3.11/dist-packages/statsmodels/tsa/base/tsa_model.py:473: ValueWarning: No frequency information was provided, so inferred frequency MS will be used.\n",
            "  self._init_dates(dates, freq)\n",
            "/usr/local/lib/python3.11/dist-packages/statsmodels/tsa/statespace/sarimax.py:866: UserWarning: Too few observations to estimate starting parameters for seasonal ARMA. All parameters except for variances will be set to zeros.\n",
            "  warn('Too few observations to estimate starting parameters%s.'\n",
            "/usr/local/lib/python3.11/dist-packages/statsmodels/tsa/statespace/mlemodel.py:1235: RuntimeWarning: invalid value encountered in divide\n",
            "  np.inner(score_obs, score_obs) /\n",
            "/usr/local/lib/python3.11/dist-packages/statsmodels/tsa/base/tsa_model.py:473: ValueWarning: No frequency information was provided, so inferred frequency MS will be used.\n",
            "  self._init_dates(dates, freq)\n",
            "/usr/local/lib/python3.11/dist-packages/statsmodels/tsa/base/tsa_model.py:473: ValueWarning: No frequency information was provided, so inferred frequency MS will be used.\n",
            "  self._init_dates(dates, freq)\n",
            "/usr/local/lib/python3.11/dist-packages/statsmodels/tsa/statespace/sarimax.py:866: UserWarning: Too few observations to estimate starting parameters for seasonal ARMA. All parameters except for variances will be set to zeros.\n",
            "  warn('Too few observations to estimate starting parameters%s.'\n",
            "/usr/local/lib/python3.11/dist-packages/statsmodels/tsa/statespace/mlemodel.py:1235: RuntimeWarning: invalid value encountered in divide\n",
            "  np.inner(score_obs, score_obs) /\n",
            "/usr/local/lib/python3.11/dist-packages/statsmodels/tsa/base/tsa_model.py:473: ValueWarning: No frequency information was provided, so inferred frequency MS will be used.\n",
            "  self._init_dates(dates, freq)\n",
            "/usr/local/lib/python3.11/dist-packages/statsmodels/tsa/base/tsa_model.py:473: ValueWarning: No frequency information was provided, so inferred frequency MS will be used.\n",
            "  self._init_dates(dates, freq)\n",
            "/usr/local/lib/python3.11/dist-packages/statsmodels/tsa/statespace/sarimax.py:866: UserWarning: Too few observations to estimate starting parameters for seasonal ARMA. All parameters except for variances will be set to zeros.\n",
            "  warn('Too few observations to estimate starting parameters%s.'\n",
            "/usr/local/lib/python3.11/dist-packages/statsmodels/tsa/statespace/mlemodel.py:1235: RuntimeWarning: invalid value encountered in divide\n",
            "  np.inner(score_obs, score_obs) /\n",
            "INFO:prophet:n_changepoints greater than number of observations. Using 19.\n",
            "DEBUG:cmdstanpy:input tempfile: /tmp/tmpfdntuhgz/ebuzm5is.json\n",
            "DEBUG:cmdstanpy:input tempfile: /tmp/tmpfdntuhgz/ax8a2fl3.json\n",
            "DEBUG:cmdstanpy:idx 0\n",
            "DEBUG:cmdstanpy:running CmdStan, num_threads: None\n",
            "DEBUG:cmdstanpy:CmdStan args: ['/usr/local/lib/python3.11/dist-packages/prophet/stan_model/prophet_model.bin', 'random', 'seed=7148', 'data', 'file=/tmp/tmpfdntuhgz/ebuzm5is.json', 'init=/tmp/tmpfdntuhgz/ax8a2fl3.json', 'output', 'file=/tmp/tmpfdntuhgz/prophet_model6vm78px1/prophet_model-20250407024527.csv', 'method=optimize', 'algorithm=newton', 'iter=10000']\n",
            "02:45:27 - cmdstanpy - INFO - Chain [1] start processing\n",
            "INFO:cmdstanpy:Chain [1] start processing\n"
          ]
        },
        {
          "output_type": "stream",
          "name": "stdout",
          "text": [
            "SARIMA forecast for {'State': 'OH', 'Segment': 'LGP_NRF'} completed\n",
            "SARIMA forecast for {'State': 'VA', 'Segment': 'LGP_NRF'} completed\n",
            "SARIMA forecast for {'State': 'WI', 'Segment': 'LGP_NRF'} completed\n",
            "SARIMA forecasting completed for 108 out of 108 groups\n",
            "Training Prophet model for mmos\n",
            "Starting Prophet forecasts for 108 groups\n"
          ]
        },
        {
          "output_type": "stream",
          "name": "stderr",
          "text": [
            "02:45:27 - cmdstanpy - INFO - Chain [1] done processing\n",
            "INFO:cmdstanpy:Chain [1] done processing\n",
            "INFO:prophet:n_changepoints greater than number of observations. Using 19.\n",
            "DEBUG:cmdstanpy:input tempfile: /tmp/tmpfdntuhgz/naj2phpi.json\n",
            "DEBUG:cmdstanpy:input tempfile: /tmp/tmpfdntuhgz/dud7dodg.json\n",
            "DEBUG:cmdstanpy:idx 0\n",
            "DEBUG:cmdstanpy:running CmdStan, num_threads: None\n",
            "DEBUG:cmdstanpy:CmdStan args: ['/usr/local/lib/python3.11/dist-packages/prophet/stan_model/prophet_model.bin', 'random', 'seed=44691', 'data', 'file=/tmp/tmpfdntuhgz/naj2phpi.json', 'init=/tmp/tmpfdntuhgz/dud7dodg.json', 'output', 'file=/tmp/tmpfdntuhgz/prophet_model8vft_gx1/prophet_model-20250407024527.csv', 'method=optimize', 'algorithm=newton', 'iter=10000']\n",
            "02:45:27 - cmdstanpy - INFO - Chain [1] start processing\n",
            "INFO:cmdstanpy:Chain [1] start processing\n"
          ]
        },
        {
          "output_type": "stream",
          "name": "stdout",
          "text": [
            "Prophet forecast for {'State': 'CA_HMO', 'Segment': 'IND_ACA'} completed\n"
          ]
        },
        {
          "output_type": "stream",
          "name": "stderr",
          "text": [
            "02:45:44 - cmdstanpy - INFO - Chain [1] done processing\n",
            "INFO:cmdstanpy:Chain [1] done processing\n",
            "INFO:prophet:n_changepoints greater than number of observations. Using 19.\n",
            "DEBUG:cmdstanpy:input tempfile: /tmp/tmpfdntuhgz/hpygh653.json\n",
            "DEBUG:cmdstanpy:input tempfile: /tmp/tmpfdntuhgz/vnw93gs5.json\n",
            "DEBUG:cmdstanpy:idx 0\n",
            "DEBUG:cmdstanpy:running CmdStan, num_threads: None\n",
            "DEBUG:cmdstanpy:CmdStan args: ['/usr/local/lib/python3.11/dist-packages/prophet/stan_model/prophet_model.bin', 'random', 'seed=87761', 'data', 'file=/tmp/tmpfdntuhgz/hpygh653.json', 'init=/tmp/tmpfdntuhgz/vnw93gs5.json', 'output', 'file=/tmp/tmpfdntuhgz/prophet_modelju66zqcm/prophet_model-20250407024544.csv', 'method=optimize', 'algorithm=newton', 'iter=10000']\n",
            "02:45:44 - cmdstanpy - INFO - Chain [1] start processing\n",
            "INFO:cmdstanpy:Chain [1] start processing\n",
            "02:45:45 - cmdstanpy - INFO - Chain [1] done processing\n",
            "INFO:cmdstanpy:Chain [1] done processing\n"
          ]
        },
        {
          "output_type": "stream",
          "name": "stdout",
          "text": [
            "Prophet forecast for {'State': 'CA_PPO', 'Segment': 'IND_ACA'} completed\n"
          ]
        },
        {
          "output_type": "stream",
          "name": "stderr",
          "text": [
            "INFO:prophet:n_changepoints greater than number of observations. Using 19.\n",
            "DEBUG:cmdstanpy:input tempfile: /tmp/tmpfdntuhgz/nv13p5oy.json\n",
            "DEBUG:cmdstanpy:input tempfile: /tmp/tmpfdntuhgz/uerg0v1u.json\n",
            "DEBUG:cmdstanpy:idx 0\n",
            "DEBUG:cmdstanpy:running CmdStan, num_threads: None\n",
            "DEBUG:cmdstanpy:CmdStan args: ['/usr/local/lib/python3.11/dist-packages/prophet/stan_model/prophet_model.bin', 'random', 'seed=1831', 'data', 'file=/tmp/tmpfdntuhgz/nv13p5oy.json', 'init=/tmp/tmpfdntuhgz/uerg0v1u.json', 'output', 'file=/tmp/tmpfdntuhgz/prophet_modelefcw1arm/prophet_model-20250407024545.csv', 'method=optimize', 'algorithm=newton', 'iter=10000']\n",
            "02:45:45 - cmdstanpy - INFO - Chain [1] start processing\n",
            "INFO:cmdstanpy:Chain [1] start processing\n"
          ]
        },
        {
          "output_type": "stream",
          "name": "stdout",
          "text": [
            "Prophet forecast for {'State': 'CO', 'Segment': 'IND_ACA'} completed\n"
          ]
        },
        {
          "output_type": "stream",
          "name": "stderr",
          "text": [
            "02:46:02 - cmdstanpy - INFO - Chain [1] done processing\n",
            "INFO:cmdstanpy:Chain [1] done processing\n",
            "INFO:prophet:n_changepoints greater than number of observations. Using 19.\n",
            "DEBUG:cmdstanpy:input tempfile: /tmp/tmpfdntuhgz/uubn14wr.json\n",
            "DEBUG:cmdstanpy:input tempfile: /tmp/tmpfdntuhgz/dphvck1q.json\n",
            "DEBUG:cmdstanpy:idx 0\n",
            "DEBUG:cmdstanpy:running CmdStan, num_threads: None\n",
            "DEBUG:cmdstanpy:CmdStan args: ['/usr/local/lib/python3.11/dist-packages/prophet/stan_model/prophet_model.bin', 'random', 'seed=52773', 'data', 'file=/tmp/tmpfdntuhgz/uubn14wr.json', 'init=/tmp/tmpfdntuhgz/dphvck1q.json', 'output', 'file=/tmp/tmpfdntuhgz/prophet_model1qxf8rut/prophet_model-20250407024602.csv', 'method=optimize', 'algorithm=newton', 'iter=10000']\n",
            "02:46:02 - cmdstanpy - INFO - Chain [1] start processing\n",
            "INFO:cmdstanpy:Chain [1] start processing\n"
          ]
        },
        {
          "output_type": "stream",
          "name": "stdout",
          "text": [
            "Prophet forecast for {'State': 'CT', 'Segment': 'IND_ACA'} completed\n"
          ]
        },
        {
          "output_type": "stream",
          "name": "stderr",
          "text": [
            "02:46:02 - cmdstanpy - INFO - Chain [1] done processing\n",
            "INFO:cmdstanpy:Chain [1] done processing\n",
            "INFO:prophet:n_changepoints greater than number of observations. Using 19.\n",
            "DEBUG:cmdstanpy:input tempfile: /tmp/tmpfdntuhgz/jcvycat7.json\n",
            "DEBUG:cmdstanpy:input tempfile: /tmp/tmpfdntuhgz/fgob8o1d.json\n",
            "DEBUG:cmdstanpy:idx 0\n",
            "DEBUG:cmdstanpy:running CmdStan, num_threads: None\n",
            "DEBUG:cmdstanpy:CmdStan args: ['/usr/local/lib/python3.11/dist-packages/prophet/stan_model/prophet_model.bin', 'random', 'seed=54273', 'data', 'file=/tmp/tmpfdntuhgz/jcvycat7.json', 'init=/tmp/tmpfdntuhgz/fgob8o1d.json', 'output', 'file=/tmp/tmpfdntuhgz/prophet_modelyoh2n1wk/prophet_model-20250407024602.csv', 'method=optimize', 'algorithm=newton', 'iter=10000']\n",
            "02:46:02 - cmdstanpy - INFO - Chain [1] start processing\n",
            "INFO:cmdstanpy:Chain [1] start processing\n"
          ]
        },
        {
          "output_type": "stream",
          "name": "stdout",
          "text": [
            "Prophet forecast for {'State': 'GA', 'Segment': 'IND_ACA'} completed\n"
          ]
        },
        {
          "output_type": "stream",
          "name": "stderr",
          "text": [
            "02:46:02 - cmdstanpy - INFO - Chain [1] done processing\n",
            "INFO:cmdstanpy:Chain [1] done processing\n",
            "INFO:prophet:n_changepoints greater than number of observations. Using 19.\n",
            "DEBUG:cmdstanpy:input tempfile: /tmp/tmpfdntuhgz/mo6v83yd.json\n",
            "DEBUG:cmdstanpy:input tempfile: /tmp/tmpfdntuhgz/_pke376r.json\n",
            "DEBUG:cmdstanpy:idx 0\n",
            "DEBUG:cmdstanpy:running CmdStan, num_threads: None\n",
            "DEBUG:cmdstanpy:CmdStan args: ['/usr/local/lib/python3.11/dist-packages/prophet/stan_model/prophet_model.bin', 'random', 'seed=77895', 'data', 'file=/tmp/tmpfdntuhgz/mo6v83yd.json', 'init=/tmp/tmpfdntuhgz/_pke376r.json', 'output', 'file=/tmp/tmpfdntuhgz/prophet_modele89_1qo8/prophet_model-20250407024602.csv', 'method=optimize', 'algorithm=newton', 'iter=10000']\n",
            "02:46:02 - cmdstanpy - INFO - Chain [1] start processing\n",
            "INFO:cmdstanpy:Chain [1] start processing\n"
          ]
        },
        {
          "output_type": "stream",
          "name": "stdout",
          "text": [
            "Prophet forecast for {'State': 'IN', 'Segment': 'IND_ACA'} completed\n"
          ]
        },
        {
          "output_type": "stream",
          "name": "stderr",
          "text": [
            "02:46:20 - cmdstanpy - INFO - Chain [1] done processing\n",
            "INFO:cmdstanpy:Chain [1] done processing\n",
            "INFO:prophet:n_changepoints greater than number of observations. Using 19.\n",
            "DEBUG:cmdstanpy:input tempfile: /tmp/tmpfdntuhgz/385775ch.json\n",
            "DEBUG:cmdstanpy:input tempfile: /tmp/tmpfdntuhgz/zp8fyzwg.json\n",
            "DEBUG:cmdstanpy:idx 0\n",
            "DEBUG:cmdstanpy:running CmdStan, num_threads: None\n",
            "DEBUG:cmdstanpy:CmdStan args: ['/usr/local/lib/python3.11/dist-packages/prophet/stan_model/prophet_model.bin', 'random', 'seed=91669', 'data', 'file=/tmp/tmpfdntuhgz/385775ch.json', 'init=/tmp/tmpfdntuhgz/zp8fyzwg.json', 'output', 'file=/tmp/tmpfdntuhgz/prophet_modelc30tbtio/prophet_model-20250407024620.csv', 'method=optimize', 'algorithm=newton', 'iter=10000']\n",
            "02:46:20 - cmdstanpy - INFO - Chain [1] start processing\n",
            "INFO:cmdstanpy:Chain [1] start processing\n"
          ]
        },
        {
          "output_type": "stream",
          "name": "stdout",
          "text": [
            "Prophet forecast for {'State': 'KY', 'Segment': 'IND_ACA'} completed\n"
          ]
        },
        {
          "output_type": "stream",
          "name": "stderr",
          "text": [
            "02:46:21 - cmdstanpy - INFO - Chain [1] done processing\n",
            "INFO:cmdstanpy:Chain [1] done processing\n",
            "INFO:prophet:n_changepoints greater than number of observations. Using 19.\n",
            "DEBUG:cmdstanpy:input tempfile: /tmp/tmpfdntuhgz/9vqhoa9y.json\n",
            "DEBUG:cmdstanpy:input tempfile: /tmp/tmpfdntuhgz/knkam596.json\n",
            "DEBUG:cmdstanpy:idx 0\n",
            "DEBUG:cmdstanpy:running CmdStan, num_threads: None\n",
            "DEBUG:cmdstanpy:CmdStan args: ['/usr/local/lib/python3.11/dist-packages/prophet/stan_model/prophet_model.bin', 'random', 'seed=25035', 'data', 'file=/tmp/tmpfdntuhgz/9vqhoa9y.json', 'init=/tmp/tmpfdntuhgz/knkam596.json', 'output', 'file=/tmp/tmpfdntuhgz/prophet_modelzdjm05la/prophet_model-20250407024621.csv', 'method=optimize', 'algorithm=newton', 'iter=10000']\n",
            "02:46:21 - cmdstanpy - INFO - Chain [1] start processing\n",
            "INFO:cmdstanpy:Chain [1] start processing\n"
          ]
        },
        {
          "output_type": "stream",
          "name": "stdout",
          "text": [
            "Prophet forecast for {'State': 'ME', 'Segment': 'IND_ACA'} completed\n"
          ]
        },
        {
          "output_type": "stream",
          "name": "stderr",
          "text": [
            "02:46:21 - cmdstanpy - INFO - Chain [1] done processing\n",
            "INFO:cmdstanpy:Chain [1] done processing\n",
            "INFO:prophet:n_changepoints greater than number of observations. Using 19.\n",
            "DEBUG:cmdstanpy:input tempfile: /tmp/tmpfdntuhgz/a5cgeegz.json\n",
            "DEBUG:cmdstanpy:input tempfile: /tmp/tmpfdntuhgz/06al9ssb.json\n",
            "DEBUG:cmdstanpy:idx 0\n",
            "DEBUG:cmdstanpy:running CmdStan, num_threads: None\n",
            "DEBUG:cmdstanpy:CmdStan args: ['/usr/local/lib/python3.11/dist-packages/prophet/stan_model/prophet_model.bin', 'random', 'seed=88148', 'data', 'file=/tmp/tmpfdntuhgz/a5cgeegz.json', 'init=/tmp/tmpfdntuhgz/06al9ssb.json', 'output', 'file=/tmp/tmpfdntuhgz/prophet_model42jcve1g/prophet_model-20250407024621.csv', 'method=optimize', 'algorithm=newton', 'iter=10000']\n",
            "02:46:21 - cmdstanpy - INFO - Chain [1] start processing\n",
            "INFO:cmdstanpy:Chain [1] start processing\n"
          ]
        },
        {
          "output_type": "stream",
          "name": "stdout",
          "text": [
            "Prophet forecast for {'State': 'MO', 'Segment': 'IND_ACA'} completed\n"
          ]
        },
        {
          "output_type": "stream",
          "name": "stderr",
          "text": [
            "02:46:21 - cmdstanpy - INFO - Chain [1] done processing\n",
            "INFO:cmdstanpy:Chain [1] done processing\n",
            "INFO:prophet:n_changepoints greater than number of observations. Using 19.\n",
            "DEBUG:cmdstanpy:input tempfile: /tmp/tmpfdntuhgz/qh3phnqh.json\n",
            "DEBUG:cmdstanpy:input tempfile: /tmp/tmpfdntuhgz/o48wk27c.json\n",
            "DEBUG:cmdstanpy:idx 0\n",
            "DEBUG:cmdstanpy:running CmdStan, num_threads: None\n",
            "DEBUG:cmdstanpy:CmdStan args: ['/usr/local/lib/python3.11/dist-packages/prophet/stan_model/prophet_model.bin', 'random', 'seed=94935', 'data', 'file=/tmp/tmpfdntuhgz/qh3phnqh.json', 'init=/tmp/tmpfdntuhgz/o48wk27c.json', 'output', 'file=/tmp/tmpfdntuhgz/prophet_modelatvre7ka/prophet_model-20250407024621.csv', 'method=optimize', 'algorithm=newton', 'iter=10000']\n",
            "02:46:21 - cmdstanpy - INFO - Chain [1] start processing\n",
            "INFO:cmdstanpy:Chain [1] start processing\n"
          ]
        },
        {
          "output_type": "stream",
          "name": "stdout",
          "text": [
            "Prophet forecast for {'State': 'NH', 'Segment': 'IND_ACA'} completed\n"
          ]
        },
        {
          "output_type": "stream",
          "name": "stderr",
          "text": [
            "02:46:22 - cmdstanpy - INFO - Chain [1] done processing\n",
            "INFO:cmdstanpy:Chain [1] done processing\n",
            "INFO:prophet:n_changepoints greater than number of observations. Using 19.\n",
            "DEBUG:cmdstanpy:input tempfile: /tmp/tmpfdntuhgz/1dgmpkjl.json\n",
            "DEBUG:cmdstanpy:input tempfile: /tmp/tmpfdntuhgz/r5yj5q2t.json\n",
            "DEBUG:cmdstanpy:idx 0\n",
            "DEBUG:cmdstanpy:running CmdStan, num_threads: None\n",
            "DEBUG:cmdstanpy:CmdStan args: ['/usr/local/lib/python3.11/dist-packages/prophet/stan_model/prophet_model.bin', 'random', 'seed=53475', 'data', 'file=/tmp/tmpfdntuhgz/1dgmpkjl.json', 'init=/tmp/tmpfdntuhgz/r5yj5q2t.json', 'output', 'file=/tmp/tmpfdntuhgz/prophet_model7zjazmwc/prophet_model-20250407024622.csv', 'method=optimize', 'algorithm=newton', 'iter=10000']\n",
            "02:46:22 - cmdstanpy - INFO - Chain [1] start processing\n",
            "INFO:cmdstanpy:Chain [1] start processing\n"
          ]
        },
        {
          "output_type": "stream",
          "name": "stdout",
          "text": [
            "Prophet forecast for {'State': 'NV', 'Segment': 'IND_ACA'} completed\n"
          ]
        },
        {
          "output_type": "stream",
          "name": "stderr",
          "text": [
            "02:46:22 - cmdstanpy - INFO - Chain [1] done processing\n",
            "INFO:cmdstanpy:Chain [1] done processing\n",
            "INFO:prophet:n_changepoints greater than number of observations. Using 19.\n",
            "DEBUG:cmdstanpy:input tempfile: /tmp/tmpfdntuhgz/zhg4r4r6.json\n",
            "DEBUG:cmdstanpy:input tempfile: /tmp/tmpfdntuhgz/x39zo1xr.json\n",
            "DEBUG:cmdstanpy:idx 0\n",
            "DEBUG:cmdstanpy:running CmdStan, num_threads: None\n",
            "DEBUG:cmdstanpy:CmdStan args: ['/usr/local/lib/python3.11/dist-packages/prophet/stan_model/prophet_model.bin', 'random', 'seed=24829', 'data', 'file=/tmp/tmpfdntuhgz/zhg4r4r6.json', 'init=/tmp/tmpfdntuhgz/x39zo1xr.json', 'output', 'file=/tmp/tmpfdntuhgz/prophet_model0dwvwvx5/prophet_model-20250407024622.csv', 'method=optimize', 'algorithm=newton', 'iter=10000']\n",
            "02:46:22 - cmdstanpy - INFO - Chain [1] start processing\n",
            "INFO:cmdstanpy:Chain [1] start processing\n"
          ]
        },
        {
          "output_type": "stream",
          "name": "stdout",
          "text": [
            "Prophet forecast for {'State': 'NY', 'Segment': 'IND_ACA'} completed\n"
          ]
        },
        {
          "output_type": "stream",
          "name": "stderr",
          "text": [
            "02:46:22 - cmdstanpy - INFO - Chain [1] done processing\n",
            "INFO:cmdstanpy:Chain [1] done processing\n",
            "INFO:prophet:n_changepoints greater than number of observations. Using 19.\n",
            "DEBUG:cmdstanpy:input tempfile: /tmp/tmpfdntuhgz/0124xcd1.json\n",
            "DEBUG:cmdstanpy:input tempfile: /tmp/tmpfdntuhgz/206i5i0r.json\n",
            "DEBUG:cmdstanpy:idx 0\n",
            "DEBUG:cmdstanpy:running CmdStan, num_threads: None\n",
            "DEBUG:cmdstanpy:CmdStan args: ['/usr/local/lib/python3.11/dist-packages/prophet/stan_model/prophet_model.bin', 'random', 'seed=94279', 'data', 'file=/tmp/tmpfdntuhgz/0124xcd1.json', 'init=/tmp/tmpfdntuhgz/206i5i0r.json', 'output', 'file=/tmp/tmpfdntuhgz/prophet_modelpa_wgy4u/prophet_model-20250407024622.csv', 'method=optimize', 'algorithm=newton', 'iter=10000']\n",
            "02:46:22 - cmdstanpy - INFO - Chain [1] start processing\n",
            "INFO:cmdstanpy:Chain [1] start processing\n"
          ]
        },
        {
          "output_type": "stream",
          "name": "stdout",
          "text": [
            "Prophet forecast for {'State': 'OH', 'Segment': 'IND_ACA'} completed\n"
          ]
        },
        {
          "output_type": "stream",
          "name": "stderr",
          "text": [
            "02:46:23 - cmdstanpy - INFO - Chain [1] done processing\n",
            "INFO:cmdstanpy:Chain [1] done processing\n",
            "INFO:prophet:n_changepoints greater than number of observations. Using 19.\n",
            "DEBUG:cmdstanpy:input tempfile: /tmp/tmpfdntuhgz/4x7roogd.json\n",
            "DEBUG:cmdstanpy:input tempfile: /tmp/tmpfdntuhgz/gjenkydb.json\n",
            "DEBUG:cmdstanpy:idx 0\n",
            "DEBUG:cmdstanpy:running CmdStan, num_threads: None\n",
            "DEBUG:cmdstanpy:CmdStan args: ['/usr/local/lib/python3.11/dist-packages/prophet/stan_model/prophet_model.bin', 'random', 'seed=11436', 'data', 'file=/tmp/tmpfdntuhgz/4x7roogd.json', 'init=/tmp/tmpfdntuhgz/gjenkydb.json', 'output', 'file=/tmp/tmpfdntuhgz/prophet_modeln839j0ft/prophet_model-20250407024623.csv', 'method=optimize', 'algorithm=newton', 'iter=10000']\n",
            "02:46:23 - cmdstanpy - INFO - Chain [1] start processing\n",
            "INFO:cmdstanpy:Chain [1] start processing\n"
          ]
        },
        {
          "output_type": "stream",
          "name": "stdout",
          "text": [
            "Prophet forecast for {'State': 'VA', 'Segment': 'IND_ACA'} completed\n"
          ]
        },
        {
          "output_type": "stream",
          "name": "stderr",
          "text": [
            "02:46:39 - cmdstanpy - INFO - Chain [1] done processing\n",
            "INFO:cmdstanpy:Chain [1] done processing\n",
            "INFO:prophet:n_changepoints greater than number of observations. Using 19.\n",
            "INFO:prophet:n_changepoints greater than number of observations. Using 19.\n",
            "INFO:prophet:n_changepoints greater than number of observations. Using 19.\n"
          ]
        },
        {
          "output_type": "stream",
          "name": "stdout",
          "text": [
            "Prophet forecast for {'State': 'WI', 'Segment': 'IND_ACA'} completed\n",
            "Prophet forecast for {'State': 'FL', 'Segment': 'IND_ACA'} completed\n",
            "Prophet forecast for {'State': 'MD', 'Segment': 'IND_ACA'} completed\n",
            "Prophet forecast for {'State': 'TX', 'Segment': 'IND_ACA'} completed\n"
          ]
        },
        {
          "output_type": "stream",
          "name": "stderr",
          "text": [
            "INFO:prophet:n_changepoints greater than number of observations. Using 19.\n",
            "DEBUG:cmdstanpy:input tempfile: /tmp/tmpfdntuhgz/pusd6dy4.json\n",
            "DEBUG:cmdstanpy:input tempfile: /tmp/tmpfdntuhgz/1hhlvb7z.json\n",
            "DEBUG:cmdstanpy:idx 0\n",
            "DEBUG:cmdstanpy:running CmdStan, num_threads: None\n",
            "DEBUG:cmdstanpy:CmdStan args: ['/usr/local/lib/python3.11/dist-packages/prophet/stan_model/prophet_model.bin', 'random', 'seed=88537', 'data', 'file=/tmp/tmpfdntuhgz/pusd6dy4.json', 'init=/tmp/tmpfdntuhgz/1hhlvb7z.json', 'output', 'file=/tmp/tmpfdntuhgz/prophet_modelg6ubkz74/prophet_model-20250407024640.csv', 'method=optimize', 'algorithm=newton', 'iter=10000']\n",
            "02:46:40 - cmdstanpy - INFO - Chain [1] start processing\n",
            "INFO:cmdstanpy:Chain [1] start processing\n",
            "02:46:59 - cmdstanpy - INFO - Chain [1] done processing\n",
            "INFO:cmdstanpy:Chain [1] done processing\n",
            "INFO:prophet:n_changepoints greater than number of observations. Using 19.\n",
            "DEBUG:cmdstanpy:input tempfile: /tmp/tmpfdntuhgz/_t118z1s.json\n",
            "DEBUG:cmdstanpy:input tempfile: /tmp/tmpfdntuhgz/rvdo0vpb.json\n",
            "DEBUG:cmdstanpy:idx 0\n",
            "DEBUG:cmdstanpy:running CmdStan, num_threads: None\n",
            "DEBUG:cmdstanpy:CmdStan args: ['/usr/local/lib/python3.11/dist-packages/prophet/stan_model/prophet_model.bin', 'random', 'seed=7917', 'data', 'file=/tmp/tmpfdntuhgz/_t118z1s.json', 'init=/tmp/tmpfdntuhgz/rvdo0vpb.json', 'output', 'file=/tmp/tmpfdntuhgz/prophet_modellskc9lzf/prophet_model-20250407024659.csv', 'method=optimize', 'algorithm=newton', 'iter=10000']\n",
            "02:46:59 - cmdstanpy - INFO - Chain [1] start processing\n",
            "INFO:cmdstanpy:Chain [1] start processing\n"
          ]
        },
        {
          "output_type": "stream",
          "name": "stdout",
          "text": [
            "Prophet forecast for {'State': 'CA_HMO', 'Segment': 'IND_LEG'} completed\n"
          ]
        },
        {
          "output_type": "stream",
          "name": "stderr",
          "text": [
            "02:46:59 - cmdstanpy - INFO - Chain [1] done processing\n",
            "INFO:cmdstanpy:Chain [1] done processing\n",
            "INFO:prophet:n_changepoints greater than number of observations. Using 19.\n",
            "DEBUG:cmdstanpy:input tempfile: /tmp/tmpfdntuhgz/gh90l9da.json\n",
            "DEBUG:cmdstanpy:input tempfile: /tmp/tmpfdntuhgz/sxyl17r8.json\n",
            "DEBUG:cmdstanpy:idx 0\n",
            "DEBUG:cmdstanpy:running CmdStan, num_threads: None\n",
            "DEBUG:cmdstanpy:CmdStan args: ['/usr/local/lib/python3.11/dist-packages/prophet/stan_model/prophet_model.bin', 'random', 'seed=64320', 'data', 'file=/tmp/tmpfdntuhgz/gh90l9da.json', 'init=/tmp/tmpfdntuhgz/sxyl17r8.json', 'output', 'file=/tmp/tmpfdntuhgz/prophet_model741anjoq/prophet_model-20250407024659.csv', 'method=optimize', 'algorithm=newton', 'iter=10000']\n",
            "02:46:59 - cmdstanpy - INFO - Chain [1] start processing\n",
            "INFO:cmdstanpy:Chain [1] start processing\n"
          ]
        },
        {
          "output_type": "stream",
          "name": "stdout",
          "text": [
            "Prophet forecast for {'State': 'CA_PPO', 'Segment': 'IND_LEG'} completed\n"
          ]
        },
        {
          "output_type": "stream",
          "name": "stderr",
          "text": [
            "02:47:16 - cmdstanpy - INFO - Chain [1] done processing\n",
            "INFO:cmdstanpy:Chain [1] done processing\n",
            "INFO:prophet:n_changepoints greater than number of observations. Using 19.\n",
            "INFO:prophet:n_changepoints greater than number of observations. Using 19.\n",
            "DEBUG:cmdstanpy:input tempfile: /tmp/tmpfdntuhgz/2l4rb8mv.json\n",
            "DEBUG:cmdstanpy:input tempfile: /tmp/tmpfdntuhgz/jy2s2zbk.json\n",
            "DEBUG:cmdstanpy:idx 0\n",
            "DEBUG:cmdstanpy:running CmdStan, num_threads: None\n",
            "DEBUG:cmdstanpy:CmdStan args: ['/usr/local/lib/python3.11/dist-packages/prophet/stan_model/prophet_model.bin', 'random', 'seed=21541', 'data', 'file=/tmp/tmpfdntuhgz/2l4rb8mv.json', 'init=/tmp/tmpfdntuhgz/jy2s2zbk.json', 'output', 'file=/tmp/tmpfdntuhgz/prophet_modelf3mqkqrc/prophet_model-20250407024716.csv', 'method=optimize', 'algorithm=newton', 'iter=10000']\n",
            "02:47:16 - cmdstanpy - INFO - Chain [1] start processing\n",
            "INFO:cmdstanpy:Chain [1] start processing\n"
          ]
        },
        {
          "output_type": "stream",
          "name": "stdout",
          "text": [
            "Prophet forecast for {'State': 'CO', 'Segment': 'IND_LEG'} completed\n",
            "Prophet forecast for {'State': 'CT', 'Segment': 'IND_LEG'} completed\n"
          ]
        },
        {
          "output_type": "stream",
          "name": "stderr",
          "text": [
            "02:47:16 - cmdstanpy - INFO - Chain [1] done processing\n",
            "INFO:cmdstanpy:Chain [1] done processing\n",
            "INFO:prophet:n_changepoints greater than number of observations. Using 19.\n",
            "DEBUG:cmdstanpy:input tempfile: /tmp/tmpfdntuhgz/xlcmkst2.json\n",
            "DEBUG:cmdstanpy:input tempfile: /tmp/tmpfdntuhgz/tmhu0gib.json\n",
            "DEBUG:cmdstanpy:idx 0\n",
            "DEBUG:cmdstanpy:running CmdStan, num_threads: None\n",
            "DEBUG:cmdstanpy:CmdStan args: ['/usr/local/lib/python3.11/dist-packages/prophet/stan_model/prophet_model.bin', 'random', 'seed=10135', 'data', 'file=/tmp/tmpfdntuhgz/xlcmkst2.json', 'init=/tmp/tmpfdntuhgz/tmhu0gib.json', 'output', 'file=/tmp/tmpfdntuhgz/prophet_modelaffz5xso/prophet_model-20250407024716.csv', 'method=optimize', 'algorithm=newton', 'iter=10000']\n",
            "02:47:16 - cmdstanpy - INFO - Chain [1] start processing\n",
            "INFO:cmdstanpy:Chain [1] start processing\n"
          ]
        },
        {
          "output_type": "stream",
          "name": "stdout",
          "text": [
            "Prophet forecast for {'State': 'GA', 'Segment': 'IND_LEG'} completed\n"
          ]
        },
        {
          "output_type": "stream",
          "name": "stderr",
          "text": [
            "02:47:17 - cmdstanpy - INFO - Chain [1] done processing\n",
            "INFO:cmdstanpy:Chain [1] done processing\n",
            "INFO:prophet:n_changepoints greater than number of observations. Using 19.\n",
            "DEBUG:cmdstanpy:input tempfile: /tmp/tmpfdntuhgz/v3g_youd.json\n",
            "DEBUG:cmdstanpy:input tempfile: /tmp/tmpfdntuhgz/corkq489.json\n",
            "DEBUG:cmdstanpy:idx 0\n",
            "DEBUG:cmdstanpy:running CmdStan, num_threads: None\n",
            "DEBUG:cmdstanpy:CmdStan args: ['/usr/local/lib/python3.11/dist-packages/prophet/stan_model/prophet_model.bin', 'random', 'seed=87952', 'data', 'file=/tmp/tmpfdntuhgz/v3g_youd.json', 'init=/tmp/tmpfdntuhgz/corkq489.json', 'output', 'file=/tmp/tmpfdntuhgz/prophet_model_qwnta54/prophet_model-20250407024717.csv', 'method=optimize', 'algorithm=newton', 'iter=10000']\n",
            "02:47:17 - cmdstanpy - INFO - Chain [1] start processing\n",
            "INFO:cmdstanpy:Chain [1] start processing\n"
          ]
        },
        {
          "output_type": "stream",
          "name": "stdout",
          "text": [
            "Prophet forecast for {'State': 'IN', 'Segment': 'IND_LEG'} completed\n"
          ]
        },
        {
          "output_type": "stream",
          "name": "stderr",
          "text": [
            "02:47:34 - cmdstanpy - INFO - Chain [1] done processing\n",
            "INFO:cmdstanpy:Chain [1] done processing\n",
            "INFO:prophet:n_changepoints greater than number of observations. Using 19.\n",
            "INFO:prophet:n_changepoints greater than number of observations. Using 19.\n",
            "DEBUG:cmdstanpy:input tempfile: /tmp/tmpfdntuhgz/olmb847k.json\n",
            "DEBUG:cmdstanpy:input tempfile: /tmp/tmpfdntuhgz/7af9qcrl.json\n",
            "DEBUG:cmdstanpy:idx 0\n",
            "DEBUG:cmdstanpy:running CmdStan, num_threads: None\n",
            "DEBUG:cmdstanpy:CmdStan args: ['/usr/local/lib/python3.11/dist-packages/prophet/stan_model/prophet_model.bin', 'random', 'seed=95755', 'data', 'file=/tmp/tmpfdntuhgz/olmb847k.json', 'init=/tmp/tmpfdntuhgz/7af9qcrl.json', 'output', 'file=/tmp/tmpfdntuhgz/prophet_modely_wyyes3/prophet_model-20250407024734.csv', 'method=optimize', 'algorithm=newton', 'iter=10000']\n",
            "02:47:34 - cmdstanpy - INFO - Chain [1] start processing\n",
            "INFO:cmdstanpy:Chain [1] start processing\n"
          ]
        },
        {
          "output_type": "stream",
          "name": "stdout",
          "text": [
            "Prophet forecast for {'State': 'KY', 'Segment': 'IND_LEG'} completed\n",
            "Prophet forecast for {'State': 'ME', 'Segment': 'IND_LEG'} completed\n"
          ]
        },
        {
          "output_type": "stream",
          "name": "stderr",
          "text": [
            "02:47:52 - cmdstanpy - INFO - Chain [1] done processing\n",
            "INFO:cmdstanpy:Chain [1] done processing\n",
            "INFO:prophet:n_changepoints greater than number of observations. Using 19.\n",
            "DEBUG:cmdstanpy:input tempfile: /tmp/tmpfdntuhgz/sl_5ne6l.json\n",
            "DEBUG:cmdstanpy:input tempfile: /tmp/tmpfdntuhgz/ljo_d05k.json\n",
            "DEBUG:cmdstanpy:idx 0\n",
            "DEBUG:cmdstanpy:running CmdStan, num_threads: None\n",
            "DEBUG:cmdstanpy:CmdStan args: ['/usr/local/lib/python3.11/dist-packages/prophet/stan_model/prophet_model.bin', 'random', 'seed=92825', 'data', 'file=/tmp/tmpfdntuhgz/sl_5ne6l.json', 'init=/tmp/tmpfdntuhgz/ljo_d05k.json', 'output', 'file=/tmp/tmpfdntuhgz/prophet_model1md9836w/prophet_model-20250407024752.csv', 'method=optimize', 'algorithm=newton', 'iter=10000']\n",
            "02:47:52 - cmdstanpy - INFO - Chain [1] start processing\n",
            "INFO:cmdstanpy:Chain [1] start processing\n"
          ]
        },
        {
          "output_type": "stream",
          "name": "stdout",
          "text": [
            "Prophet forecast for {'State': 'MO', 'Segment': 'IND_LEG'} completed\n"
          ]
        },
        {
          "output_type": "stream",
          "name": "stderr",
          "text": [
            "02:47:52 - cmdstanpy - INFO - Chain [1] done processing\n",
            "INFO:cmdstanpy:Chain [1] done processing\n",
            "INFO:prophet:n_changepoints greater than number of observations. Using 19.\n",
            "DEBUG:cmdstanpy:input tempfile: /tmp/tmpfdntuhgz/mmqw11xe.json\n",
            "DEBUG:cmdstanpy:input tempfile: /tmp/tmpfdntuhgz/rznaw2ph.json\n",
            "DEBUG:cmdstanpy:idx 0\n",
            "DEBUG:cmdstanpy:running CmdStan, num_threads: None\n",
            "DEBUG:cmdstanpy:CmdStan args: ['/usr/local/lib/python3.11/dist-packages/prophet/stan_model/prophet_model.bin', 'random', 'seed=10804', 'data', 'file=/tmp/tmpfdntuhgz/mmqw11xe.json', 'init=/tmp/tmpfdntuhgz/rznaw2ph.json', 'output', 'file=/tmp/tmpfdntuhgz/prophet_modelh3egjwqg/prophet_model-20250407024752.csv', 'method=optimize', 'algorithm=newton', 'iter=10000']\n",
            "02:47:52 - cmdstanpy - INFO - Chain [1] start processing\n",
            "INFO:cmdstanpy:Chain [1] start processing\n",
            "02:47:52 - cmdstanpy - INFO - Chain [1] done processing\n",
            "INFO:cmdstanpy:Chain [1] done processing\n"
          ]
        },
        {
          "output_type": "stream",
          "name": "stdout",
          "text": [
            "Prophet forecast for {'State': 'NH', 'Segment': 'IND_LEG'} completed\n"
          ]
        },
        {
          "output_type": "stream",
          "name": "stderr",
          "text": [
            "INFO:prophet:n_changepoints greater than number of observations. Using 19.\n",
            "DEBUG:cmdstanpy:input tempfile: /tmp/tmpfdntuhgz/4w9_oqwp.json\n",
            "DEBUG:cmdstanpy:input tempfile: /tmp/tmpfdntuhgz/wgvk4md2.json\n",
            "DEBUG:cmdstanpy:idx 0\n",
            "DEBUG:cmdstanpy:running CmdStan, num_threads: None\n",
            "DEBUG:cmdstanpy:CmdStan args: ['/usr/local/lib/python3.11/dist-packages/prophet/stan_model/prophet_model.bin', 'random', 'seed=28809', 'data', 'file=/tmp/tmpfdntuhgz/4w9_oqwp.json', 'init=/tmp/tmpfdntuhgz/wgvk4md2.json', 'output', 'file=/tmp/tmpfdntuhgz/prophet_modelrhza13t8/prophet_model-20250407024752.csv', 'method=optimize', 'algorithm=newton', 'iter=10000']\n",
            "02:47:52 - cmdstanpy - INFO - Chain [1] start processing\n",
            "INFO:cmdstanpy:Chain [1] start processing\n"
          ]
        },
        {
          "output_type": "stream",
          "name": "stdout",
          "text": [
            "Prophet forecast for {'State': 'NV', 'Segment': 'IND_LEG'} completed\n"
          ]
        },
        {
          "output_type": "stream",
          "name": "stderr",
          "text": [
            "02:47:53 - cmdstanpy - INFO - Chain [1] done processing\n",
            "INFO:cmdstanpy:Chain [1] done processing\n",
            "INFO:prophet:n_changepoints greater than number of observations. Using 19.\n",
            "DEBUG:cmdstanpy:input tempfile: /tmp/tmpfdntuhgz/exjr12f4.json\n",
            "DEBUG:cmdstanpy:input tempfile: /tmp/tmpfdntuhgz/slt1bt2h.json\n",
            "DEBUG:cmdstanpy:idx 0\n",
            "DEBUG:cmdstanpy:running CmdStan, num_threads: None\n",
            "DEBUG:cmdstanpy:CmdStan args: ['/usr/local/lib/python3.11/dist-packages/prophet/stan_model/prophet_model.bin', 'random', 'seed=399', 'data', 'file=/tmp/tmpfdntuhgz/exjr12f4.json', 'init=/tmp/tmpfdntuhgz/slt1bt2h.json', 'output', 'file=/tmp/tmpfdntuhgz/prophet_modelr140jn9x/prophet_model-20250407024753.csv', 'method=optimize', 'algorithm=newton', 'iter=10000']\n",
            "02:47:53 - cmdstanpy - INFO - Chain [1] start processing\n",
            "INFO:cmdstanpy:Chain [1] start processing\n"
          ]
        },
        {
          "output_type": "stream",
          "name": "stdout",
          "text": [
            "Prophet forecast for {'State': 'NY', 'Segment': 'IND_LEG'} completed\n"
          ]
        },
        {
          "output_type": "stream",
          "name": "stderr",
          "text": [
            "02:47:59 - cmdstanpy - INFO - Chain [1] done processing\n",
            "INFO:cmdstanpy:Chain [1] done processing\n",
            "INFO:prophet:n_changepoints greater than number of observations. Using 19.\n",
            "DEBUG:cmdstanpy:input tempfile: /tmp/tmpfdntuhgz/ldb6juol.json\n",
            "DEBUG:cmdstanpy:input tempfile: /tmp/tmpfdntuhgz/3gzr6kon.json\n",
            "DEBUG:cmdstanpy:idx 0\n",
            "DEBUG:cmdstanpy:running CmdStan, num_threads: None\n",
            "DEBUG:cmdstanpy:CmdStan args: ['/usr/local/lib/python3.11/dist-packages/prophet/stan_model/prophet_model.bin', 'random', 'seed=19696', 'data', 'file=/tmp/tmpfdntuhgz/ldb6juol.json', 'init=/tmp/tmpfdntuhgz/3gzr6kon.json', 'output', 'file=/tmp/tmpfdntuhgz/prophet_model6ag773_w/prophet_model-20250407024759.csv', 'method=optimize', 'algorithm=newton', 'iter=10000']\n",
            "02:47:59 - cmdstanpy - INFO - Chain [1] start processing\n",
            "INFO:cmdstanpy:Chain [1] start processing\n"
          ]
        },
        {
          "output_type": "stream",
          "name": "stdout",
          "text": [
            "Prophet forecast for {'State': 'OH', 'Segment': 'IND_LEG'} completed\n"
          ]
        },
        {
          "output_type": "stream",
          "name": "stderr",
          "text": [
            "02:47:59 - cmdstanpy - INFO - Chain [1] done processing\n",
            "INFO:cmdstanpy:Chain [1] done processing\n",
            "INFO:prophet:n_changepoints greater than number of observations. Using 19.\n",
            "DEBUG:cmdstanpy:input tempfile: /tmp/tmpfdntuhgz/6rrenu0t.json\n",
            "DEBUG:cmdstanpy:input tempfile: /tmp/tmpfdntuhgz/66vos3ht.json\n",
            "DEBUG:cmdstanpy:idx 0\n",
            "DEBUG:cmdstanpy:running CmdStan, num_threads: None\n",
            "DEBUG:cmdstanpy:CmdStan args: ['/usr/local/lib/python3.11/dist-packages/prophet/stan_model/prophet_model.bin', 'random', 'seed=3934', 'data', 'file=/tmp/tmpfdntuhgz/6rrenu0t.json', 'init=/tmp/tmpfdntuhgz/66vos3ht.json', 'output', 'file=/tmp/tmpfdntuhgz/prophet_modelvk3d3re1/prophet_model-20250407024759.csv', 'method=optimize', 'algorithm=newton', 'iter=10000']\n",
            "02:47:59 - cmdstanpy - INFO - Chain [1] start processing\n",
            "INFO:cmdstanpy:Chain [1] start processing\n",
            "02:48:00 - cmdstanpy - INFO - Chain [1] done processing\n",
            "INFO:cmdstanpy:Chain [1] done processing\n"
          ]
        },
        {
          "output_type": "stream",
          "name": "stdout",
          "text": [
            "Prophet forecast for {'State': 'VA', 'Segment': 'IND_LEG'} completed\n"
          ]
        },
        {
          "output_type": "stream",
          "name": "stderr",
          "text": [
            "INFO:prophet:n_changepoints greater than number of observations. Using 19.\n",
            "DEBUG:cmdstanpy:input tempfile: /tmp/tmpfdntuhgz/c5xvtqmt.json\n",
            "DEBUG:cmdstanpy:input tempfile: /tmp/tmpfdntuhgz/o1qoa851.json\n",
            "DEBUG:cmdstanpy:idx 0\n",
            "DEBUG:cmdstanpy:running CmdStan, num_threads: None\n",
            "DEBUG:cmdstanpy:CmdStan args: ['/usr/local/lib/python3.11/dist-packages/prophet/stan_model/prophet_model.bin', 'random', 'seed=27996', 'data', 'file=/tmp/tmpfdntuhgz/c5xvtqmt.json', 'init=/tmp/tmpfdntuhgz/o1qoa851.json', 'output', 'file=/tmp/tmpfdntuhgz/prophet_modeloz139e4i/prophet_model-20250407024800.csv', 'method=optimize', 'algorithm=newton', 'iter=10000']\n",
            "02:48:00 - cmdstanpy - INFO - Chain [1] start processing\n",
            "INFO:cmdstanpy:Chain [1] start processing\n"
          ]
        },
        {
          "output_type": "stream",
          "name": "stdout",
          "text": [
            "Prophet forecast for {'State': 'WI', 'Segment': 'IND_LEG'} completed\n"
          ]
        },
        {
          "output_type": "stream",
          "name": "stderr",
          "text": [
            "02:48:17 - cmdstanpy - INFO - Chain [1] done processing\n",
            "INFO:cmdstanpy:Chain [1] done processing\n",
            "INFO:prophet:n_changepoints greater than number of observations. Using 19.\n",
            "DEBUG:cmdstanpy:input tempfile: /tmp/tmpfdntuhgz/kah9ak46.json\n",
            "DEBUG:cmdstanpy:input tempfile: /tmp/tmpfdntuhgz/eu33q0ep.json\n",
            "DEBUG:cmdstanpy:idx 0\n",
            "DEBUG:cmdstanpy:running CmdStan, num_threads: None\n",
            "DEBUG:cmdstanpy:CmdStan args: ['/usr/local/lib/python3.11/dist-packages/prophet/stan_model/prophet_model.bin', 'random', 'seed=60778', 'data', 'file=/tmp/tmpfdntuhgz/kah9ak46.json', 'init=/tmp/tmpfdntuhgz/eu33q0ep.json', 'output', 'file=/tmp/tmpfdntuhgz/prophet_modelg3_ufwgr/prophet_model-20250407024817.csv', 'method=optimize', 'algorithm=newton', 'iter=10000']\n",
            "02:48:17 - cmdstanpy - INFO - Chain [1] start processing\n",
            "INFO:cmdstanpy:Chain [1] start processing\n"
          ]
        },
        {
          "output_type": "stream",
          "name": "stdout",
          "text": [
            "Prophet forecast for {'State': 'CA_HMO', 'Segment': 'SBG_ACA'} completed\n"
          ]
        },
        {
          "output_type": "stream",
          "name": "stderr",
          "text": [
            "02:48:35 - cmdstanpy - INFO - Chain [1] done processing\n",
            "INFO:cmdstanpy:Chain [1] done processing\n",
            "INFO:prophet:n_changepoints greater than number of observations. Using 19.\n",
            "DEBUG:cmdstanpy:input tempfile: /tmp/tmpfdntuhgz/v6ceon4x.json\n",
            "DEBUG:cmdstanpy:input tempfile: /tmp/tmpfdntuhgz/1fczcwqm.json\n",
            "DEBUG:cmdstanpy:idx 0\n",
            "DEBUG:cmdstanpy:running CmdStan, num_threads: None\n",
            "DEBUG:cmdstanpy:CmdStan args: ['/usr/local/lib/python3.11/dist-packages/prophet/stan_model/prophet_model.bin', 'random', 'seed=44054', 'data', 'file=/tmp/tmpfdntuhgz/v6ceon4x.json', 'init=/tmp/tmpfdntuhgz/1fczcwqm.json', 'output', 'file=/tmp/tmpfdntuhgz/prophet_model4k1e0ews/prophet_model-20250407024835.csv', 'method=optimize', 'algorithm=newton', 'iter=10000']\n",
            "02:48:35 - cmdstanpy - INFO - Chain [1] start processing\n",
            "INFO:cmdstanpy:Chain [1] start processing\n"
          ]
        },
        {
          "output_type": "stream",
          "name": "stdout",
          "text": [
            "Prophet forecast for {'State': 'CA_PPO', 'Segment': 'SBG_ACA'} completed\n"
          ]
        },
        {
          "output_type": "stream",
          "name": "stderr",
          "text": [
            "02:48:35 - cmdstanpy - INFO - Chain [1] done processing\n",
            "INFO:cmdstanpy:Chain [1] done processing\n",
            "INFO:prophet:n_changepoints greater than number of observations. Using 19.\n",
            "DEBUG:cmdstanpy:input tempfile: /tmp/tmpfdntuhgz/ysujl4gs.json\n",
            "DEBUG:cmdstanpy:input tempfile: /tmp/tmpfdntuhgz/4br5133k.json\n",
            "DEBUG:cmdstanpy:idx 0\n",
            "DEBUG:cmdstanpy:running CmdStan, num_threads: None\n",
            "DEBUG:cmdstanpy:CmdStan args: ['/usr/local/lib/python3.11/dist-packages/prophet/stan_model/prophet_model.bin', 'random', 'seed=31835', 'data', 'file=/tmp/tmpfdntuhgz/ysujl4gs.json', 'init=/tmp/tmpfdntuhgz/4br5133k.json', 'output', 'file=/tmp/tmpfdntuhgz/prophet_modelrxb5whyc/prophet_model-20250407024835.csv', 'method=optimize', 'algorithm=newton', 'iter=10000']\n",
            "02:48:35 - cmdstanpy - INFO - Chain [1] start processing\n",
            "INFO:cmdstanpy:Chain [1] start processing\n"
          ]
        },
        {
          "output_type": "stream",
          "name": "stdout",
          "text": [
            "Prophet forecast for {'State': 'CO', 'Segment': 'SBG_ACA'} completed\n"
          ]
        },
        {
          "output_type": "stream",
          "name": "stderr",
          "text": [
            "02:48:52 - cmdstanpy - INFO - Chain [1] done processing\n",
            "INFO:cmdstanpy:Chain [1] done processing\n",
            "INFO:prophet:n_changepoints greater than number of observations. Using 19.\n",
            "DEBUG:cmdstanpy:input tempfile: /tmp/tmpfdntuhgz/cp4iklkv.json\n",
            "DEBUG:cmdstanpy:input tempfile: /tmp/tmpfdntuhgz/p4u9sfnw.json\n",
            "DEBUG:cmdstanpy:idx 0\n",
            "DEBUG:cmdstanpy:running CmdStan, num_threads: None\n",
            "DEBUG:cmdstanpy:CmdStan args: ['/usr/local/lib/python3.11/dist-packages/prophet/stan_model/prophet_model.bin', 'random', 'seed=41780', 'data', 'file=/tmp/tmpfdntuhgz/cp4iklkv.json', 'init=/tmp/tmpfdntuhgz/p4u9sfnw.json', 'output', 'file=/tmp/tmpfdntuhgz/prophet_modelkrmxkij4/prophet_model-20250407024852.csv', 'method=optimize', 'algorithm=newton', 'iter=10000']\n",
            "02:48:52 - cmdstanpy - INFO - Chain [1] start processing\n",
            "INFO:cmdstanpy:Chain [1] start processing\n"
          ]
        },
        {
          "output_type": "stream",
          "name": "stdout",
          "text": [
            "Prophet forecast for {'State': 'CT', 'Segment': 'SBG_ACA'} completed\n"
          ]
        },
        {
          "output_type": "stream",
          "name": "stderr",
          "text": [
            "02:49:10 - cmdstanpy - INFO - Chain [1] done processing\n",
            "INFO:cmdstanpy:Chain [1] done processing\n",
            "INFO:prophet:n_changepoints greater than number of observations. Using 19.\n",
            "DEBUG:cmdstanpy:input tempfile: /tmp/tmpfdntuhgz/ad5baacf.json\n",
            "DEBUG:cmdstanpy:input tempfile: /tmp/tmpfdntuhgz/oswe822b.json\n",
            "DEBUG:cmdstanpy:idx 0\n",
            "DEBUG:cmdstanpy:running CmdStan, num_threads: None\n",
            "DEBUG:cmdstanpy:CmdStan args: ['/usr/local/lib/python3.11/dist-packages/prophet/stan_model/prophet_model.bin', 'random', 'seed=71303', 'data', 'file=/tmp/tmpfdntuhgz/ad5baacf.json', 'init=/tmp/tmpfdntuhgz/oswe822b.json', 'output', 'file=/tmp/tmpfdntuhgz/prophet_modeldo8e50j3/prophet_model-20250407024910.csv', 'method=optimize', 'algorithm=newton', 'iter=10000']\n",
            "02:49:10 - cmdstanpy - INFO - Chain [1] start processing\n",
            "INFO:cmdstanpy:Chain [1] start processing\n"
          ]
        },
        {
          "output_type": "stream",
          "name": "stdout",
          "text": [
            "Prophet forecast for {'State': 'GA', 'Segment': 'SBG_ACA'} completed\n"
          ]
        },
        {
          "output_type": "stream",
          "name": "stderr",
          "text": [
            "02:49:28 - cmdstanpy - INFO - Chain [1] done processing\n",
            "INFO:cmdstanpy:Chain [1] done processing\n",
            "INFO:prophet:n_changepoints greater than number of observations. Using 19.\n",
            "DEBUG:cmdstanpy:input tempfile: /tmp/tmpfdntuhgz/rd46kiao.json\n",
            "DEBUG:cmdstanpy:input tempfile: /tmp/tmpfdntuhgz/5_20uwqr.json\n",
            "DEBUG:cmdstanpy:idx 0\n",
            "DEBUG:cmdstanpy:running CmdStan, num_threads: None\n",
            "DEBUG:cmdstanpy:CmdStan args: ['/usr/local/lib/python3.11/dist-packages/prophet/stan_model/prophet_model.bin', 'random', 'seed=13999', 'data', 'file=/tmp/tmpfdntuhgz/rd46kiao.json', 'init=/tmp/tmpfdntuhgz/5_20uwqr.json', 'output', 'file=/tmp/tmpfdntuhgz/prophet_modelldpxj7_9/prophet_model-20250407024928.csv', 'method=optimize', 'algorithm=newton', 'iter=10000']\n",
            "02:49:28 - cmdstanpy - INFO - Chain [1] start processing\n",
            "INFO:cmdstanpy:Chain [1] start processing\n"
          ]
        },
        {
          "output_type": "stream",
          "name": "stdout",
          "text": [
            "Prophet forecast for {'State': 'IN', 'Segment': 'SBG_ACA'} completed\n"
          ]
        },
        {
          "output_type": "stream",
          "name": "stderr",
          "text": [
            "02:49:43 - cmdstanpy - INFO - Chain [1] done processing\n",
            "INFO:cmdstanpy:Chain [1] done processing\n",
            "INFO:prophet:n_changepoints greater than number of observations. Using 19.\n",
            "DEBUG:cmdstanpy:input tempfile: /tmp/tmpfdntuhgz/rmat6etl.json\n",
            "DEBUG:cmdstanpy:input tempfile: /tmp/tmpfdntuhgz/bmrrtav9.json\n",
            "DEBUG:cmdstanpy:idx 0\n",
            "DEBUG:cmdstanpy:running CmdStan, num_threads: None\n",
            "DEBUG:cmdstanpy:CmdStan args: ['/usr/local/lib/python3.11/dist-packages/prophet/stan_model/prophet_model.bin', 'random', 'seed=87357', 'data', 'file=/tmp/tmpfdntuhgz/rmat6etl.json', 'init=/tmp/tmpfdntuhgz/bmrrtav9.json', 'output', 'file=/tmp/tmpfdntuhgz/prophet_modelqfgkixz4/prophet_model-20250407024944.csv', 'method=optimize', 'algorithm=newton', 'iter=10000']\n",
            "02:49:44 - cmdstanpy - INFO - Chain [1] start processing\n",
            "INFO:cmdstanpy:Chain [1] start processing\n"
          ]
        },
        {
          "output_type": "stream",
          "name": "stdout",
          "text": [
            "Prophet forecast for {'State': 'KY', 'Segment': 'SBG_ACA'} completed\n"
          ]
        },
        {
          "output_type": "stream",
          "name": "stderr",
          "text": [
            "02:50:00 - cmdstanpy - INFO - Chain [1] done processing\n",
            "INFO:cmdstanpy:Chain [1] done processing\n",
            "INFO:prophet:n_changepoints greater than number of observations. Using 19.\n",
            "DEBUG:cmdstanpy:input tempfile: /tmp/tmpfdntuhgz/liysl9zr.json\n",
            "DEBUG:cmdstanpy:input tempfile: /tmp/tmpfdntuhgz/a8e5hkwx.json\n",
            "DEBUG:cmdstanpy:idx 0\n",
            "DEBUG:cmdstanpy:running CmdStan, num_threads: None\n",
            "DEBUG:cmdstanpy:CmdStan args: ['/usr/local/lib/python3.11/dist-packages/prophet/stan_model/prophet_model.bin', 'random', 'seed=73661', 'data', 'file=/tmp/tmpfdntuhgz/liysl9zr.json', 'init=/tmp/tmpfdntuhgz/a8e5hkwx.json', 'output', 'file=/tmp/tmpfdntuhgz/prophet_modelb4zzrs_k/prophet_model-20250407025000.csv', 'method=optimize', 'algorithm=newton', 'iter=10000']\n",
            "02:50:00 - cmdstanpy - INFO - Chain [1] start processing\n",
            "INFO:cmdstanpy:Chain [1] start processing\n"
          ]
        },
        {
          "output_type": "stream",
          "name": "stdout",
          "text": [
            "Prophet forecast for {'State': 'ME', 'Segment': 'SBG_ACA'} completed\n"
          ]
        },
        {
          "output_type": "stream",
          "name": "stderr",
          "text": [
            "02:50:18 - cmdstanpy - INFO - Chain [1] done processing\n",
            "INFO:cmdstanpy:Chain [1] done processing\n",
            "INFO:prophet:n_changepoints greater than number of observations. Using 19.\n",
            "DEBUG:cmdstanpy:input tempfile: /tmp/tmpfdntuhgz/mvg0nv_g.json\n",
            "DEBUG:cmdstanpy:input tempfile: /tmp/tmpfdntuhgz/4mldxtew.json\n",
            "DEBUG:cmdstanpy:idx 0\n",
            "DEBUG:cmdstanpy:running CmdStan, num_threads: None\n",
            "DEBUG:cmdstanpy:CmdStan args: ['/usr/local/lib/python3.11/dist-packages/prophet/stan_model/prophet_model.bin', 'random', 'seed=62110', 'data', 'file=/tmp/tmpfdntuhgz/mvg0nv_g.json', 'init=/tmp/tmpfdntuhgz/4mldxtew.json', 'output', 'file=/tmp/tmpfdntuhgz/prophet_models2tjybdj/prophet_model-20250407025018.csv', 'method=optimize', 'algorithm=newton', 'iter=10000']\n",
            "02:50:18 - cmdstanpy - INFO - Chain [1] start processing\n",
            "INFO:cmdstanpy:Chain [1] start processing\n"
          ]
        },
        {
          "output_type": "stream",
          "name": "stdout",
          "text": [
            "Prophet forecast for {'State': 'MO', 'Segment': 'SBG_ACA'} completed\n"
          ]
        },
        {
          "output_type": "stream",
          "name": "stderr",
          "text": [
            "02:50:35 - cmdstanpy - INFO - Chain [1] done processing\n",
            "INFO:cmdstanpy:Chain [1] done processing\n",
            "INFO:prophet:n_changepoints greater than number of observations. Using 19.\n",
            "DEBUG:cmdstanpy:input tempfile: /tmp/tmpfdntuhgz/r82njjc1.json\n",
            "DEBUG:cmdstanpy:input tempfile: /tmp/tmpfdntuhgz/6mwppkx1.json\n",
            "DEBUG:cmdstanpy:idx 0\n",
            "DEBUG:cmdstanpy:running CmdStan, num_threads: None\n",
            "DEBUG:cmdstanpy:CmdStan args: ['/usr/local/lib/python3.11/dist-packages/prophet/stan_model/prophet_model.bin', 'random', 'seed=89165', 'data', 'file=/tmp/tmpfdntuhgz/r82njjc1.json', 'init=/tmp/tmpfdntuhgz/6mwppkx1.json', 'output', 'file=/tmp/tmpfdntuhgz/prophet_modelqj1u9atu/prophet_model-20250407025036.csv', 'method=optimize', 'algorithm=newton', 'iter=10000']\n",
            "02:50:36 - cmdstanpy - INFO - Chain [1] start processing\n",
            "INFO:cmdstanpy:Chain [1] start processing\n"
          ]
        },
        {
          "output_type": "stream",
          "name": "stdout",
          "text": [
            "Prophet forecast for {'State': 'NH', 'Segment': 'SBG_ACA'} completed\n"
          ]
        },
        {
          "output_type": "stream",
          "name": "stderr",
          "text": [
            "02:50:52 - cmdstanpy - INFO - Chain [1] done processing\n",
            "INFO:cmdstanpy:Chain [1] done processing\n",
            "INFO:prophet:n_changepoints greater than number of observations. Using 19.\n",
            "DEBUG:cmdstanpy:input tempfile: /tmp/tmpfdntuhgz/dkxapcud.json\n",
            "DEBUG:cmdstanpy:input tempfile: /tmp/tmpfdntuhgz/snxb4aze.json\n",
            "DEBUG:cmdstanpy:idx 0\n",
            "DEBUG:cmdstanpy:running CmdStan, num_threads: None\n",
            "DEBUG:cmdstanpy:CmdStan args: ['/usr/local/lib/python3.11/dist-packages/prophet/stan_model/prophet_model.bin', 'random', 'seed=89257', 'data', 'file=/tmp/tmpfdntuhgz/dkxapcud.json', 'init=/tmp/tmpfdntuhgz/snxb4aze.json', 'output', 'file=/tmp/tmpfdntuhgz/prophet_modelyg_76ufr/prophet_model-20250407025052.csv', 'method=optimize', 'algorithm=newton', 'iter=10000']\n",
            "02:50:52 - cmdstanpy - INFO - Chain [1] start processing\n",
            "INFO:cmdstanpy:Chain [1] start processing\n"
          ]
        },
        {
          "output_type": "stream",
          "name": "stdout",
          "text": [
            "Prophet forecast for {'State': 'NV', 'Segment': 'SBG_ACA'} completed\n"
          ]
        },
        {
          "output_type": "stream",
          "name": "stderr",
          "text": [
            "02:50:56 - cmdstanpy - INFO - Chain [1] done processing\n",
            "INFO:cmdstanpy:Chain [1] done processing\n",
            "INFO:prophet:n_changepoints greater than number of observations. Using 19.\n",
            "DEBUG:cmdstanpy:input tempfile: /tmp/tmpfdntuhgz/y9ori5xq.json\n",
            "DEBUG:cmdstanpy:input tempfile: /tmp/tmpfdntuhgz/loyf_w51.json\n",
            "DEBUG:cmdstanpy:idx 0\n",
            "DEBUG:cmdstanpy:running CmdStan, num_threads: None\n",
            "DEBUG:cmdstanpy:CmdStan args: ['/usr/local/lib/python3.11/dist-packages/prophet/stan_model/prophet_model.bin', 'random', 'seed=27280', 'data', 'file=/tmp/tmpfdntuhgz/y9ori5xq.json', 'init=/tmp/tmpfdntuhgz/loyf_w51.json', 'output', 'file=/tmp/tmpfdntuhgz/prophet_modelmc7ia8yn/prophet_model-20250407025056.csv', 'method=optimize', 'algorithm=newton', 'iter=10000']\n",
            "02:50:56 - cmdstanpy - INFO - Chain [1] start processing\n",
            "INFO:cmdstanpy:Chain [1] start processing\n"
          ]
        },
        {
          "output_type": "stream",
          "name": "stdout",
          "text": [
            "Prophet forecast for {'State': 'NY', 'Segment': 'SBG_ACA'} completed\n"
          ]
        },
        {
          "output_type": "stream",
          "name": "stderr",
          "text": [
            "02:51:14 - cmdstanpy - INFO - Chain [1] done processing\n",
            "INFO:cmdstanpy:Chain [1] done processing\n",
            "INFO:prophet:n_changepoints greater than number of observations. Using 19.\n",
            "DEBUG:cmdstanpy:input tempfile: /tmp/tmpfdntuhgz/96_m2zca.json\n",
            "DEBUG:cmdstanpy:input tempfile: /tmp/tmpfdntuhgz/zj2eexnp.json\n",
            "DEBUG:cmdstanpy:idx 0\n",
            "DEBUG:cmdstanpy:running CmdStan, num_threads: None\n",
            "DEBUG:cmdstanpy:CmdStan args: ['/usr/local/lib/python3.11/dist-packages/prophet/stan_model/prophet_model.bin', 'random', 'seed=64451', 'data', 'file=/tmp/tmpfdntuhgz/96_m2zca.json', 'init=/tmp/tmpfdntuhgz/zj2eexnp.json', 'output', 'file=/tmp/tmpfdntuhgz/prophet_modelbmpym0jy/prophet_model-20250407025114.csv', 'method=optimize', 'algorithm=newton', 'iter=10000']\n",
            "02:51:14 - cmdstanpy - INFO - Chain [1] start processing\n",
            "INFO:cmdstanpy:Chain [1] start processing\n"
          ]
        },
        {
          "output_type": "stream",
          "name": "stdout",
          "text": [
            "Prophet forecast for {'State': 'OH', 'Segment': 'SBG_ACA'} completed\n"
          ]
        },
        {
          "output_type": "stream",
          "name": "stderr",
          "text": [
            "02:51:31 - cmdstanpy - INFO - Chain [1] done processing\n",
            "INFO:cmdstanpy:Chain [1] done processing\n",
            "INFO:prophet:n_changepoints greater than number of observations. Using 19.\n",
            "DEBUG:cmdstanpy:input tempfile: /tmp/tmpfdntuhgz/4rvpmabz.json\n",
            "DEBUG:cmdstanpy:input tempfile: /tmp/tmpfdntuhgz/wsr96ekr.json\n",
            "DEBUG:cmdstanpy:idx 0\n",
            "DEBUG:cmdstanpy:running CmdStan, num_threads: None\n",
            "DEBUG:cmdstanpy:CmdStan args: ['/usr/local/lib/python3.11/dist-packages/prophet/stan_model/prophet_model.bin', 'random', 'seed=56996', 'data', 'file=/tmp/tmpfdntuhgz/4rvpmabz.json', 'init=/tmp/tmpfdntuhgz/wsr96ekr.json', 'output', 'file=/tmp/tmpfdntuhgz/prophet_model0rqyvmv7/prophet_model-20250407025131.csv', 'method=optimize', 'algorithm=newton', 'iter=10000']\n",
            "02:51:31 - cmdstanpy - INFO - Chain [1] start processing\n",
            "INFO:cmdstanpy:Chain [1] start processing\n"
          ]
        },
        {
          "output_type": "stream",
          "name": "stdout",
          "text": [
            "Prophet forecast for {'State': 'VA', 'Segment': 'SBG_ACA'} completed\n"
          ]
        },
        {
          "output_type": "stream",
          "name": "stderr",
          "text": [
            "02:51:31 - cmdstanpy - INFO - Chain [1] done processing\n",
            "INFO:cmdstanpy:Chain [1] done processing\n",
            "INFO:prophet:n_changepoints greater than number of observations. Using 19.\n",
            "INFO:prophet:n_changepoints greater than number of observations. Using 19.\n",
            "DEBUG:cmdstanpy:input tempfile: /tmp/tmpfdntuhgz/11_hrfg1.json\n",
            "DEBUG:cmdstanpy:input tempfile: /tmp/tmpfdntuhgz/b7p7z206.json\n",
            "DEBUG:cmdstanpy:idx 0\n",
            "DEBUG:cmdstanpy:running CmdStan, num_threads: None\n",
            "DEBUG:cmdstanpy:CmdStan args: ['/usr/local/lib/python3.11/dist-packages/prophet/stan_model/prophet_model.bin', 'random', 'seed=18307', 'data', 'file=/tmp/tmpfdntuhgz/11_hrfg1.json', 'init=/tmp/tmpfdntuhgz/b7p7z206.json', 'output', 'file=/tmp/tmpfdntuhgz/prophet_model4owafmc7/prophet_model-20250407025131.csv', 'method=optimize', 'algorithm=newton', 'iter=10000']\n",
            "02:51:31 - cmdstanpy - INFO - Chain [1] start processing\n",
            "INFO:cmdstanpy:Chain [1] start processing\n"
          ]
        },
        {
          "output_type": "stream",
          "name": "stdout",
          "text": [
            "Prophet forecast for {'State': 'WI', 'Segment': 'SBG_ACA'} completed\n",
            "Prophet forecast for {'State': 'CA_HMO', 'Segment': 'SBG_LEG'} completed\n"
          ]
        },
        {
          "output_type": "stream",
          "name": "stderr",
          "text": [
            "02:51:31 - cmdstanpy - INFO - Chain [1] done processing\n",
            "INFO:cmdstanpy:Chain [1] done processing\n",
            "INFO:prophet:n_changepoints greater than number of observations. Using 19.\n",
            "DEBUG:cmdstanpy:input tempfile: /tmp/tmpfdntuhgz/cnu76j7q.json\n",
            "DEBUG:cmdstanpy:input tempfile: /tmp/tmpfdntuhgz/8_9_rcc9.json\n",
            "DEBUG:cmdstanpy:idx 0\n",
            "DEBUG:cmdstanpy:running CmdStan, num_threads: None\n",
            "DEBUG:cmdstanpy:CmdStan args: ['/usr/local/lib/python3.11/dist-packages/prophet/stan_model/prophet_model.bin', 'random', 'seed=22223', 'data', 'file=/tmp/tmpfdntuhgz/cnu76j7q.json', 'init=/tmp/tmpfdntuhgz/8_9_rcc9.json', 'output', 'file=/tmp/tmpfdntuhgz/prophet_modellgqu7f5a/prophet_model-20250407025131.csv', 'method=optimize', 'algorithm=newton', 'iter=10000']\n",
            "02:51:31 - cmdstanpy - INFO - Chain [1] start processing\n",
            "INFO:cmdstanpy:Chain [1] start processing\n",
            "02:51:31 - cmdstanpy - INFO - Chain [1] done processing\n",
            "INFO:cmdstanpy:Chain [1] done processing\n"
          ]
        },
        {
          "output_type": "stream",
          "name": "stdout",
          "text": [
            "Prophet forecast for {'State': 'CA_PPO', 'Segment': 'SBG_LEG'} completed\n"
          ]
        },
        {
          "output_type": "stream",
          "name": "stderr",
          "text": [
            "INFO:prophet:n_changepoints greater than number of observations. Using 19.\n",
            "DEBUG:cmdstanpy:input tempfile: /tmp/tmpfdntuhgz/rau9yizg.json\n",
            "DEBUG:cmdstanpy:input tempfile: /tmp/tmpfdntuhgz/dexke72m.json\n",
            "DEBUG:cmdstanpy:idx 0\n",
            "DEBUG:cmdstanpy:running CmdStan, num_threads: None\n",
            "DEBUG:cmdstanpy:CmdStan args: ['/usr/local/lib/python3.11/dist-packages/prophet/stan_model/prophet_model.bin', 'random', 'seed=35937', 'data', 'file=/tmp/tmpfdntuhgz/rau9yizg.json', 'init=/tmp/tmpfdntuhgz/dexke72m.json', 'output', 'file=/tmp/tmpfdntuhgz/prophet_modelgse4d3zk/prophet_model-20250407025132.csv', 'method=optimize', 'algorithm=newton', 'iter=10000']\n",
            "02:51:32 - cmdstanpy - INFO - Chain [1] start processing\n",
            "INFO:cmdstanpy:Chain [1] start processing\n",
            "02:51:32 - cmdstanpy - INFO - Chain [1] done processing\n",
            "INFO:cmdstanpy:Chain [1] done processing\n"
          ]
        },
        {
          "output_type": "stream",
          "name": "stdout",
          "text": [
            "Prophet forecast for {'State': 'CO', 'Segment': 'SBG_LEG'} completed\n",
            "Prophet forecast for {'State': 'CT', 'Segment': 'SBG_LEG'} completed\n"
          ]
        },
        {
          "output_type": "stream",
          "name": "stderr",
          "text": [
            "INFO:prophet:n_changepoints greater than number of observations. Using 19.\n",
            "DEBUG:cmdstanpy:input tempfile: /tmp/tmpfdntuhgz/l9oeekbn.json\n",
            "DEBUG:cmdstanpy:input tempfile: /tmp/tmpfdntuhgz/4y7ch64e.json\n",
            "DEBUG:cmdstanpy:idx 0\n",
            "DEBUG:cmdstanpy:running CmdStan, num_threads: None\n",
            "DEBUG:cmdstanpy:CmdStan args: ['/usr/local/lib/python3.11/dist-packages/prophet/stan_model/prophet_model.bin', 'random', 'seed=11406', 'data', 'file=/tmp/tmpfdntuhgz/l9oeekbn.json', 'init=/tmp/tmpfdntuhgz/4y7ch64e.json', 'output', 'file=/tmp/tmpfdntuhgz/prophet_modelteoau5jj/prophet_model-20250407025132.csv', 'method=optimize', 'algorithm=newton', 'iter=10000']\n",
            "02:51:32 - cmdstanpy - INFO - Chain [1] start processing\n",
            "INFO:cmdstanpy:Chain [1] start processing\n",
            "02:51:32 - cmdstanpy - INFO - Chain [1] done processing\n",
            "INFO:cmdstanpy:Chain [1] done processing\n",
            "INFO:prophet:n_changepoints greater than number of observations. Using 19.\n",
            "DEBUG:cmdstanpy:input tempfile: /tmp/tmpfdntuhgz/ldnfo0az.json\n",
            "DEBUG:cmdstanpy:input tempfile: /tmp/tmpfdntuhgz/waybd_xo.json\n",
            "DEBUG:cmdstanpy:idx 0\n",
            "DEBUG:cmdstanpy:running CmdStan, num_threads: None\n",
            "DEBUG:cmdstanpy:CmdStan args: ['/usr/local/lib/python3.11/dist-packages/prophet/stan_model/prophet_model.bin', 'random', 'seed=21901', 'data', 'file=/tmp/tmpfdntuhgz/ldnfo0az.json', 'init=/tmp/tmpfdntuhgz/waybd_xo.json', 'output', 'file=/tmp/tmpfdntuhgz/prophet_modeltdvl2qc1/prophet_model-20250407025132.csv', 'method=optimize', 'algorithm=newton', 'iter=10000']\n",
            "02:51:32 - cmdstanpy - INFO - Chain [1] start processing\n",
            "INFO:cmdstanpy:Chain [1] start processing\n"
          ]
        },
        {
          "output_type": "stream",
          "name": "stdout",
          "text": [
            "Prophet forecast for {'State': 'GA', 'Segment': 'SBG_LEG'} completed\n"
          ]
        },
        {
          "output_type": "stream",
          "name": "stderr",
          "text": [
            "02:51:49 - cmdstanpy - INFO - Chain [1] done processing\n",
            "INFO:cmdstanpy:Chain [1] done processing\n",
            "INFO:prophet:n_changepoints greater than number of observations. Using 19.\n",
            "DEBUG:cmdstanpy:input tempfile: /tmp/tmpfdntuhgz/kikzia3p.json\n",
            "DEBUG:cmdstanpy:input tempfile: /tmp/tmpfdntuhgz/2b1op9ef.json\n",
            "DEBUG:cmdstanpy:idx 0\n",
            "DEBUG:cmdstanpy:running CmdStan, num_threads: None\n",
            "DEBUG:cmdstanpy:CmdStan args: ['/usr/local/lib/python3.11/dist-packages/prophet/stan_model/prophet_model.bin', 'random', 'seed=28217', 'data', 'file=/tmp/tmpfdntuhgz/kikzia3p.json', 'init=/tmp/tmpfdntuhgz/2b1op9ef.json', 'output', 'file=/tmp/tmpfdntuhgz/prophet_model_jh8s1mz/prophet_model-20250407025149.csv', 'method=optimize', 'algorithm=newton', 'iter=10000']\n",
            "02:51:49 - cmdstanpy - INFO - Chain [1] start processing\n",
            "INFO:cmdstanpy:Chain [1] start processing\n"
          ]
        },
        {
          "output_type": "stream",
          "name": "stdout",
          "text": [
            "Prophet forecast for {'State': 'IN', 'Segment': 'SBG_LEG'} completed\n"
          ]
        },
        {
          "output_type": "stream",
          "name": "stderr",
          "text": [
            "02:52:07 - cmdstanpy - INFO - Chain [1] done processing\n",
            "INFO:cmdstanpy:Chain [1] done processing\n",
            "INFO:prophet:n_changepoints greater than number of observations. Using 19.\n",
            "INFO:prophet:n_changepoints greater than number of observations. Using 19.\n",
            "DEBUG:cmdstanpy:input tempfile: /tmp/tmpfdntuhgz/otgvd22z.json\n",
            "DEBUG:cmdstanpy:input tempfile: /tmp/tmpfdntuhgz/dxc45f96.json\n",
            "DEBUG:cmdstanpy:idx 0\n",
            "DEBUG:cmdstanpy:running CmdStan, num_threads: None\n",
            "DEBUG:cmdstanpy:CmdStan args: ['/usr/local/lib/python3.11/dist-packages/prophet/stan_model/prophet_model.bin', 'random', 'seed=69521', 'data', 'file=/tmp/tmpfdntuhgz/otgvd22z.json', 'init=/tmp/tmpfdntuhgz/dxc45f96.json', 'output', 'file=/tmp/tmpfdntuhgz/prophet_modelz3snlm62/prophet_model-20250407025207.csv', 'method=optimize', 'algorithm=newton', 'iter=10000']\n",
            "02:52:07 - cmdstanpy - INFO - Chain [1] start processing\n",
            "INFO:cmdstanpy:Chain [1] start processing\n"
          ]
        },
        {
          "output_type": "stream",
          "name": "stdout",
          "text": [
            "Prophet forecast for {'State': 'KY', 'Segment': 'SBG_LEG'} completed\n",
            "Prophet forecast for {'State': 'ME', 'Segment': 'SBG_LEG'} completed\n"
          ]
        },
        {
          "output_type": "stream",
          "name": "stderr",
          "text": [
            "02:52:24 - cmdstanpy - INFO - Chain [1] done processing\n",
            "INFO:cmdstanpy:Chain [1] done processing\n",
            "INFO:prophet:n_changepoints greater than number of observations. Using 19.\n",
            "DEBUG:cmdstanpy:input tempfile: /tmp/tmpfdntuhgz/j6dznw1n.json\n",
            "DEBUG:cmdstanpy:input tempfile: /tmp/tmpfdntuhgz/sb3r2cka.json\n",
            "DEBUG:cmdstanpy:idx 0\n",
            "DEBUG:cmdstanpy:running CmdStan, num_threads: None\n",
            "DEBUG:cmdstanpy:CmdStan args: ['/usr/local/lib/python3.11/dist-packages/prophet/stan_model/prophet_model.bin', 'random', 'seed=24896', 'data', 'file=/tmp/tmpfdntuhgz/j6dznw1n.json', 'init=/tmp/tmpfdntuhgz/sb3r2cka.json', 'output', 'file=/tmp/tmpfdntuhgz/prophet_modelhfb7bnm9/prophet_model-20250407025224.csv', 'method=optimize', 'algorithm=newton', 'iter=10000']\n",
            "02:52:24 - cmdstanpy - INFO - Chain [1] start processing\n",
            "INFO:cmdstanpy:Chain [1] start processing\n",
            "02:52:24 - cmdstanpy - INFO - Chain [1] done processing\n",
            "INFO:cmdstanpy:Chain [1] done processing\n"
          ]
        },
        {
          "output_type": "stream",
          "name": "stdout",
          "text": [
            "Prophet forecast for {'State': 'MO', 'Segment': 'SBG_LEG'} completed\n",
            "Prophet forecast for {'State': 'NH', 'Segment': 'SBG_LEG'} completed\n"
          ]
        },
        {
          "output_type": "stream",
          "name": "stderr",
          "text": [
            "INFO:prophet:n_changepoints greater than number of observations. Using 19.\n",
            "DEBUG:cmdstanpy:input tempfile: /tmp/tmpfdntuhgz/jco8dsb1.json\n",
            "DEBUG:cmdstanpy:input tempfile: /tmp/tmpfdntuhgz/5px5epm4.json\n",
            "DEBUG:cmdstanpy:idx 0\n",
            "DEBUG:cmdstanpy:running CmdStan, num_threads: None\n",
            "DEBUG:cmdstanpy:CmdStan args: ['/usr/local/lib/python3.11/dist-packages/prophet/stan_model/prophet_model.bin', 'random', 'seed=85978', 'data', 'file=/tmp/tmpfdntuhgz/jco8dsb1.json', 'init=/tmp/tmpfdntuhgz/5px5epm4.json', 'output', 'file=/tmp/tmpfdntuhgz/prophet_modelh2a2uj9i/prophet_model-20250407025224.csv', 'method=optimize', 'algorithm=newton', 'iter=10000']\n",
            "02:52:24 - cmdstanpy - INFO - Chain [1] start processing\n",
            "INFO:cmdstanpy:Chain [1] start processing\n",
            "02:52:41 - cmdstanpy - INFO - Chain [1] done processing\n",
            "INFO:cmdstanpy:Chain [1] done processing\n",
            "INFO:prophet:n_changepoints greater than number of observations. Using 19.\n",
            "INFO:prophet:n_changepoints greater than number of observations. Using 19.\n",
            "DEBUG:cmdstanpy:input tempfile: /tmp/tmpfdntuhgz/q3c7gqj2.json\n",
            "DEBUG:cmdstanpy:input tempfile: /tmp/tmpfdntuhgz/tx934gl0.json\n",
            "DEBUG:cmdstanpy:idx 0\n",
            "DEBUG:cmdstanpy:running CmdStan, num_threads: None\n",
            "DEBUG:cmdstanpy:CmdStan args: ['/usr/local/lib/python3.11/dist-packages/prophet/stan_model/prophet_model.bin', 'random', 'seed=69819', 'data', 'file=/tmp/tmpfdntuhgz/q3c7gqj2.json', 'init=/tmp/tmpfdntuhgz/tx934gl0.json', 'output', 'file=/tmp/tmpfdntuhgz/prophet_modelrgheuy7h/prophet_model-20250407025241.csv', 'method=optimize', 'algorithm=newton', 'iter=10000']\n",
            "02:52:41 - cmdstanpy - INFO - Chain [1] start processing\n",
            "INFO:cmdstanpy:Chain [1] start processing\n"
          ]
        },
        {
          "output_type": "stream",
          "name": "stdout",
          "text": [
            "Prophet forecast for {'State': 'NV', 'Segment': 'SBG_LEG'} completed\n",
            "Prophet forecast for {'State': 'NY', 'Segment': 'SBG_LEG'} completed\n"
          ]
        },
        {
          "output_type": "stream",
          "name": "stderr",
          "text": [
            "02:52:54 - cmdstanpy - INFO - Chain [1] done processing\n",
            "INFO:cmdstanpy:Chain [1] done processing\n",
            "INFO:prophet:n_changepoints greater than number of observations. Using 19.\n",
            "INFO:prophet:n_changepoints greater than number of observations. Using 19.\n",
            "DEBUG:cmdstanpy:input tempfile: /tmp/tmpfdntuhgz/gasokwwq.json\n",
            "DEBUG:cmdstanpy:input tempfile: /tmp/tmpfdntuhgz/9z5_khtd.json\n",
            "DEBUG:cmdstanpy:idx 0\n",
            "DEBUG:cmdstanpy:running CmdStan, num_threads: None\n",
            "DEBUG:cmdstanpy:CmdStan args: ['/usr/local/lib/python3.11/dist-packages/prophet/stan_model/prophet_model.bin', 'random', 'seed=95373', 'data', 'file=/tmp/tmpfdntuhgz/gasokwwq.json', 'init=/tmp/tmpfdntuhgz/9z5_khtd.json', 'output', 'file=/tmp/tmpfdntuhgz/prophet_modelp4eoa0et/prophet_model-20250407025254.csv', 'method=optimize', 'algorithm=newton', 'iter=10000']\n",
            "02:52:54 - cmdstanpy - INFO - Chain [1] start processing\n",
            "INFO:cmdstanpy:Chain [1] start processing\n"
          ]
        },
        {
          "output_type": "stream",
          "name": "stdout",
          "text": [
            "Prophet forecast for {'State': 'OH', 'Segment': 'SBG_LEG'} completed\n",
            "Prophet forecast for {'State': 'VA', 'Segment': 'SBG_LEG'} completed\n"
          ]
        },
        {
          "output_type": "stream",
          "name": "stderr",
          "text": [
            "02:52:55 - cmdstanpy - INFO - Chain [1] done processing\n",
            "INFO:cmdstanpy:Chain [1] done processing\n",
            "INFO:prophet:n_changepoints greater than number of observations. Using 19.\n",
            "INFO:prophet:n_changepoints greater than number of observations. Using 19.\n"
          ]
        },
        {
          "output_type": "stream",
          "name": "stdout",
          "text": [
            "Prophet forecast for {'State': 'WI', 'Segment': 'SBG_LEG'} completed\n",
            "Prophet forecast for {'State': 'CA_HMO', 'Segment': 'SBG_MEW'} completed\n",
            "Prophet forecast for {'State': 'CA_PPO', 'Segment': 'SBG_MEW'} completed\n"
          ]
        },
        {
          "output_type": "stream",
          "name": "stderr",
          "text": [
            "INFO:prophet:n_changepoints greater than number of observations. Using 19.\n",
            "INFO:prophet:n_changepoints greater than number of observations. Using 19.\n",
            "INFO:prophet:n_changepoints greater than number of observations. Using 19.\n",
            "DEBUG:cmdstanpy:input tempfile: /tmp/tmpfdntuhgz/_zsyh1o4.json\n",
            "DEBUG:cmdstanpy:input tempfile: /tmp/tmpfdntuhgz/6vavkogj.json\n",
            "DEBUG:cmdstanpy:idx 0\n",
            "DEBUG:cmdstanpy:running CmdStan, num_threads: None\n",
            "DEBUG:cmdstanpy:CmdStan args: ['/usr/local/lib/python3.11/dist-packages/prophet/stan_model/prophet_model.bin', 'random', 'seed=96335', 'data', 'file=/tmp/tmpfdntuhgz/_zsyh1o4.json', 'init=/tmp/tmpfdntuhgz/6vavkogj.json', 'output', 'file=/tmp/tmpfdntuhgz/prophet_modelvid5accg/prophet_model-20250407025255.csv', 'method=optimize', 'algorithm=newton', 'iter=10000']\n",
            "02:52:55 - cmdstanpy - INFO - Chain [1] start processing\n",
            "INFO:cmdstanpy:Chain [1] start processing\n"
          ]
        },
        {
          "output_type": "stream",
          "name": "stdout",
          "text": [
            "Prophet forecast for {'State': 'CO', 'Segment': 'SBG_MEW'} completed\n",
            "Prophet forecast for {'State': 'CT', 'Segment': 'SBG_MEW'} completed\n"
          ]
        },
        {
          "output_type": "stream",
          "name": "stderr",
          "text": [
            "02:53:13 - cmdstanpy - INFO - Chain [1] done processing\n",
            "INFO:cmdstanpy:Chain [1] done processing\n",
            "INFO:prophet:n_changepoints greater than number of observations. Using 19.\n",
            "INFO:prophet:n_changepoints greater than number of observations. Using 19.\n",
            "DEBUG:cmdstanpy:input tempfile: /tmp/tmpfdntuhgz/9cv87qja.json\n",
            "DEBUG:cmdstanpy:input tempfile: /tmp/tmpfdntuhgz/_ofq0l4r.json\n",
            "DEBUG:cmdstanpy:idx 0\n",
            "DEBUG:cmdstanpy:running CmdStan, num_threads: None\n",
            "DEBUG:cmdstanpy:CmdStan args: ['/usr/local/lib/python3.11/dist-packages/prophet/stan_model/prophet_model.bin', 'random', 'seed=54163', 'data', 'file=/tmp/tmpfdntuhgz/9cv87qja.json', 'init=/tmp/tmpfdntuhgz/_ofq0l4r.json', 'output', 'file=/tmp/tmpfdntuhgz/prophet_modelnfobyqkl/prophet_model-20250407025313.csv', 'method=optimize', 'algorithm=newton', 'iter=10000']\n",
            "02:53:13 - cmdstanpy - INFO - Chain [1] start processing\n",
            "INFO:cmdstanpy:Chain [1] start processing\n"
          ]
        },
        {
          "output_type": "stream",
          "name": "stdout",
          "text": [
            "Prophet forecast for {'State': 'GA', 'Segment': 'SBG_MEW'} completed\n",
            "Prophet forecast for {'State': 'IN', 'Segment': 'SBG_MEW'} completed\n"
          ]
        },
        {
          "output_type": "stream",
          "name": "stderr",
          "text": [
            "02:53:31 - cmdstanpy - INFO - Chain [1] done processing\n",
            "INFO:cmdstanpy:Chain [1] done processing\n",
            "INFO:prophet:n_changepoints greater than number of observations. Using 19.\n",
            "INFO:prophet:n_changepoints greater than number of observations. Using 19.\n",
            "DEBUG:cmdstanpy:input tempfile: /tmp/tmpfdntuhgz/fwqn03bv.json\n",
            "DEBUG:cmdstanpy:input tempfile: /tmp/tmpfdntuhgz/drm9izv_.json\n",
            "DEBUG:cmdstanpy:idx 0\n",
            "DEBUG:cmdstanpy:running CmdStan, num_threads: None\n",
            "DEBUG:cmdstanpy:CmdStan args: ['/usr/local/lib/python3.11/dist-packages/prophet/stan_model/prophet_model.bin', 'random', 'seed=51139', 'data', 'file=/tmp/tmpfdntuhgz/fwqn03bv.json', 'init=/tmp/tmpfdntuhgz/drm9izv_.json', 'output', 'file=/tmp/tmpfdntuhgz/prophet_model055070jn/prophet_model-20250407025331.csv', 'method=optimize', 'algorithm=newton', 'iter=10000']\n",
            "02:53:31 - cmdstanpy - INFO - Chain [1] start processing\n",
            "INFO:cmdstanpy:Chain [1] start processing\n"
          ]
        },
        {
          "output_type": "stream",
          "name": "stdout",
          "text": [
            "Prophet forecast for {'State': 'KY', 'Segment': 'SBG_MEW'} completed\n",
            "Prophet forecast for {'State': 'ME', 'Segment': 'SBG_MEW'} completed\n"
          ]
        },
        {
          "output_type": "stream",
          "name": "stderr",
          "text": [
            "02:53:46 - cmdstanpy - INFO - Chain [1] done processing\n",
            "INFO:cmdstanpy:Chain [1] done processing\n",
            "INFO:prophet:n_changepoints greater than number of observations. Using 19.\n",
            "INFO:prophet:n_changepoints greater than number of observations. Using 19.\n",
            "INFO:prophet:n_changepoints greater than number of observations. Using 19.\n"
          ]
        },
        {
          "output_type": "stream",
          "name": "stdout",
          "text": [
            "Prophet forecast for {'State': 'MO', 'Segment': 'SBG_MEW'} completed\n",
            "Prophet forecast for {'State': 'NH', 'Segment': 'SBG_MEW'} completed\n",
            "Prophet forecast for {'State': 'NV', 'Segment': 'SBG_MEW'} completed\n"
          ]
        },
        {
          "output_type": "stream",
          "name": "stderr",
          "text": [
            "INFO:prophet:n_changepoints greater than number of observations. Using 19.\n",
            "DEBUG:cmdstanpy:input tempfile: /tmp/tmpfdntuhgz/5s7lzl6q.json\n",
            "DEBUG:cmdstanpy:input tempfile: /tmp/tmpfdntuhgz/4uv2mbvo.json\n",
            "DEBUG:cmdstanpy:idx 0\n",
            "DEBUG:cmdstanpy:running CmdStan, num_threads: None\n",
            "DEBUG:cmdstanpy:CmdStan args: ['/usr/local/lib/python3.11/dist-packages/prophet/stan_model/prophet_model.bin', 'random', 'seed=38362', 'data', 'file=/tmp/tmpfdntuhgz/5s7lzl6q.json', 'init=/tmp/tmpfdntuhgz/4uv2mbvo.json', 'output', 'file=/tmp/tmpfdntuhgz/prophet_modelbry3sq8t/prophet_model-20250407025346.csv', 'method=optimize', 'algorithm=newton', 'iter=10000']\n",
            "02:53:46 - cmdstanpy - INFO - Chain [1] start processing\n",
            "INFO:cmdstanpy:Chain [1] start processing\n"
          ]
        },
        {
          "output_type": "stream",
          "name": "stdout",
          "text": [
            "Prophet forecast for {'State': 'NY', 'Segment': 'SBG_MEW'} completed\n"
          ]
        },
        {
          "output_type": "stream",
          "name": "stderr",
          "text": [
            "02:54:04 - cmdstanpy - INFO - Chain [1] done processing\n",
            "INFO:cmdstanpy:Chain [1] done processing\n",
            "INFO:prophet:n_changepoints greater than number of observations. Using 19.\n",
            "DEBUG:cmdstanpy:input tempfile: /tmp/tmpfdntuhgz/8v25htir.json\n",
            "DEBUG:cmdstanpy:input tempfile: /tmp/tmpfdntuhgz/_xcsq9o7.json\n",
            "DEBUG:cmdstanpy:idx 0\n",
            "DEBUG:cmdstanpy:running CmdStan, num_threads: None\n",
            "DEBUG:cmdstanpy:CmdStan args: ['/usr/local/lib/python3.11/dist-packages/prophet/stan_model/prophet_model.bin', 'random', 'seed=54745', 'data', 'file=/tmp/tmpfdntuhgz/8v25htir.json', 'init=/tmp/tmpfdntuhgz/_xcsq9o7.json', 'output', 'file=/tmp/tmpfdntuhgz/prophet_modelr392z9jl/prophet_model-20250407025404.csv', 'method=optimize', 'algorithm=newton', 'iter=10000']\n",
            "02:54:04 - cmdstanpy - INFO - Chain [1] start processing\n",
            "INFO:cmdstanpy:Chain [1] start processing\n",
            "02:54:05 - cmdstanpy - INFO - Chain [1] done processing\n",
            "INFO:cmdstanpy:Chain [1] done processing\n"
          ]
        },
        {
          "output_type": "stream",
          "name": "stdout",
          "text": [
            "Prophet forecast for {'State': 'OH', 'Segment': 'SBG_MEW'} completed\n",
            "Prophet forecast for {'State': 'VA', 'Segment': 'SBG_MEW'} completed\n"
          ]
        },
        {
          "output_type": "stream",
          "name": "stderr",
          "text": [
            "INFO:prophet:n_changepoints greater than number of observations. Using 19.\n",
            "INFO:prophet:n_changepoints greater than number of observations. Using 19.\n",
            "INFO:prophet:n_changepoints greater than number of observations. Using 19.\n",
            "DEBUG:cmdstanpy:input tempfile: /tmp/tmpfdntuhgz/ozeyqd2q.json\n",
            "DEBUG:cmdstanpy:input tempfile: /tmp/tmpfdntuhgz/yt46sd5c.json\n",
            "DEBUG:cmdstanpy:idx 0\n",
            "DEBUG:cmdstanpy:running CmdStan, num_threads: None\n",
            "DEBUG:cmdstanpy:CmdStan args: ['/usr/local/lib/python3.11/dist-packages/prophet/stan_model/prophet_model.bin', 'random', 'seed=85353', 'data', 'file=/tmp/tmpfdntuhgz/ozeyqd2q.json', 'init=/tmp/tmpfdntuhgz/yt46sd5c.json', 'output', 'file=/tmp/tmpfdntuhgz/prophet_modelc9fo_gkx/prophet_model-20250407025405.csv', 'method=optimize', 'algorithm=newton', 'iter=10000']\n",
            "02:54:05 - cmdstanpy - INFO - Chain [1] start processing\n",
            "INFO:cmdstanpy:Chain [1] start processing\n"
          ]
        },
        {
          "output_type": "stream",
          "name": "stdout",
          "text": [
            "Prophet forecast for {'State': 'WI', 'Segment': 'SBG_MEW'} completed\n",
            "Prophet forecast for {'State': 'CA_HMO', 'Segment': 'LGP_SHP'} completed\n"
          ]
        },
        {
          "output_type": "stream",
          "name": "stderr",
          "text": [
            "02:54:05 - cmdstanpy - INFO - Chain [1] done processing\n",
            "INFO:cmdstanpy:Chain [1] done processing\n",
            "INFO:prophet:n_changepoints greater than number of observations. Using 19.\n",
            "DEBUG:cmdstanpy:input tempfile: /tmp/tmpfdntuhgz/2g43ls_c.json\n",
            "DEBUG:cmdstanpy:input tempfile: /tmp/tmpfdntuhgz/bzehlj51.json\n",
            "DEBUG:cmdstanpy:idx 0\n",
            "DEBUG:cmdstanpy:running CmdStan, num_threads: None\n",
            "DEBUG:cmdstanpy:CmdStan args: ['/usr/local/lib/python3.11/dist-packages/prophet/stan_model/prophet_model.bin', 'random', 'seed=89113', 'data', 'file=/tmp/tmpfdntuhgz/2g43ls_c.json', 'init=/tmp/tmpfdntuhgz/bzehlj51.json', 'output', 'file=/tmp/tmpfdntuhgz/prophet_modeli8odhx0q/prophet_model-20250407025405.csv', 'method=optimize', 'algorithm=newton', 'iter=10000']\n",
            "02:54:05 - cmdstanpy - INFO - Chain [1] start processing\n",
            "INFO:cmdstanpy:Chain [1] start processing\n"
          ]
        },
        {
          "output_type": "stream",
          "name": "stdout",
          "text": [
            "Prophet forecast for {'State': 'CA_PPO', 'Segment': 'LGP_SHP'} completed\n"
          ]
        },
        {
          "output_type": "stream",
          "name": "stderr",
          "text": [
            "02:54:05 - cmdstanpy - INFO - Chain [1] done processing\n",
            "INFO:cmdstanpy:Chain [1] done processing\n",
            "INFO:prophet:n_changepoints greater than number of observations. Using 19.\n",
            "INFO:prophet:n_changepoints greater than number of observations. Using 19.\n",
            "DEBUG:cmdstanpy:input tempfile: /tmp/tmpfdntuhgz/937fouc4.json\n",
            "DEBUG:cmdstanpy:input tempfile: /tmp/tmpfdntuhgz/uusndrah.json\n",
            "DEBUG:cmdstanpy:idx 0\n",
            "DEBUG:cmdstanpy:running CmdStan, num_threads: None\n",
            "DEBUG:cmdstanpy:CmdStan args: ['/usr/local/lib/python3.11/dist-packages/prophet/stan_model/prophet_model.bin', 'random', 'seed=23934', 'data', 'file=/tmp/tmpfdntuhgz/937fouc4.json', 'init=/tmp/tmpfdntuhgz/uusndrah.json', 'output', 'file=/tmp/tmpfdntuhgz/prophet_modely565zekd/prophet_model-20250407025405.csv', 'method=optimize', 'algorithm=newton', 'iter=10000']\n",
            "02:54:05 - cmdstanpy - INFO - Chain [1] start processing\n",
            "INFO:cmdstanpy:Chain [1] start processing\n"
          ]
        },
        {
          "output_type": "stream",
          "name": "stdout",
          "text": [
            "Prophet forecast for {'State': 'CO', 'Segment': 'LGP_SHP'} completed\n",
            "Prophet forecast for {'State': 'CT', 'Segment': 'LGP_SHP'} completed\n"
          ]
        },
        {
          "output_type": "stream",
          "name": "stderr",
          "text": [
            "02:54:22 - cmdstanpy - INFO - Chain [1] done processing\n",
            "INFO:cmdstanpy:Chain [1] done processing\n",
            "INFO:prophet:n_changepoints greater than number of observations. Using 19.\n",
            "DEBUG:cmdstanpy:input tempfile: /tmp/tmpfdntuhgz/6h41i2vn.json\n",
            "DEBUG:cmdstanpy:input tempfile: /tmp/tmpfdntuhgz/atp7ry1e.json\n",
            "DEBUG:cmdstanpy:idx 0\n",
            "DEBUG:cmdstanpy:running CmdStan, num_threads: None\n",
            "DEBUG:cmdstanpy:CmdStan args: ['/usr/local/lib/python3.11/dist-packages/prophet/stan_model/prophet_model.bin', 'random', 'seed=31696', 'data', 'file=/tmp/tmpfdntuhgz/6h41i2vn.json', 'init=/tmp/tmpfdntuhgz/atp7ry1e.json', 'output', 'file=/tmp/tmpfdntuhgz/prophet_modeli4d3j2lr/prophet_model-20250407025422.csv', 'method=optimize', 'algorithm=newton', 'iter=10000']\n",
            "02:54:22 - cmdstanpy - INFO - Chain [1] start processing\n",
            "INFO:cmdstanpy:Chain [1] start processing\n",
            "02:54:22 - cmdstanpy - INFO - Chain [1] done processing\n",
            "INFO:cmdstanpy:Chain [1] done processing\n"
          ]
        },
        {
          "output_type": "stream",
          "name": "stdout",
          "text": [
            "Prophet forecast for {'State': 'GA', 'Segment': 'LGP_SHP'} completed\n"
          ]
        },
        {
          "output_type": "stream",
          "name": "stderr",
          "text": [
            "INFO:prophet:n_changepoints greater than number of observations. Using 19.\n",
            "DEBUG:cmdstanpy:input tempfile: /tmp/tmpfdntuhgz/yjb9k4pt.json\n",
            "DEBUG:cmdstanpy:input tempfile: /tmp/tmpfdntuhgz/shn4l3o5.json\n",
            "DEBUG:cmdstanpy:idx 0\n",
            "DEBUG:cmdstanpy:running CmdStan, num_threads: None\n",
            "DEBUG:cmdstanpy:CmdStan args: ['/usr/local/lib/python3.11/dist-packages/prophet/stan_model/prophet_model.bin', 'random', 'seed=69135', 'data', 'file=/tmp/tmpfdntuhgz/yjb9k4pt.json', 'init=/tmp/tmpfdntuhgz/shn4l3o5.json', 'output', 'file=/tmp/tmpfdntuhgz/prophet_modelqhp8ypnl/prophet_model-20250407025423.csv', 'method=optimize', 'algorithm=newton', 'iter=10000']\n",
            "02:54:23 - cmdstanpy - INFO - Chain [1] start processing\n",
            "INFO:cmdstanpy:Chain [1] start processing\n",
            "02:54:23 - cmdstanpy - INFO - Chain [1] done processing\n",
            "INFO:cmdstanpy:Chain [1] done processing\n"
          ]
        },
        {
          "output_type": "stream",
          "name": "stdout",
          "text": [
            "Prophet forecast for {'State': 'IN', 'Segment': 'LGP_SHP'} completed\n"
          ]
        },
        {
          "output_type": "stream",
          "name": "stderr",
          "text": [
            "INFO:prophet:n_changepoints greater than number of observations. Using 19.\n",
            "DEBUG:cmdstanpy:input tempfile: /tmp/tmpfdntuhgz/lfogh7_k.json\n",
            "DEBUG:cmdstanpy:input tempfile: /tmp/tmpfdntuhgz/gd_wcs_x.json\n",
            "DEBUG:cmdstanpy:idx 0\n",
            "DEBUG:cmdstanpy:running CmdStan, num_threads: None\n",
            "DEBUG:cmdstanpy:CmdStan args: ['/usr/local/lib/python3.11/dist-packages/prophet/stan_model/prophet_model.bin', 'random', 'seed=85366', 'data', 'file=/tmp/tmpfdntuhgz/lfogh7_k.json', 'init=/tmp/tmpfdntuhgz/gd_wcs_x.json', 'output', 'file=/tmp/tmpfdntuhgz/prophet_modelwsdukasq/prophet_model-20250407025423.csv', 'method=optimize', 'algorithm=newton', 'iter=10000']\n",
            "02:54:23 - cmdstanpy - INFO - Chain [1] start processing\n",
            "INFO:cmdstanpy:Chain [1] start processing\n"
          ]
        },
        {
          "output_type": "stream",
          "name": "stdout",
          "text": [
            "Prophet forecast for {'State': 'KY', 'Segment': 'LGP_SHP'} completed\n"
          ]
        },
        {
          "output_type": "stream",
          "name": "stderr",
          "text": [
            "02:54:39 - cmdstanpy - INFO - Chain [1] done processing\n",
            "INFO:cmdstanpy:Chain [1] done processing\n",
            "INFO:prophet:n_changepoints greater than number of observations. Using 19.\n",
            "DEBUG:cmdstanpy:input tempfile: /tmp/tmpfdntuhgz/4ei8fuxo.json\n",
            "DEBUG:cmdstanpy:input tempfile: /tmp/tmpfdntuhgz/1pcjlvri.json\n",
            "DEBUG:cmdstanpy:idx 0\n",
            "DEBUG:cmdstanpy:running CmdStan, num_threads: None\n",
            "DEBUG:cmdstanpy:CmdStan args: ['/usr/local/lib/python3.11/dist-packages/prophet/stan_model/prophet_model.bin', 'random', 'seed=21738', 'data', 'file=/tmp/tmpfdntuhgz/4ei8fuxo.json', 'init=/tmp/tmpfdntuhgz/1pcjlvri.json', 'output', 'file=/tmp/tmpfdntuhgz/prophet_modelyg8vfxuq/prophet_model-20250407025440.csv', 'method=optimize', 'algorithm=newton', 'iter=10000']\n",
            "02:54:40 - cmdstanpy - INFO - Chain [1] start processing\n",
            "INFO:cmdstanpy:Chain [1] start processing\n"
          ]
        },
        {
          "output_type": "stream",
          "name": "stdout",
          "text": [
            "Prophet forecast for {'State': 'ME', 'Segment': 'LGP_SHP'} completed\n"
          ]
        },
        {
          "output_type": "stream",
          "name": "stderr",
          "text": [
            "02:54:55 - cmdstanpy - INFO - Chain [1] done processing\n",
            "INFO:cmdstanpy:Chain [1] done processing\n",
            "INFO:prophet:n_changepoints greater than number of observations. Using 19.\n",
            "DEBUG:cmdstanpy:input tempfile: /tmp/tmpfdntuhgz/j9wf4nn4.json\n",
            "DEBUG:cmdstanpy:input tempfile: /tmp/tmpfdntuhgz/m9i20t1z.json\n",
            "DEBUG:cmdstanpy:idx 0\n",
            "DEBUG:cmdstanpy:running CmdStan, num_threads: None\n",
            "DEBUG:cmdstanpy:CmdStan args: ['/usr/local/lib/python3.11/dist-packages/prophet/stan_model/prophet_model.bin', 'random', 'seed=19134', 'data', 'file=/tmp/tmpfdntuhgz/j9wf4nn4.json', 'init=/tmp/tmpfdntuhgz/m9i20t1z.json', 'output', 'file=/tmp/tmpfdntuhgz/prophet_model_x0qlqxy/prophet_model-20250407025455.csv', 'method=optimize', 'algorithm=newton', 'iter=10000']\n",
            "02:54:55 - cmdstanpy - INFO - Chain [1] start processing\n",
            "INFO:cmdstanpy:Chain [1] start processing\n"
          ]
        },
        {
          "output_type": "stream",
          "name": "stdout",
          "text": [
            "Prophet forecast for {'State': 'MO', 'Segment': 'LGP_SHP'} completed\n"
          ]
        },
        {
          "output_type": "stream",
          "name": "stderr",
          "text": [
            "02:55:13 - cmdstanpy - INFO - Chain [1] done processing\n",
            "INFO:cmdstanpy:Chain [1] done processing\n",
            "INFO:prophet:n_changepoints greater than number of observations. Using 19.\n",
            "INFO:prophet:n_changepoints greater than number of observations. Using 19.\n",
            "DEBUG:cmdstanpy:input tempfile: /tmp/tmpfdntuhgz/ssvqf25o.json\n",
            "DEBUG:cmdstanpy:input tempfile: /tmp/tmpfdntuhgz/n_sgm7i3.json\n",
            "DEBUG:cmdstanpy:idx 0\n",
            "DEBUG:cmdstanpy:running CmdStan, num_threads: None\n",
            "DEBUG:cmdstanpy:CmdStan args: ['/usr/local/lib/python3.11/dist-packages/prophet/stan_model/prophet_model.bin', 'random', 'seed=11820', 'data', 'file=/tmp/tmpfdntuhgz/ssvqf25o.json', 'init=/tmp/tmpfdntuhgz/n_sgm7i3.json', 'output', 'file=/tmp/tmpfdntuhgz/prophet_modelwv7qphmp/prophet_model-20250407025513.csv', 'method=optimize', 'algorithm=newton', 'iter=10000']\n",
            "02:55:13 - cmdstanpy - INFO - Chain [1] start processing\n",
            "INFO:cmdstanpy:Chain [1] start processing\n"
          ]
        },
        {
          "output_type": "stream",
          "name": "stdout",
          "text": [
            "Prophet forecast for {'State': 'NH', 'Segment': 'LGP_SHP'} completed\n",
            "Prophet forecast for {'State': 'NV', 'Segment': 'LGP_SHP'} completed\n"
          ]
        },
        {
          "output_type": "stream",
          "name": "stderr",
          "text": [
            "02:55:30 - cmdstanpy - INFO - Chain [1] done processing\n",
            "INFO:cmdstanpy:Chain [1] done processing\n",
            "INFO:prophet:n_changepoints greater than number of observations. Using 19.\n",
            "DEBUG:cmdstanpy:input tempfile: /tmp/tmpfdntuhgz/ba03jn1u.json\n",
            "DEBUG:cmdstanpy:input tempfile: /tmp/tmpfdntuhgz/wi7h5ne1.json\n",
            "DEBUG:cmdstanpy:idx 0\n",
            "DEBUG:cmdstanpy:running CmdStan, num_threads: None\n",
            "DEBUG:cmdstanpy:CmdStan args: ['/usr/local/lib/python3.11/dist-packages/prophet/stan_model/prophet_model.bin', 'random', 'seed=28511', 'data', 'file=/tmp/tmpfdntuhgz/ba03jn1u.json', 'init=/tmp/tmpfdntuhgz/wi7h5ne1.json', 'output', 'file=/tmp/tmpfdntuhgz/prophet_modelb5ug8il7/prophet_model-20250407025530.csv', 'method=optimize', 'algorithm=newton', 'iter=10000']\n",
            "02:55:30 - cmdstanpy - INFO - Chain [1] start processing\n",
            "INFO:cmdstanpy:Chain [1] start processing\n"
          ]
        },
        {
          "output_type": "stream",
          "name": "stdout",
          "text": [
            "Prophet forecast for {'State': 'NY', 'Segment': 'LGP_SHP'} completed\n"
          ]
        },
        {
          "output_type": "stream",
          "name": "stderr",
          "text": [
            "02:55:30 - cmdstanpy - INFO - Chain [1] done processing\n",
            "INFO:cmdstanpy:Chain [1] done processing\n",
            "INFO:prophet:n_changepoints greater than number of observations. Using 19.\n",
            "DEBUG:cmdstanpy:input tempfile: /tmp/tmpfdntuhgz/o_h4_e37.json\n",
            "DEBUG:cmdstanpy:input tempfile: /tmp/tmpfdntuhgz/i05s0jkr.json\n",
            "DEBUG:cmdstanpy:idx 0\n",
            "DEBUG:cmdstanpy:running CmdStan, num_threads: None\n",
            "DEBUG:cmdstanpy:CmdStan args: ['/usr/local/lib/python3.11/dist-packages/prophet/stan_model/prophet_model.bin', 'random', 'seed=10287', 'data', 'file=/tmp/tmpfdntuhgz/o_h4_e37.json', 'init=/tmp/tmpfdntuhgz/i05s0jkr.json', 'output', 'file=/tmp/tmpfdntuhgz/prophet_modelkzgiz1j2/prophet_model-20250407025530.csv', 'method=optimize', 'algorithm=newton', 'iter=10000']\n",
            "02:55:30 - cmdstanpy - INFO - Chain [1] start processing\n",
            "INFO:cmdstanpy:Chain [1] start processing\n",
            "02:55:30 - cmdstanpy - INFO - Chain [1] done processing\n",
            "INFO:cmdstanpy:Chain [1] done processing\n"
          ]
        },
        {
          "output_type": "stream",
          "name": "stdout",
          "text": [
            "Prophet forecast for {'State': 'OH', 'Segment': 'LGP_SHP'} completed\n"
          ]
        },
        {
          "output_type": "stream",
          "name": "stderr",
          "text": [
            "INFO:prophet:n_changepoints greater than number of observations. Using 19.\n",
            "DEBUG:cmdstanpy:input tempfile: /tmp/tmpfdntuhgz/iwdtf8mp.json\n",
            "DEBUG:cmdstanpy:input tempfile: /tmp/tmpfdntuhgz/7i0k0inu.json\n",
            "DEBUG:cmdstanpy:idx 0\n",
            "DEBUG:cmdstanpy:running CmdStan, num_threads: None\n",
            "DEBUG:cmdstanpy:CmdStan args: ['/usr/local/lib/python3.11/dist-packages/prophet/stan_model/prophet_model.bin', 'random', 'seed=10926', 'data', 'file=/tmp/tmpfdntuhgz/iwdtf8mp.json', 'init=/tmp/tmpfdntuhgz/7i0k0inu.json', 'output', 'file=/tmp/tmpfdntuhgz/prophet_modelzdkerz7u/prophet_model-20250407025530.csv', 'method=optimize', 'algorithm=newton', 'iter=10000']\n",
            "02:55:30 - cmdstanpy - INFO - Chain [1] start processing\n",
            "INFO:cmdstanpy:Chain [1] start processing\n",
            "02:55:31 - cmdstanpy - INFO - Chain [1] done processing\n",
            "INFO:cmdstanpy:Chain [1] done processing\n"
          ]
        },
        {
          "output_type": "stream",
          "name": "stdout",
          "text": [
            "Prophet forecast for {'State': 'VA', 'Segment': 'LGP_SHP'} completed\n"
          ]
        },
        {
          "output_type": "stream",
          "name": "stderr",
          "text": [
            "INFO:prophet:n_changepoints greater than number of observations. Using 19.\n",
            "DEBUG:cmdstanpy:input tempfile: /tmp/tmpfdntuhgz/w8r17om9.json\n",
            "DEBUG:cmdstanpy:input tempfile: /tmp/tmpfdntuhgz/6miscyfx.json\n",
            "DEBUG:cmdstanpy:idx 0\n",
            "DEBUG:cmdstanpy:running CmdStan, num_threads: None\n",
            "DEBUG:cmdstanpy:CmdStan args: ['/usr/local/lib/python3.11/dist-packages/prophet/stan_model/prophet_model.bin', 'random', 'seed=91852', 'data', 'file=/tmp/tmpfdntuhgz/w8r17om9.json', 'init=/tmp/tmpfdntuhgz/6miscyfx.json', 'output', 'file=/tmp/tmpfdntuhgz/prophet_modelxjy93mqn/prophet_model-20250407025531.csv', 'method=optimize', 'algorithm=newton', 'iter=10000']\n",
            "02:55:31 - cmdstanpy - INFO - Chain [1] start processing\n",
            "INFO:cmdstanpy:Chain [1] start processing\n"
          ]
        },
        {
          "output_type": "stream",
          "name": "stdout",
          "text": [
            "Prophet forecast for {'State': 'WI', 'Segment': 'LGP_SHP'} completed\n"
          ]
        },
        {
          "output_type": "stream",
          "name": "stderr",
          "text": [
            "02:55:48 - cmdstanpy - INFO - Chain [1] done processing\n",
            "INFO:cmdstanpy:Chain [1] done processing\n",
            "INFO:prophet:n_changepoints greater than number of observations. Using 19.\n",
            "DEBUG:cmdstanpy:input tempfile: /tmp/tmpfdntuhgz/6enj3_xp.json\n",
            "DEBUG:cmdstanpy:input tempfile: /tmp/tmpfdntuhgz/g31s4x5z.json\n",
            "DEBUG:cmdstanpy:idx 0\n",
            "DEBUG:cmdstanpy:running CmdStan, num_threads: None\n",
            "DEBUG:cmdstanpy:CmdStan args: ['/usr/local/lib/python3.11/dist-packages/prophet/stan_model/prophet_model.bin', 'random', 'seed=20342', 'data', 'file=/tmp/tmpfdntuhgz/6enj3_xp.json', 'init=/tmp/tmpfdntuhgz/g31s4x5z.json', 'output', 'file=/tmp/tmpfdntuhgz/prophet_model30475mld/prophet_model-20250407025548.csv', 'method=optimize', 'algorithm=newton', 'iter=10000']\n",
            "02:55:48 - cmdstanpy - INFO - Chain [1] start processing\n",
            "INFO:cmdstanpy:Chain [1] start processing\n"
          ]
        },
        {
          "output_type": "stream",
          "name": "stdout",
          "text": [
            "Prophet forecast for {'State': 'CA_HMO', 'Segment': 'LGP_NRF'} completed\n"
          ]
        },
        {
          "output_type": "stream",
          "name": "stderr",
          "text": [
            "02:55:48 - cmdstanpy - INFO - Chain [1] done processing\n",
            "INFO:cmdstanpy:Chain [1] done processing\n",
            "INFO:prophet:n_changepoints greater than number of observations. Using 19.\n",
            "DEBUG:cmdstanpy:input tempfile: /tmp/tmpfdntuhgz/3wov5acc.json\n",
            "DEBUG:cmdstanpy:input tempfile: /tmp/tmpfdntuhgz/n0z5kmo4.json\n",
            "DEBUG:cmdstanpy:idx 0\n",
            "DEBUG:cmdstanpy:running CmdStan, num_threads: None\n",
            "DEBUG:cmdstanpy:CmdStan args: ['/usr/local/lib/python3.11/dist-packages/prophet/stan_model/prophet_model.bin', 'random', 'seed=17326', 'data', 'file=/tmp/tmpfdntuhgz/3wov5acc.json', 'init=/tmp/tmpfdntuhgz/n0z5kmo4.json', 'output', 'file=/tmp/tmpfdntuhgz/prophet_model03w84f57/prophet_model-20250407025548.csv', 'method=optimize', 'algorithm=newton', 'iter=10000']\n",
            "02:55:48 - cmdstanpy - INFO - Chain [1] start processing\n",
            "INFO:cmdstanpy:Chain [1] start processing\n"
          ]
        },
        {
          "output_type": "stream",
          "name": "stdout",
          "text": [
            "Prophet forecast for {'State': 'CA_PPO', 'Segment': 'LGP_NRF'} completed\n"
          ]
        },
        {
          "output_type": "stream",
          "name": "stderr",
          "text": [
            "02:56:05 - cmdstanpy - INFO - Chain [1] done processing\n",
            "INFO:cmdstanpy:Chain [1] done processing\n",
            "INFO:prophet:n_changepoints greater than number of observations. Using 19.\n",
            "DEBUG:cmdstanpy:input tempfile: /tmp/tmpfdntuhgz/kro4nxcv.json\n",
            "DEBUG:cmdstanpy:input tempfile: /tmp/tmpfdntuhgz/vpblte3f.json\n",
            "DEBUG:cmdstanpy:idx 0\n",
            "DEBUG:cmdstanpy:running CmdStan, num_threads: None\n",
            "DEBUG:cmdstanpy:CmdStan args: ['/usr/local/lib/python3.11/dist-packages/prophet/stan_model/prophet_model.bin', 'random', 'seed=72270', 'data', 'file=/tmp/tmpfdntuhgz/kro4nxcv.json', 'init=/tmp/tmpfdntuhgz/vpblte3f.json', 'output', 'file=/tmp/tmpfdntuhgz/prophet_model_o1kajqq/prophet_model-20250407025606.csv', 'method=optimize', 'algorithm=newton', 'iter=10000']\n",
            "02:56:06 - cmdstanpy - INFO - Chain [1] start processing\n",
            "INFO:cmdstanpy:Chain [1] start processing\n"
          ]
        },
        {
          "output_type": "stream",
          "name": "stdout",
          "text": [
            "Prophet forecast for {'State': 'CO', 'Segment': 'LGP_NRF'} completed\n"
          ]
        },
        {
          "output_type": "stream",
          "name": "stderr",
          "text": [
            "02:56:06 - cmdstanpy - INFO - Chain [1] done processing\n",
            "INFO:cmdstanpy:Chain [1] done processing\n",
            "INFO:prophet:n_changepoints greater than number of observations. Using 19.\n",
            "DEBUG:cmdstanpy:input tempfile: /tmp/tmpfdntuhgz/qktd4ub7.json\n",
            "DEBUG:cmdstanpy:input tempfile: /tmp/tmpfdntuhgz/qh9ly_2g.json\n",
            "DEBUG:cmdstanpy:idx 0\n",
            "DEBUG:cmdstanpy:running CmdStan, num_threads: None\n",
            "DEBUG:cmdstanpy:CmdStan args: ['/usr/local/lib/python3.11/dist-packages/prophet/stan_model/prophet_model.bin', 'random', 'seed=13669', 'data', 'file=/tmp/tmpfdntuhgz/qktd4ub7.json', 'init=/tmp/tmpfdntuhgz/qh9ly_2g.json', 'output', 'file=/tmp/tmpfdntuhgz/prophet_modeltkltd5jf/prophet_model-20250407025606.csv', 'method=optimize', 'algorithm=newton', 'iter=10000']\n",
            "02:56:06 - cmdstanpy - INFO - Chain [1] start processing\n",
            "INFO:cmdstanpy:Chain [1] start processing\n"
          ]
        },
        {
          "output_type": "stream",
          "name": "stdout",
          "text": [
            "Prophet forecast for {'State': 'CT', 'Segment': 'LGP_NRF'} completed\n"
          ]
        },
        {
          "output_type": "stream",
          "name": "stderr",
          "text": [
            "02:56:06 - cmdstanpy - INFO - Chain [1] done processing\n",
            "INFO:cmdstanpy:Chain [1] done processing\n",
            "INFO:prophet:n_changepoints greater than number of observations. Using 19.\n",
            "DEBUG:cmdstanpy:input tempfile: /tmp/tmpfdntuhgz/1kdach47.json\n",
            "DEBUG:cmdstanpy:input tempfile: /tmp/tmpfdntuhgz/42renmvf.json\n",
            "DEBUG:cmdstanpy:idx 0\n",
            "DEBUG:cmdstanpy:running CmdStan, num_threads: None\n",
            "DEBUG:cmdstanpy:CmdStan args: ['/usr/local/lib/python3.11/dist-packages/prophet/stan_model/prophet_model.bin', 'random', 'seed=71597', 'data', 'file=/tmp/tmpfdntuhgz/1kdach47.json', 'init=/tmp/tmpfdntuhgz/42renmvf.json', 'output', 'file=/tmp/tmpfdntuhgz/prophet_modelqo4f17ue/prophet_model-20250407025606.csv', 'method=optimize', 'algorithm=newton', 'iter=10000']\n",
            "02:56:06 - cmdstanpy - INFO - Chain [1] start processing\n",
            "INFO:cmdstanpy:Chain [1] start processing\n"
          ]
        },
        {
          "output_type": "stream",
          "name": "stdout",
          "text": [
            "Prophet forecast for {'State': 'GA', 'Segment': 'LGP_NRF'} completed\n"
          ]
        },
        {
          "output_type": "stream",
          "name": "stderr",
          "text": [
            "02:56:06 - cmdstanpy - INFO - Chain [1] done processing\n",
            "INFO:cmdstanpy:Chain [1] done processing\n",
            "INFO:prophet:n_changepoints greater than number of observations. Using 19.\n",
            "DEBUG:cmdstanpy:input tempfile: /tmp/tmpfdntuhgz/qaohpq6v.json\n",
            "DEBUG:cmdstanpy:input tempfile: /tmp/tmpfdntuhgz/uw50hofv.json\n",
            "DEBUG:cmdstanpy:idx 0\n",
            "DEBUG:cmdstanpy:running CmdStan, num_threads: None\n",
            "DEBUG:cmdstanpy:CmdStan args: ['/usr/local/lib/python3.11/dist-packages/prophet/stan_model/prophet_model.bin', 'random', 'seed=44040', 'data', 'file=/tmp/tmpfdntuhgz/qaohpq6v.json', 'init=/tmp/tmpfdntuhgz/uw50hofv.json', 'output', 'file=/tmp/tmpfdntuhgz/prophet_modelptcdk7g_/prophet_model-20250407025606.csv', 'method=optimize', 'algorithm=newton', 'iter=10000']\n",
            "02:56:06 - cmdstanpy - INFO - Chain [1] start processing\n",
            "INFO:cmdstanpy:Chain [1] start processing\n"
          ]
        },
        {
          "output_type": "stream",
          "name": "stdout",
          "text": [
            "Prophet forecast for {'State': 'IN', 'Segment': 'LGP_NRF'} completed\n"
          ]
        },
        {
          "output_type": "stream",
          "name": "stderr",
          "text": [
            "02:56:07 - cmdstanpy - INFO - Chain [1] done processing\n",
            "INFO:cmdstanpy:Chain [1] done processing\n",
            "INFO:prophet:n_changepoints greater than number of observations. Using 19.\n",
            "DEBUG:cmdstanpy:input tempfile: /tmp/tmpfdntuhgz/v4dq_bt6.json\n",
            "DEBUG:cmdstanpy:input tempfile: /tmp/tmpfdntuhgz/ur4so9z0.json\n",
            "DEBUG:cmdstanpy:idx 0\n",
            "DEBUG:cmdstanpy:running CmdStan, num_threads: None\n",
            "DEBUG:cmdstanpy:CmdStan args: ['/usr/local/lib/python3.11/dist-packages/prophet/stan_model/prophet_model.bin', 'random', 'seed=12014', 'data', 'file=/tmp/tmpfdntuhgz/v4dq_bt6.json', 'init=/tmp/tmpfdntuhgz/ur4so9z0.json', 'output', 'file=/tmp/tmpfdntuhgz/prophet_modelrt23ovqw/prophet_model-20250407025607.csv', 'method=optimize', 'algorithm=newton', 'iter=10000']\n",
            "02:56:07 - cmdstanpy - INFO - Chain [1] start processing\n",
            "INFO:cmdstanpy:Chain [1] start processing\n"
          ]
        },
        {
          "output_type": "stream",
          "name": "stdout",
          "text": [
            "Prophet forecast for {'State': 'KY', 'Segment': 'LGP_NRF'} completed\n"
          ]
        },
        {
          "output_type": "stream",
          "name": "stderr",
          "text": [
            "02:56:07 - cmdstanpy - INFO - Chain [1] done processing\n",
            "INFO:cmdstanpy:Chain [1] done processing\n",
            "INFO:prophet:n_changepoints greater than number of observations. Using 19.\n",
            "DEBUG:cmdstanpy:input tempfile: /tmp/tmpfdntuhgz/hg5b36qg.json\n",
            "DEBUG:cmdstanpy:input tempfile: /tmp/tmpfdntuhgz/nxii72o3.json\n",
            "DEBUG:cmdstanpy:idx 0\n",
            "DEBUG:cmdstanpy:running CmdStan, num_threads: None\n",
            "DEBUG:cmdstanpy:CmdStan args: ['/usr/local/lib/python3.11/dist-packages/prophet/stan_model/prophet_model.bin', 'random', 'seed=76085', 'data', 'file=/tmp/tmpfdntuhgz/hg5b36qg.json', 'init=/tmp/tmpfdntuhgz/nxii72o3.json', 'output', 'file=/tmp/tmpfdntuhgz/prophet_modelle669akk/prophet_model-20250407025607.csv', 'method=optimize', 'algorithm=newton', 'iter=10000']\n",
            "02:56:07 - cmdstanpy - INFO - Chain [1] start processing\n",
            "INFO:cmdstanpy:Chain [1] start processing\n"
          ]
        },
        {
          "output_type": "stream",
          "name": "stdout",
          "text": [
            "Prophet forecast for {'State': 'ME', 'Segment': 'LGP_NRF'} completed\n"
          ]
        },
        {
          "output_type": "stream",
          "name": "stderr",
          "text": [
            "02:56:14 - cmdstanpy - INFO - Chain [1] done processing\n",
            "INFO:cmdstanpy:Chain [1] done processing\n",
            "INFO:prophet:n_changepoints greater than number of observations. Using 19.\n",
            "DEBUG:cmdstanpy:input tempfile: /tmp/tmpfdntuhgz/h0nwn3d9.json\n",
            "DEBUG:cmdstanpy:input tempfile: /tmp/tmpfdntuhgz/ajumuvxi.json\n",
            "DEBUG:cmdstanpy:idx 0\n",
            "DEBUG:cmdstanpy:running CmdStan, num_threads: None\n",
            "DEBUG:cmdstanpy:CmdStan args: ['/usr/local/lib/python3.11/dist-packages/prophet/stan_model/prophet_model.bin', 'random', 'seed=38559', 'data', 'file=/tmp/tmpfdntuhgz/h0nwn3d9.json', 'init=/tmp/tmpfdntuhgz/ajumuvxi.json', 'output', 'file=/tmp/tmpfdntuhgz/prophet_model_xzr5ns0/prophet_model-20250407025614.csv', 'method=optimize', 'algorithm=newton', 'iter=10000']\n",
            "02:56:14 - cmdstanpy - INFO - Chain [1] start processing\n",
            "INFO:cmdstanpy:Chain [1] start processing\n"
          ]
        },
        {
          "output_type": "stream",
          "name": "stdout",
          "text": [
            "Prophet forecast for {'State': 'MO', 'Segment': 'LGP_NRF'} completed\n"
          ]
        },
        {
          "output_type": "stream",
          "name": "stderr",
          "text": [
            "02:56:32 - cmdstanpy - INFO - Chain [1] done processing\n",
            "INFO:cmdstanpy:Chain [1] done processing\n",
            "INFO:prophet:n_changepoints greater than number of observations. Using 19.\n",
            "DEBUG:cmdstanpy:input tempfile: /tmp/tmpfdntuhgz/4rlnmz9w.json\n",
            "DEBUG:cmdstanpy:input tempfile: /tmp/tmpfdntuhgz/c10jhdnj.json\n",
            "DEBUG:cmdstanpy:idx 0\n",
            "DEBUG:cmdstanpy:running CmdStan, num_threads: None\n",
            "DEBUG:cmdstanpy:CmdStan args: ['/usr/local/lib/python3.11/dist-packages/prophet/stan_model/prophet_model.bin', 'random', 'seed=75381', 'data', 'file=/tmp/tmpfdntuhgz/4rlnmz9w.json', 'init=/tmp/tmpfdntuhgz/c10jhdnj.json', 'output', 'file=/tmp/tmpfdntuhgz/prophet_modelvzif81h1/prophet_model-20250407025632.csv', 'method=optimize', 'algorithm=newton', 'iter=10000']\n",
            "02:56:32 - cmdstanpy - INFO - Chain [1] start processing\n",
            "INFO:cmdstanpy:Chain [1] start processing\n"
          ]
        },
        {
          "output_type": "stream",
          "name": "stdout",
          "text": [
            "Prophet forecast for {'State': 'NH', 'Segment': 'LGP_NRF'} completed\n"
          ]
        },
        {
          "output_type": "stream",
          "name": "stderr",
          "text": [
            "02:56:32 - cmdstanpy - INFO - Chain [1] done processing\n",
            "INFO:cmdstanpy:Chain [1] done processing\n",
            "INFO:prophet:n_changepoints greater than number of observations. Using 19.\n",
            "DEBUG:cmdstanpy:input tempfile: /tmp/tmpfdntuhgz/9sqbaaec.json\n",
            "DEBUG:cmdstanpy:input tempfile: /tmp/tmpfdntuhgz/41kh7ixi.json\n",
            "DEBUG:cmdstanpy:idx 0\n",
            "DEBUG:cmdstanpy:running CmdStan, num_threads: None\n",
            "DEBUG:cmdstanpy:CmdStan args: ['/usr/local/lib/python3.11/dist-packages/prophet/stan_model/prophet_model.bin', 'random', 'seed=78842', 'data', 'file=/tmp/tmpfdntuhgz/9sqbaaec.json', 'init=/tmp/tmpfdntuhgz/41kh7ixi.json', 'output', 'file=/tmp/tmpfdntuhgz/prophet_modelf92u16u3/prophet_model-20250407025632.csv', 'method=optimize', 'algorithm=newton', 'iter=10000']\n",
            "02:56:32 - cmdstanpy - INFO - Chain [1] start processing\n",
            "INFO:cmdstanpy:Chain [1] start processing\n"
          ]
        },
        {
          "output_type": "stream",
          "name": "stdout",
          "text": [
            "Prophet forecast for {'State': 'NV', 'Segment': 'LGP_NRF'} completed\n"
          ]
        },
        {
          "output_type": "stream",
          "name": "stderr",
          "text": [
            "02:56:32 - cmdstanpy - INFO - Chain [1] done processing\n",
            "INFO:cmdstanpy:Chain [1] done processing\n",
            "INFO:prophet:n_changepoints greater than number of observations. Using 19.\n",
            "DEBUG:cmdstanpy:input tempfile: /tmp/tmpfdntuhgz/07sau158.json\n",
            "DEBUG:cmdstanpy:input tempfile: /tmp/tmpfdntuhgz/ccc8rb4g.json\n",
            "DEBUG:cmdstanpy:idx 0\n",
            "DEBUG:cmdstanpy:running CmdStan, num_threads: None\n",
            "DEBUG:cmdstanpy:CmdStan args: ['/usr/local/lib/python3.11/dist-packages/prophet/stan_model/prophet_model.bin', 'random', 'seed=44754', 'data', 'file=/tmp/tmpfdntuhgz/07sau158.json', 'init=/tmp/tmpfdntuhgz/ccc8rb4g.json', 'output', 'file=/tmp/tmpfdntuhgz/prophet_modelz8qe_vq4/prophet_model-20250407025632.csv', 'method=optimize', 'algorithm=newton', 'iter=10000']\n",
            "02:56:32 - cmdstanpy - INFO - Chain [1] start processing\n",
            "INFO:cmdstanpy:Chain [1] start processing\n"
          ]
        },
        {
          "output_type": "stream",
          "name": "stdout",
          "text": [
            "Prophet forecast for {'State': 'NY', 'Segment': 'LGP_NRF'} completed\n"
          ]
        },
        {
          "output_type": "stream",
          "name": "stderr",
          "text": [
            "02:56:33 - cmdstanpy - INFO - Chain [1] done processing\n",
            "INFO:cmdstanpy:Chain [1] done processing\n",
            "INFO:prophet:n_changepoints greater than number of observations. Using 19.\n",
            "DEBUG:cmdstanpy:input tempfile: /tmp/tmpfdntuhgz/m5bpbicp.json\n",
            "DEBUG:cmdstanpy:input tempfile: /tmp/tmpfdntuhgz/6zvndpp7.json\n",
            "DEBUG:cmdstanpy:idx 0\n",
            "DEBUG:cmdstanpy:running CmdStan, num_threads: None\n",
            "DEBUG:cmdstanpy:CmdStan args: ['/usr/local/lib/python3.11/dist-packages/prophet/stan_model/prophet_model.bin', 'random', 'seed=44992', 'data', 'file=/tmp/tmpfdntuhgz/m5bpbicp.json', 'init=/tmp/tmpfdntuhgz/6zvndpp7.json', 'output', 'file=/tmp/tmpfdntuhgz/prophet_modelyt749o8s/prophet_model-20250407025633.csv', 'method=optimize', 'algorithm=newton', 'iter=10000']\n",
            "02:56:33 - cmdstanpy - INFO - Chain [1] start processing\n",
            "INFO:cmdstanpy:Chain [1] start processing\n"
          ]
        },
        {
          "output_type": "stream",
          "name": "stdout",
          "text": [
            "Prophet forecast for {'State': 'OH', 'Segment': 'LGP_NRF'} completed\n"
          ]
        },
        {
          "output_type": "stream",
          "name": "stderr",
          "text": [
            "02:56:33 - cmdstanpy - INFO - Chain [1] done processing\n",
            "INFO:cmdstanpy:Chain [1] done processing\n",
            "INFO:prophet:n_changepoints greater than number of observations. Using 19.\n",
            "DEBUG:cmdstanpy:input tempfile: /tmp/tmpfdntuhgz/9iheo0pa.json\n",
            "DEBUG:cmdstanpy:input tempfile: /tmp/tmpfdntuhgz/0rrenx49.json\n",
            "DEBUG:cmdstanpy:idx 0\n",
            "DEBUG:cmdstanpy:running CmdStan, num_threads: None\n",
            "DEBUG:cmdstanpy:CmdStan args: ['/usr/local/lib/python3.11/dist-packages/prophet/stan_model/prophet_model.bin', 'random', 'seed=22186', 'data', 'file=/tmp/tmpfdntuhgz/9iheo0pa.json', 'init=/tmp/tmpfdntuhgz/0rrenx49.json', 'output', 'file=/tmp/tmpfdntuhgz/prophet_modelri9iftci/prophet_model-20250407025633.csv', 'method=optimize', 'algorithm=newton', 'iter=10000']\n",
            "02:56:33 - cmdstanpy - INFO - Chain [1] start processing\n",
            "INFO:cmdstanpy:Chain [1] start processing\n"
          ]
        },
        {
          "output_type": "stream",
          "name": "stdout",
          "text": [
            "Prophet forecast for {'State': 'VA', 'Segment': 'LGP_NRF'} completed\n"
          ]
        },
        {
          "output_type": "stream",
          "name": "stderr",
          "text": [
            "02:56:33 - cmdstanpy - INFO - Chain [1] done processing\n",
            "INFO:cmdstanpy:Chain [1] done processing\n"
          ]
        },
        {
          "output_type": "stream",
          "name": "stdout",
          "text": [
            "Prophet forecast for {'State': 'WI', 'Segment': 'LGP_NRF'} completed\n",
            "Prophet forecasting completed for 108 out of 108 groups\n",
            "Training ML models for mmos\n",
            "Starting ML forecasts for 108 groups\n",
            "Creating ensemble forecast for mmos\n",
            "Creating ensemble from methods: ['sarima', 'prophet', 'rf', 'xgb']\n",
            "Ensemble forecast for mmos: Mean for 2025 = 42543.24 ENSEMBLE\n",
            "Forecasting Med-Total at lowest grain\n",
            "Training SARIMA model for Med-Total\n",
            "Starting SARIMA forecasts for 108 groups\n"
          ]
        },
        {
          "output_type": "stream",
          "name": "stderr",
          "text": [
            "/usr/local/lib/python3.11/dist-packages/statsmodels/tsa/base/tsa_model.py:473: ValueWarning: No frequency information was provided, so inferred frequency MS will be used.\n",
            "  self._init_dates(dates, freq)\n",
            "/usr/local/lib/python3.11/dist-packages/statsmodels/tsa/base/tsa_model.py:473: ValueWarning: No frequency information was provided, so inferred frequency MS will be used.\n",
            "  self._init_dates(dates, freq)\n",
            "/usr/local/lib/python3.11/dist-packages/statsmodels/tsa/statespace/sarimax.py:866: UserWarning: Too few observations to estimate starting parameters for seasonal ARMA. All parameters except for variances will be set to zeros.\n",
            "  warn('Too few observations to estimate starting parameters%s.'\n",
            "/usr/local/lib/python3.11/dist-packages/statsmodels/tsa/statespace/mlemodel.py:1235: RuntimeWarning: invalid value encountered in divide\n",
            "  np.inner(score_obs, score_obs) /\n",
            "/usr/local/lib/python3.11/dist-packages/statsmodels/tsa/base/tsa_model.py:473: ValueWarning: No frequency information was provided, so inferred frequency MS will be used.\n",
            "  self._init_dates(dates, freq)\n",
            "/usr/local/lib/python3.11/dist-packages/statsmodels/tsa/base/tsa_model.py:473: ValueWarning: No frequency information was provided, so inferred frequency MS will be used.\n",
            "  self._init_dates(dates, freq)\n",
            "/usr/local/lib/python3.11/dist-packages/statsmodels/tsa/statespace/sarimax.py:866: UserWarning: Too few observations to estimate starting parameters for seasonal ARMA. All parameters except for variances will be set to zeros.\n",
            "  warn('Too few observations to estimate starting parameters%s.'\n",
            "/usr/local/lib/python3.11/dist-packages/statsmodels/tsa/statespace/mlemodel.py:1235: RuntimeWarning: invalid value encountered in divide\n",
            "  np.inner(score_obs, score_obs) /\n",
            "/usr/local/lib/python3.11/dist-packages/statsmodels/tsa/base/tsa_model.py:473: ValueWarning: No frequency information was provided, so inferred frequency MS will be used.\n",
            "  self._init_dates(dates, freq)\n",
            "/usr/local/lib/python3.11/dist-packages/statsmodels/tsa/base/tsa_model.py:473: ValueWarning: No frequency information was provided, so inferred frequency MS will be used.\n",
            "  self._init_dates(dates, freq)\n",
            "/usr/local/lib/python3.11/dist-packages/statsmodels/tsa/statespace/sarimax.py:866: UserWarning: Too few observations to estimate starting parameters for seasonal ARMA. All parameters except for variances will be set to zeros.\n",
            "  warn('Too few observations to estimate starting parameters%s.'\n",
            "/usr/local/lib/python3.11/dist-packages/statsmodels/tsa/statespace/mlemodel.py:1235: RuntimeWarning: invalid value encountered in divide\n",
            "  np.inner(score_obs, score_obs) /\n",
            "/usr/local/lib/python3.11/dist-packages/statsmodels/tsa/base/tsa_model.py:473: ValueWarning: No frequency information was provided, so inferred frequency MS will be used.\n",
            "  self._init_dates(dates, freq)\n",
            "/usr/local/lib/python3.11/dist-packages/statsmodels/tsa/base/tsa_model.py:473: ValueWarning: No frequency information was provided, so inferred frequency MS will be used.\n",
            "  self._init_dates(dates, freq)\n",
            "/usr/local/lib/python3.11/dist-packages/statsmodels/tsa/statespace/sarimax.py:866: UserWarning: Too few observations to estimate starting parameters for seasonal ARMA. All parameters except for variances will be set to zeros.\n",
            "  warn('Too few observations to estimate starting parameters%s.'\n",
            "/usr/local/lib/python3.11/dist-packages/statsmodels/tsa/statespace/mlemodel.py:1235: RuntimeWarning: invalid value encountered in divide\n",
            "  np.inner(score_obs, score_obs) /\n",
            "/usr/local/lib/python3.11/dist-packages/statsmodels/tsa/base/tsa_model.py:473: ValueWarning: No frequency information was provided, so inferred frequency MS will be used.\n",
            "  self._init_dates(dates, freq)\n",
            "/usr/local/lib/python3.11/dist-packages/statsmodels/tsa/base/tsa_model.py:473: ValueWarning: No frequency information was provided, so inferred frequency MS will be used.\n",
            "  self._init_dates(dates, freq)\n",
            "/usr/local/lib/python3.11/dist-packages/statsmodels/tsa/statespace/sarimax.py:866: UserWarning: Too few observations to estimate starting parameters for seasonal ARMA. All parameters except for variances will be set to zeros.\n",
            "  warn('Too few observations to estimate starting parameters%s.'\n",
            "/usr/local/lib/python3.11/dist-packages/statsmodels/tsa/statespace/mlemodel.py:1235: RuntimeWarning: invalid value encountered in divide\n",
            "  np.inner(score_obs, score_obs) /\n",
            "/usr/local/lib/python3.11/dist-packages/statsmodels/tsa/base/tsa_model.py:473: ValueWarning: No frequency information was provided, so inferred frequency MS will be used.\n",
            "  self._init_dates(dates, freq)\n",
            "/usr/local/lib/python3.11/dist-packages/statsmodels/tsa/base/tsa_model.py:473: ValueWarning: No frequency information was provided, so inferred frequency MS will be used.\n",
            "  self._init_dates(dates, freq)\n",
            "/usr/local/lib/python3.11/dist-packages/statsmodels/tsa/statespace/sarimax.py:866: UserWarning: Too few observations to estimate starting parameters for seasonal ARMA. All parameters except for variances will be set to zeros.\n",
            "  warn('Too few observations to estimate starting parameters%s.'\n",
            "/usr/local/lib/python3.11/dist-packages/statsmodels/tsa/statespace/mlemodel.py:1235: RuntimeWarning: invalid value encountered in divide\n",
            "  np.inner(score_obs, score_obs) /\n",
            "/usr/local/lib/python3.11/dist-packages/statsmodels/tsa/base/tsa_model.py:473: ValueWarning: No frequency information was provided, so inferred frequency MS will be used.\n",
            "  self._init_dates(dates, freq)\n",
            "/usr/local/lib/python3.11/dist-packages/statsmodels/tsa/base/tsa_model.py:473: ValueWarning: No frequency information was provided, so inferred frequency MS will be used.\n",
            "  self._init_dates(dates, freq)\n",
            "/usr/local/lib/python3.11/dist-packages/statsmodels/tsa/statespace/sarimax.py:866: UserWarning: Too few observations to estimate starting parameters for seasonal ARMA. All parameters except for variances will be set to zeros.\n",
            "  warn('Too few observations to estimate starting parameters%s.'\n",
            "/usr/local/lib/python3.11/dist-packages/statsmodels/tsa/statespace/mlemodel.py:1235: RuntimeWarning: invalid value encountered in divide\n",
            "  np.inner(score_obs, score_obs) /\n"
          ]
        },
        {
          "output_type": "stream",
          "name": "stdout",
          "text": [
            "SARIMA forecast for {'State': 'CA_HMO', 'Segment': 'IND_ACA'} completed\n",
            "SARIMA forecast for {'State': 'CA_PPO', 'Segment': 'IND_ACA'} completed\n",
            "SARIMA forecast for {'State': 'CO', 'Segment': 'IND_ACA'} completed\n",
            "SARIMA forecast for {'State': 'CT', 'Segment': 'IND_ACA'} completed\n",
            "SARIMA forecast for {'State': 'GA', 'Segment': 'IND_ACA'} completed\n",
            "SARIMA forecast for {'State': 'IN', 'Segment': 'IND_ACA'} completed\n",
            "SARIMA forecast for {'State': 'KY', 'Segment': 'IND_ACA'} completed\n"
          ]
        },
        {
          "output_type": "stream",
          "name": "stderr",
          "text": [
            "/usr/local/lib/python3.11/dist-packages/statsmodels/tsa/base/tsa_model.py:473: ValueWarning: No frequency information was provided, so inferred frequency MS will be used.\n",
            "  self._init_dates(dates, freq)\n",
            "/usr/local/lib/python3.11/dist-packages/statsmodels/tsa/base/tsa_model.py:473: ValueWarning: No frequency information was provided, so inferred frequency MS will be used.\n",
            "  self._init_dates(dates, freq)\n",
            "/usr/local/lib/python3.11/dist-packages/statsmodels/tsa/statespace/sarimax.py:866: UserWarning: Too few observations to estimate starting parameters for seasonal ARMA. All parameters except for variances will be set to zeros.\n",
            "  warn('Too few observations to estimate starting parameters%s.'\n",
            "/usr/local/lib/python3.11/dist-packages/statsmodels/tsa/statespace/mlemodel.py:1235: RuntimeWarning: invalid value encountered in divide\n",
            "  np.inner(score_obs, score_obs) /\n",
            "/usr/local/lib/python3.11/dist-packages/statsmodels/tsa/base/tsa_model.py:473: ValueWarning: No frequency information was provided, so inferred frequency MS will be used.\n",
            "  self._init_dates(dates, freq)\n",
            "/usr/local/lib/python3.11/dist-packages/statsmodels/tsa/base/tsa_model.py:473: ValueWarning: No frequency information was provided, so inferred frequency MS will be used.\n",
            "  self._init_dates(dates, freq)\n",
            "/usr/local/lib/python3.11/dist-packages/statsmodels/tsa/statespace/sarimax.py:866: UserWarning: Too few observations to estimate starting parameters for seasonal ARMA. All parameters except for variances will be set to zeros.\n",
            "  warn('Too few observations to estimate starting parameters%s.'\n",
            "/usr/local/lib/python3.11/dist-packages/statsmodels/tsa/statespace/mlemodel.py:1235: RuntimeWarning: invalid value encountered in divide\n",
            "  np.inner(score_obs, score_obs) /\n",
            "/usr/local/lib/python3.11/dist-packages/statsmodels/tsa/base/tsa_model.py:473: ValueWarning: No frequency information was provided, so inferred frequency MS will be used.\n",
            "  self._init_dates(dates, freq)\n",
            "/usr/local/lib/python3.11/dist-packages/statsmodels/tsa/base/tsa_model.py:473: ValueWarning: No frequency information was provided, so inferred frequency MS will be used.\n",
            "  self._init_dates(dates, freq)\n",
            "/usr/local/lib/python3.11/dist-packages/statsmodels/tsa/statespace/sarimax.py:866: UserWarning: Too few observations to estimate starting parameters for seasonal ARMA. All parameters except for variances will be set to zeros.\n",
            "  warn('Too few observations to estimate starting parameters%s.'\n",
            "/usr/local/lib/python3.11/dist-packages/statsmodels/tsa/statespace/mlemodel.py:1235: RuntimeWarning: invalid value encountered in divide\n",
            "  np.inner(score_obs, score_obs) /\n",
            "/usr/local/lib/python3.11/dist-packages/statsmodels/tsa/base/tsa_model.py:473: ValueWarning: No frequency information was provided, so inferred frequency MS will be used.\n",
            "  self._init_dates(dates, freq)\n",
            "/usr/local/lib/python3.11/dist-packages/statsmodels/tsa/base/tsa_model.py:473: ValueWarning: No frequency information was provided, so inferred frequency MS will be used.\n",
            "  self._init_dates(dates, freq)\n",
            "/usr/local/lib/python3.11/dist-packages/statsmodels/tsa/statespace/sarimax.py:866: UserWarning: Too few observations to estimate starting parameters for seasonal ARMA. All parameters except for variances will be set to zeros.\n",
            "  warn('Too few observations to estimate starting parameters%s.'\n",
            "/usr/local/lib/python3.11/dist-packages/statsmodels/tsa/statespace/mlemodel.py:1235: RuntimeWarning: invalid value encountered in divide\n",
            "  np.inner(score_obs, score_obs) /\n",
            "/usr/local/lib/python3.11/dist-packages/statsmodels/tsa/base/tsa_model.py:473: ValueWarning: No frequency information was provided, so inferred frequency MS will be used.\n",
            "  self._init_dates(dates, freq)\n",
            "/usr/local/lib/python3.11/dist-packages/statsmodels/tsa/base/tsa_model.py:473: ValueWarning: No frequency information was provided, so inferred frequency MS will be used.\n",
            "  self._init_dates(dates, freq)\n",
            "/usr/local/lib/python3.11/dist-packages/statsmodels/tsa/statespace/sarimax.py:866: UserWarning: Too few observations to estimate starting parameters for seasonal ARMA. All parameters except for variances will be set to zeros.\n",
            "  warn('Too few observations to estimate starting parameters%s.'\n",
            "/usr/local/lib/python3.11/dist-packages/statsmodels/tsa/statespace/mlemodel.py:1235: RuntimeWarning: invalid value encountered in divide\n",
            "  np.inner(score_obs, score_obs) /\n",
            "/usr/local/lib/python3.11/dist-packages/statsmodels/tsa/base/tsa_model.py:473: ValueWarning: No frequency information was provided, so inferred frequency MS will be used.\n",
            "  self._init_dates(dates, freq)\n",
            "/usr/local/lib/python3.11/dist-packages/statsmodels/tsa/base/tsa_model.py:473: ValueWarning: No frequency information was provided, so inferred frequency MS will be used.\n",
            "  self._init_dates(dates, freq)\n",
            "/usr/local/lib/python3.11/dist-packages/statsmodels/tsa/statespace/sarimax.py:866: UserWarning: Too few observations to estimate starting parameters for seasonal ARMA. All parameters except for variances will be set to zeros.\n",
            "  warn('Too few observations to estimate starting parameters%s.'\n",
            "/usr/local/lib/python3.11/dist-packages/statsmodels/tsa/statespace/mlemodel.py:1235: RuntimeWarning: invalid value encountered in divide\n",
            "  np.inner(score_obs, score_obs) /\n",
            "/usr/local/lib/python3.11/dist-packages/statsmodels/tsa/base/tsa_model.py:473: ValueWarning: No frequency information was provided, so inferred frequency MS will be used.\n",
            "  self._init_dates(dates, freq)\n",
            "/usr/local/lib/python3.11/dist-packages/statsmodels/tsa/base/tsa_model.py:473: ValueWarning: No frequency information was provided, so inferred frequency MS will be used.\n",
            "  self._init_dates(dates, freq)\n",
            "/usr/local/lib/python3.11/dist-packages/statsmodels/tsa/statespace/sarimax.py:866: UserWarning: Too few observations to estimate starting parameters for seasonal ARMA. All parameters except for variances will be set to zeros.\n",
            "  warn('Too few observations to estimate starting parameters%s.'\n",
            "/usr/local/lib/python3.11/dist-packages/statsmodels/tsa/statespace/mlemodel.py:1235: RuntimeWarning: invalid value encountered in divide\n",
            "  np.inner(score_obs, score_obs) /\n",
            "/usr/local/lib/python3.11/dist-packages/statsmodels/tsa/base/tsa_model.py:473: ValueWarning: No frequency information was provided, so inferred frequency MS will be used.\n",
            "  self._init_dates(dates, freq)\n",
            "/usr/local/lib/python3.11/dist-packages/statsmodels/tsa/base/tsa_model.py:473: ValueWarning: No frequency information was provided, so inferred frequency MS will be used.\n",
            "  self._init_dates(dates, freq)\n",
            "/usr/local/lib/python3.11/dist-packages/statsmodels/tsa/statespace/sarimax.py:866: UserWarning: Too few observations to estimate starting parameters for seasonal ARMA. All parameters except for variances will be set to zeros.\n",
            "  warn('Too few observations to estimate starting parameters%s.'\n"
          ]
        },
        {
          "output_type": "stream",
          "name": "stdout",
          "text": [
            "SARIMA forecast for {'State': 'ME', 'Segment': 'IND_ACA'} completed\n",
            "SARIMA forecast for {'State': 'MO', 'Segment': 'IND_ACA'} completed\n",
            "SARIMA forecast for {'State': 'NH', 'Segment': 'IND_ACA'} completed\n",
            "SARIMA forecast for {'State': 'NV', 'Segment': 'IND_ACA'} completed\n",
            "SARIMA forecast for {'State': 'NY', 'Segment': 'IND_ACA'} completed\n",
            "SARIMA forecast for {'State': 'OH', 'Segment': 'IND_ACA'} completed\n",
            "SARIMA forecast for {'State': 'VA', 'Segment': 'IND_ACA'} completed\n"
          ]
        },
        {
          "output_type": "stream",
          "name": "stderr",
          "text": [
            "/usr/local/lib/python3.11/dist-packages/statsmodels/tsa/statespace/mlemodel.py:1235: RuntimeWarning: invalid value encountered in divide\n",
            "  np.inner(score_obs, score_obs) /\n",
            "/usr/local/lib/python3.11/dist-packages/statsmodels/tsa/base/tsa_model.py:473: ValueWarning: No frequency information was provided, so inferred frequency MS will be used.\n",
            "  self._init_dates(dates, freq)\n",
            "/usr/local/lib/python3.11/dist-packages/statsmodels/tsa/base/tsa_model.py:473: ValueWarning: No frequency information was provided, so inferred frequency MS will be used.\n",
            "  self._init_dates(dates, freq)\n",
            "/usr/local/lib/python3.11/dist-packages/statsmodels/tsa/statespace/sarimax.py:866: UserWarning: Too few observations to estimate starting parameters for seasonal ARMA. All parameters except for variances will be set to zeros.\n",
            "  warn('Too few observations to estimate starting parameters%s.'\n",
            "/usr/local/lib/python3.11/dist-packages/statsmodels/tsa/statespace/mlemodel.py:1235: RuntimeWarning: invalid value encountered in divide\n",
            "  np.inner(score_obs, score_obs) /\n",
            "/usr/local/lib/python3.11/dist-packages/statsmodels/tsa/base/tsa_model.py:473: ValueWarning: No frequency information was provided, so inferred frequency MS will be used.\n",
            "  self._init_dates(dates, freq)\n",
            "/usr/local/lib/python3.11/dist-packages/statsmodels/tsa/base/tsa_model.py:473: ValueWarning: No frequency information was provided, so inferred frequency MS will be used.\n",
            "  self._init_dates(dates, freq)\n",
            "/usr/local/lib/python3.11/dist-packages/statsmodels/tsa/statespace/sarimax.py:866: UserWarning: Too few observations to estimate starting parameters for seasonal ARMA. All parameters except for variances will be set to zeros.\n",
            "  warn('Too few observations to estimate starting parameters%s.'\n",
            "/usr/local/lib/python3.11/dist-packages/statsmodels/tsa/statespace/mlemodel.py:1235: RuntimeWarning: invalid value encountered in divide\n",
            "  np.inner(score_obs, score_obs) /\n",
            "/usr/local/lib/python3.11/dist-packages/statsmodels/tsa/base/tsa_model.py:473: ValueWarning: No frequency information was provided, so inferred frequency MS will be used.\n",
            "  self._init_dates(dates, freq)\n",
            "/usr/local/lib/python3.11/dist-packages/statsmodels/tsa/base/tsa_model.py:473: ValueWarning: No frequency information was provided, so inferred frequency MS will be used.\n",
            "  self._init_dates(dates, freq)\n",
            "/usr/local/lib/python3.11/dist-packages/statsmodels/tsa/statespace/sarimax.py:866: UserWarning: Too few observations to estimate starting parameters for seasonal ARMA. All parameters except for variances will be set to zeros.\n",
            "  warn('Too few observations to estimate starting parameters%s.'\n",
            "/usr/local/lib/python3.11/dist-packages/statsmodels/tsa/statespace/mlemodel.py:1235: RuntimeWarning: invalid value encountered in divide\n",
            "  np.inner(score_obs, score_obs) /\n",
            "/usr/local/lib/python3.11/dist-packages/statsmodels/tsa/base/tsa_model.py:473: ValueWarning: No frequency information was provided, so inferred frequency MS will be used.\n",
            "  self._init_dates(dates, freq)\n",
            "/usr/local/lib/python3.11/dist-packages/statsmodels/tsa/base/tsa_model.py:473: ValueWarning: No frequency information was provided, so inferred frequency MS will be used.\n",
            "  self._init_dates(dates, freq)\n",
            "/usr/local/lib/python3.11/dist-packages/statsmodels/tsa/statespace/sarimax.py:866: UserWarning: Too few observations to estimate starting parameters for seasonal ARMA. All parameters except for variances will be set to zeros.\n",
            "  warn('Too few observations to estimate starting parameters%s.'\n",
            "/usr/local/lib/python3.11/dist-packages/statsmodels/tsa/statespace/mlemodel.py:1235: RuntimeWarning: invalid value encountered in divide\n",
            "  np.inner(score_obs, score_obs) /\n",
            "/usr/local/lib/python3.11/dist-packages/statsmodels/tsa/base/tsa_model.py:473: ValueWarning: No frequency information was provided, so inferred frequency MS will be used.\n",
            "  self._init_dates(dates, freq)\n",
            "/usr/local/lib/python3.11/dist-packages/statsmodels/tsa/base/tsa_model.py:473: ValueWarning: No frequency information was provided, so inferred frequency MS will be used.\n",
            "  self._init_dates(dates, freq)\n",
            "/usr/local/lib/python3.11/dist-packages/statsmodels/tsa/statespace/sarimax.py:866: UserWarning: Too few observations to estimate starting parameters for seasonal ARMA. All parameters except for variances will be set to zeros.\n",
            "  warn('Too few observations to estimate starting parameters%s.'\n",
            "/usr/local/lib/python3.11/dist-packages/statsmodels/tsa/statespace/mlemodel.py:1235: RuntimeWarning: invalid value encountered in divide\n",
            "  np.inner(score_obs, score_obs) /\n"
          ]
        },
        {
          "output_type": "stream",
          "name": "stdout",
          "text": [
            "SARIMA forecast for {'State': 'WI', 'Segment': 'IND_ACA'} completed\n",
            "SARIMA forecast for {'State': 'FL', 'Segment': 'IND_ACA'} completed\n",
            "SARIMA forecast for {'State': 'MD', 'Segment': 'IND_ACA'} completed\n",
            "SARIMA forecast for {'State': 'TX', 'Segment': 'IND_ACA'} completed\n",
            "SARIMA forecast for {'State': 'CA_HMO', 'Segment': 'IND_LEG'} completed\n",
            "SARIMA forecast for {'State': 'CA_PPO', 'Segment': 'IND_LEG'} completed\n"
          ]
        },
        {
          "output_type": "stream",
          "name": "stderr",
          "text": [
            "/usr/local/lib/python3.11/dist-packages/statsmodels/tsa/base/tsa_model.py:473: ValueWarning: No frequency information was provided, so inferred frequency MS will be used.\n",
            "  self._init_dates(dates, freq)\n",
            "/usr/local/lib/python3.11/dist-packages/statsmodels/tsa/base/tsa_model.py:473: ValueWarning: No frequency information was provided, so inferred frequency MS will be used.\n",
            "  self._init_dates(dates, freq)\n",
            "/usr/local/lib/python3.11/dist-packages/statsmodels/tsa/statespace/sarimax.py:866: UserWarning: Too few observations to estimate starting parameters for seasonal ARMA. All parameters except for variances will be set to zeros.\n",
            "  warn('Too few observations to estimate starting parameters%s.'\n",
            "/usr/local/lib/python3.11/dist-packages/statsmodels/tsa/statespace/mlemodel.py:1235: RuntimeWarning: invalid value encountered in divide\n",
            "  np.inner(score_obs, score_obs) /\n",
            "/usr/local/lib/python3.11/dist-packages/statsmodels/tsa/base/tsa_model.py:473: ValueWarning: No frequency information was provided, so inferred frequency MS will be used.\n",
            "  self._init_dates(dates, freq)\n",
            "/usr/local/lib/python3.11/dist-packages/statsmodels/tsa/base/tsa_model.py:473: ValueWarning: No frequency information was provided, so inferred frequency MS will be used.\n",
            "  self._init_dates(dates, freq)\n",
            "/usr/local/lib/python3.11/dist-packages/statsmodels/tsa/statespace/sarimax.py:866: UserWarning: Too few observations to estimate starting parameters for seasonal ARMA. All parameters except for variances will be set to zeros.\n",
            "  warn('Too few observations to estimate starting parameters%s.'\n",
            "/usr/local/lib/python3.11/dist-packages/statsmodels/tsa/statespace/mlemodel.py:1235: RuntimeWarning: invalid value encountered in divide\n",
            "  np.inner(score_obs, score_obs) /\n",
            "/usr/local/lib/python3.11/dist-packages/statsmodels/tsa/base/tsa_model.py:473: ValueWarning: No frequency information was provided, so inferred frequency MS will be used.\n",
            "  self._init_dates(dates, freq)\n",
            "/usr/local/lib/python3.11/dist-packages/statsmodels/tsa/base/tsa_model.py:473: ValueWarning: No frequency information was provided, so inferred frequency MS will be used.\n",
            "  self._init_dates(dates, freq)\n",
            "/usr/local/lib/python3.11/dist-packages/statsmodels/tsa/statespace/sarimax.py:866: UserWarning: Too few observations to estimate starting parameters for seasonal ARMA. All parameters except for variances will be set to zeros.\n",
            "  warn('Too few observations to estimate starting parameters%s.'\n",
            "/usr/local/lib/python3.11/dist-packages/statsmodels/tsa/statespace/mlemodel.py:1235: RuntimeWarning: invalid value encountered in divide\n",
            "  np.inner(score_obs, score_obs) /\n",
            "/usr/local/lib/python3.11/dist-packages/statsmodels/tsa/base/tsa_model.py:473: ValueWarning: No frequency information was provided, so inferred frequency MS will be used.\n",
            "  self._init_dates(dates, freq)\n",
            "/usr/local/lib/python3.11/dist-packages/statsmodels/tsa/base/tsa_model.py:473: ValueWarning: No frequency information was provided, so inferred frequency MS will be used.\n",
            "  self._init_dates(dates, freq)\n",
            "/usr/local/lib/python3.11/dist-packages/statsmodels/tsa/statespace/sarimax.py:866: UserWarning: Too few observations to estimate starting parameters for seasonal ARMA. All parameters except for variances will be set to zeros.\n",
            "  warn('Too few observations to estimate starting parameters%s.'\n",
            "/usr/local/lib/python3.11/dist-packages/statsmodels/tsa/statespace/mlemodel.py:1235: RuntimeWarning: invalid value encountered in divide\n",
            "  np.inner(score_obs, score_obs) /\n",
            "/usr/local/lib/python3.11/dist-packages/statsmodels/tsa/base/tsa_model.py:473: ValueWarning: No frequency information was provided, so inferred frequency MS will be used.\n",
            "  self._init_dates(dates, freq)\n",
            "/usr/local/lib/python3.11/dist-packages/statsmodels/tsa/base/tsa_model.py:473: ValueWarning: No frequency information was provided, so inferred frequency MS will be used.\n",
            "  self._init_dates(dates, freq)\n",
            "/usr/local/lib/python3.11/dist-packages/statsmodels/tsa/statespace/sarimax.py:866: UserWarning: Too few observations to estimate starting parameters for seasonal ARMA. All parameters except for variances will be set to zeros.\n",
            "  warn('Too few observations to estimate starting parameters%s.'\n",
            "/usr/local/lib/python3.11/dist-packages/statsmodels/tsa/statespace/mlemodel.py:1235: RuntimeWarning: invalid value encountered in divide\n",
            "  np.inner(score_obs, score_obs) /\n",
            "/usr/local/lib/python3.11/dist-packages/statsmodels/tsa/base/tsa_model.py:473: ValueWarning: No frequency information was provided, so inferred frequency MS will be used.\n",
            "  self._init_dates(dates, freq)\n",
            "/usr/local/lib/python3.11/dist-packages/statsmodels/tsa/base/tsa_model.py:473: ValueWarning: No frequency information was provided, so inferred frequency MS will be used.\n",
            "  self._init_dates(dates, freq)\n",
            "/usr/local/lib/python3.11/dist-packages/statsmodels/tsa/statespace/sarimax.py:866: UserWarning: Too few observations to estimate starting parameters for seasonal ARMA. All parameters except for variances will be set to zeros.\n",
            "  warn('Too few observations to estimate starting parameters%s.'\n",
            "/usr/local/lib/python3.11/dist-packages/statsmodels/tsa/statespace/mlemodel.py:1235: RuntimeWarning: invalid value encountered in divide\n",
            "  np.inner(score_obs, score_obs) /\n"
          ]
        },
        {
          "output_type": "stream",
          "name": "stdout",
          "text": [
            "SARIMA forecast for {'State': 'CO', 'Segment': 'IND_LEG'} completed\n",
            "SARIMA forecast for {'State': 'CT', 'Segment': 'IND_LEG'} completed\n",
            "SARIMA forecast for {'State': 'GA', 'Segment': 'IND_LEG'} completed\n",
            "SARIMA forecast for {'State': 'IN', 'Segment': 'IND_LEG'} completed\n",
            "SARIMA forecast for {'State': 'KY', 'Segment': 'IND_LEG'} completed\n",
            "SARIMA forecast for {'State': 'ME', 'Segment': 'IND_LEG'} completed\n"
          ]
        },
        {
          "output_type": "stream",
          "name": "stderr",
          "text": [
            "/usr/local/lib/python3.11/dist-packages/statsmodels/tsa/base/tsa_model.py:473: ValueWarning: No frequency information was provided, so inferred frequency MS will be used.\n",
            "  self._init_dates(dates, freq)\n",
            "/usr/local/lib/python3.11/dist-packages/statsmodels/tsa/base/tsa_model.py:473: ValueWarning: No frequency information was provided, so inferred frequency MS will be used.\n",
            "  self._init_dates(dates, freq)\n",
            "/usr/local/lib/python3.11/dist-packages/statsmodels/tsa/statespace/sarimax.py:866: UserWarning: Too few observations to estimate starting parameters for seasonal ARMA. All parameters except for variances will be set to zeros.\n",
            "  warn('Too few observations to estimate starting parameters%s.'\n",
            "/usr/local/lib/python3.11/dist-packages/statsmodels/tsa/statespace/mlemodel.py:1235: RuntimeWarning: invalid value encountered in divide\n",
            "  np.inner(score_obs, score_obs) /\n",
            "/usr/local/lib/python3.11/dist-packages/statsmodels/tsa/base/tsa_model.py:473: ValueWarning: No frequency information was provided, so inferred frequency MS will be used.\n",
            "  self._init_dates(dates, freq)\n",
            "/usr/local/lib/python3.11/dist-packages/statsmodels/tsa/base/tsa_model.py:473: ValueWarning: No frequency information was provided, so inferred frequency MS will be used.\n",
            "  self._init_dates(dates, freq)\n",
            "/usr/local/lib/python3.11/dist-packages/statsmodels/tsa/statespace/sarimax.py:866: UserWarning: Too few observations to estimate starting parameters for seasonal ARMA. All parameters except for variances will be set to zeros.\n",
            "  warn('Too few observations to estimate starting parameters%s.'\n",
            "/usr/local/lib/python3.11/dist-packages/statsmodels/tsa/statespace/mlemodel.py:1235: RuntimeWarning: invalid value encountered in divide\n",
            "  np.inner(score_obs, score_obs) /\n",
            "/usr/local/lib/python3.11/dist-packages/statsmodels/tsa/base/tsa_model.py:473: ValueWarning: No frequency information was provided, so inferred frequency MS will be used.\n",
            "  self._init_dates(dates, freq)\n",
            "/usr/local/lib/python3.11/dist-packages/statsmodels/tsa/base/tsa_model.py:473: ValueWarning: No frequency information was provided, so inferred frequency MS will be used.\n",
            "  self._init_dates(dates, freq)\n",
            "/usr/local/lib/python3.11/dist-packages/statsmodels/tsa/statespace/sarimax.py:866: UserWarning: Too few observations to estimate starting parameters for seasonal ARMA. All parameters except for variances will be set to zeros.\n",
            "  warn('Too few observations to estimate starting parameters%s.'\n",
            "/usr/local/lib/python3.11/dist-packages/statsmodels/tsa/statespace/mlemodel.py:1235: RuntimeWarning: invalid value encountered in divide\n",
            "  np.inner(score_obs, score_obs) /\n",
            "/usr/local/lib/python3.11/dist-packages/statsmodels/tsa/base/tsa_model.py:473: ValueWarning: No frequency information was provided, so inferred frequency MS will be used.\n",
            "  self._init_dates(dates, freq)\n",
            "/usr/local/lib/python3.11/dist-packages/statsmodels/tsa/base/tsa_model.py:473: ValueWarning: No frequency information was provided, so inferred frequency MS will be used.\n",
            "  self._init_dates(dates, freq)\n",
            "/usr/local/lib/python3.11/dist-packages/statsmodels/tsa/statespace/sarimax.py:866: UserWarning: Too few observations to estimate starting parameters for seasonal ARMA. All parameters except for variances will be set to zeros.\n",
            "  warn('Too few observations to estimate starting parameters%s.'\n",
            "/usr/local/lib/python3.11/dist-packages/statsmodels/tsa/statespace/mlemodel.py:1235: RuntimeWarning: invalid value encountered in divide\n",
            "  np.inner(score_obs, score_obs) /\n",
            "/usr/local/lib/python3.11/dist-packages/statsmodels/tsa/base/tsa_model.py:473: ValueWarning: No frequency information was provided, so inferred frequency MS will be used.\n",
            "  self._init_dates(dates, freq)\n",
            "/usr/local/lib/python3.11/dist-packages/statsmodels/tsa/base/tsa_model.py:473: ValueWarning: No frequency information was provided, so inferred frequency MS will be used.\n",
            "  self._init_dates(dates, freq)\n",
            "/usr/local/lib/python3.11/dist-packages/statsmodels/tsa/statespace/sarimax.py:866: UserWarning: Too few observations to estimate starting parameters for seasonal ARMA. All parameters except for variances will be set to zeros.\n",
            "  warn('Too few observations to estimate starting parameters%s.'\n",
            "/usr/local/lib/python3.11/dist-packages/statsmodels/tsa/statespace/mlemodel.py:1235: RuntimeWarning: invalid value encountered in divide\n",
            "  np.inner(score_obs, score_obs) /\n",
            "/usr/local/lib/python3.11/dist-packages/statsmodels/tsa/base/tsa_model.py:473: ValueWarning: No frequency information was provided, so inferred frequency MS will be used.\n",
            "  self._init_dates(dates, freq)\n",
            "/usr/local/lib/python3.11/dist-packages/statsmodels/tsa/base/tsa_model.py:473: ValueWarning: No frequency information was provided, so inferred frequency MS will be used.\n",
            "  self._init_dates(dates, freq)\n",
            "/usr/local/lib/python3.11/dist-packages/statsmodels/tsa/statespace/sarimax.py:866: UserWarning: Too few observations to estimate starting parameters for seasonal ARMA. All parameters except for variances will be set to zeros.\n",
            "  warn('Too few observations to estimate starting parameters%s.'\n",
            "/usr/local/lib/python3.11/dist-packages/statsmodels/tsa/statespace/mlemodel.py:1235: RuntimeWarning: invalid value encountered in divide\n",
            "  np.inner(score_obs, score_obs) /\n"
          ]
        },
        {
          "output_type": "stream",
          "name": "stdout",
          "text": [
            "SARIMA forecast for {'State': 'MO', 'Segment': 'IND_LEG'} completed\n",
            "SARIMA forecast for {'State': 'NH', 'Segment': 'IND_LEG'} completed\n",
            "SARIMA forecast for {'State': 'NV', 'Segment': 'IND_LEG'} completed\n",
            "SARIMA forecast for {'State': 'NY', 'Segment': 'IND_LEG'} completed\n",
            "SARIMA forecast for {'State': 'OH', 'Segment': 'IND_LEG'} completed\n",
            "SARIMA forecast for {'State': 'VA', 'Segment': 'IND_LEG'} completed\n",
            "SARIMA forecast for {'State': 'WI', 'Segment': 'IND_LEG'} completed\n"
          ]
        },
        {
          "output_type": "stream",
          "name": "stderr",
          "text": [
            "/usr/local/lib/python3.11/dist-packages/statsmodels/tsa/base/tsa_model.py:473: ValueWarning: No frequency information was provided, so inferred frequency MS will be used.\n",
            "  self._init_dates(dates, freq)\n",
            "/usr/local/lib/python3.11/dist-packages/statsmodels/tsa/base/tsa_model.py:473: ValueWarning: No frequency information was provided, so inferred frequency MS will be used.\n",
            "  self._init_dates(dates, freq)\n",
            "/usr/local/lib/python3.11/dist-packages/statsmodels/tsa/statespace/sarimax.py:866: UserWarning: Too few observations to estimate starting parameters for seasonal ARMA. All parameters except for variances will be set to zeros.\n",
            "  warn('Too few observations to estimate starting parameters%s.'\n",
            "/usr/local/lib/python3.11/dist-packages/statsmodels/tsa/statespace/mlemodel.py:1235: RuntimeWarning: invalid value encountered in divide\n",
            "  np.inner(score_obs, score_obs) /\n",
            "/usr/local/lib/python3.11/dist-packages/statsmodels/tsa/base/tsa_model.py:473: ValueWarning: No frequency information was provided, so inferred frequency MS will be used.\n",
            "  self._init_dates(dates, freq)\n",
            "/usr/local/lib/python3.11/dist-packages/statsmodels/tsa/base/tsa_model.py:473: ValueWarning: No frequency information was provided, so inferred frequency MS will be used.\n",
            "  self._init_dates(dates, freq)\n",
            "/usr/local/lib/python3.11/dist-packages/statsmodels/tsa/statespace/sarimax.py:866: UserWarning: Too few observations to estimate starting parameters for seasonal ARMA. All parameters except for variances will be set to zeros.\n",
            "  warn('Too few observations to estimate starting parameters%s.'\n",
            "/usr/local/lib/python3.11/dist-packages/statsmodels/tsa/statespace/mlemodel.py:1235: RuntimeWarning: invalid value encountered in divide\n",
            "  np.inner(score_obs, score_obs) /\n",
            "/usr/local/lib/python3.11/dist-packages/statsmodels/tsa/base/tsa_model.py:473: ValueWarning: No frequency information was provided, so inferred frequency MS will be used.\n",
            "  self._init_dates(dates, freq)\n",
            "/usr/local/lib/python3.11/dist-packages/statsmodels/tsa/base/tsa_model.py:473: ValueWarning: No frequency information was provided, so inferred frequency MS will be used.\n",
            "  self._init_dates(dates, freq)\n",
            "/usr/local/lib/python3.11/dist-packages/statsmodels/tsa/statespace/sarimax.py:866: UserWarning: Too few observations to estimate starting parameters for seasonal ARMA. All parameters except for variances will be set to zeros.\n",
            "  warn('Too few observations to estimate starting parameters%s.'\n",
            "/usr/local/lib/python3.11/dist-packages/statsmodels/tsa/statespace/mlemodel.py:1235: RuntimeWarning: invalid value encountered in divide\n",
            "  np.inner(score_obs, score_obs) /\n",
            "/usr/local/lib/python3.11/dist-packages/statsmodels/tsa/base/tsa_model.py:473: ValueWarning: No frequency information was provided, so inferred frequency MS will be used.\n",
            "  self._init_dates(dates, freq)\n",
            "/usr/local/lib/python3.11/dist-packages/statsmodels/tsa/base/tsa_model.py:473: ValueWarning: No frequency information was provided, so inferred frequency MS will be used.\n",
            "  self._init_dates(dates, freq)\n",
            "/usr/local/lib/python3.11/dist-packages/statsmodels/tsa/statespace/sarimax.py:866: UserWarning: Too few observations to estimate starting parameters for seasonal ARMA. All parameters except for variances will be set to zeros.\n",
            "  warn('Too few observations to estimate starting parameters%s.'\n",
            "/usr/local/lib/python3.11/dist-packages/statsmodels/tsa/statespace/mlemodel.py:1235: RuntimeWarning: invalid value encountered in divide\n",
            "  np.inner(score_obs, score_obs) /\n",
            "/usr/local/lib/python3.11/dist-packages/statsmodels/tsa/base/tsa_model.py:473: ValueWarning: No frequency information was provided, so inferred frequency MS will be used.\n",
            "  self._init_dates(dates, freq)\n",
            "/usr/local/lib/python3.11/dist-packages/statsmodels/tsa/base/tsa_model.py:473: ValueWarning: No frequency information was provided, so inferred frequency MS will be used.\n",
            "  self._init_dates(dates, freq)\n",
            "/usr/local/lib/python3.11/dist-packages/statsmodels/tsa/statespace/sarimax.py:866: UserWarning: Too few observations to estimate starting parameters for seasonal ARMA. All parameters except for variances will be set to zeros.\n",
            "  warn('Too few observations to estimate starting parameters%s.'\n",
            "/usr/local/lib/python3.11/dist-packages/statsmodels/tsa/statespace/mlemodel.py:1235: RuntimeWarning: invalid value encountered in divide\n",
            "  np.inner(score_obs, score_obs) /\n",
            "/usr/local/lib/python3.11/dist-packages/statsmodels/tsa/base/tsa_model.py:473: ValueWarning: No frequency information was provided, so inferred frequency MS will be used.\n",
            "  self._init_dates(dates, freq)\n",
            "/usr/local/lib/python3.11/dist-packages/statsmodels/tsa/base/tsa_model.py:473: ValueWarning: No frequency information was provided, so inferred frequency MS will be used.\n",
            "  self._init_dates(dates, freq)\n",
            "/usr/local/lib/python3.11/dist-packages/statsmodels/tsa/statespace/sarimax.py:866: UserWarning: Too few observations to estimate starting parameters for seasonal ARMA. All parameters except for variances will be set to zeros.\n",
            "  warn('Too few observations to estimate starting parameters%s.'\n",
            "/usr/local/lib/python3.11/dist-packages/statsmodels/tsa/statespace/mlemodel.py:1235: RuntimeWarning: invalid value encountered in divide\n",
            "  np.inner(score_obs, score_obs) /\n",
            "/usr/local/lib/python3.11/dist-packages/statsmodels/tsa/base/tsa_model.py:473: ValueWarning: No frequency information was provided, so inferred frequency MS will be used.\n",
            "  self._init_dates(dates, freq)\n",
            "/usr/local/lib/python3.11/dist-packages/statsmodels/tsa/base/tsa_model.py:473: ValueWarning: No frequency information was provided, so inferred frequency MS will be used.\n",
            "  self._init_dates(dates, freq)\n",
            "/usr/local/lib/python3.11/dist-packages/statsmodels/tsa/statespace/sarimax.py:866: UserWarning: Too few observations to estimate starting parameters for seasonal ARMA. All parameters except for variances will be set to zeros.\n",
            "  warn('Too few observations to estimate starting parameters%s.'\n",
            "/usr/local/lib/python3.11/dist-packages/statsmodels/tsa/statespace/mlemodel.py:1235: RuntimeWarning: invalid value encountered in divide\n",
            "  np.inner(score_obs, score_obs) /\n"
          ]
        },
        {
          "output_type": "stream",
          "name": "stdout",
          "text": [
            "SARIMA forecast for {'State': 'CA_HMO', 'Segment': 'SBG_ACA'} completed\n",
            "SARIMA forecast for {'State': 'CA_PPO', 'Segment': 'SBG_ACA'} completed\n",
            "SARIMA forecast for {'State': 'CO', 'Segment': 'SBG_ACA'} completed\n",
            "SARIMA forecast for {'State': 'CT', 'Segment': 'SBG_ACA'} completed\n",
            "SARIMA forecast for {'State': 'GA', 'Segment': 'SBG_ACA'} completed\n",
            "SARIMA forecast for {'State': 'IN', 'Segment': 'SBG_ACA'} completed\n",
            "SARIMA forecast for {'State': 'KY', 'Segment': 'SBG_ACA'} completed\n"
          ]
        },
        {
          "output_type": "stream",
          "name": "stderr",
          "text": [
            "/usr/local/lib/python3.11/dist-packages/statsmodels/tsa/base/tsa_model.py:473: ValueWarning: No frequency information was provided, so inferred frequency MS will be used.\n",
            "  self._init_dates(dates, freq)\n",
            "/usr/local/lib/python3.11/dist-packages/statsmodels/tsa/base/tsa_model.py:473: ValueWarning: No frequency information was provided, so inferred frequency MS will be used.\n",
            "  self._init_dates(dates, freq)\n",
            "/usr/local/lib/python3.11/dist-packages/statsmodels/tsa/statespace/sarimax.py:866: UserWarning: Too few observations to estimate starting parameters for seasonal ARMA. All parameters except for variances will be set to zeros.\n",
            "  warn('Too few observations to estimate starting parameters%s.'\n",
            "/usr/local/lib/python3.11/dist-packages/statsmodels/tsa/statespace/mlemodel.py:1235: RuntimeWarning: invalid value encountered in divide\n",
            "  np.inner(score_obs, score_obs) /\n",
            "/usr/local/lib/python3.11/dist-packages/statsmodels/tsa/base/tsa_model.py:473: ValueWarning: No frequency information was provided, so inferred frequency MS will be used.\n",
            "  self._init_dates(dates, freq)\n",
            "/usr/local/lib/python3.11/dist-packages/statsmodels/tsa/base/tsa_model.py:473: ValueWarning: No frequency information was provided, so inferred frequency MS will be used.\n",
            "  self._init_dates(dates, freq)\n",
            "/usr/local/lib/python3.11/dist-packages/statsmodels/tsa/statespace/sarimax.py:866: UserWarning: Too few observations to estimate starting parameters for seasonal ARMA. All parameters except for variances will be set to zeros.\n",
            "  warn('Too few observations to estimate starting parameters%s.'\n",
            "/usr/local/lib/python3.11/dist-packages/statsmodels/tsa/statespace/mlemodel.py:1235: RuntimeWarning: invalid value encountered in divide\n",
            "  np.inner(score_obs, score_obs) /\n",
            "/usr/local/lib/python3.11/dist-packages/statsmodels/tsa/base/tsa_model.py:473: ValueWarning: No frequency information was provided, so inferred frequency MS will be used.\n",
            "  self._init_dates(dates, freq)\n",
            "/usr/local/lib/python3.11/dist-packages/statsmodels/tsa/base/tsa_model.py:473: ValueWarning: No frequency information was provided, so inferred frequency MS will be used.\n",
            "  self._init_dates(dates, freq)\n",
            "/usr/local/lib/python3.11/dist-packages/statsmodels/tsa/statespace/sarimax.py:866: UserWarning: Too few observations to estimate starting parameters for seasonal ARMA. All parameters except for variances will be set to zeros.\n",
            "  warn('Too few observations to estimate starting parameters%s.'\n",
            "/usr/local/lib/python3.11/dist-packages/statsmodels/tsa/statespace/mlemodel.py:1235: RuntimeWarning: invalid value encountered in divide\n",
            "  np.inner(score_obs, score_obs) /\n",
            "/usr/local/lib/python3.11/dist-packages/statsmodels/tsa/base/tsa_model.py:473: ValueWarning: No frequency information was provided, so inferred frequency MS will be used.\n",
            "  self._init_dates(dates, freq)\n",
            "/usr/local/lib/python3.11/dist-packages/statsmodels/tsa/base/tsa_model.py:473: ValueWarning: No frequency information was provided, so inferred frequency MS will be used.\n",
            "  self._init_dates(dates, freq)\n",
            "/usr/local/lib/python3.11/dist-packages/statsmodels/tsa/statespace/sarimax.py:866: UserWarning: Too few observations to estimate starting parameters for seasonal ARMA. All parameters except for variances will be set to zeros.\n",
            "  warn('Too few observations to estimate starting parameters%s.'\n",
            "/usr/local/lib/python3.11/dist-packages/statsmodels/tsa/statespace/mlemodel.py:1235: RuntimeWarning: invalid value encountered in divide\n",
            "  np.inner(score_obs, score_obs) /\n",
            "/usr/local/lib/python3.11/dist-packages/statsmodels/tsa/base/tsa_model.py:473: ValueWarning: No frequency information was provided, so inferred frequency MS will be used.\n",
            "  self._init_dates(dates, freq)\n",
            "/usr/local/lib/python3.11/dist-packages/statsmodels/tsa/base/tsa_model.py:473: ValueWarning: No frequency information was provided, so inferred frequency MS will be used.\n",
            "  self._init_dates(dates, freq)\n",
            "/usr/local/lib/python3.11/dist-packages/statsmodels/tsa/statespace/sarimax.py:866: UserWarning: Too few observations to estimate starting parameters for seasonal ARMA. All parameters except for variances will be set to zeros.\n",
            "  warn('Too few observations to estimate starting parameters%s.'\n",
            "/usr/local/lib/python3.11/dist-packages/statsmodels/tsa/statespace/mlemodel.py:1235: RuntimeWarning: invalid value encountered in divide\n",
            "  np.inner(score_obs, score_obs) /\n",
            "/usr/local/lib/python3.11/dist-packages/statsmodels/tsa/base/tsa_model.py:473: ValueWarning: No frequency information was provided, so inferred frequency MS will be used.\n",
            "  self._init_dates(dates, freq)\n",
            "/usr/local/lib/python3.11/dist-packages/statsmodels/tsa/base/tsa_model.py:473: ValueWarning: No frequency information was provided, so inferred frequency MS will be used.\n",
            "  self._init_dates(dates, freq)\n",
            "/usr/local/lib/python3.11/dist-packages/statsmodels/tsa/statespace/sarimax.py:866: UserWarning: Too few observations to estimate starting parameters for seasonal ARMA. All parameters except for variances will be set to zeros.\n",
            "  warn('Too few observations to estimate starting parameters%s.'\n",
            "/usr/local/lib/python3.11/dist-packages/statsmodels/tsa/statespace/mlemodel.py:1235: RuntimeWarning: invalid value encountered in divide\n",
            "  np.inner(score_obs, score_obs) /\n",
            "/usr/local/lib/python3.11/dist-packages/statsmodels/tsa/base/tsa_model.py:473: ValueWarning: No frequency information was provided, so inferred frequency MS will be used.\n",
            "  self._init_dates(dates, freq)\n",
            "/usr/local/lib/python3.11/dist-packages/statsmodels/tsa/base/tsa_model.py:473: ValueWarning: No frequency information was provided, so inferred frequency MS will be used.\n",
            "  self._init_dates(dates, freq)\n",
            "/usr/local/lib/python3.11/dist-packages/statsmodels/tsa/statespace/sarimax.py:866: UserWarning: Too few observations to estimate starting parameters for seasonal ARMA. All parameters except for variances will be set to zeros.\n",
            "  warn('Too few observations to estimate starting parameters%s.'\n",
            "/usr/local/lib/python3.11/dist-packages/statsmodels/tsa/statespace/mlemodel.py:1235: RuntimeWarning: invalid value encountered in divide\n",
            "  np.inner(score_obs, score_obs) /\n"
          ]
        },
        {
          "output_type": "stream",
          "name": "stdout",
          "text": [
            "SARIMA forecast for {'State': 'ME', 'Segment': 'SBG_ACA'} completed\n",
            "SARIMA forecast for {'State': 'MO', 'Segment': 'SBG_ACA'} completed\n",
            "SARIMA forecast for {'State': 'NH', 'Segment': 'SBG_ACA'} completed\n",
            "SARIMA forecast for {'State': 'NV', 'Segment': 'SBG_ACA'} completed\n",
            "SARIMA forecast for {'State': 'NY', 'Segment': 'SBG_ACA'} completed\n",
            "SARIMA forecast for {'State': 'OH', 'Segment': 'SBG_ACA'} completed\n",
            "SARIMA forecast for {'State': 'VA', 'Segment': 'SBG_ACA'} completed\n"
          ]
        },
        {
          "output_type": "stream",
          "name": "stderr",
          "text": [
            "/usr/local/lib/python3.11/dist-packages/statsmodels/tsa/base/tsa_model.py:473: ValueWarning: No frequency information was provided, so inferred frequency MS will be used.\n",
            "  self._init_dates(dates, freq)\n",
            "/usr/local/lib/python3.11/dist-packages/statsmodels/tsa/base/tsa_model.py:473: ValueWarning: No frequency information was provided, so inferred frequency MS will be used.\n",
            "  self._init_dates(dates, freq)\n",
            "/usr/local/lib/python3.11/dist-packages/statsmodels/tsa/statespace/sarimax.py:866: UserWarning: Too few observations to estimate starting parameters for seasonal ARMA. All parameters except for variances will be set to zeros.\n",
            "  warn('Too few observations to estimate starting parameters%s.'\n",
            "/usr/local/lib/python3.11/dist-packages/statsmodels/tsa/statespace/mlemodel.py:1235: RuntimeWarning: invalid value encountered in divide\n",
            "  np.inner(score_obs, score_obs) /\n",
            "/usr/local/lib/python3.11/dist-packages/statsmodels/tsa/base/tsa_model.py:473: ValueWarning: No frequency information was provided, so inferred frequency MS will be used.\n",
            "  self._init_dates(dates, freq)\n",
            "/usr/local/lib/python3.11/dist-packages/statsmodels/tsa/base/tsa_model.py:473: ValueWarning: No frequency information was provided, so inferred frequency MS will be used.\n",
            "  self._init_dates(dates, freq)\n",
            "/usr/local/lib/python3.11/dist-packages/statsmodels/tsa/statespace/sarimax.py:866: UserWarning: Too few observations to estimate starting parameters for seasonal ARMA. All parameters except for variances will be set to zeros.\n",
            "  warn('Too few observations to estimate starting parameters%s.'\n",
            "/usr/local/lib/python3.11/dist-packages/statsmodels/tsa/statespace/mlemodel.py:1235: RuntimeWarning: invalid value encountered in divide\n",
            "  np.inner(score_obs, score_obs) /\n",
            "/usr/local/lib/python3.11/dist-packages/statsmodels/tsa/base/tsa_model.py:473: ValueWarning: No frequency information was provided, so inferred frequency MS will be used.\n",
            "  self._init_dates(dates, freq)\n",
            "/usr/local/lib/python3.11/dist-packages/statsmodels/tsa/base/tsa_model.py:473: ValueWarning: No frequency information was provided, so inferred frequency MS will be used.\n",
            "  self._init_dates(dates, freq)\n",
            "/usr/local/lib/python3.11/dist-packages/statsmodels/tsa/statespace/sarimax.py:866: UserWarning: Too few observations to estimate starting parameters for seasonal ARMA. All parameters except for variances will be set to zeros.\n",
            "  warn('Too few observations to estimate starting parameters%s.'\n",
            "/usr/local/lib/python3.11/dist-packages/statsmodels/tsa/statespace/mlemodel.py:1235: RuntimeWarning: invalid value encountered in divide\n",
            "  np.inner(score_obs, score_obs) /\n",
            "/usr/local/lib/python3.11/dist-packages/statsmodels/tsa/base/tsa_model.py:473: ValueWarning: No frequency information was provided, so inferred frequency MS will be used.\n",
            "  self._init_dates(dates, freq)\n",
            "/usr/local/lib/python3.11/dist-packages/statsmodels/tsa/base/tsa_model.py:473: ValueWarning: No frequency information was provided, so inferred frequency MS will be used.\n",
            "  self._init_dates(dates, freq)\n",
            "/usr/local/lib/python3.11/dist-packages/statsmodels/tsa/statespace/sarimax.py:866: UserWarning: Too few observations to estimate starting parameters for seasonal ARMA. All parameters except for variances will be set to zeros.\n",
            "  warn('Too few observations to estimate starting parameters%s.'\n",
            "/usr/local/lib/python3.11/dist-packages/statsmodels/tsa/statespace/mlemodel.py:1235: RuntimeWarning: invalid value encountered in divide\n",
            "  np.inner(score_obs, score_obs) /\n",
            "/usr/local/lib/python3.11/dist-packages/statsmodels/tsa/base/tsa_model.py:473: ValueWarning: No frequency information was provided, so inferred frequency MS will be used.\n",
            "  self._init_dates(dates, freq)\n",
            "/usr/local/lib/python3.11/dist-packages/statsmodels/tsa/base/tsa_model.py:473: ValueWarning: No frequency information was provided, so inferred frequency MS will be used.\n",
            "  self._init_dates(dates, freq)\n",
            "/usr/local/lib/python3.11/dist-packages/statsmodels/tsa/statespace/sarimax.py:866: UserWarning: Too few observations to estimate starting parameters for seasonal ARMA. All parameters except for variances will be set to zeros.\n",
            "  warn('Too few observations to estimate starting parameters%s.'\n",
            "/usr/local/lib/python3.11/dist-packages/statsmodels/tsa/statespace/mlemodel.py:1235: RuntimeWarning: invalid value encountered in divide\n",
            "  np.inner(score_obs, score_obs) /\n",
            "/usr/local/lib/python3.11/dist-packages/statsmodels/tsa/base/tsa_model.py:473: ValueWarning: No frequency information was provided, so inferred frequency MS will be used.\n",
            "  self._init_dates(dates, freq)\n",
            "/usr/local/lib/python3.11/dist-packages/statsmodels/tsa/base/tsa_model.py:473: ValueWarning: No frequency information was provided, so inferred frequency MS will be used.\n",
            "  self._init_dates(dates, freq)\n",
            "/usr/local/lib/python3.11/dist-packages/statsmodels/tsa/statespace/sarimax.py:866: UserWarning: Too few observations to estimate starting parameters for seasonal ARMA. All parameters except for variances will be set to zeros.\n",
            "  warn('Too few observations to estimate starting parameters%s.'\n",
            "/usr/local/lib/python3.11/dist-packages/statsmodels/tsa/statespace/mlemodel.py:1235: RuntimeWarning: invalid value encountered in divide\n",
            "  np.inner(score_obs, score_obs) /\n",
            "/usr/local/lib/python3.11/dist-packages/statsmodels/tsa/base/tsa_model.py:473: ValueWarning: No frequency information was provided, so inferred frequency MS will be used.\n",
            "  self._init_dates(dates, freq)\n",
            "/usr/local/lib/python3.11/dist-packages/statsmodels/tsa/base/tsa_model.py:473: ValueWarning: No frequency information was provided, so inferred frequency MS will be used.\n",
            "  self._init_dates(dates, freq)\n",
            "/usr/local/lib/python3.11/dist-packages/statsmodels/tsa/statespace/sarimax.py:866: UserWarning: Too few observations to estimate starting parameters for seasonal ARMA. All parameters except for variances will be set to zeros.\n",
            "  warn('Too few observations to estimate starting parameters%s.'\n"
          ]
        },
        {
          "output_type": "stream",
          "name": "stdout",
          "text": [
            "SARIMA forecast for {'State': 'WI', 'Segment': 'SBG_ACA'} completed\n",
            "SARIMA forecast for {'State': 'CA_HMO', 'Segment': 'SBG_LEG'} completed\n",
            "SARIMA forecast for {'State': 'CA_PPO', 'Segment': 'SBG_LEG'} completed\n",
            "SARIMA forecast for {'State': 'CO', 'Segment': 'SBG_LEG'} completed\n",
            "SARIMA forecast for {'State': 'CT', 'Segment': 'SBG_LEG'} completed\n",
            "SARIMA forecast for {'State': 'GA', 'Segment': 'SBG_LEG'} completed\n",
            "SARIMA forecast for {'State': 'IN', 'Segment': 'SBG_LEG'} completed\n"
          ]
        },
        {
          "output_type": "stream",
          "name": "stderr",
          "text": [
            "/usr/local/lib/python3.11/dist-packages/statsmodels/tsa/statespace/mlemodel.py:1235: RuntimeWarning: invalid value encountered in divide\n",
            "  np.inner(score_obs, score_obs) /\n",
            "/usr/local/lib/python3.11/dist-packages/statsmodels/tsa/base/tsa_model.py:473: ValueWarning: No frequency information was provided, so inferred frequency MS will be used.\n",
            "  self._init_dates(dates, freq)\n",
            "/usr/local/lib/python3.11/dist-packages/statsmodels/tsa/base/tsa_model.py:473: ValueWarning: No frequency information was provided, so inferred frequency MS will be used.\n",
            "  self._init_dates(dates, freq)\n",
            "/usr/local/lib/python3.11/dist-packages/statsmodels/tsa/statespace/sarimax.py:866: UserWarning: Too few observations to estimate starting parameters for seasonal ARMA. All parameters except for variances will be set to zeros.\n",
            "  warn('Too few observations to estimate starting parameters%s.'\n",
            "/usr/local/lib/python3.11/dist-packages/statsmodels/tsa/statespace/mlemodel.py:1235: RuntimeWarning: invalid value encountered in divide\n",
            "  np.inner(score_obs, score_obs) /\n",
            "/usr/local/lib/python3.11/dist-packages/statsmodels/tsa/base/tsa_model.py:473: ValueWarning: No frequency information was provided, so inferred frequency MS will be used.\n",
            "  self._init_dates(dates, freq)\n",
            "/usr/local/lib/python3.11/dist-packages/statsmodels/tsa/base/tsa_model.py:473: ValueWarning: No frequency information was provided, so inferred frequency MS will be used.\n",
            "  self._init_dates(dates, freq)\n",
            "/usr/local/lib/python3.11/dist-packages/statsmodels/tsa/statespace/sarimax.py:866: UserWarning: Too few observations to estimate starting parameters for seasonal ARMA. All parameters except for variances will be set to zeros.\n",
            "  warn('Too few observations to estimate starting parameters%s.'\n",
            "/usr/local/lib/python3.11/dist-packages/statsmodels/tsa/statespace/mlemodel.py:1235: RuntimeWarning: invalid value encountered in divide\n",
            "  np.inner(score_obs, score_obs) /\n",
            "/usr/local/lib/python3.11/dist-packages/statsmodels/tsa/base/tsa_model.py:473: ValueWarning: No frequency information was provided, so inferred frequency MS will be used.\n",
            "  self._init_dates(dates, freq)\n",
            "/usr/local/lib/python3.11/dist-packages/statsmodels/tsa/base/tsa_model.py:473: ValueWarning: No frequency information was provided, so inferred frequency MS will be used.\n",
            "  self._init_dates(dates, freq)\n",
            "/usr/local/lib/python3.11/dist-packages/statsmodels/tsa/statespace/sarimax.py:866: UserWarning: Too few observations to estimate starting parameters for seasonal ARMA. All parameters except for variances will be set to zeros.\n",
            "  warn('Too few observations to estimate starting parameters%s.'\n",
            "/usr/local/lib/python3.11/dist-packages/statsmodels/tsa/statespace/mlemodel.py:1235: RuntimeWarning: invalid value encountered in divide\n",
            "  np.inner(score_obs, score_obs) /\n",
            "/usr/local/lib/python3.11/dist-packages/statsmodels/tsa/base/tsa_model.py:473: ValueWarning: No frequency information was provided, so inferred frequency MS will be used.\n",
            "  self._init_dates(dates, freq)\n",
            "/usr/local/lib/python3.11/dist-packages/statsmodels/tsa/base/tsa_model.py:473: ValueWarning: No frequency information was provided, so inferred frequency MS will be used.\n",
            "  self._init_dates(dates, freq)\n",
            "/usr/local/lib/python3.11/dist-packages/statsmodels/tsa/statespace/sarimax.py:866: UserWarning: Too few observations to estimate starting parameters for seasonal ARMA. All parameters except for variances will be set to zeros.\n",
            "  warn('Too few observations to estimate starting parameters%s.'\n",
            "/usr/local/lib/python3.11/dist-packages/statsmodels/tsa/statespace/mlemodel.py:1235: RuntimeWarning: invalid value encountered in divide\n",
            "  np.inner(score_obs, score_obs) /\n",
            "/usr/local/lib/python3.11/dist-packages/statsmodels/tsa/base/tsa_model.py:473: ValueWarning: No frequency information was provided, so inferred frequency MS will be used.\n",
            "  self._init_dates(dates, freq)\n",
            "/usr/local/lib/python3.11/dist-packages/statsmodels/tsa/base/tsa_model.py:473: ValueWarning: No frequency information was provided, so inferred frequency MS will be used.\n",
            "  self._init_dates(dates, freq)\n",
            "/usr/local/lib/python3.11/dist-packages/statsmodels/tsa/statespace/sarimax.py:866: UserWarning: Too few observations to estimate starting parameters for seasonal ARMA. All parameters except for variances will be set to zeros.\n",
            "  warn('Too few observations to estimate starting parameters%s.'\n",
            "/usr/local/lib/python3.11/dist-packages/statsmodels/tsa/statespace/mlemodel.py:1235: RuntimeWarning: invalid value encountered in divide\n",
            "  np.inner(score_obs, score_obs) /\n"
          ]
        },
        {
          "output_type": "stream",
          "name": "stdout",
          "text": [
            "SARIMA forecast for {'State': 'KY', 'Segment': 'SBG_LEG'} completed\n",
            "SARIMA forecast for {'State': 'ME', 'Segment': 'SBG_LEG'} completed\n",
            "SARIMA forecast for {'State': 'MO', 'Segment': 'SBG_LEG'} completed\n",
            "SARIMA forecast for {'State': 'NH', 'Segment': 'SBG_LEG'} completed\n",
            "SARIMA forecast for {'State': 'NV', 'Segment': 'SBG_LEG'} completed\n"
          ]
        },
        {
          "output_type": "stream",
          "name": "stderr",
          "text": [
            "/usr/local/lib/python3.11/dist-packages/statsmodels/tsa/base/tsa_model.py:473: ValueWarning: No frequency information was provided, so inferred frequency MS will be used.\n",
            "  self._init_dates(dates, freq)\n",
            "/usr/local/lib/python3.11/dist-packages/statsmodels/tsa/base/tsa_model.py:473: ValueWarning: No frequency information was provided, so inferred frequency MS will be used.\n",
            "  self._init_dates(dates, freq)\n",
            "/usr/local/lib/python3.11/dist-packages/statsmodels/tsa/statespace/sarimax.py:866: UserWarning: Too few observations to estimate starting parameters for seasonal ARMA. All parameters except for variances will be set to zeros.\n",
            "  warn('Too few observations to estimate starting parameters%s.'\n",
            "/usr/local/lib/python3.11/dist-packages/statsmodels/tsa/statespace/mlemodel.py:1235: RuntimeWarning: invalid value encountered in divide\n",
            "  np.inner(score_obs, score_obs) /\n",
            "/usr/local/lib/python3.11/dist-packages/statsmodels/tsa/base/tsa_model.py:473: ValueWarning: No frequency information was provided, so inferred frequency MS will be used.\n",
            "  self._init_dates(dates, freq)\n",
            "/usr/local/lib/python3.11/dist-packages/statsmodels/tsa/base/tsa_model.py:473: ValueWarning: No frequency information was provided, so inferred frequency MS will be used.\n",
            "  self._init_dates(dates, freq)\n",
            "/usr/local/lib/python3.11/dist-packages/statsmodels/tsa/statespace/sarimax.py:866: UserWarning: Too few observations to estimate starting parameters for seasonal ARMA. All parameters except for variances will be set to zeros.\n",
            "  warn('Too few observations to estimate starting parameters%s.'\n",
            "/usr/local/lib/python3.11/dist-packages/statsmodels/tsa/statespace/mlemodel.py:1235: RuntimeWarning: invalid value encountered in divide\n",
            "  np.inner(score_obs, score_obs) /\n",
            "/usr/local/lib/python3.11/dist-packages/statsmodels/tsa/base/tsa_model.py:473: ValueWarning: No frequency information was provided, so inferred frequency MS will be used.\n",
            "  self._init_dates(dates, freq)\n",
            "/usr/local/lib/python3.11/dist-packages/statsmodels/tsa/base/tsa_model.py:473: ValueWarning: No frequency information was provided, so inferred frequency MS will be used.\n",
            "  self._init_dates(dates, freq)\n",
            "/usr/local/lib/python3.11/dist-packages/statsmodels/tsa/statespace/sarimax.py:866: UserWarning: Too few observations to estimate starting parameters for seasonal ARMA. All parameters except for variances will be set to zeros.\n",
            "  warn('Too few observations to estimate starting parameters%s.'\n",
            "/usr/local/lib/python3.11/dist-packages/statsmodels/tsa/statespace/mlemodel.py:1235: RuntimeWarning: invalid value encountered in divide\n",
            "  np.inner(score_obs, score_obs) /\n",
            "/usr/local/lib/python3.11/dist-packages/statsmodels/tsa/base/tsa_model.py:473: ValueWarning: No frequency information was provided, so inferred frequency MS will be used.\n",
            "  self._init_dates(dates, freq)\n",
            "/usr/local/lib/python3.11/dist-packages/statsmodels/tsa/base/tsa_model.py:473: ValueWarning: No frequency information was provided, so inferred frequency MS will be used.\n",
            "  self._init_dates(dates, freq)\n",
            "/usr/local/lib/python3.11/dist-packages/statsmodels/tsa/statespace/sarimax.py:866: UserWarning: Too few observations to estimate starting parameters for seasonal ARMA. All parameters except for variances will be set to zeros.\n",
            "  warn('Too few observations to estimate starting parameters%s.'\n",
            "/usr/local/lib/python3.11/dist-packages/statsmodels/tsa/statespace/mlemodel.py:1235: RuntimeWarning: invalid value encountered in divide\n",
            "  np.inner(score_obs, score_obs) /\n",
            "/usr/local/lib/python3.11/dist-packages/statsmodels/tsa/base/tsa_model.py:473: ValueWarning: No frequency information was provided, so inferred frequency MS will be used.\n",
            "  self._init_dates(dates, freq)\n",
            "/usr/local/lib/python3.11/dist-packages/statsmodels/tsa/base/tsa_model.py:473: ValueWarning: No frequency information was provided, so inferred frequency MS will be used.\n",
            "  self._init_dates(dates, freq)\n",
            "/usr/local/lib/python3.11/dist-packages/statsmodels/tsa/statespace/sarimax.py:866: UserWarning: Too few observations to estimate starting parameters for seasonal ARMA. All parameters except for variances will be set to zeros.\n",
            "  warn('Too few observations to estimate starting parameters%s.'\n",
            "/usr/local/lib/python3.11/dist-packages/statsmodels/tsa/statespace/mlemodel.py:1235: RuntimeWarning: invalid value encountered in divide\n",
            "  np.inner(score_obs, score_obs) /\n"
          ]
        },
        {
          "output_type": "stream",
          "name": "stdout",
          "text": [
            "SARIMA forecast for {'State': 'NY', 'Segment': 'SBG_LEG'} completed\n",
            "SARIMA forecast for {'State': 'OH', 'Segment': 'SBG_LEG'} completed\n",
            "SARIMA forecast for {'State': 'VA', 'Segment': 'SBG_LEG'} completed\n",
            "SARIMA forecast for {'State': 'WI', 'Segment': 'SBG_LEG'} completed\n"
          ]
        },
        {
          "output_type": "stream",
          "name": "stderr",
          "text": [
            "/usr/local/lib/python3.11/dist-packages/statsmodels/tsa/base/tsa_model.py:473: ValueWarning: No frequency information was provided, so inferred frequency MS will be used.\n",
            "  self._init_dates(dates, freq)\n",
            "/usr/local/lib/python3.11/dist-packages/statsmodels/tsa/base/tsa_model.py:473: ValueWarning: No frequency information was provided, so inferred frequency MS will be used.\n",
            "  self._init_dates(dates, freq)\n",
            "/usr/local/lib/python3.11/dist-packages/statsmodels/tsa/statespace/sarimax.py:866: UserWarning: Too few observations to estimate starting parameters for seasonal ARMA. All parameters except for variances will be set to zeros.\n",
            "  warn('Too few observations to estimate starting parameters%s.'\n",
            "/usr/local/lib/python3.11/dist-packages/statsmodels/tsa/statespace/mlemodel.py:1235: RuntimeWarning: invalid value encountered in divide\n",
            "  np.inner(score_obs, score_obs) /\n",
            "/usr/local/lib/python3.11/dist-packages/statsmodels/tsa/base/tsa_model.py:473: ValueWarning: No frequency information was provided, so inferred frequency MS will be used.\n",
            "  self._init_dates(dates, freq)\n",
            "/usr/local/lib/python3.11/dist-packages/statsmodels/tsa/base/tsa_model.py:473: ValueWarning: No frequency information was provided, so inferred frequency MS will be used.\n",
            "  self._init_dates(dates, freq)\n",
            "/usr/local/lib/python3.11/dist-packages/statsmodels/tsa/statespace/sarimax.py:866: UserWarning: Too few observations to estimate starting parameters for seasonal ARMA. All parameters except for variances will be set to zeros.\n",
            "  warn('Too few observations to estimate starting parameters%s.'\n",
            "/usr/local/lib/python3.11/dist-packages/statsmodels/tsa/statespace/mlemodel.py:1235: RuntimeWarning: invalid value encountered in divide\n",
            "  np.inner(score_obs, score_obs) /\n",
            "/usr/local/lib/python3.11/dist-packages/statsmodels/tsa/base/tsa_model.py:473: ValueWarning: No frequency information was provided, so inferred frequency MS will be used.\n",
            "  self._init_dates(dates, freq)\n",
            "/usr/local/lib/python3.11/dist-packages/statsmodels/tsa/base/tsa_model.py:473: ValueWarning: No frequency information was provided, so inferred frequency MS will be used.\n",
            "  self._init_dates(dates, freq)\n",
            "/usr/local/lib/python3.11/dist-packages/statsmodels/tsa/statespace/sarimax.py:866: UserWarning: Too few observations to estimate starting parameters for seasonal ARMA. All parameters except for variances will be set to zeros.\n",
            "  warn('Too few observations to estimate starting parameters%s.'\n",
            "/usr/local/lib/python3.11/dist-packages/statsmodels/tsa/statespace/mlemodel.py:1235: RuntimeWarning: invalid value encountered in divide\n",
            "  np.inner(score_obs, score_obs) /\n",
            "/usr/local/lib/python3.11/dist-packages/statsmodels/tsa/base/tsa_model.py:473: ValueWarning: No frequency information was provided, so inferred frequency MS will be used.\n",
            "  self._init_dates(dates, freq)\n",
            "/usr/local/lib/python3.11/dist-packages/statsmodels/tsa/base/tsa_model.py:473: ValueWarning: No frequency information was provided, so inferred frequency MS will be used.\n",
            "  self._init_dates(dates, freq)\n",
            "/usr/local/lib/python3.11/dist-packages/statsmodels/tsa/statespace/sarimax.py:866: UserWarning: Too few observations to estimate starting parameters for seasonal ARMA. All parameters except for variances will be set to zeros.\n",
            "  warn('Too few observations to estimate starting parameters%s.'\n",
            "/usr/local/lib/python3.11/dist-packages/statsmodels/tsa/statespace/mlemodel.py:1235: RuntimeWarning: invalid value encountered in divide\n",
            "  np.inner(score_obs, score_obs) /\n",
            "/usr/local/lib/python3.11/dist-packages/statsmodels/tsa/base/tsa_model.py:473: ValueWarning: No frequency information was provided, so inferred frequency MS will be used.\n",
            "  self._init_dates(dates, freq)\n",
            "/usr/local/lib/python3.11/dist-packages/statsmodels/tsa/base/tsa_model.py:473: ValueWarning: No frequency information was provided, so inferred frequency MS will be used.\n",
            "  self._init_dates(dates, freq)\n",
            "/usr/local/lib/python3.11/dist-packages/statsmodels/tsa/statespace/sarimax.py:866: UserWarning: Too few observations to estimate starting parameters for seasonal ARMA. All parameters except for variances will be set to zeros.\n",
            "  warn('Too few observations to estimate starting parameters%s.'\n",
            "/usr/local/lib/python3.11/dist-packages/statsmodels/tsa/statespace/mlemodel.py:1235: RuntimeWarning: invalid value encountered in divide\n",
            "  np.inner(score_obs, score_obs) /\n"
          ]
        },
        {
          "output_type": "stream",
          "name": "stdout",
          "text": [
            "SARIMA forecast for {'State': 'CA_HMO', 'Segment': 'SBG_MEW'} completed\n",
            "SARIMA forecast for {'State': 'CA_PPO', 'Segment': 'SBG_MEW'} completed\n",
            "SARIMA forecast for {'State': 'CO', 'Segment': 'SBG_MEW'} completed\n",
            "SARIMA forecast for {'State': 'CT', 'Segment': 'SBG_MEW'} completed\n",
            "SARIMA forecast for {'State': 'GA', 'Segment': 'SBG_MEW'} completed\n"
          ]
        },
        {
          "output_type": "stream",
          "name": "stderr",
          "text": [
            "/usr/local/lib/python3.11/dist-packages/statsmodels/tsa/base/tsa_model.py:473: ValueWarning: No frequency information was provided, so inferred frequency MS will be used.\n",
            "  self._init_dates(dates, freq)\n",
            "/usr/local/lib/python3.11/dist-packages/statsmodels/tsa/base/tsa_model.py:473: ValueWarning: No frequency information was provided, so inferred frequency MS will be used.\n",
            "  self._init_dates(dates, freq)\n",
            "/usr/local/lib/python3.11/dist-packages/statsmodels/tsa/statespace/sarimax.py:866: UserWarning: Too few observations to estimate starting parameters for seasonal ARMA. All parameters except for variances will be set to zeros.\n",
            "  warn('Too few observations to estimate starting parameters%s.'\n",
            "/usr/local/lib/python3.11/dist-packages/statsmodels/tsa/statespace/mlemodel.py:1235: RuntimeWarning: invalid value encountered in divide\n",
            "  np.inner(score_obs, score_obs) /\n",
            "/usr/local/lib/python3.11/dist-packages/statsmodels/tsa/base/tsa_model.py:473: ValueWarning: No frequency information was provided, so inferred frequency MS will be used.\n",
            "  self._init_dates(dates, freq)\n",
            "/usr/local/lib/python3.11/dist-packages/statsmodels/tsa/base/tsa_model.py:473: ValueWarning: No frequency information was provided, so inferred frequency MS will be used.\n",
            "  self._init_dates(dates, freq)\n",
            "/usr/local/lib/python3.11/dist-packages/statsmodels/tsa/statespace/sarimax.py:866: UserWarning: Too few observations to estimate starting parameters for seasonal ARMA. All parameters except for variances will be set to zeros.\n",
            "  warn('Too few observations to estimate starting parameters%s.'\n",
            "/usr/local/lib/python3.11/dist-packages/statsmodels/tsa/statespace/mlemodel.py:1235: RuntimeWarning: invalid value encountered in divide\n",
            "  np.inner(score_obs, score_obs) /\n",
            "/usr/local/lib/python3.11/dist-packages/statsmodels/tsa/base/tsa_model.py:473: ValueWarning: No frequency information was provided, so inferred frequency MS will be used.\n",
            "  self._init_dates(dates, freq)\n",
            "/usr/local/lib/python3.11/dist-packages/statsmodels/tsa/base/tsa_model.py:473: ValueWarning: No frequency information was provided, so inferred frequency MS will be used.\n",
            "  self._init_dates(dates, freq)\n",
            "/usr/local/lib/python3.11/dist-packages/statsmodels/tsa/statespace/sarimax.py:866: UserWarning: Too few observations to estimate starting parameters for seasonal ARMA. All parameters except for variances will be set to zeros.\n",
            "  warn('Too few observations to estimate starting parameters%s.'\n",
            "/usr/local/lib/python3.11/dist-packages/statsmodels/tsa/statespace/mlemodel.py:1235: RuntimeWarning: invalid value encountered in divide\n",
            "  np.inner(score_obs, score_obs) /\n",
            "/usr/local/lib/python3.11/dist-packages/statsmodels/tsa/base/tsa_model.py:473: ValueWarning: No frequency information was provided, so inferred frequency MS will be used.\n",
            "  self._init_dates(dates, freq)\n",
            "/usr/local/lib/python3.11/dist-packages/statsmodels/tsa/base/tsa_model.py:473: ValueWarning: No frequency information was provided, so inferred frequency MS will be used.\n",
            "  self._init_dates(dates, freq)\n",
            "/usr/local/lib/python3.11/dist-packages/statsmodels/tsa/statespace/sarimax.py:866: UserWarning: Too few observations to estimate starting parameters for seasonal ARMA. All parameters except for variances will be set to zeros.\n",
            "  warn('Too few observations to estimate starting parameters%s.'\n",
            "/usr/local/lib/python3.11/dist-packages/statsmodels/tsa/statespace/mlemodel.py:1235: RuntimeWarning: invalid value encountered in divide\n",
            "  np.inner(score_obs, score_obs) /\n",
            "/usr/local/lib/python3.11/dist-packages/statsmodels/tsa/base/tsa_model.py:473: ValueWarning: No frequency information was provided, so inferred frequency MS will be used.\n",
            "  self._init_dates(dates, freq)\n",
            "/usr/local/lib/python3.11/dist-packages/statsmodels/tsa/base/tsa_model.py:473: ValueWarning: No frequency information was provided, so inferred frequency MS will be used.\n",
            "  self._init_dates(dates, freq)\n",
            "/usr/local/lib/python3.11/dist-packages/statsmodels/tsa/statespace/sarimax.py:866: UserWarning: Too few observations to estimate starting parameters for seasonal ARMA. All parameters except for variances will be set to zeros.\n",
            "  warn('Too few observations to estimate starting parameters%s.'\n",
            "/usr/local/lib/python3.11/dist-packages/statsmodels/tsa/statespace/mlemodel.py:1235: RuntimeWarning: invalid value encountered in divide\n",
            "  np.inner(score_obs, score_obs) /\n"
          ]
        },
        {
          "output_type": "stream",
          "name": "stdout",
          "text": [
            "SARIMA forecast for {'State': 'IN', 'Segment': 'SBG_MEW'} completed\n",
            "SARIMA forecast for {'State': 'KY', 'Segment': 'SBG_MEW'} completed\n",
            "SARIMA forecast for {'State': 'ME', 'Segment': 'SBG_MEW'} completed\n",
            "SARIMA forecast for {'State': 'MO', 'Segment': 'SBG_MEW'} completed\n",
            "SARIMA forecast for {'State': 'NH', 'Segment': 'SBG_MEW'} completed\n"
          ]
        },
        {
          "output_type": "stream",
          "name": "stderr",
          "text": [
            "/usr/local/lib/python3.11/dist-packages/statsmodels/tsa/base/tsa_model.py:473: ValueWarning: No frequency information was provided, so inferred frequency MS will be used.\n",
            "  self._init_dates(dates, freq)\n",
            "/usr/local/lib/python3.11/dist-packages/statsmodels/tsa/base/tsa_model.py:473: ValueWarning: No frequency information was provided, so inferred frequency MS will be used.\n",
            "  self._init_dates(dates, freq)\n",
            "/usr/local/lib/python3.11/dist-packages/statsmodels/tsa/statespace/sarimax.py:866: UserWarning: Too few observations to estimate starting parameters for seasonal ARMA. All parameters except for variances will be set to zeros.\n",
            "  warn('Too few observations to estimate starting parameters%s.'\n",
            "/usr/local/lib/python3.11/dist-packages/statsmodels/tsa/statespace/mlemodel.py:1235: RuntimeWarning: invalid value encountered in divide\n",
            "  np.inner(score_obs, score_obs) /\n",
            "/usr/local/lib/python3.11/dist-packages/statsmodels/tsa/base/tsa_model.py:473: ValueWarning: No frequency information was provided, so inferred frequency MS will be used.\n",
            "  self._init_dates(dates, freq)\n",
            "/usr/local/lib/python3.11/dist-packages/statsmodels/tsa/base/tsa_model.py:473: ValueWarning: No frequency information was provided, so inferred frequency MS will be used.\n",
            "  self._init_dates(dates, freq)\n",
            "/usr/local/lib/python3.11/dist-packages/statsmodels/tsa/statespace/sarimax.py:866: UserWarning: Too few observations to estimate starting parameters for seasonal ARMA. All parameters except for variances will be set to zeros.\n",
            "  warn('Too few observations to estimate starting parameters%s.'\n",
            "/usr/local/lib/python3.11/dist-packages/statsmodels/tsa/statespace/mlemodel.py:1235: RuntimeWarning: invalid value encountered in divide\n",
            "  np.inner(score_obs, score_obs) /\n",
            "/usr/local/lib/python3.11/dist-packages/statsmodels/tsa/base/tsa_model.py:473: ValueWarning: No frequency information was provided, so inferred frequency MS will be used.\n",
            "  self._init_dates(dates, freq)\n",
            "/usr/local/lib/python3.11/dist-packages/statsmodels/tsa/base/tsa_model.py:473: ValueWarning: No frequency information was provided, so inferred frequency MS will be used.\n",
            "  self._init_dates(dates, freq)\n",
            "/usr/local/lib/python3.11/dist-packages/statsmodels/tsa/statespace/sarimax.py:866: UserWarning: Too few observations to estimate starting parameters for seasonal ARMA. All parameters except for variances will be set to zeros.\n",
            "  warn('Too few observations to estimate starting parameters%s.'\n",
            "/usr/local/lib/python3.11/dist-packages/statsmodels/tsa/statespace/mlemodel.py:1235: RuntimeWarning: invalid value encountered in divide\n",
            "  np.inner(score_obs, score_obs) /\n",
            "/usr/local/lib/python3.11/dist-packages/statsmodels/tsa/base/tsa_model.py:473: ValueWarning: No frequency information was provided, so inferred frequency MS will be used.\n",
            "  self._init_dates(dates, freq)\n",
            "/usr/local/lib/python3.11/dist-packages/statsmodels/tsa/base/tsa_model.py:473: ValueWarning: No frequency information was provided, so inferred frequency MS will be used.\n",
            "  self._init_dates(dates, freq)\n",
            "/usr/local/lib/python3.11/dist-packages/statsmodels/tsa/statespace/sarimax.py:866: UserWarning: Too few observations to estimate starting parameters for seasonal ARMA. All parameters except for variances will be set to zeros.\n",
            "  warn('Too few observations to estimate starting parameters%s.'\n",
            "/usr/local/lib/python3.11/dist-packages/statsmodels/tsa/statespace/mlemodel.py:1235: RuntimeWarning: invalid value encountered in divide\n",
            "  np.inner(score_obs, score_obs) /\n",
            "/usr/local/lib/python3.11/dist-packages/statsmodels/tsa/base/tsa_model.py:473: ValueWarning: No frequency information was provided, so inferred frequency MS will be used.\n",
            "  self._init_dates(dates, freq)\n",
            "/usr/local/lib/python3.11/dist-packages/statsmodels/tsa/base/tsa_model.py:473: ValueWarning: No frequency information was provided, so inferred frequency MS will be used.\n",
            "  self._init_dates(dates, freq)\n",
            "/usr/local/lib/python3.11/dist-packages/statsmodels/tsa/statespace/sarimax.py:866: UserWarning: Too few observations to estimate starting parameters for seasonal ARMA. All parameters except for variances will be set to zeros.\n",
            "  warn('Too few observations to estimate starting parameters%s.'\n"
          ]
        },
        {
          "output_type": "stream",
          "name": "stdout",
          "text": [
            "SARIMA forecast for {'State': 'NV', 'Segment': 'SBG_MEW'} completed\n",
            "SARIMA forecast for {'State': 'NY', 'Segment': 'SBG_MEW'} completed\n",
            "SARIMA forecast for {'State': 'OH', 'Segment': 'SBG_MEW'} completed\n",
            "SARIMA forecast for {'State': 'VA', 'Segment': 'SBG_MEW'} completed\n",
            "SARIMA forecast for {'State': 'WI', 'Segment': 'SBG_MEW'} completed\n"
          ]
        },
        {
          "output_type": "stream",
          "name": "stderr",
          "text": [
            "/usr/local/lib/python3.11/dist-packages/statsmodels/tsa/statespace/mlemodel.py:1235: RuntimeWarning: invalid value encountered in divide\n",
            "  np.inner(score_obs, score_obs) /\n",
            "/usr/local/lib/python3.11/dist-packages/statsmodels/tsa/base/tsa_model.py:473: ValueWarning: No frequency information was provided, so inferred frequency MS will be used.\n",
            "  self._init_dates(dates, freq)\n",
            "/usr/local/lib/python3.11/dist-packages/statsmodels/tsa/base/tsa_model.py:473: ValueWarning: No frequency information was provided, so inferred frequency MS will be used.\n",
            "  self._init_dates(dates, freq)\n",
            "/usr/local/lib/python3.11/dist-packages/statsmodels/tsa/statespace/sarimax.py:866: UserWarning: Too few observations to estimate starting parameters for seasonal ARMA. All parameters except for variances will be set to zeros.\n",
            "  warn('Too few observations to estimate starting parameters%s.'\n",
            "/usr/local/lib/python3.11/dist-packages/statsmodels/tsa/statespace/mlemodel.py:1235: RuntimeWarning: invalid value encountered in divide\n",
            "  np.inner(score_obs, score_obs) /\n",
            "/usr/local/lib/python3.11/dist-packages/statsmodels/tsa/base/tsa_model.py:473: ValueWarning: No frequency information was provided, so inferred frequency MS will be used.\n",
            "  self._init_dates(dates, freq)\n",
            "/usr/local/lib/python3.11/dist-packages/statsmodels/tsa/base/tsa_model.py:473: ValueWarning: No frequency information was provided, so inferred frequency MS will be used.\n",
            "  self._init_dates(dates, freq)\n",
            "/usr/local/lib/python3.11/dist-packages/statsmodels/tsa/statespace/sarimax.py:866: UserWarning: Too few observations to estimate starting parameters for seasonal ARMA. All parameters except for variances will be set to zeros.\n",
            "  warn('Too few observations to estimate starting parameters%s.'\n",
            "/usr/local/lib/python3.11/dist-packages/statsmodels/tsa/statespace/mlemodel.py:1235: RuntimeWarning: invalid value encountered in divide\n",
            "  np.inner(score_obs, score_obs) /\n",
            "/usr/local/lib/python3.11/dist-packages/statsmodels/tsa/base/tsa_model.py:473: ValueWarning: No frequency information was provided, so inferred frequency MS will be used.\n",
            "  self._init_dates(dates, freq)\n",
            "/usr/local/lib/python3.11/dist-packages/statsmodels/tsa/base/tsa_model.py:473: ValueWarning: No frequency information was provided, so inferred frequency MS will be used.\n",
            "  self._init_dates(dates, freq)\n",
            "/usr/local/lib/python3.11/dist-packages/statsmodels/tsa/statespace/sarimax.py:866: UserWarning: Too few observations to estimate starting parameters for seasonal ARMA. All parameters except for variances will be set to zeros.\n",
            "  warn('Too few observations to estimate starting parameters%s.'\n",
            "/usr/local/lib/python3.11/dist-packages/statsmodels/tsa/statespace/mlemodel.py:1235: RuntimeWarning: invalid value encountered in divide\n",
            "  np.inner(score_obs, score_obs) /\n",
            "/usr/local/lib/python3.11/dist-packages/statsmodels/tsa/base/tsa_model.py:473: ValueWarning: No frequency information was provided, so inferred frequency MS will be used.\n",
            "  self._init_dates(dates, freq)\n",
            "/usr/local/lib/python3.11/dist-packages/statsmodels/tsa/base/tsa_model.py:473: ValueWarning: No frequency information was provided, so inferred frequency MS will be used.\n",
            "  self._init_dates(dates, freq)\n",
            "/usr/local/lib/python3.11/dist-packages/statsmodels/tsa/statespace/sarimax.py:866: UserWarning: Too few observations to estimate starting parameters for seasonal ARMA. All parameters except for variances will be set to zeros.\n",
            "  warn('Too few observations to estimate starting parameters%s.'\n",
            "/usr/local/lib/python3.11/dist-packages/statsmodels/tsa/statespace/mlemodel.py:1235: RuntimeWarning: invalid value encountered in divide\n",
            "  np.inner(score_obs, score_obs) /\n"
          ]
        },
        {
          "output_type": "stream",
          "name": "stdout",
          "text": [
            "SARIMA forecast for {'State': 'CA_HMO', 'Segment': 'LGP_SHP'} completed\n",
            "SARIMA forecast for {'State': 'CA_PPO', 'Segment': 'LGP_SHP'} completed\n",
            "SARIMA forecast for {'State': 'CO', 'Segment': 'LGP_SHP'} completed\n",
            "SARIMA forecast for {'State': 'CT', 'Segment': 'LGP_SHP'} completed\n",
            "SARIMA forecast for {'State': 'GA', 'Segment': 'LGP_SHP'} completed\n"
          ]
        },
        {
          "output_type": "stream",
          "name": "stderr",
          "text": [
            "/usr/local/lib/python3.11/dist-packages/statsmodels/tsa/base/tsa_model.py:473: ValueWarning: No frequency information was provided, so inferred frequency MS will be used.\n",
            "  self._init_dates(dates, freq)\n",
            "/usr/local/lib/python3.11/dist-packages/statsmodels/tsa/base/tsa_model.py:473: ValueWarning: No frequency information was provided, so inferred frequency MS will be used.\n",
            "  self._init_dates(dates, freq)\n",
            "/usr/local/lib/python3.11/dist-packages/statsmodels/tsa/statespace/sarimax.py:866: UserWarning: Too few observations to estimate starting parameters for seasonal ARMA. All parameters except for variances will be set to zeros.\n",
            "  warn('Too few observations to estimate starting parameters%s.'\n",
            "/usr/local/lib/python3.11/dist-packages/statsmodels/tsa/statespace/mlemodel.py:1235: RuntimeWarning: invalid value encountered in divide\n",
            "  np.inner(score_obs, score_obs) /\n",
            "/usr/local/lib/python3.11/dist-packages/statsmodels/tsa/base/tsa_model.py:473: ValueWarning: No frequency information was provided, so inferred frequency MS will be used.\n",
            "  self._init_dates(dates, freq)\n",
            "/usr/local/lib/python3.11/dist-packages/statsmodels/tsa/base/tsa_model.py:473: ValueWarning: No frequency information was provided, so inferred frequency MS will be used.\n",
            "  self._init_dates(dates, freq)\n",
            "/usr/local/lib/python3.11/dist-packages/statsmodels/tsa/statespace/sarimax.py:866: UserWarning: Too few observations to estimate starting parameters for seasonal ARMA. All parameters except for variances will be set to zeros.\n",
            "  warn('Too few observations to estimate starting parameters%s.'\n",
            "/usr/local/lib/python3.11/dist-packages/statsmodels/tsa/statespace/mlemodel.py:1235: RuntimeWarning: invalid value encountered in divide\n",
            "  np.inner(score_obs, score_obs) /\n",
            "/usr/local/lib/python3.11/dist-packages/statsmodels/tsa/base/tsa_model.py:473: ValueWarning: No frequency information was provided, so inferred frequency MS will be used.\n",
            "  self._init_dates(dates, freq)\n",
            "/usr/local/lib/python3.11/dist-packages/statsmodels/tsa/base/tsa_model.py:473: ValueWarning: No frequency information was provided, so inferred frequency MS will be used.\n",
            "  self._init_dates(dates, freq)\n",
            "/usr/local/lib/python3.11/dist-packages/statsmodels/tsa/statespace/sarimax.py:866: UserWarning: Too few observations to estimate starting parameters for seasonal ARMA. All parameters except for variances will be set to zeros.\n",
            "  warn('Too few observations to estimate starting parameters%s.'\n",
            "/usr/local/lib/python3.11/dist-packages/statsmodels/tsa/statespace/mlemodel.py:1235: RuntimeWarning: invalid value encountered in divide\n",
            "  np.inner(score_obs, score_obs) /\n",
            "/usr/local/lib/python3.11/dist-packages/statsmodels/tsa/base/tsa_model.py:473: ValueWarning: No frequency information was provided, so inferred frequency MS will be used.\n",
            "  self._init_dates(dates, freq)\n",
            "/usr/local/lib/python3.11/dist-packages/statsmodels/tsa/base/tsa_model.py:473: ValueWarning: No frequency information was provided, so inferred frequency MS will be used.\n",
            "  self._init_dates(dates, freq)\n",
            "/usr/local/lib/python3.11/dist-packages/statsmodels/tsa/statespace/sarimax.py:866: UserWarning: Too few observations to estimate starting parameters for seasonal ARMA. All parameters except for variances will be set to zeros.\n",
            "  warn('Too few observations to estimate starting parameters%s.'\n",
            "/usr/local/lib/python3.11/dist-packages/statsmodels/tsa/statespace/mlemodel.py:1235: RuntimeWarning: invalid value encountered in divide\n",
            "  np.inner(score_obs, score_obs) /\n",
            "/usr/local/lib/python3.11/dist-packages/statsmodels/tsa/base/tsa_model.py:473: ValueWarning: No frequency information was provided, so inferred frequency MS will be used.\n",
            "  self._init_dates(dates, freq)\n",
            "/usr/local/lib/python3.11/dist-packages/statsmodels/tsa/base/tsa_model.py:473: ValueWarning: No frequency information was provided, so inferred frequency MS will be used.\n",
            "  self._init_dates(dates, freq)\n",
            "/usr/local/lib/python3.11/dist-packages/statsmodels/tsa/statespace/sarimax.py:866: UserWarning: Too few observations to estimate starting parameters for seasonal ARMA. All parameters except for variances will be set to zeros.\n",
            "  warn('Too few observations to estimate starting parameters%s.'\n",
            "/usr/local/lib/python3.11/dist-packages/statsmodels/tsa/statespace/mlemodel.py:1235: RuntimeWarning: invalid value encountered in divide\n",
            "  np.inner(score_obs, score_obs) /\n",
            "/usr/local/lib/python3.11/dist-packages/statsmodels/tsa/base/tsa_model.py:473: ValueWarning: No frequency information was provided, so inferred frequency MS will be used.\n",
            "  self._init_dates(dates, freq)\n",
            "/usr/local/lib/python3.11/dist-packages/statsmodels/tsa/base/tsa_model.py:473: ValueWarning: No frequency information was provided, so inferred frequency MS will be used.\n",
            "  self._init_dates(dates, freq)\n",
            "/usr/local/lib/python3.11/dist-packages/statsmodels/tsa/statespace/sarimax.py:866: UserWarning: Too few observations to estimate starting parameters for seasonal ARMA. All parameters except for variances will be set to zeros.\n",
            "  warn('Too few observations to estimate starting parameters%s.'\n"
          ]
        },
        {
          "output_type": "stream",
          "name": "stdout",
          "text": [
            "SARIMA forecast for {'State': 'IN', 'Segment': 'LGP_SHP'} completed\n",
            "SARIMA forecast for {'State': 'KY', 'Segment': 'LGP_SHP'} completed\n",
            "SARIMA forecast for {'State': 'ME', 'Segment': 'LGP_SHP'} completed\n",
            "SARIMA forecast for {'State': 'MO', 'Segment': 'LGP_SHP'} completed\n",
            "SARIMA forecast for {'State': 'NH', 'Segment': 'LGP_SHP'} completed\n",
            "SARIMA forecast for {'State': 'NV', 'Segment': 'LGP_SHP'} completed\n"
          ]
        },
        {
          "output_type": "stream",
          "name": "stderr",
          "text": [
            "/usr/local/lib/python3.11/dist-packages/statsmodels/tsa/statespace/mlemodel.py:1235: RuntimeWarning: invalid value encountered in divide\n",
            "  np.inner(score_obs, score_obs) /\n",
            "/usr/local/lib/python3.11/dist-packages/statsmodels/tsa/base/tsa_model.py:473: ValueWarning: No frequency information was provided, so inferred frequency MS will be used.\n",
            "  self._init_dates(dates, freq)\n",
            "/usr/local/lib/python3.11/dist-packages/statsmodels/tsa/base/tsa_model.py:473: ValueWarning: No frequency information was provided, so inferred frequency MS will be used.\n",
            "  self._init_dates(dates, freq)\n",
            "/usr/local/lib/python3.11/dist-packages/statsmodels/tsa/statespace/sarimax.py:866: UserWarning: Too few observations to estimate starting parameters for seasonal ARMA. All parameters except for variances will be set to zeros.\n",
            "  warn('Too few observations to estimate starting parameters%s.'\n",
            "/usr/local/lib/python3.11/dist-packages/statsmodels/tsa/statespace/mlemodel.py:1235: RuntimeWarning: invalid value encountered in divide\n",
            "  np.inner(score_obs, score_obs) /\n",
            "/usr/local/lib/python3.11/dist-packages/statsmodels/tsa/base/tsa_model.py:473: ValueWarning: No frequency information was provided, so inferred frequency MS will be used.\n",
            "  self._init_dates(dates, freq)\n",
            "/usr/local/lib/python3.11/dist-packages/statsmodels/tsa/base/tsa_model.py:473: ValueWarning: No frequency information was provided, so inferred frequency MS will be used.\n",
            "  self._init_dates(dates, freq)\n",
            "/usr/local/lib/python3.11/dist-packages/statsmodels/tsa/statespace/sarimax.py:866: UserWarning: Too few observations to estimate starting parameters for seasonal ARMA. All parameters except for variances will be set to zeros.\n",
            "  warn('Too few observations to estimate starting parameters%s.'\n",
            "/usr/local/lib/python3.11/dist-packages/statsmodels/tsa/statespace/mlemodel.py:1235: RuntimeWarning: invalid value encountered in divide\n",
            "  np.inner(score_obs, score_obs) /\n",
            "/usr/local/lib/python3.11/dist-packages/statsmodels/tsa/base/tsa_model.py:473: ValueWarning: No frequency information was provided, so inferred frequency MS will be used.\n",
            "  self._init_dates(dates, freq)\n",
            "/usr/local/lib/python3.11/dist-packages/statsmodels/tsa/base/tsa_model.py:473: ValueWarning: No frequency information was provided, so inferred frequency MS will be used.\n",
            "  self._init_dates(dates, freq)\n",
            "/usr/local/lib/python3.11/dist-packages/statsmodels/tsa/statespace/sarimax.py:866: UserWarning: Too few observations to estimate starting parameters for seasonal ARMA. All parameters except for variances will be set to zeros.\n",
            "  warn('Too few observations to estimate starting parameters%s.'\n",
            "/usr/local/lib/python3.11/dist-packages/statsmodels/tsa/statespace/mlemodel.py:1235: RuntimeWarning: invalid value encountered in divide\n",
            "  np.inner(score_obs, score_obs) /\n"
          ]
        },
        {
          "output_type": "stream",
          "name": "stdout",
          "text": [
            "SARIMA forecast for {'State': 'NY', 'Segment': 'LGP_SHP'} completed\n",
            "SARIMA forecast for {'State': 'OH', 'Segment': 'LGP_SHP'} completed\n",
            "SARIMA forecast for {'State': 'VA', 'Segment': 'LGP_SHP'} completed\n",
            "SARIMA forecast for {'State': 'WI', 'Segment': 'LGP_SHP'} completed\n",
            "SARIMA forecast for {'State': 'CA_HMO', 'Segment': 'LGP_NRF'} completed\n",
            "SARIMA forecast for {'State': 'CA_PPO', 'Segment': 'LGP_NRF'} completed\n",
            "SARIMA forecast for {'State': 'CO', 'Segment': 'LGP_NRF'} completed\n",
            "SARIMA forecast for {'State': 'CT', 'Segment': 'LGP_NRF'} completed\n"
          ]
        },
        {
          "output_type": "stream",
          "name": "stderr",
          "text": [
            "/usr/local/lib/python3.11/dist-packages/statsmodels/tsa/base/tsa_model.py:473: ValueWarning: No frequency information was provided, so inferred frequency MS will be used.\n",
            "  self._init_dates(dates, freq)\n",
            "/usr/local/lib/python3.11/dist-packages/statsmodels/tsa/base/tsa_model.py:473: ValueWarning: No frequency information was provided, so inferred frequency MS will be used.\n",
            "  self._init_dates(dates, freq)\n",
            "/usr/local/lib/python3.11/dist-packages/statsmodels/tsa/statespace/sarimax.py:866: UserWarning: Too few observations to estimate starting parameters for seasonal ARMA. All parameters except for variances will be set to zeros.\n",
            "  warn('Too few observations to estimate starting parameters%s.'\n",
            "/usr/local/lib/python3.11/dist-packages/statsmodels/tsa/statespace/mlemodel.py:1235: RuntimeWarning: invalid value encountered in divide\n",
            "  np.inner(score_obs, score_obs) /\n",
            "/usr/local/lib/python3.11/dist-packages/statsmodels/tsa/base/tsa_model.py:473: ValueWarning: No frequency information was provided, so inferred frequency MS will be used.\n",
            "  self._init_dates(dates, freq)\n",
            "/usr/local/lib/python3.11/dist-packages/statsmodels/tsa/base/tsa_model.py:473: ValueWarning: No frequency information was provided, so inferred frequency MS will be used.\n",
            "  self._init_dates(dates, freq)\n",
            "/usr/local/lib/python3.11/dist-packages/statsmodels/tsa/statespace/sarimax.py:866: UserWarning: Too few observations to estimate starting parameters for seasonal ARMA. All parameters except for variances will be set to zeros.\n",
            "  warn('Too few observations to estimate starting parameters%s.'\n",
            "/usr/local/lib/python3.11/dist-packages/statsmodels/tsa/statespace/mlemodel.py:1235: RuntimeWarning: invalid value encountered in divide\n",
            "  np.inner(score_obs, score_obs) /\n",
            "/usr/local/lib/python3.11/dist-packages/statsmodels/tsa/base/tsa_model.py:473: ValueWarning: No frequency information was provided, so inferred frequency MS will be used.\n",
            "  self._init_dates(dates, freq)\n",
            "/usr/local/lib/python3.11/dist-packages/statsmodels/tsa/base/tsa_model.py:473: ValueWarning: No frequency information was provided, so inferred frequency MS will be used.\n",
            "  self._init_dates(dates, freq)\n",
            "/usr/local/lib/python3.11/dist-packages/statsmodels/tsa/statespace/sarimax.py:866: UserWarning: Too few observations to estimate starting parameters for seasonal ARMA. All parameters except for variances will be set to zeros.\n",
            "  warn('Too few observations to estimate starting parameters%s.'\n",
            "/usr/local/lib/python3.11/dist-packages/statsmodels/tsa/statespace/mlemodel.py:1235: RuntimeWarning: invalid value encountered in divide\n",
            "  np.inner(score_obs, score_obs) /\n",
            "/usr/local/lib/python3.11/dist-packages/statsmodels/tsa/base/tsa_model.py:473: ValueWarning: No frequency information was provided, so inferred frequency MS will be used.\n",
            "  self._init_dates(dates, freq)\n",
            "/usr/local/lib/python3.11/dist-packages/statsmodels/tsa/base/tsa_model.py:473: ValueWarning: No frequency information was provided, so inferred frequency MS will be used.\n",
            "  self._init_dates(dates, freq)\n",
            "/usr/local/lib/python3.11/dist-packages/statsmodels/tsa/statespace/sarimax.py:866: UserWarning: Too few observations to estimate starting parameters for seasonal ARMA. All parameters except for variances will be set to zeros.\n",
            "  warn('Too few observations to estimate starting parameters%s.'\n",
            "/usr/local/lib/python3.11/dist-packages/statsmodels/tsa/statespace/mlemodel.py:1235: RuntimeWarning: invalid value encountered in divide\n",
            "  np.inner(score_obs, score_obs) /\n",
            "/usr/local/lib/python3.11/dist-packages/statsmodels/tsa/base/tsa_model.py:473: ValueWarning: No frequency information was provided, so inferred frequency MS will be used.\n",
            "  self._init_dates(dates, freq)\n",
            "/usr/local/lib/python3.11/dist-packages/statsmodels/tsa/base/tsa_model.py:473: ValueWarning: No frequency information was provided, so inferred frequency MS will be used.\n",
            "  self._init_dates(dates, freq)\n",
            "/usr/local/lib/python3.11/dist-packages/statsmodels/tsa/statespace/sarimax.py:866: UserWarning: Too few observations to estimate starting parameters for seasonal ARMA. All parameters except for variances will be set to zeros.\n",
            "  warn('Too few observations to estimate starting parameters%s.'\n",
            "/usr/local/lib/python3.11/dist-packages/statsmodels/tsa/statespace/mlemodel.py:1235: RuntimeWarning: invalid value encountered in divide\n",
            "  np.inner(score_obs, score_obs) /\n",
            "/usr/local/lib/python3.11/dist-packages/statsmodels/tsa/base/tsa_model.py:473: ValueWarning: No frequency information was provided, so inferred frequency MS will be used.\n",
            "  self._init_dates(dates, freq)\n",
            "/usr/local/lib/python3.11/dist-packages/statsmodels/tsa/base/tsa_model.py:473: ValueWarning: No frequency information was provided, so inferred frequency MS will be used.\n",
            "  self._init_dates(dates, freq)\n",
            "/usr/local/lib/python3.11/dist-packages/statsmodels/tsa/statespace/sarimax.py:866: UserWarning: Too few observations to estimate starting parameters for seasonal ARMA. All parameters except for variances will be set to zeros.\n",
            "  warn('Too few observations to estimate starting parameters%s.'\n",
            "/usr/local/lib/python3.11/dist-packages/statsmodels/tsa/statespace/mlemodel.py:1235: RuntimeWarning: invalid value encountered in divide\n",
            "  np.inner(score_obs, score_obs) /\n",
            "/usr/local/lib/python3.11/dist-packages/statsmodels/tsa/base/tsa_model.py:473: ValueWarning: No frequency information was provided, so inferred frequency MS will be used.\n",
            "  self._init_dates(dates, freq)\n",
            "/usr/local/lib/python3.11/dist-packages/statsmodels/tsa/base/tsa_model.py:473: ValueWarning: No frequency information was provided, so inferred frequency MS will be used.\n",
            "  self._init_dates(dates, freq)\n",
            "/usr/local/lib/python3.11/dist-packages/statsmodels/tsa/statespace/sarimax.py:866: UserWarning: Too few observations to estimate starting parameters for seasonal ARMA. All parameters except for variances will be set to zeros.\n",
            "  warn('Too few observations to estimate starting parameters%s.'\n",
            "/usr/local/lib/python3.11/dist-packages/statsmodels/tsa/statespace/mlemodel.py:1235: RuntimeWarning: invalid value encountered in divide\n",
            "  np.inner(score_obs, score_obs) /\n",
            "/usr/local/lib/python3.11/dist-packages/statsmodels/tsa/base/tsa_model.py:473: ValueWarning: No frequency information was provided, so inferred frequency MS will be used.\n",
            "  self._init_dates(dates, freq)\n",
            "/usr/local/lib/python3.11/dist-packages/statsmodels/tsa/base/tsa_model.py:473: ValueWarning: No frequency information was provided, so inferred frequency MS will be used.\n",
            "  self._init_dates(dates, freq)\n",
            "/usr/local/lib/python3.11/dist-packages/statsmodels/tsa/statespace/sarimax.py:866: UserWarning: Too few observations to estimate starting parameters for seasonal ARMA. All parameters except for variances will be set to zeros.\n",
            "  warn('Too few observations to estimate starting parameters%s.'\n",
            "/usr/local/lib/python3.11/dist-packages/statsmodels/tsa/statespace/mlemodel.py:1235: RuntimeWarning: invalid value encountered in divide\n",
            "  np.inner(score_obs, score_obs) /\n",
            "/usr/local/lib/python3.11/dist-packages/statsmodels/tsa/base/tsa_model.py:473: ValueWarning: No frequency information was provided, so inferred frequency MS will be used.\n",
            "  self._init_dates(dates, freq)\n",
            "/usr/local/lib/python3.11/dist-packages/statsmodels/tsa/base/tsa_model.py:473: ValueWarning: No frequency information was provided, so inferred frequency MS will be used.\n",
            "  self._init_dates(dates, freq)\n",
            "/usr/local/lib/python3.11/dist-packages/statsmodels/tsa/statespace/sarimax.py:866: UserWarning: Too few observations to estimate starting parameters for seasonal ARMA. All parameters except for variances will be set to zeros.\n",
            "  warn('Too few observations to estimate starting parameters%s.'\n",
            "/usr/local/lib/python3.11/dist-packages/statsmodels/tsa/statespace/mlemodel.py:1235: RuntimeWarning: invalid value encountered in divide\n",
            "  np.inner(score_obs, score_obs) /\n",
            "/usr/local/lib/python3.11/dist-packages/statsmodels/tsa/base/tsa_model.py:473: ValueWarning: No frequency information was provided, so inferred frequency MS will be used.\n",
            "  self._init_dates(dates, freq)\n",
            "/usr/local/lib/python3.11/dist-packages/statsmodels/tsa/base/tsa_model.py:473: ValueWarning: No frequency information was provided, so inferred frequency MS will be used.\n",
            "  self._init_dates(dates, freq)\n",
            "/usr/local/lib/python3.11/dist-packages/statsmodels/tsa/statespace/sarimax.py:866: UserWarning: Too few observations to estimate starting parameters for seasonal ARMA. All parameters except for variances will be set to zeros.\n",
            "  warn('Too few observations to estimate starting parameters%s.'\n",
            "/usr/local/lib/python3.11/dist-packages/statsmodels/tsa/statespace/mlemodel.py:1235: RuntimeWarning: invalid value encountered in divide\n",
            "  np.inner(score_obs, score_obs) /\n",
            "/usr/local/lib/python3.11/dist-packages/statsmodels/tsa/base/tsa_model.py:473: ValueWarning: No frequency information was provided, so inferred frequency MS will be used.\n",
            "  self._init_dates(dates, freq)\n",
            "/usr/local/lib/python3.11/dist-packages/statsmodels/tsa/base/tsa_model.py:473: ValueWarning: No frequency information was provided, so inferred frequency MS will be used.\n",
            "  self._init_dates(dates, freq)\n",
            "/usr/local/lib/python3.11/dist-packages/statsmodels/tsa/statespace/sarimax.py:866: UserWarning: Too few observations to estimate starting parameters for seasonal ARMA. All parameters except for variances will be set to zeros.\n",
            "  warn('Too few observations to estimate starting parameters%s.'\n",
            "/usr/local/lib/python3.11/dist-packages/statsmodels/tsa/statespace/mlemodel.py:1235: RuntimeWarning: invalid value encountered in divide\n",
            "  np.inner(score_obs, score_obs) /\n",
            "/usr/local/lib/python3.11/dist-packages/statsmodels/tsa/base/tsa_model.py:473: ValueWarning: No frequency information was provided, so inferred frequency MS will be used.\n",
            "  self._init_dates(dates, freq)\n",
            "/usr/local/lib/python3.11/dist-packages/statsmodels/tsa/base/tsa_model.py:473: ValueWarning: No frequency information was provided, so inferred frequency MS will be used.\n",
            "  self._init_dates(dates, freq)\n",
            "/usr/local/lib/python3.11/dist-packages/statsmodels/tsa/statespace/sarimax.py:866: UserWarning: Too few observations to estimate starting parameters for seasonal ARMA. All parameters except for variances will be set to zeros.\n",
            "  warn('Too few observations to estimate starting parameters%s.'\n",
            "/usr/local/lib/python3.11/dist-packages/statsmodels/tsa/statespace/mlemodel.py:1235: RuntimeWarning: invalid value encountered in divide\n",
            "  np.inner(score_obs, score_obs) /\n",
            "/usr/local/lib/python3.11/dist-packages/statsmodels/tsa/base/tsa_model.py:473: ValueWarning: No frequency information was provided, so inferred frequency MS will be used.\n",
            "  self._init_dates(dates, freq)\n",
            "/usr/local/lib/python3.11/dist-packages/statsmodels/tsa/base/tsa_model.py:473: ValueWarning: No frequency information was provided, so inferred frequency MS will be used.\n",
            "  self._init_dates(dates, freq)\n",
            "/usr/local/lib/python3.11/dist-packages/statsmodels/tsa/statespace/sarimax.py:866: UserWarning: Too few observations to estimate starting parameters for seasonal ARMA. All parameters except for variances will be set to zeros.\n",
            "  warn('Too few observations to estimate starting parameters%s.'\n",
            "/usr/local/lib/python3.11/dist-packages/statsmodels/tsa/statespace/mlemodel.py:1235: RuntimeWarning: invalid value encountered in divide\n",
            "  np.inner(score_obs, score_obs) /\n",
            "/usr/local/lib/python3.11/dist-packages/statsmodels/tsa/base/tsa_model.py:473: ValueWarning: No frequency information was provided, so inferred frequency MS will be used.\n",
            "  self._init_dates(dates, freq)\n",
            "/usr/local/lib/python3.11/dist-packages/statsmodels/tsa/base/tsa_model.py:473: ValueWarning: No frequency information was provided, so inferred frequency MS will be used.\n",
            "  self._init_dates(dates, freq)\n",
            "/usr/local/lib/python3.11/dist-packages/statsmodels/tsa/statespace/sarimax.py:866: UserWarning: Too few observations to estimate starting parameters for seasonal ARMA. All parameters except for variances will be set to zeros.\n",
            "  warn('Too few observations to estimate starting parameters%s.'\n",
            "/usr/local/lib/python3.11/dist-packages/statsmodels/tsa/statespace/mlemodel.py:1235: RuntimeWarning: invalid value encountered in divide\n",
            "  np.inner(score_obs, score_obs) /\n"
          ]
        },
        {
          "output_type": "stream",
          "name": "stdout",
          "text": [
            "SARIMA forecast for {'State': 'GA', 'Segment': 'LGP_NRF'} completed\n",
            "SARIMA forecast for {'State': 'IN', 'Segment': 'LGP_NRF'} completed\n",
            "SARIMA forecast for {'State': 'KY', 'Segment': 'LGP_NRF'} completed\n",
            "SARIMA forecast for {'State': 'ME', 'Segment': 'LGP_NRF'} completed\n",
            "SARIMA forecast for {'State': 'MO', 'Segment': 'LGP_NRF'} completed\n",
            "SARIMA forecast for {'State': 'NH', 'Segment': 'LGP_NRF'} completed\n",
            "SARIMA forecast for {'State': 'NV', 'Segment': 'LGP_NRF'} completed\n",
            "SARIMA forecast for {'State': 'NY', 'Segment': 'LGP_NRF'} completed\n"
          ]
        },
        {
          "output_type": "stream",
          "name": "stderr",
          "text": [
            "/usr/local/lib/python3.11/dist-packages/statsmodels/tsa/base/tsa_model.py:473: ValueWarning: No frequency information was provided, so inferred frequency MS will be used.\n",
            "  self._init_dates(dates, freq)\n",
            "/usr/local/lib/python3.11/dist-packages/statsmodels/tsa/base/tsa_model.py:473: ValueWarning: No frequency information was provided, so inferred frequency MS will be used.\n",
            "  self._init_dates(dates, freq)\n",
            "/usr/local/lib/python3.11/dist-packages/statsmodels/tsa/statespace/sarimax.py:866: UserWarning: Too few observations to estimate starting parameters for seasonal ARMA. All parameters except for variances will be set to zeros.\n",
            "  warn('Too few observations to estimate starting parameters%s.'\n",
            "/usr/local/lib/python3.11/dist-packages/statsmodels/tsa/statespace/mlemodel.py:1235: RuntimeWarning: invalid value encountered in divide\n",
            "  np.inner(score_obs, score_obs) /\n",
            "/usr/local/lib/python3.11/dist-packages/statsmodels/tsa/base/tsa_model.py:473: ValueWarning: No frequency information was provided, so inferred frequency MS will be used.\n",
            "  self._init_dates(dates, freq)\n",
            "/usr/local/lib/python3.11/dist-packages/statsmodels/tsa/base/tsa_model.py:473: ValueWarning: No frequency information was provided, so inferred frequency MS will be used.\n",
            "  self._init_dates(dates, freq)\n",
            "/usr/local/lib/python3.11/dist-packages/statsmodels/tsa/statespace/sarimax.py:866: UserWarning: Too few observations to estimate starting parameters for seasonal ARMA. All parameters except for variances will be set to zeros.\n",
            "  warn('Too few observations to estimate starting parameters%s.'\n",
            "/usr/local/lib/python3.11/dist-packages/statsmodels/tsa/statespace/mlemodel.py:1235: RuntimeWarning: invalid value encountered in divide\n",
            "  np.inner(score_obs, score_obs) /\n",
            "/usr/local/lib/python3.11/dist-packages/statsmodels/tsa/base/tsa_model.py:473: ValueWarning: No frequency information was provided, so inferred frequency MS will be used.\n",
            "  self._init_dates(dates, freq)\n",
            "/usr/local/lib/python3.11/dist-packages/statsmodels/tsa/base/tsa_model.py:473: ValueWarning: No frequency information was provided, so inferred frequency MS will be used.\n",
            "  self._init_dates(dates, freq)\n",
            "/usr/local/lib/python3.11/dist-packages/statsmodels/tsa/statespace/sarimax.py:866: UserWarning: Too few observations to estimate starting parameters for seasonal ARMA. All parameters except for variances will be set to zeros.\n",
            "  warn('Too few observations to estimate starting parameters%s.'\n",
            "/usr/local/lib/python3.11/dist-packages/statsmodels/tsa/statespace/mlemodel.py:1235: RuntimeWarning: invalid value encountered in divide\n",
            "  np.inner(score_obs, score_obs) /\n",
            "INFO:prophet:n_changepoints greater than number of observations. Using 19.\n",
            "DEBUG:cmdstanpy:input tempfile: /tmp/tmpfdntuhgz/fc0hu5kk.json\n",
            "DEBUG:cmdstanpy:input tempfile: /tmp/tmpfdntuhgz/d3bc40_s.json\n",
            "DEBUG:cmdstanpy:idx 0\n",
            "DEBUG:cmdstanpy:running CmdStan, num_threads: None\n",
            "DEBUG:cmdstanpy:CmdStan args: ['/usr/local/lib/python3.11/dist-packages/prophet/stan_model/prophet_model.bin', 'random', 'seed=40767', 'data', 'file=/tmp/tmpfdntuhgz/fc0hu5kk.json', 'init=/tmp/tmpfdntuhgz/d3bc40_s.json', 'output', 'file=/tmp/tmpfdntuhgz/prophet_modelk0u9db3q/prophet_model-20250407025638.csv', 'method=optimize', 'algorithm=newton', 'iter=10000']\n",
            "02:56:38 - cmdstanpy - INFO - Chain [1] start processing\n",
            "INFO:cmdstanpy:Chain [1] start processing\n"
          ]
        },
        {
          "output_type": "stream",
          "name": "stdout",
          "text": [
            "SARIMA forecast for {'State': 'OH', 'Segment': 'LGP_NRF'} completed\n",
            "SARIMA forecast for {'State': 'VA', 'Segment': 'LGP_NRF'} completed\n",
            "SARIMA forecast for {'State': 'WI', 'Segment': 'LGP_NRF'} completed\n",
            "SARIMA forecasting completed for 108 out of 108 groups\n",
            "Training Prophet model for Med-Total\n",
            "Starting Prophet forecasts for 108 groups\n"
          ]
        },
        {
          "output_type": "stream",
          "name": "stderr",
          "text": [
            "02:56:38 - cmdstanpy - INFO - Chain [1] done processing\n",
            "INFO:cmdstanpy:Chain [1] done processing\n",
            "INFO:prophet:n_changepoints greater than number of observations. Using 19.\n",
            "DEBUG:cmdstanpy:input tempfile: /tmp/tmpfdntuhgz/lxla2wlt.json\n",
            "DEBUG:cmdstanpy:input tempfile: /tmp/tmpfdntuhgz/9i1_q_14.json\n",
            "DEBUG:cmdstanpy:idx 0\n",
            "DEBUG:cmdstanpy:running CmdStan, num_threads: None\n",
            "DEBUG:cmdstanpy:CmdStan args: ['/usr/local/lib/python3.11/dist-packages/prophet/stan_model/prophet_model.bin', 'random', 'seed=52916', 'data', 'file=/tmp/tmpfdntuhgz/lxla2wlt.json', 'init=/tmp/tmpfdntuhgz/9i1_q_14.json', 'output', 'file=/tmp/tmpfdntuhgz/prophet_modelehdxy3wl/prophet_model-20250407025638.csv', 'method=optimize', 'algorithm=newton', 'iter=10000']\n",
            "02:56:38 - cmdstanpy - INFO - Chain [1] start processing\n",
            "INFO:cmdstanpy:Chain [1] start processing\n"
          ]
        },
        {
          "output_type": "stream",
          "name": "stdout",
          "text": [
            "Prophet forecast for {'State': 'CA_HMO', 'Segment': 'IND_ACA'} completed\n"
          ]
        },
        {
          "output_type": "stream",
          "name": "stderr",
          "text": [
            "02:56:39 - cmdstanpy - INFO - Chain [1] done processing\n",
            "INFO:cmdstanpy:Chain [1] done processing\n",
            "INFO:prophet:n_changepoints greater than number of observations. Using 19.\n",
            "DEBUG:cmdstanpy:input tempfile: /tmp/tmpfdntuhgz/ed29h3um.json\n",
            "DEBUG:cmdstanpy:input tempfile: /tmp/tmpfdntuhgz/x3w2jukg.json\n",
            "DEBUG:cmdstanpy:idx 0\n",
            "DEBUG:cmdstanpy:running CmdStan, num_threads: None\n",
            "DEBUG:cmdstanpy:CmdStan args: ['/usr/local/lib/python3.11/dist-packages/prophet/stan_model/prophet_model.bin', 'random', 'seed=20984', 'data', 'file=/tmp/tmpfdntuhgz/ed29h3um.json', 'init=/tmp/tmpfdntuhgz/x3w2jukg.json', 'output', 'file=/tmp/tmpfdntuhgz/prophet_modelhuzg4an0/prophet_model-20250407025639.csv', 'method=optimize', 'algorithm=newton', 'iter=10000']\n",
            "02:56:39 - cmdstanpy - INFO - Chain [1] start processing\n",
            "INFO:cmdstanpy:Chain [1] start processing\n"
          ]
        },
        {
          "output_type": "stream",
          "name": "stdout",
          "text": [
            "Prophet forecast for {'State': 'CA_PPO', 'Segment': 'IND_ACA'} completed\n"
          ]
        },
        {
          "output_type": "stream",
          "name": "stderr",
          "text": [
            "02:56:57 - cmdstanpy - INFO - Chain [1] done processing\n",
            "INFO:cmdstanpy:Chain [1] done processing\n",
            "INFO:prophet:n_changepoints greater than number of observations. Using 19.\n",
            "DEBUG:cmdstanpy:input tempfile: /tmp/tmpfdntuhgz/ug4hhfnz.json\n",
            "DEBUG:cmdstanpy:input tempfile: /tmp/tmpfdntuhgz/6_m25_h5.json\n",
            "DEBUG:cmdstanpy:idx 0\n",
            "DEBUG:cmdstanpy:running CmdStan, num_threads: None\n",
            "DEBUG:cmdstanpy:CmdStan args: ['/usr/local/lib/python3.11/dist-packages/prophet/stan_model/prophet_model.bin', 'random', 'seed=6949', 'data', 'file=/tmp/tmpfdntuhgz/ug4hhfnz.json', 'init=/tmp/tmpfdntuhgz/6_m25_h5.json', 'output', 'file=/tmp/tmpfdntuhgz/prophet_model3ucf9nt3/prophet_model-20250407025657.csv', 'method=optimize', 'algorithm=newton', 'iter=10000']\n",
            "02:56:57 - cmdstanpy - INFO - Chain [1] start processing\n",
            "INFO:cmdstanpy:Chain [1] start processing\n"
          ]
        },
        {
          "output_type": "stream",
          "name": "stdout",
          "text": [
            "Prophet forecast for {'State': 'CO', 'Segment': 'IND_ACA'} completed\n"
          ]
        },
        {
          "output_type": "stream",
          "name": "stderr",
          "text": [
            "02:56:57 - cmdstanpy - INFO - Chain [1] done processing\n",
            "INFO:cmdstanpy:Chain [1] done processing\n",
            "INFO:prophet:n_changepoints greater than number of observations. Using 19.\n",
            "DEBUG:cmdstanpy:input tempfile: /tmp/tmpfdntuhgz/qzzcyhtq.json\n",
            "DEBUG:cmdstanpy:input tempfile: /tmp/tmpfdntuhgz/y67_tlbh.json\n",
            "DEBUG:cmdstanpy:idx 0\n",
            "DEBUG:cmdstanpy:running CmdStan, num_threads: None\n",
            "DEBUG:cmdstanpy:CmdStan args: ['/usr/local/lib/python3.11/dist-packages/prophet/stan_model/prophet_model.bin', 'random', 'seed=28789', 'data', 'file=/tmp/tmpfdntuhgz/qzzcyhtq.json', 'init=/tmp/tmpfdntuhgz/y67_tlbh.json', 'output', 'file=/tmp/tmpfdntuhgz/prophet_modelsyag8bym/prophet_model-20250407025657.csv', 'method=optimize', 'algorithm=newton', 'iter=10000']\n",
            "02:56:57 - cmdstanpy - INFO - Chain [1] start processing\n",
            "INFO:cmdstanpy:Chain [1] start processing\n"
          ]
        },
        {
          "output_type": "stream",
          "name": "stdout",
          "text": [
            "Prophet forecast for {'State': 'CT', 'Segment': 'IND_ACA'} completed\n"
          ]
        },
        {
          "output_type": "stream",
          "name": "stderr",
          "text": [
            "02:56:58 - cmdstanpy - INFO - Chain [1] done processing\n",
            "INFO:cmdstanpy:Chain [1] done processing\n",
            "INFO:prophet:n_changepoints greater than number of observations. Using 19.\n",
            "DEBUG:cmdstanpy:input tempfile: /tmp/tmpfdntuhgz/md_5me7c.json\n",
            "DEBUG:cmdstanpy:input tempfile: /tmp/tmpfdntuhgz/g1971ghb.json\n",
            "DEBUG:cmdstanpy:idx 0\n",
            "DEBUG:cmdstanpy:running CmdStan, num_threads: None\n",
            "DEBUG:cmdstanpy:CmdStan args: ['/usr/local/lib/python3.11/dist-packages/prophet/stan_model/prophet_model.bin', 'random', 'seed=55429', 'data', 'file=/tmp/tmpfdntuhgz/md_5me7c.json', 'init=/tmp/tmpfdntuhgz/g1971ghb.json', 'output', 'file=/tmp/tmpfdntuhgz/prophet_modeleq7aty68/prophet_model-20250407025658.csv', 'method=optimize', 'algorithm=newton', 'iter=10000']\n",
            "02:56:58 - cmdstanpy - INFO - Chain [1] start processing\n",
            "INFO:cmdstanpy:Chain [1] start processing\n"
          ]
        },
        {
          "output_type": "stream",
          "name": "stdout",
          "text": [
            "Prophet forecast for {'State': 'GA', 'Segment': 'IND_ACA'} completed\n"
          ]
        },
        {
          "output_type": "stream",
          "name": "stderr",
          "text": [
            "02:56:58 - cmdstanpy - INFO - Chain [1] done processing\n",
            "INFO:cmdstanpy:Chain [1] done processing\n",
            "INFO:prophet:n_changepoints greater than number of observations. Using 19.\n",
            "DEBUG:cmdstanpy:input tempfile: /tmp/tmpfdntuhgz/b3kyfhj6.json\n",
            "DEBUG:cmdstanpy:input tempfile: /tmp/tmpfdntuhgz/6_gmao8e.json\n",
            "DEBUG:cmdstanpy:idx 0\n",
            "DEBUG:cmdstanpy:running CmdStan, num_threads: None\n",
            "DEBUG:cmdstanpy:CmdStan args: ['/usr/local/lib/python3.11/dist-packages/prophet/stan_model/prophet_model.bin', 'random', 'seed=97029', 'data', 'file=/tmp/tmpfdntuhgz/b3kyfhj6.json', 'init=/tmp/tmpfdntuhgz/6_gmao8e.json', 'output', 'file=/tmp/tmpfdntuhgz/prophet_modelw3p3kdq1/prophet_model-20250407025658.csv', 'method=optimize', 'algorithm=newton', 'iter=10000']\n",
            "02:56:58 - cmdstanpy - INFO - Chain [1] start processing\n",
            "INFO:cmdstanpy:Chain [1] start processing\n"
          ]
        },
        {
          "output_type": "stream",
          "name": "stdout",
          "text": [
            "Prophet forecast for {'State': 'IN', 'Segment': 'IND_ACA'} completed\n"
          ]
        },
        {
          "output_type": "stream",
          "name": "stderr",
          "text": [
            "02:56:59 - cmdstanpy - INFO - Chain [1] done processing\n",
            "INFO:cmdstanpy:Chain [1] done processing\n",
            "INFO:prophet:n_changepoints greater than number of observations. Using 19.\n",
            "DEBUG:cmdstanpy:input tempfile: /tmp/tmpfdntuhgz/e92a2r_v.json\n",
            "DEBUG:cmdstanpy:input tempfile: /tmp/tmpfdntuhgz/rx0thh72.json\n",
            "DEBUG:cmdstanpy:idx 0\n",
            "DEBUG:cmdstanpy:running CmdStan, num_threads: None\n",
            "DEBUG:cmdstanpy:CmdStan args: ['/usr/local/lib/python3.11/dist-packages/prophet/stan_model/prophet_model.bin', 'random', 'seed=54191', 'data', 'file=/tmp/tmpfdntuhgz/e92a2r_v.json', 'init=/tmp/tmpfdntuhgz/rx0thh72.json', 'output', 'file=/tmp/tmpfdntuhgz/prophet_modelt9077kmq/prophet_model-20250407025659.csv', 'method=optimize', 'algorithm=newton', 'iter=10000']\n",
            "02:56:59 - cmdstanpy - INFO - Chain [1] start processing\n",
            "INFO:cmdstanpy:Chain [1] start processing\n"
          ]
        },
        {
          "output_type": "stream",
          "name": "stdout",
          "text": [
            "Prophet forecast for {'State': 'KY', 'Segment': 'IND_ACA'} completed\n"
          ]
        },
        {
          "output_type": "stream",
          "name": "stderr",
          "text": [
            "02:56:59 - cmdstanpy - INFO - Chain [1] done processing\n",
            "INFO:cmdstanpy:Chain [1] done processing\n",
            "INFO:prophet:n_changepoints greater than number of observations. Using 19.\n",
            "DEBUG:cmdstanpy:input tempfile: /tmp/tmpfdntuhgz/908s7n_1.json\n",
            "DEBUG:cmdstanpy:input tempfile: /tmp/tmpfdntuhgz/4u81g68s.json\n",
            "DEBUG:cmdstanpy:idx 0\n",
            "DEBUG:cmdstanpy:running CmdStan, num_threads: None\n",
            "DEBUG:cmdstanpy:CmdStan args: ['/usr/local/lib/python3.11/dist-packages/prophet/stan_model/prophet_model.bin', 'random', 'seed=86424', 'data', 'file=/tmp/tmpfdntuhgz/908s7n_1.json', 'init=/tmp/tmpfdntuhgz/4u81g68s.json', 'output', 'file=/tmp/tmpfdntuhgz/prophet_modelbwvmmobx/prophet_model-20250407025659.csv', 'method=optimize', 'algorithm=newton', 'iter=10000']\n",
            "02:56:59 - cmdstanpy - INFO - Chain [1] start processing\n",
            "INFO:cmdstanpy:Chain [1] start processing\n"
          ]
        },
        {
          "output_type": "stream",
          "name": "stdout",
          "text": [
            "Prophet forecast for {'State': 'ME', 'Segment': 'IND_ACA'} completed\n"
          ]
        },
        {
          "output_type": "stream",
          "name": "stderr",
          "text": [
            "02:57:16 - cmdstanpy - INFO - Chain [1] done processing\n",
            "INFO:cmdstanpy:Chain [1] done processing\n",
            "INFO:prophet:n_changepoints greater than number of observations. Using 19.\n",
            "DEBUG:cmdstanpy:input tempfile: /tmp/tmpfdntuhgz/_q9cfyah.json\n",
            "DEBUG:cmdstanpy:input tempfile: /tmp/tmpfdntuhgz/l315gazk.json\n",
            "DEBUG:cmdstanpy:idx 0\n",
            "DEBUG:cmdstanpy:running CmdStan, num_threads: None\n",
            "DEBUG:cmdstanpy:CmdStan args: ['/usr/local/lib/python3.11/dist-packages/prophet/stan_model/prophet_model.bin', 'random', 'seed=53733', 'data', 'file=/tmp/tmpfdntuhgz/_q9cfyah.json', 'init=/tmp/tmpfdntuhgz/l315gazk.json', 'output', 'file=/tmp/tmpfdntuhgz/prophet_modelghr7i300/prophet_model-20250407025716.csv', 'method=optimize', 'algorithm=newton', 'iter=10000']\n",
            "02:57:16 - cmdstanpy - INFO - Chain [1] start processing\n",
            "INFO:cmdstanpy:Chain [1] start processing\n"
          ]
        },
        {
          "output_type": "stream",
          "name": "stdout",
          "text": [
            "Prophet forecast for {'State': 'MO', 'Segment': 'IND_ACA'} completed\n"
          ]
        },
        {
          "output_type": "stream",
          "name": "stderr",
          "text": [
            "02:57:16 - cmdstanpy - INFO - Chain [1] done processing\n",
            "INFO:cmdstanpy:Chain [1] done processing\n",
            "INFO:prophet:n_changepoints greater than number of observations. Using 19.\n",
            "DEBUG:cmdstanpy:input tempfile: /tmp/tmpfdntuhgz/e_ce_lo2.json\n",
            "DEBUG:cmdstanpy:input tempfile: /tmp/tmpfdntuhgz/4iaclb4m.json\n",
            "DEBUG:cmdstanpy:idx 0\n",
            "DEBUG:cmdstanpy:running CmdStan, num_threads: None\n",
            "DEBUG:cmdstanpy:CmdStan args: ['/usr/local/lib/python3.11/dist-packages/prophet/stan_model/prophet_model.bin', 'random', 'seed=6268', 'data', 'file=/tmp/tmpfdntuhgz/e_ce_lo2.json', 'init=/tmp/tmpfdntuhgz/4iaclb4m.json', 'output', 'file=/tmp/tmpfdntuhgz/prophet_model0k7l9ds_/prophet_model-20250407025716.csv', 'method=optimize', 'algorithm=newton', 'iter=10000']\n",
            "02:57:16 - cmdstanpy - INFO - Chain [1] start processing\n",
            "INFO:cmdstanpy:Chain [1] start processing\n"
          ]
        },
        {
          "output_type": "stream",
          "name": "stdout",
          "text": [
            "Prophet forecast for {'State': 'NH', 'Segment': 'IND_ACA'} completed\n"
          ]
        },
        {
          "output_type": "stream",
          "name": "stderr",
          "text": [
            "02:57:16 - cmdstanpy - INFO - Chain [1] done processing\n",
            "INFO:cmdstanpy:Chain [1] done processing\n",
            "INFO:prophet:n_changepoints greater than number of observations. Using 19.\n",
            "DEBUG:cmdstanpy:input tempfile: /tmp/tmpfdntuhgz/z6h0qydq.json\n",
            "DEBUG:cmdstanpy:input tempfile: /tmp/tmpfdntuhgz/c8i_wz7k.json\n",
            "DEBUG:cmdstanpy:idx 0\n",
            "DEBUG:cmdstanpy:running CmdStan, num_threads: None\n",
            "DEBUG:cmdstanpy:CmdStan args: ['/usr/local/lib/python3.11/dist-packages/prophet/stan_model/prophet_model.bin', 'random', 'seed=52915', 'data', 'file=/tmp/tmpfdntuhgz/z6h0qydq.json', 'init=/tmp/tmpfdntuhgz/c8i_wz7k.json', 'output', 'file=/tmp/tmpfdntuhgz/prophet_model70vflukn/prophet_model-20250407025716.csv', 'method=optimize', 'algorithm=newton', 'iter=10000']\n",
            "02:57:16 - cmdstanpy - INFO - Chain [1] start processing\n",
            "INFO:cmdstanpy:Chain [1] start processing\n"
          ]
        },
        {
          "output_type": "stream",
          "name": "stdout",
          "text": [
            "Prophet forecast for {'State': 'NV', 'Segment': 'IND_ACA'} completed\n"
          ]
        },
        {
          "output_type": "stream",
          "name": "stderr",
          "text": [
            "02:57:17 - cmdstanpy - INFO - Chain [1] done processing\n",
            "INFO:cmdstanpy:Chain [1] done processing\n",
            "INFO:prophet:n_changepoints greater than number of observations. Using 19.\n",
            "DEBUG:cmdstanpy:input tempfile: /tmp/tmpfdntuhgz/iwcfaci0.json\n",
            "DEBUG:cmdstanpy:input tempfile: /tmp/tmpfdntuhgz/gzww91ww.json\n",
            "DEBUG:cmdstanpy:idx 0\n",
            "DEBUG:cmdstanpy:running CmdStan, num_threads: None\n",
            "DEBUG:cmdstanpy:CmdStan args: ['/usr/local/lib/python3.11/dist-packages/prophet/stan_model/prophet_model.bin', 'random', 'seed=64811', 'data', 'file=/tmp/tmpfdntuhgz/iwcfaci0.json', 'init=/tmp/tmpfdntuhgz/gzww91ww.json', 'output', 'file=/tmp/tmpfdntuhgz/prophet_modelefzmoa3s/prophet_model-20250407025717.csv', 'method=optimize', 'algorithm=newton', 'iter=10000']\n",
            "02:57:17 - cmdstanpy - INFO - Chain [1] start processing\n",
            "INFO:cmdstanpy:Chain [1] start processing\n"
          ]
        },
        {
          "output_type": "stream",
          "name": "stdout",
          "text": [
            "Prophet forecast for {'State': 'NY', 'Segment': 'IND_ACA'} completed\n"
          ]
        },
        {
          "output_type": "stream",
          "name": "stderr",
          "text": [
            "02:57:17 - cmdstanpy - INFO - Chain [1] done processing\n",
            "INFO:cmdstanpy:Chain [1] done processing\n",
            "INFO:prophet:n_changepoints greater than number of observations. Using 19.\n",
            "DEBUG:cmdstanpy:input tempfile: /tmp/tmpfdntuhgz/4rutqmii.json\n",
            "DEBUG:cmdstanpy:input tempfile: /tmp/tmpfdntuhgz/6vycpwn3.json\n",
            "DEBUG:cmdstanpy:idx 0\n",
            "DEBUG:cmdstanpy:running CmdStan, num_threads: None\n",
            "DEBUG:cmdstanpy:CmdStan args: ['/usr/local/lib/python3.11/dist-packages/prophet/stan_model/prophet_model.bin', 'random', 'seed=19545', 'data', 'file=/tmp/tmpfdntuhgz/4rutqmii.json', 'init=/tmp/tmpfdntuhgz/6vycpwn3.json', 'output', 'file=/tmp/tmpfdntuhgz/prophet_model0yi8hf3s/prophet_model-20250407025717.csv', 'method=optimize', 'algorithm=newton', 'iter=10000']\n",
            "02:57:17 - cmdstanpy - INFO - Chain [1] start processing\n",
            "INFO:cmdstanpy:Chain [1] start processing\n"
          ]
        },
        {
          "output_type": "stream",
          "name": "stdout",
          "text": [
            "Prophet forecast for {'State': 'OH', 'Segment': 'IND_ACA'} completed\n"
          ]
        },
        {
          "output_type": "stream",
          "name": "stderr",
          "text": [
            "02:57:17 - cmdstanpy - INFO - Chain [1] done processing\n",
            "INFO:cmdstanpy:Chain [1] done processing\n",
            "INFO:prophet:n_changepoints greater than number of observations. Using 19.\n",
            "DEBUG:cmdstanpy:input tempfile: /tmp/tmpfdntuhgz/k4m7vdyi.json\n",
            "DEBUG:cmdstanpy:input tempfile: /tmp/tmpfdntuhgz/hr31wvtx.json\n",
            "DEBUG:cmdstanpy:idx 0\n",
            "DEBUG:cmdstanpy:running CmdStan, num_threads: None\n",
            "DEBUG:cmdstanpy:CmdStan args: ['/usr/local/lib/python3.11/dist-packages/prophet/stan_model/prophet_model.bin', 'random', 'seed=54902', 'data', 'file=/tmp/tmpfdntuhgz/k4m7vdyi.json', 'init=/tmp/tmpfdntuhgz/hr31wvtx.json', 'output', 'file=/tmp/tmpfdntuhgz/prophet_modelwc5hkt_z/prophet_model-20250407025717.csv', 'method=optimize', 'algorithm=newton', 'iter=10000']\n",
            "02:57:17 - cmdstanpy - INFO - Chain [1] start processing\n",
            "INFO:cmdstanpy:Chain [1] start processing\n"
          ]
        },
        {
          "output_type": "stream",
          "name": "stdout",
          "text": [
            "Prophet forecast for {'State': 'VA', 'Segment': 'IND_ACA'} completed\n"
          ]
        },
        {
          "output_type": "stream",
          "name": "stderr",
          "text": [
            "02:57:35 - cmdstanpy - INFO - Chain [1] done processing\n",
            "INFO:cmdstanpy:Chain [1] done processing\n",
            "INFO:prophet:n_changepoints greater than number of observations. Using 19.\n",
            "INFO:prophet:n_changepoints greater than number of observations. Using 19.\n"
          ]
        },
        {
          "output_type": "stream",
          "name": "stdout",
          "text": [
            "Prophet forecast for {'State': 'WI', 'Segment': 'IND_ACA'} completed\n",
            "Prophet forecast for {'State': 'FL', 'Segment': 'IND_ACA'} completed\n",
            "Prophet forecast for {'State': 'MD', 'Segment': 'IND_ACA'} completed\n"
          ]
        },
        {
          "output_type": "stream",
          "name": "stderr",
          "text": [
            "INFO:prophet:n_changepoints greater than number of observations. Using 19.\n",
            "INFO:prophet:n_changepoints greater than number of observations. Using 19.\n",
            "DEBUG:cmdstanpy:input tempfile: /tmp/tmpfdntuhgz/18q74rds.json\n",
            "DEBUG:cmdstanpy:input tempfile: /tmp/tmpfdntuhgz/xy6kv_sj.json\n",
            "DEBUG:cmdstanpy:idx 0\n",
            "DEBUG:cmdstanpy:running CmdStan, num_threads: None\n",
            "DEBUG:cmdstanpy:CmdStan args: ['/usr/local/lib/python3.11/dist-packages/prophet/stan_model/prophet_model.bin', 'random', 'seed=43347', 'data', 'file=/tmp/tmpfdntuhgz/18q74rds.json', 'init=/tmp/tmpfdntuhgz/xy6kv_sj.json', 'output', 'file=/tmp/tmpfdntuhgz/prophet_modelxqa36s_2/prophet_model-20250407025736.csv', 'method=optimize', 'algorithm=newton', 'iter=10000']\n",
            "02:57:36 - cmdstanpy - INFO - Chain [1] start processing\n",
            "INFO:cmdstanpy:Chain [1] start processing\n"
          ]
        },
        {
          "output_type": "stream",
          "name": "stdout",
          "text": [
            "Prophet forecast for {'State': 'TX', 'Segment': 'IND_ACA'} completed\n"
          ]
        },
        {
          "output_type": "stream",
          "name": "stderr",
          "text": [
            "02:57:36 - cmdstanpy - INFO - Chain [1] done processing\n",
            "INFO:cmdstanpy:Chain [1] done processing\n",
            "INFO:prophet:n_changepoints greater than number of observations. Using 19.\n",
            "DEBUG:cmdstanpy:input tempfile: /tmp/tmpfdntuhgz/vhxhfqia.json\n",
            "DEBUG:cmdstanpy:input tempfile: /tmp/tmpfdntuhgz/eg91cwcr.json\n",
            "DEBUG:cmdstanpy:idx 0\n",
            "DEBUG:cmdstanpy:running CmdStan, num_threads: None\n",
            "DEBUG:cmdstanpy:CmdStan args: ['/usr/local/lib/python3.11/dist-packages/prophet/stan_model/prophet_model.bin', 'random', 'seed=74406', 'data', 'file=/tmp/tmpfdntuhgz/vhxhfqia.json', 'init=/tmp/tmpfdntuhgz/eg91cwcr.json', 'output', 'file=/tmp/tmpfdntuhgz/prophet_model8estc20j/prophet_model-20250407025736.csv', 'method=optimize', 'algorithm=newton', 'iter=10000']\n",
            "02:57:36 - cmdstanpy - INFO - Chain [1] start processing\n",
            "INFO:cmdstanpy:Chain [1] start processing\n",
            "02:57:36 - cmdstanpy - INFO - Chain [1] done processing\n",
            "INFO:cmdstanpy:Chain [1] done processing\n"
          ]
        },
        {
          "output_type": "stream",
          "name": "stdout",
          "text": [
            "Prophet forecast for {'State': 'CA_HMO', 'Segment': 'IND_LEG'} completed\n"
          ]
        },
        {
          "output_type": "stream",
          "name": "stderr",
          "text": [
            "INFO:prophet:n_changepoints greater than number of observations. Using 19.\n",
            "DEBUG:cmdstanpy:input tempfile: /tmp/tmpfdntuhgz/sx1x3zgf.json\n",
            "DEBUG:cmdstanpy:input tempfile: /tmp/tmpfdntuhgz/r5ss4kl5.json\n",
            "DEBUG:cmdstanpy:idx 0\n",
            "DEBUG:cmdstanpy:running CmdStan, num_threads: None\n",
            "DEBUG:cmdstanpy:CmdStan args: ['/usr/local/lib/python3.11/dist-packages/prophet/stan_model/prophet_model.bin', 'random', 'seed=55167', 'data', 'file=/tmp/tmpfdntuhgz/sx1x3zgf.json', 'init=/tmp/tmpfdntuhgz/r5ss4kl5.json', 'output', 'file=/tmp/tmpfdntuhgz/prophet_modelzbrfmdnk/prophet_model-20250407025736.csv', 'method=optimize', 'algorithm=newton', 'iter=10000']\n",
            "02:57:36 - cmdstanpy - INFO - Chain [1] start processing\n",
            "INFO:cmdstanpy:Chain [1] start processing\n",
            "02:57:36 - cmdstanpy - INFO - Chain [1] done processing\n",
            "INFO:cmdstanpy:Chain [1] done processing\n"
          ]
        },
        {
          "output_type": "stream",
          "name": "stdout",
          "text": [
            "Prophet forecast for {'State': 'CA_PPO', 'Segment': 'IND_LEG'} completed\n"
          ]
        },
        {
          "output_type": "stream",
          "name": "stderr",
          "text": [
            "INFO:prophet:n_changepoints greater than number of observations. Using 19.\n",
            "INFO:prophet:n_changepoints greater than number of observations. Using 19.\n",
            "DEBUG:cmdstanpy:input tempfile: /tmp/tmpfdntuhgz/x386h48l.json\n",
            "DEBUG:cmdstanpy:input tempfile: /tmp/tmpfdntuhgz/aryezl1t.json\n",
            "DEBUG:cmdstanpy:idx 0\n",
            "DEBUG:cmdstanpy:running CmdStan, num_threads: None\n",
            "DEBUG:cmdstanpy:CmdStan args: ['/usr/local/lib/python3.11/dist-packages/prophet/stan_model/prophet_model.bin', 'random', 'seed=21360', 'data', 'file=/tmp/tmpfdntuhgz/x386h48l.json', 'init=/tmp/tmpfdntuhgz/aryezl1t.json', 'output', 'file=/tmp/tmpfdntuhgz/prophet_modelg025g0z5/prophet_model-20250407025736.csv', 'method=optimize', 'algorithm=newton', 'iter=10000']\n",
            "02:57:36 - cmdstanpy - INFO - Chain [1] start processing\n",
            "INFO:cmdstanpy:Chain [1] start processing\n"
          ]
        },
        {
          "output_type": "stream",
          "name": "stdout",
          "text": [
            "Prophet forecast for {'State': 'CO', 'Segment': 'IND_LEG'} completed\n",
            "Prophet forecast for {'State': 'CT', 'Segment': 'IND_LEG'} completed\n"
          ]
        },
        {
          "output_type": "stream",
          "name": "stderr",
          "text": [
            "02:57:37 - cmdstanpy - INFO - Chain [1] done processing\n",
            "INFO:cmdstanpy:Chain [1] done processing\n",
            "INFO:prophet:n_changepoints greater than number of observations. Using 19.\n",
            "DEBUG:cmdstanpy:input tempfile: /tmp/tmpfdntuhgz/uaq_ue28.json\n",
            "DEBUG:cmdstanpy:input tempfile: /tmp/tmpfdntuhgz/zncvb13q.json\n",
            "DEBUG:cmdstanpy:idx 0\n",
            "DEBUG:cmdstanpy:running CmdStan, num_threads: None\n",
            "DEBUG:cmdstanpy:CmdStan args: ['/usr/local/lib/python3.11/dist-packages/prophet/stan_model/prophet_model.bin', 'random', 'seed=40487', 'data', 'file=/tmp/tmpfdntuhgz/uaq_ue28.json', 'init=/tmp/tmpfdntuhgz/zncvb13q.json', 'output', 'file=/tmp/tmpfdntuhgz/prophet_model83nn5vpm/prophet_model-20250407025737.csv', 'method=optimize', 'algorithm=newton', 'iter=10000']\n",
            "02:57:37 - cmdstanpy - INFO - Chain [1] start processing\n",
            "INFO:cmdstanpy:Chain [1] start processing\n",
            "02:57:37 - cmdstanpy - INFO - Chain [1] done processing\n",
            "INFO:cmdstanpy:Chain [1] done processing\n"
          ]
        },
        {
          "output_type": "stream",
          "name": "stdout",
          "text": [
            "Prophet forecast for {'State': 'GA', 'Segment': 'IND_LEG'} completed\n"
          ]
        },
        {
          "output_type": "stream",
          "name": "stderr",
          "text": [
            "INFO:prophet:n_changepoints greater than number of observations. Using 19.\n",
            "DEBUG:cmdstanpy:input tempfile: /tmp/tmpfdntuhgz/94ww4wn7.json\n",
            "DEBUG:cmdstanpy:input tempfile: /tmp/tmpfdntuhgz/eom1emao.json\n",
            "DEBUG:cmdstanpy:idx 0\n",
            "DEBUG:cmdstanpy:running CmdStan, num_threads: None\n",
            "DEBUG:cmdstanpy:CmdStan args: ['/usr/local/lib/python3.11/dist-packages/prophet/stan_model/prophet_model.bin', 'random', 'seed=63057', 'data', 'file=/tmp/tmpfdntuhgz/94ww4wn7.json', 'init=/tmp/tmpfdntuhgz/eom1emao.json', 'output', 'file=/tmp/tmpfdntuhgz/prophet_model7bkf_rwf/prophet_model-20250407025737.csv', 'method=optimize', 'algorithm=newton', 'iter=10000']\n",
            "02:57:37 - cmdstanpy - INFO - Chain [1] start processing\n",
            "INFO:cmdstanpy:Chain [1] start processing\n",
            "02:57:37 - cmdstanpy - INFO - Chain [1] done processing\n",
            "INFO:cmdstanpy:Chain [1] done processing\n"
          ]
        },
        {
          "output_type": "stream",
          "name": "stdout",
          "text": [
            "Prophet forecast for {'State': 'IN', 'Segment': 'IND_LEG'} completed\n"
          ]
        },
        {
          "output_type": "stream",
          "name": "stderr",
          "text": [
            "INFO:prophet:n_changepoints greater than number of observations. Using 19.\n",
            "INFO:prophet:n_changepoints greater than number of observations. Using 19.\n",
            "DEBUG:cmdstanpy:input tempfile: /tmp/tmpfdntuhgz/s6sxwkvm.json\n",
            "DEBUG:cmdstanpy:input tempfile: /tmp/tmpfdntuhgz/g5z1khq3.json\n",
            "DEBUG:cmdstanpy:idx 0\n",
            "DEBUG:cmdstanpy:running CmdStan, num_threads: None\n",
            "DEBUG:cmdstanpy:CmdStan args: ['/usr/local/lib/python3.11/dist-packages/prophet/stan_model/prophet_model.bin', 'random', 'seed=67102', 'data', 'file=/tmp/tmpfdntuhgz/s6sxwkvm.json', 'init=/tmp/tmpfdntuhgz/g5z1khq3.json', 'output', 'file=/tmp/tmpfdntuhgz/prophet_model3vm86fjz/prophet_model-20250407025737.csv', 'method=optimize', 'algorithm=newton', 'iter=10000']\n",
            "02:57:37 - cmdstanpy - INFO - Chain [1] start processing\n",
            "INFO:cmdstanpy:Chain [1] start processing\n"
          ]
        },
        {
          "output_type": "stream",
          "name": "stdout",
          "text": [
            "Prophet forecast for {'State': 'KY', 'Segment': 'IND_LEG'} completed\n",
            "Prophet forecast for {'State': 'ME', 'Segment': 'IND_LEG'} completed\n"
          ]
        },
        {
          "output_type": "stream",
          "name": "stderr",
          "text": [
            "02:57:38 - cmdstanpy - INFO - Chain [1] done processing\n",
            "INFO:cmdstanpy:Chain [1] done processing\n",
            "INFO:prophet:n_changepoints greater than number of observations. Using 19.\n",
            "DEBUG:cmdstanpy:input tempfile: /tmp/tmpfdntuhgz/8gz7rhg9.json\n",
            "DEBUG:cmdstanpy:input tempfile: /tmp/tmpfdntuhgz/n3q1fpep.json\n",
            "DEBUG:cmdstanpy:idx 0\n",
            "DEBUG:cmdstanpy:running CmdStan, num_threads: None\n",
            "DEBUG:cmdstanpy:CmdStan args: ['/usr/local/lib/python3.11/dist-packages/prophet/stan_model/prophet_model.bin', 'random', 'seed=99103', 'data', 'file=/tmp/tmpfdntuhgz/8gz7rhg9.json', 'init=/tmp/tmpfdntuhgz/n3q1fpep.json', 'output', 'file=/tmp/tmpfdntuhgz/prophet_model4eerjpvx/prophet_model-20250407025738.csv', 'method=optimize', 'algorithm=newton', 'iter=10000']\n",
            "02:57:38 - cmdstanpy - INFO - Chain [1] start processing\n",
            "INFO:cmdstanpy:Chain [1] start processing\n",
            "02:57:38 - cmdstanpy - INFO - Chain [1] done processing\n",
            "INFO:cmdstanpy:Chain [1] done processing\n"
          ]
        },
        {
          "output_type": "stream",
          "name": "stdout",
          "text": [
            "Prophet forecast for {'State': 'MO', 'Segment': 'IND_LEG'} completed\n"
          ]
        },
        {
          "output_type": "stream",
          "name": "stderr",
          "text": [
            "INFO:prophet:n_changepoints greater than number of observations. Using 19.\n",
            "DEBUG:cmdstanpy:input tempfile: /tmp/tmpfdntuhgz/msspvopm.json\n",
            "DEBUG:cmdstanpy:input tempfile: /tmp/tmpfdntuhgz/nvs009ex.json\n",
            "DEBUG:cmdstanpy:idx 0\n",
            "DEBUG:cmdstanpy:running CmdStan, num_threads: None\n",
            "DEBUG:cmdstanpy:CmdStan args: ['/usr/local/lib/python3.11/dist-packages/prophet/stan_model/prophet_model.bin', 'random', 'seed=74132', 'data', 'file=/tmp/tmpfdntuhgz/msspvopm.json', 'init=/tmp/tmpfdntuhgz/nvs009ex.json', 'output', 'file=/tmp/tmpfdntuhgz/prophet_modelve10jp14/prophet_model-20250407025738.csv', 'method=optimize', 'algorithm=newton', 'iter=10000']\n",
            "02:57:38 - cmdstanpy - INFO - Chain [1] start processing\n",
            "INFO:cmdstanpy:Chain [1] start processing\n",
            "02:57:38 - cmdstanpy - INFO - Chain [1] done processing\n",
            "INFO:cmdstanpy:Chain [1] done processing\n"
          ]
        },
        {
          "output_type": "stream",
          "name": "stdout",
          "text": [
            "Prophet forecast for {'State': 'NH', 'Segment': 'IND_LEG'} completed\n"
          ]
        },
        {
          "output_type": "stream",
          "name": "stderr",
          "text": [
            "INFO:prophet:n_changepoints greater than number of observations. Using 19.\n",
            "DEBUG:cmdstanpy:input tempfile: /tmp/tmpfdntuhgz/77v2d7pv.json\n",
            "DEBUG:cmdstanpy:input tempfile: /tmp/tmpfdntuhgz/do1egn74.json\n",
            "DEBUG:cmdstanpy:idx 0\n",
            "DEBUG:cmdstanpy:running CmdStan, num_threads: None\n",
            "DEBUG:cmdstanpy:CmdStan args: ['/usr/local/lib/python3.11/dist-packages/prophet/stan_model/prophet_model.bin', 'random', 'seed=34500', 'data', 'file=/tmp/tmpfdntuhgz/77v2d7pv.json', 'init=/tmp/tmpfdntuhgz/do1egn74.json', 'output', 'file=/tmp/tmpfdntuhgz/prophet_modelk9j_wzu3/prophet_model-20250407025738.csv', 'method=optimize', 'algorithm=newton', 'iter=10000']\n",
            "02:57:38 - cmdstanpy - INFO - Chain [1] start processing\n",
            "INFO:cmdstanpy:Chain [1] start processing\n",
            "02:57:38 - cmdstanpy - INFO - Chain [1] done processing\n",
            "INFO:cmdstanpy:Chain [1] done processing\n"
          ]
        },
        {
          "output_type": "stream",
          "name": "stdout",
          "text": [
            "Prophet forecast for {'State': 'NV', 'Segment': 'IND_LEG'} completed\n"
          ]
        },
        {
          "output_type": "stream",
          "name": "stderr",
          "text": [
            "INFO:prophet:n_changepoints greater than number of observations. Using 19.\n",
            "DEBUG:cmdstanpy:input tempfile: /tmp/tmpfdntuhgz/l5ksjnhb.json\n",
            "DEBUG:cmdstanpy:input tempfile: /tmp/tmpfdntuhgz/hfknqbnq.json\n",
            "DEBUG:cmdstanpy:idx 0\n",
            "DEBUG:cmdstanpy:running CmdStan, num_threads: None\n",
            "DEBUG:cmdstanpy:CmdStan args: ['/usr/local/lib/python3.11/dist-packages/prophet/stan_model/prophet_model.bin', 'random', 'seed=76069', 'data', 'file=/tmp/tmpfdntuhgz/l5ksjnhb.json', 'init=/tmp/tmpfdntuhgz/hfknqbnq.json', 'output', 'file=/tmp/tmpfdntuhgz/prophet_model2ubxamh7/prophet_model-20250407025738.csv', 'method=optimize', 'algorithm=newton', 'iter=10000']\n",
            "02:57:38 - cmdstanpy - INFO - Chain [1] start processing\n",
            "INFO:cmdstanpy:Chain [1] start processing\n"
          ]
        },
        {
          "output_type": "stream",
          "name": "stdout",
          "text": [
            "Prophet forecast for {'State': 'NY', 'Segment': 'IND_LEG'} completed\n"
          ]
        },
        {
          "output_type": "stream",
          "name": "stderr",
          "text": [
            "02:57:39 - cmdstanpy - INFO - Chain [1] done processing\n",
            "INFO:cmdstanpy:Chain [1] done processing\n",
            "INFO:prophet:n_changepoints greater than number of observations. Using 19.\n",
            "DEBUG:cmdstanpy:input tempfile: /tmp/tmpfdntuhgz/gvy9q9mw.json\n",
            "DEBUG:cmdstanpy:input tempfile: /tmp/tmpfdntuhgz/zc4ge0nb.json\n",
            "DEBUG:cmdstanpy:idx 0\n",
            "DEBUG:cmdstanpy:running CmdStan, num_threads: None\n",
            "DEBUG:cmdstanpy:CmdStan args: ['/usr/local/lib/python3.11/dist-packages/prophet/stan_model/prophet_model.bin', 'random', 'seed=23599', 'data', 'file=/tmp/tmpfdntuhgz/gvy9q9mw.json', 'init=/tmp/tmpfdntuhgz/zc4ge0nb.json', 'output', 'file=/tmp/tmpfdntuhgz/prophet_modelivcceiy5/prophet_model-20250407025739.csv', 'method=optimize', 'algorithm=newton', 'iter=10000']\n",
            "02:57:39 - cmdstanpy - INFO - Chain [1] start processing\n",
            "INFO:cmdstanpy:Chain [1] start processing\n"
          ]
        },
        {
          "output_type": "stream",
          "name": "stdout",
          "text": [
            "Prophet forecast for {'State': 'OH', 'Segment': 'IND_LEG'} completed\n"
          ]
        },
        {
          "output_type": "stream",
          "name": "stderr",
          "text": [
            "02:57:39 - cmdstanpy - INFO - Chain [1] done processing\n",
            "INFO:cmdstanpy:Chain [1] done processing\n",
            "INFO:prophet:n_changepoints greater than number of observations. Using 19.\n",
            "DEBUG:cmdstanpy:input tempfile: /tmp/tmpfdntuhgz/1fm2m9te.json\n",
            "DEBUG:cmdstanpy:input tempfile: /tmp/tmpfdntuhgz/p1pswn_0.json\n",
            "DEBUG:cmdstanpy:idx 0\n",
            "DEBUG:cmdstanpy:running CmdStan, num_threads: None\n",
            "DEBUG:cmdstanpy:CmdStan args: ['/usr/local/lib/python3.11/dist-packages/prophet/stan_model/prophet_model.bin', 'random', 'seed=91731', 'data', 'file=/tmp/tmpfdntuhgz/1fm2m9te.json', 'init=/tmp/tmpfdntuhgz/p1pswn_0.json', 'output', 'file=/tmp/tmpfdntuhgz/prophet_modelese7sfn7/prophet_model-20250407025739.csv', 'method=optimize', 'algorithm=newton', 'iter=10000']\n",
            "02:57:39 - cmdstanpy - INFO - Chain [1] start processing\n",
            "INFO:cmdstanpy:Chain [1] start processing\n"
          ]
        },
        {
          "output_type": "stream",
          "name": "stdout",
          "text": [
            "Prophet forecast for {'State': 'VA', 'Segment': 'IND_LEG'} completed\n"
          ]
        },
        {
          "output_type": "stream",
          "name": "stderr",
          "text": [
            "02:57:39 - cmdstanpy - INFO - Chain [1] done processing\n",
            "INFO:cmdstanpy:Chain [1] done processing\n",
            "INFO:prophet:n_changepoints greater than number of observations. Using 19.\n",
            "DEBUG:cmdstanpy:input tempfile: /tmp/tmpfdntuhgz/fujv_s1q.json\n",
            "DEBUG:cmdstanpy:input tempfile: /tmp/tmpfdntuhgz/7f_pf9nu.json\n",
            "DEBUG:cmdstanpy:idx 0\n",
            "DEBUG:cmdstanpy:running CmdStan, num_threads: None\n",
            "DEBUG:cmdstanpy:CmdStan args: ['/usr/local/lib/python3.11/dist-packages/prophet/stan_model/prophet_model.bin', 'random', 'seed=16395', 'data', 'file=/tmp/tmpfdntuhgz/fujv_s1q.json', 'init=/tmp/tmpfdntuhgz/7f_pf9nu.json', 'output', 'file=/tmp/tmpfdntuhgz/prophet_model_b4jovb_/prophet_model-20250407025739.csv', 'method=optimize', 'algorithm=newton', 'iter=10000']\n",
            "02:57:39 - cmdstanpy - INFO - Chain [1] start processing\n",
            "INFO:cmdstanpy:Chain [1] start processing\n"
          ]
        },
        {
          "output_type": "stream",
          "name": "stdout",
          "text": [
            "Prophet forecast for {'State': 'WI', 'Segment': 'IND_LEG'} completed\n"
          ]
        },
        {
          "output_type": "stream",
          "name": "stderr",
          "text": [
            "02:57:39 - cmdstanpy - INFO - Chain [1] done processing\n",
            "INFO:cmdstanpy:Chain [1] done processing\n",
            "INFO:prophet:n_changepoints greater than number of observations. Using 19.\n",
            "DEBUG:cmdstanpy:input tempfile: /tmp/tmpfdntuhgz/91txi1vr.json\n",
            "DEBUG:cmdstanpy:input tempfile: /tmp/tmpfdntuhgz/irruirpk.json\n",
            "DEBUG:cmdstanpy:idx 0\n",
            "DEBUG:cmdstanpy:running CmdStan, num_threads: None\n",
            "DEBUG:cmdstanpy:CmdStan args: ['/usr/local/lib/python3.11/dist-packages/prophet/stan_model/prophet_model.bin', 'random', 'seed=67897', 'data', 'file=/tmp/tmpfdntuhgz/91txi1vr.json', 'init=/tmp/tmpfdntuhgz/irruirpk.json', 'output', 'file=/tmp/tmpfdntuhgz/prophet_models3ezj12d/prophet_model-20250407025740.csv', 'method=optimize', 'algorithm=newton', 'iter=10000']\n",
            "02:57:40 - cmdstanpy - INFO - Chain [1] start processing\n",
            "INFO:cmdstanpy:Chain [1] start processing\n"
          ]
        },
        {
          "output_type": "stream",
          "name": "stdout",
          "text": [
            "Prophet forecast for {'State': 'CA_HMO', 'Segment': 'SBG_ACA'} completed\n"
          ]
        },
        {
          "output_type": "stream",
          "name": "stderr",
          "text": [
            "02:57:40 - cmdstanpy - INFO - Chain [1] done processing\n",
            "INFO:cmdstanpy:Chain [1] done processing\n",
            "INFO:prophet:n_changepoints greater than number of observations. Using 19.\n",
            "DEBUG:cmdstanpy:input tempfile: /tmp/tmpfdntuhgz/vcb79oa2.json\n",
            "DEBUG:cmdstanpy:input tempfile: /tmp/tmpfdntuhgz/bbyq280r.json\n",
            "DEBUG:cmdstanpy:idx 0\n",
            "DEBUG:cmdstanpy:running CmdStan, num_threads: None\n",
            "DEBUG:cmdstanpy:CmdStan args: ['/usr/local/lib/python3.11/dist-packages/prophet/stan_model/prophet_model.bin', 'random', 'seed=3517', 'data', 'file=/tmp/tmpfdntuhgz/vcb79oa2.json', 'init=/tmp/tmpfdntuhgz/bbyq280r.json', 'output', 'file=/tmp/tmpfdntuhgz/prophet_modelbaizpcvy/prophet_model-20250407025740.csv', 'method=optimize', 'algorithm=newton', 'iter=10000']\n",
            "02:57:40 - cmdstanpy - INFO - Chain [1] start processing\n",
            "INFO:cmdstanpy:Chain [1] start processing\n"
          ]
        },
        {
          "output_type": "stream",
          "name": "stdout",
          "text": [
            "Prophet forecast for {'State': 'CA_PPO', 'Segment': 'SBG_ACA'} completed\n"
          ]
        },
        {
          "output_type": "stream",
          "name": "stderr",
          "text": [
            "02:57:40 - cmdstanpy - INFO - Chain [1] done processing\n",
            "INFO:cmdstanpy:Chain [1] done processing\n",
            "INFO:prophet:n_changepoints greater than number of observations. Using 19.\n",
            "DEBUG:cmdstanpy:input tempfile: /tmp/tmpfdntuhgz/_77kc5gr.json\n",
            "DEBUG:cmdstanpy:input tempfile: /tmp/tmpfdntuhgz/i0hkr1xs.json\n",
            "DEBUG:cmdstanpy:idx 0\n",
            "DEBUG:cmdstanpy:running CmdStan, num_threads: None\n",
            "DEBUG:cmdstanpy:CmdStan args: ['/usr/local/lib/python3.11/dist-packages/prophet/stan_model/prophet_model.bin', 'random', 'seed=2533', 'data', 'file=/tmp/tmpfdntuhgz/_77kc5gr.json', 'init=/tmp/tmpfdntuhgz/i0hkr1xs.json', 'output', 'file=/tmp/tmpfdntuhgz/prophet_modeldtxez115/prophet_model-20250407025740.csv', 'method=optimize', 'algorithm=newton', 'iter=10000']\n",
            "02:57:40 - cmdstanpy - INFO - Chain [1] start processing\n",
            "INFO:cmdstanpy:Chain [1] start processing\n"
          ]
        },
        {
          "output_type": "stream",
          "name": "stdout",
          "text": [
            "Prophet forecast for {'State': 'CO', 'Segment': 'SBG_ACA'} completed\n"
          ]
        },
        {
          "output_type": "stream",
          "name": "stderr",
          "text": [
            "02:57:40 - cmdstanpy - INFO - Chain [1] done processing\n",
            "INFO:cmdstanpy:Chain [1] done processing\n",
            "INFO:prophet:n_changepoints greater than number of observations. Using 19.\n",
            "DEBUG:cmdstanpy:input tempfile: /tmp/tmpfdntuhgz/ukopzi9a.json\n",
            "DEBUG:cmdstanpy:input tempfile: /tmp/tmpfdntuhgz/3co4fyum.json\n",
            "DEBUG:cmdstanpy:idx 0\n",
            "DEBUG:cmdstanpy:running CmdStan, num_threads: None\n",
            "DEBUG:cmdstanpy:CmdStan args: ['/usr/local/lib/python3.11/dist-packages/prophet/stan_model/prophet_model.bin', 'random', 'seed=96825', 'data', 'file=/tmp/tmpfdntuhgz/ukopzi9a.json', 'init=/tmp/tmpfdntuhgz/3co4fyum.json', 'output', 'file=/tmp/tmpfdntuhgz/prophet_modelw94lxxcr/prophet_model-20250407025741.csv', 'method=optimize', 'algorithm=newton', 'iter=10000']\n",
            "02:57:41 - cmdstanpy - INFO - Chain [1] start processing\n",
            "INFO:cmdstanpy:Chain [1] start processing\n"
          ]
        },
        {
          "output_type": "stream",
          "name": "stdout",
          "text": [
            "Prophet forecast for {'State': 'CT', 'Segment': 'SBG_ACA'} completed\n"
          ]
        },
        {
          "output_type": "stream",
          "name": "stderr",
          "text": [
            "02:57:41 - cmdstanpy - INFO - Chain [1] done processing\n",
            "INFO:cmdstanpy:Chain [1] done processing\n",
            "INFO:prophet:n_changepoints greater than number of observations. Using 19.\n",
            "DEBUG:cmdstanpy:input tempfile: /tmp/tmpfdntuhgz/hq_pi1ji.json\n",
            "DEBUG:cmdstanpy:input tempfile: /tmp/tmpfdntuhgz/bvn2qgb5.json\n",
            "DEBUG:cmdstanpy:idx 0\n",
            "DEBUG:cmdstanpy:running CmdStan, num_threads: None\n",
            "DEBUG:cmdstanpy:CmdStan args: ['/usr/local/lib/python3.11/dist-packages/prophet/stan_model/prophet_model.bin', 'random', 'seed=11433', 'data', 'file=/tmp/tmpfdntuhgz/hq_pi1ji.json', 'init=/tmp/tmpfdntuhgz/bvn2qgb5.json', 'output', 'file=/tmp/tmpfdntuhgz/prophet_modeli8go1zim/prophet_model-20250407025741.csv', 'method=optimize', 'algorithm=newton', 'iter=10000']\n",
            "02:57:41 - cmdstanpy - INFO - Chain [1] start processing\n",
            "INFO:cmdstanpy:Chain [1] start processing\n"
          ]
        },
        {
          "output_type": "stream",
          "name": "stdout",
          "text": [
            "Prophet forecast for {'State': 'GA', 'Segment': 'SBG_ACA'} completed\n"
          ]
        },
        {
          "output_type": "stream",
          "name": "stderr",
          "text": [
            "02:57:41 - cmdstanpy - INFO - Chain [1] done processing\n",
            "INFO:cmdstanpy:Chain [1] done processing\n",
            "INFO:prophet:n_changepoints greater than number of observations. Using 19.\n",
            "DEBUG:cmdstanpy:input tempfile: /tmp/tmpfdntuhgz/4n835256.json\n",
            "DEBUG:cmdstanpy:input tempfile: /tmp/tmpfdntuhgz/mbzsvlly.json\n",
            "DEBUG:cmdstanpy:idx 0\n",
            "DEBUG:cmdstanpy:running CmdStan, num_threads: None\n",
            "DEBUG:cmdstanpy:CmdStan args: ['/usr/local/lib/python3.11/dist-packages/prophet/stan_model/prophet_model.bin', 'random', 'seed=15593', 'data', 'file=/tmp/tmpfdntuhgz/4n835256.json', 'init=/tmp/tmpfdntuhgz/mbzsvlly.json', 'output', 'file=/tmp/tmpfdntuhgz/prophet_modeles329k07/prophet_model-20250407025741.csv', 'method=optimize', 'algorithm=newton', 'iter=10000']\n",
            "02:57:41 - cmdstanpy - INFO - Chain [1] start processing\n",
            "INFO:cmdstanpy:Chain [1] start processing\n"
          ]
        },
        {
          "output_type": "stream",
          "name": "stdout",
          "text": [
            "Prophet forecast for {'State': 'IN', 'Segment': 'SBG_ACA'} completed\n"
          ]
        },
        {
          "output_type": "stream",
          "name": "stderr",
          "text": [
            "02:57:41 - cmdstanpy - INFO - Chain [1] done processing\n",
            "INFO:cmdstanpy:Chain [1] done processing\n",
            "INFO:prophet:n_changepoints greater than number of observations. Using 19.\n",
            "DEBUG:cmdstanpy:input tempfile: /tmp/tmpfdntuhgz/qsjpckt4.json\n",
            "DEBUG:cmdstanpy:input tempfile: /tmp/tmpfdntuhgz/t0qqtkt8.json\n",
            "DEBUG:cmdstanpy:idx 0\n",
            "DEBUG:cmdstanpy:running CmdStan, num_threads: None\n",
            "DEBUG:cmdstanpy:CmdStan args: ['/usr/local/lib/python3.11/dist-packages/prophet/stan_model/prophet_model.bin', 'random', 'seed=54493', 'data', 'file=/tmp/tmpfdntuhgz/qsjpckt4.json', 'init=/tmp/tmpfdntuhgz/t0qqtkt8.json', 'output', 'file=/tmp/tmpfdntuhgz/prophet_model96yv5ct7/prophet_model-20250407025742.csv', 'method=optimize', 'algorithm=newton', 'iter=10000']\n",
            "02:57:42 - cmdstanpy - INFO - Chain [1] start processing\n",
            "INFO:cmdstanpy:Chain [1] start processing\n",
            "02:57:42 - cmdstanpy - INFO - Chain [1] done processing\n",
            "INFO:cmdstanpy:Chain [1] done processing\n"
          ]
        },
        {
          "output_type": "stream",
          "name": "stdout",
          "text": [
            "Prophet forecast for {'State': 'KY', 'Segment': 'SBG_ACA'} completed\n"
          ]
        },
        {
          "output_type": "stream",
          "name": "stderr",
          "text": [
            "INFO:prophet:n_changepoints greater than number of observations. Using 19.\n",
            "DEBUG:cmdstanpy:input tempfile: /tmp/tmpfdntuhgz/_wbmeoa1.json\n",
            "DEBUG:cmdstanpy:input tempfile: /tmp/tmpfdntuhgz/k6ourfzh.json\n",
            "DEBUG:cmdstanpy:idx 0\n",
            "DEBUG:cmdstanpy:running CmdStan, num_threads: None\n",
            "DEBUG:cmdstanpy:CmdStan args: ['/usr/local/lib/python3.11/dist-packages/prophet/stan_model/prophet_model.bin', 'random', 'seed=26668', 'data', 'file=/tmp/tmpfdntuhgz/_wbmeoa1.json', 'init=/tmp/tmpfdntuhgz/k6ourfzh.json', 'output', 'file=/tmp/tmpfdntuhgz/prophet_modelxkr9uzt0/prophet_model-20250407025742.csv', 'method=optimize', 'algorithm=newton', 'iter=10000']\n",
            "02:57:42 - cmdstanpy - INFO - Chain [1] start processing\n",
            "INFO:cmdstanpy:Chain [1] start processing\n"
          ]
        },
        {
          "output_type": "stream",
          "name": "stdout",
          "text": [
            "Prophet forecast for {'State': 'ME', 'Segment': 'SBG_ACA'} completed\n"
          ]
        },
        {
          "output_type": "stream",
          "name": "stderr",
          "text": [
            "02:57:42 - cmdstanpy - INFO - Chain [1] done processing\n",
            "INFO:cmdstanpy:Chain [1] done processing\n",
            "INFO:prophet:n_changepoints greater than number of observations. Using 19.\n",
            "DEBUG:cmdstanpy:input tempfile: /tmp/tmpfdntuhgz/zaozb2n6.json\n",
            "DEBUG:cmdstanpy:input tempfile: /tmp/tmpfdntuhgz/xanvcgyq.json\n",
            "DEBUG:cmdstanpy:idx 0\n",
            "DEBUG:cmdstanpy:running CmdStan, num_threads: None\n",
            "DEBUG:cmdstanpy:CmdStan args: ['/usr/local/lib/python3.11/dist-packages/prophet/stan_model/prophet_model.bin', 'random', 'seed=77693', 'data', 'file=/tmp/tmpfdntuhgz/zaozb2n6.json', 'init=/tmp/tmpfdntuhgz/xanvcgyq.json', 'output', 'file=/tmp/tmpfdntuhgz/prophet_model659hmrei/prophet_model-20250407025742.csv', 'method=optimize', 'algorithm=newton', 'iter=10000']\n",
            "02:57:42 - cmdstanpy - INFO - Chain [1] start processing\n",
            "INFO:cmdstanpy:Chain [1] start processing\n"
          ]
        },
        {
          "output_type": "stream",
          "name": "stdout",
          "text": [
            "Prophet forecast for {'State': 'MO', 'Segment': 'SBG_ACA'} completed\n"
          ]
        },
        {
          "output_type": "stream",
          "name": "stderr",
          "text": [
            "02:57:43 - cmdstanpy - INFO - Chain [1] done processing\n",
            "INFO:cmdstanpy:Chain [1] done processing\n",
            "INFO:prophet:n_changepoints greater than number of observations. Using 19.\n",
            "DEBUG:cmdstanpy:input tempfile: /tmp/tmpfdntuhgz/syq9g01y.json\n",
            "DEBUG:cmdstanpy:input tempfile: /tmp/tmpfdntuhgz/rs4set0b.json\n",
            "DEBUG:cmdstanpy:idx 0\n",
            "DEBUG:cmdstanpy:running CmdStan, num_threads: None\n",
            "DEBUG:cmdstanpy:CmdStan args: ['/usr/local/lib/python3.11/dist-packages/prophet/stan_model/prophet_model.bin', 'random', 'seed=53254', 'data', 'file=/tmp/tmpfdntuhgz/syq9g01y.json', 'init=/tmp/tmpfdntuhgz/rs4set0b.json', 'output', 'file=/tmp/tmpfdntuhgz/prophet_modell_nwlqh_/prophet_model-20250407025743.csv', 'method=optimize', 'algorithm=newton', 'iter=10000']\n",
            "02:57:43 - cmdstanpy - INFO - Chain [1] start processing\n",
            "INFO:cmdstanpy:Chain [1] start processing\n"
          ]
        },
        {
          "output_type": "stream",
          "name": "stdout",
          "text": [
            "Prophet forecast for {'State': 'NH', 'Segment': 'SBG_ACA'} completed\n"
          ]
        },
        {
          "output_type": "stream",
          "name": "stderr",
          "text": [
            "02:57:43 - cmdstanpy - INFO - Chain [1] done processing\n",
            "INFO:cmdstanpy:Chain [1] done processing\n",
            "INFO:prophet:n_changepoints greater than number of observations. Using 19.\n",
            "DEBUG:cmdstanpy:input tempfile: /tmp/tmpfdntuhgz/cokfvpiz.json\n",
            "DEBUG:cmdstanpy:input tempfile: /tmp/tmpfdntuhgz/u4w8tn1m.json\n",
            "DEBUG:cmdstanpy:idx 0\n",
            "DEBUG:cmdstanpy:running CmdStan, num_threads: None\n",
            "DEBUG:cmdstanpy:CmdStan args: ['/usr/local/lib/python3.11/dist-packages/prophet/stan_model/prophet_model.bin', 'random', 'seed=53231', 'data', 'file=/tmp/tmpfdntuhgz/cokfvpiz.json', 'init=/tmp/tmpfdntuhgz/u4w8tn1m.json', 'output', 'file=/tmp/tmpfdntuhgz/prophet_model1ddbogw2/prophet_model-20250407025743.csv', 'method=optimize', 'algorithm=newton', 'iter=10000']\n",
            "02:57:43 - cmdstanpy - INFO - Chain [1] start processing\n",
            "INFO:cmdstanpy:Chain [1] start processing\n"
          ]
        },
        {
          "output_type": "stream",
          "name": "stdout",
          "text": [
            "Prophet forecast for {'State': 'NV', 'Segment': 'SBG_ACA'} completed\n"
          ]
        },
        {
          "output_type": "stream",
          "name": "stderr",
          "text": [
            "02:57:43 - cmdstanpy - INFO - Chain [1] done processing\n",
            "INFO:cmdstanpy:Chain [1] done processing\n",
            "INFO:prophet:n_changepoints greater than number of observations. Using 19.\n",
            "DEBUG:cmdstanpy:input tempfile: /tmp/tmpfdntuhgz/jkcr4uiv.json\n",
            "DEBUG:cmdstanpy:input tempfile: /tmp/tmpfdntuhgz/th94bepk.json\n",
            "DEBUG:cmdstanpy:idx 0\n",
            "DEBUG:cmdstanpy:running CmdStan, num_threads: None\n",
            "DEBUG:cmdstanpy:CmdStan args: ['/usr/local/lib/python3.11/dist-packages/prophet/stan_model/prophet_model.bin', 'random', 'seed=79986', 'data', 'file=/tmp/tmpfdntuhgz/jkcr4uiv.json', 'init=/tmp/tmpfdntuhgz/th94bepk.json', 'output', 'file=/tmp/tmpfdntuhgz/prophet_modelzuebi5zh/prophet_model-20250407025743.csv', 'method=optimize', 'algorithm=newton', 'iter=10000']\n",
            "02:57:43 - cmdstanpy - INFO - Chain [1] start processing\n",
            "INFO:cmdstanpy:Chain [1] start processing\n"
          ]
        },
        {
          "output_type": "stream",
          "name": "stdout",
          "text": [
            "Prophet forecast for {'State': 'NY', 'Segment': 'SBG_ACA'} completed\n"
          ]
        },
        {
          "output_type": "stream",
          "name": "stderr",
          "text": [
            "02:57:44 - cmdstanpy - INFO - Chain [1] done processing\n",
            "INFO:cmdstanpy:Chain [1] done processing\n",
            "INFO:prophet:n_changepoints greater than number of observations. Using 19.\n",
            "DEBUG:cmdstanpy:input tempfile: /tmp/tmpfdntuhgz/n5au7fff.json\n",
            "DEBUG:cmdstanpy:input tempfile: /tmp/tmpfdntuhgz/t3ywjwir.json\n",
            "DEBUG:cmdstanpy:idx 0\n",
            "DEBUG:cmdstanpy:running CmdStan, num_threads: None\n",
            "DEBUG:cmdstanpy:CmdStan args: ['/usr/local/lib/python3.11/dist-packages/prophet/stan_model/prophet_model.bin', 'random', 'seed=68384', 'data', 'file=/tmp/tmpfdntuhgz/n5au7fff.json', 'init=/tmp/tmpfdntuhgz/t3ywjwir.json', 'output', 'file=/tmp/tmpfdntuhgz/prophet_modelog352uun/prophet_model-20250407025744.csv', 'method=optimize', 'algorithm=newton', 'iter=10000']\n",
            "02:57:44 - cmdstanpy - INFO - Chain [1] start processing\n",
            "INFO:cmdstanpy:Chain [1] start processing\n"
          ]
        },
        {
          "output_type": "stream",
          "name": "stdout",
          "text": [
            "Prophet forecast for {'State': 'OH', 'Segment': 'SBG_ACA'} completed\n"
          ]
        },
        {
          "output_type": "stream",
          "name": "stderr",
          "text": [
            "02:58:01 - cmdstanpy - INFO - Chain [1] done processing\n",
            "INFO:cmdstanpy:Chain [1] done processing\n",
            "INFO:prophet:n_changepoints greater than number of observations. Using 19.\n",
            "DEBUG:cmdstanpy:input tempfile: /tmp/tmpfdntuhgz/9gf1vq80.json\n",
            "DEBUG:cmdstanpy:input tempfile: /tmp/tmpfdntuhgz/smu50ums.json\n",
            "DEBUG:cmdstanpy:idx 0\n",
            "DEBUG:cmdstanpy:running CmdStan, num_threads: None\n",
            "DEBUG:cmdstanpy:CmdStan args: ['/usr/local/lib/python3.11/dist-packages/prophet/stan_model/prophet_model.bin', 'random', 'seed=92033', 'data', 'file=/tmp/tmpfdntuhgz/9gf1vq80.json', 'init=/tmp/tmpfdntuhgz/smu50ums.json', 'output', 'file=/tmp/tmpfdntuhgz/prophet_modelh4rpt39u/prophet_model-20250407025801.csv', 'method=optimize', 'algorithm=newton', 'iter=10000']\n",
            "02:58:01 - cmdstanpy - INFO - Chain [1] start processing\n",
            "INFO:cmdstanpy:Chain [1] start processing\n"
          ]
        },
        {
          "output_type": "stream",
          "name": "stdout",
          "text": [
            "Prophet forecast for {'State': 'VA', 'Segment': 'SBG_ACA'} completed\n"
          ]
        },
        {
          "output_type": "stream",
          "name": "stderr",
          "text": [
            "02:58:02 - cmdstanpy - INFO - Chain [1] done processing\n",
            "INFO:cmdstanpy:Chain [1] done processing\n",
            "INFO:prophet:n_changepoints greater than number of observations. Using 19.\n",
            "DEBUG:cmdstanpy:input tempfile: /tmp/tmpfdntuhgz/ve_zi3ws.json\n",
            "DEBUG:cmdstanpy:input tempfile: /tmp/tmpfdntuhgz/ilrd9vvi.json\n",
            "DEBUG:cmdstanpy:idx 0\n",
            "DEBUG:cmdstanpy:running CmdStan, num_threads: None\n",
            "DEBUG:cmdstanpy:CmdStan args: ['/usr/local/lib/python3.11/dist-packages/prophet/stan_model/prophet_model.bin', 'random', 'seed=39469', 'data', 'file=/tmp/tmpfdntuhgz/ve_zi3ws.json', 'init=/tmp/tmpfdntuhgz/ilrd9vvi.json', 'output', 'file=/tmp/tmpfdntuhgz/prophet_modelb3dfyb0i/prophet_model-20250407025802.csv', 'method=optimize', 'algorithm=newton', 'iter=10000']\n",
            "02:58:02 - cmdstanpy - INFO - Chain [1] start processing\n",
            "INFO:cmdstanpy:Chain [1] start processing\n"
          ]
        },
        {
          "output_type": "stream",
          "name": "stdout",
          "text": [
            "Prophet forecast for {'State': 'WI', 'Segment': 'SBG_ACA'} completed\n"
          ]
        },
        {
          "output_type": "stream",
          "name": "stderr",
          "text": [
            "02:58:02 - cmdstanpy - INFO - Chain [1] done processing\n",
            "INFO:cmdstanpy:Chain [1] done processing\n",
            "INFO:prophet:n_changepoints greater than number of observations. Using 19.\n",
            "DEBUG:cmdstanpy:input tempfile: /tmp/tmpfdntuhgz/9d2p82u1.json\n",
            "DEBUG:cmdstanpy:input tempfile: /tmp/tmpfdntuhgz/s0rl10_t.json\n",
            "DEBUG:cmdstanpy:idx 0\n",
            "DEBUG:cmdstanpy:running CmdStan, num_threads: None\n",
            "DEBUG:cmdstanpy:CmdStan args: ['/usr/local/lib/python3.11/dist-packages/prophet/stan_model/prophet_model.bin', 'random', 'seed=42638', 'data', 'file=/tmp/tmpfdntuhgz/9d2p82u1.json', 'init=/tmp/tmpfdntuhgz/s0rl10_t.json', 'output', 'file=/tmp/tmpfdntuhgz/prophet_model1sgg5o69/prophet_model-20250407025802.csv', 'method=optimize', 'algorithm=newton', 'iter=10000']\n",
            "02:58:02 - cmdstanpy - INFO - Chain [1] start processing\n",
            "INFO:cmdstanpy:Chain [1] start processing\n"
          ]
        },
        {
          "output_type": "stream",
          "name": "stdout",
          "text": [
            "Prophet forecast for {'State': 'CA_HMO', 'Segment': 'SBG_LEG'} completed\n"
          ]
        },
        {
          "output_type": "stream",
          "name": "stderr",
          "text": [
            "02:58:03 - cmdstanpy - INFO - Chain [1] done processing\n",
            "INFO:cmdstanpy:Chain [1] done processing\n",
            "INFO:prophet:n_changepoints greater than number of observations. Using 19.\n",
            "DEBUG:cmdstanpy:input tempfile: /tmp/tmpfdntuhgz/0xymd9mt.json\n",
            "DEBUG:cmdstanpy:input tempfile: /tmp/tmpfdntuhgz/160r0ys_.json\n",
            "DEBUG:cmdstanpy:idx 0\n",
            "DEBUG:cmdstanpy:running CmdStan, num_threads: None\n",
            "DEBUG:cmdstanpy:CmdStan args: ['/usr/local/lib/python3.11/dist-packages/prophet/stan_model/prophet_model.bin', 'random', 'seed=92923', 'data', 'file=/tmp/tmpfdntuhgz/0xymd9mt.json', 'init=/tmp/tmpfdntuhgz/160r0ys_.json', 'output', 'file=/tmp/tmpfdntuhgz/prophet_modeluqy5azkx/prophet_model-20250407025803.csv', 'method=optimize', 'algorithm=newton', 'iter=10000']\n",
            "02:58:03 - cmdstanpy - INFO - Chain [1] start processing\n",
            "INFO:cmdstanpy:Chain [1] start processing\n",
            "02:58:03 - cmdstanpy - INFO - Chain [1] done processing\n",
            "INFO:cmdstanpy:Chain [1] done processing\n"
          ]
        },
        {
          "output_type": "stream",
          "name": "stdout",
          "text": [
            "Prophet forecast for {'State': 'CA_PPO', 'Segment': 'SBG_LEG'} completed\n"
          ]
        },
        {
          "output_type": "stream",
          "name": "stderr",
          "text": [
            "INFO:prophet:n_changepoints greater than number of observations. Using 19.\n",
            "DEBUG:cmdstanpy:input tempfile: /tmp/tmpfdntuhgz/bc4r4ttk.json\n",
            "DEBUG:cmdstanpy:input tempfile: /tmp/tmpfdntuhgz/9jff2p37.json\n",
            "DEBUG:cmdstanpy:idx 0\n",
            "DEBUG:cmdstanpy:running CmdStan, num_threads: None\n",
            "DEBUG:cmdstanpy:CmdStan args: ['/usr/local/lib/python3.11/dist-packages/prophet/stan_model/prophet_model.bin', 'random', 'seed=50803', 'data', 'file=/tmp/tmpfdntuhgz/bc4r4ttk.json', 'init=/tmp/tmpfdntuhgz/9jff2p37.json', 'output', 'file=/tmp/tmpfdntuhgz/prophet_modelzvxwb0px/prophet_model-20250407025803.csv', 'method=optimize', 'algorithm=newton', 'iter=10000']\n",
            "02:58:03 - cmdstanpy - INFO - Chain [1] start processing\n",
            "INFO:cmdstanpy:Chain [1] start processing\n",
            "02:58:03 - cmdstanpy - INFO - Chain [1] done processing\n",
            "INFO:cmdstanpy:Chain [1] done processing\n"
          ]
        },
        {
          "output_type": "stream",
          "name": "stdout",
          "text": [
            "Prophet forecast for {'State': 'CO', 'Segment': 'SBG_LEG'} completed\n"
          ]
        },
        {
          "output_type": "stream",
          "name": "stderr",
          "text": [
            "INFO:prophet:n_changepoints greater than number of observations. Using 19.\n",
            "DEBUG:cmdstanpy:input tempfile: /tmp/tmpfdntuhgz/zs4thpan.json\n",
            "DEBUG:cmdstanpy:input tempfile: /tmp/tmpfdntuhgz/u8ufqp00.json\n",
            "DEBUG:cmdstanpy:idx 0\n",
            "DEBUG:cmdstanpy:running CmdStan, num_threads: None\n",
            "DEBUG:cmdstanpy:CmdStan args: ['/usr/local/lib/python3.11/dist-packages/prophet/stan_model/prophet_model.bin', 'random', 'seed=90673', 'data', 'file=/tmp/tmpfdntuhgz/zs4thpan.json', 'init=/tmp/tmpfdntuhgz/u8ufqp00.json', 'output', 'file=/tmp/tmpfdntuhgz/prophet_modelhp5omtiz/prophet_model-20250407025803.csv', 'method=optimize', 'algorithm=newton', 'iter=10000']\n",
            "02:58:03 - cmdstanpy - INFO - Chain [1] start processing\n",
            "INFO:cmdstanpy:Chain [1] start processing\n"
          ]
        },
        {
          "output_type": "stream",
          "name": "stdout",
          "text": [
            "Prophet forecast for {'State': 'CT', 'Segment': 'SBG_LEG'} completed\n"
          ]
        },
        {
          "output_type": "stream",
          "name": "stderr",
          "text": [
            "02:58:03 - cmdstanpy - INFO - Chain [1] done processing\n",
            "INFO:cmdstanpy:Chain [1] done processing\n",
            "INFO:prophet:n_changepoints greater than number of observations. Using 19.\n",
            "DEBUG:cmdstanpy:input tempfile: /tmp/tmpfdntuhgz/muyzz3ls.json\n",
            "DEBUG:cmdstanpy:input tempfile: /tmp/tmpfdntuhgz/yyzh8ng9.json\n",
            "DEBUG:cmdstanpy:idx 0\n",
            "DEBUG:cmdstanpy:running CmdStan, num_threads: None\n",
            "DEBUG:cmdstanpy:CmdStan args: ['/usr/local/lib/python3.11/dist-packages/prophet/stan_model/prophet_model.bin', 'random', 'seed=10957', 'data', 'file=/tmp/tmpfdntuhgz/muyzz3ls.json', 'init=/tmp/tmpfdntuhgz/yyzh8ng9.json', 'output', 'file=/tmp/tmpfdntuhgz/prophet_modelumimkcwa/prophet_model-20250407025804.csv', 'method=optimize', 'algorithm=newton', 'iter=10000']\n",
            "02:58:04 - cmdstanpy - INFO - Chain [1] start processing\n",
            "INFO:cmdstanpy:Chain [1] start processing\n"
          ]
        },
        {
          "output_type": "stream",
          "name": "stdout",
          "text": [
            "Prophet forecast for {'State': 'GA', 'Segment': 'SBG_LEG'} completed\n"
          ]
        },
        {
          "output_type": "stream",
          "name": "stderr",
          "text": [
            "02:58:04 - cmdstanpy - INFO - Chain [1] done processing\n",
            "INFO:cmdstanpy:Chain [1] done processing\n",
            "INFO:prophet:n_changepoints greater than number of observations. Using 19.\n",
            "DEBUG:cmdstanpy:input tempfile: /tmp/tmpfdntuhgz/mfyjxgjb.json\n",
            "DEBUG:cmdstanpy:input tempfile: /tmp/tmpfdntuhgz/x4jite29.json\n",
            "DEBUG:cmdstanpy:idx 0\n",
            "DEBUG:cmdstanpy:running CmdStan, num_threads: None\n",
            "DEBUG:cmdstanpy:CmdStan args: ['/usr/local/lib/python3.11/dist-packages/prophet/stan_model/prophet_model.bin', 'random', 'seed=60687', 'data', 'file=/tmp/tmpfdntuhgz/mfyjxgjb.json', 'init=/tmp/tmpfdntuhgz/x4jite29.json', 'output', 'file=/tmp/tmpfdntuhgz/prophet_modelfs47xi5g/prophet_model-20250407025804.csv', 'method=optimize', 'algorithm=newton', 'iter=10000']\n",
            "02:58:04 - cmdstanpy - INFO - Chain [1] start processing\n",
            "INFO:cmdstanpy:Chain [1] start processing\n"
          ]
        },
        {
          "output_type": "stream",
          "name": "stdout",
          "text": [
            "Prophet forecast for {'State': 'IN', 'Segment': 'SBG_LEG'} completed\n"
          ]
        },
        {
          "output_type": "stream",
          "name": "stderr",
          "text": [
            "02:58:04 - cmdstanpy - INFO - Chain [1] done processing\n",
            "INFO:cmdstanpy:Chain [1] done processing\n",
            "INFO:prophet:n_changepoints greater than number of observations. Using 19.\n",
            "INFO:prophet:n_changepoints greater than number of observations. Using 19.\n",
            "DEBUG:cmdstanpy:input tempfile: /tmp/tmpfdntuhgz/bgxkgg9g.json\n",
            "DEBUG:cmdstanpy:input tempfile: /tmp/tmpfdntuhgz/5dt9k5a1.json\n",
            "DEBUG:cmdstanpy:idx 0\n",
            "DEBUG:cmdstanpy:running CmdStan, num_threads: None\n",
            "DEBUG:cmdstanpy:CmdStan args: ['/usr/local/lib/python3.11/dist-packages/prophet/stan_model/prophet_model.bin', 'random', 'seed=78437', 'data', 'file=/tmp/tmpfdntuhgz/bgxkgg9g.json', 'init=/tmp/tmpfdntuhgz/5dt9k5a1.json', 'output', 'file=/tmp/tmpfdntuhgz/prophet_modelevvat3jr/prophet_model-20250407025804.csv', 'method=optimize', 'algorithm=newton', 'iter=10000']\n",
            "02:58:04 - cmdstanpy - INFO - Chain [1] start processing\n",
            "INFO:cmdstanpy:Chain [1] start processing\n"
          ]
        },
        {
          "output_type": "stream",
          "name": "stdout",
          "text": [
            "Prophet forecast for {'State': 'KY', 'Segment': 'SBG_LEG'} completed\n",
            "Prophet forecast for {'State': 'ME', 'Segment': 'SBG_LEG'} completed\n"
          ]
        },
        {
          "output_type": "stream",
          "name": "stderr",
          "text": [
            "02:58:05 - cmdstanpy - INFO - Chain [1] done processing\n",
            "INFO:cmdstanpy:Chain [1] done processing\n",
            "INFO:prophet:n_changepoints greater than number of observations. Using 19.\n",
            "DEBUG:cmdstanpy:input tempfile: /tmp/tmpfdntuhgz/3il1i1yg.json\n",
            "DEBUG:cmdstanpy:input tempfile: /tmp/tmpfdntuhgz/66_8hw5o.json\n",
            "DEBUG:cmdstanpy:idx 0\n",
            "DEBUG:cmdstanpy:running CmdStan, num_threads: None\n",
            "DEBUG:cmdstanpy:CmdStan args: ['/usr/local/lib/python3.11/dist-packages/prophet/stan_model/prophet_model.bin', 'random', 'seed=37170', 'data', 'file=/tmp/tmpfdntuhgz/3il1i1yg.json', 'init=/tmp/tmpfdntuhgz/66_8hw5o.json', 'output', 'file=/tmp/tmpfdntuhgz/prophet_modelx01pbxi_/prophet_model-20250407025805.csv', 'method=optimize', 'algorithm=newton', 'iter=10000']\n",
            "02:58:05 - cmdstanpy - INFO - Chain [1] start processing\n",
            "INFO:cmdstanpy:Chain [1] start processing\n"
          ]
        },
        {
          "output_type": "stream",
          "name": "stdout",
          "text": [
            "Prophet forecast for {'State': 'MO', 'Segment': 'SBG_LEG'} completed\n"
          ]
        },
        {
          "output_type": "stream",
          "name": "stderr",
          "text": [
            "02:58:05 - cmdstanpy - INFO - Chain [1] done processing\n",
            "INFO:cmdstanpy:Chain [1] done processing\n",
            "INFO:prophet:n_changepoints greater than number of observations. Using 19.\n",
            "DEBUG:cmdstanpy:input tempfile: /tmp/tmpfdntuhgz/8zxutaez.json\n",
            "DEBUG:cmdstanpy:input tempfile: /tmp/tmpfdntuhgz/uzn91als.json\n",
            "DEBUG:cmdstanpy:idx 0\n",
            "DEBUG:cmdstanpy:running CmdStan, num_threads: None\n",
            "DEBUG:cmdstanpy:CmdStan args: ['/usr/local/lib/python3.11/dist-packages/prophet/stan_model/prophet_model.bin', 'random', 'seed=55224', 'data', 'file=/tmp/tmpfdntuhgz/8zxutaez.json', 'init=/tmp/tmpfdntuhgz/uzn91als.json', 'output', 'file=/tmp/tmpfdntuhgz/prophet_model5dnme010/prophet_model-20250407025805.csv', 'method=optimize', 'algorithm=newton', 'iter=10000']\n",
            "02:58:05 - cmdstanpy - INFO - Chain [1] start processing\n",
            "INFO:cmdstanpy:Chain [1] start processing\n",
            "02:58:05 - cmdstanpy - INFO - Chain [1] done processing\n",
            "INFO:cmdstanpy:Chain [1] done processing\n"
          ]
        },
        {
          "output_type": "stream",
          "name": "stdout",
          "text": [
            "Prophet forecast for {'State': 'NH', 'Segment': 'SBG_LEG'} completed\n"
          ]
        },
        {
          "output_type": "stream",
          "name": "stderr",
          "text": [
            "INFO:prophet:n_changepoints greater than number of observations. Using 19.\n",
            "INFO:prophet:n_changepoints greater than number of observations. Using 19.\n",
            "DEBUG:cmdstanpy:input tempfile: /tmp/tmpfdntuhgz/twflpm2i.json\n",
            "DEBUG:cmdstanpy:input tempfile: /tmp/tmpfdntuhgz/gm63tm5z.json\n",
            "DEBUG:cmdstanpy:idx 0\n",
            "DEBUG:cmdstanpy:running CmdStan, num_threads: None\n",
            "DEBUG:cmdstanpy:CmdStan args: ['/usr/local/lib/python3.11/dist-packages/prophet/stan_model/prophet_model.bin', 'random', 'seed=78881', 'data', 'file=/tmp/tmpfdntuhgz/twflpm2i.json', 'init=/tmp/tmpfdntuhgz/gm63tm5z.json', 'output', 'file=/tmp/tmpfdntuhgz/prophet_model3n5a5c88/prophet_model-20250407025805.csv', 'method=optimize', 'algorithm=newton', 'iter=10000']\n",
            "02:58:05 - cmdstanpy - INFO - Chain [1] start processing\n",
            "INFO:cmdstanpy:Chain [1] start processing\n"
          ]
        },
        {
          "output_type": "stream",
          "name": "stdout",
          "text": [
            "Prophet forecast for {'State': 'NV', 'Segment': 'SBG_LEG'} completed\n",
            "Prophet forecast for {'State': 'NY', 'Segment': 'SBG_LEG'} completed\n"
          ]
        },
        {
          "output_type": "stream",
          "name": "stderr",
          "text": [
            "02:58:22 - cmdstanpy - INFO - Chain [1] done processing\n",
            "INFO:cmdstanpy:Chain [1] done processing\n",
            "INFO:prophet:n_changepoints greater than number of observations. Using 19.\n",
            "INFO:prophet:n_changepoints greater than number of observations. Using 19.\n",
            "DEBUG:cmdstanpy:input tempfile: /tmp/tmpfdntuhgz/cn83tnmk.json\n",
            "DEBUG:cmdstanpy:input tempfile: /tmp/tmpfdntuhgz/_6up2n5q.json\n",
            "DEBUG:cmdstanpy:idx 0\n",
            "DEBUG:cmdstanpy:running CmdStan, num_threads: None\n",
            "DEBUG:cmdstanpy:CmdStan args: ['/usr/local/lib/python3.11/dist-packages/prophet/stan_model/prophet_model.bin', 'random', 'seed=50804', 'data', 'file=/tmp/tmpfdntuhgz/cn83tnmk.json', 'init=/tmp/tmpfdntuhgz/_6up2n5q.json', 'output', 'file=/tmp/tmpfdntuhgz/prophet_modelb9k_30cw/prophet_model-20250407025822.csv', 'method=optimize', 'algorithm=newton', 'iter=10000']\n",
            "02:58:22 - cmdstanpy - INFO - Chain [1] start processing\n",
            "INFO:cmdstanpy:Chain [1] start processing\n"
          ]
        },
        {
          "output_type": "stream",
          "name": "stdout",
          "text": [
            "Prophet forecast for {'State': 'OH', 'Segment': 'SBG_LEG'} completed\n",
            "Prophet forecast for {'State': 'VA', 'Segment': 'SBG_LEG'} completed\n"
          ]
        },
        {
          "output_type": "stream",
          "name": "stderr",
          "text": [
            "02:58:22 - cmdstanpy - INFO - Chain [1] done processing\n",
            "INFO:cmdstanpy:Chain [1] done processing\n",
            "INFO:prophet:n_changepoints greater than number of observations. Using 19.\n",
            "INFO:prophet:n_changepoints greater than number of observations. Using 19.\n",
            "INFO:prophet:n_changepoints greater than number of observations. Using 19.\n"
          ]
        },
        {
          "output_type": "stream",
          "name": "stdout",
          "text": [
            "Prophet forecast for {'State': 'WI', 'Segment': 'SBG_LEG'} completed\n",
            "Prophet forecast for {'State': 'CA_HMO', 'Segment': 'SBG_MEW'} completed\n",
            "Prophet forecast for {'State': 'CA_PPO', 'Segment': 'SBG_MEW'} completed\n"
          ]
        },
        {
          "output_type": "stream",
          "name": "stderr",
          "text": [
            "INFO:prophet:n_changepoints greater than number of observations. Using 19.\n",
            "INFO:prophet:n_changepoints greater than number of observations. Using 19.\n",
            "DEBUG:cmdstanpy:input tempfile: /tmp/tmpfdntuhgz/nfcgqidc.json\n",
            "DEBUG:cmdstanpy:input tempfile: /tmp/tmpfdntuhgz/bswxlry_.json\n",
            "DEBUG:cmdstanpy:idx 0\n",
            "DEBUG:cmdstanpy:running CmdStan, num_threads: None\n",
            "DEBUG:cmdstanpy:CmdStan args: ['/usr/local/lib/python3.11/dist-packages/prophet/stan_model/prophet_model.bin', 'random', 'seed=47070', 'data', 'file=/tmp/tmpfdntuhgz/nfcgqidc.json', 'init=/tmp/tmpfdntuhgz/bswxlry_.json', 'output', 'file=/tmp/tmpfdntuhgz/prophet_modelz84mdzkl/prophet_model-20250407025823.csv', 'method=optimize', 'algorithm=newton', 'iter=10000']\n",
            "02:58:23 - cmdstanpy - INFO - Chain [1] start processing\n",
            "INFO:cmdstanpy:Chain [1] start processing\n"
          ]
        },
        {
          "output_type": "stream",
          "name": "stdout",
          "text": [
            "Prophet forecast for {'State': 'CO', 'Segment': 'SBG_MEW'} completed\n",
            "Prophet forecast for {'State': 'CT', 'Segment': 'SBG_MEW'} completed\n"
          ]
        },
        {
          "output_type": "stream",
          "name": "stderr",
          "text": [
            "02:58:23 - cmdstanpy - INFO - Chain [1] done processing\n",
            "INFO:cmdstanpy:Chain [1] done processing\n",
            "INFO:prophet:n_changepoints greater than number of observations. Using 19.\n",
            "INFO:prophet:n_changepoints greater than number of observations. Using 19.\n",
            "DEBUG:cmdstanpy:input tempfile: /tmp/tmpfdntuhgz/6ud1ci30.json\n",
            "DEBUG:cmdstanpy:input tempfile: /tmp/tmpfdntuhgz/3rhwiq6o.json\n",
            "DEBUG:cmdstanpy:idx 0\n",
            "DEBUG:cmdstanpy:running CmdStan, num_threads: None\n",
            "DEBUG:cmdstanpy:CmdStan args: ['/usr/local/lib/python3.11/dist-packages/prophet/stan_model/prophet_model.bin', 'random', 'seed=19677', 'data', 'file=/tmp/tmpfdntuhgz/6ud1ci30.json', 'init=/tmp/tmpfdntuhgz/3rhwiq6o.json', 'output', 'file=/tmp/tmpfdntuhgz/prophet_modelr7ksv5ee/prophet_model-20250407025823.csv', 'method=optimize', 'algorithm=newton', 'iter=10000']\n",
            "02:58:23 - cmdstanpy - INFO - Chain [1] start processing\n",
            "INFO:cmdstanpy:Chain [1] start processing\n"
          ]
        },
        {
          "output_type": "stream",
          "name": "stdout",
          "text": [
            "Prophet forecast for {'State': 'GA', 'Segment': 'SBG_MEW'} completed\n",
            "Prophet forecast for {'State': 'IN', 'Segment': 'SBG_MEW'} completed\n"
          ]
        },
        {
          "output_type": "stream",
          "name": "stderr",
          "text": [
            "02:58:23 - cmdstanpy - INFO - Chain [1] done processing\n",
            "INFO:cmdstanpy:Chain [1] done processing\n",
            "INFO:prophet:n_changepoints greater than number of observations. Using 19.\n",
            "INFO:prophet:n_changepoints greater than number of observations. Using 19.\n",
            "DEBUG:cmdstanpy:input tempfile: /tmp/tmpfdntuhgz/76c0lrat.json\n",
            "DEBUG:cmdstanpy:input tempfile: /tmp/tmpfdntuhgz/s7xvab4s.json\n",
            "DEBUG:cmdstanpy:idx 0\n",
            "DEBUG:cmdstanpy:running CmdStan, num_threads: None\n",
            "DEBUG:cmdstanpy:CmdStan args: ['/usr/local/lib/python3.11/dist-packages/prophet/stan_model/prophet_model.bin', 'random', 'seed=41088', 'data', 'file=/tmp/tmpfdntuhgz/76c0lrat.json', 'init=/tmp/tmpfdntuhgz/s7xvab4s.json', 'output', 'file=/tmp/tmpfdntuhgz/prophet_model1gqym5sm/prophet_model-20250407025824.csv', 'method=optimize', 'algorithm=newton', 'iter=10000']\n",
            "02:58:24 - cmdstanpy - INFO - Chain [1] start processing\n",
            "INFO:cmdstanpy:Chain [1] start processing\n"
          ]
        },
        {
          "output_type": "stream",
          "name": "stdout",
          "text": [
            "Prophet forecast for {'State': 'KY', 'Segment': 'SBG_MEW'} completed\n",
            "Prophet forecast for {'State': 'ME', 'Segment': 'SBG_MEW'} completed\n"
          ]
        },
        {
          "output_type": "stream",
          "name": "stderr",
          "text": [
            "02:58:24 - cmdstanpy - INFO - Chain [1] done processing\n",
            "INFO:cmdstanpy:Chain [1] done processing\n",
            "INFO:prophet:n_changepoints greater than number of observations. Using 19.\n",
            "INFO:prophet:n_changepoints greater than number of observations. Using 19.\n",
            "INFO:prophet:n_changepoints greater than number of observations. Using 19.\n"
          ]
        },
        {
          "output_type": "stream",
          "name": "stdout",
          "text": [
            "Prophet forecast for {'State': 'MO', 'Segment': 'SBG_MEW'} completed\n",
            "Prophet forecast for {'State': 'NH', 'Segment': 'SBG_MEW'} completed\n",
            "Prophet forecast for {'State': 'NV', 'Segment': 'SBG_MEW'} completed\n"
          ]
        },
        {
          "output_type": "stream",
          "name": "stderr",
          "text": [
            "INFO:prophet:n_changepoints greater than number of observations. Using 19.\n",
            "DEBUG:cmdstanpy:input tempfile: /tmp/tmpfdntuhgz/63hl12c_.json\n",
            "DEBUG:cmdstanpy:input tempfile: /tmp/tmpfdntuhgz/3d_u1v5f.json\n",
            "DEBUG:cmdstanpy:idx 0\n",
            "DEBUG:cmdstanpy:running CmdStan, num_threads: None\n",
            "DEBUG:cmdstanpy:CmdStan args: ['/usr/local/lib/python3.11/dist-packages/prophet/stan_model/prophet_model.bin', 'random', 'seed=82088', 'data', 'file=/tmp/tmpfdntuhgz/63hl12c_.json', 'init=/tmp/tmpfdntuhgz/3d_u1v5f.json', 'output', 'file=/tmp/tmpfdntuhgz/prophet_modelmsaasl8l/prophet_model-20250407025824.csv', 'method=optimize', 'algorithm=newton', 'iter=10000']\n",
            "02:58:24 - cmdstanpy - INFO - Chain [1] start processing\n",
            "INFO:cmdstanpy:Chain [1] start processing\n"
          ]
        },
        {
          "output_type": "stream",
          "name": "stdout",
          "text": [
            "Prophet forecast for {'State': 'NY', 'Segment': 'SBG_MEW'} completed\n"
          ]
        },
        {
          "output_type": "stream",
          "name": "stderr",
          "text": [
            "02:58:24 - cmdstanpy - INFO - Chain [1] done processing\n",
            "INFO:cmdstanpy:Chain [1] done processing\n",
            "INFO:prophet:n_changepoints greater than number of observations. Using 19.\n",
            "DEBUG:cmdstanpy:input tempfile: /tmp/tmpfdntuhgz/wtpgxf6r.json\n",
            "DEBUG:cmdstanpy:input tempfile: /tmp/tmpfdntuhgz/f93mzgfo.json\n",
            "DEBUG:cmdstanpy:idx 0\n",
            "DEBUG:cmdstanpy:running CmdStan, num_threads: None\n",
            "DEBUG:cmdstanpy:CmdStan args: ['/usr/local/lib/python3.11/dist-packages/prophet/stan_model/prophet_model.bin', 'random', 'seed=98182', 'data', 'file=/tmp/tmpfdntuhgz/wtpgxf6r.json', 'init=/tmp/tmpfdntuhgz/f93mzgfo.json', 'output', 'file=/tmp/tmpfdntuhgz/prophet_modelmjfrw32z/prophet_model-20250407025824.csv', 'method=optimize', 'algorithm=newton', 'iter=10000']\n",
            "02:58:24 - cmdstanpy - INFO - Chain [1] start processing\n",
            "INFO:cmdstanpy:Chain [1] start processing\n"
          ]
        },
        {
          "output_type": "stream",
          "name": "stdout",
          "text": [
            "Prophet forecast for {'State': 'OH', 'Segment': 'SBG_MEW'} completed\n"
          ]
        },
        {
          "output_type": "stream",
          "name": "stderr",
          "text": [
            "02:58:25 - cmdstanpy - INFO - Chain [1] done processing\n",
            "INFO:cmdstanpy:Chain [1] done processing\n",
            "INFO:prophet:n_changepoints greater than number of observations. Using 19.\n",
            "INFO:prophet:n_changepoints greater than number of observations. Using 19.\n",
            "INFO:prophet:n_changepoints greater than number of observations. Using 19.\n",
            "DEBUG:cmdstanpy:input tempfile: /tmp/tmpfdntuhgz/oyi87ejk.json\n",
            "DEBUG:cmdstanpy:input tempfile: /tmp/tmpfdntuhgz/rmf3kg89.json\n",
            "DEBUG:cmdstanpy:idx 0\n",
            "DEBUG:cmdstanpy:running CmdStan, num_threads: None\n",
            "DEBUG:cmdstanpy:CmdStan args: ['/usr/local/lib/python3.11/dist-packages/prophet/stan_model/prophet_model.bin', 'random', 'seed=63075', 'data', 'file=/tmp/tmpfdntuhgz/oyi87ejk.json', 'init=/tmp/tmpfdntuhgz/rmf3kg89.json', 'output', 'file=/tmp/tmpfdntuhgz/prophet_modeldqdi3hjc/prophet_model-20250407025825.csv', 'method=optimize', 'algorithm=newton', 'iter=10000']\n",
            "02:58:25 - cmdstanpy - INFO - Chain [1] start processing\n",
            "INFO:cmdstanpy:Chain [1] start processing\n"
          ]
        },
        {
          "output_type": "stream",
          "name": "stdout",
          "text": [
            "Prophet forecast for {'State': 'VA', 'Segment': 'SBG_MEW'} completed\n",
            "Prophet forecast for {'State': 'WI', 'Segment': 'SBG_MEW'} completed\n",
            "Prophet forecast for {'State': 'CA_HMO', 'Segment': 'LGP_SHP'} completed\n"
          ]
        },
        {
          "output_type": "stream",
          "name": "stderr",
          "text": [
            "02:58:25 - cmdstanpy - INFO - Chain [1] done processing\n",
            "INFO:cmdstanpy:Chain [1] done processing\n",
            "INFO:prophet:n_changepoints greater than number of observations. Using 19.\n",
            "DEBUG:cmdstanpy:input tempfile: /tmp/tmpfdntuhgz/id3mcdyx.json\n",
            "DEBUG:cmdstanpy:input tempfile: /tmp/tmpfdntuhgz/4nq18ubx.json\n",
            "DEBUG:cmdstanpy:idx 0\n",
            "DEBUG:cmdstanpy:running CmdStan, num_threads: None\n",
            "DEBUG:cmdstanpy:CmdStan args: ['/usr/local/lib/python3.11/dist-packages/prophet/stan_model/prophet_model.bin', 'random', 'seed=35637', 'data', 'file=/tmp/tmpfdntuhgz/id3mcdyx.json', 'init=/tmp/tmpfdntuhgz/4nq18ubx.json', 'output', 'file=/tmp/tmpfdntuhgz/prophet_modelkxwbhczr/prophet_model-20250407025825.csv', 'method=optimize', 'algorithm=newton', 'iter=10000']\n",
            "02:58:25 - cmdstanpy - INFO - Chain [1] start processing\n",
            "INFO:cmdstanpy:Chain [1] start processing\n"
          ]
        },
        {
          "output_type": "stream",
          "name": "stdout",
          "text": [
            "Prophet forecast for {'State': 'CA_PPO', 'Segment': 'LGP_SHP'} completed\n"
          ]
        },
        {
          "output_type": "stream",
          "name": "stderr",
          "text": [
            "02:58:25 - cmdstanpy - INFO - Chain [1] done processing\n",
            "INFO:cmdstanpy:Chain [1] done processing\n",
            "INFO:prophet:n_changepoints greater than number of observations. Using 19.\n",
            "INFO:prophet:n_changepoints greater than number of observations. Using 19.\n",
            "DEBUG:cmdstanpy:input tempfile: /tmp/tmpfdntuhgz/2v0qhczu.json\n",
            "DEBUG:cmdstanpy:input tempfile: /tmp/tmpfdntuhgz/da2c0m0c.json\n",
            "DEBUG:cmdstanpy:idx 0\n",
            "DEBUG:cmdstanpy:running CmdStan, num_threads: None\n",
            "DEBUG:cmdstanpy:CmdStan args: ['/usr/local/lib/python3.11/dist-packages/prophet/stan_model/prophet_model.bin', 'random', 'seed=91258', 'data', 'file=/tmp/tmpfdntuhgz/2v0qhczu.json', 'init=/tmp/tmpfdntuhgz/da2c0m0c.json', 'output', 'file=/tmp/tmpfdntuhgz/prophet_model1lqj66g8/prophet_model-20250407025826.csv', 'method=optimize', 'algorithm=newton', 'iter=10000']\n",
            "02:58:26 - cmdstanpy - INFO - Chain [1] start processing\n",
            "INFO:cmdstanpy:Chain [1] start processing\n"
          ]
        },
        {
          "output_type": "stream",
          "name": "stdout",
          "text": [
            "Prophet forecast for {'State': 'CO', 'Segment': 'LGP_SHP'} completed\n",
            "Prophet forecast for {'State': 'CT', 'Segment': 'LGP_SHP'} completed\n"
          ]
        },
        {
          "output_type": "stream",
          "name": "stderr",
          "text": [
            "02:58:44 - cmdstanpy - INFO - Chain [1] done processing\n",
            "INFO:cmdstanpy:Chain [1] done processing\n",
            "INFO:prophet:n_changepoints greater than number of observations. Using 19.\n",
            "DEBUG:cmdstanpy:input tempfile: /tmp/tmpfdntuhgz/ehedqce7.json\n",
            "DEBUG:cmdstanpy:input tempfile: /tmp/tmpfdntuhgz/hn4nk8v1.json\n",
            "DEBUG:cmdstanpy:idx 0\n",
            "DEBUG:cmdstanpy:running CmdStan, num_threads: None\n",
            "DEBUG:cmdstanpy:CmdStan args: ['/usr/local/lib/python3.11/dist-packages/prophet/stan_model/prophet_model.bin', 'random', 'seed=74624', 'data', 'file=/tmp/tmpfdntuhgz/ehedqce7.json', 'init=/tmp/tmpfdntuhgz/hn4nk8v1.json', 'output', 'file=/tmp/tmpfdntuhgz/prophet_modelw8gp78cw/prophet_model-20250407025844.csv', 'method=optimize', 'algorithm=newton', 'iter=10000']\n",
            "02:58:44 - cmdstanpy - INFO - Chain [1] start processing\n",
            "INFO:cmdstanpy:Chain [1] start processing\n",
            "02:58:44 - cmdstanpy - INFO - Chain [1] done processing\n",
            "INFO:cmdstanpy:Chain [1] done processing\n"
          ]
        },
        {
          "output_type": "stream",
          "name": "stdout",
          "text": [
            "Prophet forecast for {'State': 'GA', 'Segment': 'LGP_SHP'} completed\n"
          ]
        },
        {
          "output_type": "stream",
          "name": "stderr",
          "text": [
            "INFO:prophet:n_changepoints greater than number of observations. Using 19.\n",
            "DEBUG:cmdstanpy:input tempfile: /tmp/tmpfdntuhgz/e670miie.json\n",
            "DEBUG:cmdstanpy:input tempfile: /tmp/tmpfdntuhgz/_b0ppjux.json\n",
            "DEBUG:cmdstanpy:idx 0\n",
            "DEBUG:cmdstanpy:running CmdStan, num_threads: None\n",
            "DEBUG:cmdstanpy:CmdStan args: ['/usr/local/lib/python3.11/dist-packages/prophet/stan_model/prophet_model.bin', 'random', 'seed=81835', 'data', 'file=/tmp/tmpfdntuhgz/e670miie.json', 'init=/tmp/tmpfdntuhgz/_b0ppjux.json', 'output', 'file=/tmp/tmpfdntuhgz/prophet_modelmjmnzgyz/prophet_model-20250407025844.csv', 'method=optimize', 'algorithm=newton', 'iter=10000']\n",
            "02:58:44 - cmdstanpy - INFO - Chain [1] start processing\n",
            "INFO:cmdstanpy:Chain [1] start processing\n",
            "02:58:44 - cmdstanpy - INFO - Chain [1] done processing\n",
            "INFO:cmdstanpy:Chain [1] done processing\n"
          ]
        },
        {
          "output_type": "stream",
          "name": "stdout",
          "text": [
            "Prophet forecast for {'State': 'IN', 'Segment': 'LGP_SHP'} completed\n"
          ]
        },
        {
          "output_type": "stream",
          "name": "stderr",
          "text": [
            "INFO:prophet:n_changepoints greater than number of observations. Using 19.\n",
            "DEBUG:cmdstanpy:input tempfile: /tmp/tmpfdntuhgz/go3sjxga.json\n",
            "DEBUG:cmdstanpy:input tempfile: /tmp/tmpfdntuhgz/qm70x3zf.json\n",
            "DEBUG:cmdstanpy:idx 0\n",
            "DEBUG:cmdstanpy:running CmdStan, num_threads: None\n",
            "DEBUG:cmdstanpy:CmdStan args: ['/usr/local/lib/python3.11/dist-packages/prophet/stan_model/prophet_model.bin', 'random', 'seed=27603', 'data', 'file=/tmp/tmpfdntuhgz/go3sjxga.json', 'init=/tmp/tmpfdntuhgz/qm70x3zf.json', 'output', 'file=/tmp/tmpfdntuhgz/prophet_modelqznyoxty/prophet_model-20250407025844.csv', 'method=optimize', 'algorithm=newton', 'iter=10000']\n",
            "02:58:44 - cmdstanpy - INFO - Chain [1] start processing\n",
            "INFO:cmdstanpy:Chain [1] start processing\n"
          ]
        },
        {
          "output_type": "stream",
          "name": "stdout",
          "text": [
            "Prophet forecast for {'State': 'KY', 'Segment': 'LGP_SHP'} completed\n"
          ]
        },
        {
          "output_type": "stream",
          "name": "stderr",
          "text": [
            "02:58:44 - cmdstanpy - INFO - Chain [1] done processing\n",
            "INFO:cmdstanpy:Chain [1] done processing\n",
            "INFO:prophet:n_changepoints greater than number of observations. Using 19.\n",
            "DEBUG:cmdstanpy:input tempfile: /tmp/tmpfdntuhgz/5ou9hpq3.json\n",
            "DEBUG:cmdstanpy:input tempfile: /tmp/tmpfdntuhgz/qd1napyf.json\n",
            "DEBUG:cmdstanpy:idx 0\n",
            "DEBUG:cmdstanpy:running CmdStan, num_threads: None\n",
            "DEBUG:cmdstanpy:CmdStan args: ['/usr/local/lib/python3.11/dist-packages/prophet/stan_model/prophet_model.bin', 'random', 'seed=32366', 'data', 'file=/tmp/tmpfdntuhgz/5ou9hpq3.json', 'init=/tmp/tmpfdntuhgz/qd1napyf.json', 'output', 'file=/tmp/tmpfdntuhgz/prophet_modelip7lyhac/prophet_model-20250407025844.csv', 'method=optimize', 'algorithm=newton', 'iter=10000']\n",
            "02:58:44 - cmdstanpy - INFO - Chain [1] start processing\n",
            "INFO:cmdstanpy:Chain [1] start processing\n",
            "02:58:45 - cmdstanpy - INFO - Chain [1] done processing\n",
            "INFO:cmdstanpy:Chain [1] done processing\n"
          ]
        },
        {
          "output_type": "stream",
          "name": "stdout",
          "text": [
            "Prophet forecast for {'State': 'ME', 'Segment': 'LGP_SHP'} completed\n"
          ]
        },
        {
          "output_type": "stream",
          "name": "stderr",
          "text": [
            "INFO:prophet:n_changepoints greater than number of observations. Using 19.\n",
            "DEBUG:cmdstanpy:input tempfile: /tmp/tmpfdntuhgz/y5vqfda2.json\n",
            "DEBUG:cmdstanpy:input tempfile: /tmp/tmpfdntuhgz/vvicr56h.json\n",
            "DEBUG:cmdstanpy:idx 0\n",
            "DEBUG:cmdstanpy:running CmdStan, num_threads: None\n",
            "DEBUG:cmdstanpy:CmdStan args: ['/usr/local/lib/python3.11/dist-packages/prophet/stan_model/prophet_model.bin', 'random', 'seed=32457', 'data', 'file=/tmp/tmpfdntuhgz/y5vqfda2.json', 'init=/tmp/tmpfdntuhgz/vvicr56h.json', 'output', 'file=/tmp/tmpfdntuhgz/prophet_model4z8jypr5/prophet_model-20250407025845.csv', 'method=optimize', 'algorithm=newton', 'iter=10000']\n",
            "02:58:45 - cmdstanpy - INFO - Chain [1] start processing\n",
            "INFO:cmdstanpy:Chain [1] start processing\n"
          ]
        },
        {
          "output_type": "stream",
          "name": "stdout",
          "text": [
            "Prophet forecast for {'State': 'MO', 'Segment': 'LGP_SHP'} completed\n"
          ]
        },
        {
          "output_type": "stream",
          "name": "stderr",
          "text": [
            "02:58:45 - cmdstanpy - INFO - Chain [1] done processing\n",
            "INFO:cmdstanpy:Chain [1] done processing\n",
            "INFO:prophet:n_changepoints greater than number of observations. Using 19.\n",
            "INFO:prophet:n_changepoints greater than number of observations. Using 19.\n",
            "DEBUG:cmdstanpy:input tempfile: /tmp/tmpfdntuhgz/1nqztzyg.json\n",
            "DEBUG:cmdstanpy:input tempfile: /tmp/tmpfdntuhgz/dqwwkcqj.json\n",
            "DEBUG:cmdstanpy:idx 0\n",
            "DEBUG:cmdstanpy:running CmdStan, num_threads: None\n",
            "DEBUG:cmdstanpy:CmdStan args: ['/usr/local/lib/python3.11/dist-packages/prophet/stan_model/prophet_model.bin', 'random', 'seed=69902', 'data', 'file=/tmp/tmpfdntuhgz/1nqztzyg.json', 'init=/tmp/tmpfdntuhgz/dqwwkcqj.json', 'output', 'file=/tmp/tmpfdntuhgz/prophet_modelmu812mkc/prophet_model-20250407025845.csv', 'method=optimize', 'algorithm=newton', 'iter=10000']\n",
            "02:58:45 - cmdstanpy - INFO - Chain [1] start processing\n",
            "INFO:cmdstanpy:Chain [1] start processing\n"
          ]
        },
        {
          "output_type": "stream",
          "name": "stdout",
          "text": [
            "Prophet forecast for {'State': 'NH', 'Segment': 'LGP_SHP'} completed\n",
            "Prophet forecast for {'State': 'NV', 'Segment': 'LGP_SHP'} completed\n"
          ]
        },
        {
          "output_type": "stream",
          "name": "stderr",
          "text": [
            "02:59:02 - cmdstanpy - INFO - Chain [1] done processing\n",
            "INFO:cmdstanpy:Chain [1] done processing\n",
            "INFO:prophet:n_changepoints greater than number of observations. Using 19.\n",
            "DEBUG:cmdstanpy:input tempfile: /tmp/tmpfdntuhgz/bywzobmj.json\n",
            "DEBUG:cmdstanpy:input tempfile: /tmp/tmpfdntuhgz/np7kybsn.json\n",
            "DEBUG:cmdstanpy:idx 0\n",
            "DEBUG:cmdstanpy:running CmdStan, num_threads: None\n",
            "DEBUG:cmdstanpy:CmdStan args: ['/usr/local/lib/python3.11/dist-packages/prophet/stan_model/prophet_model.bin', 'random', 'seed=70933', 'data', 'file=/tmp/tmpfdntuhgz/bywzobmj.json', 'init=/tmp/tmpfdntuhgz/np7kybsn.json', 'output', 'file=/tmp/tmpfdntuhgz/prophet_modelk5p2u19z/prophet_model-20250407025902.csv', 'method=optimize', 'algorithm=newton', 'iter=10000']\n",
            "02:59:02 - cmdstanpy - INFO - Chain [1] start processing\n",
            "INFO:cmdstanpy:Chain [1] start processing\n"
          ]
        },
        {
          "output_type": "stream",
          "name": "stdout",
          "text": [
            "Prophet forecast for {'State': 'NY', 'Segment': 'LGP_SHP'} completed\n"
          ]
        },
        {
          "output_type": "stream",
          "name": "stderr",
          "text": [
            "02:59:02 - cmdstanpy - INFO - Chain [1] done processing\n",
            "INFO:cmdstanpy:Chain [1] done processing\n",
            "INFO:prophet:n_changepoints greater than number of observations. Using 19.\n",
            "DEBUG:cmdstanpy:input tempfile: /tmp/tmpfdntuhgz/gmo8p0op.json\n",
            "DEBUG:cmdstanpy:input tempfile: /tmp/tmpfdntuhgz/es6v3u7l.json\n",
            "DEBUG:cmdstanpy:idx 0\n",
            "DEBUG:cmdstanpy:running CmdStan, num_threads: None\n",
            "DEBUG:cmdstanpy:CmdStan args: ['/usr/local/lib/python3.11/dist-packages/prophet/stan_model/prophet_model.bin', 'random', 'seed=11854', 'data', 'file=/tmp/tmpfdntuhgz/gmo8p0op.json', 'init=/tmp/tmpfdntuhgz/es6v3u7l.json', 'output', 'file=/tmp/tmpfdntuhgz/prophet_modelyjay9qe1/prophet_model-20250407025902.csv', 'method=optimize', 'algorithm=newton', 'iter=10000']\n",
            "02:59:02 - cmdstanpy - INFO - Chain [1] start processing\n",
            "INFO:cmdstanpy:Chain [1] start processing\n"
          ]
        },
        {
          "output_type": "stream",
          "name": "stdout",
          "text": [
            "Prophet forecast for {'State': 'OH', 'Segment': 'LGP_SHP'} completed\n"
          ]
        },
        {
          "output_type": "stream",
          "name": "stderr",
          "text": [
            "02:59:02 - cmdstanpy - INFO - Chain [1] done processing\n",
            "INFO:cmdstanpy:Chain [1] done processing\n",
            "INFO:prophet:n_changepoints greater than number of observations. Using 19.\n",
            "DEBUG:cmdstanpy:input tempfile: /tmp/tmpfdntuhgz/z6zn7hlz.json\n",
            "DEBUG:cmdstanpy:input tempfile: /tmp/tmpfdntuhgz/xqa9kz3j.json\n",
            "DEBUG:cmdstanpy:idx 0\n",
            "DEBUG:cmdstanpy:running CmdStan, num_threads: None\n",
            "DEBUG:cmdstanpy:CmdStan args: ['/usr/local/lib/python3.11/dist-packages/prophet/stan_model/prophet_model.bin', 'random', 'seed=57805', 'data', 'file=/tmp/tmpfdntuhgz/z6zn7hlz.json', 'init=/tmp/tmpfdntuhgz/xqa9kz3j.json', 'output', 'file=/tmp/tmpfdntuhgz/prophet_modelvxrtn7gm/prophet_model-20250407025903.csv', 'method=optimize', 'algorithm=newton', 'iter=10000']\n",
            "02:59:03 - cmdstanpy - INFO - Chain [1] start processing\n",
            "INFO:cmdstanpy:Chain [1] start processing\n"
          ]
        },
        {
          "output_type": "stream",
          "name": "stdout",
          "text": [
            "Prophet forecast for {'State': 'VA', 'Segment': 'LGP_SHP'} completed\n"
          ]
        },
        {
          "output_type": "stream",
          "name": "stderr",
          "text": [
            "02:59:03 - cmdstanpy - INFO - Chain [1] done processing\n",
            "INFO:cmdstanpy:Chain [1] done processing\n",
            "INFO:prophet:n_changepoints greater than number of observations. Using 19.\n",
            "DEBUG:cmdstanpy:input tempfile: /tmp/tmpfdntuhgz/6bzt5owc.json\n",
            "DEBUG:cmdstanpy:input tempfile: /tmp/tmpfdntuhgz/q3e7mwtf.json\n",
            "DEBUG:cmdstanpy:idx 0\n",
            "DEBUG:cmdstanpy:running CmdStan, num_threads: None\n",
            "DEBUG:cmdstanpy:CmdStan args: ['/usr/local/lib/python3.11/dist-packages/prophet/stan_model/prophet_model.bin', 'random', 'seed=69708', 'data', 'file=/tmp/tmpfdntuhgz/6bzt5owc.json', 'init=/tmp/tmpfdntuhgz/q3e7mwtf.json', 'output', 'file=/tmp/tmpfdntuhgz/prophet_modelaa4bhqbd/prophet_model-20250407025903.csv', 'method=optimize', 'algorithm=newton', 'iter=10000']\n",
            "02:59:03 - cmdstanpy - INFO - Chain [1] start processing\n",
            "INFO:cmdstanpy:Chain [1] start processing\n"
          ]
        },
        {
          "output_type": "stream",
          "name": "stdout",
          "text": [
            "Prophet forecast for {'State': 'WI', 'Segment': 'LGP_SHP'} completed\n"
          ]
        },
        {
          "output_type": "stream",
          "name": "stderr",
          "text": [
            "02:59:03 - cmdstanpy - INFO - Chain [1] done processing\n",
            "INFO:cmdstanpy:Chain [1] done processing\n",
            "INFO:prophet:n_changepoints greater than number of observations. Using 19.\n",
            "DEBUG:cmdstanpy:input tempfile: /tmp/tmpfdntuhgz/0bfwzba_.json\n",
            "DEBUG:cmdstanpy:input tempfile: /tmp/tmpfdntuhgz/ejg7f1ta.json\n",
            "DEBUG:cmdstanpy:idx 0\n",
            "DEBUG:cmdstanpy:running CmdStan, num_threads: None\n",
            "DEBUG:cmdstanpy:CmdStan args: ['/usr/local/lib/python3.11/dist-packages/prophet/stan_model/prophet_model.bin', 'random', 'seed=8292', 'data', 'file=/tmp/tmpfdntuhgz/0bfwzba_.json', 'init=/tmp/tmpfdntuhgz/ejg7f1ta.json', 'output', 'file=/tmp/tmpfdntuhgz/prophet_modelno5artj8/prophet_model-20250407025903.csv', 'method=optimize', 'algorithm=newton', 'iter=10000']\n",
            "02:59:03 - cmdstanpy - INFO - Chain [1] start processing\n",
            "INFO:cmdstanpy:Chain [1] start processing\n"
          ]
        },
        {
          "output_type": "stream",
          "name": "stdout",
          "text": [
            "Prophet forecast for {'State': 'CA_HMO', 'Segment': 'LGP_NRF'} completed\n"
          ]
        },
        {
          "output_type": "stream",
          "name": "stderr",
          "text": [
            "02:59:21 - cmdstanpy - INFO - Chain [1] done processing\n",
            "INFO:cmdstanpy:Chain [1] done processing\n",
            "INFO:prophet:n_changepoints greater than number of observations. Using 19.\n",
            "DEBUG:cmdstanpy:input tempfile: /tmp/tmpfdntuhgz/yegr6fmg.json\n",
            "DEBUG:cmdstanpy:input tempfile: /tmp/tmpfdntuhgz/spd4b9bc.json\n",
            "DEBUG:cmdstanpy:idx 0\n",
            "DEBUG:cmdstanpy:running CmdStan, num_threads: None\n",
            "DEBUG:cmdstanpy:CmdStan args: ['/usr/local/lib/python3.11/dist-packages/prophet/stan_model/prophet_model.bin', 'random', 'seed=73488', 'data', 'file=/tmp/tmpfdntuhgz/yegr6fmg.json', 'init=/tmp/tmpfdntuhgz/spd4b9bc.json', 'output', 'file=/tmp/tmpfdntuhgz/prophet_model6icdxkby/prophet_model-20250407025921.csv', 'method=optimize', 'algorithm=newton', 'iter=10000']\n",
            "02:59:21 - cmdstanpy - INFO - Chain [1] start processing\n",
            "INFO:cmdstanpy:Chain [1] start processing\n"
          ]
        },
        {
          "output_type": "stream",
          "name": "stdout",
          "text": [
            "Prophet forecast for {'State': 'CA_PPO', 'Segment': 'LGP_NRF'} completed\n"
          ]
        },
        {
          "output_type": "stream",
          "name": "stderr",
          "text": [
            "02:59:21 - cmdstanpy - INFO - Chain [1] done processing\n",
            "INFO:cmdstanpy:Chain [1] done processing\n",
            "INFO:prophet:n_changepoints greater than number of observations. Using 19.\n",
            "DEBUG:cmdstanpy:input tempfile: /tmp/tmpfdntuhgz/etppmm56.json\n",
            "DEBUG:cmdstanpy:input tempfile: /tmp/tmpfdntuhgz/au1rsniy.json\n",
            "DEBUG:cmdstanpy:idx 0\n",
            "DEBUG:cmdstanpy:running CmdStan, num_threads: None\n",
            "DEBUG:cmdstanpy:CmdStan args: ['/usr/local/lib/python3.11/dist-packages/prophet/stan_model/prophet_model.bin', 'random', 'seed=64151', 'data', 'file=/tmp/tmpfdntuhgz/etppmm56.json', 'init=/tmp/tmpfdntuhgz/au1rsniy.json', 'output', 'file=/tmp/tmpfdntuhgz/prophet_modely806rtsf/prophet_model-20250407025921.csv', 'method=optimize', 'algorithm=newton', 'iter=10000']\n",
            "02:59:21 - cmdstanpy - INFO - Chain [1] start processing\n",
            "INFO:cmdstanpy:Chain [1] start processing\n"
          ]
        },
        {
          "output_type": "stream",
          "name": "stdout",
          "text": [
            "Prophet forecast for {'State': 'CO', 'Segment': 'LGP_NRF'} completed\n"
          ]
        },
        {
          "output_type": "stream",
          "name": "stderr",
          "text": [
            "02:59:22 - cmdstanpy - INFO - Chain [1] done processing\n",
            "INFO:cmdstanpy:Chain [1] done processing\n",
            "INFO:prophet:n_changepoints greater than number of observations. Using 19.\n",
            "DEBUG:cmdstanpy:input tempfile: /tmp/tmpfdntuhgz/nwx76nbe.json\n",
            "DEBUG:cmdstanpy:input tempfile: /tmp/tmpfdntuhgz/2irpk0yp.json\n",
            "DEBUG:cmdstanpy:idx 0\n",
            "DEBUG:cmdstanpy:running CmdStan, num_threads: None\n",
            "DEBUG:cmdstanpy:CmdStan args: ['/usr/local/lib/python3.11/dist-packages/prophet/stan_model/prophet_model.bin', 'random', 'seed=79363', 'data', 'file=/tmp/tmpfdntuhgz/nwx76nbe.json', 'init=/tmp/tmpfdntuhgz/2irpk0yp.json', 'output', 'file=/tmp/tmpfdntuhgz/prophet_modelcbqgfpi6/prophet_model-20250407025922.csv', 'method=optimize', 'algorithm=newton', 'iter=10000']\n",
            "02:59:22 - cmdstanpy - INFO - Chain [1] start processing\n",
            "INFO:cmdstanpy:Chain [1] start processing\n"
          ]
        },
        {
          "output_type": "stream",
          "name": "stdout",
          "text": [
            "Prophet forecast for {'State': 'CT', 'Segment': 'LGP_NRF'} completed\n"
          ]
        },
        {
          "output_type": "stream",
          "name": "stderr",
          "text": [
            "02:59:22 - cmdstanpy - INFO - Chain [1] done processing\n",
            "INFO:cmdstanpy:Chain [1] done processing\n",
            "INFO:prophet:n_changepoints greater than number of observations. Using 19.\n",
            "DEBUG:cmdstanpy:input tempfile: /tmp/tmpfdntuhgz/q58_64iw.json\n",
            "DEBUG:cmdstanpy:input tempfile: /tmp/tmpfdntuhgz/tqaaxit1.json\n",
            "DEBUG:cmdstanpy:idx 0\n",
            "DEBUG:cmdstanpy:running CmdStan, num_threads: None\n",
            "DEBUG:cmdstanpy:CmdStan args: ['/usr/local/lib/python3.11/dist-packages/prophet/stan_model/prophet_model.bin', 'random', 'seed=54661', 'data', 'file=/tmp/tmpfdntuhgz/q58_64iw.json', 'init=/tmp/tmpfdntuhgz/tqaaxit1.json', 'output', 'file=/tmp/tmpfdntuhgz/prophet_modelzlp0o_e9/prophet_model-20250407025922.csv', 'method=optimize', 'algorithm=newton', 'iter=10000']\n",
            "02:59:22 - cmdstanpy - INFO - Chain [1] start processing\n",
            "INFO:cmdstanpy:Chain [1] start processing\n"
          ]
        },
        {
          "output_type": "stream",
          "name": "stdout",
          "text": [
            "Prophet forecast for {'State': 'GA', 'Segment': 'LGP_NRF'} completed\n"
          ]
        },
        {
          "output_type": "stream",
          "name": "stderr",
          "text": [
            "02:59:22 - cmdstanpy - INFO - Chain [1] done processing\n",
            "INFO:cmdstanpy:Chain [1] done processing\n",
            "INFO:prophet:n_changepoints greater than number of observations. Using 19.\n",
            "DEBUG:cmdstanpy:input tempfile: /tmp/tmpfdntuhgz/ejw19noy.json\n",
            "DEBUG:cmdstanpy:input tempfile: /tmp/tmpfdntuhgz/iumdf1_4.json\n",
            "DEBUG:cmdstanpy:idx 0\n",
            "DEBUG:cmdstanpy:running CmdStan, num_threads: None\n",
            "DEBUG:cmdstanpy:CmdStan args: ['/usr/local/lib/python3.11/dist-packages/prophet/stan_model/prophet_model.bin', 'random', 'seed=8944', 'data', 'file=/tmp/tmpfdntuhgz/ejw19noy.json', 'init=/tmp/tmpfdntuhgz/iumdf1_4.json', 'output', 'file=/tmp/tmpfdntuhgz/prophet_model_9rfh11o/prophet_model-20250407025922.csv', 'method=optimize', 'algorithm=newton', 'iter=10000']\n",
            "02:59:22 - cmdstanpy - INFO - Chain [1] start processing\n",
            "INFO:cmdstanpy:Chain [1] start processing\n"
          ]
        },
        {
          "output_type": "stream",
          "name": "stdout",
          "text": [
            "Prophet forecast for {'State': 'IN', 'Segment': 'LGP_NRF'} completed\n"
          ]
        },
        {
          "output_type": "stream",
          "name": "stderr",
          "text": [
            "02:59:23 - cmdstanpy - INFO - Chain [1] done processing\n",
            "INFO:cmdstanpy:Chain [1] done processing\n",
            "INFO:prophet:n_changepoints greater than number of observations. Using 19.\n",
            "DEBUG:cmdstanpy:input tempfile: /tmp/tmpfdntuhgz/leojnw3a.json\n",
            "DEBUG:cmdstanpy:input tempfile: /tmp/tmpfdntuhgz/zbny3eq6.json\n",
            "DEBUG:cmdstanpy:idx 0\n",
            "DEBUG:cmdstanpy:running CmdStan, num_threads: None\n",
            "DEBUG:cmdstanpy:CmdStan args: ['/usr/local/lib/python3.11/dist-packages/prophet/stan_model/prophet_model.bin', 'random', 'seed=49404', 'data', 'file=/tmp/tmpfdntuhgz/leojnw3a.json', 'init=/tmp/tmpfdntuhgz/zbny3eq6.json', 'output', 'file=/tmp/tmpfdntuhgz/prophet_model6em3h7t9/prophet_model-20250407025923.csv', 'method=optimize', 'algorithm=newton', 'iter=10000']\n",
            "02:59:23 - cmdstanpy - INFO - Chain [1] start processing\n",
            "INFO:cmdstanpy:Chain [1] start processing\n"
          ]
        },
        {
          "output_type": "stream",
          "name": "stdout",
          "text": [
            "Prophet forecast for {'State': 'KY', 'Segment': 'LGP_NRF'} completed\n"
          ]
        },
        {
          "output_type": "stream",
          "name": "stderr",
          "text": [
            "02:59:23 - cmdstanpy - INFO - Chain [1] done processing\n",
            "INFO:cmdstanpy:Chain [1] done processing\n",
            "INFO:prophet:n_changepoints greater than number of observations. Using 19.\n",
            "DEBUG:cmdstanpy:input tempfile: /tmp/tmpfdntuhgz/62pl1p1c.json\n",
            "DEBUG:cmdstanpy:input tempfile: /tmp/tmpfdntuhgz/n6euaa26.json\n",
            "DEBUG:cmdstanpy:idx 0\n",
            "DEBUG:cmdstanpy:running CmdStan, num_threads: None\n",
            "DEBUG:cmdstanpy:CmdStan args: ['/usr/local/lib/python3.11/dist-packages/prophet/stan_model/prophet_model.bin', 'random', 'seed=69309', 'data', 'file=/tmp/tmpfdntuhgz/62pl1p1c.json', 'init=/tmp/tmpfdntuhgz/n6euaa26.json', 'output', 'file=/tmp/tmpfdntuhgz/prophet_modelnvsco_7c/prophet_model-20250407025923.csv', 'method=optimize', 'algorithm=newton', 'iter=10000']\n",
            "02:59:23 - cmdstanpy - INFO - Chain [1] start processing\n",
            "INFO:cmdstanpy:Chain [1] start processing\n"
          ]
        },
        {
          "output_type": "stream",
          "name": "stdout",
          "text": [
            "Prophet forecast for {'State': 'ME', 'Segment': 'LGP_NRF'} completed\n"
          ]
        },
        {
          "output_type": "stream",
          "name": "stderr",
          "text": [
            "02:59:23 - cmdstanpy - INFO - Chain [1] done processing\n",
            "INFO:cmdstanpy:Chain [1] done processing\n",
            "INFO:prophet:n_changepoints greater than number of observations. Using 19.\n",
            "DEBUG:cmdstanpy:input tempfile: /tmp/tmpfdntuhgz/r1p0y_v7.json\n",
            "DEBUG:cmdstanpy:input tempfile: /tmp/tmpfdntuhgz/ztc0u1lp.json\n",
            "DEBUG:cmdstanpy:idx 0\n",
            "DEBUG:cmdstanpy:running CmdStan, num_threads: None\n",
            "DEBUG:cmdstanpy:CmdStan args: ['/usr/local/lib/python3.11/dist-packages/prophet/stan_model/prophet_model.bin', 'random', 'seed=42317', 'data', 'file=/tmp/tmpfdntuhgz/r1p0y_v7.json', 'init=/tmp/tmpfdntuhgz/ztc0u1lp.json', 'output', 'file=/tmp/tmpfdntuhgz/prophet_modelr5r_di9v/prophet_model-20250407025923.csv', 'method=optimize', 'algorithm=newton', 'iter=10000']\n",
            "02:59:23 - cmdstanpy - INFO - Chain [1] start processing\n",
            "INFO:cmdstanpy:Chain [1] start processing\n"
          ]
        },
        {
          "output_type": "stream",
          "name": "stdout",
          "text": [
            "Prophet forecast for {'State': 'MO', 'Segment': 'LGP_NRF'} completed\n"
          ]
        },
        {
          "output_type": "stream",
          "name": "stderr",
          "text": [
            "02:59:24 - cmdstanpy - INFO - Chain [1] done processing\n",
            "INFO:cmdstanpy:Chain [1] done processing\n",
            "INFO:prophet:n_changepoints greater than number of observations. Using 19.\n",
            "DEBUG:cmdstanpy:input tempfile: /tmp/tmpfdntuhgz/ptxvhm5t.json\n",
            "DEBUG:cmdstanpy:input tempfile: /tmp/tmpfdntuhgz/k8otys5u.json\n",
            "DEBUG:cmdstanpy:idx 0\n",
            "DEBUG:cmdstanpy:running CmdStan, num_threads: None\n",
            "DEBUG:cmdstanpy:CmdStan args: ['/usr/local/lib/python3.11/dist-packages/prophet/stan_model/prophet_model.bin', 'random', 'seed=30852', 'data', 'file=/tmp/tmpfdntuhgz/ptxvhm5t.json', 'init=/tmp/tmpfdntuhgz/k8otys5u.json', 'output', 'file=/tmp/tmpfdntuhgz/prophet_modelc09j20el/prophet_model-20250407025924.csv', 'method=optimize', 'algorithm=newton', 'iter=10000']\n",
            "02:59:24 - cmdstanpy - INFO - Chain [1] start processing\n",
            "INFO:cmdstanpy:Chain [1] start processing\n"
          ]
        },
        {
          "output_type": "stream",
          "name": "stdout",
          "text": [
            "Prophet forecast for {'State': 'NH', 'Segment': 'LGP_NRF'} completed\n"
          ]
        },
        {
          "output_type": "stream",
          "name": "stderr",
          "text": [
            "02:59:24 - cmdstanpy - INFO - Chain [1] done processing\n",
            "INFO:cmdstanpy:Chain [1] done processing\n",
            "INFO:prophet:n_changepoints greater than number of observations. Using 19.\n",
            "DEBUG:cmdstanpy:input tempfile: /tmp/tmpfdntuhgz/zzhcf6_b.json\n",
            "DEBUG:cmdstanpy:input tempfile: /tmp/tmpfdntuhgz/v82_x7mk.json\n",
            "DEBUG:cmdstanpy:idx 0\n",
            "DEBUG:cmdstanpy:running CmdStan, num_threads: None\n",
            "DEBUG:cmdstanpy:CmdStan args: ['/usr/local/lib/python3.11/dist-packages/prophet/stan_model/prophet_model.bin', 'random', 'seed=89345', 'data', 'file=/tmp/tmpfdntuhgz/zzhcf6_b.json', 'init=/tmp/tmpfdntuhgz/v82_x7mk.json', 'output', 'file=/tmp/tmpfdntuhgz/prophet_modeli1rrv5_z/prophet_model-20250407025924.csv', 'method=optimize', 'algorithm=newton', 'iter=10000']\n",
            "02:59:24 - cmdstanpy - INFO - Chain [1] start processing\n",
            "INFO:cmdstanpy:Chain [1] start processing\n"
          ]
        },
        {
          "output_type": "stream",
          "name": "stdout",
          "text": [
            "Prophet forecast for {'State': 'NV', 'Segment': 'LGP_NRF'} completed\n"
          ]
        },
        {
          "output_type": "stream",
          "name": "stderr",
          "text": [
            "02:59:24 - cmdstanpy - INFO - Chain [1] done processing\n",
            "INFO:cmdstanpy:Chain [1] done processing\n",
            "INFO:prophet:n_changepoints greater than number of observations. Using 19.\n",
            "DEBUG:cmdstanpy:input tempfile: /tmp/tmpfdntuhgz/bxy2mbz9.json\n",
            "DEBUG:cmdstanpy:input tempfile: /tmp/tmpfdntuhgz/x3ap7zav.json\n",
            "DEBUG:cmdstanpy:idx 0\n",
            "DEBUG:cmdstanpy:running CmdStan, num_threads: None\n",
            "DEBUG:cmdstanpy:CmdStan args: ['/usr/local/lib/python3.11/dist-packages/prophet/stan_model/prophet_model.bin', 'random', 'seed=31274', 'data', 'file=/tmp/tmpfdntuhgz/bxy2mbz9.json', 'init=/tmp/tmpfdntuhgz/x3ap7zav.json', 'output', 'file=/tmp/tmpfdntuhgz/prophet_modelamxr0pt_/prophet_model-20250407025924.csv', 'method=optimize', 'algorithm=newton', 'iter=10000']\n",
            "02:59:24 - cmdstanpy - INFO - Chain [1] start processing\n",
            "INFO:cmdstanpy:Chain [1] start processing\n"
          ]
        },
        {
          "output_type": "stream",
          "name": "stdout",
          "text": [
            "Prophet forecast for {'State': 'NY', 'Segment': 'LGP_NRF'} completed\n"
          ]
        },
        {
          "output_type": "stream",
          "name": "stderr",
          "text": [
            "02:59:25 - cmdstanpy - INFO - Chain [1] done processing\n",
            "INFO:cmdstanpy:Chain [1] done processing\n",
            "INFO:prophet:n_changepoints greater than number of observations. Using 19.\n",
            "DEBUG:cmdstanpy:input tempfile: /tmp/tmpfdntuhgz/0twgweuj.json\n",
            "DEBUG:cmdstanpy:input tempfile: /tmp/tmpfdntuhgz/fj0xiomh.json\n",
            "DEBUG:cmdstanpy:idx 0\n",
            "DEBUG:cmdstanpy:running CmdStan, num_threads: None\n",
            "DEBUG:cmdstanpy:CmdStan args: ['/usr/local/lib/python3.11/dist-packages/prophet/stan_model/prophet_model.bin', 'random', 'seed=78472', 'data', 'file=/tmp/tmpfdntuhgz/0twgweuj.json', 'init=/tmp/tmpfdntuhgz/fj0xiomh.json', 'output', 'file=/tmp/tmpfdntuhgz/prophet_modelwr_3bis4/prophet_model-20250407025925.csv', 'method=optimize', 'algorithm=newton', 'iter=10000']\n",
            "02:59:25 - cmdstanpy - INFO - Chain [1] start processing\n",
            "INFO:cmdstanpy:Chain [1] start processing\n"
          ]
        },
        {
          "output_type": "stream",
          "name": "stdout",
          "text": [
            "Prophet forecast for {'State': 'OH', 'Segment': 'LGP_NRF'} completed\n"
          ]
        },
        {
          "output_type": "stream",
          "name": "stderr",
          "text": [
            "02:59:25 - cmdstanpy - INFO - Chain [1] done processing\n",
            "INFO:cmdstanpy:Chain [1] done processing\n",
            "INFO:prophet:n_changepoints greater than number of observations. Using 19.\n",
            "DEBUG:cmdstanpy:input tempfile: /tmp/tmpfdntuhgz/tf4vx330.json\n",
            "DEBUG:cmdstanpy:input tempfile: /tmp/tmpfdntuhgz/pf604jve.json\n",
            "DEBUG:cmdstanpy:idx 0\n",
            "DEBUG:cmdstanpy:running CmdStan, num_threads: None\n",
            "DEBUG:cmdstanpy:CmdStan args: ['/usr/local/lib/python3.11/dist-packages/prophet/stan_model/prophet_model.bin', 'random', 'seed=38135', 'data', 'file=/tmp/tmpfdntuhgz/tf4vx330.json', 'init=/tmp/tmpfdntuhgz/pf604jve.json', 'output', 'file=/tmp/tmpfdntuhgz/prophet_modelotqpobi5/prophet_model-20250407025925.csv', 'method=optimize', 'algorithm=newton', 'iter=10000']\n",
            "02:59:25 - cmdstanpy - INFO - Chain [1] start processing\n",
            "INFO:cmdstanpy:Chain [1] start processing\n"
          ]
        },
        {
          "output_type": "stream",
          "name": "stdout",
          "text": [
            "Prophet forecast for {'State': 'VA', 'Segment': 'LGP_NRF'} completed\n"
          ]
        },
        {
          "output_type": "stream",
          "name": "stderr",
          "text": [
            "02:59:25 - cmdstanpy - INFO - Chain [1] done processing\n",
            "INFO:cmdstanpy:Chain [1] done processing\n"
          ]
        },
        {
          "output_type": "stream",
          "name": "stdout",
          "text": [
            "Prophet forecast for {'State': 'WI', 'Segment': 'LGP_NRF'} completed\n",
            "Prophet forecasting completed for 108 out of 108 groups\n",
            "Training ML models for Med-Total\n",
            "Starting ML forecasts for 108 groups\n",
            "Creating ensemble forecast for Med-Total\n",
            "Creating ensemble from methods: ['sarima', 'prophet', 'rf', 'xgb']\n",
            "Ensemble forecast for Med-Total: Mean for 2025 = 18370743.03 ENSEMBLE\n",
            "Forecasting Rx at lowest grain\n",
            "Training SARIMA model for Rx\n",
            "Starting SARIMA forecasts for 108 groups\n",
            "SARIMA forecast for {'State': 'CA_HMO', 'Segment': 'IND_ACA'} completed\n"
          ]
        },
        {
          "output_type": "stream",
          "name": "stderr",
          "text": [
            "/usr/local/lib/python3.11/dist-packages/statsmodels/tsa/base/tsa_model.py:473: ValueWarning: No frequency information was provided, so inferred frequency MS will be used.\n",
            "  self._init_dates(dates, freq)\n",
            "/usr/local/lib/python3.11/dist-packages/statsmodels/tsa/base/tsa_model.py:473: ValueWarning: No frequency information was provided, so inferred frequency MS will be used.\n",
            "  self._init_dates(dates, freq)\n",
            "/usr/local/lib/python3.11/dist-packages/statsmodels/tsa/statespace/sarimax.py:866: UserWarning: Too few observations to estimate starting parameters for seasonal ARMA. All parameters except for variances will be set to zeros.\n",
            "  warn('Too few observations to estimate starting parameters%s.'\n",
            "/usr/local/lib/python3.11/dist-packages/statsmodels/tsa/statespace/mlemodel.py:1235: RuntimeWarning: invalid value encountered in divide\n",
            "  np.inner(score_obs, score_obs) /\n",
            "/usr/local/lib/python3.11/dist-packages/statsmodels/tsa/base/tsa_model.py:473: ValueWarning: No frequency information was provided, so inferred frequency MS will be used.\n",
            "  self._init_dates(dates, freq)\n",
            "/usr/local/lib/python3.11/dist-packages/statsmodels/tsa/base/tsa_model.py:473: ValueWarning: No frequency information was provided, so inferred frequency MS will be used.\n",
            "  self._init_dates(dates, freq)\n",
            "/usr/local/lib/python3.11/dist-packages/statsmodels/tsa/statespace/sarimax.py:866: UserWarning: Too few observations to estimate starting parameters for seasonal ARMA. All parameters except for variances will be set to zeros.\n",
            "  warn('Too few observations to estimate starting parameters%s.'\n",
            "/usr/local/lib/python3.11/dist-packages/statsmodels/tsa/statespace/mlemodel.py:1235: RuntimeWarning: invalid value encountered in divide\n",
            "  np.inner(score_obs, score_obs) /\n",
            "/usr/local/lib/python3.11/dist-packages/statsmodels/tsa/base/tsa_model.py:473: ValueWarning: No frequency information was provided, so inferred frequency MS will be used.\n",
            "  self._init_dates(dates, freq)\n",
            "/usr/local/lib/python3.11/dist-packages/statsmodels/tsa/base/tsa_model.py:473: ValueWarning: No frequency information was provided, so inferred frequency MS will be used.\n",
            "  self._init_dates(dates, freq)\n",
            "/usr/local/lib/python3.11/dist-packages/statsmodels/tsa/statespace/sarimax.py:866: UserWarning: Too few observations to estimate starting parameters for seasonal ARMA. All parameters except for variances will be set to zeros.\n",
            "  warn('Too few observations to estimate starting parameters%s.'\n",
            "/usr/local/lib/python3.11/dist-packages/statsmodels/tsa/statespace/mlemodel.py:1235: RuntimeWarning: invalid value encountered in divide\n",
            "  np.inner(score_obs, score_obs) /\n",
            "/usr/local/lib/python3.11/dist-packages/statsmodels/tsa/base/tsa_model.py:473: ValueWarning: No frequency information was provided, so inferred frequency MS will be used.\n",
            "  self._init_dates(dates, freq)\n",
            "/usr/local/lib/python3.11/dist-packages/statsmodels/tsa/base/tsa_model.py:473: ValueWarning: No frequency information was provided, so inferred frequency MS will be used.\n",
            "  self._init_dates(dates, freq)\n",
            "/usr/local/lib/python3.11/dist-packages/statsmodels/tsa/statespace/sarimax.py:866: UserWarning: Too few observations to estimate starting parameters for seasonal ARMA. All parameters except for variances will be set to zeros.\n",
            "  warn('Too few observations to estimate starting parameters%s.'\n",
            "/usr/local/lib/python3.11/dist-packages/statsmodels/tsa/statespace/mlemodel.py:1235: RuntimeWarning: invalid value encountered in divide\n",
            "  np.inner(score_obs, score_obs) /\n",
            "/usr/local/lib/python3.11/dist-packages/statsmodels/tsa/base/tsa_model.py:473: ValueWarning: No frequency information was provided, so inferred frequency MS will be used.\n",
            "  self._init_dates(dates, freq)\n",
            "/usr/local/lib/python3.11/dist-packages/statsmodels/tsa/base/tsa_model.py:473: ValueWarning: No frequency information was provided, so inferred frequency MS will be used.\n",
            "  self._init_dates(dates, freq)\n",
            "/usr/local/lib/python3.11/dist-packages/statsmodels/tsa/statespace/sarimax.py:866: UserWarning: Too few observations to estimate starting parameters for seasonal ARMA. All parameters except for variances will be set to zeros.\n",
            "  warn('Too few observations to estimate starting parameters%s.'\n",
            "/usr/local/lib/python3.11/dist-packages/statsmodels/tsa/statespace/mlemodel.py:1235: RuntimeWarning: invalid value encountered in divide\n",
            "  np.inner(score_obs, score_obs) /\n",
            "/usr/local/lib/python3.11/dist-packages/statsmodels/tsa/base/tsa_model.py:473: ValueWarning: No frequency information was provided, so inferred frequency MS will be used.\n",
            "  self._init_dates(dates, freq)\n",
            "/usr/local/lib/python3.11/dist-packages/statsmodels/tsa/base/tsa_model.py:473: ValueWarning: No frequency information was provided, so inferred frequency MS will be used.\n",
            "  self._init_dates(dates, freq)\n",
            "/usr/local/lib/python3.11/dist-packages/statsmodels/tsa/statespace/sarimax.py:866: UserWarning: Too few observations to estimate starting parameters for seasonal ARMA. All parameters except for variances will be set to zeros.\n",
            "  warn('Too few observations to estimate starting parameters%s.'\n",
            "/usr/local/lib/python3.11/dist-packages/statsmodels/tsa/statespace/mlemodel.py:1235: RuntimeWarning: invalid value encountered in divide\n",
            "  np.inner(score_obs, score_obs) /\n",
            "/usr/local/lib/python3.11/dist-packages/statsmodels/tsa/base/tsa_model.py:473: ValueWarning: No frequency information was provided, so inferred frequency MS will be used.\n",
            "  self._init_dates(dates, freq)\n",
            "/usr/local/lib/python3.11/dist-packages/statsmodels/tsa/base/tsa_model.py:473: ValueWarning: No frequency information was provided, so inferred frequency MS will be used.\n",
            "  self._init_dates(dates, freq)\n",
            "/usr/local/lib/python3.11/dist-packages/statsmodels/tsa/statespace/sarimax.py:866: UserWarning: Too few observations to estimate starting parameters for seasonal ARMA. All parameters except for variances will be set to zeros.\n",
            "  warn('Too few observations to estimate starting parameters%s.'\n",
            "/usr/local/lib/python3.11/dist-packages/statsmodels/tsa/statespace/mlemodel.py:1235: RuntimeWarning: invalid value encountered in divide\n",
            "  np.inner(score_obs, score_obs) /\n"
          ]
        },
        {
          "output_type": "stream",
          "name": "stdout",
          "text": [
            "SARIMA forecast for {'State': 'CA_PPO', 'Segment': 'IND_ACA'} completed\n",
            "SARIMA forecast for {'State': 'CO', 'Segment': 'IND_ACA'} completed\n",
            "SARIMA forecast for {'State': 'CT', 'Segment': 'IND_ACA'} completed\n",
            "SARIMA forecast for {'State': 'GA', 'Segment': 'IND_ACA'} completed\n",
            "SARIMA forecast for {'State': 'IN', 'Segment': 'IND_ACA'} completed\n",
            "SARIMA forecast for {'State': 'KY', 'Segment': 'IND_ACA'} completed\n",
            "SARIMA forecast for {'State': 'ME', 'Segment': 'IND_ACA'} completed\n"
          ]
        },
        {
          "output_type": "stream",
          "name": "stderr",
          "text": [
            "/usr/local/lib/python3.11/dist-packages/statsmodels/tsa/base/tsa_model.py:473: ValueWarning: No frequency information was provided, so inferred frequency MS will be used.\n",
            "  self._init_dates(dates, freq)\n",
            "/usr/local/lib/python3.11/dist-packages/statsmodels/tsa/base/tsa_model.py:473: ValueWarning: No frequency information was provided, so inferred frequency MS will be used.\n",
            "  self._init_dates(dates, freq)\n",
            "/usr/local/lib/python3.11/dist-packages/statsmodels/tsa/statespace/sarimax.py:866: UserWarning: Too few observations to estimate starting parameters for seasonal ARMA. All parameters except for variances will be set to zeros.\n",
            "  warn('Too few observations to estimate starting parameters%s.'\n",
            "/usr/local/lib/python3.11/dist-packages/statsmodels/tsa/statespace/mlemodel.py:1235: RuntimeWarning: invalid value encountered in divide\n",
            "  np.inner(score_obs, score_obs) /\n",
            "/usr/local/lib/python3.11/dist-packages/statsmodels/tsa/base/tsa_model.py:473: ValueWarning: No frequency information was provided, so inferred frequency MS will be used.\n",
            "  self._init_dates(dates, freq)\n",
            "/usr/local/lib/python3.11/dist-packages/statsmodels/tsa/base/tsa_model.py:473: ValueWarning: No frequency information was provided, so inferred frequency MS will be used.\n",
            "  self._init_dates(dates, freq)\n",
            "/usr/local/lib/python3.11/dist-packages/statsmodels/tsa/statespace/sarimax.py:866: UserWarning: Too few observations to estimate starting parameters for seasonal ARMA. All parameters except for variances will be set to zeros.\n",
            "  warn('Too few observations to estimate starting parameters%s.'\n",
            "/usr/local/lib/python3.11/dist-packages/statsmodels/tsa/statespace/mlemodel.py:1235: RuntimeWarning: invalid value encountered in divide\n",
            "  np.inner(score_obs, score_obs) /\n",
            "/usr/local/lib/python3.11/dist-packages/statsmodels/tsa/base/tsa_model.py:473: ValueWarning: No frequency information was provided, so inferred frequency MS will be used.\n",
            "  self._init_dates(dates, freq)\n",
            "/usr/local/lib/python3.11/dist-packages/statsmodels/tsa/base/tsa_model.py:473: ValueWarning: No frequency information was provided, so inferred frequency MS will be used.\n",
            "  self._init_dates(dates, freq)\n",
            "/usr/local/lib/python3.11/dist-packages/statsmodels/tsa/statespace/sarimax.py:866: UserWarning: Too few observations to estimate starting parameters for seasonal ARMA. All parameters except for variances will be set to zeros.\n",
            "  warn('Too few observations to estimate starting parameters%s.'\n",
            "/usr/local/lib/python3.11/dist-packages/statsmodels/tsa/statespace/mlemodel.py:1235: RuntimeWarning: invalid value encountered in divide\n",
            "  np.inner(score_obs, score_obs) /\n",
            "/usr/local/lib/python3.11/dist-packages/statsmodels/tsa/base/tsa_model.py:473: ValueWarning: No frequency information was provided, so inferred frequency MS will be used.\n",
            "  self._init_dates(dates, freq)\n",
            "/usr/local/lib/python3.11/dist-packages/statsmodels/tsa/base/tsa_model.py:473: ValueWarning: No frequency information was provided, so inferred frequency MS will be used.\n",
            "  self._init_dates(dates, freq)\n",
            "/usr/local/lib/python3.11/dist-packages/statsmodels/tsa/statespace/sarimax.py:866: UserWarning: Too few observations to estimate starting parameters for seasonal ARMA. All parameters except for variances will be set to zeros.\n",
            "  warn('Too few observations to estimate starting parameters%s.'\n",
            "/usr/local/lib/python3.11/dist-packages/statsmodels/tsa/statespace/mlemodel.py:1235: RuntimeWarning: invalid value encountered in divide\n",
            "  np.inner(score_obs, score_obs) /\n",
            "/usr/local/lib/python3.11/dist-packages/statsmodels/tsa/base/tsa_model.py:473: ValueWarning: No frequency information was provided, so inferred frequency MS will be used.\n",
            "  self._init_dates(dates, freq)\n",
            "/usr/local/lib/python3.11/dist-packages/statsmodels/tsa/base/tsa_model.py:473: ValueWarning: No frequency information was provided, so inferred frequency MS will be used.\n",
            "  self._init_dates(dates, freq)\n",
            "/usr/local/lib/python3.11/dist-packages/statsmodels/tsa/statespace/sarimax.py:866: UserWarning: Too few observations to estimate starting parameters for seasonal ARMA. All parameters except for variances will be set to zeros.\n",
            "  warn('Too few observations to estimate starting parameters%s.'\n",
            "/usr/local/lib/python3.11/dist-packages/statsmodels/tsa/statespace/mlemodel.py:1235: RuntimeWarning: invalid value encountered in divide\n",
            "  np.inner(score_obs, score_obs) /\n",
            "/usr/local/lib/python3.11/dist-packages/statsmodels/tsa/base/tsa_model.py:473: ValueWarning: No frequency information was provided, so inferred frequency MS will be used.\n",
            "  self._init_dates(dates, freq)\n",
            "/usr/local/lib/python3.11/dist-packages/statsmodels/tsa/base/tsa_model.py:473: ValueWarning: No frequency information was provided, so inferred frequency MS will be used.\n",
            "  self._init_dates(dates, freq)\n",
            "/usr/local/lib/python3.11/dist-packages/statsmodels/tsa/statespace/sarimax.py:866: UserWarning: Too few observations to estimate starting parameters for seasonal ARMA. All parameters except for variances will be set to zeros.\n",
            "  warn('Too few observations to estimate starting parameters%s.'\n",
            "/usr/local/lib/python3.11/dist-packages/statsmodels/tsa/statespace/mlemodel.py:1235: RuntimeWarning: invalid value encountered in divide\n",
            "  np.inner(score_obs, score_obs) /\n"
          ]
        },
        {
          "output_type": "stream",
          "name": "stdout",
          "text": [
            "SARIMA forecast for {'State': 'MO', 'Segment': 'IND_ACA'} completed\n",
            "SARIMA forecast for {'State': 'NH', 'Segment': 'IND_ACA'} completed\n",
            "SARIMA forecast for {'State': 'NV', 'Segment': 'IND_ACA'} completed\n",
            "SARIMA forecast for {'State': 'NY', 'Segment': 'IND_ACA'} completed\n",
            "SARIMA forecast for {'State': 'OH', 'Segment': 'IND_ACA'} completed\n",
            "SARIMA forecast for {'State': 'VA', 'Segment': 'IND_ACA'} completed\n"
          ]
        },
        {
          "output_type": "stream",
          "name": "stderr",
          "text": [
            "/usr/local/lib/python3.11/dist-packages/statsmodels/tsa/base/tsa_model.py:473: ValueWarning: No frequency information was provided, so inferred frequency MS will be used.\n",
            "  self._init_dates(dates, freq)\n",
            "/usr/local/lib/python3.11/dist-packages/statsmodels/tsa/base/tsa_model.py:473: ValueWarning: No frequency information was provided, so inferred frequency MS will be used.\n",
            "  self._init_dates(dates, freq)\n",
            "/usr/local/lib/python3.11/dist-packages/statsmodels/tsa/statespace/sarimax.py:866: UserWarning: Too few observations to estimate starting parameters for seasonal ARMA. All parameters except for variances will be set to zeros.\n",
            "  warn('Too few observations to estimate starting parameters%s.'\n",
            "/usr/local/lib/python3.11/dist-packages/statsmodels/tsa/statespace/mlemodel.py:1235: RuntimeWarning: invalid value encountered in divide\n",
            "  np.inner(score_obs, score_obs) /\n",
            "/usr/local/lib/python3.11/dist-packages/statsmodels/tsa/base/tsa_model.py:473: ValueWarning: No frequency information was provided, so inferred frequency MS will be used.\n",
            "  self._init_dates(dates, freq)\n",
            "/usr/local/lib/python3.11/dist-packages/statsmodels/tsa/base/tsa_model.py:473: ValueWarning: No frequency information was provided, so inferred frequency MS will be used.\n",
            "  self._init_dates(dates, freq)\n",
            "/usr/local/lib/python3.11/dist-packages/statsmodels/tsa/statespace/sarimax.py:866: UserWarning: Too few observations to estimate starting parameters for seasonal ARMA. All parameters except for variances will be set to zeros.\n",
            "  warn('Too few observations to estimate starting parameters%s.'\n",
            "/usr/local/lib/python3.11/dist-packages/statsmodels/tsa/statespace/mlemodel.py:1235: RuntimeWarning: invalid value encountered in divide\n",
            "  np.inner(score_obs, score_obs) /\n",
            "/usr/local/lib/python3.11/dist-packages/statsmodels/tsa/base/tsa_model.py:473: ValueWarning: No frequency information was provided, so inferred frequency MS will be used.\n",
            "  self._init_dates(dates, freq)\n",
            "/usr/local/lib/python3.11/dist-packages/statsmodels/tsa/base/tsa_model.py:473: ValueWarning: No frequency information was provided, so inferred frequency MS will be used.\n",
            "  self._init_dates(dates, freq)\n",
            "/usr/local/lib/python3.11/dist-packages/statsmodels/tsa/statespace/sarimax.py:866: UserWarning: Too few observations to estimate starting parameters for seasonal ARMA. All parameters except for variances will be set to zeros.\n",
            "  warn('Too few observations to estimate starting parameters%s.'\n",
            "/usr/local/lib/python3.11/dist-packages/statsmodels/tsa/statespace/mlemodel.py:1235: RuntimeWarning: invalid value encountered in divide\n",
            "  np.inner(score_obs, score_obs) /\n",
            "/usr/local/lib/python3.11/dist-packages/statsmodels/tsa/base/tsa_model.py:473: ValueWarning: No frequency information was provided, so inferred frequency MS will be used.\n",
            "  self._init_dates(dates, freq)\n",
            "/usr/local/lib/python3.11/dist-packages/statsmodels/tsa/base/tsa_model.py:473: ValueWarning: No frequency information was provided, so inferred frequency MS will be used.\n",
            "  self._init_dates(dates, freq)\n",
            "/usr/local/lib/python3.11/dist-packages/statsmodels/tsa/statespace/sarimax.py:866: UserWarning: Too few observations to estimate starting parameters for seasonal ARMA. All parameters except for variances will be set to zeros.\n",
            "  warn('Too few observations to estimate starting parameters%s.'\n",
            "/usr/local/lib/python3.11/dist-packages/statsmodels/tsa/statespace/mlemodel.py:1235: RuntimeWarning: invalid value encountered in divide\n",
            "  np.inner(score_obs, score_obs) /\n",
            "/usr/local/lib/python3.11/dist-packages/statsmodels/tsa/base/tsa_model.py:473: ValueWarning: No frequency information was provided, so inferred frequency MS will be used.\n",
            "  self._init_dates(dates, freq)\n",
            "/usr/local/lib/python3.11/dist-packages/statsmodels/tsa/base/tsa_model.py:473: ValueWarning: No frequency information was provided, so inferred frequency MS will be used.\n",
            "  self._init_dates(dates, freq)\n",
            "/usr/local/lib/python3.11/dist-packages/statsmodels/tsa/statespace/sarimax.py:866: UserWarning: Too few observations to estimate starting parameters for seasonal ARMA. All parameters except for variances will be set to zeros.\n",
            "  warn('Too few observations to estimate starting parameters%s.'\n",
            "/usr/local/lib/python3.11/dist-packages/statsmodels/tsa/statespace/mlemodel.py:1235: RuntimeWarning: invalid value encountered in divide\n",
            "  np.inner(score_obs, score_obs) /\n",
            "/usr/local/lib/python3.11/dist-packages/statsmodels/tsa/base/tsa_model.py:473: ValueWarning: No frequency information was provided, so inferred frequency MS will be used.\n",
            "  self._init_dates(dates, freq)\n",
            "/usr/local/lib/python3.11/dist-packages/statsmodels/tsa/base/tsa_model.py:473: ValueWarning: No frequency information was provided, so inferred frequency MS will be used.\n",
            "  self._init_dates(dates, freq)\n",
            "/usr/local/lib/python3.11/dist-packages/statsmodels/tsa/statespace/sarimax.py:866: UserWarning: Too few observations to estimate starting parameters for seasonal ARMA. All parameters except for variances will be set to zeros.\n",
            "  warn('Too few observations to estimate starting parameters%s.'\n"
          ]
        },
        {
          "output_type": "stream",
          "name": "stdout",
          "text": [
            "SARIMA forecast for {'State': 'WI', 'Segment': 'IND_ACA'} completed\n",
            "SARIMA forecast for {'State': 'FL', 'Segment': 'IND_ACA'} completed\n",
            "SARIMA forecast for {'State': 'MD', 'Segment': 'IND_ACA'} completed\n",
            "SARIMA forecast for {'State': 'TX', 'Segment': 'IND_ACA'} completed\n",
            "SARIMA forecast for {'State': 'CA_HMO', 'Segment': 'IND_LEG'} completed\n"
          ]
        },
        {
          "output_type": "stream",
          "name": "stderr",
          "text": [
            "/usr/local/lib/python3.11/dist-packages/statsmodels/tsa/statespace/mlemodel.py:1235: RuntimeWarning: invalid value encountered in divide\n",
            "  np.inner(score_obs, score_obs) /\n",
            "/usr/local/lib/python3.11/dist-packages/statsmodels/tsa/base/tsa_model.py:473: ValueWarning: No frequency information was provided, so inferred frequency MS will be used.\n",
            "  self._init_dates(dates, freq)\n",
            "/usr/local/lib/python3.11/dist-packages/statsmodels/tsa/base/tsa_model.py:473: ValueWarning: No frequency information was provided, so inferred frequency MS will be used.\n",
            "  self._init_dates(dates, freq)\n",
            "/usr/local/lib/python3.11/dist-packages/statsmodels/tsa/statespace/sarimax.py:866: UserWarning: Too few observations to estimate starting parameters for seasonal ARMA. All parameters except for variances will be set to zeros.\n",
            "  warn('Too few observations to estimate starting parameters%s.'\n",
            "/usr/local/lib/python3.11/dist-packages/statsmodels/tsa/statespace/mlemodel.py:1235: RuntimeWarning: invalid value encountered in divide\n",
            "  np.inner(score_obs, score_obs) /\n",
            "/usr/local/lib/python3.11/dist-packages/statsmodels/tsa/base/tsa_model.py:473: ValueWarning: No frequency information was provided, so inferred frequency MS will be used.\n",
            "  self._init_dates(dates, freq)\n",
            "/usr/local/lib/python3.11/dist-packages/statsmodels/tsa/base/tsa_model.py:473: ValueWarning: No frequency information was provided, so inferred frequency MS will be used.\n",
            "  self._init_dates(dates, freq)\n",
            "/usr/local/lib/python3.11/dist-packages/statsmodels/tsa/statespace/sarimax.py:866: UserWarning: Too few observations to estimate starting parameters for seasonal ARMA. All parameters except for variances will be set to zeros.\n",
            "  warn('Too few observations to estimate starting parameters%s.'\n",
            "/usr/local/lib/python3.11/dist-packages/statsmodels/tsa/statespace/mlemodel.py:1235: RuntimeWarning: invalid value encountered in divide\n",
            "  np.inner(score_obs, score_obs) /\n",
            "/usr/local/lib/python3.11/dist-packages/statsmodels/tsa/base/tsa_model.py:473: ValueWarning: No frequency information was provided, so inferred frequency MS will be used.\n",
            "  self._init_dates(dates, freq)\n",
            "/usr/local/lib/python3.11/dist-packages/statsmodels/tsa/base/tsa_model.py:473: ValueWarning: No frequency information was provided, so inferred frequency MS will be used.\n",
            "  self._init_dates(dates, freq)\n",
            "/usr/local/lib/python3.11/dist-packages/statsmodels/tsa/statespace/sarimax.py:866: UserWarning: Too few observations to estimate starting parameters for seasonal ARMA. All parameters except for variances will be set to zeros.\n",
            "  warn('Too few observations to estimate starting parameters%s.'\n",
            "/usr/local/lib/python3.11/dist-packages/statsmodels/tsa/statespace/mlemodel.py:1235: RuntimeWarning: invalid value encountered in divide\n",
            "  np.inner(score_obs, score_obs) /\n",
            "/usr/local/lib/python3.11/dist-packages/statsmodels/tsa/base/tsa_model.py:473: ValueWarning: No frequency information was provided, so inferred frequency MS will be used.\n",
            "  self._init_dates(dates, freq)\n",
            "/usr/local/lib/python3.11/dist-packages/statsmodels/tsa/base/tsa_model.py:473: ValueWarning: No frequency information was provided, so inferred frequency MS will be used.\n",
            "  self._init_dates(dates, freq)\n",
            "/usr/local/lib/python3.11/dist-packages/statsmodels/tsa/statespace/sarimax.py:866: UserWarning: Too few observations to estimate starting parameters for seasonal ARMA. All parameters except for variances will be set to zeros.\n",
            "  warn('Too few observations to estimate starting parameters%s.'\n",
            "/usr/local/lib/python3.11/dist-packages/statsmodels/tsa/statespace/mlemodel.py:1235: RuntimeWarning: invalid value encountered in divide\n",
            "  np.inner(score_obs, score_obs) /\n",
            "/usr/local/lib/python3.11/dist-packages/statsmodels/tsa/base/tsa_model.py:473: ValueWarning: No frequency information was provided, so inferred frequency MS will be used.\n",
            "  self._init_dates(dates, freq)\n",
            "/usr/local/lib/python3.11/dist-packages/statsmodels/tsa/base/tsa_model.py:473: ValueWarning: No frequency information was provided, so inferred frequency MS will be used.\n",
            "  self._init_dates(dates, freq)\n",
            "/usr/local/lib/python3.11/dist-packages/statsmodels/tsa/statespace/sarimax.py:866: UserWarning: Too few observations to estimate starting parameters for seasonal ARMA. All parameters except for variances will be set to zeros.\n",
            "  warn('Too few observations to estimate starting parameters%s.'\n"
          ]
        },
        {
          "output_type": "stream",
          "name": "stdout",
          "text": [
            "SARIMA forecast for {'State': 'CA_PPO', 'Segment': 'IND_LEG'} completed\n",
            "SARIMA forecast for {'State': 'CO', 'Segment': 'IND_LEG'} completed\n",
            "SARIMA forecast for {'State': 'CT', 'Segment': 'IND_LEG'} completed\n",
            "SARIMA forecast for {'State': 'GA', 'Segment': 'IND_LEG'} completed\n",
            "SARIMA forecast for {'State': 'IN', 'Segment': 'IND_LEG'} completed\n",
            "SARIMA forecast for {'State': 'KY', 'Segment': 'IND_LEG'} completed\n"
          ]
        },
        {
          "output_type": "stream",
          "name": "stderr",
          "text": [
            "/usr/local/lib/python3.11/dist-packages/statsmodels/tsa/statespace/mlemodel.py:1235: RuntimeWarning: invalid value encountered in divide\n",
            "  np.inner(score_obs, score_obs) /\n",
            "/usr/local/lib/python3.11/dist-packages/statsmodels/tsa/base/tsa_model.py:473: ValueWarning: No frequency information was provided, so inferred frequency MS will be used.\n",
            "  self._init_dates(dates, freq)\n",
            "/usr/local/lib/python3.11/dist-packages/statsmodels/tsa/base/tsa_model.py:473: ValueWarning: No frequency information was provided, so inferred frequency MS will be used.\n",
            "  self._init_dates(dates, freq)\n",
            "/usr/local/lib/python3.11/dist-packages/statsmodels/tsa/statespace/sarimax.py:866: UserWarning: Too few observations to estimate starting parameters for seasonal ARMA. All parameters except for variances will be set to zeros.\n",
            "  warn('Too few observations to estimate starting parameters%s.'\n",
            "/usr/local/lib/python3.11/dist-packages/statsmodels/tsa/statespace/mlemodel.py:1235: RuntimeWarning: invalid value encountered in divide\n",
            "  np.inner(score_obs, score_obs) /\n",
            "/usr/local/lib/python3.11/dist-packages/statsmodels/tsa/base/tsa_model.py:473: ValueWarning: No frequency information was provided, so inferred frequency MS will be used.\n",
            "  self._init_dates(dates, freq)\n",
            "/usr/local/lib/python3.11/dist-packages/statsmodels/tsa/base/tsa_model.py:473: ValueWarning: No frequency information was provided, so inferred frequency MS will be used.\n",
            "  self._init_dates(dates, freq)\n",
            "/usr/local/lib/python3.11/dist-packages/statsmodels/tsa/statespace/sarimax.py:866: UserWarning: Too few observations to estimate starting parameters for seasonal ARMA. All parameters except for variances will be set to zeros.\n",
            "  warn('Too few observations to estimate starting parameters%s.'\n",
            "/usr/local/lib/python3.11/dist-packages/statsmodels/tsa/statespace/mlemodel.py:1235: RuntimeWarning: invalid value encountered in divide\n",
            "  np.inner(score_obs, score_obs) /\n",
            "/usr/local/lib/python3.11/dist-packages/statsmodels/tsa/base/tsa_model.py:473: ValueWarning: No frequency information was provided, so inferred frequency MS will be used.\n",
            "  self._init_dates(dates, freq)\n",
            "/usr/local/lib/python3.11/dist-packages/statsmodels/tsa/base/tsa_model.py:473: ValueWarning: No frequency information was provided, so inferred frequency MS will be used.\n",
            "  self._init_dates(dates, freq)\n",
            "/usr/local/lib/python3.11/dist-packages/statsmodels/tsa/statespace/sarimax.py:866: UserWarning: Too few observations to estimate starting parameters for seasonal ARMA. All parameters except for variances will be set to zeros.\n",
            "  warn('Too few observations to estimate starting parameters%s.'\n",
            "/usr/local/lib/python3.11/dist-packages/statsmodels/tsa/statespace/mlemodel.py:1235: RuntimeWarning: invalid value encountered in divide\n",
            "  np.inner(score_obs, score_obs) /\n",
            "/usr/local/lib/python3.11/dist-packages/statsmodels/tsa/base/tsa_model.py:473: ValueWarning: No frequency information was provided, so inferred frequency MS will be used.\n",
            "  self._init_dates(dates, freq)\n",
            "/usr/local/lib/python3.11/dist-packages/statsmodels/tsa/base/tsa_model.py:473: ValueWarning: No frequency information was provided, so inferred frequency MS will be used.\n",
            "  self._init_dates(dates, freq)\n",
            "/usr/local/lib/python3.11/dist-packages/statsmodels/tsa/statespace/sarimax.py:866: UserWarning: Too few observations to estimate starting parameters for seasonal ARMA. All parameters except for variances will be set to zeros.\n",
            "  warn('Too few observations to estimate starting parameters%s.'\n",
            "/usr/local/lib/python3.11/dist-packages/statsmodels/tsa/statespace/mlemodel.py:1235: RuntimeWarning: invalid value encountered in divide\n",
            "  np.inner(score_obs, score_obs) /\n",
            "/usr/local/lib/python3.11/dist-packages/statsmodels/tsa/base/tsa_model.py:473: ValueWarning: No frequency information was provided, so inferred frequency MS will be used.\n",
            "  self._init_dates(dates, freq)\n",
            "/usr/local/lib/python3.11/dist-packages/statsmodels/tsa/base/tsa_model.py:473: ValueWarning: No frequency information was provided, so inferred frequency MS will be used.\n",
            "  self._init_dates(dates, freq)\n"
          ]
        },
        {
          "output_type": "stream",
          "name": "stdout",
          "text": [
            "SARIMA forecast for {'State': 'ME', 'Segment': 'IND_LEG'} completed\n",
            "SARIMA forecast for {'State': 'MO', 'Segment': 'IND_LEG'} completed\n",
            "SARIMA forecast for {'State': 'NH', 'Segment': 'IND_LEG'} completed\n",
            "SARIMA forecast for {'State': 'NV', 'Segment': 'IND_LEG'} completed\n",
            "SARIMA forecast for {'State': 'NY', 'Segment': 'IND_LEG'} completed\n"
          ]
        },
        {
          "output_type": "stream",
          "name": "stderr",
          "text": [
            "/usr/local/lib/python3.11/dist-packages/statsmodels/tsa/statespace/sarimax.py:866: UserWarning: Too few observations to estimate starting parameters for seasonal ARMA. All parameters except for variances will be set to zeros.\n",
            "  warn('Too few observations to estimate starting parameters%s.'\n",
            "/usr/local/lib/python3.11/dist-packages/statsmodels/tsa/statespace/mlemodel.py:1235: RuntimeWarning: invalid value encountered in divide\n",
            "  np.inner(score_obs, score_obs) /\n",
            "/usr/local/lib/python3.11/dist-packages/statsmodels/tsa/base/tsa_model.py:473: ValueWarning: No frequency information was provided, so inferred frequency MS will be used.\n",
            "  self._init_dates(dates, freq)\n",
            "/usr/local/lib/python3.11/dist-packages/statsmodels/tsa/base/tsa_model.py:473: ValueWarning: No frequency information was provided, so inferred frequency MS will be used.\n",
            "  self._init_dates(dates, freq)\n",
            "/usr/local/lib/python3.11/dist-packages/statsmodels/tsa/statespace/sarimax.py:866: UserWarning: Too few observations to estimate starting parameters for seasonal ARMA. All parameters except for variances will be set to zeros.\n",
            "  warn('Too few observations to estimate starting parameters%s.'\n",
            "/usr/local/lib/python3.11/dist-packages/statsmodels/tsa/statespace/mlemodel.py:1235: RuntimeWarning: invalid value encountered in divide\n",
            "  np.inner(score_obs, score_obs) /\n",
            "/usr/local/lib/python3.11/dist-packages/statsmodels/tsa/base/tsa_model.py:473: ValueWarning: No frequency information was provided, so inferred frequency MS will be used.\n",
            "  self._init_dates(dates, freq)\n",
            "/usr/local/lib/python3.11/dist-packages/statsmodels/tsa/base/tsa_model.py:473: ValueWarning: No frequency information was provided, so inferred frequency MS will be used.\n",
            "  self._init_dates(dates, freq)\n",
            "/usr/local/lib/python3.11/dist-packages/statsmodels/tsa/statespace/sarimax.py:866: UserWarning: Too few observations to estimate starting parameters for seasonal ARMA. All parameters except for variances will be set to zeros.\n",
            "  warn('Too few observations to estimate starting parameters%s.'\n",
            "/usr/local/lib/python3.11/dist-packages/statsmodels/tsa/statespace/mlemodel.py:1235: RuntimeWarning: invalid value encountered in divide\n",
            "  np.inner(score_obs, score_obs) /\n",
            "/usr/local/lib/python3.11/dist-packages/statsmodels/tsa/base/tsa_model.py:473: ValueWarning: No frequency information was provided, so inferred frequency MS will be used.\n",
            "  self._init_dates(dates, freq)\n",
            "/usr/local/lib/python3.11/dist-packages/statsmodels/tsa/base/tsa_model.py:473: ValueWarning: No frequency information was provided, so inferred frequency MS will be used.\n",
            "  self._init_dates(dates, freq)\n",
            "/usr/local/lib/python3.11/dist-packages/statsmodels/tsa/statespace/sarimax.py:866: UserWarning: Too few observations to estimate starting parameters for seasonal ARMA. All parameters except for variances will be set to zeros.\n",
            "  warn('Too few observations to estimate starting parameters%s.'\n",
            "/usr/local/lib/python3.11/dist-packages/statsmodels/tsa/statespace/mlemodel.py:1235: RuntimeWarning: invalid value encountered in divide\n",
            "  np.inner(score_obs, score_obs) /\n",
            "/usr/local/lib/python3.11/dist-packages/statsmodels/tsa/base/tsa_model.py:473: ValueWarning: No frequency information was provided, so inferred frequency MS will be used.\n",
            "  self._init_dates(dates, freq)\n",
            "/usr/local/lib/python3.11/dist-packages/statsmodels/tsa/base/tsa_model.py:473: ValueWarning: No frequency information was provided, so inferred frequency MS will be used.\n",
            "  self._init_dates(dates, freq)\n",
            "/usr/local/lib/python3.11/dist-packages/statsmodels/tsa/statespace/sarimax.py:866: UserWarning: Too few observations to estimate starting parameters for seasonal ARMA. All parameters except for variances will be set to zeros.\n",
            "  warn('Too few observations to estimate starting parameters%s.'\n",
            "/usr/local/lib/python3.11/dist-packages/statsmodels/tsa/statespace/mlemodel.py:1235: RuntimeWarning: invalid value encountered in divide\n",
            "  np.inner(score_obs, score_obs) /\n"
          ]
        },
        {
          "output_type": "stream",
          "name": "stdout",
          "text": [
            "SARIMA forecast for {'State': 'OH', 'Segment': 'IND_LEG'} completed\n",
            "SARIMA forecast for {'State': 'VA', 'Segment': 'IND_LEG'} completed\n",
            "SARIMA forecast for {'State': 'WI', 'Segment': 'IND_LEG'} completed\n",
            "SARIMA forecast for {'State': 'CA_HMO', 'Segment': 'SBG_ACA'} completed\n",
            "SARIMA forecast for {'State': 'CA_PPO', 'Segment': 'SBG_ACA'} completed\n",
            "SARIMA forecast for {'State': 'CO', 'Segment': 'SBG_ACA'} completed\n"
          ]
        },
        {
          "output_type": "stream",
          "name": "stderr",
          "text": [
            "/usr/local/lib/python3.11/dist-packages/statsmodels/tsa/base/tsa_model.py:473: ValueWarning: No frequency information was provided, so inferred frequency MS will be used.\n",
            "  self._init_dates(dates, freq)\n",
            "/usr/local/lib/python3.11/dist-packages/statsmodels/tsa/base/tsa_model.py:473: ValueWarning: No frequency information was provided, so inferred frequency MS will be used.\n",
            "  self._init_dates(dates, freq)\n",
            "/usr/local/lib/python3.11/dist-packages/statsmodels/tsa/statespace/sarimax.py:866: UserWarning: Too few observations to estimate starting parameters for seasonal ARMA. All parameters except for variances will be set to zeros.\n",
            "  warn('Too few observations to estimate starting parameters%s.'\n",
            "/usr/local/lib/python3.11/dist-packages/statsmodels/tsa/statespace/mlemodel.py:1235: RuntimeWarning: invalid value encountered in divide\n",
            "  np.inner(score_obs, score_obs) /\n",
            "/usr/local/lib/python3.11/dist-packages/statsmodels/tsa/base/tsa_model.py:473: ValueWarning: No frequency information was provided, so inferred frequency MS will be used.\n",
            "  self._init_dates(dates, freq)\n",
            "/usr/local/lib/python3.11/dist-packages/statsmodels/tsa/base/tsa_model.py:473: ValueWarning: No frequency information was provided, so inferred frequency MS will be used.\n",
            "  self._init_dates(dates, freq)\n",
            "/usr/local/lib/python3.11/dist-packages/statsmodels/tsa/statespace/sarimax.py:866: UserWarning: Too few observations to estimate starting parameters for seasonal ARMA. All parameters except for variances will be set to zeros.\n",
            "  warn('Too few observations to estimate starting parameters%s.'\n",
            "/usr/local/lib/python3.11/dist-packages/statsmodels/tsa/statespace/mlemodel.py:1235: RuntimeWarning: invalid value encountered in divide\n",
            "  np.inner(score_obs, score_obs) /\n",
            "/usr/local/lib/python3.11/dist-packages/statsmodels/tsa/base/tsa_model.py:473: ValueWarning: No frequency information was provided, so inferred frequency MS will be used.\n",
            "  self._init_dates(dates, freq)\n",
            "/usr/local/lib/python3.11/dist-packages/statsmodels/tsa/base/tsa_model.py:473: ValueWarning: No frequency information was provided, so inferred frequency MS will be used.\n",
            "  self._init_dates(dates, freq)\n",
            "/usr/local/lib/python3.11/dist-packages/statsmodels/tsa/statespace/sarimax.py:866: UserWarning: Too few observations to estimate starting parameters for seasonal ARMA. All parameters except for variances will be set to zeros.\n",
            "  warn('Too few observations to estimate starting parameters%s.'\n",
            "/usr/local/lib/python3.11/dist-packages/statsmodels/tsa/statespace/mlemodel.py:1235: RuntimeWarning: invalid value encountered in divide\n",
            "  np.inner(score_obs, score_obs) /\n",
            "/usr/local/lib/python3.11/dist-packages/statsmodels/tsa/base/tsa_model.py:473: ValueWarning: No frequency information was provided, so inferred frequency MS will be used.\n",
            "  self._init_dates(dates, freq)\n",
            "/usr/local/lib/python3.11/dist-packages/statsmodels/tsa/base/tsa_model.py:473: ValueWarning: No frequency information was provided, so inferred frequency MS will be used.\n",
            "  self._init_dates(dates, freq)\n",
            "/usr/local/lib/python3.11/dist-packages/statsmodels/tsa/statespace/sarimax.py:866: UserWarning: Too few observations to estimate starting parameters for seasonal ARMA. All parameters except for variances will be set to zeros.\n",
            "  warn('Too few observations to estimate starting parameters%s.'\n",
            "/usr/local/lib/python3.11/dist-packages/statsmodels/tsa/statespace/mlemodel.py:1235: RuntimeWarning: invalid value encountered in divide\n",
            "  np.inner(score_obs, score_obs) /\n",
            "/usr/local/lib/python3.11/dist-packages/statsmodels/tsa/base/tsa_model.py:473: ValueWarning: No frequency information was provided, so inferred frequency MS will be used.\n",
            "  self._init_dates(dates, freq)\n",
            "/usr/local/lib/python3.11/dist-packages/statsmodels/tsa/base/tsa_model.py:473: ValueWarning: No frequency information was provided, so inferred frequency MS will be used.\n",
            "  self._init_dates(dates, freq)\n",
            "/usr/local/lib/python3.11/dist-packages/statsmodels/tsa/statespace/sarimax.py:866: UserWarning: Too few observations to estimate starting parameters for seasonal ARMA. All parameters except for variances will be set to zeros.\n",
            "  warn('Too few observations to estimate starting parameters%s.'\n",
            "/usr/local/lib/python3.11/dist-packages/statsmodels/tsa/statespace/mlemodel.py:1235: RuntimeWarning: invalid value encountered in divide\n",
            "  np.inner(score_obs, score_obs) /\n",
            "/usr/local/lib/python3.11/dist-packages/statsmodels/tsa/base/tsa_model.py:473: ValueWarning: No frequency information was provided, so inferred frequency MS will be used.\n",
            "  self._init_dates(dates, freq)\n",
            "/usr/local/lib/python3.11/dist-packages/statsmodels/tsa/base/tsa_model.py:473: ValueWarning: No frequency information was provided, so inferred frequency MS will be used.\n",
            "  self._init_dates(dates, freq)\n",
            "/usr/local/lib/python3.11/dist-packages/statsmodels/tsa/statespace/sarimax.py:866: UserWarning: Too few observations to estimate starting parameters for seasonal ARMA. All parameters except for variances will be set to zeros.\n",
            "  warn('Too few observations to estimate starting parameters%s.'\n",
            "/usr/local/lib/python3.11/dist-packages/statsmodels/tsa/statespace/mlemodel.py:1235: RuntimeWarning: invalid value encountered in divide\n",
            "  np.inner(score_obs, score_obs) /\n",
            "/usr/local/lib/python3.11/dist-packages/statsmodels/tsa/base/tsa_model.py:473: ValueWarning: No frequency information was provided, so inferred frequency MS will be used.\n",
            "  self._init_dates(dates, freq)\n",
            "/usr/local/lib/python3.11/dist-packages/statsmodels/tsa/base/tsa_model.py:473: ValueWarning: No frequency information was provided, so inferred frequency MS will be used.\n",
            "  self._init_dates(dates, freq)\n",
            "/usr/local/lib/python3.11/dist-packages/statsmodels/tsa/statespace/sarimax.py:866: UserWarning: Too few observations to estimate starting parameters for seasonal ARMA. All parameters except for variances will be set to zeros.\n",
            "  warn('Too few observations to estimate starting parameters%s.'\n"
          ]
        },
        {
          "output_type": "stream",
          "name": "stdout",
          "text": [
            "SARIMA forecast for {'State': 'CT', 'Segment': 'SBG_ACA'} completed\n",
            "SARIMA forecast for {'State': 'GA', 'Segment': 'SBG_ACA'} completed\n",
            "SARIMA forecast for {'State': 'IN', 'Segment': 'SBG_ACA'} completed\n",
            "SARIMA forecast for {'State': 'KY', 'Segment': 'SBG_ACA'} completed\n",
            "SARIMA forecast for {'State': 'ME', 'Segment': 'SBG_ACA'} completed\n",
            "SARIMA forecast for {'State': 'MO', 'Segment': 'SBG_ACA'} completed\n",
            "SARIMA forecast for {'State': 'NH', 'Segment': 'SBG_ACA'} completed\n"
          ]
        },
        {
          "output_type": "stream",
          "name": "stderr",
          "text": [
            "/usr/local/lib/python3.11/dist-packages/statsmodels/tsa/statespace/mlemodel.py:1235: RuntimeWarning: invalid value encountered in divide\n",
            "  np.inner(score_obs, score_obs) /\n",
            "/usr/local/lib/python3.11/dist-packages/statsmodels/tsa/base/tsa_model.py:473: ValueWarning: No frequency information was provided, so inferred frequency MS will be used.\n",
            "  self._init_dates(dates, freq)\n",
            "/usr/local/lib/python3.11/dist-packages/statsmodels/tsa/base/tsa_model.py:473: ValueWarning: No frequency information was provided, so inferred frequency MS will be used.\n",
            "  self._init_dates(dates, freq)\n",
            "/usr/local/lib/python3.11/dist-packages/statsmodels/tsa/statespace/sarimax.py:866: UserWarning: Too few observations to estimate starting parameters for seasonal ARMA. All parameters except for variances will be set to zeros.\n",
            "  warn('Too few observations to estimate starting parameters%s.'\n",
            "/usr/local/lib/python3.11/dist-packages/statsmodels/tsa/statespace/mlemodel.py:1235: RuntimeWarning: invalid value encountered in divide\n",
            "  np.inner(score_obs, score_obs) /\n",
            "/usr/local/lib/python3.11/dist-packages/statsmodels/tsa/base/tsa_model.py:473: ValueWarning: No frequency information was provided, so inferred frequency MS will be used.\n",
            "  self._init_dates(dates, freq)\n",
            "/usr/local/lib/python3.11/dist-packages/statsmodels/tsa/base/tsa_model.py:473: ValueWarning: No frequency information was provided, so inferred frequency MS will be used.\n",
            "  self._init_dates(dates, freq)\n",
            "/usr/local/lib/python3.11/dist-packages/statsmodels/tsa/statespace/sarimax.py:866: UserWarning: Too few observations to estimate starting parameters for seasonal ARMA. All parameters except for variances will be set to zeros.\n",
            "  warn('Too few observations to estimate starting parameters%s.'\n",
            "/usr/local/lib/python3.11/dist-packages/statsmodels/tsa/statespace/mlemodel.py:1235: RuntimeWarning: invalid value encountered in divide\n",
            "  np.inner(score_obs, score_obs) /\n",
            "/usr/local/lib/python3.11/dist-packages/statsmodels/tsa/base/tsa_model.py:473: ValueWarning: No frequency information was provided, so inferred frequency MS will be used.\n",
            "  self._init_dates(dates, freq)\n",
            "/usr/local/lib/python3.11/dist-packages/statsmodels/tsa/base/tsa_model.py:473: ValueWarning: No frequency information was provided, so inferred frequency MS will be used.\n",
            "  self._init_dates(dates, freq)\n",
            "/usr/local/lib/python3.11/dist-packages/statsmodels/tsa/statespace/sarimax.py:866: UserWarning: Too few observations to estimate starting parameters for seasonal ARMA. All parameters except for variances will be set to zeros.\n",
            "  warn('Too few observations to estimate starting parameters%s.'\n",
            "/usr/local/lib/python3.11/dist-packages/statsmodels/tsa/statespace/mlemodel.py:1235: RuntimeWarning: invalid value encountered in divide\n",
            "  np.inner(score_obs, score_obs) /\n",
            "/usr/local/lib/python3.11/dist-packages/statsmodels/tsa/base/tsa_model.py:473: ValueWarning: No frequency information was provided, so inferred frequency MS will be used.\n",
            "  self._init_dates(dates, freq)\n",
            "/usr/local/lib/python3.11/dist-packages/statsmodels/tsa/base/tsa_model.py:473: ValueWarning: No frequency information was provided, so inferred frequency MS will be used.\n",
            "  self._init_dates(dates, freq)\n",
            "/usr/local/lib/python3.11/dist-packages/statsmodels/tsa/statespace/sarimax.py:866: UserWarning: Too few observations to estimate starting parameters for seasonal ARMA. All parameters except for variances will be set to zeros.\n",
            "  warn('Too few observations to estimate starting parameters%s.'\n",
            "/usr/local/lib/python3.11/dist-packages/statsmodels/tsa/statespace/mlemodel.py:1235: RuntimeWarning: invalid value encountered in divide\n",
            "  np.inner(score_obs, score_obs) /\n",
            "/usr/local/lib/python3.11/dist-packages/statsmodels/tsa/base/tsa_model.py:473: ValueWarning: No frequency information was provided, so inferred frequency MS will be used.\n",
            "  self._init_dates(dates, freq)\n",
            "/usr/local/lib/python3.11/dist-packages/statsmodels/tsa/base/tsa_model.py:473: ValueWarning: No frequency information was provided, so inferred frequency MS will be used.\n",
            "  self._init_dates(dates, freq)\n",
            "/usr/local/lib/python3.11/dist-packages/statsmodels/tsa/statespace/sarimax.py:866: UserWarning: Too few observations to estimate starting parameters for seasonal ARMA. All parameters except for variances will be set to zeros.\n",
            "  warn('Too few observations to estimate starting parameters%s.'\n",
            "/usr/local/lib/python3.11/dist-packages/statsmodels/tsa/statespace/mlemodel.py:1235: RuntimeWarning: invalid value encountered in divide\n",
            "  np.inner(score_obs, score_obs) /\n",
            "/usr/local/lib/python3.11/dist-packages/statsmodels/tsa/base/tsa_model.py:473: ValueWarning: No frequency information was provided, so inferred frequency MS will be used.\n",
            "  self._init_dates(dates, freq)\n",
            "/usr/local/lib/python3.11/dist-packages/statsmodels/tsa/base/tsa_model.py:473: ValueWarning: No frequency information was provided, so inferred frequency MS will be used.\n",
            "  self._init_dates(dates, freq)\n",
            "/usr/local/lib/python3.11/dist-packages/statsmodels/tsa/statespace/sarimax.py:866: UserWarning: Too few observations to estimate starting parameters for seasonal ARMA. All parameters except for variances will be set to zeros.\n",
            "  warn('Too few observations to estimate starting parameters%s.'\n",
            "/usr/local/lib/python3.11/dist-packages/statsmodels/tsa/statespace/mlemodel.py:1235: RuntimeWarning: invalid value encountered in divide\n",
            "  np.inner(score_obs, score_obs) /\n"
          ]
        },
        {
          "output_type": "stream",
          "name": "stdout",
          "text": [
            "SARIMA forecast for {'State': 'NV', 'Segment': 'SBG_ACA'} completed\n",
            "SARIMA forecast for {'State': 'NY', 'Segment': 'SBG_ACA'} completed\n",
            "SARIMA forecast for {'State': 'OH', 'Segment': 'SBG_ACA'} completed\n",
            "SARIMA forecast for {'State': 'VA', 'Segment': 'SBG_ACA'} completed\n",
            "SARIMA forecast for {'State': 'WI', 'Segment': 'SBG_ACA'} completed\n",
            "SARIMA forecast for {'State': 'CA_HMO', 'Segment': 'SBG_LEG'} completed\n"
          ]
        },
        {
          "output_type": "stream",
          "name": "stderr",
          "text": [
            "/usr/local/lib/python3.11/dist-packages/statsmodels/tsa/base/tsa_model.py:473: ValueWarning: No frequency information was provided, so inferred frequency MS will be used.\n",
            "  self._init_dates(dates, freq)\n",
            "/usr/local/lib/python3.11/dist-packages/statsmodels/tsa/base/tsa_model.py:473: ValueWarning: No frequency information was provided, so inferred frequency MS will be used.\n",
            "  self._init_dates(dates, freq)\n",
            "/usr/local/lib/python3.11/dist-packages/statsmodels/tsa/statespace/sarimax.py:866: UserWarning: Too few observations to estimate starting parameters for seasonal ARMA. All parameters except for variances will be set to zeros.\n",
            "  warn('Too few observations to estimate starting parameters%s.'\n",
            "/usr/local/lib/python3.11/dist-packages/statsmodels/tsa/statespace/mlemodel.py:1235: RuntimeWarning: invalid value encountered in divide\n",
            "  np.inner(score_obs, score_obs) /\n",
            "/usr/local/lib/python3.11/dist-packages/statsmodels/tsa/base/tsa_model.py:473: ValueWarning: No frequency information was provided, so inferred frequency MS will be used.\n",
            "  self._init_dates(dates, freq)\n",
            "/usr/local/lib/python3.11/dist-packages/statsmodels/tsa/base/tsa_model.py:473: ValueWarning: No frequency information was provided, so inferred frequency MS will be used.\n",
            "  self._init_dates(dates, freq)\n",
            "/usr/local/lib/python3.11/dist-packages/statsmodels/tsa/statespace/sarimax.py:866: UserWarning: Too few observations to estimate starting parameters for seasonal ARMA. All parameters except for variances will be set to zeros.\n",
            "  warn('Too few observations to estimate starting parameters%s.'\n",
            "/usr/local/lib/python3.11/dist-packages/statsmodels/tsa/statespace/mlemodel.py:1235: RuntimeWarning: invalid value encountered in divide\n",
            "  np.inner(score_obs, score_obs) /\n",
            "/usr/local/lib/python3.11/dist-packages/statsmodels/tsa/base/tsa_model.py:473: ValueWarning: No frequency information was provided, so inferred frequency MS will be used.\n",
            "  self._init_dates(dates, freq)\n",
            "/usr/local/lib/python3.11/dist-packages/statsmodels/tsa/base/tsa_model.py:473: ValueWarning: No frequency information was provided, so inferred frequency MS will be used.\n",
            "  self._init_dates(dates, freq)\n",
            "/usr/local/lib/python3.11/dist-packages/statsmodels/tsa/statespace/sarimax.py:866: UserWarning: Too few observations to estimate starting parameters for seasonal ARMA. All parameters except for variances will be set to zeros.\n",
            "  warn('Too few observations to estimate starting parameters%s.'\n",
            "/usr/local/lib/python3.11/dist-packages/statsmodels/tsa/statespace/mlemodel.py:1235: RuntimeWarning: invalid value encountered in divide\n",
            "  np.inner(score_obs, score_obs) /\n",
            "/usr/local/lib/python3.11/dist-packages/statsmodels/tsa/base/tsa_model.py:473: ValueWarning: No frequency information was provided, so inferred frequency MS will be used.\n",
            "  self._init_dates(dates, freq)\n",
            "/usr/local/lib/python3.11/dist-packages/statsmodels/tsa/base/tsa_model.py:473: ValueWarning: No frequency information was provided, so inferred frequency MS will be used.\n",
            "  self._init_dates(dates, freq)\n",
            "/usr/local/lib/python3.11/dist-packages/statsmodels/tsa/statespace/sarimax.py:866: UserWarning: Too few observations to estimate starting parameters for seasonal ARMA. All parameters except for variances will be set to zeros.\n",
            "  warn('Too few observations to estimate starting parameters%s.'\n",
            "/usr/local/lib/python3.11/dist-packages/statsmodels/tsa/statespace/mlemodel.py:1235: RuntimeWarning: invalid value encountered in divide\n",
            "  np.inner(score_obs, score_obs) /\n",
            "/usr/local/lib/python3.11/dist-packages/statsmodels/tsa/base/tsa_model.py:473: ValueWarning: No frequency information was provided, so inferred frequency MS will be used.\n",
            "  self._init_dates(dates, freq)\n",
            "/usr/local/lib/python3.11/dist-packages/statsmodels/tsa/base/tsa_model.py:473: ValueWarning: No frequency information was provided, so inferred frequency MS will be used.\n",
            "  self._init_dates(dates, freq)\n",
            "/usr/local/lib/python3.11/dist-packages/statsmodels/tsa/statespace/sarimax.py:866: UserWarning: Too few observations to estimate starting parameters for seasonal ARMA. All parameters except for variances will be set to zeros.\n",
            "  warn('Too few observations to estimate starting parameters%s.'\n",
            "/usr/local/lib/python3.11/dist-packages/statsmodels/tsa/statespace/mlemodel.py:1235: RuntimeWarning: invalid value encountered in divide\n",
            "  np.inner(score_obs, score_obs) /\n",
            "/usr/local/lib/python3.11/dist-packages/statsmodels/tsa/base/tsa_model.py:473: ValueWarning: No frequency information was provided, so inferred frequency MS will be used.\n",
            "  self._init_dates(dates, freq)\n",
            "/usr/local/lib/python3.11/dist-packages/statsmodels/tsa/base/tsa_model.py:473: ValueWarning: No frequency information was provided, so inferred frequency MS will be used.\n",
            "  self._init_dates(dates, freq)\n",
            "/usr/local/lib/python3.11/dist-packages/statsmodels/tsa/statespace/sarimax.py:866: UserWarning: Too few observations to estimate starting parameters for seasonal ARMA. All parameters except for variances will be set to zeros.\n",
            "  warn('Too few observations to estimate starting parameters%s.'\n"
          ]
        },
        {
          "output_type": "stream",
          "name": "stdout",
          "text": [
            "SARIMA forecast for {'State': 'CA_PPO', 'Segment': 'SBG_LEG'} completed\n",
            "SARIMA forecast for {'State': 'CO', 'Segment': 'SBG_LEG'} completed\n",
            "SARIMA forecast for {'State': 'CT', 'Segment': 'SBG_LEG'} completed\n",
            "SARIMA forecast for {'State': 'GA', 'Segment': 'SBG_LEG'} completed\n",
            "SARIMA forecast for {'State': 'IN', 'Segment': 'SBG_LEG'} completed\n",
            "SARIMA forecast for {'State': 'KY', 'Segment': 'SBG_LEG'} completed\n"
          ]
        },
        {
          "output_type": "stream",
          "name": "stderr",
          "text": [
            "/usr/local/lib/python3.11/dist-packages/statsmodels/tsa/statespace/mlemodel.py:1235: RuntimeWarning: invalid value encountered in divide\n",
            "  np.inner(score_obs, score_obs) /\n",
            "/usr/local/lib/python3.11/dist-packages/statsmodels/tsa/base/tsa_model.py:473: ValueWarning: No frequency information was provided, so inferred frequency MS will be used.\n",
            "  self._init_dates(dates, freq)\n",
            "/usr/local/lib/python3.11/dist-packages/statsmodels/tsa/base/tsa_model.py:473: ValueWarning: No frequency information was provided, so inferred frequency MS will be used.\n",
            "  self._init_dates(dates, freq)\n",
            "/usr/local/lib/python3.11/dist-packages/statsmodels/tsa/statespace/sarimax.py:866: UserWarning: Too few observations to estimate starting parameters for seasonal ARMA. All parameters except for variances will be set to zeros.\n",
            "  warn('Too few observations to estimate starting parameters%s.'\n",
            "/usr/local/lib/python3.11/dist-packages/statsmodels/tsa/statespace/mlemodel.py:1235: RuntimeWarning: invalid value encountered in divide\n",
            "  np.inner(score_obs, score_obs) /\n",
            "/usr/local/lib/python3.11/dist-packages/statsmodels/tsa/base/tsa_model.py:473: ValueWarning: No frequency information was provided, so inferred frequency MS will be used.\n",
            "  self._init_dates(dates, freq)\n",
            "/usr/local/lib/python3.11/dist-packages/statsmodels/tsa/base/tsa_model.py:473: ValueWarning: No frequency information was provided, so inferred frequency MS will be used.\n",
            "  self._init_dates(dates, freq)\n",
            "/usr/local/lib/python3.11/dist-packages/statsmodels/tsa/statespace/sarimax.py:866: UserWarning: Too few observations to estimate starting parameters for seasonal ARMA. All parameters except for variances will be set to zeros.\n",
            "  warn('Too few observations to estimate starting parameters%s.'\n",
            "/usr/local/lib/python3.11/dist-packages/statsmodels/tsa/statespace/mlemodel.py:1235: RuntimeWarning: invalid value encountered in divide\n",
            "  np.inner(score_obs, score_obs) /\n",
            "/usr/local/lib/python3.11/dist-packages/statsmodels/tsa/base/tsa_model.py:473: ValueWarning: No frequency information was provided, so inferred frequency MS will be used.\n",
            "  self._init_dates(dates, freq)\n",
            "/usr/local/lib/python3.11/dist-packages/statsmodels/tsa/base/tsa_model.py:473: ValueWarning: No frequency information was provided, so inferred frequency MS will be used.\n",
            "  self._init_dates(dates, freq)\n",
            "/usr/local/lib/python3.11/dist-packages/statsmodels/tsa/statespace/sarimax.py:866: UserWarning: Too few observations to estimate starting parameters for seasonal ARMA. All parameters except for variances will be set to zeros.\n",
            "  warn('Too few observations to estimate starting parameters%s.'\n",
            "/usr/local/lib/python3.11/dist-packages/statsmodels/tsa/statespace/mlemodel.py:1235: RuntimeWarning: invalid value encountered in divide\n",
            "  np.inner(score_obs, score_obs) /\n",
            "/usr/local/lib/python3.11/dist-packages/statsmodels/tsa/base/tsa_model.py:473: ValueWarning: No frequency information was provided, so inferred frequency MS will be used.\n",
            "  self._init_dates(dates, freq)\n",
            "/usr/local/lib/python3.11/dist-packages/statsmodels/tsa/base/tsa_model.py:473: ValueWarning: No frequency information was provided, so inferred frequency MS will be used.\n",
            "  self._init_dates(dates, freq)\n",
            "/usr/local/lib/python3.11/dist-packages/statsmodels/tsa/statespace/sarimax.py:866: UserWarning: Too few observations to estimate starting parameters for seasonal ARMA. All parameters except for variances will be set to zeros.\n",
            "  warn('Too few observations to estimate starting parameters%s.'\n",
            "/usr/local/lib/python3.11/dist-packages/statsmodels/tsa/statespace/mlemodel.py:1235: RuntimeWarning: invalid value encountered in divide\n",
            "  np.inner(score_obs, score_obs) /\n",
            "/usr/local/lib/python3.11/dist-packages/statsmodels/tsa/base/tsa_model.py:473: ValueWarning: No frequency information was provided, so inferred frequency MS will be used.\n",
            "  self._init_dates(dates, freq)\n",
            "/usr/local/lib/python3.11/dist-packages/statsmodels/tsa/base/tsa_model.py:473: ValueWarning: No frequency information was provided, so inferred frequency MS will be used.\n",
            "  self._init_dates(dates, freq)\n",
            "/usr/local/lib/python3.11/dist-packages/statsmodels/tsa/statespace/sarimax.py:866: UserWarning: Too few observations to estimate starting parameters for seasonal ARMA. All parameters except for variances will be set to zeros.\n",
            "  warn('Too few observations to estimate starting parameters%s.'\n",
            "/usr/local/lib/python3.11/dist-packages/statsmodels/tsa/statespace/mlemodel.py:1235: RuntimeWarning: invalid value encountered in divide\n",
            "  np.inner(score_obs, score_obs) /\n"
          ]
        },
        {
          "output_type": "stream",
          "name": "stdout",
          "text": [
            "SARIMA forecast for {'State': 'ME', 'Segment': 'SBG_LEG'} completed\n",
            "SARIMA forecast for {'State': 'MO', 'Segment': 'SBG_LEG'} completed\n",
            "SARIMA forecast for {'State': 'NH', 'Segment': 'SBG_LEG'} completed\n",
            "SARIMA forecast for {'State': 'NV', 'Segment': 'SBG_LEG'} completed\n",
            "SARIMA forecast for {'State': 'NY', 'Segment': 'SBG_LEG'} completed\n"
          ]
        },
        {
          "output_type": "stream",
          "name": "stderr",
          "text": [
            "/usr/local/lib/python3.11/dist-packages/statsmodels/tsa/base/tsa_model.py:473: ValueWarning: No frequency information was provided, so inferred frequency MS will be used.\n",
            "  self._init_dates(dates, freq)\n",
            "/usr/local/lib/python3.11/dist-packages/statsmodels/tsa/base/tsa_model.py:473: ValueWarning: No frequency information was provided, so inferred frequency MS will be used.\n",
            "  self._init_dates(dates, freq)\n",
            "/usr/local/lib/python3.11/dist-packages/statsmodels/tsa/statespace/sarimax.py:866: UserWarning: Too few observations to estimate starting parameters for seasonal ARMA. All parameters except for variances will be set to zeros.\n",
            "  warn('Too few observations to estimate starting parameters%s.'\n",
            "/usr/local/lib/python3.11/dist-packages/statsmodels/tsa/statespace/mlemodel.py:1235: RuntimeWarning: invalid value encountered in divide\n",
            "  np.inner(score_obs, score_obs) /\n",
            "/usr/local/lib/python3.11/dist-packages/statsmodels/tsa/base/tsa_model.py:473: ValueWarning: No frequency information was provided, so inferred frequency MS will be used.\n",
            "  self._init_dates(dates, freq)\n",
            "/usr/local/lib/python3.11/dist-packages/statsmodels/tsa/base/tsa_model.py:473: ValueWarning: No frequency information was provided, so inferred frequency MS will be used.\n",
            "  self._init_dates(dates, freq)\n",
            "/usr/local/lib/python3.11/dist-packages/statsmodels/tsa/statespace/sarimax.py:866: UserWarning: Too few observations to estimate starting parameters for seasonal ARMA. All parameters except for variances will be set to zeros.\n",
            "  warn('Too few observations to estimate starting parameters%s.'\n",
            "/usr/local/lib/python3.11/dist-packages/statsmodels/tsa/statespace/mlemodel.py:1235: RuntimeWarning: invalid value encountered in divide\n",
            "  np.inner(score_obs, score_obs) /\n",
            "/usr/local/lib/python3.11/dist-packages/statsmodels/tsa/base/tsa_model.py:473: ValueWarning: No frequency information was provided, so inferred frequency MS will be used.\n",
            "  self._init_dates(dates, freq)\n",
            "/usr/local/lib/python3.11/dist-packages/statsmodels/tsa/base/tsa_model.py:473: ValueWarning: No frequency information was provided, so inferred frequency MS will be used.\n",
            "  self._init_dates(dates, freq)\n",
            "/usr/local/lib/python3.11/dist-packages/statsmodels/tsa/statespace/sarimax.py:866: UserWarning: Too few observations to estimate starting parameters for seasonal ARMA. All parameters except for variances will be set to zeros.\n",
            "  warn('Too few observations to estimate starting parameters%s.'\n",
            "/usr/local/lib/python3.11/dist-packages/statsmodels/tsa/statespace/mlemodel.py:1235: RuntimeWarning: invalid value encountered in divide\n",
            "  np.inner(score_obs, score_obs) /\n",
            "/usr/local/lib/python3.11/dist-packages/statsmodels/tsa/base/tsa_model.py:473: ValueWarning: No frequency information was provided, so inferred frequency MS will be used.\n",
            "  self._init_dates(dates, freq)\n",
            "/usr/local/lib/python3.11/dist-packages/statsmodels/tsa/base/tsa_model.py:473: ValueWarning: No frequency information was provided, so inferred frequency MS will be used.\n",
            "  self._init_dates(dates, freq)\n",
            "/usr/local/lib/python3.11/dist-packages/statsmodels/tsa/statespace/sarimax.py:866: UserWarning: Too few observations to estimate starting parameters for seasonal ARMA. All parameters except for variances will be set to zeros.\n",
            "  warn('Too few observations to estimate starting parameters%s.'\n",
            "/usr/local/lib/python3.11/dist-packages/statsmodels/tsa/statespace/mlemodel.py:1235: RuntimeWarning: invalid value encountered in divide\n",
            "  np.inner(score_obs, score_obs) /\n",
            "/usr/local/lib/python3.11/dist-packages/statsmodels/tsa/base/tsa_model.py:473: ValueWarning: No frequency information was provided, so inferred frequency MS will be used.\n",
            "  self._init_dates(dates, freq)\n",
            "/usr/local/lib/python3.11/dist-packages/statsmodels/tsa/base/tsa_model.py:473: ValueWarning: No frequency information was provided, so inferred frequency MS will be used.\n",
            "  self._init_dates(dates, freq)\n",
            "/usr/local/lib/python3.11/dist-packages/statsmodels/tsa/statespace/sarimax.py:866: UserWarning: Too few observations to estimate starting parameters for seasonal ARMA. All parameters except for variances will be set to zeros.\n",
            "  warn('Too few observations to estimate starting parameters%s.'\n"
          ]
        },
        {
          "output_type": "stream",
          "name": "stdout",
          "text": [
            "SARIMA forecast for {'State': 'OH', 'Segment': 'SBG_LEG'} completed\n",
            "SARIMA forecast for {'State': 'VA', 'Segment': 'SBG_LEG'} completed\n",
            "SARIMA forecast for {'State': 'WI', 'Segment': 'SBG_LEG'} completed\n",
            "SARIMA forecast for {'State': 'CA_HMO', 'Segment': 'SBG_MEW'} completed\n",
            "SARIMA forecast for {'State': 'CA_PPO', 'Segment': 'SBG_MEW'} completed\n"
          ]
        },
        {
          "output_type": "stream",
          "name": "stderr",
          "text": [
            "/usr/local/lib/python3.11/dist-packages/statsmodels/tsa/statespace/mlemodel.py:1235: RuntimeWarning: invalid value encountered in divide\n",
            "  np.inner(score_obs, score_obs) /\n",
            "/usr/local/lib/python3.11/dist-packages/statsmodels/tsa/base/tsa_model.py:473: ValueWarning: No frequency information was provided, so inferred frequency MS will be used.\n",
            "  self._init_dates(dates, freq)\n",
            "/usr/local/lib/python3.11/dist-packages/statsmodels/tsa/base/tsa_model.py:473: ValueWarning: No frequency information was provided, so inferred frequency MS will be used.\n",
            "  self._init_dates(dates, freq)\n",
            "/usr/local/lib/python3.11/dist-packages/statsmodels/tsa/statespace/sarimax.py:866: UserWarning: Too few observations to estimate starting parameters for seasonal ARMA. All parameters except for variances will be set to zeros.\n",
            "  warn('Too few observations to estimate starting parameters%s.'\n",
            "/usr/local/lib/python3.11/dist-packages/statsmodels/tsa/statespace/mlemodel.py:1235: RuntimeWarning: invalid value encountered in divide\n",
            "  np.inner(score_obs, score_obs) /\n",
            "/usr/local/lib/python3.11/dist-packages/statsmodels/tsa/base/tsa_model.py:473: ValueWarning: No frequency information was provided, so inferred frequency MS will be used.\n",
            "  self._init_dates(dates, freq)\n",
            "/usr/local/lib/python3.11/dist-packages/statsmodels/tsa/base/tsa_model.py:473: ValueWarning: No frequency information was provided, so inferred frequency MS will be used.\n",
            "  self._init_dates(dates, freq)\n",
            "/usr/local/lib/python3.11/dist-packages/statsmodels/tsa/statespace/sarimax.py:866: UserWarning: Too few observations to estimate starting parameters for seasonal ARMA. All parameters except for variances will be set to zeros.\n",
            "  warn('Too few observations to estimate starting parameters%s.'\n",
            "/usr/local/lib/python3.11/dist-packages/statsmodels/tsa/statespace/mlemodel.py:1235: RuntimeWarning: invalid value encountered in divide\n",
            "  np.inner(score_obs, score_obs) /\n",
            "/usr/local/lib/python3.11/dist-packages/statsmodels/tsa/base/tsa_model.py:473: ValueWarning: No frequency information was provided, so inferred frequency MS will be used.\n",
            "  self._init_dates(dates, freq)\n",
            "/usr/local/lib/python3.11/dist-packages/statsmodels/tsa/base/tsa_model.py:473: ValueWarning: No frequency information was provided, so inferred frequency MS will be used.\n",
            "  self._init_dates(dates, freq)\n",
            "/usr/local/lib/python3.11/dist-packages/statsmodels/tsa/statespace/sarimax.py:866: UserWarning: Too few observations to estimate starting parameters for seasonal ARMA. All parameters except for variances will be set to zeros.\n",
            "  warn('Too few observations to estimate starting parameters%s.'\n",
            "/usr/local/lib/python3.11/dist-packages/statsmodels/tsa/statespace/mlemodel.py:1235: RuntimeWarning: invalid value encountered in divide\n",
            "  np.inner(score_obs, score_obs) /\n",
            "/usr/local/lib/python3.11/dist-packages/statsmodels/tsa/base/tsa_model.py:473: ValueWarning: No frequency information was provided, so inferred frequency MS will be used.\n",
            "  self._init_dates(dates, freq)\n",
            "/usr/local/lib/python3.11/dist-packages/statsmodels/tsa/base/tsa_model.py:473: ValueWarning: No frequency information was provided, so inferred frequency MS will be used.\n",
            "  self._init_dates(dates, freq)\n",
            "/usr/local/lib/python3.11/dist-packages/statsmodels/tsa/statespace/sarimax.py:866: UserWarning: Too few observations to estimate starting parameters for seasonal ARMA. All parameters except for variances will be set to zeros.\n",
            "  warn('Too few observations to estimate starting parameters%s.'\n",
            "/usr/local/lib/python3.11/dist-packages/statsmodels/tsa/statespace/mlemodel.py:1235: RuntimeWarning: invalid value encountered in divide\n",
            "  np.inner(score_obs, score_obs) /\n"
          ]
        },
        {
          "output_type": "stream",
          "name": "stdout",
          "text": [
            "SARIMA forecast for {'State': 'CO', 'Segment': 'SBG_MEW'} completed\n",
            "SARIMA forecast for {'State': 'CT', 'Segment': 'SBG_MEW'} completed\n",
            "SARIMA forecast for {'State': 'GA', 'Segment': 'SBG_MEW'} completed\n",
            "SARIMA forecast for {'State': 'IN', 'Segment': 'SBG_MEW'} completed\n",
            "SARIMA forecast for {'State': 'KY', 'Segment': 'SBG_MEW'} completed\n"
          ]
        },
        {
          "output_type": "stream",
          "name": "stderr",
          "text": [
            "/usr/local/lib/python3.11/dist-packages/statsmodels/tsa/base/tsa_model.py:473: ValueWarning: No frequency information was provided, so inferred frequency MS will be used.\n",
            "  self._init_dates(dates, freq)\n",
            "/usr/local/lib/python3.11/dist-packages/statsmodels/tsa/base/tsa_model.py:473: ValueWarning: No frequency information was provided, so inferred frequency MS will be used.\n",
            "  self._init_dates(dates, freq)\n",
            "/usr/local/lib/python3.11/dist-packages/statsmodels/tsa/statespace/sarimax.py:866: UserWarning: Too few observations to estimate starting parameters for seasonal ARMA. All parameters except for variances will be set to zeros.\n",
            "  warn('Too few observations to estimate starting parameters%s.'\n",
            "/usr/local/lib/python3.11/dist-packages/statsmodels/tsa/statespace/mlemodel.py:1235: RuntimeWarning: invalid value encountered in divide\n",
            "  np.inner(score_obs, score_obs) /\n",
            "/usr/local/lib/python3.11/dist-packages/statsmodels/tsa/base/tsa_model.py:473: ValueWarning: No frequency information was provided, so inferred frequency MS will be used.\n",
            "  self._init_dates(dates, freq)\n",
            "/usr/local/lib/python3.11/dist-packages/statsmodels/tsa/base/tsa_model.py:473: ValueWarning: No frequency information was provided, so inferred frequency MS will be used.\n",
            "  self._init_dates(dates, freq)\n",
            "/usr/local/lib/python3.11/dist-packages/statsmodels/tsa/statespace/sarimax.py:866: UserWarning: Too few observations to estimate starting parameters for seasonal ARMA. All parameters except for variances will be set to zeros.\n",
            "  warn('Too few observations to estimate starting parameters%s.'\n",
            "/usr/local/lib/python3.11/dist-packages/statsmodels/tsa/statespace/mlemodel.py:1235: RuntimeWarning: invalid value encountered in divide\n",
            "  np.inner(score_obs, score_obs) /\n",
            "/usr/local/lib/python3.11/dist-packages/statsmodels/tsa/base/tsa_model.py:473: ValueWarning: No frequency information was provided, so inferred frequency MS will be used.\n",
            "  self._init_dates(dates, freq)\n",
            "/usr/local/lib/python3.11/dist-packages/statsmodels/tsa/base/tsa_model.py:473: ValueWarning: No frequency information was provided, so inferred frequency MS will be used.\n",
            "  self._init_dates(dates, freq)\n",
            "/usr/local/lib/python3.11/dist-packages/statsmodels/tsa/statespace/sarimax.py:866: UserWarning: Too few observations to estimate starting parameters for seasonal ARMA. All parameters except for variances will be set to zeros.\n",
            "  warn('Too few observations to estimate starting parameters%s.'\n",
            "/usr/local/lib/python3.11/dist-packages/statsmodels/tsa/statespace/mlemodel.py:1235: RuntimeWarning: invalid value encountered in divide\n",
            "  np.inner(score_obs, score_obs) /\n",
            "/usr/local/lib/python3.11/dist-packages/statsmodels/tsa/base/tsa_model.py:473: ValueWarning: No frequency information was provided, so inferred frequency MS will be used.\n",
            "  self._init_dates(dates, freq)\n",
            "/usr/local/lib/python3.11/dist-packages/statsmodels/tsa/base/tsa_model.py:473: ValueWarning: No frequency information was provided, so inferred frequency MS will be used.\n",
            "  self._init_dates(dates, freq)\n",
            "/usr/local/lib/python3.11/dist-packages/statsmodels/tsa/statespace/sarimax.py:866: UserWarning: Too few observations to estimate starting parameters for seasonal ARMA. All parameters except for variances will be set to zeros.\n",
            "  warn('Too few observations to estimate starting parameters%s.'\n",
            "/usr/local/lib/python3.11/dist-packages/statsmodels/tsa/statespace/mlemodel.py:1235: RuntimeWarning: invalid value encountered in divide\n",
            "  np.inner(score_obs, score_obs) /\n",
            "/usr/local/lib/python3.11/dist-packages/statsmodels/tsa/base/tsa_model.py:473: ValueWarning: No frequency information was provided, so inferred frequency MS will be used.\n",
            "  self._init_dates(dates, freq)\n",
            "/usr/local/lib/python3.11/dist-packages/statsmodels/tsa/base/tsa_model.py:473: ValueWarning: No frequency information was provided, so inferred frequency MS will be used.\n",
            "  self._init_dates(dates, freq)\n",
            "/usr/local/lib/python3.11/dist-packages/statsmodels/tsa/statespace/sarimax.py:866: UserWarning: Too few observations to estimate starting parameters for seasonal ARMA. All parameters except for variances will be set to zeros.\n",
            "  warn('Too few observations to estimate starting parameters%s.'\n",
            "/usr/local/lib/python3.11/dist-packages/statsmodels/tsa/statespace/mlemodel.py:1235: RuntimeWarning: invalid value encountered in divide\n",
            "  np.inner(score_obs, score_obs) /\n",
            "/usr/local/lib/python3.11/dist-packages/statsmodels/tsa/base/tsa_model.py:473: ValueWarning: No frequency information was provided, so inferred frequency MS will be used.\n",
            "  self._init_dates(dates, freq)\n",
            "/usr/local/lib/python3.11/dist-packages/statsmodels/tsa/base/tsa_model.py:473: ValueWarning: No frequency information was provided, so inferred frequency MS will be used.\n",
            "  self._init_dates(dates, freq)\n",
            "/usr/local/lib/python3.11/dist-packages/statsmodels/tsa/statespace/sarimax.py:866: UserWarning: Too few observations to estimate starting parameters for seasonal ARMA. All parameters except for variances will be set to zeros.\n",
            "  warn('Too few observations to estimate starting parameters%s.'\n",
            "/usr/local/lib/python3.11/dist-packages/statsmodels/tsa/statespace/mlemodel.py:1235: RuntimeWarning: invalid value encountered in divide\n",
            "  np.inner(score_obs, score_obs) /\n",
            "/usr/local/lib/python3.11/dist-packages/statsmodels/tsa/base/tsa_model.py:473: ValueWarning: No frequency information was provided, so inferred frequency MS will be used.\n",
            "  self._init_dates(dates, freq)\n",
            "/usr/local/lib/python3.11/dist-packages/statsmodels/tsa/base/tsa_model.py:473: ValueWarning: No frequency information was provided, so inferred frequency MS will be used.\n",
            "  self._init_dates(dates, freq)\n",
            "/usr/local/lib/python3.11/dist-packages/statsmodels/tsa/statespace/sarimax.py:866: UserWarning: Too few observations to estimate starting parameters for seasonal ARMA. All parameters except for variances will be set to zeros.\n",
            "  warn('Too few observations to estimate starting parameters%s.'\n",
            "/usr/local/lib/python3.11/dist-packages/statsmodels/tsa/statespace/mlemodel.py:1235: RuntimeWarning: invalid value encountered in divide\n",
            "  np.inner(score_obs, score_obs) /\n",
            "/usr/local/lib/python3.11/dist-packages/statsmodels/tsa/base/tsa_model.py:473: ValueWarning: No frequency information was provided, so inferred frequency MS will be used.\n",
            "  self._init_dates(dates, freq)\n",
            "/usr/local/lib/python3.11/dist-packages/statsmodels/tsa/base/tsa_model.py:473: ValueWarning: No frequency information was provided, so inferred frequency MS will be used.\n",
            "  self._init_dates(dates, freq)\n",
            "/usr/local/lib/python3.11/dist-packages/statsmodels/tsa/statespace/sarimax.py:866: UserWarning: Too few observations to estimate starting parameters for seasonal ARMA. All parameters except for variances will be set to zeros.\n",
            "  warn('Too few observations to estimate starting parameters%s.'\n",
            "/usr/local/lib/python3.11/dist-packages/statsmodels/tsa/statespace/mlemodel.py:1235: RuntimeWarning: invalid value encountered in divide\n",
            "  np.inner(score_obs, score_obs) /\n",
            "/usr/local/lib/python3.11/dist-packages/statsmodels/tsa/base/tsa_model.py:473: ValueWarning: No frequency information was provided, so inferred frequency MS will be used.\n",
            "  self._init_dates(dates, freq)\n",
            "/usr/local/lib/python3.11/dist-packages/statsmodels/tsa/base/tsa_model.py:473: ValueWarning: No frequency information was provided, so inferred frequency MS will be used.\n",
            "  self._init_dates(dates, freq)\n",
            "/usr/local/lib/python3.11/dist-packages/statsmodels/tsa/statespace/sarimax.py:866: UserWarning: Too few observations to estimate starting parameters for seasonal ARMA. All parameters except for variances will be set to zeros.\n",
            "  warn('Too few observations to estimate starting parameters%s.'\n",
            "/usr/local/lib/python3.11/dist-packages/statsmodels/tsa/statespace/mlemodel.py:1235: RuntimeWarning: invalid value encountered in divide\n",
            "  np.inner(score_obs, score_obs) /\n",
            "/usr/local/lib/python3.11/dist-packages/statsmodels/tsa/base/tsa_model.py:473: ValueWarning: No frequency information was provided, so inferred frequency MS will be used.\n",
            "  self._init_dates(dates, freq)\n"
          ]
        },
        {
          "output_type": "stream",
          "name": "stdout",
          "text": [
            "SARIMA forecast for {'State': 'ME', 'Segment': 'SBG_MEW'} completed\n",
            "SARIMA forecast for {'State': 'MO', 'Segment': 'SBG_MEW'} completed\n",
            "SARIMA forecast for {'State': 'NH', 'Segment': 'SBG_MEW'} completed\n",
            "SARIMA forecast for {'State': 'NV', 'Segment': 'SBG_MEW'} completed\n",
            "SARIMA forecast for {'State': 'NY', 'Segment': 'SBG_MEW'} completed\n"
          ]
        },
        {
          "output_type": "stream",
          "name": "stderr",
          "text": [
            "/usr/local/lib/python3.11/dist-packages/statsmodels/tsa/base/tsa_model.py:473: ValueWarning: No frequency information was provided, so inferred frequency MS will be used.\n",
            "  self._init_dates(dates, freq)\n",
            "/usr/local/lib/python3.11/dist-packages/statsmodels/tsa/statespace/sarimax.py:866: UserWarning: Too few observations to estimate starting parameters for seasonal ARMA. All parameters except for variances will be set to zeros.\n",
            "  warn('Too few observations to estimate starting parameters%s.'\n",
            "/usr/local/lib/python3.11/dist-packages/statsmodels/tsa/statespace/mlemodel.py:1235: RuntimeWarning: invalid value encountered in divide\n",
            "  np.inner(score_obs, score_obs) /\n",
            "/usr/local/lib/python3.11/dist-packages/statsmodels/tsa/base/tsa_model.py:473: ValueWarning: No frequency information was provided, so inferred frequency MS will be used.\n",
            "  self._init_dates(dates, freq)\n",
            "/usr/local/lib/python3.11/dist-packages/statsmodels/tsa/base/tsa_model.py:473: ValueWarning: No frequency information was provided, so inferred frequency MS will be used.\n",
            "  self._init_dates(dates, freq)\n",
            "/usr/local/lib/python3.11/dist-packages/statsmodels/tsa/statespace/sarimax.py:866: UserWarning: Too few observations to estimate starting parameters for seasonal ARMA. All parameters except for variances will be set to zeros.\n",
            "  warn('Too few observations to estimate starting parameters%s.'\n",
            "/usr/local/lib/python3.11/dist-packages/statsmodels/tsa/statespace/mlemodel.py:1235: RuntimeWarning: invalid value encountered in divide\n",
            "  np.inner(score_obs, score_obs) /\n",
            "/usr/local/lib/python3.11/dist-packages/statsmodels/tsa/base/tsa_model.py:473: ValueWarning: No frequency information was provided, so inferred frequency MS will be used.\n",
            "  self._init_dates(dates, freq)\n",
            "/usr/local/lib/python3.11/dist-packages/statsmodels/tsa/base/tsa_model.py:473: ValueWarning: No frequency information was provided, so inferred frequency MS will be used.\n",
            "  self._init_dates(dates, freq)\n",
            "/usr/local/lib/python3.11/dist-packages/statsmodels/tsa/statespace/sarimax.py:866: UserWarning: Too few observations to estimate starting parameters for seasonal ARMA. All parameters except for variances will be set to zeros.\n",
            "  warn('Too few observations to estimate starting parameters%s.'\n",
            "/usr/local/lib/python3.11/dist-packages/statsmodels/tsa/statespace/mlemodel.py:1235: RuntimeWarning: invalid value encountered in divide\n",
            "  np.inner(score_obs, score_obs) /\n",
            "/usr/local/lib/python3.11/dist-packages/statsmodels/tsa/base/tsa_model.py:473: ValueWarning: No frequency information was provided, so inferred frequency MS will be used.\n",
            "  self._init_dates(dates, freq)\n",
            "/usr/local/lib/python3.11/dist-packages/statsmodels/tsa/base/tsa_model.py:473: ValueWarning: No frequency information was provided, so inferred frequency MS will be used.\n",
            "  self._init_dates(dates, freq)\n",
            "/usr/local/lib/python3.11/dist-packages/statsmodels/tsa/statespace/sarimax.py:866: UserWarning: Too few observations to estimate starting parameters for seasonal ARMA. All parameters except for variances will be set to zeros.\n",
            "  warn('Too few observations to estimate starting parameters%s.'\n",
            "/usr/local/lib/python3.11/dist-packages/statsmodels/tsa/statespace/mlemodel.py:1235: RuntimeWarning: invalid value encountered in divide\n",
            "  np.inner(score_obs, score_obs) /\n",
            "/usr/local/lib/python3.11/dist-packages/statsmodels/tsa/base/tsa_model.py:473: ValueWarning: No frequency information was provided, so inferred frequency MS will be used.\n",
            "  self._init_dates(dates, freq)\n",
            "/usr/local/lib/python3.11/dist-packages/statsmodels/tsa/base/tsa_model.py:473: ValueWarning: No frequency information was provided, so inferred frequency MS will be used.\n",
            "  self._init_dates(dates, freq)\n",
            "/usr/local/lib/python3.11/dist-packages/statsmodels/tsa/statespace/sarimax.py:866: UserWarning: Too few observations to estimate starting parameters for seasonal ARMA. All parameters except for variances will be set to zeros.\n",
            "  warn('Too few observations to estimate starting parameters%s.'\n",
            "/usr/local/lib/python3.11/dist-packages/statsmodels/tsa/statespace/mlemodel.py:1235: RuntimeWarning: invalid value encountered in divide\n",
            "  np.inner(score_obs, score_obs) /\n"
          ]
        },
        {
          "output_type": "stream",
          "name": "stdout",
          "text": [
            "SARIMA forecast for {'State': 'OH', 'Segment': 'SBG_MEW'} completed\n",
            "SARIMA forecast for {'State': 'VA', 'Segment': 'SBG_MEW'} completed\n",
            "SARIMA forecast for {'State': 'WI', 'Segment': 'SBG_MEW'} completed\n",
            "SARIMA forecast for {'State': 'CA_HMO', 'Segment': 'LGP_SHP'} completed\n",
            "SARIMA forecast for {'State': 'CA_PPO', 'Segment': 'LGP_SHP'} completed\n"
          ]
        },
        {
          "output_type": "stream",
          "name": "stderr",
          "text": [
            "/usr/local/lib/python3.11/dist-packages/statsmodels/tsa/base/tsa_model.py:473: ValueWarning: No frequency information was provided, so inferred frequency MS will be used.\n",
            "  self._init_dates(dates, freq)\n",
            "/usr/local/lib/python3.11/dist-packages/statsmodels/tsa/base/tsa_model.py:473: ValueWarning: No frequency information was provided, so inferred frequency MS will be used.\n",
            "  self._init_dates(dates, freq)\n",
            "/usr/local/lib/python3.11/dist-packages/statsmodels/tsa/statespace/sarimax.py:866: UserWarning: Too few observations to estimate starting parameters for seasonal ARMA. All parameters except for variances will be set to zeros.\n",
            "  warn('Too few observations to estimate starting parameters%s.'\n",
            "/usr/local/lib/python3.11/dist-packages/statsmodels/tsa/statespace/mlemodel.py:1235: RuntimeWarning: invalid value encountered in divide\n",
            "  np.inner(score_obs, score_obs) /\n",
            "/usr/local/lib/python3.11/dist-packages/statsmodels/tsa/base/tsa_model.py:473: ValueWarning: No frequency information was provided, so inferred frequency MS will be used.\n",
            "  self._init_dates(dates, freq)\n",
            "/usr/local/lib/python3.11/dist-packages/statsmodels/tsa/base/tsa_model.py:473: ValueWarning: No frequency information was provided, so inferred frequency MS will be used.\n",
            "  self._init_dates(dates, freq)\n",
            "/usr/local/lib/python3.11/dist-packages/statsmodels/tsa/statespace/sarimax.py:866: UserWarning: Too few observations to estimate starting parameters for seasonal ARMA. All parameters except for variances will be set to zeros.\n",
            "  warn('Too few observations to estimate starting parameters%s.'\n",
            "/usr/local/lib/python3.11/dist-packages/statsmodels/tsa/statespace/mlemodel.py:1235: RuntimeWarning: invalid value encountered in divide\n",
            "  np.inner(score_obs, score_obs) /\n",
            "/usr/local/lib/python3.11/dist-packages/statsmodels/tsa/base/tsa_model.py:473: ValueWarning: No frequency information was provided, so inferred frequency MS will be used.\n",
            "  self._init_dates(dates, freq)\n",
            "/usr/local/lib/python3.11/dist-packages/statsmodels/tsa/base/tsa_model.py:473: ValueWarning: No frequency information was provided, so inferred frequency MS will be used.\n",
            "  self._init_dates(dates, freq)\n",
            "/usr/local/lib/python3.11/dist-packages/statsmodels/tsa/statespace/sarimax.py:866: UserWarning: Too few observations to estimate starting parameters for seasonal ARMA. All parameters except for variances will be set to zeros.\n",
            "  warn('Too few observations to estimate starting parameters%s.'\n",
            "/usr/local/lib/python3.11/dist-packages/statsmodels/tsa/statespace/mlemodel.py:1235: RuntimeWarning: invalid value encountered in divide\n",
            "  np.inner(score_obs, score_obs) /\n",
            "/usr/local/lib/python3.11/dist-packages/statsmodels/tsa/base/tsa_model.py:473: ValueWarning: No frequency information was provided, so inferred frequency MS will be used.\n",
            "  self._init_dates(dates, freq)\n",
            "/usr/local/lib/python3.11/dist-packages/statsmodels/tsa/base/tsa_model.py:473: ValueWarning: No frequency information was provided, so inferred frequency MS will be used.\n",
            "  self._init_dates(dates, freq)\n",
            "/usr/local/lib/python3.11/dist-packages/statsmodels/tsa/statespace/sarimax.py:866: UserWarning: Too few observations to estimate starting parameters for seasonal ARMA. All parameters except for variances will be set to zeros.\n",
            "  warn('Too few observations to estimate starting parameters%s.'\n",
            "/usr/local/lib/python3.11/dist-packages/statsmodels/tsa/statespace/mlemodel.py:1235: RuntimeWarning: invalid value encountered in divide\n",
            "  np.inner(score_obs, score_obs) /\n",
            "/usr/local/lib/python3.11/dist-packages/statsmodels/tsa/base/tsa_model.py:473: ValueWarning: No frequency information was provided, so inferred frequency MS will be used.\n",
            "  self._init_dates(dates, freq)\n",
            "/usr/local/lib/python3.11/dist-packages/statsmodels/tsa/base/tsa_model.py:473: ValueWarning: No frequency information was provided, so inferred frequency MS will be used.\n",
            "  self._init_dates(dates, freq)\n",
            "/usr/local/lib/python3.11/dist-packages/statsmodels/tsa/statespace/sarimax.py:866: UserWarning: Too few observations to estimate starting parameters for seasonal ARMA. All parameters except for variances will be set to zeros.\n",
            "  warn('Too few observations to estimate starting parameters%s.'\n",
            "/usr/local/lib/python3.11/dist-packages/statsmodels/tsa/statespace/mlemodel.py:1235: RuntimeWarning: invalid value encountered in divide\n",
            "  np.inner(score_obs, score_obs) /\n",
            "/usr/local/lib/python3.11/dist-packages/statsmodels/tsa/base/tsa_model.py:473: ValueWarning: No frequency information was provided, so inferred frequency MS will be used.\n",
            "  self._init_dates(dates, freq)\n",
            "/usr/local/lib/python3.11/dist-packages/statsmodels/tsa/base/tsa_model.py:473: ValueWarning: No frequency information was provided, so inferred frequency MS will be used.\n",
            "  self._init_dates(dates, freq)\n",
            "/usr/local/lib/python3.11/dist-packages/statsmodels/tsa/statespace/sarimax.py:866: UserWarning: Too few observations to estimate starting parameters for seasonal ARMA. All parameters except for variances will be set to zeros.\n",
            "  warn('Too few observations to estimate starting parameters%s.'\n",
            "/usr/local/lib/python3.11/dist-packages/statsmodels/tsa/statespace/mlemodel.py:1235: RuntimeWarning: invalid value encountered in divide\n",
            "  np.inner(score_obs, score_obs) /\n"
          ]
        },
        {
          "output_type": "stream",
          "name": "stdout",
          "text": [
            "SARIMA forecast for {'State': 'CO', 'Segment': 'LGP_SHP'} completed\n",
            "SARIMA forecast for {'State': 'CT', 'Segment': 'LGP_SHP'} completed\n",
            "SARIMA forecast for {'State': 'GA', 'Segment': 'LGP_SHP'} completed\n",
            "SARIMA forecast for {'State': 'IN', 'Segment': 'LGP_SHP'} completed\n",
            "SARIMA forecast for {'State': 'KY', 'Segment': 'LGP_SHP'} completed\n",
            "SARIMA forecast for {'State': 'ME', 'Segment': 'LGP_SHP'} completed\n",
            "SARIMA forecast for {'State': 'MO', 'Segment': 'LGP_SHP'} completed\n"
          ]
        },
        {
          "output_type": "stream",
          "name": "stderr",
          "text": [
            "/usr/local/lib/python3.11/dist-packages/statsmodels/tsa/base/tsa_model.py:473: ValueWarning: No frequency information was provided, so inferred frequency MS will be used.\n",
            "  self._init_dates(dates, freq)\n",
            "/usr/local/lib/python3.11/dist-packages/statsmodels/tsa/base/tsa_model.py:473: ValueWarning: No frequency information was provided, so inferred frequency MS will be used.\n",
            "  self._init_dates(dates, freq)\n",
            "/usr/local/lib/python3.11/dist-packages/statsmodels/tsa/statespace/sarimax.py:866: UserWarning: Too few observations to estimate starting parameters for seasonal ARMA. All parameters except for variances will be set to zeros.\n",
            "  warn('Too few observations to estimate starting parameters%s.'\n",
            "/usr/local/lib/python3.11/dist-packages/statsmodels/tsa/statespace/mlemodel.py:1235: RuntimeWarning: invalid value encountered in divide\n",
            "  np.inner(score_obs, score_obs) /\n",
            "/usr/local/lib/python3.11/dist-packages/statsmodels/tsa/base/tsa_model.py:473: ValueWarning: No frequency information was provided, so inferred frequency MS will be used.\n",
            "  self._init_dates(dates, freq)\n",
            "/usr/local/lib/python3.11/dist-packages/statsmodels/tsa/base/tsa_model.py:473: ValueWarning: No frequency information was provided, so inferred frequency MS will be used.\n",
            "  self._init_dates(dates, freq)\n",
            "/usr/local/lib/python3.11/dist-packages/statsmodels/tsa/statespace/sarimax.py:866: UserWarning: Too few observations to estimate starting parameters for seasonal ARMA. All parameters except for variances will be set to zeros.\n",
            "  warn('Too few observations to estimate starting parameters%s.'\n",
            "/usr/local/lib/python3.11/dist-packages/statsmodels/tsa/statespace/mlemodel.py:1235: RuntimeWarning: invalid value encountered in divide\n",
            "  np.inner(score_obs, score_obs) /\n",
            "/usr/local/lib/python3.11/dist-packages/statsmodels/tsa/base/tsa_model.py:473: ValueWarning: No frequency information was provided, so inferred frequency MS will be used.\n",
            "  self._init_dates(dates, freq)\n",
            "/usr/local/lib/python3.11/dist-packages/statsmodels/tsa/base/tsa_model.py:473: ValueWarning: No frequency information was provided, so inferred frequency MS will be used.\n",
            "  self._init_dates(dates, freq)\n",
            "/usr/local/lib/python3.11/dist-packages/statsmodels/tsa/statespace/sarimax.py:866: UserWarning: Too few observations to estimate starting parameters for seasonal ARMA. All parameters except for variances will be set to zeros.\n",
            "  warn('Too few observations to estimate starting parameters%s.'\n",
            "/usr/local/lib/python3.11/dist-packages/statsmodels/tsa/statespace/mlemodel.py:1235: RuntimeWarning: invalid value encountered in divide\n",
            "  np.inner(score_obs, score_obs) /\n",
            "/usr/local/lib/python3.11/dist-packages/statsmodels/tsa/base/tsa_model.py:473: ValueWarning: No frequency information was provided, so inferred frequency MS will be used.\n",
            "  self._init_dates(dates, freq)\n",
            "/usr/local/lib/python3.11/dist-packages/statsmodels/tsa/base/tsa_model.py:473: ValueWarning: No frequency information was provided, so inferred frequency MS will be used.\n",
            "  self._init_dates(dates, freq)\n",
            "/usr/local/lib/python3.11/dist-packages/statsmodels/tsa/statespace/sarimax.py:866: UserWarning: Too few observations to estimate starting parameters for seasonal ARMA. All parameters except for variances will be set to zeros.\n",
            "  warn('Too few observations to estimate starting parameters%s.'\n",
            "/usr/local/lib/python3.11/dist-packages/statsmodels/tsa/statespace/mlemodel.py:1235: RuntimeWarning: invalid value encountered in divide\n",
            "  np.inner(score_obs, score_obs) /\n",
            "/usr/local/lib/python3.11/dist-packages/statsmodels/tsa/base/tsa_model.py:473: ValueWarning: No frequency information was provided, so inferred frequency MS will be used.\n",
            "  self._init_dates(dates, freq)\n",
            "/usr/local/lib/python3.11/dist-packages/statsmodels/tsa/base/tsa_model.py:473: ValueWarning: No frequency information was provided, so inferred frequency MS will be used.\n",
            "  self._init_dates(dates, freq)\n",
            "/usr/local/lib/python3.11/dist-packages/statsmodels/tsa/statespace/sarimax.py:866: UserWarning: Too few observations to estimate starting parameters for seasonal ARMA. All parameters except for variances will be set to zeros.\n",
            "  warn('Too few observations to estimate starting parameters%s.'\n",
            "/usr/local/lib/python3.11/dist-packages/statsmodels/tsa/statespace/mlemodel.py:1235: RuntimeWarning: invalid value encountered in divide\n",
            "  np.inner(score_obs, score_obs) /\n",
            "/usr/local/lib/python3.11/dist-packages/statsmodels/tsa/base/tsa_model.py:473: ValueWarning: No frequency information was provided, so inferred frequency MS will be used.\n",
            "  self._init_dates(dates, freq)\n",
            "/usr/local/lib/python3.11/dist-packages/statsmodels/tsa/base/tsa_model.py:473: ValueWarning: No frequency information was provided, so inferred frequency MS will be used.\n",
            "  self._init_dates(dates, freq)\n",
            "/usr/local/lib/python3.11/dist-packages/statsmodels/tsa/statespace/sarimax.py:866: UserWarning: Too few observations to estimate starting parameters for seasonal ARMA. All parameters except for variances will be set to zeros.\n",
            "  warn('Too few observations to estimate starting parameters%s.'\n",
            "/usr/local/lib/python3.11/dist-packages/statsmodels/tsa/statespace/mlemodel.py:1235: RuntimeWarning: invalid value encountered in divide\n",
            "  np.inner(score_obs, score_obs) /\n",
            "/usr/local/lib/python3.11/dist-packages/statsmodels/tsa/base/tsa_model.py:473: ValueWarning: No frequency information was provided, so inferred frequency MS will be used.\n",
            "  self._init_dates(dates, freq)\n",
            "/usr/local/lib/python3.11/dist-packages/statsmodels/tsa/base/tsa_model.py:473: ValueWarning: No frequency information was provided, so inferred frequency MS will be used.\n",
            "  self._init_dates(dates, freq)\n",
            "/usr/local/lib/python3.11/dist-packages/statsmodels/tsa/statespace/sarimax.py:866: UserWarning: Too few observations to estimate starting parameters for seasonal ARMA. All parameters except for variances will be set to zeros.\n",
            "  warn('Too few observations to estimate starting parameters%s.'\n"
          ]
        },
        {
          "output_type": "stream",
          "name": "stdout",
          "text": [
            "SARIMA forecast for {'State': 'NH', 'Segment': 'LGP_SHP'} completed\n",
            "SARIMA forecast for {'State': 'NV', 'Segment': 'LGP_SHP'} completed\n",
            "SARIMA forecast for {'State': 'NY', 'Segment': 'LGP_SHP'} completed\n",
            "SARIMA forecast for {'State': 'OH', 'Segment': 'LGP_SHP'} completed\n",
            "SARIMA forecast for {'State': 'VA', 'Segment': 'LGP_SHP'} completed\n",
            "SARIMA forecast for {'State': 'WI', 'Segment': 'LGP_SHP'} completed\n"
          ]
        },
        {
          "output_type": "stream",
          "name": "stderr",
          "text": [
            "/usr/local/lib/python3.11/dist-packages/statsmodels/tsa/statespace/mlemodel.py:1235: RuntimeWarning: invalid value encountered in divide\n",
            "  np.inner(score_obs, score_obs) /\n",
            "/usr/local/lib/python3.11/dist-packages/statsmodels/tsa/base/tsa_model.py:473: ValueWarning: No frequency information was provided, so inferred frequency MS will be used.\n",
            "  self._init_dates(dates, freq)\n",
            "/usr/local/lib/python3.11/dist-packages/statsmodels/tsa/base/tsa_model.py:473: ValueWarning: No frequency information was provided, so inferred frequency MS will be used.\n",
            "  self._init_dates(dates, freq)\n",
            "/usr/local/lib/python3.11/dist-packages/statsmodels/tsa/statespace/sarimax.py:866: UserWarning: Too few observations to estimate starting parameters for seasonal ARMA. All parameters except for variances will be set to zeros.\n",
            "  warn('Too few observations to estimate starting parameters%s.'\n",
            "/usr/local/lib/python3.11/dist-packages/statsmodels/tsa/statespace/mlemodel.py:1235: RuntimeWarning: invalid value encountered in divide\n",
            "  np.inner(score_obs, score_obs) /\n",
            "/usr/local/lib/python3.11/dist-packages/statsmodels/tsa/base/tsa_model.py:473: ValueWarning: No frequency information was provided, so inferred frequency MS will be used.\n",
            "  self._init_dates(dates, freq)\n",
            "/usr/local/lib/python3.11/dist-packages/statsmodels/tsa/base/tsa_model.py:473: ValueWarning: No frequency information was provided, so inferred frequency MS will be used.\n",
            "  self._init_dates(dates, freq)\n",
            "/usr/local/lib/python3.11/dist-packages/statsmodels/tsa/statespace/sarimax.py:866: UserWarning: Too few observations to estimate starting parameters for seasonal ARMA. All parameters except for variances will be set to zeros.\n",
            "  warn('Too few observations to estimate starting parameters%s.'\n",
            "/usr/local/lib/python3.11/dist-packages/statsmodels/tsa/statespace/mlemodel.py:1235: RuntimeWarning: invalid value encountered in divide\n",
            "  np.inner(score_obs, score_obs) /\n",
            "/usr/local/lib/python3.11/dist-packages/statsmodels/tsa/base/tsa_model.py:473: ValueWarning: No frequency information was provided, so inferred frequency MS will be used.\n",
            "  self._init_dates(dates, freq)\n",
            "/usr/local/lib/python3.11/dist-packages/statsmodels/tsa/base/tsa_model.py:473: ValueWarning: No frequency information was provided, so inferred frequency MS will be used.\n",
            "  self._init_dates(dates, freq)\n",
            "/usr/local/lib/python3.11/dist-packages/statsmodels/tsa/statespace/sarimax.py:866: UserWarning: Too few observations to estimate starting parameters for seasonal ARMA. All parameters except for variances will be set to zeros.\n",
            "  warn('Too few observations to estimate starting parameters%s.'\n",
            "/usr/local/lib/python3.11/dist-packages/statsmodels/tsa/statespace/mlemodel.py:1235: RuntimeWarning: invalid value encountered in divide\n",
            "  np.inner(score_obs, score_obs) /\n",
            "/usr/local/lib/python3.11/dist-packages/statsmodels/tsa/base/tsa_model.py:473: ValueWarning: No frequency information was provided, so inferred frequency MS will be used.\n",
            "  self._init_dates(dates, freq)\n",
            "/usr/local/lib/python3.11/dist-packages/statsmodels/tsa/base/tsa_model.py:473: ValueWarning: No frequency information was provided, so inferred frequency MS will be used.\n",
            "  self._init_dates(dates, freq)\n",
            "/usr/local/lib/python3.11/dist-packages/statsmodels/tsa/statespace/sarimax.py:866: UserWarning: Too few observations to estimate starting parameters for seasonal ARMA. All parameters except for variances will be set to zeros.\n",
            "  warn('Too few observations to estimate starting parameters%s.'\n",
            "/usr/local/lib/python3.11/dist-packages/statsmodels/tsa/statespace/mlemodel.py:1235: RuntimeWarning: invalid value encountered in divide\n",
            "  np.inner(score_obs, score_obs) /\n",
            "/usr/local/lib/python3.11/dist-packages/statsmodels/tsa/base/tsa_model.py:473: ValueWarning: No frequency information was provided, so inferred frequency MS will be used.\n",
            "  self._init_dates(dates, freq)\n",
            "/usr/local/lib/python3.11/dist-packages/statsmodels/tsa/base/tsa_model.py:473: ValueWarning: No frequency information was provided, so inferred frequency MS will be used.\n",
            "  self._init_dates(dates, freq)\n",
            "/usr/local/lib/python3.11/dist-packages/statsmodels/tsa/statespace/sarimax.py:866: UserWarning: Too few observations to estimate starting parameters for seasonal ARMA. All parameters except for variances will be set to zeros.\n",
            "  warn('Too few observations to estimate starting parameters%s.'\n",
            "/usr/local/lib/python3.11/dist-packages/statsmodels/tsa/statespace/mlemodel.py:1235: RuntimeWarning: invalid value encountered in divide\n",
            "  np.inner(score_obs, score_obs) /\n",
            "/usr/local/lib/python3.11/dist-packages/statsmodels/tsa/base/tsa_model.py:473: ValueWarning: No frequency information was provided, so inferred frequency MS will be used.\n",
            "  self._init_dates(dates, freq)\n",
            "/usr/local/lib/python3.11/dist-packages/statsmodels/tsa/base/tsa_model.py:473: ValueWarning: No frequency information was provided, so inferred frequency MS will be used.\n",
            "  self._init_dates(dates, freq)\n",
            "/usr/local/lib/python3.11/dist-packages/statsmodels/tsa/statespace/sarimax.py:866: UserWarning: Too few observations to estimate starting parameters for seasonal ARMA. All parameters except for variances will be set to zeros.\n",
            "  warn('Too few observations to estimate starting parameters%s.'\n",
            "/usr/local/lib/python3.11/dist-packages/statsmodels/tsa/statespace/mlemodel.py:1235: RuntimeWarning: invalid value encountered in divide\n",
            "  np.inner(score_obs, score_obs) /\n",
            "/usr/local/lib/python3.11/dist-packages/statsmodels/tsa/base/tsa_model.py:473: ValueWarning: No frequency information was provided, so inferred frequency MS will be used.\n",
            "  self._init_dates(dates, freq)\n",
            "/usr/local/lib/python3.11/dist-packages/statsmodels/tsa/base/tsa_model.py:473: ValueWarning: No frequency information was provided, so inferred frequency MS will be used.\n",
            "  self._init_dates(dates, freq)\n",
            "/usr/local/lib/python3.11/dist-packages/statsmodels/tsa/statespace/sarimax.py:866: UserWarning: Too few observations to estimate starting parameters for seasonal ARMA. All parameters except for variances will be set to zeros.\n",
            "  warn('Too few observations to estimate starting parameters%s.'\n"
          ]
        },
        {
          "output_type": "stream",
          "name": "stdout",
          "text": [
            "SARIMA forecast for {'State': 'CA_HMO', 'Segment': 'LGP_NRF'} completed\n",
            "SARIMA forecast for {'State': 'CA_PPO', 'Segment': 'LGP_NRF'} completed\n",
            "SARIMA forecast for {'State': 'CO', 'Segment': 'LGP_NRF'} completed\n",
            "SARIMA forecast for {'State': 'CT', 'Segment': 'LGP_NRF'} completed\n",
            "SARIMA forecast for {'State': 'GA', 'Segment': 'LGP_NRF'} completed\n",
            "SARIMA forecast for {'State': 'IN', 'Segment': 'LGP_NRF'} completed\n",
            "SARIMA forecast for {'State': 'KY', 'Segment': 'LGP_NRF'} completed\n"
          ]
        },
        {
          "output_type": "stream",
          "name": "stderr",
          "text": [
            "/usr/local/lib/python3.11/dist-packages/statsmodels/tsa/statespace/mlemodel.py:1235: RuntimeWarning: invalid value encountered in divide\n",
            "  np.inner(score_obs, score_obs) /\n",
            "/usr/local/lib/python3.11/dist-packages/statsmodels/tsa/base/tsa_model.py:473: ValueWarning: No frequency information was provided, so inferred frequency MS will be used.\n",
            "  self._init_dates(dates, freq)\n",
            "/usr/local/lib/python3.11/dist-packages/statsmodels/tsa/base/tsa_model.py:473: ValueWarning: No frequency information was provided, so inferred frequency MS will be used.\n",
            "  self._init_dates(dates, freq)\n",
            "/usr/local/lib/python3.11/dist-packages/statsmodels/tsa/statespace/sarimax.py:866: UserWarning: Too few observations to estimate starting parameters for seasonal ARMA. All parameters except for variances will be set to zeros.\n",
            "  warn('Too few observations to estimate starting parameters%s.'\n",
            "/usr/local/lib/python3.11/dist-packages/statsmodels/tsa/statespace/mlemodel.py:1235: RuntimeWarning: invalid value encountered in divide\n",
            "  np.inner(score_obs, score_obs) /\n",
            "/usr/local/lib/python3.11/dist-packages/statsmodels/tsa/base/tsa_model.py:473: ValueWarning: No frequency information was provided, so inferred frequency MS will be used.\n",
            "  self._init_dates(dates, freq)\n",
            "/usr/local/lib/python3.11/dist-packages/statsmodels/tsa/base/tsa_model.py:473: ValueWarning: No frequency information was provided, so inferred frequency MS will be used.\n",
            "  self._init_dates(dates, freq)\n",
            "/usr/local/lib/python3.11/dist-packages/statsmodels/tsa/statespace/sarimax.py:866: UserWarning: Too few observations to estimate starting parameters for seasonal ARMA. All parameters except for variances will be set to zeros.\n",
            "  warn('Too few observations to estimate starting parameters%s.'\n",
            "/usr/local/lib/python3.11/dist-packages/statsmodels/tsa/statespace/mlemodel.py:1235: RuntimeWarning: invalid value encountered in divide\n",
            "  np.inner(score_obs, score_obs) /\n",
            "/usr/local/lib/python3.11/dist-packages/statsmodels/tsa/base/tsa_model.py:473: ValueWarning: No frequency information was provided, so inferred frequency MS will be used.\n",
            "  self._init_dates(dates, freq)\n",
            "/usr/local/lib/python3.11/dist-packages/statsmodels/tsa/base/tsa_model.py:473: ValueWarning: No frequency information was provided, so inferred frequency MS will be used.\n",
            "  self._init_dates(dates, freq)\n",
            "/usr/local/lib/python3.11/dist-packages/statsmodels/tsa/statespace/sarimax.py:866: UserWarning: Too few observations to estimate starting parameters for seasonal ARMA. All parameters except for variances will be set to zeros.\n",
            "  warn('Too few observations to estimate starting parameters%s.'\n",
            "/usr/local/lib/python3.11/dist-packages/statsmodels/tsa/statespace/mlemodel.py:1235: RuntimeWarning: invalid value encountered in divide\n",
            "  np.inner(score_obs, score_obs) /\n",
            "/usr/local/lib/python3.11/dist-packages/statsmodels/tsa/base/tsa_model.py:473: ValueWarning: No frequency information was provided, so inferred frequency MS will be used.\n",
            "  self._init_dates(dates, freq)\n",
            "/usr/local/lib/python3.11/dist-packages/statsmodels/tsa/base/tsa_model.py:473: ValueWarning: No frequency information was provided, so inferred frequency MS will be used.\n",
            "  self._init_dates(dates, freq)\n",
            "/usr/local/lib/python3.11/dist-packages/statsmodels/tsa/statespace/sarimax.py:866: UserWarning: Too few observations to estimate starting parameters for seasonal ARMA. All parameters except for variances will be set to zeros.\n",
            "  warn('Too few observations to estimate starting parameters%s.'\n",
            "/usr/local/lib/python3.11/dist-packages/statsmodels/tsa/statespace/mlemodel.py:1235: RuntimeWarning: invalid value encountered in divide\n",
            "  np.inner(score_obs, score_obs) /\n",
            "/usr/local/lib/python3.11/dist-packages/statsmodels/tsa/base/tsa_model.py:473: ValueWarning: No frequency information was provided, so inferred frequency MS will be used.\n",
            "  self._init_dates(dates, freq)\n",
            "/usr/local/lib/python3.11/dist-packages/statsmodels/tsa/base/tsa_model.py:473: ValueWarning: No frequency information was provided, so inferred frequency MS will be used.\n",
            "  self._init_dates(dates, freq)\n",
            "/usr/local/lib/python3.11/dist-packages/statsmodels/tsa/statespace/sarimax.py:866: UserWarning: Too few observations to estimate starting parameters for seasonal ARMA. All parameters except for variances will be set to zeros.\n",
            "  warn('Too few observations to estimate starting parameters%s.'\n",
            "/usr/local/lib/python3.11/dist-packages/statsmodels/tsa/statespace/mlemodel.py:1235: RuntimeWarning: invalid value encountered in divide\n",
            "  np.inner(score_obs, score_obs) /\n",
            "/usr/local/lib/python3.11/dist-packages/statsmodels/tsa/base/tsa_model.py:473: ValueWarning: No frequency information was provided, so inferred frequency MS will be used.\n",
            "  self._init_dates(dates, freq)\n",
            "/usr/local/lib/python3.11/dist-packages/statsmodels/tsa/base/tsa_model.py:473: ValueWarning: No frequency information was provided, so inferred frequency MS will be used.\n",
            "  self._init_dates(dates, freq)\n",
            "/usr/local/lib/python3.11/dist-packages/statsmodels/tsa/statespace/sarimax.py:866: UserWarning: Too few observations to estimate starting parameters for seasonal ARMA. All parameters except for variances will be set to zeros.\n",
            "  warn('Too few observations to estimate starting parameters%s.'\n",
            "/usr/local/lib/python3.11/dist-packages/statsmodels/tsa/statespace/mlemodel.py:1235: RuntimeWarning: invalid value encountered in divide\n",
            "  np.inner(score_obs, score_obs) /\n"
          ]
        },
        {
          "output_type": "stream",
          "name": "stdout",
          "text": [
            "SARIMA forecast for {'State': 'ME', 'Segment': 'LGP_NRF'} completed\n",
            "SARIMA forecast for {'State': 'MO', 'Segment': 'LGP_NRF'} completed\n",
            "SARIMA forecast for {'State': 'NH', 'Segment': 'LGP_NRF'} completed\n",
            "SARIMA forecast for {'State': 'NV', 'Segment': 'LGP_NRF'} completed\n",
            "SARIMA forecast for {'State': 'NY', 'Segment': 'LGP_NRF'} completed\n",
            "SARIMA forecast for {'State': 'OH', 'Segment': 'LGP_NRF'} completed\n",
            "SARIMA forecast for {'State': 'VA', 'Segment': 'LGP_NRF'} completed\n"
          ]
        },
        {
          "output_type": "stream",
          "name": "stderr",
          "text": [
            "/usr/local/lib/python3.11/dist-packages/statsmodels/tsa/base/tsa_model.py:473: ValueWarning: No frequency information was provided, so inferred frequency MS will be used.\n",
            "  self._init_dates(dates, freq)\n",
            "/usr/local/lib/python3.11/dist-packages/statsmodels/tsa/base/tsa_model.py:473: ValueWarning: No frequency information was provided, so inferred frequency MS will be used.\n",
            "  self._init_dates(dates, freq)\n",
            "/usr/local/lib/python3.11/dist-packages/statsmodels/tsa/statespace/sarimax.py:866: UserWarning: Too few observations to estimate starting parameters for seasonal ARMA. All parameters except for variances will be set to zeros.\n",
            "  warn('Too few observations to estimate starting parameters%s.'\n",
            "/usr/local/lib/python3.11/dist-packages/statsmodels/tsa/statespace/mlemodel.py:1235: RuntimeWarning: invalid value encountered in divide\n",
            "  np.inner(score_obs, score_obs) /\n",
            "/usr/local/lib/python3.11/dist-packages/statsmodels/tsa/base/tsa_model.py:473: ValueWarning: No frequency information was provided, so inferred frequency MS will be used.\n",
            "  self._init_dates(dates, freq)\n",
            "/usr/local/lib/python3.11/dist-packages/statsmodels/tsa/base/tsa_model.py:473: ValueWarning: No frequency information was provided, so inferred frequency MS will be used.\n",
            "  self._init_dates(dates, freq)\n",
            "/usr/local/lib/python3.11/dist-packages/statsmodels/tsa/statespace/sarimax.py:866: UserWarning: Too few observations to estimate starting parameters for seasonal ARMA. All parameters except for variances will be set to zeros.\n",
            "  warn('Too few observations to estimate starting parameters%s.'\n",
            "/usr/local/lib/python3.11/dist-packages/statsmodels/tsa/statespace/mlemodel.py:1235: RuntimeWarning: invalid value encountered in divide\n",
            "  np.inner(score_obs, score_obs) /\n",
            "INFO:prophet:n_changepoints greater than number of observations. Using 19.\n",
            "DEBUG:cmdstanpy:input tempfile: /tmp/tmpfdntuhgz/600zpwvv.json\n",
            "DEBUG:cmdstanpy:input tempfile: /tmp/tmpfdntuhgz/_wu6rx0s.json\n",
            "DEBUG:cmdstanpy:idx 0\n",
            "DEBUG:cmdstanpy:running CmdStan, num_threads: None\n",
            "DEBUG:cmdstanpy:CmdStan args: ['/usr/local/lib/python3.11/dist-packages/prophet/stan_model/prophet_model.bin', 'random', 'seed=78862', 'data', 'file=/tmp/tmpfdntuhgz/600zpwvv.json', 'init=/tmp/tmpfdntuhgz/_wu6rx0s.json', 'output', 'file=/tmp/tmpfdntuhgz/prophet_model8psl7hsy/prophet_model-20250407025930.csv', 'method=optimize', 'algorithm=newton', 'iter=10000']\n",
            "02:59:30 - cmdstanpy - INFO - Chain [1] start processing\n",
            "INFO:cmdstanpy:Chain [1] start processing\n"
          ]
        },
        {
          "output_type": "stream",
          "name": "stdout",
          "text": [
            "SARIMA forecast for {'State': 'WI', 'Segment': 'LGP_NRF'} completed\n",
            "SARIMA forecasting completed for 108 out of 108 groups\n",
            "Training Prophet model for Rx\n",
            "Starting Prophet forecasts for 108 groups\n"
          ]
        },
        {
          "output_type": "stream",
          "name": "stderr",
          "text": [
            "02:59:30 - cmdstanpy - INFO - Chain [1] done processing\n",
            "INFO:cmdstanpy:Chain [1] done processing\n",
            "INFO:prophet:n_changepoints greater than number of observations. Using 19.\n",
            "DEBUG:cmdstanpy:input tempfile: /tmp/tmpfdntuhgz/fp9z_ifs.json\n",
            "DEBUG:cmdstanpy:input tempfile: /tmp/tmpfdntuhgz/3a7iuet8.json\n",
            "DEBUG:cmdstanpy:idx 0\n",
            "DEBUG:cmdstanpy:running CmdStan, num_threads: None\n",
            "DEBUG:cmdstanpy:CmdStan args: ['/usr/local/lib/python3.11/dist-packages/prophet/stan_model/prophet_model.bin', 'random', 'seed=58087', 'data', 'file=/tmp/tmpfdntuhgz/fp9z_ifs.json', 'init=/tmp/tmpfdntuhgz/3a7iuet8.json', 'output', 'file=/tmp/tmpfdntuhgz/prophet_model8u10g5mu/prophet_model-20250407025930.csv', 'method=optimize', 'algorithm=newton', 'iter=10000']\n",
            "02:59:30 - cmdstanpy - INFO - Chain [1] start processing\n",
            "INFO:cmdstanpy:Chain [1] start processing\n"
          ]
        },
        {
          "output_type": "stream",
          "name": "stdout",
          "text": [
            "Prophet forecast for {'State': 'CA_HMO', 'Segment': 'IND_ACA'} completed\n"
          ]
        },
        {
          "output_type": "stream",
          "name": "stderr",
          "text": [
            "02:59:31 - cmdstanpy - INFO - Chain [1] done processing\n",
            "INFO:cmdstanpy:Chain [1] done processing\n",
            "INFO:prophet:n_changepoints greater than number of observations. Using 19.\n",
            "DEBUG:cmdstanpy:input tempfile: /tmp/tmpfdntuhgz/di0wq1bc.json\n",
            "DEBUG:cmdstanpy:input tempfile: /tmp/tmpfdntuhgz/_fhzg2ky.json\n",
            "DEBUG:cmdstanpy:idx 0\n",
            "DEBUG:cmdstanpy:running CmdStan, num_threads: None\n",
            "DEBUG:cmdstanpy:CmdStan args: ['/usr/local/lib/python3.11/dist-packages/prophet/stan_model/prophet_model.bin', 'random', 'seed=3800', 'data', 'file=/tmp/tmpfdntuhgz/di0wq1bc.json', 'init=/tmp/tmpfdntuhgz/_fhzg2ky.json', 'output', 'file=/tmp/tmpfdntuhgz/prophet_model35ezlrz_/prophet_model-20250407025931.csv', 'method=optimize', 'algorithm=newton', 'iter=10000']\n",
            "02:59:31 - cmdstanpy - INFO - Chain [1] start processing\n",
            "INFO:cmdstanpy:Chain [1] start processing\n"
          ]
        },
        {
          "output_type": "stream",
          "name": "stdout",
          "text": [
            "Prophet forecast for {'State': 'CA_PPO', 'Segment': 'IND_ACA'} completed\n"
          ]
        },
        {
          "output_type": "stream",
          "name": "stderr",
          "text": [
            "02:59:31 - cmdstanpy - INFO - Chain [1] done processing\n",
            "INFO:cmdstanpy:Chain [1] done processing\n",
            "INFO:prophet:n_changepoints greater than number of observations. Using 19.\n",
            "DEBUG:cmdstanpy:input tempfile: /tmp/tmpfdntuhgz/3bnz4j0e.json\n",
            "DEBUG:cmdstanpy:input tempfile: /tmp/tmpfdntuhgz/cr764e9r.json\n",
            "DEBUG:cmdstanpy:idx 0\n",
            "DEBUG:cmdstanpy:running CmdStan, num_threads: None\n",
            "DEBUG:cmdstanpy:CmdStan args: ['/usr/local/lib/python3.11/dist-packages/prophet/stan_model/prophet_model.bin', 'random', 'seed=72507', 'data', 'file=/tmp/tmpfdntuhgz/3bnz4j0e.json', 'init=/tmp/tmpfdntuhgz/cr764e9r.json', 'output', 'file=/tmp/tmpfdntuhgz/prophet_modelm0yxe0s5/prophet_model-20250407025931.csv', 'method=optimize', 'algorithm=newton', 'iter=10000']\n",
            "02:59:31 - cmdstanpy - INFO - Chain [1] start processing\n",
            "INFO:cmdstanpy:Chain [1] start processing\n"
          ]
        },
        {
          "output_type": "stream",
          "name": "stdout",
          "text": [
            "Prophet forecast for {'State': 'CO', 'Segment': 'IND_ACA'} completed\n"
          ]
        },
        {
          "output_type": "stream",
          "name": "stderr",
          "text": [
            "02:59:49 - cmdstanpy - INFO - Chain [1] done processing\n",
            "INFO:cmdstanpy:Chain [1] done processing\n",
            "INFO:prophet:n_changepoints greater than number of observations. Using 19.\n",
            "DEBUG:cmdstanpy:input tempfile: /tmp/tmpfdntuhgz/s6wbiybr.json\n",
            "DEBUG:cmdstanpy:input tempfile: /tmp/tmpfdntuhgz/91svyox9.json\n",
            "DEBUG:cmdstanpy:idx 0\n",
            "DEBUG:cmdstanpy:running CmdStan, num_threads: None\n",
            "DEBUG:cmdstanpy:CmdStan args: ['/usr/local/lib/python3.11/dist-packages/prophet/stan_model/prophet_model.bin', 'random', 'seed=91862', 'data', 'file=/tmp/tmpfdntuhgz/s6wbiybr.json', 'init=/tmp/tmpfdntuhgz/91svyox9.json', 'output', 'file=/tmp/tmpfdntuhgz/prophet_modelpnzjyadl/prophet_model-20250407025949.csv', 'method=optimize', 'algorithm=newton', 'iter=10000']\n",
            "02:59:49 - cmdstanpy - INFO - Chain [1] start processing\n",
            "INFO:cmdstanpy:Chain [1] start processing\n"
          ]
        },
        {
          "output_type": "stream",
          "name": "stdout",
          "text": [
            "Prophet forecast for {'State': 'CT', 'Segment': 'IND_ACA'} completed\n"
          ]
        },
        {
          "output_type": "stream",
          "name": "stderr",
          "text": [
            "02:59:55 - cmdstanpy - INFO - Chain [1] done processing\n",
            "INFO:cmdstanpy:Chain [1] done processing\n",
            "INFO:prophet:n_changepoints greater than number of observations. Using 19.\n",
            "DEBUG:cmdstanpy:input tempfile: /tmp/tmpfdntuhgz/ccgmlom_.json\n",
            "DEBUG:cmdstanpy:input tempfile: /tmp/tmpfdntuhgz/5rdrl80h.json\n",
            "DEBUG:cmdstanpy:idx 0\n",
            "DEBUG:cmdstanpy:running CmdStan, num_threads: None\n",
            "DEBUG:cmdstanpy:CmdStan args: ['/usr/local/lib/python3.11/dist-packages/prophet/stan_model/prophet_model.bin', 'random', 'seed=16156', 'data', 'file=/tmp/tmpfdntuhgz/ccgmlom_.json', 'init=/tmp/tmpfdntuhgz/5rdrl80h.json', 'output', 'file=/tmp/tmpfdntuhgz/prophet_modeltg9932eh/prophet_model-20250407025955.csv', 'method=optimize', 'algorithm=newton', 'iter=10000']\n",
            "02:59:55 - cmdstanpy - INFO - Chain [1] start processing\n",
            "INFO:cmdstanpy:Chain [1] start processing\n"
          ]
        },
        {
          "output_type": "stream",
          "name": "stdout",
          "text": [
            "Prophet forecast for {'State': 'GA', 'Segment': 'IND_ACA'} completed\n"
          ]
        },
        {
          "output_type": "stream",
          "name": "stderr",
          "text": [
            "03:00:11 - cmdstanpy - INFO - Chain [1] done processing\n",
            "INFO:cmdstanpy:Chain [1] done processing\n",
            "INFO:prophet:n_changepoints greater than number of observations. Using 19.\n",
            "DEBUG:cmdstanpy:input tempfile: /tmp/tmpfdntuhgz/0xov8uhe.json\n",
            "DEBUG:cmdstanpy:input tempfile: /tmp/tmpfdntuhgz/hc_qf0fb.json\n",
            "DEBUG:cmdstanpy:idx 0\n",
            "DEBUG:cmdstanpy:running CmdStan, num_threads: None\n",
            "DEBUG:cmdstanpy:CmdStan args: ['/usr/local/lib/python3.11/dist-packages/prophet/stan_model/prophet_model.bin', 'random', 'seed=58426', 'data', 'file=/tmp/tmpfdntuhgz/0xov8uhe.json', 'init=/tmp/tmpfdntuhgz/hc_qf0fb.json', 'output', 'file=/tmp/tmpfdntuhgz/prophet_model0vjpy7q0/prophet_model-20250407030012.csv', 'method=optimize', 'algorithm=newton', 'iter=10000']\n",
            "03:00:12 - cmdstanpy - INFO - Chain [1] start processing\n",
            "INFO:cmdstanpy:Chain [1] start processing\n"
          ]
        },
        {
          "output_type": "stream",
          "name": "stdout",
          "text": [
            "Prophet forecast for {'State': 'IN', 'Segment': 'IND_ACA'} completed\n"
          ]
        },
        {
          "output_type": "stream",
          "name": "stderr",
          "text": [
            "03:00:12 - cmdstanpy - INFO - Chain [1] done processing\n",
            "INFO:cmdstanpy:Chain [1] done processing\n",
            "INFO:prophet:n_changepoints greater than number of observations. Using 19.\n",
            "DEBUG:cmdstanpy:input tempfile: /tmp/tmpfdntuhgz/agsd7ebi.json\n",
            "DEBUG:cmdstanpy:input tempfile: /tmp/tmpfdntuhgz/uy20fqjv.json\n",
            "DEBUG:cmdstanpy:idx 0\n",
            "DEBUG:cmdstanpy:running CmdStan, num_threads: None\n",
            "DEBUG:cmdstanpy:CmdStan args: ['/usr/local/lib/python3.11/dist-packages/prophet/stan_model/prophet_model.bin', 'random', 'seed=25663', 'data', 'file=/tmp/tmpfdntuhgz/agsd7ebi.json', 'init=/tmp/tmpfdntuhgz/uy20fqjv.json', 'output', 'file=/tmp/tmpfdntuhgz/prophet_model2kokbn9w/prophet_model-20250407030012.csv', 'method=optimize', 'algorithm=newton', 'iter=10000']\n",
            "03:00:12 - cmdstanpy - INFO - Chain [1] start processing\n",
            "INFO:cmdstanpy:Chain [1] start processing\n"
          ]
        },
        {
          "output_type": "stream",
          "name": "stdout",
          "text": [
            "Prophet forecast for {'State': 'KY', 'Segment': 'IND_ACA'} completed\n"
          ]
        },
        {
          "output_type": "stream",
          "name": "stderr",
          "text": [
            "03:00:30 - cmdstanpy - INFO - Chain [1] done processing\n",
            "INFO:cmdstanpy:Chain [1] done processing\n",
            "INFO:prophet:n_changepoints greater than number of observations. Using 19.\n",
            "DEBUG:cmdstanpy:input tempfile: /tmp/tmpfdntuhgz/_u9ko9ht.json\n",
            "DEBUG:cmdstanpy:input tempfile: /tmp/tmpfdntuhgz/yrt799ik.json\n",
            "DEBUG:cmdstanpy:idx 0\n",
            "DEBUG:cmdstanpy:running CmdStan, num_threads: None\n",
            "DEBUG:cmdstanpy:CmdStan args: ['/usr/local/lib/python3.11/dist-packages/prophet/stan_model/prophet_model.bin', 'random', 'seed=74457', 'data', 'file=/tmp/tmpfdntuhgz/_u9ko9ht.json', 'init=/tmp/tmpfdntuhgz/yrt799ik.json', 'output', 'file=/tmp/tmpfdntuhgz/prophet_model5nsvg5j4/prophet_model-20250407030030.csv', 'method=optimize', 'algorithm=newton', 'iter=10000']\n",
            "03:00:30 - cmdstanpy - INFO - Chain [1] start processing\n",
            "INFO:cmdstanpy:Chain [1] start processing\n"
          ]
        },
        {
          "output_type": "stream",
          "name": "stdout",
          "text": [
            "Prophet forecast for {'State': 'ME', 'Segment': 'IND_ACA'} completed\n"
          ]
        },
        {
          "output_type": "stream",
          "name": "stderr",
          "text": [
            "03:00:30 - cmdstanpy - INFO - Chain [1] done processing\n",
            "INFO:cmdstanpy:Chain [1] done processing\n",
            "INFO:prophet:n_changepoints greater than number of observations. Using 19.\n",
            "DEBUG:cmdstanpy:input tempfile: /tmp/tmpfdntuhgz/ck90drwp.json\n",
            "DEBUG:cmdstanpy:input tempfile: /tmp/tmpfdntuhgz/y3cod__0.json\n",
            "DEBUG:cmdstanpy:idx 0\n",
            "DEBUG:cmdstanpy:running CmdStan, num_threads: None\n",
            "DEBUG:cmdstanpy:CmdStan args: ['/usr/local/lib/python3.11/dist-packages/prophet/stan_model/prophet_model.bin', 'random', 'seed=1844', 'data', 'file=/tmp/tmpfdntuhgz/ck90drwp.json', 'init=/tmp/tmpfdntuhgz/y3cod__0.json', 'output', 'file=/tmp/tmpfdntuhgz/prophet_modelwrmoqpg9/prophet_model-20250407030030.csv', 'method=optimize', 'algorithm=newton', 'iter=10000']\n",
            "03:00:30 - cmdstanpy - INFO - Chain [1] start processing\n",
            "INFO:cmdstanpy:Chain [1] start processing\n"
          ]
        },
        {
          "output_type": "stream",
          "name": "stdout",
          "text": [
            "Prophet forecast for {'State': 'MO', 'Segment': 'IND_ACA'} completed\n"
          ]
        },
        {
          "output_type": "stream",
          "name": "stderr",
          "text": [
            "03:00:31 - cmdstanpy - INFO - Chain [1] done processing\n",
            "INFO:cmdstanpy:Chain [1] done processing\n",
            "INFO:prophet:n_changepoints greater than number of observations. Using 19.\n",
            "DEBUG:cmdstanpy:input tempfile: /tmp/tmpfdntuhgz/3z652un0.json\n",
            "DEBUG:cmdstanpy:input tempfile: /tmp/tmpfdntuhgz/eeqzk771.json\n",
            "DEBUG:cmdstanpy:idx 0\n",
            "DEBUG:cmdstanpy:running CmdStan, num_threads: None\n",
            "DEBUG:cmdstanpy:CmdStan args: ['/usr/local/lib/python3.11/dist-packages/prophet/stan_model/prophet_model.bin', 'random', 'seed=1121', 'data', 'file=/tmp/tmpfdntuhgz/3z652un0.json', 'init=/tmp/tmpfdntuhgz/eeqzk771.json', 'output', 'file=/tmp/tmpfdntuhgz/prophet_modelchqoion8/prophet_model-20250407030031.csv', 'method=optimize', 'algorithm=newton', 'iter=10000']\n",
            "03:00:31 - cmdstanpy - INFO - Chain [1] start processing\n",
            "INFO:cmdstanpy:Chain [1] start processing\n"
          ]
        },
        {
          "output_type": "stream",
          "name": "stdout",
          "text": [
            "Prophet forecast for {'State': 'NH', 'Segment': 'IND_ACA'} completed\n"
          ]
        },
        {
          "output_type": "stream",
          "name": "stderr",
          "text": [
            "03:00:31 - cmdstanpy - INFO - Chain [1] done processing\n",
            "INFO:cmdstanpy:Chain [1] done processing\n",
            "INFO:prophet:n_changepoints greater than number of observations. Using 19.\n",
            "DEBUG:cmdstanpy:input tempfile: /tmp/tmpfdntuhgz/282gluup.json\n",
            "DEBUG:cmdstanpy:input tempfile: /tmp/tmpfdntuhgz/19ss0a8a.json\n",
            "DEBUG:cmdstanpy:idx 0\n",
            "DEBUG:cmdstanpy:running CmdStan, num_threads: None\n",
            "DEBUG:cmdstanpy:CmdStan args: ['/usr/local/lib/python3.11/dist-packages/prophet/stan_model/prophet_model.bin', 'random', 'seed=47373', 'data', 'file=/tmp/tmpfdntuhgz/282gluup.json', 'init=/tmp/tmpfdntuhgz/19ss0a8a.json', 'output', 'file=/tmp/tmpfdntuhgz/prophet_modelrb4yldr3/prophet_model-20250407030031.csv', 'method=optimize', 'algorithm=newton', 'iter=10000']\n",
            "03:00:31 - cmdstanpy - INFO - Chain [1] start processing\n",
            "INFO:cmdstanpy:Chain [1] start processing\n"
          ]
        },
        {
          "output_type": "stream",
          "name": "stdout",
          "text": [
            "Prophet forecast for {'State': 'NV', 'Segment': 'IND_ACA'} completed\n"
          ]
        },
        {
          "output_type": "stream",
          "name": "stderr",
          "text": [
            "03:00:31 - cmdstanpy - INFO - Chain [1] done processing\n",
            "INFO:cmdstanpy:Chain [1] done processing\n",
            "INFO:prophet:n_changepoints greater than number of observations. Using 19.\n",
            "DEBUG:cmdstanpy:input tempfile: /tmp/tmpfdntuhgz/0mpz0aqk.json\n",
            "DEBUG:cmdstanpy:input tempfile: /tmp/tmpfdntuhgz/k8reauru.json\n",
            "DEBUG:cmdstanpy:idx 0\n",
            "DEBUG:cmdstanpy:running CmdStan, num_threads: None\n",
            "DEBUG:cmdstanpy:CmdStan args: ['/usr/local/lib/python3.11/dist-packages/prophet/stan_model/prophet_model.bin', 'random', 'seed=15766', 'data', 'file=/tmp/tmpfdntuhgz/0mpz0aqk.json', 'init=/tmp/tmpfdntuhgz/k8reauru.json', 'output', 'file=/tmp/tmpfdntuhgz/prophet_modelxod67xo6/prophet_model-20250407030032.csv', 'method=optimize', 'algorithm=newton', 'iter=10000']\n",
            "03:00:32 - cmdstanpy - INFO - Chain [1] start processing\n",
            "INFO:cmdstanpy:Chain [1] start processing\n"
          ]
        },
        {
          "output_type": "stream",
          "name": "stdout",
          "text": [
            "Prophet forecast for {'State': 'NY', 'Segment': 'IND_ACA'} completed\n"
          ]
        },
        {
          "output_type": "stream",
          "name": "stderr",
          "text": [
            "03:00:32 - cmdstanpy - INFO - Chain [1] done processing\n",
            "INFO:cmdstanpy:Chain [1] done processing\n",
            "INFO:prophet:n_changepoints greater than number of observations. Using 19.\n",
            "DEBUG:cmdstanpy:input tempfile: /tmp/tmpfdntuhgz/2z_qqsfq.json\n",
            "DEBUG:cmdstanpy:input tempfile: /tmp/tmpfdntuhgz/szndjozl.json\n",
            "DEBUG:cmdstanpy:idx 0\n",
            "DEBUG:cmdstanpy:running CmdStan, num_threads: None\n",
            "DEBUG:cmdstanpy:CmdStan args: ['/usr/local/lib/python3.11/dist-packages/prophet/stan_model/prophet_model.bin', 'random', 'seed=98521', 'data', 'file=/tmp/tmpfdntuhgz/2z_qqsfq.json', 'init=/tmp/tmpfdntuhgz/szndjozl.json', 'output', 'file=/tmp/tmpfdntuhgz/prophet_modelwjoumgll/prophet_model-20250407030032.csv', 'method=optimize', 'algorithm=newton', 'iter=10000']\n",
            "03:00:32 - cmdstanpy - INFO - Chain [1] start processing\n",
            "INFO:cmdstanpy:Chain [1] start processing\n"
          ]
        },
        {
          "output_type": "stream",
          "name": "stdout",
          "text": [
            "Prophet forecast for {'State': 'OH', 'Segment': 'IND_ACA'} completed\n"
          ]
        },
        {
          "output_type": "stream",
          "name": "stderr",
          "text": [
            "03:00:32 - cmdstanpy - INFO - Chain [1] done processing\n",
            "INFO:cmdstanpy:Chain [1] done processing\n",
            "INFO:prophet:n_changepoints greater than number of observations. Using 19.\n",
            "DEBUG:cmdstanpy:input tempfile: /tmp/tmpfdntuhgz/ia7bx_9s.json\n",
            "DEBUG:cmdstanpy:input tempfile: /tmp/tmpfdntuhgz/4b7f8m0l.json\n",
            "DEBUG:cmdstanpy:idx 0\n",
            "DEBUG:cmdstanpy:running CmdStan, num_threads: None\n",
            "DEBUG:cmdstanpy:CmdStan args: ['/usr/local/lib/python3.11/dist-packages/prophet/stan_model/prophet_model.bin', 'random', 'seed=37057', 'data', 'file=/tmp/tmpfdntuhgz/ia7bx_9s.json', 'init=/tmp/tmpfdntuhgz/4b7f8m0l.json', 'output', 'file=/tmp/tmpfdntuhgz/prophet_modelhpq1u5zm/prophet_model-20250407030032.csv', 'method=optimize', 'algorithm=newton', 'iter=10000']\n",
            "03:00:32 - cmdstanpy - INFO - Chain [1] start processing\n",
            "INFO:cmdstanpy:Chain [1] start processing\n"
          ]
        },
        {
          "output_type": "stream",
          "name": "stdout",
          "text": [
            "Prophet forecast for {'State': 'VA', 'Segment': 'IND_ACA'} completed\n"
          ]
        },
        {
          "output_type": "stream",
          "name": "stderr",
          "text": [
            "03:00:33 - cmdstanpy - INFO - Chain [1] done processing\n",
            "INFO:cmdstanpy:Chain [1] done processing\n",
            "INFO:prophet:n_changepoints greater than number of observations. Using 19.\n",
            "INFO:prophet:n_changepoints greater than number of observations. Using 19.\n",
            "INFO:prophet:n_changepoints greater than number of observations. Using 19.\n"
          ]
        },
        {
          "output_type": "stream",
          "name": "stdout",
          "text": [
            "Prophet forecast for {'State': 'WI', 'Segment': 'IND_ACA'} completed\n",
            "Prophet forecast for {'State': 'FL', 'Segment': 'IND_ACA'} completed\n",
            "Prophet forecast for {'State': 'MD', 'Segment': 'IND_ACA'} completed\n"
          ]
        },
        {
          "output_type": "stream",
          "name": "stderr",
          "text": [
            "INFO:prophet:n_changepoints greater than number of observations. Using 19.\n",
            "DEBUG:cmdstanpy:input tempfile: /tmp/tmpfdntuhgz/q3oetsxb.json\n",
            "DEBUG:cmdstanpy:input tempfile: /tmp/tmpfdntuhgz/2zm70wyq.json\n",
            "DEBUG:cmdstanpy:idx 0\n",
            "DEBUG:cmdstanpy:running CmdStan, num_threads: None\n",
            "DEBUG:cmdstanpy:CmdStan args: ['/usr/local/lib/python3.11/dist-packages/prophet/stan_model/prophet_model.bin', 'random', 'seed=17376', 'data', 'file=/tmp/tmpfdntuhgz/q3oetsxb.json', 'init=/tmp/tmpfdntuhgz/2zm70wyq.json', 'output', 'file=/tmp/tmpfdntuhgz/prophet_modelg2sb4j20/prophet_model-20250407030033.csv', 'method=optimize', 'algorithm=newton', 'iter=10000']\n",
            "03:00:33 - cmdstanpy - INFO - Chain [1] start processing\n",
            "INFO:cmdstanpy:Chain [1] start processing\n"
          ]
        },
        {
          "output_type": "stream",
          "name": "stdout",
          "text": [
            "Prophet forecast for {'State': 'TX', 'Segment': 'IND_ACA'} completed\n"
          ]
        },
        {
          "output_type": "stream",
          "name": "stderr",
          "text": [
            "03:00:33 - cmdstanpy - INFO - Chain [1] done processing\n",
            "INFO:cmdstanpy:Chain [1] done processing\n",
            "INFO:prophet:n_changepoints greater than number of observations. Using 19.\n",
            "DEBUG:cmdstanpy:input tempfile: /tmp/tmpfdntuhgz/81bdvyz6.json\n",
            "DEBUG:cmdstanpy:input tempfile: /tmp/tmpfdntuhgz/rrgkxhns.json\n",
            "DEBUG:cmdstanpy:idx 0\n",
            "DEBUG:cmdstanpy:running CmdStan, num_threads: None\n",
            "DEBUG:cmdstanpy:CmdStan args: ['/usr/local/lib/python3.11/dist-packages/prophet/stan_model/prophet_model.bin', 'random', 'seed=90855', 'data', 'file=/tmp/tmpfdntuhgz/81bdvyz6.json', 'init=/tmp/tmpfdntuhgz/rrgkxhns.json', 'output', 'file=/tmp/tmpfdntuhgz/prophet_modelusuo_b8_/prophet_model-20250407030033.csv', 'method=optimize', 'algorithm=newton', 'iter=10000']\n",
            "03:00:33 - cmdstanpy - INFO - Chain [1] start processing\n",
            "INFO:cmdstanpy:Chain [1] start processing\n"
          ]
        },
        {
          "output_type": "stream",
          "name": "stdout",
          "text": [
            "Prophet forecast for {'State': 'CA_HMO', 'Segment': 'IND_LEG'} completed\n"
          ]
        },
        {
          "output_type": "stream",
          "name": "stderr",
          "text": [
            "03:00:50 - cmdstanpy - INFO - Chain [1] done processing\n",
            "INFO:cmdstanpy:Chain [1] done processing\n",
            "INFO:prophet:n_changepoints greater than number of observations. Using 19.\n",
            "DEBUG:cmdstanpy:input tempfile: /tmp/tmpfdntuhgz/f52gdy_6.json\n",
            "DEBUG:cmdstanpy:input tempfile: /tmp/tmpfdntuhgz/7r436kcb.json\n",
            "DEBUG:cmdstanpy:idx 0\n",
            "DEBUG:cmdstanpy:running CmdStan, num_threads: None\n",
            "DEBUG:cmdstanpy:CmdStan args: ['/usr/local/lib/python3.11/dist-packages/prophet/stan_model/prophet_model.bin', 'random', 'seed=72412', 'data', 'file=/tmp/tmpfdntuhgz/f52gdy_6.json', 'init=/tmp/tmpfdntuhgz/7r436kcb.json', 'output', 'file=/tmp/tmpfdntuhgz/prophet_model4f4wxl3b/prophet_model-20250407030050.csv', 'method=optimize', 'algorithm=newton', 'iter=10000']\n",
            "03:00:50 - cmdstanpy - INFO - Chain [1] start processing\n",
            "INFO:cmdstanpy:Chain [1] start processing\n"
          ]
        },
        {
          "output_type": "stream",
          "name": "stdout",
          "text": [
            "Prophet forecast for {'State': 'CA_PPO', 'Segment': 'IND_LEG'} completed\n"
          ]
        },
        {
          "output_type": "stream",
          "name": "stderr",
          "text": [
            "03:00:50 - cmdstanpy - INFO - Chain [1] done processing\n",
            "INFO:cmdstanpy:Chain [1] done processing\n",
            "INFO:prophet:n_changepoints greater than number of observations. Using 19.\n",
            "INFO:prophet:n_changepoints greater than number of observations. Using 19.\n",
            "DEBUG:cmdstanpy:input tempfile: /tmp/tmpfdntuhgz/2x4ushc_.json\n",
            "DEBUG:cmdstanpy:input tempfile: /tmp/tmpfdntuhgz/icnn5g65.json\n",
            "DEBUG:cmdstanpy:idx 0\n",
            "DEBUG:cmdstanpy:running CmdStan, num_threads: None\n",
            "DEBUG:cmdstanpy:CmdStan args: ['/usr/local/lib/python3.11/dist-packages/prophet/stan_model/prophet_model.bin', 'random', 'seed=33861', 'data', 'file=/tmp/tmpfdntuhgz/2x4ushc_.json', 'init=/tmp/tmpfdntuhgz/icnn5g65.json', 'output', 'file=/tmp/tmpfdntuhgz/prophet_modelz1dqe9ti/prophet_model-20250407030050.csv', 'method=optimize', 'algorithm=newton', 'iter=10000']\n",
            "03:00:50 - cmdstanpy - INFO - Chain [1] start processing\n",
            "INFO:cmdstanpy:Chain [1] start processing\n"
          ]
        },
        {
          "output_type": "stream",
          "name": "stdout",
          "text": [
            "Prophet forecast for {'State': 'CO', 'Segment': 'IND_LEG'} completed\n",
            "Prophet forecast for {'State': 'CT', 'Segment': 'IND_LEG'} completed\n"
          ]
        },
        {
          "output_type": "stream",
          "name": "stderr",
          "text": [
            "03:00:51 - cmdstanpy - INFO - Chain [1] done processing\n",
            "INFO:cmdstanpy:Chain [1] done processing\n",
            "INFO:prophet:n_changepoints greater than number of observations. Using 19.\n",
            "DEBUG:cmdstanpy:input tempfile: /tmp/tmpfdntuhgz/j_kzk6zy.json\n",
            "DEBUG:cmdstanpy:input tempfile: /tmp/tmpfdntuhgz/tvnajdwn.json\n",
            "DEBUG:cmdstanpy:idx 0\n",
            "DEBUG:cmdstanpy:running CmdStan, num_threads: None\n",
            "DEBUG:cmdstanpy:CmdStan args: ['/usr/local/lib/python3.11/dist-packages/prophet/stan_model/prophet_model.bin', 'random', 'seed=61953', 'data', 'file=/tmp/tmpfdntuhgz/j_kzk6zy.json', 'init=/tmp/tmpfdntuhgz/tvnajdwn.json', 'output', 'file=/tmp/tmpfdntuhgz/prophet_modelkf1i_gqe/prophet_model-20250407030051.csv', 'method=optimize', 'algorithm=newton', 'iter=10000']\n",
            "03:00:51 - cmdstanpy - INFO - Chain [1] start processing\n",
            "INFO:cmdstanpy:Chain [1] start processing\n"
          ]
        },
        {
          "output_type": "stream",
          "name": "stdout",
          "text": [
            "Prophet forecast for {'State': 'GA', 'Segment': 'IND_LEG'} completed\n"
          ]
        },
        {
          "output_type": "stream",
          "name": "stderr",
          "text": [
            "03:00:51 - cmdstanpy - INFO - Chain [1] done processing\n",
            "INFO:cmdstanpy:Chain [1] done processing\n",
            "INFO:prophet:n_changepoints greater than number of observations. Using 19.\n",
            "DEBUG:cmdstanpy:input tempfile: /tmp/tmpfdntuhgz/4z3opuaj.json\n",
            "DEBUG:cmdstanpy:input tempfile: /tmp/tmpfdntuhgz/723rz7eu.json\n",
            "DEBUG:cmdstanpy:idx 0\n",
            "DEBUG:cmdstanpy:running CmdStan, num_threads: None\n",
            "DEBUG:cmdstanpy:CmdStan args: ['/usr/local/lib/python3.11/dist-packages/prophet/stan_model/prophet_model.bin', 'random', 'seed=49402', 'data', 'file=/tmp/tmpfdntuhgz/4z3opuaj.json', 'init=/tmp/tmpfdntuhgz/723rz7eu.json', 'output', 'file=/tmp/tmpfdntuhgz/prophet_model76ovww1s/prophet_model-20250407030051.csv', 'method=optimize', 'algorithm=newton', 'iter=10000']\n",
            "03:00:51 - cmdstanpy - INFO - Chain [1] start processing\n",
            "INFO:cmdstanpy:Chain [1] start processing\n"
          ]
        },
        {
          "output_type": "stream",
          "name": "stdout",
          "text": [
            "Prophet forecast for {'State': 'IN', 'Segment': 'IND_LEG'} completed\n"
          ]
        },
        {
          "output_type": "stream",
          "name": "stderr",
          "text": [
            "03:00:51 - cmdstanpy - INFO - Chain [1] done processing\n",
            "INFO:cmdstanpy:Chain [1] done processing\n",
            "INFO:prophet:n_changepoints greater than number of observations. Using 19.\n",
            "INFO:prophet:n_changepoints greater than number of observations. Using 19.\n",
            "DEBUG:cmdstanpy:input tempfile: /tmp/tmpfdntuhgz/0yc9j03n.json\n",
            "DEBUG:cmdstanpy:input tempfile: /tmp/tmpfdntuhgz/lsnxf3dp.json\n",
            "DEBUG:cmdstanpy:idx 0\n",
            "DEBUG:cmdstanpy:running CmdStan, num_threads: None\n",
            "DEBUG:cmdstanpy:CmdStan args: ['/usr/local/lib/python3.11/dist-packages/prophet/stan_model/prophet_model.bin', 'random', 'seed=75308', 'data', 'file=/tmp/tmpfdntuhgz/0yc9j03n.json', 'init=/tmp/tmpfdntuhgz/lsnxf3dp.json', 'output', 'file=/tmp/tmpfdntuhgz/prophet_model9ubbjnmx/prophet_model-20250407030052.csv', 'method=optimize', 'algorithm=newton', 'iter=10000']\n",
            "03:00:52 - cmdstanpy - INFO - Chain [1] start processing\n",
            "INFO:cmdstanpy:Chain [1] start processing\n"
          ]
        },
        {
          "output_type": "stream",
          "name": "stdout",
          "text": [
            "Prophet forecast for {'State': 'KY', 'Segment': 'IND_LEG'} completed\n",
            "Prophet forecast for {'State': 'ME', 'Segment': 'IND_LEG'} completed\n"
          ]
        },
        {
          "output_type": "stream",
          "name": "stderr",
          "text": [
            "03:00:52 - cmdstanpy - INFO - Chain [1] done processing\n",
            "INFO:cmdstanpy:Chain [1] done processing\n",
            "INFO:prophet:n_changepoints greater than number of observations. Using 19.\n",
            "DEBUG:cmdstanpy:input tempfile: /tmp/tmpfdntuhgz/2no_zlw1.json\n",
            "DEBUG:cmdstanpy:input tempfile: /tmp/tmpfdntuhgz/m8rvy9ji.json\n",
            "DEBUG:cmdstanpy:idx 0\n",
            "DEBUG:cmdstanpy:running CmdStan, num_threads: None\n",
            "DEBUG:cmdstanpy:CmdStan args: ['/usr/local/lib/python3.11/dist-packages/prophet/stan_model/prophet_model.bin', 'random', 'seed=85697', 'data', 'file=/tmp/tmpfdntuhgz/2no_zlw1.json', 'init=/tmp/tmpfdntuhgz/m8rvy9ji.json', 'output', 'file=/tmp/tmpfdntuhgz/prophet_modelfkm099dz/prophet_model-20250407030052.csv', 'method=optimize', 'algorithm=newton', 'iter=10000']\n",
            "03:00:52 - cmdstanpy - INFO - Chain [1] start processing\n",
            "INFO:cmdstanpy:Chain [1] start processing\n"
          ]
        },
        {
          "output_type": "stream",
          "name": "stdout",
          "text": [
            "Prophet forecast for {'State': 'MO', 'Segment': 'IND_LEG'} completed\n"
          ]
        },
        {
          "output_type": "stream",
          "name": "stderr",
          "text": [
            "03:00:52 - cmdstanpy - INFO - Chain [1] done processing\n",
            "INFO:cmdstanpy:Chain [1] done processing\n",
            "INFO:prophet:n_changepoints greater than number of observations. Using 19.\n",
            "INFO:prophet:n_changepoints greater than number of observations. Using 19.\n",
            "DEBUG:cmdstanpy:input tempfile: /tmp/tmpfdntuhgz/x4x4p3uj.json\n",
            "DEBUG:cmdstanpy:input tempfile: /tmp/tmpfdntuhgz/sdm8a5fk.json\n",
            "DEBUG:cmdstanpy:idx 0\n",
            "DEBUG:cmdstanpy:running CmdStan, num_threads: None\n",
            "DEBUG:cmdstanpy:CmdStan args: ['/usr/local/lib/python3.11/dist-packages/prophet/stan_model/prophet_model.bin', 'random', 'seed=29723', 'data', 'file=/tmp/tmpfdntuhgz/x4x4p3uj.json', 'init=/tmp/tmpfdntuhgz/sdm8a5fk.json', 'output', 'file=/tmp/tmpfdntuhgz/prophet_modeli813c95m/prophet_model-20250407030052.csv', 'method=optimize', 'algorithm=newton', 'iter=10000']\n",
            "03:00:53 - cmdstanpy - INFO - Chain [1] start processing\n",
            "INFO:cmdstanpy:Chain [1] start processing\n"
          ]
        },
        {
          "output_type": "stream",
          "name": "stdout",
          "text": [
            "Prophet forecast for {'State': 'NH', 'Segment': 'IND_LEG'} completed\n",
            "Prophet forecast for {'State': 'NV', 'Segment': 'IND_LEG'} completed\n"
          ]
        },
        {
          "output_type": "stream",
          "name": "stderr",
          "text": [
            "03:00:53 - cmdstanpy - INFO - Chain [1] done processing\n",
            "INFO:cmdstanpy:Chain [1] done processing\n",
            "INFO:prophet:n_changepoints greater than number of observations. Using 19.\n",
            "DEBUG:cmdstanpy:input tempfile: /tmp/tmpfdntuhgz/3wedtx2s.json\n",
            "DEBUG:cmdstanpy:input tempfile: /tmp/tmpfdntuhgz/129ya3tr.json\n",
            "DEBUG:cmdstanpy:idx 0\n",
            "DEBUG:cmdstanpy:running CmdStan, num_threads: None\n",
            "DEBUG:cmdstanpy:CmdStan args: ['/usr/local/lib/python3.11/dist-packages/prophet/stan_model/prophet_model.bin', 'random', 'seed=47664', 'data', 'file=/tmp/tmpfdntuhgz/3wedtx2s.json', 'init=/tmp/tmpfdntuhgz/129ya3tr.json', 'output', 'file=/tmp/tmpfdntuhgz/prophet_modeltvqmlx07/prophet_model-20250407030053.csv', 'method=optimize', 'algorithm=newton', 'iter=10000']\n",
            "03:00:53 - cmdstanpy - INFO - Chain [1] start processing\n",
            "INFO:cmdstanpy:Chain [1] start processing\n"
          ]
        },
        {
          "output_type": "stream",
          "name": "stdout",
          "text": [
            "Prophet forecast for {'State': 'NY', 'Segment': 'IND_LEG'} completed\n"
          ]
        },
        {
          "output_type": "stream",
          "name": "stderr",
          "text": [
            "03:00:53 - cmdstanpy - INFO - Chain [1] done processing\n",
            "INFO:cmdstanpy:Chain [1] done processing\n",
            "INFO:prophet:n_changepoints greater than number of observations. Using 19.\n",
            "DEBUG:cmdstanpy:input tempfile: /tmp/tmpfdntuhgz/tghbkfay.json\n",
            "DEBUG:cmdstanpy:input tempfile: /tmp/tmpfdntuhgz/2xrazpbo.json\n",
            "DEBUG:cmdstanpy:idx 0\n",
            "DEBUG:cmdstanpy:running CmdStan, num_threads: None\n",
            "DEBUG:cmdstanpy:CmdStan args: ['/usr/local/lib/python3.11/dist-packages/prophet/stan_model/prophet_model.bin', 'random', 'seed=99782', 'data', 'file=/tmp/tmpfdntuhgz/tghbkfay.json', 'init=/tmp/tmpfdntuhgz/2xrazpbo.json', 'output', 'file=/tmp/tmpfdntuhgz/prophet_modeljn7w8zwz/prophet_model-20250407030053.csv', 'method=optimize', 'algorithm=newton', 'iter=10000']\n",
            "03:00:53 - cmdstanpy - INFO - Chain [1] start processing\n",
            "INFO:cmdstanpy:Chain [1] start processing\n"
          ]
        },
        {
          "output_type": "stream",
          "name": "stdout",
          "text": [
            "Prophet forecast for {'State': 'OH', 'Segment': 'IND_LEG'} completed\n"
          ]
        },
        {
          "output_type": "stream",
          "name": "stderr",
          "text": [
            "03:00:54 - cmdstanpy - INFO - Chain [1] done processing\n",
            "INFO:cmdstanpy:Chain [1] done processing\n",
            "INFO:prophet:n_changepoints greater than number of observations. Using 19.\n",
            "DEBUG:cmdstanpy:input tempfile: /tmp/tmpfdntuhgz/q2s9apef.json\n",
            "DEBUG:cmdstanpy:input tempfile: /tmp/tmpfdntuhgz/q0fr2ej6.json\n",
            "DEBUG:cmdstanpy:idx 0\n",
            "DEBUG:cmdstanpy:running CmdStan, num_threads: None\n",
            "DEBUG:cmdstanpy:CmdStan args: ['/usr/local/lib/python3.11/dist-packages/prophet/stan_model/prophet_model.bin', 'random', 'seed=24027', 'data', 'file=/tmp/tmpfdntuhgz/q2s9apef.json', 'init=/tmp/tmpfdntuhgz/q0fr2ej6.json', 'output', 'file=/tmp/tmpfdntuhgz/prophet_modelgrxiba0y/prophet_model-20250407030054.csv', 'method=optimize', 'algorithm=newton', 'iter=10000']\n",
            "03:00:54 - cmdstanpy - INFO - Chain [1] start processing\n",
            "INFO:cmdstanpy:Chain [1] start processing\n"
          ]
        },
        {
          "output_type": "stream",
          "name": "stdout",
          "text": [
            "Prophet forecast for {'State': 'VA', 'Segment': 'IND_LEG'} completed\n"
          ]
        },
        {
          "output_type": "stream",
          "name": "stderr",
          "text": [
            "03:00:54 - cmdstanpy - INFO - Chain [1] done processing\n",
            "INFO:cmdstanpy:Chain [1] done processing\n",
            "INFO:prophet:n_changepoints greater than number of observations. Using 19.\n",
            "DEBUG:cmdstanpy:input tempfile: /tmp/tmpfdntuhgz/44gkbjtd.json\n",
            "DEBUG:cmdstanpy:input tempfile: /tmp/tmpfdntuhgz/yrmjlo8k.json\n",
            "DEBUG:cmdstanpy:idx 0\n",
            "DEBUG:cmdstanpy:running CmdStan, num_threads: None\n",
            "DEBUG:cmdstanpy:CmdStan args: ['/usr/local/lib/python3.11/dist-packages/prophet/stan_model/prophet_model.bin', 'random', 'seed=8378', 'data', 'file=/tmp/tmpfdntuhgz/44gkbjtd.json', 'init=/tmp/tmpfdntuhgz/yrmjlo8k.json', 'output', 'file=/tmp/tmpfdntuhgz/prophet_modelzi51js_2/prophet_model-20250407030054.csv', 'method=optimize', 'algorithm=newton', 'iter=10000']\n",
            "03:00:54 - cmdstanpy - INFO - Chain [1] start processing\n",
            "INFO:cmdstanpy:Chain [1] start processing\n"
          ]
        },
        {
          "output_type": "stream",
          "name": "stdout",
          "text": [
            "Prophet forecast for {'State': 'WI', 'Segment': 'IND_LEG'} completed\n"
          ]
        },
        {
          "output_type": "stream",
          "name": "stderr",
          "text": [
            "03:01:11 - cmdstanpy - INFO - Chain [1] done processing\n",
            "INFO:cmdstanpy:Chain [1] done processing\n",
            "INFO:prophet:n_changepoints greater than number of observations. Using 19.\n",
            "DEBUG:cmdstanpy:input tempfile: /tmp/tmpfdntuhgz/kk1iu6v_.json\n",
            "DEBUG:cmdstanpy:input tempfile: /tmp/tmpfdntuhgz/23oa6r2o.json\n",
            "DEBUG:cmdstanpy:idx 0\n",
            "DEBUG:cmdstanpy:running CmdStan, num_threads: None\n",
            "DEBUG:cmdstanpy:CmdStan args: ['/usr/local/lib/python3.11/dist-packages/prophet/stan_model/prophet_model.bin', 'random', 'seed=40824', 'data', 'file=/tmp/tmpfdntuhgz/kk1iu6v_.json', 'init=/tmp/tmpfdntuhgz/23oa6r2o.json', 'output', 'file=/tmp/tmpfdntuhgz/prophet_modeln152p9a4/prophet_model-20250407030111.csv', 'method=optimize', 'algorithm=newton', 'iter=10000']\n",
            "03:01:11 - cmdstanpy - INFO - Chain [1] start processing\n",
            "INFO:cmdstanpy:Chain [1] start processing\n"
          ]
        },
        {
          "output_type": "stream",
          "name": "stdout",
          "text": [
            "Prophet forecast for {'State': 'CA_HMO', 'Segment': 'SBG_ACA'} completed\n"
          ]
        },
        {
          "output_type": "stream",
          "name": "stderr",
          "text": [
            "03:01:28 - cmdstanpy - INFO - Chain [1] done processing\n",
            "INFO:cmdstanpy:Chain [1] done processing\n",
            "INFO:prophet:n_changepoints greater than number of observations. Using 19.\n",
            "DEBUG:cmdstanpy:input tempfile: /tmp/tmpfdntuhgz/ig6jxv2q.json\n",
            "DEBUG:cmdstanpy:input tempfile: /tmp/tmpfdntuhgz/elagox05.json\n",
            "DEBUG:cmdstanpy:idx 0\n",
            "DEBUG:cmdstanpy:running CmdStan, num_threads: None\n",
            "DEBUG:cmdstanpy:CmdStan args: ['/usr/local/lib/python3.11/dist-packages/prophet/stan_model/prophet_model.bin', 'random', 'seed=20527', 'data', 'file=/tmp/tmpfdntuhgz/ig6jxv2q.json', 'init=/tmp/tmpfdntuhgz/elagox05.json', 'output', 'file=/tmp/tmpfdntuhgz/prophet_modelt33iem8r/prophet_model-20250407030128.csv', 'method=optimize', 'algorithm=newton', 'iter=10000']\n",
            "03:01:28 - cmdstanpy - INFO - Chain [1] start processing\n",
            "INFO:cmdstanpy:Chain [1] start processing\n"
          ]
        },
        {
          "output_type": "stream",
          "name": "stdout",
          "text": [
            "Prophet forecast for {'State': 'CA_PPO', 'Segment': 'SBG_ACA'} completed\n"
          ]
        },
        {
          "output_type": "stream",
          "name": "stderr",
          "text": [
            "03:01:45 - cmdstanpy - INFO - Chain [1] done processing\n",
            "INFO:cmdstanpy:Chain [1] done processing\n",
            "INFO:prophet:n_changepoints greater than number of observations. Using 19.\n",
            "DEBUG:cmdstanpy:input tempfile: /tmp/tmpfdntuhgz/sao5uxh3.json\n",
            "DEBUG:cmdstanpy:input tempfile: /tmp/tmpfdntuhgz/_daq7ft7.json\n",
            "DEBUG:cmdstanpy:idx 0\n",
            "DEBUG:cmdstanpy:running CmdStan, num_threads: None\n",
            "DEBUG:cmdstanpy:CmdStan args: ['/usr/local/lib/python3.11/dist-packages/prophet/stan_model/prophet_model.bin', 'random', 'seed=33687', 'data', 'file=/tmp/tmpfdntuhgz/sao5uxh3.json', 'init=/tmp/tmpfdntuhgz/_daq7ft7.json', 'output', 'file=/tmp/tmpfdntuhgz/prophet_modelhicn6o3y/prophet_model-20250407030145.csv', 'method=optimize', 'algorithm=newton', 'iter=10000']\n",
            "03:01:45 - cmdstanpy - INFO - Chain [1] start processing\n",
            "INFO:cmdstanpy:Chain [1] start processing\n"
          ]
        },
        {
          "output_type": "stream",
          "name": "stdout",
          "text": [
            "Prophet forecast for {'State': 'CO', 'Segment': 'SBG_ACA'} completed\n"
          ]
        },
        {
          "output_type": "stream",
          "name": "stderr",
          "text": [
            "03:01:45 - cmdstanpy - INFO - Chain [1] done processing\n",
            "INFO:cmdstanpy:Chain [1] done processing\n",
            "INFO:prophet:n_changepoints greater than number of observations. Using 19.\n",
            "DEBUG:cmdstanpy:input tempfile: /tmp/tmpfdntuhgz/uw0uxjkx.json\n",
            "DEBUG:cmdstanpy:input tempfile: /tmp/tmpfdntuhgz/5z9245rm.json\n",
            "DEBUG:cmdstanpy:idx 0\n",
            "DEBUG:cmdstanpy:running CmdStan, num_threads: None\n",
            "DEBUG:cmdstanpy:CmdStan args: ['/usr/local/lib/python3.11/dist-packages/prophet/stan_model/prophet_model.bin', 'random', 'seed=76792', 'data', 'file=/tmp/tmpfdntuhgz/uw0uxjkx.json', 'init=/tmp/tmpfdntuhgz/5z9245rm.json', 'output', 'file=/tmp/tmpfdntuhgz/prophet_models321n25b/prophet_model-20250407030146.csv', 'method=optimize', 'algorithm=newton', 'iter=10000']\n",
            "03:01:46 - cmdstanpy - INFO - Chain [1] start processing\n",
            "INFO:cmdstanpy:Chain [1] start processing\n"
          ]
        },
        {
          "output_type": "stream",
          "name": "stdout",
          "text": [
            "Prophet forecast for {'State': 'CT', 'Segment': 'SBG_ACA'} completed\n"
          ]
        },
        {
          "output_type": "stream",
          "name": "stderr",
          "text": [
            "03:01:46 - cmdstanpy - INFO - Chain [1] done processing\n",
            "INFO:cmdstanpy:Chain [1] done processing\n",
            "INFO:prophet:n_changepoints greater than number of observations. Using 19.\n",
            "DEBUG:cmdstanpy:input tempfile: /tmp/tmpfdntuhgz/9fp7twg5.json\n",
            "DEBUG:cmdstanpy:input tempfile: /tmp/tmpfdntuhgz/z8p_frs5.json\n",
            "DEBUG:cmdstanpy:idx 0\n",
            "DEBUG:cmdstanpy:running CmdStan, num_threads: None\n",
            "DEBUG:cmdstanpy:CmdStan args: ['/usr/local/lib/python3.11/dist-packages/prophet/stan_model/prophet_model.bin', 'random', 'seed=71019', 'data', 'file=/tmp/tmpfdntuhgz/9fp7twg5.json', 'init=/tmp/tmpfdntuhgz/z8p_frs5.json', 'output', 'file=/tmp/tmpfdntuhgz/prophet_modelwopvlpqm/prophet_model-20250407030146.csv', 'method=optimize', 'algorithm=newton', 'iter=10000']\n",
            "03:01:46 - cmdstanpy - INFO - Chain [1] start processing\n",
            "INFO:cmdstanpy:Chain [1] start processing\n"
          ]
        },
        {
          "output_type": "stream",
          "name": "stdout",
          "text": [
            "Prophet forecast for {'State': 'GA', 'Segment': 'SBG_ACA'} completed\n"
          ]
        },
        {
          "output_type": "stream",
          "name": "stderr",
          "text": [
            "03:02:04 - cmdstanpy - INFO - Chain [1] done processing\n",
            "INFO:cmdstanpy:Chain [1] done processing\n",
            "INFO:prophet:n_changepoints greater than number of observations. Using 19.\n",
            "DEBUG:cmdstanpy:input tempfile: /tmp/tmpfdntuhgz/dkqdnfev.json\n",
            "DEBUG:cmdstanpy:input tempfile: /tmp/tmpfdntuhgz/mrnxnk7j.json\n",
            "DEBUG:cmdstanpy:idx 0\n",
            "DEBUG:cmdstanpy:running CmdStan, num_threads: None\n",
            "DEBUG:cmdstanpy:CmdStan args: ['/usr/local/lib/python3.11/dist-packages/prophet/stan_model/prophet_model.bin', 'random', 'seed=62793', 'data', 'file=/tmp/tmpfdntuhgz/dkqdnfev.json', 'init=/tmp/tmpfdntuhgz/mrnxnk7j.json', 'output', 'file=/tmp/tmpfdntuhgz/prophet_modelvugq1knd/prophet_model-20250407030204.csv', 'method=optimize', 'algorithm=newton', 'iter=10000']\n",
            "03:02:04 - cmdstanpy - INFO - Chain [1] start processing\n",
            "INFO:cmdstanpy:Chain [1] start processing\n"
          ]
        },
        {
          "output_type": "stream",
          "name": "stdout",
          "text": [
            "Prophet forecast for {'State': 'IN', 'Segment': 'SBG_ACA'} completed\n"
          ]
        },
        {
          "output_type": "stream",
          "name": "stderr",
          "text": [
            "03:02:04 - cmdstanpy - INFO - Chain [1] done processing\n",
            "INFO:cmdstanpy:Chain [1] done processing\n",
            "INFO:prophet:n_changepoints greater than number of observations. Using 19.\n",
            "DEBUG:cmdstanpy:input tempfile: /tmp/tmpfdntuhgz/pfsh78a1.json\n",
            "DEBUG:cmdstanpy:input tempfile: /tmp/tmpfdntuhgz/tj5e6vmy.json\n",
            "DEBUG:cmdstanpy:idx 0\n",
            "DEBUG:cmdstanpy:running CmdStan, num_threads: None\n",
            "DEBUG:cmdstanpy:CmdStan args: ['/usr/local/lib/python3.11/dist-packages/prophet/stan_model/prophet_model.bin', 'random', 'seed=59773', 'data', 'file=/tmp/tmpfdntuhgz/pfsh78a1.json', 'init=/tmp/tmpfdntuhgz/tj5e6vmy.json', 'output', 'file=/tmp/tmpfdntuhgz/prophet_modelknskny1h/prophet_model-20250407030204.csv', 'method=optimize', 'algorithm=newton', 'iter=10000']\n",
            "03:02:04 - cmdstanpy - INFO - Chain [1] start processing\n",
            "INFO:cmdstanpy:Chain [1] start processing\n"
          ]
        },
        {
          "output_type": "stream",
          "name": "stdout",
          "text": [
            "Prophet forecast for {'State': 'KY', 'Segment': 'SBG_ACA'} completed\n"
          ]
        },
        {
          "output_type": "stream",
          "name": "stderr",
          "text": [
            "03:02:21 - cmdstanpy - INFO - Chain [1] done processing\n",
            "INFO:cmdstanpy:Chain [1] done processing\n",
            "INFO:prophet:n_changepoints greater than number of observations. Using 19.\n",
            "DEBUG:cmdstanpy:input tempfile: /tmp/tmpfdntuhgz/n6j_k350.json\n",
            "DEBUG:cmdstanpy:input tempfile: /tmp/tmpfdntuhgz/dqigi4b8.json\n",
            "DEBUG:cmdstanpy:idx 0\n",
            "DEBUG:cmdstanpy:running CmdStan, num_threads: None\n",
            "DEBUG:cmdstanpy:CmdStan args: ['/usr/local/lib/python3.11/dist-packages/prophet/stan_model/prophet_model.bin', 'random', 'seed=94604', 'data', 'file=/tmp/tmpfdntuhgz/n6j_k350.json', 'init=/tmp/tmpfdntuhgz/dqigi4b8.json', 'output', 'file=/tmp/tmpfdntuhgz/prophet_modelfv94mdai/prophet_model-20250407030221.csv', 'method=optimize', 'algorithm=newton', 'iter=10000']\n",
            "03:02:21 - cmdstanpy - INFO - Chain [1] start processing\n",
            "INFO:cmdstanpy:Chain [1] start processing\n"
          ]
        },
        {
          "output_type": "stream",
          "name": "stdout",
          "text": [
            "Prophet forecast for {'State': 'ME', 'Segment': 'SBG_ACA'} completed\n"
          ]
        },
        {
          "output_type": "stream",
          "name": "stderr",
          "text": [
            "03:02:21 - cmdstanpy - INFO - Chain [1] done processing\n",
            "INFO:cmdstanpy:Chain [1] done processing\n",
            "INFO:prophet:n_changepoints greater than number of observations. Using 19.\n",
            "DEBUG:cmdstanpy:input tempfile: /tmp/tmpfdntuhgz/0oybu2c0.json\n",
            "DEBUG:cmdstanpy:input tempfile: /tmp/tmpfdntuhgz/jhigpbl1.json\n",
            "DEBUG:cmdstanpy:idx 0\n",
            "DEBUG:cmdstanpy:running CmdStan, num_threads: None\n",
            "DEBUG:cmdstanpy:CmdStan args: ['/usr/local/lib/python3.11/dist-packages/prophet/stan_model/prophet_model.bin', 'random', 'seed=43015', 'data', 'file=/tmp/tmpfdntuhgz/0oybu2c0.json', 'init=/tmp/tmpfdntuhgz/jhigpbl1.json', 'output', 'file=/tmp/tmpfdntuhgz/prophet_modelffmgd7i6/prophet_model-20250407030221.csv', 'method=optimize', 'algorithm=newton', 'iter=10000']\n",
            "03:02:21 - cmdstanpy - INFO - Chain [1] start processing\n",
            "INFO:cmdstanpy:Chain [1] start processing\n"
          ]
        },
        {
          "output_type": "stream",
          "name": "stdout",
          "text": [
            "Prophet forecast for {'State': 'MO', 'Segment': 'SBG_ACA'} completed\n"
          ]
        },
        {
          "output_type": "stream",
          "name": "stderr",
          "text": [
            "03:02:22 - cmdstanpy - INFO - Chain [1] done processing\n",
            "INFO:cmdstanpy:Chain [1] done processing\n",
            "INFO:prophet:n_changepoints greater than number of observations. Using 19.\n",
            "DEBUG:cmdstanpy:input tempfile: /tmp/tmpfdntuhgz/xjaghohg.json\n",
            "DEBUG:cmdstanpy:input tempfile: /tmp/tmpfdntuhgz/5mgssy06.json\n",
            "DEBUG:cmdstanpy:idx 0\n",
            "DEBUG:cmdstanpy:running CmdStan, num_threads: None\n",
            "DEBUG:cmdstanpy:CmdStan args: ['/usr/local/lib/python3.11/dist-packages/prophet/stan_model/prophet_model.bin', 'random', 'seed=60119', 'data', 'file=/tmp/tmpfdntuhgz/xjaghohg.json', 'init=/tmp/tmpfdntuhgz/5mgssy06.json', 'output', 'file=/tmp/tmpfdntuhgz/prophet_model32zopakj/prophet_model-20250407030222.csv', 'method=optimize', 'algorithm=newton', 'iter=10000']\n",
            "03:02:22 - cmdstanpy - INFO - Chain [1] start processing\n",
            "INFO:cmdstanpy:Chain [1] start processing\n"
          ]
        },
        {
          "output_type": "stream",
          "name": "stdout",
          "text": [
            "Prophet forecast for {'State': 'NH', 'Segment': 'SBG_ACA'} completed\n"
          ]
        },
        {
          "output_type": "stream",
          "name": "stderr",
          "text": [
            "03:02:22 - cmdstanpy - INFO - Chain [1] done processing\n",
            "INFO:cmdstanpy:Chain [1] done processing\n",
            "INFO:prophet:n_changepoints greater than number of observations. Using 19.\n",
            "DEBUG:cmdstanpy:input tempfile: /tmp/tmpfdntuhgz/zuogv5pe.json\n",
            "DEBUG:cmdstanpy:input tempfile: /tmp/tmpfdntuhgz/kxm1u3l3.json\n",
            "DEBUG:cmdstanpy:idx 0\n",
            "DEBUG:cmdstanpy:running CmdStan, num_threads: None\n",
            "DEBUG:cmdstanpy:CmdStan args: ['/usr/local/lib/python3.11/dist-packages/prophet/stan_model/prophet_model.bin', 'random', 'seed=95042', 'data', 'file=/tmp/tmpfdntuhgz/zuogv5pe.json', 'init=/tmp/tmpfdntuhgz/kxm1u3l3.json', 'output', 'file=/tmp/tmpfdntuhgz/prophet_modelelaotxpf/prophet_model-20250407030222.csv', 'method=optimize', 'algorithm=newton', 'iter=10000']\n",
            "03:02:22 - cmdstanpy - INFO - Chain [1] start processing\n",
            "INFO:cmdstanpy:Chain [1] start processing\n"
          ]
        },
        {
          "output_type": "stream",
          "name": "stdout",
          "text": [
            "Prophet forecast for {'State': 'NV', 'Segment': 'SBG_ACA'} completed\n"
          ]
        },
        {
          "output_type": "stream",
          "name": "stderr",
          "text": [
            "03:02:22 - cmdstanpy - INFO - Chain [1] done processing\n",
            "INFO:cmdstanpy:Chain [1] done processing\n",
            "INFO:prophet:n_changepoints greater than number of observations. Using 19.\n",
            "DEBUG:cmdstanpy:input tempfile: /tmp/tmpfdntuhgz/7ksq0iku.json\n",
            "DEBUG:cmdstanpy:input tempfile: /tmp/tmpfdntuhgz/zfd9rea1.json\n",
            "DEBUG:cmdstanpy:idx 0\n",
            "DEBUG:cmdstanpy:running CmdStan, num_threads: None\n",
            "DEBUG:cmdstanpy:CmdStan args: ['/usr/local/lib/python3.11/dist-packages/prophet/stan_model/prophet_model.bin', 'random', 'seed=94517', 'data', 'file=/tmp/tmpfdntuhgz/7ksq0iku.json', 'init=/tmp/tmpfdntuhgz/zfd9rea1.json', 'output', 'file=/tmp/tmpfdntuhgz/prophet_model_2kejyju/prophet_model-20250407030223.csv', 'method=optimize', 'algorithm=newton', 'iter=10000']\n",
            "03:02:23 - cmdstanpy - INFO - Chain [1] start processing\n",
            "INFO:cmdstanpy:Chain [1] start processing\n"
          ]
        },
        {
          "output_type": "stream",
          "name": "stdout",
          "text": [
            "Prophet forecast for {'State': 'NY', 'Segment': 'SBG_ACA'} completed\n"
          ]
        },
        {
          "output_type": "stream",
          "name": "stderr",
          "text": [
            "03:02:40 - cmdstanpy - INFO - Chain [1] done processing\n",
            "INFO:cmdstanpy:Chain [1] done processing\n",
            "INFO:prophet:n_changepoints greater than number of observations. Using 19.\n",
            "DEBUG:cmdstanpy:input tempfile: /tmp/tmpfdntuhgz/dgkyw7te.json\n",
            "DEBUG:cmdstanpy:input tempfile: /tmp/tmpfdntuhgz/zembe6hr.json\n",
            "DEBUG:cmdstanpy:idx 0\n",
            "DEBUG:cmdstanpy:running CmdStan, num_threads: None\n",
            "DEBUG:cmdstanpy:CmdStan args: ['/usr/local/lib/python3.11/dist-packages/prophet/stan_model/prophet_model.bin', 'random', 'seed=53712', 'data', 'file=/tmp/tmpfdntuhgz/dgkyw7te.json', 'init=/tmp/tmpfdntuhgz/zembe6hr.json', 'output', 'file=/tmp/tmpfdntuhgz/prophet_modelq_04c3b0/prophet_model-20250407030240.csv', 'method=optimize', 'algorithm=newton', 'iter=10000']\n",
            "03:02:40 - cmdstanpy - INFO - Chain [1] start processing\n",
            "INFO:cmdstanpy:Chain [1] start processing\n"
          ]
        },
        {
          "output_type": "stream",
          "name": "stdout",
          "text": [
            "Prophet forecast for {'State': 'OH', 'Segment': 'SBG_ACA'} completed\n"
          ]
        },
        {
          "output_type": "stream",
          "name": "stderr",
          "text": [
            "03:02:57 - cmdstanpy - INFO - Chain [1] done processing\n",
            "INFO:cmdstanpy:Chain [1] done processing\n",
            "INFO:prophet:n_changepoints greater than number of observations. Using 19.\n",
            "DEBUG:cmdstanpy:input tempfile: /tmp/tmpfdntuhgz/m7hyt5cg.json\n",
            "DEBUG:cmdstanpy:input tempfile: /tmp/tmpfdntuhgz/dtbci7pt.json\n",
            "DEBUG:cmdstanpy:idx 0\n",
            "DEBUG:cmdstanpy:running CmdStan, num_threads: None\n",
            "DEBUG:cmdstanpy:CmdStan args: ['/usr/local/lib/python3.11/dist-packages/prophet/stan_model/prophet_model.bin', 'random', 'seed=90219', 'data', 'file=/tmp/tmpfdntuhgz/m7hyt5cg.json', 'init=/tmp/tmpfdntuhgz/dtbci7pt.json', 'output', 'file=/tmp/tmpfdntuhgz/prophet_model9b3cl5ct/prophet_model-20250407030258.csv', 'method=optimize', 'algorithm=newton', 'iter=10000']\n",
            "03:02:58 - cmdstanpy - INFO - Chain [1] start processing\n",
            "INFO:cmdstanpy:Chain [1] start processing\n"
          ]
        },
        {
          "output_type": "stream",
          "name": "stdout",
          "text": [
            "Prophet forecast for {'State': 'VA', 'Segment': 'SBG_ACA'} completed\n"
          ]
        },
        {
          "output_type": "stream",
          "name": "stderr",
          "text": [
            "03:02:58 - cmdstanpy - INFO - Chain [1] done processing\n",
            "INFO:cmdstanpy:Chain [1] done processing\n",
            "INFO:prophet:n_changepoints greater than number of observations. Using 19.\n",
            "INFO:prophet:n_changepoints greater than number of observations. Using 19.\n",
            "DEBUG:cmdstanpy:input tempfile: /tmp/tmpfdntuhgz/hv3nckh0.json\n",
            "DEBUG:cmdstanpy:input tempfile: /tmp/tmpfdntuhgz/8b3qrm3i.json\n",
            "DEBUG:cmdstanpy:idx 0\n",
            "DEBUG:cmdstanpy:running CmdStan, num_threads: None\n",
            "DEBUG:cmdstanpy:CmdStan args: ['/usr/local/lib/python3.11/dist-packages/prophet/stan_model/prophet_model.bin', 'random', 'seed=17264', 'data', 'file=/tmp/tmpfdntuhgz/hv3nckh0.json', 'init=/tmp/tmpfdntuhgz/8b3qrm3i.json', 'output', 'file=/tmp/tmpfdntuhgz/prophet_modelf8zgglao/prophet_model-20250407030258.csv', 'method=optimize', 'algorithm=newton', 'iter=10000']\n",
            "03:02:58 - cmdstanpy - INFO - Chain [1] start processing\n",
            "INFO:cmdstanpy:Chain [1] start processing\n"
          ]
        },
        {
          "output_type": "stream",
          "name": "stdout",
          "text": [
            "Prophet forecast for {'State': 'WI', 'Segment': 'SBG_ACA'} completed\n",
            "Prophet forecast for {'State': 'CA_HMO', 'Segment': 'SBG_LEG'} completed\n"
          ]
        },
        {
          "output_type": "stream",
          "name": "stderr",
          "text": [
            "03:02:58 - cmdstanpy - INFO - Chain [1] done processing\n",
            "INFO:cmdstanpy:Chain [1] done processing\n",
            "INFO:prophet:n_changepoints greater than number of observations. Using 19.\n",
            "DEBUG:cmdstanpy:input tempfile: /tmp/tmpfdntuhgz/zwhuyvu3.json\n",
            "DEBUG:cmdstanpy:input tempfile: /tmp/tmpfdntuhgz/gmjo_mvo.json\n",
            "DEBUG:cmdstanpy:idx 0\n",
            "DEBUG:cmdstanpy:running CmdStan, num_threads: None\n",
            "DEBUG:cmdstanpy:CmdStan args: ['/usr/local/lib/python3.11/dist-packages/prophet/stan_model/prophet_model.bin', 'random', 'seed=73765', 'data', 'file=/tmp/tmpfdntuhgz/zwhuyvu3.json', 'init=/tmp/tmpfdntuhgz/gmjo_mvo.json', 'output', 'file=/tmp/tmpfdntuhgz/prophet_model91zo58fu/prophet_model-20250407030258.csv', 'method=optimize', 'algorithm=newton', 'iter=10000']\n",
            "03:02:58 - cmdstanpy - INFO - Chain [1] start processing\n",
            "INFO:cmdstanpy:Chain [1] start processing\n",
            "03:02:58 - cmdstanpy - INFO - Chain [1] done processing\n",
            "INFO:cmdstanpy:Chain [1] done processing\n"
          ]
        },
        {
          "output_type": "stream",
          "name": "stdout",
          "text": [
            "Prophet forecast for {'State': 'CA_PPO', 'Segment': 'SBG_LEG'} completed\n"
          ]
        },
        {
          "output_type": "stream",
          "name": "stderr",
          "text": [
            "INFO:prophet:n_changepoints greater than number of observations. Using 19.\n",
            "DEBUG:cmdstanpy:input tempfile: /tmp/tmpfdntuhgz/dj4gm8gx.json\n",
            "DEBUG:cmdstanpy:input tempfile: /tmp/tmpfdntuhgz/6hl2zc0f.json\n",
            "DEBUG:cmdstanpy:idx 0\n",
            "DEBUG:cmdstanpy:running CmdStan, num_threads: None\n",
            "DEBUG:cmdstanpy:CmdStan args: ['/usr/local/lib/python3.11/dist-packages/prophet/stan_model/prophet_model.bin', 'random', 'seed=89801', 'data', 'file=/tmp/tmpfdntuhgz/dj4gm8gx.json', 'init=/tmp/tmpfdntuhgz/6hl2zc0f.json', 'output', 'file=/tmp/tmpfdntuhgz/prophet_modely4ezn4r2/prophet_model-20250407030258.csv', 'method=optimize', 'algorithm=newton', 'iter=10000']\n",
            "03:02:58 - cmdstanpy - INFO - Chain [1] start processing\n",
            "INFO:cmdstanpy:Chain [1] start processing\n"
          ]
        },
        {
          "output_type": "stream",
          "name": "stdout",
          "text": [
            "Prophet forecast for {'State': 'CO', 'Segment': 'SBG_LEG'} completed\n"
          ]
        },
        {
          "output_type": "stream",
          "name": "stderr",
          "text": [
            "03:02:59 - cmdstanpy - INFO - Chain [1] done processing\n",
            "INFO:cmdstanpy:Chain [1] done processing\n",
            "INFO:prophet:n_changepoints greater than number of observations. Using 19.\n",
            "DEBUG:cmdstanpy:input tempfile: /tmp/tmpfdntuhgz/u6j4trht.json\n",
            "DEBUG:cmdstanpy:input tempfile: /tmp/tmpfdntuhgz/_z43spgp.json\n",
            "DEBUG:cmdstanpy:idx 0\n",
            "DEBUG:cmdstanpy:running CmdStan, num_threads: None\n",
            "DEBUG:cmdstanpy:CmdStan args: ['/usr/local/lib/python3.11/dist-packages/prophet/stan_model/prophet_model.bin', 'random', 'seed=14994', 'data', 'file=/tmp/tmpfdntuhgz/u6j4trht.json', 'init=/tmp/tmpfdntuhgz/_z43spgp.json', 'output', 'file=/tmp/tmpfdntuhgz/prophet_modelldtbv4p9/prophet_model-20250407030259.csv', 'method=optimize', 'algorithm=newton', 'iter=10000']\n",
            "03:02:59 - cmdstanpy - INFO - Chain [1] start processing\n",
            "INFO:cmdstanpy:Chain [1] start processing\n"
          ]
        },
        {
          "output_type": "stream",
          "name": "stdout",
          "text": [
            "Prophet forecast for {'State': 'CT', 'Segment': 'SBG_LEG'} completed\n"
          ]
        },
        {
          "output_type": "stream",
          "name": "stderr",
          "text": [
            "03:02:59 - cmdstanpy - INFO - Chain [1] done processing\n",
            "INFO:cmdstanpy:Chain [1] done processing\n",
            "INFO:prophet:n_changepoints greater than number of observations. Using 19.\n",
            "DEBUG:cmdstanpy:input tempfile: /tmp/tmpfdntuhgz/0e_rcq76.json\n",
            "DEBUG:cmdstanpy:input tempfile: /tmp/tmpfdntuhgz/d2exydbn.json\n",
            "DEBUG:cmdstanpy:idx 0\n",
            "DEBUG:cmdstanpy:running CmdStan, num_threads: None\n",
            "DEBUG:cmdstanpy:CmdStan args: ['/usr/local/lib/python3.11/dist-packages/prophet/stan_model/prophet_model.bin', 'random', 'seed=57556', 'data', 'file=/tmp/tmpfdntuhgz/0e_rcq76.json', 'init=/tmp/tmpfdntuhgz/d2exydbn.json', 'output', 'file=/tmp/tmpfdntuhgz/prophet_modelwc8u3bil/prophet_model-20250407030259.csv', 'method=optimize', 'algorithm=newton', 'iter=10000']\n",
            "03:02:59 - cmdstanpy - INFO - Chain [1] start processing\n",
            "INFO:cmdstanpy:Chain [1] start processing\n"
          ]
        },
        {
          "output_type": "stream",
          "name": "stdout",
          "text": [
            "Prophet forecast for {'State': 'GA', 'Segment': 'SBG_LEG'} completed\n"
          ]
        },
        {
          "output_type": "stream",
          "name": "stderr",
          "text": [
            "03:02:59 - cmdstanpy - INFO - Chain [1] done processing\n",
            "INFO:cmdstanpy:Chain [1] done processing\n",
            "INFO:prophet:n_changepoints greater than number of observations. Using 19.\n",
            "DEBUG:cmdstanpy:input tempfile: /tmp/tmpfdntuhgz/k9oakvzl.json\n",
            "DEBUG:cmdstanpy:input tempfile: /tmp/tmpfdntuhgz/t5jfx_cw.json\n",
            "DEBUG:cmdstanpy:idx 0\n",
            "DEBUG:cmdstanpy:running CmdStan, num_threads: None\n",
            "DEBUG:cmdstanpy:CmdStan args: ['/usr/local/lib/python3.11/dist-packages/prophet/stan_model/prophet_model.bin', 'random', 'seed=84388', 'data', 'file=/tmp/tmpfdntuhgz/k9oakvzl.json', 'init=/tmp/tmpfdntuhgz/t5jfx_cw.json', 'output', 'file=/tmp/tmpfdntuhgz/prophet_modeleckmdboi/prophet_model-20250407030259.csv', 'method=optimize', 'algorithm=newton', 'iter=10000']\n",
            "03:02:59 - cmdstanpy - INFO - Chain [1] start processing\n",
            "INFO:cmdstanpy:Chain [1] start processing\n"
          ]
        },
        {
          "output_type": "stream",
          "name": "stdout",
          "text": [
            "Prophet forecast for {'State': 'IN', 'Segment': 'SBG_LEG'} completed\n"
          ]
        },
        {
          "output_type": "stream",
          "name": "stderr",
          "text": [
            "03:03:00 - cmdstanpy - INFO - Chain [1] done processing\n",
            "INFO:cmdstanpy:Chain [1] done processing\n",
            "INFO:prophet:n_changepoints greater than number of observations. Using 19.\n",
            "INFO:prophet:n_changepoints greater than number of observations. Using 19.\n",
            "DEBUG:cmdstanpy:input tempfile: /tmp/tmpfdntuhgz/w9lteofv.json\n",
            "DEBUG:cmdstanpy:input tempfile: /tmp/tmpfdntuhgz/iy_5ksd1.json\n",
            "DEBUG:cmdstanpy:idx 0\n",
            "DEBUG:cmdstanpy:running CmdStan, num_threads: None\n",
            "DEBUG:cmdstanpy:CmdStan args: ['/usr/local/lib/python3.11/dist-packages/prophet/stan_model/prophet_model.bin', 'random', 'seed=4121', 'data', 'file=/tmp/tmpfdntuhgz/w9lteofv.json', 'init=/tmp/tmpfdntuhgz/iy_5ksd1.json', 'output', 'file=/tmp/tmpfdntuhgz/prophet_modelotmv5ykj/prophet_model-20250407030300.csv', 'method=optimize', 'algorithm=newton', 'iter=10000']\n",
            "03:03:00 - cmdstanpy - INFO - Chain [1] start processing\n",
            "INFO:cmdstanpy:Chain [1] start processing\n"
          ]
        },
        {
          "output_type": "stream",
          "name": "stdout",
          "text": [
            "Prophet forecast for {'State': 'KY', 'Segment': 'SBG_LEG'} completed\n",
            "Prophet forecast for {'State': 'ME', 'Segment': 'SBG_LEG'} completed\n"
          ]
        },
        {
          "output_type": "stream",
          "name": "stderr",
          "text": [
            "03:03:00 - cmdstanpy - INFO - Chain [1] done processing\n",
            "INFO:cmdstanpy:Chain [1] done processing\n",
            "INFO:prophet:n_changepoints greater than number of observations. Using 19.\n",
            "DEBUG:cmdstanpy:input tempfile: /tmp/tmpfdntuhgz/79uu4k36.json\n",
            "DEBUG:cmdstanpy:input tempfile: /tmp/tmpfdntuhgz/442ghbo_.json\n",
            "DEBUG:cmdstanpy:idx 0\n",
            "DEBUG:cmdstanpy:running CmdStan, num_threads: None\n",
            "DEBUG:cmdstanpy:CmdStan args: ['/usr/local/lib/python3.11/dist-packages/prophet/stan_model/prophet_model.bin', 'random', 'seed=28008', 'data', 'file=/tmp/tmpfdntuhgz/79uu4k36.json', 'init=/tmp/tmpfdntuhgz/442ghbo_.json', 'output', 'file=/tmp/tmpfdntuhgz/prophet_model6_irhni3/prophet_model-20250407030300.csv', 'method=optimize', 'algorithm=newton', 'iter=10000']\n",
            "03:03:00 - cmdstanpy - INFO - Chain [1] start processing\n",
            "INFO:cmdstanpy:Chain [1] start processing\n"
          ]
        },
        {
          "output_type": "stream",
          "name": "stdout",
          "text": [
            "Prophet forecast for {'State': 'MO', 'Segment': 'SBG_LEG'} completed\n"
          ]
        },
        {
          "output_type": "stream",
          "name": "stderr",
          "text": [
            "03:03:00 - cmdstanpy - INFO - Chain [1] done processing\n",
            "INFO:cmdstanpy:Chain [1] done processing\n",
            "INFO:prophet:n_changepoints greater than number of observations. Using 19.\n",
            "DEBUG:cmdstanpy:input tempfile: /tmp/tmpfdntuhgz/6wf0thwl.json\n",
            "DEBUG:cmdstanpy:input tempfile: /tmp/tmpfdntuhgz/ummgi5ka.json\n",
            "DEBUG:cmdstanpy:idx 0\n",
            "DEBUG:cmdstanpy:running CmdStan, num_threads: None\n",
            "DEBUG:cmdstanpy:CmdStan args: ['/usr/local/lib/python3.11/dist-packages/prophet/stan_model/prophet_model.bin', 'random', 'seed=44325', 'data', 'file=/tmp/tmpfdntuhgz/6wf0thwl.json', 'init=/tmp/tmpfdntuhgz/ummgi5ka.json', 'output', 'file=/tmp/tmpfdntuhgz/prophet_modeladrh455q/prophet_model-20250407030301.csv', 'method=optimize', 'algorithm=newton', 'iter=10000']\n",
            "03:03:01 - cmdstanpy - INFO - Chain [1] start processing\n",
            "INFO:cmdstanpy:Chain [1] start processing\n"
          ]
        },
        {
          "output_type": "stream",
          "name": "stdout",
          "text": [
            "Prophet forecast for {'State': 'NH', 'Segment': 'SBG_LEG'} completed\n"
          ]
        },
        {
          "output_type": "stream",
          "name": "stderr",
          "text": [
            "03:03:01 - cmdstanpy - INFO - Chain [1] done processing\n",
            "INFO:cmdstanpy:Chain [1] done processing\n",
            "INFO:prophet:n_changepoints greater than number of observations. Using 19.\n",
            "INFO:prophet:n_changepoints greater than number of observations. Using 19.\n",
            "DEBUG:cmdstanpy:input tempfile: /tmp/tmpfdntuhgz/wcqvm3aa.json\n",
            "DEBUG:cmdstanpy:input tempfile: /tmp/tmpfdntuhgz/dbk6yjuy.json\n",
            "DEBUG:cmdstanpy:idx 0\n",
            "DEBUG:cmdstanpy:running CmdStan, num_threads: None\n",
            "DEBUG:cmdstanpy:CmdStan args: ['/usr/local/lib/python3.11/dist-packages/prophet/stan_model/prophet_model.bin', 'random', 'seed=11388', 'data', 'file=/tmp/tmpfdntuhgz/wcqvm3aa.json', 'init=/tmp/tmpfdntuhgz/dbk6yjuy.json', 'output', 'file=/tmp/tmpfdntuhgz/prophet_modelh1j3e_l4/prophet_model-20250407030301.csv', 'method=optimize', 'algorithm=newton', 'iter=10000']\n",
            "03:03:01 - cmdstanpy - INFO - Chain [1] start processing\n",
            "INFO:cmdstanpy:Chain [1] start processing\n"
          ]
        },
        {
          "output_type": "stream",
          "name": "stdout",
          "text": [
            "Prophet forecast for {'State': 'NV', 'Segment': 'SBG_LEG'} completed\n",
            "Prophet forecast for {'State': 'NY', 'Segment': 'SBG_LEG'} completed\n"
          ]
        },
        {
          "output_type": "stream",
          "name": "stderr",
          "text": [
            "03:03:01 - cmdstanpy - INFO - Chain [1] done processing\n",
            "INFO:cmdstanpy:Chain [1] done processing\n",
            "INFO:prophet:n_changepoints greater than number of observations. Using 19.\n",
            "INFO:prophet:n_changepoints greater than number of observations. Using 19.\n",
            "DEBUG:cmdstanpy:input tempfile: /tmp/tmpfdntuhgz/22aegv0g.json\n",
            "DEBUG:cmdstanpy:input tempfile: /tmp/tmpfdntuhgz/d135tawl.json\n",
            "DEBUG:cmdstanpy:idx 0\n",
            "DEBUG:cmdstanpy:running CmdStan, num_threads: None\n",
            "DEBUG:cmdstanpy:CmdStan args: ['/usr/local/lib/python3.11/dist-packages/prophet/stan_model/prophet_model.bin', 'random', 'seed=66200', 'data', 'file=/tmp/tmpfdntuhgz/22aegv0g.json', 'init=/tmp/tmpfdntuhgz/d135tawl.json', 'output', 'file=/tmp/tmpfdntuhgz/prophet_modelh177q2rt/prophet_model-20250407030301.csv', 'method=optimize', 'algorithm=newton', 'iter=10000']\n",
            "03:03:01 - cmdstanpy - INFO - Chain [1] start processing\n",
            "INFO:cmdstanpy:Chain [1] start processing\n"
          ]
        },
        {
          "output_type": "stream",
          "name": "stdout",
          "text": [
            "Prophet forecast for {'State': 'OH', 'Segment': 'SBG_LEG'} completed\n",
            "Prophet forecast for {'State': 'VA', 'Segment': 'SBG_LEG'} completed\n"
          ]
        },
        {
          "output_type": "stream",
          "name": "stderr",
          "text": [
            "03:03:02 - cmdstanpy - INFO - Chain [1] done processing\n",
            "INFO:cmdstanpy:Chain [1] done processing\n",
            "INFO:prophet:n_changepoints greater than number of observations. Using 19.\n",
            "INFO:prophet:n_changepoints greater than number of observations. Using 19.\n",
            "INFO:prophet:n_changepoints greater than number of observations. Using 19.\n"
          ]
        },
        {
          "output_type": "stream",
          "name": "stdout",
          "text": [
            "Prophet forecast for {'State': 'WI', 'Segment': 'SBG_LEG'} completed\n",
            "Prophet forecast for {'State': 'CA_HMO', 'Segment': 'SBG_MEW'} completed\n",
            "Prophet forecast for {'State': 'CA_PPO', 'Segment': 'SBG_MEW'} completed\n"
          ]
        },
        {
          "output_type": "stream",
          "name": "stderr",
          "text": [
            "INFO:prophet:n_changepoints greater than number of observations. Using 19.\n",
            "INFO:prophet:n_changepoints greater than number of observations. Using 19.\n",
            "DEBUG:cmdstanpy:input tempfile: /tmp/tmpfdntuhgz/x9ofpvd6.json\n",
            "DEBUG:cmdstanpy:input tempfile: /tmp/tmpfdntuhgz/p4xucwg9.json\n",
            "DEBUG:cmdstanpy:idx 0\n",
            "DEBUG:cmdstanpy:running CmdStan, num_threads: None\n",
            "DEBUG:cmdstanpy:CmdStan args: ['/usr/local/lib/python3.11/dist-packages/prophet/stan_model/prophet_model.bin', 'random', 'seed=56801', 'data', 'file=/tmp/tmpfdntuhgz/x9ofpvd6.json', 'init=/tmp/tmpfdntuhgz/p4xucwg9.json', 'output', 'file=/tmp/tmpfdntuhgz/prophet_model1afmr8bw/prophet_model-20250407030302.csv', 'method=optimize', 'algorithm=newton', 'iter=10000']\n",
            "03:03:02 - cmdstanpy - INFO - Chain [1] start processing\n",
            "INFO:cmdstanpy:Chain [1] start processing\n"
          ]
        },
        {
          "output_type": "stream",
          "name": "stdout",
          "text": [
            "Prophet forecast for {'State': 'CO', 'Segment': 'SBG_MEW'} completed\n",
            "Prophet forecast for {'State': 'CT', 'Segment': 'SBG_MEW'} completed\n"
          ]
        },
        {
          "output_type": "stream",
          "name": "stderr",
          "text": [
            "03:03:02 - cmdstanpy - INFO - Chain [1] done processing\n",
            "INFO:cmdstanpy:Chain [1] done processing\n",
            "INFO:prophet:n_changepoints greater than number of observations. Using 19.\n",
            "INFO:prophet:n_changepoints greater than number of observations. Using 19.\n",
            "DEBUG:cmdstanpy:input tempfile: /tmp/tmpfdntuhgz/yfhw3rg6.json\n",
            "DEBUG:cmdstanpy:input tempfile: /tmp/tmpfdntuhgz/niuzafcp.json\n",
            "DEBUG:cmdstanpy:idx 0\n",
            "DEBUG:cmdstanpy:running CmdStan, num_threads: None\n",
            "DEBUG:cmdstanpy:CmdStan args: ['/usr/local/lib/python3.11/dist-packages/prophet/stan_model/prophet_model.bin', 'random', 'seed=58170', 'data', 'file=/tmp/tmpfdntuhgz/yfhw3rg6.json', 'init=/tmp/tmpfdntuhgz/niuzafcp.json', 'output', 'file=/tmp/tmpfdntuhgz/prophet_modelatllleu7/prophet_model-20250407030302.csv', 'method=optimize', 'algorithm=newton', 'iter=10000']\n",
            "03:03:02 - cmdstanpy - INFO - Chain [1] start processing\n",
            "INFO:cmdstanpy:Chain [1] start processing\n"
          ]
        },
        {
          "output_type": "stream",
          "name": "stdout",
          "text": [
            "Prophet forecast for {'State': 'GA', 'Segment': 'SBG_MEW'} completed\n",
            "Prophet forecast for {'State': 'IN', 'Segment': 'SBG_MEW'} completed\n"
          ]
        },
        {
          "output_type": "stream",
          "name": "stderr",
          "text": [
            "03:03:03 - cmdstanpy - INFO - Chain [1] done processing\n",
            "INFO:cmdstanpy:Chain [1] done processing\n",
            "INFO:prophet:n_changepoints greater than number of observations. Using 19.\n",
            "INFO:prophet:n_changepoints greater than number of observations. Using 19.\n",
            "DEBUG:cmdstanpy:input tempfile: /tmp/tmpfdntuhgz/tedosppi.json\n",
            "DEBUG:cmdstanpy:input tempfile: /tmp/tmpfdntuhgz/35x4br94.json\n",
            "DEBUG:cmdstanpy:idx 0\n",
            "DEBUG:cmdstanpy:running CmdStan, num_threads: None\n",
            "DEBUG:cmdstanpy:CmdStan args: ['/usr/local/lib/python3.11/dist-packages/prophet/stan_model/prophet_model.bin', 'random', 'seed=11713', 'data', 'file=/tmp/tmpfdntuhgz/tedosppi.json', 'init=/tmp/tmpfdntuhgz/35x4br94.json', 'output', 'file=/tmp/tmpfdntuhgz/prophet_model6cpcj92r/prophet_model-20250407030303.csv', 'method=optimize', 'algorithm=newton', 'iter=10000']\n",
            "03:03:03 - cmdstanpy - INFO - Chain [1] start processing\n",
            "INFO:cmdstanpy:Chain [1] start processing\n"
          ]
        },
        {
          "output_type": "stream",
          "name": "stdout",
          "text": [
            "Prophet forecast for {'State': 'KY', 'Segment': 'SBG_MEW'} completed\n",
            "Prophet forecast for {'State': 'ME', 'Segment': 'SBG_MEW'} completed\n"
          ]
        },
        {
          "output_type": "stream",
          "name": "stderr",
          "text": [
            "03:03:21 - cmdstanpy - INFO - Chain [1] done processing\n",
            "INFO:cmdstanpy:Chain [1] done processing\n",
            "INFO:prophet:n_changepoints greater than number of observations. Using 19.\n",
            "INFO:prophet:n_changepoints greater than number of observations. Using 19.\n"
          ]
        },
        {
          "output_type": "stream",
          "name": "stdout",
          "text": [
            "Prophet forecast for {'State': 'MO', 'Segment': 'SBG_MEW'} completed\n",
            "Prophet forecast for {'State': 'NH', 'Segment': 'SBG_MEW'} completed\n"
          ]
        },
        {
          "output_type": "stream",
          "name": "stderr",
          "text": [
            "INFO:prophet:n_changepoints greater than number of observations. Using 19.\n",
            "INFO:prophet:n_changepoints greater than number of observations. Using 19.\n",
            "DEBUG:cmdstanpy:input tempfile: /tmp/tmpfdntuhgz/nm_1qmo_.json\n",
            "DEBUG:cmdstanpy:input tempfile: /tmp/tmpfdntuhgz/_pduwnw5.json\n",
            "DEBUG:cmdstanpy:idx 0\n",
            "DEBUG:cmdstanpy:running CmdStan, num_threads: None\n",
            "DEBUG:cmdstanpy:CmdStan args: ['/usr/local/lib/python3.11/dist-packages/prophet/stan_model/prophet_model.bin', 'random', 'seed=51483', 'data', 'file=/tmp/tmpfdntuhgz/nm_1qmo_.json', 'init=/tmp/tmpfdntuhgz/_pduwnw5.json', 'output', 'file=/tmp/tmpfdntuhgz/prophet_modelpt_q3a9u/prophet_model-20250407030321.csv', 'method=optimize', 'algorithm=newton', 'iter=10000']\n",
            "03:03:21 - cmdstanpy - INFO - Chain [1] start processing\n",
            "INFO:cmdstanpy:Chain [1] start processing\n"
          ]
        },
        {
          "output_type": "stream",
          "name": "stdout",
          "text": [
            "Prophet forecast for {'State': 'NV', 'Segment': 'SBG_MEW'} completed\n",
            "Prophet forecast for {'State': 'NY', 'Segment': 'SBG_MEW'} completed\n"
          ]
        },
        {
          "output_type": "stream",
          "name": "stderr",
          "text": [
            "03:03:22 - cmdstanpy - INFO - Chain [1] done processing\n",
            "INFO:cmdstanpy:Chain [1] done processing\n",
            "INFO:prophet:n_changepoints greater than number of observations. Using 19.\n",
            "DEBUG:cmdstanpy:input tempfile: /tmp/tmpfdntuhgz/kiojf6a3.json\n",
            "DEBUG:cmdstanpy:input tempfile: /tmp/tmpfdntuhgz/y1i6vgc1.json\n",
            "DEBUG:cmdstanpy:idx 0\n",
            "DEBUG:cmdstanpy:running CmdStan, num_threads: None\n",
            "DEBUG:cmdstanpy:CmdStan args: ['/usr/local/lib/python3.11/dist-packages/prophet/stan_model/prophet_model.bin', 'random', 'seed=97073', 'data', 'file=/tmp/tmpfdntuhgz/kiojf6a3.json', 'init=/tmp/tmpfdntuhgz/y1i6vgc1.json', 'output', 'file=/tmp/tmpfdntuhgz/prophet_modelyac308zt/prophet_model-20250407030322.csv', 'method=optimize', 'algorithm=newton', 'iter=10000']\n",
            "03:03:22 - cmdstanpy - INFO - Chain [1] start processing\n",
            "INFO:cmdstanpy:Chain [1] start processing\n"
          ]
        },
        {
          "output_type": "stream",
          "name": "stdout",
          "text": [
            "Prophet forecast for {'State': 'OH', 'Segment': 'SBG_MEW'} completed\n"
          ]
        },
        {
          "output_type": "stream",
          "name": "stderr",
          "text": [
            "03:03:22 - cmdstanpy - INFO - Chain [1] done processing\n",
            "INFO:cmdstanpy:Chain [1] done processing\n",
            "INFO:prophet:n_changepoints greater than number of observations. Using 19.\n",
            "INFO:prophet:n_changepoints greater than number of observations. Using 19.\n",
            "INFO:prophet:n_changepoints greater than number of observations. Using 19.\n",
            "DEBUG:cmdstanpy:input tempfile: /tmp/tmpfdntuhgz/wrgmskyv.json\n",
            "DEBUG:cmdstanpy:input tempfile: /tmp/tmpfdntuhgz/jbsntcxe.json\n",
            "DEBUG:cmdstanpy:idx 0\n",
            "DEBUG:cmdstanpy:running CmdStan, num_threads: None\n",
            "DEBUG:cmdstanpy:CmdStan args: ['/usr/local/lib/python3.11/dist-packages/prophet/stan_model/prophet_model.bin', 'random', 'seed=24377', 'data', 'file=/tmp/tmpfdntuhgz/wrgmskyv.json', 'init=/tmp/tmpfdntuhgz/jbsntcxe.json', 'output', 'file=/tmp/tmpfdntuhgz/prophet_modeld_8h2jyb/prophet_model-20250407030322.csv', 'method=optimize', 'algorithm=newton', 'iter=10000']\n",
            "03:03:22 - cmdstanpy - INFO - Chain [1] start processing\n",
            "INFO:cmdstanpy:Chain [1] start processing\n"
          ]
        },
        {
          "output_type": "stream",
          "name": "stdout",
          "text": [
            "Prophet forecast for {'State': 'VA', 'Segment': 'SBG_MEW'} completed\n",
            "Prophet forecast for {'State': 'WI', 'Segment': 'SBG_MEW'} completed\n",
            "Prophet forecast for {'State': 'CA_HMO', 'Segment': 'LGP_SHP'} completed\n"
          ]
        },
        {
          "output_type": "stream",
          "name": "stderr",
          "text": [
            "03:03:22 - cmdstanpy - INFO - Chain [1] done processing\n",
            "INFO:cmdstanpy:Chain [1] done processing\n",
            "INFO:prophet:n_changepoints greater than number of observations. Using 19.\n",
            "DEBUG:cmdstanpy:input tempfile: /tmp/tmpfdntuhgz/bva65nxo.json\n",
            "DEBUG:cmdstanpy:input tempfile: /tmp/tmpfdntuhgz/zyptyl5c.json\n",
            "DEBUG:cmdstanpy:idx 0\n",
            "DEBUG:cmdstanpy:running CmdStan, num_threads: None\n",
            "DEBUG:cmdstanpy:CmdStan args: ['/usr/local/lib/python3.11/dist-packages/prophet/stan_model/prophet_model.bin', 'random', 'seed=55655', 'data', 'file=/tmp/tmpfdntuhgz/bva65nxo.json', 'init=/tmp/tmpfdntuhgz/zyptyl5c.json', 'output', 'file=/tmp/tmpfdntuhgz/prophet_modelcnedj7y8/prophet_model-20250407030323.csv', 'method=optimize', 'algorithm=newton', 'iter=10000']\n",
            "03:03:23 - cmdstanpy - INFO - Chain [1] start processing\n",
            "INFO:cmdstanpy:Chain [1] start processing\n"
          ]
        },
        {
          "output_type": "stream",
          "name": "stdout",
          "text": [
            "Prophet forecast for {'State': 'CA_PPO', 'Segment': 'LGP_SHP'} completed\n"
          ]
        },
        {
          "output_type": "stream",
          "name": "stderr",
          "text": [
            "03:03:23 - cmdstanpy - INFO - Chain [1] done processing\n",
            "INFO:cmdstanpy:Chain [1] done processing\n",
            "INFO:prophet:n_changepoints greater than number of observations. Using 19.\n",
            "INFO:prophet:n_changepoints greater than number of observations. Using 19.\n",
            "DEBUG:cmdstanpy:input tempfile: /tmp/tmpfdntuhgz/iax_rwtv.json\n",
            "DEBUG:cmdstanpy:input tempfile: /tmp/tmpfdntuhgz/bwtb0poz.json\n",
            "DEBUG:cmdstanpy:idx 0\n",
            "DEBUG:cmdstanpy:running CmdStan, num_threads: None\n",
            "DEBUG:cmdstanpy:CmdStan args: ['/usr/local/lib/python3.11/dist-packages/prophet/stan_model/prophet_model.bin', 'random', 'seed=88876', 'data', 'file=/tmp/tmpfdntuhgz/iax_rwtv.json', 'init=/tmp/tmpfdntuhgz/bwtb0poz.json', 'output', 'file=/tmp/tmpfdntuhgz/prophet_modelnu3oakex/prophet_model-20250407030323.csv', 'method=optimize', 'algorithm=newton', 'iter=10000']\n",
            "03:03:23 - cmdstanpy - INFO - Chain [1] start processing\n",
            "INFO:cmdstanpy:Chain [1] start processing\n"
          ]
        },
        {
          "output_type": "stream",
          "name": "stdout",
          "text": [
            "Prophet forecast for {'State': 'CO', 'Segment': 'LGP_SHP'} completed\n",
            "Prophet forecast for {'State': 'CT', 'Segment': 'LGP_SHP'} completed\n"
          ]
        },
        {
          "output_type": "stream",
          "name": "stderr",
          "text": [
            "03:03:23 - cmdstanpy - INFO - Chain [1] done processing\n",
            "INFO:cmdstanpy:Chain [1] done processing\n",
            "INFO:prophet:n_changepoints greater than number of observations. Using 19.\n",
            "DEBUG:cmdstanpy:input tempfile: /tmp/tmpfdntuhgz/017kaae5.json\n",
            "DEBUG:cmdstanpy:input tempfile: /tmp/tmpfdntuhgz/dbgmorat.json\n",
            "DEBUG:cmdstanpy:idx 0\n",
            "DEBUG:cmdstanpy:running CmdStan, num_threads: None\n",
            "DEBUG:cmdstanpy:CmdStan args: ['/usr/local/lib/python3.11/dist-packages/prophet/stan_model/prophet_model.bin', 'random', 'seed=14975', 'data', 'file=/tmp/tmpfdntuhgz/017kaae5.json', 'init=/tmp/tmpfdntuhgz/dbgmorat.json', 'output', 'file=/tmp/tmpfdntuhgz/prophet_modeliqdtr00h/prophet_model-20250407030323.csv', 'method=optimize', 'algorithm=newton', 'iter=10000']\n",
            "03:03:23 - cmdstanpy - INFO - Chain [1] start processing\n",
            "INFO:cmdstanpy:Chain [1] start processing\n"
          ]
        },
        {
          "output_type": "stream",
          "name": "stdout",
          "text": [
            "Prophet forecast for {'State': 'GA', 'Segment': 'LGP_SHP'} completed\n"
          ]
        },
        {
          "output_type": "stream",
          "name": "stderr",
          "text": [
            "03:03:24 - cmdstanpy - INFO - Chain [1] done processing\n",
            "INFO:cmdstanpy:Chain [1] done processing\n",
            "INFO:prophet:n_changepoints greater than number of observations. Using 19.\n",
            "DEBUG:cmdstanpy:input tempfile: /tmp/tmpfdntuhgz/aa0nnf4s.json\n",
            "DEBUG:cmdstanpy:input tempfile: /tmp/tmpfdntuhgz/t_uxoc4d.json\n",
            "DEBUG:cmdstanpy:idx 0\n",
            "DEBUG:cmdstanpy:running CmdStan, num_threads: None\n",
            "DEBUG:cmdstanpy:CmdStan args: ['/usr/local/lib/python3.11/dist-packages/prophet/stan_model/prophet_model.bin', 'random', 'seed=98624', 'data', 'file=/tmp/tmpfdntuhgz/aa0nnf4s.json', 'init=/tmp/tmpfdntuhgz/t_uxoc4d.json', 'output', 'file=/tmp/tmpfdntuhgz/prophet_model_oexjlb0/prophet_model-20250407030324.csv', 'method=optimize', 'algorithm=newton', 'iter=10000']\n",
            "03:03:24 - cmdstanpy - INFO - Chain [1] start processing\n",
            "INFO:cmdstanpy:Chain [1] start processing\n"
          ]
        },
        {
          "output_type": "stream",
          "name": "stdout",
          "text": [
            "Prophet forecast for {'State': 'IN', 'Segment': 'LGP_SHP'} completed\n"
          ]
        },
        {
          "output_type": "stream",
          "name": "stderr",
          "text": [
            "03:03:24 - cmdstanpy - INFO - Chain [1] done processing\n",
            "INFO:cmdstanpy:Chain [1] done processing\n",
            "INFO:prophet:n_changepoints greater than number of observations. Using 19.\n",
            "DEBUG:cmdstanpy:input tempfile: /tmp/tmpfdntuhgz/y96j1d22.json\n",
            "DEBUG:cmdstanpy:input tempfile: /tmp/tmpfdntuhgz/ruevfiqq.json\n",
            "DEBUG:cmdstanpy:idx 0\n",
            "DEBUG:cmdstanpy:running CmdStan, num_threads: None\n",
            "DEBUG:cmdstanpy:CmdStan args: ['/usr/local/lib/python3.11/dist-packages/prophet/stan_model/prophet_model.bin', 'random', 'seed=20514', 'data', 'file=/tmp/tmpfdntuhgz/y96j1d22.json', 'init=/tmp/tmpfdntuhgz/ruevfiqq.json', 'output', 'file=/tmp/tmpfdntuhgz/prophet_modeleatll9si/prophet_model-20250407030324.csv', 'method=optimize', 'algorithm=newton', 'iter=10000']\n",
            "03:03:24 - cmdstanpy - INFO - Chain [1] start processing\n",
            "INFO:cmdstanpy:Chain [1] start processing\n",
            "03:03:24 - cmdstanpy - INFO - Chain [1] done processing\n",
            "INFO:cmdstanpy:Chain [1] done processing\n"
          ]
        },
        {
          "output_type": "stream",
          "name": "stdout",
          "text": [
            "Prophet forecast for {'State': 'KY', 'Segment': 'LGP_SHP'} completed\n"
          ]
        },
        {
          "output_type": "stream",
          "name": "stderr",
          "text": [
            "INFO:prophet:n_changepoints greater than number of observations. Using 19.\n",
            "DEBUG:cmdstanpy:input tempfile: /tmp/tmpfdntuhgz/lx9kuwsa.json\n",
            "DEBUG:cmdstanpy:input tempfile: /tmp/tmpfdntuhgz/ru93_9rl.json\n",
            "DEBUG:cmdstanpy:idx 0\n",
            "DEBUG:cmdstanpy:running CmdStan, num_threads: None\n",
            "DEBUG:cmdstanpy:CmdStan args: ['/usr/local/lib/python3.11/dist-packages/prophet/stan_model/prophet_model.bin', 'random', 'seed=82782', 'data', 'file=/tmp/tmpfdntuhgz/lx9kuwsa.json', 'init=/tmp/tmpfdntuhgz/ru93_9rl.json', 'output', 'file=/tmp/tmpfdntuhgz/prophet_modellrgp2fhi/prophet_model-20250407030324.csv', 'method=optimize', 'algorithm=newton', 'iter=10000']\n",
            "03:03:24 - cmdstanpy - INFO - Chain [1] start processing\n",
            "INFO:cmdstanpy:Chain [1] start processing\n"
          ]
        },
        {
          "output_type": "stream",
          "name": "stdout",
          "text": [
            "Prophet forecast for {'State': 'ME', 'Segment': 'LGP_SHP'} completed\n"
          ]
        },
        {
          "output_type": "stream",
          "name": "stderr",
          "text": [
            "03:03:25 - cmdstanpy - INFO - Chain [1] done processing\n",
            "INFO:cmdstanpy:Chain [1] done processing\n",
            "INFO:prophet:n_changepoints greater than number of observations. Using 19.\n",
            "DEBUG:cmdstanpy:input tempfile: /tmp/tmpfdntuhgz/8x4e8z43.json\n",
            "DEBUG:cmdstanpy:input tempfile: /tmp/tmpfdntuhgz/4_r9bwae.json\n",
            "DEBUG:cmdstanpy:idx 0\n",
            "DEBUG:cmdstanpy:running CmdStan, num_threads: None\n",
            "DEBUG:cmdstanpy:CmdStan args: ['/usr/local/lib/python3.11/dist-packages/prophet/stan_model/prophet_model.bin', 'random', 'seed=6801', 'data', 'file=/tmp/tmpfdntuhgz/8x4e8z43.json', 'init=/tmp/tmpfdntuhgz/4_r9bwae.json', 'output', 'file=/tmp/tmpfdntuhgz/prophet_model445uhr7e/prophet_model-20250407030325.csv', 'method=optimize', 'algorithm=newton', 'iter=10000']\n",
            "03:03:25 - cmdstanpy - INFO - Chain [1] start processing\n",
            "INFO:cmdstanpy:Chain [1] start processing\n"
          ]
        },
        {
          "output_type": "stream",
          "name": "stdout",
          "text": [
            "Prophet forecast for {'State': 'MO', 'Segment': 'LGP_SHP'} completed\n"
          ]
        },
        {
          "output_type": "stream",
          "name": "stderr",
          "text": [
            "03:03:25 - cmdstanpy - INFO - Chain [1] done processing\n",
            "INFO:cmdstanpy:Chain [1] done processing\n",
            "INFO:prophet:n_changepoints greater than number of observations. Using 19.\n",
            "INFO:prophet:n_changepoints greater than number of observations. Using 19.\n",
            "DEBUG:cmdstanpy:input tempfile: /tmp/tmpfdntuhgz/lq16_usi.json\n",
            "DEBUG:cmdstanpy:input tempfile: /tmp/tmpfdntuhgz/oxus47bo.json\n",
            "DEBUG:cmdstanpy:idx 0\n",
            "DEBUG:cmdstanpy:running CmdStan, num_threads: None\n",
            "DEBUG:cmdstanpy:CmdStan args: ['/usr/local/lib/python3.11/dist-packages/prophet/stan_model/prophet_model.bin', 'random', 'seed=616', 'data', 'file=/tmp/tmpfdntuhgz/lq16_usi.json', 'init=/tmp/tmpfdntuhgz/oxus47bo.json', 'output', 'file=/tmp/tmpfdntuhgz/prophet_modelcyr8f9nl/prophet_model-20250407030325.csv', 'method=optimize', 'algorithm=newton', 'iter=10000']\n",
            "03:03:25 - cmdstanpy - INFO - Chain [1] start processing\n",
            "INFO:cmdstanpy:Chain [1] start processing\n"
          ]
        },
        {
          "output_type": "stream",
          "name": "stdout",
          "text": [
            "Prophet forecast for {'State': 'NH', 'Segment': 'LGP_SHP'} completed\n",
            "Prophet forecast for {'State': 'NV', 'Segment': 'LGP_SHP'} completed\n"
          ]
        },
        {
          "output_type": "stream",
          "name": "stderr",
          "text": [
            "03:03:25 - cmdstanpy - INFO - Chain [1] done processing\n",
            "INFO:cmdstanpy:Chain [1] done processing\n",
            "INFO:prophet:n_changepoints greater than number of observations. Using 19.\n",
            "DEBUG:cmdstanpy:input tempfile: /tmp/tmpfdntuhgz/p108wgbm.json\n",
            "DEBUG:cmdstanpy:input tempfile: /tmp/tmpfdntuhgz/g4iaj54x.json\n",
            "DEBUG:cmdstanpy:idx 0\n",
            "DEBUG:cmdstanpy:running CmdStan, num_threads: None\n",
            "DEBUG:cmdstanpy:CmdStan args: ['/usr/local/lib/python3.11/dist-packages/prophet/stan_model/prophet_model.bin', 'random', 'seed=98453', 'data', 'file=/tmp/tmpfdntuhgz/p108wgbm.json', 'init=/tmp/tmpfdntuhgz/g4iaj54x.json', 'output', 'file=/tmp/tmpfdntuhgz/prophet_model2mmhbhxx/prophet_model-20250407030325.csv', 'method=optimize', 'algorithm=newton', 'iter=10000']\n",
            "03:03:25 - cmdstanpy - INFO - Chain [1] start processing\n",
            "INFO:cmdstanpy:Chain [1] start processing\n"
          ]
        },
        {
          "output_type": "stream",
          "name": "stdout",
          "text": [
            "Prophet forecast for {'State': 'NY', 'Segment': 'LGP_SHP'} completed\n"
          ]
        },
        {
          "output_type": "stream",
          "name": "stderr",
          "text": [
            "03:03:26 - cmdstanpy - INFO - Chain [1] done processing\n",
            "INFO:cmdstanpy:Chain [1] done processing\n",
            "INFO:prophet:n_changepoints greater than number of observations. Using 19.\n",
            "DEBUG:cmdstanpy:input tempfile: /tmp/tmpfdntuhgz/ijbv3qxy.json\n",
            "DEBUG:cmdstanpy:input tempfile: /tmp/tmpfdntuhgz/gdbrv7wq.json\n",
            "DEBUG:cmdstanpy:idx 0\n",
            "DEBUG:cmdstanpy:running CmdStan, num_threads: None\n",
            "DEBUG:cmdstanpy:CmdStan args: ['/usr/local/lib/python3.11/dist-packages/prophet/stan_model/prophet_model.bin', 'random', 'seed=33801', 'data', 'file=/tmp/tmpfdntuhgz/ijbv3qxy.json', 'init=/tmp/tmpfdntuhgz/gdbrv7wq.json', 'output', 'file=/tmp/tmpfdntuhgz/prophet_modelr60bc2ut/prophet_model-20250407030326.csv', 'method=optimize', 'algorithm=newton', 'iter=10000']\n",
            "03:03:26 - cmdstanpy - INFO - Chain [1] start processing\n",
            "INFO:cmdstanpy:Chain [1] start processing\n"
          ]
        },
        {
          "output_type": "stream",
          "name": "stdout",
          "text": [
            "Prophet forecast for {'State': 'OH', 'Segment': 'LGP_SHP'} completed\n"
          ]
        },
        {
          "output_type": "stream",
          "name": "stderr",
          "text": [
            "03:03:26 - cmdstanpy - INFO - Chain [1] done processing\n",
            "INFO:cmdstanpy:Chain [1] done processing\n",
            "INFO:prophet:n_changepoints greater than number of observations. Using 19.\n",
            "DEBUG:cmdstanpy:input tempfile: /tmp/tmpfdntuhgz/ps7w4spo.json\n",
            "DEBUG:cmdstanpy:input tempfile: /tmp/tmpfdntuhgz/_nkm5_11.json\n",
            "DEBUG:cmdstanpy:idx 0\n",
            "DEBUG:cmdstanpy:running CmdStan, num_threads: None\n",
            "DEBUG:cmdstanpy:CmdStan args: ['/usr/local/lib/python3.11/dist-packages/prophet/stan_model/prophet_model.bin', 'random', 'seed=27954', 'data', 'file=/tmp/tmpfdntuhgz/ps7w4spo.json', 'init=/tmp/tmpfdntuhgz/_nkm5_11.json', 'output', 'file=/tmp/tmpfdntuhgz/prophet_modelzurchc89/prophet_model-20250407030326.csv', 'method=optimize', 'algorithm=newton', 'iter=10000']\n",
            "03:03:26 - cmdstanpy - INFO - Chain [1] start processing\n",
            "INFO:cmdstanpy:Chain [1] start processing\n"
          ]
        },
        {
          "output_type": "stream",
          "name": "stdout",
          "text": [
            "Prophet forecast for {'State': 'VA', 'Segment': 'LGP_SHP'} completed\n"
          ]
        },
        {
          "output_type": "stream",
          "name": "stderr",
          "text": [
            "03:03:26 - cmdstanpy - INFO - Chain [1] done processing\n",
            "INFO:cmdstanpy:Chain [1] done processing\n",
            "INFO:prophet:n_changepoints greater than number of observations. Using 19.\n",
            "DEBUG:cmdstanpy:input tempfile: /tmp/tmpfdntuhgz/a7efxv0h.json\n",
            "DEBUG:cmdstanpy:input tempfile: /tmp/tmpfdntuhgz/2bpu_150.json\n",
            "DEBUG:cmdstanpy:idx 0\n",
            "DEBUG:cmdstanpy:running CmdStan, num_threads: None\n",
            "DEBUG:cmdstanpy:CmdStan args: ['/usr/local/lib/python3.11/dist-packages/prophet/stan_model/prophet_model.bin', 'random', 'seed=39841', 'data', 'file=/tmp/tmpfdntuhgz/a7efxv0h.json', 'init=/tmp/tmpfdntuhgz/2bpu_150.json', 'output', 'file=/tmp/tmpfdntuhgz/prophet_modelrmcgua12/prophet_model-20250407030326.csv', 'method=optimize', 'algorithm=newton', 'iter=10000']\n",
            "03:03:26 - cmdstanpy - INFO - Chain [1] start processing\n",
            "INFO:cmdstanpy:Chain [1] start processing\n"
          ]
        },
        {
          "output_type": "stream",
          "name": "stdout",
          "text": [
            "Prophet forecast for {'State': 'WI', 'Segment': 'LGP_SHP'} completed\n"
          ]
        },
        {
          "output_type": "stream",
          "name": "stderr",
          "text": [
            "03:03:43 - cmdstanpy - INFO - Chain [1] done processing\n",
            "INFO:cmdstanpy:Chain [1] done processing\n",
            "INFO:prophet:n_changepoints greater than number of observations. Using 19.\n",
            "DEBUG:cmdstanpy:input tempfile: /tmp/tmpfdntuhgz/79iqogha.json\n",
            "DEBUG:cmdstanpy:input tempfile: /tmp/tmpfdntuhgz/reia31xi.json\n",
            "DEBUG:cmdstanpy:idx 0\n",
            "DEBUG:cmdstanpy:running CmdStan, num_threads: None\n",
            "DEBUG:cmdstanpy:CmdStan args: ['/usr/local/lib/python3.11/dist-packages/prophet/stan_model/prophet_model.bin', 'random', 'seed=31893', 'data', 'file=/tmp/tmpfdntuhgz/79iqogha.json', 'init=/tmp/tmpfdntuhgz/reia31xi.json', 'output', 'file=/tmp/tmpfdntuhgz/prophet_model75w0lxtl/prophet_model-20250407030343.csv', 'method=optimize', 'algorithm=newton', 'iter=10000']\n",
            "03:03:43 - cmdstanpy - INFO - Chain [1] start processing\n",
            "INFO:cmdstanpy:Chain [1] start processing\n"
          ]
        },
        {
          "output_type": "stream",
          "name": "stdout",
          "text": [
            "Prophet forecast for {'State': 'CA_HMO', 'Segment': 'LGP_NRF'} completed\n"
          ]
        },
        {
          "output_type": "stream",
          "name": "stderr",
          "text": [
            "03:03:43 - cmdstanpy - INFO - Chain [1] done processing\n",
            "INFO:cmdstanpy:Chain [1] done processing\n",
            "INFO:prophet:n_changepoints greater than number of observations. Using 19.\n",
            "DEBUG:cmdstanpy:input tempfile: /tmp/tmpfdntuhgz/zb3hot2j.json\n",
            "DEBUG:cmdstanpy:input tempfile: /tmp/tmpfdntuhgz/22k8g2pg.json\n",
            "DEBUG:cmdstanpy:idx 0\n",
            "DEBUG:cmdstanpy:running CmdStan, num_threads: None\n",
            "DEBUG:cmdstanpy:CmdStan args: ['/usr/local/lib/python3.11/dist-packages/prophet/stan_model/prophet_model.bin', 'random', 'seed=53242', 'data', 'file=/tmp/tmpfdntuhgz/zb3hot2j.json', 'init=/tmp/tmpfdntuhgz/22k8g2pg.json', 'output', 'file=/tmp/tmpfdntuhgz/prophet_modelrcsut20c/prophet_model-20250407030343.csv', 'method=optimize', 'algorithm=newton', 'iter=10000']\n",
            "03:03:43 - cmdstanpy - INFO - Chain [1] start processing\n",
            "INFO:cmdstanpy:Chain [1] start processing\n"
          ]
        },
        {
          "output_type": "stream",
          "name": "stdout",
          "text": [
            "Prophet forecast for {'State': 'CA_PPO', 'Segment': 'LGP_NRF'} completed\n"
          ]
        },
        {
          "output_type": "stream",
          "name": "stderr",
          "text": [
            "03:04:01 - cmdstanpy - INFO - Chain [1] done processing\n",
            "INFO:cmdstanpy:Chain [1] done processing\n",
            "INFO:prophet:n_changepoints greater than number of observations. Using 19.\n",
            "DEBUG:cmdstanpy:input tempfile: /tmp/tmpfdntuhgz/xvsofpji.json\n",
            "DEBUG:cmdstanpy:input tempfile: /tmp/tmpfdntuhgz/ligzf9gn.json\n",
            "DEBUG:cmdstanpy:idx 0\n",
            "DEBUG:cmdstanpy:running CmdStan, num_threads: None\n",
            "DEBUG:cmdstanpy:CmdStan args: ['/usr/local/lib/python3.11/dist-packages/prophet/stan_model/prophet_model.bin', 'random', 'seed=67017', 'data', 'file=/tmp/tmpfdntuhgz/xvsofpji.json', 'init=/tmp/tmpfdntuhgz/ligzf9gn.json', 'output', 'file=/tmp/tmpfdntuhgz/prophet_model0onmzjr6/prophet_model-20250407030402.csv', 'method=optimize', 'algorithm=newton', 'iter=10000']\n",
            "03:04:02 - cmdstanpy - INFO - Chain [1] start processing\n",
            "INFO:cmdstanpy:Chain [1] start processing\n"
          ]
        },
        {
          "output_type": "stream",
          "name": "stdout",
          "text": [
            "Prophet forecast for {'State': 'CO', 'Segment': 'LGP_NRF'} completed\n"
          ]
        },
        {
          "output_type": "stream",
          "name": "stderr",
          "text": [
            "03:04:02 - cmdstanpy - INFO - Chain [1] done processing\n",
            "INFO:cmdstanpy:Chain [1] done processing\n",
            "INFO:prophet:n_changepoints greater than number of observations. Using 19.\n",
            "DEBUG:cmdstanpy:input tempfile: /tmp/tmpfdntuhgz/lfus157n.json\n",
            "DEBUG:cmdstanpy:input tempfile: /tmp/tmpfdntuhgz/dfxlczv6.json\n",
            "DEBUG:cmdstanpy:idx 0\n",
            "DEBUG:cmdstanpy:running CmdStan, num_threads: None\n",
            "DEBUG:cmdstanpy:CmdStan args: ['/usr/local/lib/python3.11/dist-packages/prophet/stan_model/prophet_model.bin', 'random', 'seed=87569', 'data', 'file=/tmp/tmpfdntuhgz/lfus157n.json', 'init=/tmp/tmpfdntuhgz/dfxlczv6.json', 'output', 'file=/tmp/tmpfdntuhgz/prophet_modelfftzxf_r/prophet_model-20250407030402.csv', 'method=optimize', 'algorithm=newton', 'iter=10000']\n",
            "03:04:02 - cmdstanpy - INFO - Chain [1] start processing\n",
            "INFO:cmdstanpy:Chain [1] start processing\n"
          ]
        },
        {
          "output_type": "stream",
          "name": "stdout",
          "text": [
            "Prophet forecast for {'State': 'CT', 'Segment': 'LGP_NRF'} completed\n"
          ]
        },
        {
          "output_type": "stream",
          "name": "stderr",
          "text": [
            "03:04:02 - cmdstanpy - INFO - Chain [1] done processing\n",
            "INFO:cmdstanpy:Chain [1] done processing\n",
            "INFO:prophet:n_changepoints greater than number of observations. Using 19.\n",
            "DEBUG:cmdstanpy:input tempfile: /tmp/tmpfdntuhgz/g2rcrstm.json\n",
            "DEBUG:cmdstanpy:input tempfile: /tmp/tmpfdntuhgz/5s2ah11i.json\n",
            "DEBUG:cmdstanpy:idx 0\n",
            "DEBUG:cmdstanpy:running CmdStan, num_threads: None\n",
            "DEBUG:cmdstanpy:CmdStan args: ['/usr/local/lib/python3.11/dist-packages/prophet/stan_model/prophet_model.bin', 'random', 'seed=40075', 'data', 'file=/tmp/tmpfdntuhgz/g2rcrstm.json', 'init=/tmp/tmpfdntuhgz/5s2ah11i.json', 'output', 'file=/tmp/tmpfdntuhgz/prophet_modelj35t8aac/prophet_model-20250407030402.csv', 'method=optimize', 'algorithm=newton', 'iter=10000']\n",
            "03:04:02 - cmdstanpy - INFO - Chain [1] start processing\n",
            "INFO:cmdstanpy:Chain [1] start processing\n"
          ]
        },
        {
          "output_type": "stream",
          "name": "stdout",
          "text": [
            "Prophet forecast for {'State': 'GA', 'Segment': 'LGP_NRF'} completed\n"
          ]
        },
        {
          "output_type": "stream",
          "name": "stderr",
          "text": [
            "03:04:19 - cmdstanpy - INFO - Chain [1] done processing\n",
            "INFO:cmdstanpy:Chain [1] done processing\n",
            "INFO:prophet:n_changepoints greater than number of observations. Using 19.\n",
            "DEBUG:cmdstanpy:input tempfile: /tmp/tmpfdntuhgz/2rxv61q0.json\n",
            "DEBUG:cmdstanpy:input tempfile: /tmp/tmpfdntuhgz/ttj0p3yn.json\n",
            "DEBUG:cmdstanpy:idx 0\n",
            "DEBUG:cmdstanpy:running CmdStan, num_threads: None\n",
            "DEBUG:cmdstanpy:CmdStan args: ['/usr/local/lib/python3.11/dist-packages/prophet/stan_model/prophet_model.bin', 'random', 'seed=89740', 'data', 'file=/tmp/tmpfdntuhgz/2rxv61q0.json', 'init=/tmp/tmpfdntuhgz/ttj0p3yn.json', 'output', 'file=/tmp/tmpfdntuhgz/prophet_modelwxao19yr/prophet_model-20250407030419.csv', 'method=optimize', 'algorithm=newton', 'iter=10000']\n",
            "03:04:19 - cmdstanpy - INFO - Chain [1] start processing\n",
            "INFO:cmdstanpy:Chain [1] start processing\n"
          ]
        },
        {
          "output_type": "stream",
          "name": "stdout",
          "text": [
            "Prophet forecast for {'State': 'IN', 'Segment': 'LGP_NRF'} completed\n"
          ]
        },
        {
          "output_type": "stream",
          "name": "stderr",
          "text": [
            "03:04:20 - cmdstanpy - INFO - Chain [1] done processing\n",
            "INFO:cmdstanpy:Chain [1] done processing\n",
            "INFO:prophet:n_changepoints greater than number of observations. Using 19.\n",
            "DEBUG:cmdstanpy:input tempfile: /tmp/tmpfdntuhgz/hu_w5k_f.json\n",
            "DEBUG:cmdstanpy:input tempfile: /tmp/tmpfdntuhgz/3ol_k554.json\n",
            "DEBUG:cmdstanpy:idx 0\n",
            "DEBUG:cmdstanpy:running CmdStan, num_threads: None\n",
            "DEBUG:cmdstanpy:CmdStan args: ['/usr/local/lib/python3.11/dist-packages/prophet/stan_model/prophet_model.bin', 'random', 'seed=90938', 'data', 'file=/tmp/tmpfdntuhgz/hu_w5k_f.json', 'init=/tmp/tmpfdntuhgz/3ol_k554.json', 'output', 'file=/tmp/tmpfdntuhgz/prophet_model753_ut70/prophet_model-20250407030420.csv', 'method=optimize', 'algorithm=newton', 'iter=10000']\n",
            "03:04:20 - cmdstanpy - INFO - Chain [1] start processing\n",
            "INFO:cmdstanpy:Chain [1] start processing\n"
          ]
        },
        {
          "output_type": "stream",
          "name": "stdout",
          "text": [
            "Prophet forecast for {'State': 'KY', 'Segment': 'LGP_NRF'} completed\n"
          ]
        },
        {
          "output_type": "stream",
          "name": "stderr",
          "text": [
            "03:04:20 - cmdstanpy - INFO - Chain [1] done processing\n",
            "INFO:cmdstanpy:Chain [1] done processing\n",
            "INFO:prophet:n_changepoints greater than number of observations. Using 19.\n",
            "DEBUG:cmdstanpy:input tempfile: /tmp/tmpfdntuhgz/uie394up.json\n",
            "DEBUG:cmdstanpy:input tempfile: /tmp/tmpfdntuhgz/p2i1zmwl.json\n",
            "DEBUG:cmdstanpy:idx 0\n",
            "DEBUG:cmdstanpy:running CmdStan, num_threads: None\n",
            "DEBUG:cmdstanpy:CmdStan args: ['/usr/local/lib/python3.11/dist-packages/prophet/stan_model/prophet_model.bin', 'random', 'seed=7632', 'data', 'file=/tmp/tmpfdntuhgz/uie394up.json', 'init=/tmp/tmpfdntuhgz/p2i1zmwl.json', 'output', 'file=/tmp/tmpfdntuhgz/prophet_modelzaiks3oj/prophet_model-20250407030420.csv', 'method=optimize', 'algorithm=newton', 'iter=10000']\n",
            "03:04:20 - cmdstanpy - INFO - Chain [1] start processing\n",
            "INFO:cmdstanpy:Chain [1] start processing\n"
          ]
        },
        {
          "output_type": "stream",
          "name": "stdout",
          "text": [
            "Prophet forecast for {'State': 'ME', 'Segment': 'LGP_NRF'} completed\n"
          ]
        },
        {
          "output_type": "stream",
          "name": "stderr",
          "text": [
            "03:04:37 - cmdstanpy - INFO - Chain [1] done processing\n",
            "INFO:cmdstanpy:Chain [1] done processing\n",
            "INFO:prophet:n_changepoints greater than number of observations. Using 19.\n",
            "DEBUG:cmdstanpy:input tempfile: /tmp/tmpfdntuhgz/h_yhxbid.json\n",
            "DEBUG:cmdstanpy:input tempfile: /tmp/tmpfdntuhgz/hfjqy2fb.json\n",
            "DEBUG:cmdstanpy:idx 0\n",
            "DEBUG:cmdstanpy:running CmdStan, num_threads: None\n",
            "DEBUG:cmdstanpy:CmdStan args: ['/usr/local/lib/python3.11/dist-packages/prophet/stan_model/prophet_model.bin', 'random', 'seed=42498', 'data', 'file=/tmp/tmpfdntuhgz/h_yhxbid.json', 'init=/tmp/tmpfdntuhgz/hfjqy2fb.json', 'output', 'file=/tmp/tmpfdntuhgz/prophet_model1qximfew/prophet_model-20250407030437.csv', 'method=optimize', 'algorithm=newton', 'iter=10000']\n",
            "03:04:37 - cmdstanpy - INFO - Chain [1] start processing\n",
            "INFO:cmdstanpy:Chain [1] start processing\n"
          ]
        },
        {
          "output_type": "stream",
          "name": "stdout",
          "text": [
            "Prophet forecast for {'State': 'MO', 'Segment': 'LGP_NRF'} completed\n"
          ]
        },
        {
          "output_type": "stream",
          "name": "stderr",
          "text": [
            "03:04:56 - cmdstanpy - INFO - Chain [1] done processing\n",
            "INFO:cmdstanpy:Chain [1] done processing\n",
            "INFO:prophet:n_changepoints greater than number of observations. Using 19.\n",
            "DEBUG:cmdstanpy:input tempfile: /tmp/tmpfdntuhgz/katufi47.json\n",
            "DEBUG:cmdstanpy:input tempfile: /tmp/tmpfdntuhgz/4s_cj260.json\n",
            "DEBUG:cmdstanpy:idx 0\n",
            "DEBUG:cmdstanpy:running CmdStan, num_threads: None\n",
            "DEBUG:cmdstanpy:CmdStan args: ['/usr/local/lib/python3.11/dist-packages/prophet/stan_model/prophet_model.bin', 'random', 'seed=75925', 'data', 'file=/tmp/tmpfdntuhgz/katufi47.json', 'init=/tmp/tmpfdntuhgz/4s_cj260.json', 'output', 'file=/tmp/tmpfdntuhgz/prophet_modeli6emvt8j/prophet_model-20250407030456.csv', 'method=optimize', 'algorithm=newton', 'iter=10000']\n",
            "03:04:56 - cmdstanpy - INFO - Chain [1] start processing\n",
            "INFO:cmdstanpy:Chain [1] start processing\n"
          ]
        },
        {
          "output_type": "stream",
          "name": "stdout",
          "text": [
            "Prophet forecast for {'State': 'NH', 'Segment': 'LGP_NRF'} completed\n"
          ]
        },
        {
          "output_type": "stream",
          "name": "stderr",
          "text": [
            "03:04:56 - cmdstanpy - INFO - Chain [1] done processing\n",
            "INFO:cmdstanpy:Chain [1] done processing\n",
            "INFO:prophet:n_changepoints greater than number of observations. Using 19.\n",
            "DEBUG:cmdstanpy:input tempfile: /tmp/tmpfdntuhgz/rq3z0rde.json\n",
            "DEBUG:cmdstanpy:input tempfile: /tmp/tmpfdntuhgz/e09ie9vt.json\n",
            "DEBUG:cmdstanpy:idx 0\n",
            "DEBUG:cmdstanpy:running CmdStan, num_threads: None\n",
            "DEBUG:cmdstanpy:CmdStan args: ['/usr/local/lib/python3.11/dist-packages/prophet/stan_model/prophet_model.bin', 'random', 'seed=38918', 'data', 'file=/tmp/tmpfdntuhgz/rq3z0rde.json', 'init=/tmp/tmpfdntuhgz/e09ie9vt.json', 'output', 'file=/tmp/tmpfdntuhgz/prophet_modelz3235kaq/prophet_model-20250407030456.csv', 'method=optimize', 'algorithm=newton', 'iter=10000']\n",
            "03:04:56 - cmdstanpy - INFO - Chain [1] start processing\n",
            "INFO:cmdstanpy:Chain [1] start processing\n"
          ]
        },
        {
          "output_type": "stream",
          "name": "stdout",
          "text": [
            "Prophet forecast for {'State': 'NV', 'Segment': 'LGP_NRF'} completed\n"
          ]
        },
        {
          "output_type": "stream",
          "name": "stderr",
          "text": [
            "03:04:57 - cmdstanpy - INFO - Chain [1] done processing\n",
            "INFO:cmdstanpy:Chain [1] done processing\n",
            "INFO:prophet:n_changepoints greater than number of observations. Using 19.\n",
            "DEBUG:cmdstanpy:input tempfile: /tmp/tmpfdntuhgz/0_ecmh5j.json\n",
            "DEBUG:cmdstanpy:input tempfile: /tmp/tmpfdntuhgz/p0_thmee.json\n",
            "DEBUG:cmdstanpy:idx 0\n",
            "DEBUG:cmdstanpy:running CmdStan, num_threads: None\n",
            "DEBUG:cmdstanpy:CmdStan args: ['/usr/local/lib/python3.11/dist-packages/prophet/stan_model/prophet_model.bin', 'random', 'seed=49804', 'data', 'file=/tmp/tmpfdntuhgz/0_ecmh5j.json', 'init=/tmp/tmpfdntuhgz/p0_thmee.json', 'output', 'file=/tmp/tmpfdntuhgz/prophet_models8ka8d9l/prophet_model-20250407030457.csv', 'method=optimize', 'algorithm=newton', 'iter=10000']\n",
            "03:04:57 - cmdstanpy - INFO - Chain [1] start processing\n",
            "INFO:cmdstanpy:Chain [1] start processing\n"
          ]
        },
        {
          "output_type": "stream",
          "name": "stdout",
          "text": [
            "Prophet forecast for {'State': 'NY', 'Segment': 'LGP_NRF'} completed\n"
          ]
        },
        {
          "output_type": "stream",
          "name": "stderr",
          "text": [
            "03:04:57 - cmdstanpy - INFO - Chain [1] done processing\n",
            "INFO:cmdstanpy:Chain [1] done processing\n",
            "INFO:prophet:n_changepoints greater than number of observations. Using 19.\n",
            "DEBUG:cmdstanpy:input tempfile: /tmp/tmpfdntuhgz/1rwm5vbo.json\n",
            "DEBUG:cmdstanpy:input tempfile: /tmp/tmpfdntuhgz/2k3wz93m.json\n",
            "DEBUG:cmdstanpy:idx 0\n",
            "DEBUG:cmdstanpy:running CmdStan, num_threads: None\n",
            "DEBUG:cmdstanpy:CmdStan args: ['/usr/local/lib/python3.11/dist-packages/prophet/stan_model/prophet_model.bin', 'random', 'seed=71751', 'data', 'file=/tmp/tmpfdntuhgz/1rwm5vbo.json', 'init=/tmp/tmpfdntuhgz/2k3wz93m.json', 'output', 'file=/tmp/tmpfdntuhgz/prophet_modelbl6z_1vr/prophet_model-20250407030457.csv', 'method=optimize', 'algorithm=newton', 'iter=10000']\n",
            "03:04:57 - cmdstanpy - INFO - Chain [1] start processing\n",
            "INFO:cmdstanpy:Chain [1] start processing\n"
          ]
        },
        {
          "output_type": "stream",
          "name": "stdout",
          "text": [
            "Prophet forecast for {'State': 'OH', 'Segment': 'LGP_NRF'} completed\n"
          ]
        },
        {
          "output_type": "stream",
          "name": "stderr",
          "text": [
            "03:04:57 - cmdstanpy - INFO - Chain [1] done processing\n",
            "INFO:cmdstanpy:Chain [1] done processing\n",
            "INFO:prophet:n_changepoints greater than number of observations. Using 19.\n",
            "DEBUG:cmdstanpy:input tempfile: /tmp/tmpfdntuhgz/eynu_itv.json\n",
            "DEBUG:cmdstanpy:input tempfile: /tmp/tmpfdntuhgz/uq407f_b.json\n",
            "DEBUG:cmdstanpy:idx 0\n",
            "DEBUG:cmdstanpy:running CmdStan, num_threads: None\n",
            "DEBUG:cmdstanpy:CmdStan args: ['/usr/local/lib/python3.11/dist-packages/prophet/stan_model/prophet_model.bin', 'random', 'seed=34387', 'data', 'file=/tmp/tmpfdntuhgz/eynu_itv.json', 'init=/tmp/tmpfdntuhgz/uq407f_b.json', 'output', 'file=/tmp/tmpfdntuhgz/prophet_model9h_v4n_m/prophet_model-20250407030458.csv', 'method=optimize', 'algorithm=newton', 'iter=10000']\n",
            "03:04:58 - cmdstanpy - INFO - Chain [1] start processing\n",
            "INFO:cmdstanpy:Chain [1] start processing\n"
          ]
        },
        {
          "output_type": "stream",
          "name": "stdout",
          "text": [
            "Prophet forecast for {'State': 'VA', 'Segment': 'LGP_NRF'} completed\n"
          ]
        },
        {
          "output_type": "stream",
          "name": "stderr",
          "text": [
            "03:04:58 - cmdstanpy - INFO - Chain [1] done processing\n",
            "INFO:cmdstanpy:Chain [1] done processing\n"
          ]
        },
        {
          "output_type": "stream",
          "name": "stdout",
          "text": [
            "Prophet forecast for {'State': 'WI', 'Segment': 'LGP_NRF'} completed\n",
            "Prophet forecasting completed for 108 out of 108 groups\n",
            "Training ML models for Rx\n",
            "Starting ML forecasts for 108 groups\n",
            "Creating ensemble forecast for Rx\n",
            "Creating ensemble from methods: ['sarima', 'prophet', 'rf', 'xgb']\n",
            "Ensemble forecast for Rx: Mean for 2025 = 7005146.72 ENSEMBLE\n",
            "Creating derived forecasts from MMOS\n",
            "Average group-level ratios: Med=384.88, Rx=126.83 DERIVED_RATIOS\n",
            "Combining direct and derived forecasts\n"
          ]
        },
        {
          "output_type": "stream",
          "name": "stderr",
          "text": [
            "<ipython-input-59-84dfe45d726d>:54: DeprecationWarning: DataFrameGroupBy.apply operated on the grouping columns. This behavior is deprecated, and in a future version of pandas the grouping columns will be excluded from the operation. Either pass `include_groups=False` to exclude the groupings or explicitly select the grouping columns after groupby to silence this warning.\n",
            "  ratio_data = data.groupby(group_cols).apply(\n"
          ]
        },
        {
          "output_type": "error",
          "ename": "ZeroDivisionError",
          "evalue": "float division by zero",
          "traceback": [
            "\u001b[0;31m---------------------------------------------------------------------------\u001b[0m",
            "\u001b[0;31mZeroDivisionError\u001b[0m                         Traceback (most recent call last)",
            "\u001b[0;32m<ipython-input-64-95ef9137cb93>\u001b[0m in \u001b[0;36m<cell line: 0>\u001b[0;34m()\u001b[0m\n\u001b[1;32m    106\u001b[0m \u001b[0;34m\u001b[0m\u001b[0m\n\u001b[1;32m    107\u001b[0m \u001b[0;31m# Create and log PMPM metrics for final forecasts\u001b[0m\u001b[0;34m\u001b[0m\u001b[0;34m\u001b[0m\u001b[0m\n\u001b[0;32m--> 108\u001b[0;31m \u001b[0mfinal_forecasts\u001b[0m\u001b[0;34m[\u001b[0m\u001b[0;34m'Med-Total_PMPM'\u001b[0m\u001b[0;34m]\u001b[0m \u001b[0;34m=\u001b[0m \u001b[0mfinal_forecasts\u001b[0m\u001b[0;34m[\u001b[0m\u001b[0;34m'Med-Total_final'\u001b[0m\u001b[0;34m]\u001b[0m \u001b[0;34m/\u001b[0m \u001b[0mfinal_forecasts\u001b[0m\u001b[0;34m[\u001b[0m\u001b[0;34m'mmos_forecast_ensemble'\u001b[0m\u001b[0;34m]\u001b[0m\u001b[0;34m\u001b[0m\u001b[0;34m\u001b[0m\u001b[0m\n\u001b[0m\u001b[1;32m    109\u001b[0m \u001b[0mfinal_forecasts\u001b[0m\u001b[0;34m[\u001b[0m\u001b[0;34m'Rx_PMPM'\u001b[0m\u001b[0;34m]\u001b[0m \u001b[0;34m=\u001b[0m \u001b[0mfinal_forecasts\u001b[0m\u001b[0;34m[\u001b[0m\u001b[0;34m'Rx_final'\u001b[0m\u001b[0;34m]\u001b[0m \u001b[0;34m/\u001b[0m \u001b[0mfinal_forecasts\u001b[0m\u001b[0;34m[\u001b[0m\u001b[0;34m'mmos_forecast_ensemble'\u001b[0m\u001b[0;34m]\u001b[0m\u001b[0;34m\u001b[0m\u001b[0;34m\u001b[0m\u001b[0m\n\u001b[1;32m    110\u001b[0m \u001b[0;34m\u001b[0m\u001b[0m\n",
            "\u001b[0;32m/usr/local/lib/python3.11/dist-packages/pandas/core/ops/common.py\u001b[0m in \u001b[0;36mnew_method\u001b[0;34m(self, other)\u001b[0m\n\u001b[1;32m     74\u001b[0m         \u001b[0mother\u001b[0m \u001b[0;34m=\u001b[0m \u001b[0mitem_from_zerodim\u001b[0m\u001b[0;34m(\u001b[0m\u001b[0mother\u001b[0m\u001b[0;34m)\u001b[0m\u001b[0;34m\u001b[0m\u001b[0;34m\u001b[0m\u001b[0m\n\u001b[1;32m     75\u001b[0m \u001b[0;34m\u001b[0m\u001b[0m\n\u001b[0;32m---> 76\u001b[0;31m         \u001b[0;32mreturn\u001b[0m \u001b[0mmethod\u001b[0m\u001b[0;34m(\u001b[0m\u001b[0mself\u001b[0m\u001b[0;34m,\u001b[0m \u001b[0mother\u001b[0m\u001b[0;34m)\u001b[0m\u001b[0;34m\u001b[0m\u001b[0;34m\u001b[0m\u001b[0m\n\u001b[0m\u001b[1;32m     77\u001b[0m \u001b[0;34m\u001b[0m\u001b[0m\n\u001b[1;32m     78\u001b[0m     \u001b[0;32mreturn\u001b[0m \u001b[0mnew_method\u001b[0m\u001b[0;34m\u001b[0m\u001b[0;34m\u001b[0m\u001b[0m\n",
            "\u001b[0;32m/usr/local/lib/python3.11/dist-packages/pandas/core/arraylike.py\u001b[0m in \u001b[0;36m__truediv__\u001b[0;34m(self, other)\u001b[0m\n\u001b[1;32m    208\u001b[0m     \u001b[0;34m@\u001b[0m\u001b[0munpack_zerodim_and_defer\u001b[0m\u001b[0;34m(\u001b[0m\u001b[0;34m\"__truediv__\"\u001b[0m\u001b[0;34m)\u001b[0m\u001b[0;34m\u001b[0m\u001b[0;34m\u001b[0m\u001b[0m\n\u001b[1;32m    209\u001b[0m     \u001b[0;32mdef\u001b[0m \u001b[0m__truediv__\u001b[0m\u001b[0;34m(\u001b[0m\u001b[0mself\u001b[0m\u001b[0;34m,\u001b[0m \u001b[0mother\u001b[0m\u001b[0;34m)\u001b[0m\u001b[0;34m:\u001b[0m\u001b[0;34m\u001b[0m\u001b[0;34m\u001b[0m\u001b[0m\n\u001b[0;32m--> 210\u001b[0;31m         \u001b[0;32mreturn\u001b[0m \u001b[0mself\u001b[0m\u001b[0;34m.\u001b[0m\u001b[0m_arith_method\u001b[0m\u001b[0;34m(\u001b[0m\u001b[0mother\u001b[0m\u001b[0;34m,\u001b[0m \u001b[0moperator\u001b[0m\u001b[0;34m.\u001b[0m\u001b[0mtruediv\u001b[0m\u001b[0;34m)\u001b[0m\u001b[0;34m\u001b[0m\u001b[0;34m\u001b[0m\u001b[0m\n\u001b[0m\u001b[1;32m    211\u001b[0m \u001b[0;34m\u001b[0m\u001b[0m\n\u001b[1;32m    212\u001b[0m     \u001b[0;34m@\u001b[0m\u001b[0munpack_zerodim_and_defer\u001b[0m\u001b[0;34m(\u001b[0m\u001b[0;34m\"__rtruediv__\"\u001b[0m\u001b[0;34m)\u001b[0m\u001b[0;34m\u001b[0m\u001b[0;34m\u001b[0m\u001b[0m\n",
            "\u001b[0;32m/usr/local/lib/python3.11/dist-packages/pandas/core/series.py\u001b[0m in \u001b[0;36m_arith_method\u001b[0;34m(self, other, op)\u001b[0m\n\u001b[1;32m   6133\u001b[0m     \u001b[0;32mdef\u001b[0m \u001b[0m_arith_method\u001b[0m\u001b[0;34m(\u001b[0m\u001b[0mself\u001b[0m\u001b[0;34m,\u001b[0m \u001b[0mother\u001b[0m\u001b[0;34m,\u001b[0m \u001b[0mop\u001b[0m\u001b[0;34m)\u001b[0m\u001b[0;34m:\u001b[0m\u001b[0;34m\u001b[0m\u001b[0;34m\u001b[0m\u001b[0m\n\u001b[1;32m   6134\u001b[0m         \u001b[0mself\u001b[0m\u001b[0;34m,\u001b[0m \u001b[0mother\u001b[0m \u001b[0;34m=\u001b[0m \u001b[0mself\u001b[0m\u001b[0;34m.\u001b[0m\u001b[0m_align_for_op\u001b[0m\u001b[0;34m(\u001b[0m\u001b[0mother\u001b[0m\u001b[0;34m)\u001b[0m\u001b[0;34m\u001b[0m\u001b[0;34m\u001b[0m\u001b[0m\n\u001b[0;32m-> 6135\u001b[0;31m         \u001b[0;32mreturn\u001b[0m \u001b[0mbase\u001b[0m\u001b[0;34m.\u001b[0m\u001b[0mIndexOpsMixin\u001b[0m\u001b[0;34m.\u001b[0m\u001b[0m_arith_method\u001b[0m\u001b[0;34m(\u001b[0m\u001b[0mself\u001b[0m\u001b[0;34m,\u001b[0m \u001b[0mother\u001b[0m\u001b[0;34m,\u001b[0m \u001b[0mop\u001b[0m\u001b[0;34m)\u001b[0m\u001b[0;34m\u001b[0m\u001b[0;34m\u001b[0m\u001b[0m\n\u001b[0m\u001b[1;32m   6136\u001b[0m \u001b[0;34m\u001b[0m\u001b[0m\n\u001b[1;32m   6137\u001b[0m     \u001b[0;32mdef\u001b[0m \u001b[0m_align_for_op\u001b[0m\u001b[0;34m(\u001b[0m\u001b[0mself\u001b[0m\u001b[0;34m,\u001b[0m \u001b[0mright\u001b[0m\u001b[0;34m,\u001b[0m \u001b[0malign_asobject\u001b[0m\u001b[0;34m:\u001b[0m \u001b[0mbool\u001b[0m \u001b[0;34m=\u001b[0m \u001b[0;32mFalse\u001b[0m\u001b[0;34m)\u001b[0m\u001b[0;34m:\u001b[0m\u001b[0;34m\u001b[0m\u001b[0;34m\u001b[0m\u001b[0m\n",
            "\u001b[0;32m/usr/local/lib/python3.11/dist-packages/pandas/core/base.py\u001b[0m in \u001b[0;36m_arith_method\u001b[0;34m(self, other, op)\u001b[0m\n\u001b[1;32m   1380\u001b[0m \u001b[0;34m\u001b[0m\u001b[0m\n\u001b[1;32m   1381\u001b[0m         \u001b[0;32mwith\u001b[0m \u001b[0mnp\u001b[0m\u001b[0;34m.\u001b[0m\u001b[0merrstate\u001b[0m\u001b[0;34m(\u001b[0m\u001b[0mall\u001b[0m\u001b[0;34m=\u001b[0m\u001b[0;34m\"ignore\"\u001b[0m\u001b[0;34m)\u001b[0m\u001b[0;34m:\u001b[0m\u001b[0;34m\u001b[0m\u001b[0;34m\u001b[0m\u001b[0m\n\u001b[0;32m-> 1382\u001b[0;31m             \u001b[0mresult\u001b[0m \u001b[0;34m=\u001b[0m \u001b[0mops\u001b[0m\u001b[0;34m.\u001b[0m\u001b[0marithmetic_op\u001b[0m\u001b[0;34m(\u001b[0m\u001b[0mlvalues\u001b[0m\u001b[0;34m,\u001b[0m \u001b[0mrvalues\u001b[0m\u001b[0;34m,\u001b[0m \u001b[0mop\u001b[0m\u001b[0;34m)\u001b[0m\u001b[0;34m\u001b[0m\u001b[0;34m\u001b[0m\u001b[0m\n\u001b[0m\u001b[1;32m   1383\u001b[0m \u001b[0;34m\u001b[0m\u001b[0m\n\u001b[1;32m   1384\u001b[0m         \u001b[0;32mreturn\u001b[0m \u001b[0mself\u001b[0m\u001b[0;34m.\u001b[0m\u001b[0m_construct_result\u001b[0m\u001b[0;34m(\u001b[0m\u001b[0mresult\u001b[0m\u001b[0;34m,\u001b[0m \u001b[0mname\u001b[0m\u001b[0;34m=\u001b[0m\u001b[0mres_name\u001b[0m\u001b[0;34m)\u001b[0m\u001b[0;34m\u001b[0m\u001b[0;34m\u001b[0m\u001b[0m\n",
            "\u001b[0;32m/usr/local/lib/python3.11/dist-packages/pandas/core/ops/array_ops.py\u001b[0m in \u001b[0;36marithmetic_op\u001b[0;34m(left, right, op)\u001b[0m\n\u001b[1;32m    281\u001b[0m         \u001b[0;31m# error: Argument 1 to \"_na_arithmetic_op\" has incompatible type\u001b[0m\u001b[0;34m\u001b[0m\u001b[0;34m\u001b[0m\u001b[0m\n\u001b[1;32m    282\u001b[0m         \u001b[0;31m# \"Union[ExtensionArray, ndarray[Any, Any]]\"; expected \"ndarray[Any, Any]\"\u001b[0m\u001b[0;34m\u001b[0m\u001b[0;34m\u001b[0m\u001b[0m\n\u001b[0;32m--> 283\u001b[0;31m         \u001b[0mres_values\u001b[0m \u001b[0;34m=\u001b[0m \u001b[0m_na_arithmetic_op\u001b[0m\u001b[0;34m(\u001b[0m\u001b[0mleft\u001b[0m\u001b[0;34m,\u001b[0m \u001b[0mright\u001b[0m\u001b[0;34m,\u001b[0m \u001b[0mop\u001b[0m\u001b[0;34m)\u001b[0m  \u001b[0;31m# type: ignore[arg-type]\u001b[0m\u001b[0;34m\u001b[0m\u001b[0;34m\u001b[0m\u001b[0m\n\u001b[0m\u001b[1;32m    284\u001b[0m \u001b[0;34m\u001b[0m\u001b[0m\n\u001b[1;32m    285\u001b[0m     \u001b[0;32mreturn\u001b[0m \u001b[0mres_values\u001b[0m\u001b[0;34m\u001b[0m\u001b[0;34m\u001b[0m\u001b[0m\n",
            "\u001b[0;32m/usr/local/lib/python3.11/dist-packages/pandas/core/ops/array_ops.py\u001b[0m in \u001b[0;36m_na_arithmetic_op\u001b[0;34m(left, right, op, is_cmp)\u001b[0m\n\u001b[1;32m    216\u001b[0m \u001b[0;34m\u001b[0m\u001b[0m\n\u001b[1;32m    217\u001b[0m     \u001b[0;32mtry\u001b[0m\u001b[0;34m:\u001b[0m\u001b[0;34m\u001b[0m\u001b[0;34m\u001b[0m\u001b[0m\n\u001b[0;32m--> 218\u001b[0;31m         \u001b[0mresult\u001b[0m \u001b[0;34m=\u001b[0m \u001b[0mfunc\u001b[0m\u001b[0;34m(\u001b[0m\u001b[0mleft\u001b[0m\u001b[0;34m,\u001b[0m \u001b[0mright\u001b[0m\u001b[0;34m)\u001b[0m\u001b[0;34m\u001b[0m\u001b[0;34m\u001b[0m\u001b[0m\n\u001b[0m\u001b[1;32m    219\u001b[0m     \u001b[0;32mexcept\u001b[0m \u001b[0mTypeError\u001b[0m\u001b[0;34m:\u001b[0m\u001b[0;34m\u001b[0m\u001b[0;34m\u001b[0m\u001b[0m\n\u001b[1;32m    220\u001b[0m         if not is_cmp and (\n",
            "\u001b[0;32m/usr/local/lib/python3.11/dist-packages/pandas/core/computation/expressions.py\u001b[0m in \u001b[0;36mevaluate\u001b[0;34m(op, a, b, use_numexpr)\u001b[0m\n\u001b[1;32m    240\u001b[0m         \u001b[0;32mif\u001b[0m \u001b[0muse_numexpr\u001b[0m\u001b[0;34m:\u001b[0m\u001b[0;34m\u001b[0m\u001b[0;34m\u001b[0m\u001b[0m\n\u001b[1;32m    241\u001b[0m             \u001b[0;31m# error: \"None\" not callable\u001b[0m\u001b[0;34m\u001b[0m\u001b[0;34m\u001b[0m\u001b[0m\n\u001b[0;32m--> 242\u001b[0;31m             \u001b[0;32mreturn\u001b[0m \u001b[0m_evaluate\u001b[0m\u001b[0;34m(\u001b[0m\u001b[0mop\u001b[0m\u001b[0;34m,\u001b[0m \u001b[0mop_str\u001b[0m\u001b[0;34m,\u001b[0m \u001b[0ma\u001b[0m\u001b[0;34m,\u001b[0m \u001b[0mb\u001b[0m\u001b[0;34m)\u001b[0m  \u001b[0;31m# type: ignore[misc]\u001b[0m\u001b[0;34m\u001b[0m\u001b[0;34m\u001b[0m\u001b[0m\n\u001b[0m\u001b[1;32m    243\u001b[0m     \u001b[0;32mreturn\u001b[0m \u001b[0m_evaluate_standard\u001b[0m\u001b[0;34m(\u001b[0m\u001b[0mop\u001b[0m\u001b[0;34m,\u001b[0m \u001b[0mop_str\u001b[0m\u001b[0;34m,\u001b[0m \u001b[0ma\u001b[0m\u001b[0;34m,\u001b[0m \u001b[0mb\u001b[0m\u001b[0;34m)\u001b[0m\u001b[0;34m\u001b[0m\u001b[0;34m\u001b[0m\u001b[0m\n\u001b[1;32m    244\u001b[0m \u001b[0;34m\u001b[0m\u001b[0m\n",
            "\u001b[0;32m/usr/local/lib/python3.11/dist-packages/pandas/core/computation/expressions.py\u001b[0m in \u001b[0;36m_evaluate_numexpr\u001b[0;34m(op, op_str, a, b)\u001b[0m\n\u001b[1;32m    129\u001b[0m \u001b[0;34m\u001b[0m\u001b[0m\n\u001b[1;32m    130\u001b[0m     \u001b[0;32mif\u001b[0m \u001b[0mresult\u001b[0m \u001b[0;32mis\u001b[0m \u001b[0;32mNone\u001b[0m\u001b[0;34m:\u001b[0m\u001b[0;34m\u001b[0m\u001b[0;34m\u001b[0m\u001b[0m\n\u001b[0;32m--> 131\u001b[0;31m         \u001b[0mresult\u001b[0m \u001b[0;34m=\u001b[0m \u001b[0m_evaluate_standard\u001b[0m\u001b[0;34m(\u001b[0m\u001b[0mop\u001b[0m\u001b[0;34m,\u001b[0m \u001b[0mop_str\u001b[0m\u001b[0;34m,\u001b[0m \u001b[0ma\u001b[0m\u001b[0;34m,\u001b[0m \u001b[0mb\u001b[0m\u001b[0;34m)\u001b[0m\u001b[0;34m\u001b[0m\u001b[0;34m\u001b[0m\u001b[0m\n\u001b[0m\u001b[1;32m    132\u001b[0m \u001b[0;34m\u001b[0m\u001b[0m\n\u001b[1;32m    133\u001b[0m     \u001b[0;32mreturn\u001b[0m \u001b[0mresult\u001b[0m\u001b[0;34m\u001b[0m\u001b[0;34m\u001b[0m\u001b[0m\n",
            "\u001b[0;32m/usr/local/lib/python3.11/dist-packages/pandas/core/computation/expressions.py\u001b[0m in \u001b[0;36m_evaluate_standard\u001b[0;34m(op, op_str, a, b)\u001b[0m\n\u001b[1;32m     71\u001b[0m     \u001b[0;32mif\u001b[0m \u001b[0m_TEST_MODE\u001b[0m\u001b[0;34m:\u001b[0m\u001b[0;34m\u001b[0m\u001b[0;34m\u001b[0m\u001b[0m\n\u001b[1;32m     72\u001b[0m         \u001b[0m_store_test_result\u001b[0m\u001b[0;34m(\u001b[0m\u001b[0;32mFalse\u001b[0m\u001b[0;34m)\u001b[0m\u001b[0;34m\u001b[0m\u001b[0;34m\u001b[0m\u001b[0m\n\u001b[0;32m---> 73\u001b[0;31m     \u001b[0;32mreturn\u001b[0m \u001b[0mop\u001b[0m\u001b[0;34m(\u001b[0m\u001b[0ma\u001b[0m\u001b[0;34m,\u001b[0m \u001b[0mb\u001b[0m\u001b[0;34m)\u001b[0m\u001b[0;34m\u001b[0m\u001b[0;34m\u001b[0m\u001b[0m\n\u001b[0m\u001b[1;32m     74\u001b[0m \u001b[0;34m\u001b[0m\u001b[0m\n\u001b[1;32m     75\u001b[0m \u001b[0;34m\u001b[0m\u001b[0m\n",
            "\u001b[0;31mZeroDivisionError\u001b[0m: float division by zero"
          ]
        }
      ]
    },
    {
      "cell_type": "code",
      "source": [
        "\n",
        "# Create and log PMPM metrics for final forecasts\n",
        "final_forecasts['Med-Total_PMPM'] = final_forecasts.apply(\n",
        "    lambda row: float('nan') if row['mmos_forecast_ensemble'] == 0\n",
        "    else row['Med-Total_final'] / row['mmos_forecast_ensemble'],\n",
        "    axis=1\n",
        ")\n",
        "\n",
        "final_forecasts['Rx_PMPM'] = final_forecasts.apply(\n",
        "    lambda row: float('nan') if row['mmos_forecast_ensemble'] == 0\n",
        "    else row['Rx_final'] / row['mmos_forecast_ensemble'],\n",
        "    axis=1\n",
        ")\n",
        "\n",
        "\n",
        "avg_med_pmpm = final_forecasts['Med-Total_PMPM'].mean()\n",
        "avg_rx_pmpm = final_forecasts['Rx_PMPM'].mean()\n",
        "\n",
        "print(f\"Forecasted 2025 Medical PMPM: ${avg_med_pmpm:.2f}\", \"FORECAST_PMPM\")\n",
        "print(f\"Forecasted 2025 Rx PMPM: ${avg_rx_pmpm:.2f}\", \"FORECAST_PMPM\")\n",
        "\n",
        "# Evaluate forecasts if validation data is available\n",
        "#if len(valid_data) > 0:\n",
        "#    mmos_metrics = evaluate_forecasts(ensemble_mmos, valid_data, 'mmos', lowest_grain)\n",
        "#    med_metrics = evaluate_forecasts(ensemble_med, valid_data, 'Med-Total', lowest_grain)\n",
        "#    rx_metrics = evaluate_forecasts(ensemble_rx, valid_data, 'Rx', lowest_grain)\n",
        "\n",
        "# Aggregate forecasts to State level\n",
        "#state_forecasts = aggregate_forecasts(final_forecasts, 'mmos', 'state', lowest_grain)\n",
        "#print(state_forecasts, 'mmos')\n",
        "\n",
        "# Aggregate forecasts to Segment level\n",
        "#segment_forecasts = aggregate_forecasts(final_forecasts, 'mmos', 'segment', lowest_grain)\n",
        "#print(segment_forecasts, 'mmos')\n",
        "\n",
        "# Aggregate forecasts to total level\n",
        "#total_forecasts = aggregate_forecasts(final_forecasts, 'mmos', 'total', lowest_grain)\n",
        "#print(total_forecasts, 'mmos')\n",
        "\n",
        "# Save results to CSV\n",
        "output_dir = \"/content/forecast_results\"\n",
        "os.makedirs(output_dir, exist_ok=True)\n",
        "\n",
        "final_forecasts.to_csv(os.path.join(output_dir, 'lowest_grain_forecasts.csv'), index=False)\n",
        "#state_forecasts.to_csv(os.path.join(output_dir, 'state_forecasts.csv'), index=False)\n",
        "#segment_forecasts.to_csv(os.path.join(output_dir, 'segment_forecasts.csv'), index=False)\n",
        "#total_forecasts.to_csv(os.path.join(output_dir, 'total_forecasts.csv'), index=False)\n",
        "\n"
      ],
      "metadata": {
        "colab": {
          "base_uri": "https://localhost:8080/"
        },
        "id": "LOCkAzdcOLRx",
        "outputId": "639beff5-5b8e-4e9e-b06e-0f18fb0d1466"
      },
      "execution_count": 65,
      "outputs": [
        {
          "output_type": "stream",
          "name": "stdout",
          "text": [
            "Forecasted 2025 Medical PMPM: $504.52 FORECAST_PMPM\n",
            "Forecasted 2025 Rx PMPM: $189.79 FORECAST_PMPM\n"
          ]
        }
      ]
    },
    {
      "cell_type": "code",
      "source": [
        "# Add derived forecasts\n",
        "#final_forecasts = final_forecasts.merge(\n",
        "#        derived_forecasts[['YYYYMM', 'State', 'Segment', 'Med-Total_forecast_', 'Rx_forecast_']],\n",
        "#        on=['YYYYMM', 'State', 'Segment'],\n",
        "#        how='outer'\n",
        "#    )\n",
        "derived_forecasts.columns"
      ],
      "metadata": {
        "colab": {
          "base_uri": "https://localhost:8080/"
        },
        "id": "YaHAnz3uaS-O",
        "outputId": "99e3626f-de18-4bd2-e95f-1dc5c8fd2330"
      },
      "execution_count": 22,
      "outputs": [
        {
          "output_type": "execute_result",
          "data": {
            "text/plain": [
              "Index(['date', 'YYYYMM', 'mmos_forecast_sarima', 'State', 'Segment',\n",
              "       'mmos_forecast_prophet', 'mmos_forecast_rf', 'mmos_forecast_xgb',\n",
              "       'mmos_forecast_ensemble', 'med_ratio', 'rx_ratio',\n",
              "       'Med-Total_forecast_sarima', 'Rx_forecast_sarima',\n",
              "       'Med-Total_forecast_prophet', 'Rx_forecast_prophet',\n",
              "       'Med-Total_forecast_rf', 'Rx_forecast_rf', 'Med-Total_forecast_xgb',\n",
              "       'Rx_forecast_xgb', 'Med-Total_forecast_ensemble',\n",
              "       'Rx_forecast_ensemble'],\n",
              "      dtype='object')"
            ]
          },
          "metadata": {},
          "execution_count": 22
        }
      ]
    },
    {
      "cell_type": "code",
      "source": [
        "final_forecasts.columns"
      ],
      "metadata": {
        "colab": {
          "base_uri": "https://localhost:8080/"
        },
        "id": "38SJHgyuZubN",
        "outputId": "3901db0e-42cb-4d9d-9a2c-9a42f4613777"
      },
      "execution_count": 23,
      "outputs": [
        {
          "output_type": "execute_result",
          "data": {
            "text/plain": [
              "Index(['date', 'YYYYMM', 'mmos_forecast_sarima', 'State', 'Segment',\n",
              "       'mmos_forecast_prophet', 'mmos_forecast_rf', 'mmos_forecast_xgb',\n",
              "       'mmos_forecast_ensemble', 'Med-Total_forecast_ensemble',\n",
              "       'Rx_forecast_ensemble'],\n",
              "      dtype='object')"
            ]
          },
          "metadata": {},
          "execution_count": 23
        }
      ]
    },
    {
      "cell_type": "code",
      "source": [
        "# You need to specify the full column names from derived_forecasts\n",
        "final_forecasts = final_forecasts.merge(\n",
        "    derived_forecasts[['YYYYMM', 'State', 'Segment', 'Med-Total_forecast_ensemble', 'Rx_forecast_ensemble']],\n",
        "    on=['YYYYMM', 'State', 'Segment'],\n",
        "    how='outer'\n",
        ")"
      ],
      "metadata": {
        "id": "mtXZmBLggKYR"
      },
      "execution_count": 24,
      "outputs": []
    },
    {
      "cell_type": "code",
      "source": [
        "final_forecasts.columns"
      ],
      "metadata": {
        "colab": {
          "base_uri": "https://localhost:8080/"
        },
        "id": "AjThTZQ_gyrl",
        "outputId": "2751bc21-c333-4402-fe66-fd8d3bc03887"
      },
      "execution_count": 31,
      "outputs": [
        {
          "output_type": "execute_result",
          "data": {
            "text/plain": [
              "Index(['date', 'YYYYMM', 'mmos_forecast_sarima', 'State', 'Segment',\n",
              "       'mmos_forecast_prophet', 'mmos_forecast_rf', 'mmos_forecast_xgb',\n",
              "       'mmos_forecast_ensemble', 'Med-Total_forecast_ensemble_x',\n",
              "       'Rx_forecast_ensemble_x', 'Med-Total_forecast_ensemble_y',\n",
              "       'Rx_forecast_ensemble_y', 'Med-Total_final', 'Rx_final'],\n",
              "      dtype='object')"
            ]
          },
          "metadata": {},
          "execution_count": 31
        }
      ]
    },
    {
      "cell_type": "code",
      "source": [
        "\n",
        "# Final ensemble: combine direct and derived forecasts with weights\n",
        "#final_forecasts['Med-Total_final'] = 0.7 * final_forecasts['Med-Total_forecast_ensemble_x'] + 0.3 * final_forecasts['Med-Total_forecast_ensemble_y']\n",
        "#final_forecasts['Rx_final'] = 0.7 * final_forecasts['Rx_forecast_ensemble_x'] + 0.3 * final_forecasts['Rx_forecast_ensemble_y']\n",
        "\n",
        "# Create and log PMPM metrics for final forecasts\n",
        "#final_forecasts['Med-Total_PMPM'] = final_forecasts['Med-Total_final'] / final_forecasts['mmos_forecast_ensemble']\n",
        "#final_forecasts['Rx_PMPM'] = final_forecasts['Rx_final'] / final_forecasts['mmos_forecast_ensemble']\n",
        "\n",
        "# Create and log PMPM metrics for final forecasts\n",
        "final_forecasts['Med-Total_PMPM'] = final_forecasts.apply(\n",
        "    lambda row: float('nan') if row['mmos_forecast_ensemble'] == 0\n",
        "    else row['Med-Total_final'] / row['mmos_forecast_ensemble'],\n",
        "    axis=1\n",
        ")\n",
        "\n",
        "final_forecasts['Rx_PMPM'] = final_forecasts.apply(\n",
        "    lambda row: float('nan') if row['mmos_forecast_ensemble'] == 0\n",
        "    else row['Rx_final'] / row['mmos_forecast_ensemble'],\n",
        "    axis=1\n",
        ")\n",
        "\n",
        "\n",
        "avg_med_pmpm = final_forecasts['Med-Total_PMPM'].mean()\n",
        "avg_rx_pmpm = final_forecasts['Rx_PMPM'].mean()\n",
        "\n",
        "print(f\"Forecasted 2025 Medical PMPM: ${avg_med_pmpm:.2f}\", \"FORECAST_PMPM\")\n",
        "print(f\"Forecasted 2025 Rx PMPM: ${avg_rx_pmpm:.2f}\", \"FORECAST_PMPM\")\n",
        "\n",
        "# Evaluate forecasts if validation data is available\n",
        "#if len(valid_data) > 0:\n",
        "#    mmos_metrics = evaluate_forecasts(ensemble_mmos, valid_data, 'mmos', lowest_grain)\n",
        "#    med_metrics = evaluate_forecasts(ensemble_med, valid_data, 'Med-Total', lowest_grain)\n",
        "#    rx_metrics = evaluate_forecasts(ensemble_rx, valid_data, 'Rx', lowest_grain)\n",
        "\n",
        "# Aggregate forecasts to State level\n",
        "state_forecasts = aggregate_forecasts(final_forecasts, 'mmos', 'state', lowest_grain)\n",
        "print(state_forecasts, 'mmos')\n",
        "\n",
        "# Aggregate forecasts to Segment level\n",
        "segment_forecasts = aggregate_forecasts(final_forecasts, 'mmos', 'segment', lowest_grain)\n",
        "print(segment_forecasts, 'mmos')\n",
        "\n",
        "# Aggregate forecasts to total level\n",
        "total_forecasts = aggregate_forecasts(final_forecasts, 'mmos', 'total', lowest_grain)\n",
        "print(total_forecasts, 'mmos')\n",
        "\n",
        "# Save results to CSV\n",
        "output_dir = \"/content/forecast_results\"\n",
        "os.makedirs(output_dir, exist_ok=True)\n",
        "\n",
        "final_forecasts.to_csv(os.path.join(output_dir, 'lowest_grain_forecasts.csv'), index=False)\n",
        "state_forecasts.to_csv(os.path.join(output_dir, 'state_forecasts.csv'), index=False)\n",
        "segment_forecasts.to_csv(os.path.join(output_dir, 'segment_forecasts.csv'), index=False)\n",
        "total_forecasts.to_csv(os.path.join(output_dir, 'total_forecasts.csv'), index=False)\n",
        "\n",
        "# Create summary CSV of monthly forecasts\n",
        "monthly_summary = total_forecasts[['YYYYMM', 'mmos_forecast_ensemble', 'Med-Total_final', 'Rx_final']].copy()\n",
        "monthly_summary = monthly_summary.rename(columns={\n",
        "        'mmos_forecast_ensemble': 'Membership',\n",
        "        'Med-Total_final': 'Medical_Claims',\n",
        "        'Rx_final': 'Rx_Claims'\n",
        "    })\n",
        "monthly_summary.to_csv(os.path.join(output_dir, 'monthly_summary_2025.csv'), index=False)\n"
      ],
      "metadata": {
        "colab": {
          "base_uri": "https://localhost:8080/",
          "height": 1000
        },
        "id": "-AX4TbwQgXlA",
        "outputId": "4d477b96-5deb-4f29-a7f7-16b986c47d7d"
      },
      "execution_count": 37,
      "outputs": [
        {
          "output_type": "stream",
          "name": "stdout",
          "text": [
            "Forecasted 2025 Medical PMPM: $504.52 FORECAST_PMPM\n",
            "Forecasted 2025 Rx PMPM: $189.79 FORECAST_PMPM\n",
            "Aggregating mmos forecasts to state level\n",
            "      State  YYYYMM  mmos_forecast_sarima  mmos_forecast_prophet  \\\n",
            "0    CA_HMO  202501         537877.658034          548797.650189   \n",
            "1    CA_HMO  202502         538887.946293          557842.724593   \n",
            "2    CA_HMO  202503         536892.300329          548007.191568   \n",
            "3    CA_HMO  202504         538088.760034          546955.583904   \n",
            "4    CA_HMO  202505         539182.363375          546346.579645   \n",
            "..      ...     ...                   ...                    ...   \n",
            "211      WI  202508         198923.675642          188989.144997   \n",
            "212      WI  202509         200926.275592          190262.245497   \n",
            "213      WI  202510         202711.263447          191293.710004   \n",
            "214      WI  202511         202938.794030          192565.710553   \n",
            "215      WI  202512         201980.372285          191770.414982   \n",
            "\n",
            "    mmos_forecast_rf mmos_forecast_xgb mmos_forecast_ensemble  \n",
            "0                  0                 0          543337.654111  \n",
            "1                  0                 0          548365.335443  \n",
            "2                  0                 0          542449.745949  \n",
            "3                  0                 0          542522.171969  \n",
            "4                  0                 0           542764.47151  \n",
            "..               ...               ...                    ...  \n",
            "211                0                 0           193956.41032  \n",
            "212                0                 0          195594.260544  \n",
            "213                0                 0          197002.486726  \n",
            "214                0                 0          197752.252291  \n",
            "215                0                 0          196875.393633  \n",
            "\n",
            "[216 rows x 7 columns] mmos\n",
            "Aggregating mmos forecasts to segment level\n",
            "    Segment  YYYYMM  mmos_forecast_sarima  mmos_forecast_prophet  \\\n",
            "0   IND_ACA  202501          1.325657e+06           1.401979e+06   \n",
            "1   IND_ACA  202502          1.386405e+06           1.359671e+06   \n",
            "2   IND_ACA  202503          1.405086e+06           1.390968e+06   \n",
            "3   IND_ACA  202504          1.419761e+06           1.401676e+06   \n",
            "4   IND_ACA  202505          1.439700e+06           1.415321e+06   \n",
            "..      ...     ...                   ...                    ...   \n",
            "79  SBG_MEW  202508          2.401235e+05           2.414286e+05   \n",
            "80  SBG_MEW  202509          2.400913e+05           2.418589e+05   \n",
            "81  SBG_MEW  202510          2.385261e+05           2.406454e+05   \n",
            "82  SBG_MEW  202511          2.393508e+05           2.417039e+05   \n",
            "83  SBG_MEW  202512          2.409184e+05           2.433273e+05   \n",
            "\n",
            "   mmos_forecast_rf mmos_forecast_xgb mmos_forecast_ensemble  \n",
            "0                 0                 0         1363818.265936  \n",
            "1                 0                 0          1373037.92867  \n",
            "2                 0                 0         1398026.662029  \n",
            "3                 0                 0         1410718.346422  \n",
            "4                 0                 0         1427510.384652  \n",
            "..              ...               ...                    ...  \n",
            "79                0                 0          240776.030112  \n",
            "80                0                 0          240975.127236  \n",
            "81                0                 0          239585.759715  \n",
            "82                0                 0          240527.321346  \n",
            "83                0                 0          242122.842472  \n",
            "\n",
            "[84 rows x 7 columns] mmos\n",
            "Aggregating mmos forecasts to total level\n",
            "    YYYYMM  mmos_forecast_sarima  mmos_forecast_prophet mmos_forecast_rf  \\\n",
            "0   202501          4.506692e+06           4.494525e+06                0   \n",
            "1   202502          4.556799e+06           4.531853e+06                0   \n",
            "2   202503          4.565765e+06           4.547794e+06                0   \n",
            "3   202504          4.579222e+06           4.560530e+06                0   \n",
            "4   202505          4.594040e+06           4.573442e+06                0   \n",
            "5   202506          4.613113e+06           4.589483e+06                0   \n",
            "6   202507          4.612738e+06           4.582423e+06                0   \n",
            "7   202508          4.622526e+06           4.597474e+06                0   \n",
            "8   202509          4.638878e+06           4.617700e+06                0   \n",
            "9   202510          4.653034e+06           4.630184e+06                0   \n",
            "10  202511          4.651368e+06           4.654786e+06                0   \n",
            "11  202512          4.644258e+06           4.653446e+06                0   \n",
            "\n",
            "   mmos_forecast_xgb mmos_forecast_ensemble  \n",
            "0                  0         4500608.433886  \n",
            "1                  0         4544326.073612  \n",
            "2                  0         4556779.515249  \n",
            "3                  0         4569876.259219  \n",
            "4                  0         4583740.807807  \n",
            "5                  0         4601298.362599  \n",
            "6                  0         4597580.102835  \n",
            "7                  0         4609999.658046  \n",
            "8                  0          4628289.02223  \n",
            "9                  0         4641609.035666  \n",
            "10                 0         4653076.635885  \n",
            "11                 0         4648852.086278   mmos\n"
          ]
        },
        {
          "output_type": "error",
          "ename": "KeyError",
          "evalue": "\"['Med-Total_final', 'Rx_final'] not in index\"",
          "traceback": [
            "\u001b[0;31m---------------------------------------------------------------------------\u001b[0m",
            "\u001b[0;31mKeyError\u001b[0m                                  Traceback (most recent call last)",
            "\u001b[0;32m<ipython-input-37-a5c6fbf5bd6d>\u001b[0m in \u001b[0;36m<cell line: 0>\u001b[0;34m()\u001b[0m\n\u001b[1;32m     55\u001b[0m \u001b[0;34m\u001b[0m\u001b[0m\n\u001b[1;32m     56\u001b[0m \u001b[0;31m# Create summary CSV of monthly forecasts\u001b[0m\u001b[0;34m\u001b[0m\u001b[0;34m\u001b[0m\u001b[0m\n\u001b[0;32m---> 57\u001b[0;31m \u001b[0mmonthly_summary\u001b[0m \u001b[0;34m=\u001b[0m \u001b[0mtotal_forecasts\u001b[0m\u001b[0;34m[\u001b[0m\u001b[0;34m[\u001b[0m\u001b[0;34m'YYYYMM'\u001b[0m\u001b[0;34m,\u001b[0m \u001b[0;34m'mmos_forecast_ensemble'\u001b[0m\u001b[0;34m,\u001b[0m \u001b[0;34m'Med-Total_final'\u001b[0m\u001b[0;34m,\u001b[0m \u001b[0;34m'Rx_final'\u001b[0m\u001b[0;34m]\u001b[0m\u001b[0;34m]\u001b[0m\u001b[0;34m.\u001b[0m\u001b[0mcopy\u001b[0m\u001b[0;34m(\u001b[0m\u001b[0;34m)\u001b[0m\u001b[0;34m\u001b[0m\u001b[0;34m\u001b[0m\u001b[0m\n\u001b[0m\u001b[1;32m     58\u001b[0m monthly_summary = monthly_summary.rename(columns={\n\u001b[1;32m     59\u001b[0m         \u001b[0;34m'mmos_forecast_ensemble'\u001b[0m\u001b[0;34m:\u001b[0m \u001b[0;34m'Membership'\u001b[0m\u001b[0;34m,\u001b[0m\u001b[0;34m\u001b[0m\u001b[0;34m\u001b[0m\u001b[0m\n",
            "\u001b[0;32m/usr/local/lib/python3.11/dist-packages/pandas/core/frame.py\u001b[0m in \u001b[0;36m__getitem__\u001b[0;34m(self, key)\u001b[0m\n\u001b[1;32m   4106\u001b[0m             \u001b[0;32mif\u001b[0m \u001b[0mis_iterator\u001b[0m\u001b[0;34m(\u001b[0m\u001b[0mkey\u001b[0m\u001b[0;34m)\u001b[0m\u001b[0;34m:\u001b[0m\u001b[0;34m\u001b[0m\u001b[0;34m\u001b[0m\u001b[0m\n\u001b[1;32m   4107\u001b[0m                 \u001b[0mkey\u001b[0m \u001b[0;34m=\u001b[0m \u001b[0mlist\u001b[0m\u001b[0;34m(\u001b[0m\u001b[0mkey\u001b[0m\u001b[0;34m)\u001b[0m\u001b[0;34m\u001b[0m\u001b[0;34m\u001b[0m\u001b[0m\n\u001b[0;32m-> 4108\u001b[0;31m             \u001b[0mindexer\u001b[0m \u001b[0;34m=\u001b[0m \u001b[0mself\u001b[0m\u001b[0;34m.\u001b[0m\u001b[0mcolumns\u001b[0m\u001b[0;34m.\u001b[0m\u001b[0m_get_indexer_strict\u001b[0m\u001b[0;34m(\u001b[0m\u001b[0mkey\u001b[0m\u001b[0;34m,\u001b[0m \u001b[0;34m\"columns\"\u001b[0m\u001b[0;34m)\u001b[0m\u001b[0;34m[\u001b[0m\u001b[0;36m1\u001b[0m\u001b[0;34m]\u001b[0m\u001b[0;34m\u001b[0m\u001b[0;34m\u001b[0m\u001b[0m\n\u001b[0m\u001b[1;32m   4109\u001b[0m \u001b[0;34m\u001b[0m\u001b[0m\n\u001b[1;32m   4110\u001b[0m         \u001b[0;31m# take() does not accept boolean indexers\u001b[0m\u001b[0;34m\u001b[0m\u001b[0;34m\u001b[0m\u001b[0m\n",
            "\u001b[0;32m/usr/local/lib/python3.11/dist-packages/pandas/core/indexes/base.py\u001b[0m in \u001b[0;36m_get_indexer_strict\u001b[0;34m(self, key, axis_name)\u001b[0m\n\u001b[1;32m   6198\u001b[0m             \u001b[0mkeyarr\u001b[0m\u001b[0;34m,\u001b[0m \u001b[0mindexer\u001b[0m\u001b[0;34m,\u001b[0m \u001b[0mnew_indexer\u001b[0m \u001b[0;34m=\u001b[0m \u001b[0mself\u001b[0m\u001b[0;34m.\u001b[0m\u001b[0m_reindex_non_unique\u001b[0m\u001b[0;34m(\u001b[0m\u001b[0mkeyarr\u001b[0m\u001b[0;34m)\u001b[0m\u001b[0;34m\u001b[0m\u001b[0;34m\u001b[0m\u001b[0m\n\u001b[1;32m   6199\u001b[0m \u001b[0;34m\u001b[0m\u001b[0m\n\u001b[0;32m-> 6200\u001b[0;31m         \u001b[0mself\u001b[0m\u001b[0;34m.\u001b[0m\u001b[0m_raise_if_missing\u001b[0m\u001b[0;34m(\u001b[0m\u001b[0mkeyarr\u001b[0m\u001b[0;34m,\u001b[0m \u001b[0mindexer\u001b[0m\u001b[0;34m,\u001b[0m \u001b[0maxis_name\u001b[0m\u001b[0;34m)\u001b[0m\u001b[0;34m\u001b[0m\u001b[0;34m\u001b[0m\u001b[0m\n\u001b[0m\u001b[1;32m   6201\u001b[0m \u001b[0;34m\u001b[0m\u001b[0m\n\u001b[1;32m   6202\u001b[0m         \u001b[0mkeyarr\u001b[0m \u001b[0;34m=\u001b[0m \u001b[0mself\u001b[0m\u001b[0;34m.\u001b[0m\u001b[0mtake\u001b[0m\u001b[0;34m(\u001b[0m\u001b[0mindexer\u001b[0m\u001b[0;34m)\u001b[0m\u001b[0;34m\u001b[0m\u001b[0;34m\u001b[0m\u001b[0m\n",
            "\u001b[0;32m/usr/local/lib/python3.11/dist-packages/pandas/core/indexes/base.py\u001b[0m in \u001b[0;36m_raise_if_missing\u001b[0;34m(self, key, indexer, axis_name)\u001b[0m\n\u001b[1;32m   6250\u001b[0m \u001b[0;34m\u001b[0m\u001b[0m\n\u001b[1;32m   6251\u001b[0m             \u001b[0mnot_found\u001b[0m \u001b[0;34m=\u001b[0m \u001b[0mlist\u001b[0m\u001b[0;34m(\u001b[0m\u001b[0mensure_index\u001b[0m\u001b[0;34m(\u001b[0m\u001b[0mkey\u001b[0m\u001b[0;34m)\u001b[0m\u001b[0;34m[\u001b[0m\u001b[0mmissing_mask\u001b[0m\u001b[0;34m.\u001b[0m\u001b[0mnonzero\u001b[0m\u001b[0;34m(\u001b[0m\u001b[0;34m)\u001b[0m\u001b[0;34m[\u001b[0m\u001b[0;36m0\u001b[0m\u001b[0;34m]\u001b[0m\u001b[0;34m]\u001b[0m\u001b[0;34m.\u001b[0m\u001b[0munique\u001b[0m\u001b[0;34m(\u001b[0m\u001b[0;34m)\u001b[0m\u001b[0;34m)\u001b[0m\u001b[0;34m\u001b[0m\u001b[0;34m\u001b[0m\u001b[0m\n\u001b[0;32m-> 6252\u001b[0;31m             \u001b[0;32mraise\u001b[0m \u001b[0mKeyError\u001b[0m\u001b[0;34m(\u001b[0m\u001b[0;34mf\"{not_found} not in index\"\u001b[0m\u001b[0;34m)\u001b[0m\u001b[0;34m\u001b[0m\u001b[0;34m\u001b[0m\u001b[0m\n\u001b[0m\u001b[1;32m   6253\u001b[0m \u001b[0;34m\u001b[0m\u001b[0m\n\u001b[1;32m   6254\u001b[0m     \u001b[0;34m@\u001b[0m\u001b[0moverload\u001b[0m\u001b[0;34m\u001b[0m\u001b[0;34m\u001b[0m\u001b[0m\n",
            "\u001b[0;31mKeyError\u001b[0m: \"['Med-Total_final', 'Rx_final'] not in index\""
          ]
        }
      ]
    },
    {
      "cell_type": "code",
      "source": [
        "total_forecasts.columns\n"
      ],
      "metadata": {
        "colab": {
          "base_uri": "https://localhost:8080/"
        },
        "id": "I3vH59Z2xKrS",
        "outputId": "d03100ce-a081-4b21-e824-58273386339a"
      },
      "execution_count": 38,
      "outputs": [
        {
          "output_type": "execute_result",
          "data": {
            "text/plain": [
              "Index(['YYYYMM', 'mmos_forecast_sarima', 'mmos_forecast_prophet',\n",
              "       'mmos_forecast_rf', 'mmos_forecast_xgb', 'mmos_forecast_ensemble'],\n",
              "      dtype='object')"
            ]
          },
          "metadata": {},
          "execution_count": 38
        }
      ]
    },
    {
      "cell_type": "code",
      "source": [
        "final_forecasts.columns"
      ],
      "metadata": {
        "colab": {
          "base_uri": "https://localhost:8080/"
        },
        "id": "8lztN6VAxfo9",
        "outputId": "5ee904b0-b7cc-4c4c-f325-5b2e372238d1"
      },
      "execution_count": 39,
      "outputs": [
        {
          "output_type": "execute_result",
          "data": {
            "text/plain": [
              "Index(['date', 'YYYYMM', 'mmos_forecast_sarima', 'State', 'Segment',\n",
              "       'mmos_forecast_prophet', 'mmos_forecast_rf', 'mmos_forecast_xgb',\n",
              "       'mmos_forecast_ensemble', 'Med-Total_forecast_ensemble_x',\n",
              "       'Rx_forecast_ensemble_x', 'Med-Total_forecast_ensemble_y',\n",
              "       'Rx_forecast_ensemble_y', 'Med-Total_final', 'Rx_final',\n",
              "       'Med-Total_PMPM', 'Rx_PMPM'],\n",
              "      dtype='object')"
            ]
          },
          "metadata": {},
          "execution_count": 39
        }
      ]
    }
  ]
}